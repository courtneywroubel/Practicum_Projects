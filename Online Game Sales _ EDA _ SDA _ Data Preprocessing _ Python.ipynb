{
 "cells": [
  {
   "cell_type": "markdown",
   "metadata": {},
   "source": [
    "# What Patterns Determine Game Sales"
   ]
  },
  {
   "cell_type": "markdown",
   "metadata": {},
   "source": [
    "I work for the online store Ice, which sells video games all over the world. User and expert reviews, genres, platforms (e.g. Xbox or PlayStation), and historical data on game sales are available from open sources. I will identify patterns that determine whether a game succeeds or not. This will allow me to spot potential big winners and plan advertising campaigns.\n",
    "I'm usinh data from 2016, I'm planning a campaign for 2017. \n",
    "\n",
    "ESRB: The Entertainment Software Rating Board evaluates a game's content and assigns an age rating such as Teen or Mature."
   ]
  },
  {
   "cell_type": "markdown",
   "metadata": {},
   "source": [
    "## Study Information"
   ]
  },
  {
   "cell_type": "markdown",
   "metadata": {},
   "source": [
    "In this step, I load 6 libraries. Then I import the file into a dataframe. I study the columns to see what type of data I have, I look at the rows to see how the values look. I make sure I understand all categories and values. I look at the shape of the dataframe, missing values, and datatypes. Now I am ready to prep this data."
   ]
  },
  {
   "cell_type": "code",
   "execution_count": 2,
   "metadata": {},
   "outputs": [],
   "source": [
    "#Loading libraries\n",
    "import pandas as pd\n",
    "pd.options.mode.chained_assignment = None  \n",
    "import numpy as np\n",
    "import matplotlib.pyplot as plt\n",
    "from math import factorial\n",
    "from scipy import stats as st\n",
    "import seaborn as sns\n"
   ]
  },
  {
   "cell_type": "code",
   "execution_count": 3,
   "metadata": {},
   "outputs": [],
   "source": [
    "#Import data files into dataframes\n",
    "df_games = pd.read_csv('/datasets/games.csv')"
   ]
  },
  {
   "cell_type": "code",
   "execution_count": 5,
   "metadata": {},
   "outputs": [
    {
     "data": {
      "text/html": [
       "<div>\n",
       "<style scoped>\n",
       "    .dataframe tbody tr th:only-of-type {\n",
       "        vertical-align: middle;\n",
       "    }\n",
       "\n",
       "    .dataframe tbody tr th {\n",
       "        vertical-align: top;\n",
       "    }\n",
       "\n",
       "    .dataframe thead th {\n",
       "        text-align: right;\n",
       "    }\n",
       "</style>\n",
       "<table border=\"1\" class=\"dataframe\">\n",
       "  <thead>\n",
       "    <tr style=\"text-align: right;\">\n",
       "      <th></th>\n",
       "      <th>Name</th>\n",
       "      <th>Platform</th>\n",
       "      <th>Year_of_Release</th>\n",
       "      <th>Genre</th>\n",
       "      <th>NA_sales</th>\n",
       "      <th>EU_sales</th>\n",
       "      <th>JP_sales</th>\n",
       "      <th>Other_sales</th>\n",
       "      <th>Critic_Score</th>\n",
       "      <th>User_Score</th>\n",
       "      <th>Rating</th>\n",
       "    </tr>\n",
       "  </thead>\n",
       "  <tbody>\n",
       "    <tr>\n",
       "      <th>0</th>\n",
       "      <td>Wii Sports</td>\n",
       "      <td>Wii</td>\n",
       "      <td>2006.0</td>\n",
       "      <td>Sports</td>\n",
       "      <td>41.36</td>\n",
       "      <td>28.96</td>\n",
       "      <td>3.77</td>\n",
       "      <td>8.45</td>\n",
       "      <td>76.0</td>\n",
       "      <td>8</td>\n",
       "      <td>E</td>\n",
       "    </tr>\n",
       "    <tr>\n",
       "      <th>1</th>\n",
       "      <td>Super Mario Bros.</td>\n",
       "      <td>NES</td>\n",
       "      <td>1985.0</td>\n",
       "      <td>Platform</td>\n",
       "      <td>29.08</td>\n",
       "      <td>3.58</td>\n",
       "      <td>6.81</td>\n",
       "      <td>0.77</td>\n",
       "      <td>NaN</td>\n",
       "      <td>NaN</td>\n",
       "      <td>NaN</td>\n",
       "    </tr>\n",
       "    <tr>\n",
       "      <th>2</th>\n",
       "      <td>Mario Kart Wii</td>\n",
       "      <td>Wii</td>\n",
       "      <td>2008.0</td>\n",
       "      <td>Racing</td>\n",
       "      <td>15.68</td>\n",
       "      <td>12.76</td>\n",
       "      <td>3.79</td>\n",
       "      <td>3.29</td>\n",
       "      <td>82.0</td>\n",
       "      <td>8.3</td>\n",
       "      <td>E</td>\n",
       "    </tr>\n",
       "    <tr>\n",
       "      <th>3</th>\n",
       "      <td>Wii Sports Resort</td>\n",
       "      <td>Wii</td>\n",
       "      <td>2009.0</td>\n",
       "      <td>Sports</td>\n",
       "      <td>15.61</td>\n",
       "      <td>10.93</td>\n",
       "      <td>3.28</td>\n",
       "      <td>2.95</td>\n",
       "      <td>80.0</td>\n",
       "      <td>8</td>\n",
       "      <td>E</td>\n",
       "    </tr>\n",
       "    <tr>\n",
       "      <th>4</th>\n",
       "      <td>Pokemon Red/Pokemon Blue</td>\n",
       "      <td>GB</td>\n",
       "      <td>1996.0</td>\n",
       "      <td>Role-Playing</td>\n",
       "      <td>11.27</td>\n",
       "      <td>8.89</td>\n",
       "      <td>10.22</td>\n",
       "      <td>1.00</td>\n",
       "      <td>NaN</td>\n",
       "      <td>NaN</td>\n",
       "      <td>NaN</td>\n",
       "    </tr>\n",
       "  </tbody>\n",
       "</table>\n",
       "</div>"
      ],
      "text/plain": [
       "                       Name Platform  Year_of_Release         Genre  NA_sales  \\\n",
       "0                Wii Sports      Wii           2006.0        Sports     41.36   \n",
       "1         Super Mario Bros.      NES           1985.0      Platform     29.08   \n",
       "2            Mario Kart Wii      Wii           2008.0        Racing     15.68   \n",
       "3         Wii Sports Resort      Wii           2009.0        Sports     15.61   \n",
       "4  Pokemon Red/Pokemon Blue       GB           1996.0  Role-Playing     11.27   \n",
       "\n",
       "   EU_sales  JP_sales  Other_sales  Critic_Score User_Score Rating  \n",
       "0     28.96      3.77         8.45          76.0          8      E  \n",
       "1      3.58      6.81         0.77           NaN        NaN    NaN  \n",
       "2     12.76      3.79         3.29          82.0        8.3      E  \n",
       "3     10.93      3.28         2.95          80.0          8      E  \n",
       "4      8.89     10.22         1.00           NaN        NaN    NaN  "
      ]
     },
     "execution_count": 5,
     "metadata": {},
     "output_type": "execute_result"
    }
   ],
   "source": [
    "#Study \n",
    "df_games.head()"
   ]
  },
  {
   "cell_type": "code",
   "execution_count": 4,
   "metadata": {},
   "outputs": [
    {
     "data": {
      "text/plain": [
       "Name                  2\n",
       "Platform              0\n",
       "Year_of_Release     269\n",
       "Genre                 2\n",
       "NA_sales              0\n",
       "EU_sales              0\n",
       "JP_sales              0\n",
       "Other_sales           0\n",
       "Critic_Score       8578\n",
       "User_Score         6701\n",
       "Rating             6766\n",
       "dtype: int64"
      ]
     },
     "execution_count": 4,
     "metadata": {},
     "output_type": "execute_result"
    }
   ],
   "source": [
    "#any missing values\n",
    "df_games.isnull().sum()"
   ]
  },
  {
   "cell_type": "code",
   "execution_count": 5,
   "metadata": {},
   "outputs": [
    {
     "name": "stdout",
     "output_type": "stream",
     "text": [
      "<class 'pandas.core.frame.DataFrame'>\n",
      "RangeIndex: 16715 entries, 0 to 16714\n",
      "Data columns (total 11 columns):\n",
      " #   Column           Non-Null Count  Dtype  \n",
      "---  ------           --------------  -----  \n",
      " 0   Name             16713 non-null  object \n",
      " 1   Platform         16715 non-null  object \n",
      " 2   Year_of_Release  16446 non-null  float64\n",
      " 3   Genre            16713 non-null  object \n",
      " 4   NA_sales         16715 non-null  float64\n",
      " 5   EU_sales         16715 non-null  float64\n",
      " 6   JP_sales         16715 non-null  float64\n",
      " 7   Other_sales      16715 non-null  float64\n",
      " 8   Critic_Score     8137 non-null   float64\n",
      " 9   User_Score       10014 non-null  object \n",
      " 10  Rating           9949 non-null   object \n",
      "dtypes: float64(6), object(5)\n",
      "memory usage: 1.4+ MB\n"
     ]
    }
   ],
   "source": [
    "#check data types\n",
    "df_games.info()"
   ]
  },
  {
   "cell_type": "markdown",
   "metadata": {},
   "source": [
    "[I notice the size of the dataframe: 16,715 rows and 11 columns.] \n",
    "\n",
    "[I notice missing values for: name(2), year_of_release(269), genre(2), critic_score(8578), user_score(6701), rating(6766). The more the missing values in a column, the less accuracte my analysis is. With the name and genre I can delete the rows with missing values by showing a low percentage of missing values, but the others will require more work.]\n"
   ]
  },
  {
   "cell_type": "markdown",
   "metadata": {},
   "source": [
    "## Prepare Data "
   ]
  },
  {
   "cell_type": "markdown",
   "metadata": {},
   "source": [
    "To prepare the data, I need to make the columns in lowercase. Lower case letters are easier to code, it requires less keys to be pressed. \n",
    "\n",
    "Next I filled missing values. For year_of_release, name, and genre: I dropped them because there are not that many missing. For critic_score I filled missing values with 0 , becaues I realize that filling them with anything else will effect my analysis. For rating I filled missing values with 'unknown', because you can't fill the misisng value of the rating of a game with something approximated. For user_score, I first had to change tbd to nan values, then replace with '0'. I use unknown for an object datatype, I use 0 for an int datatype.\n",
    "\n",
    "After NaN values are replaced, I can change datatypes. I changed year_of_release, critic_score, and user_score. They all need to be int because they are all numbers, but they don't need to have decimals for calculations, and it's better looking to have deimcals gone."
   ]
  },
  {
   "cell_type": "code",
   "execution_count": 6,
   "metadata": {
    "scrolled": true
   },
   "outputs": [
    {
     "data": {
      "text/html": [
       "<div>\n",
       "<style scoped>\n",
       "    .dataframe tbody tr th:only-of-type {\n",
       "        vertical-align: middle;\n",
       "    }\n",
       "\n",
       "    .dataframe tbody tr th {\n",
       "        vertical-align: top;\n",
       "    }\n",
       "\n",
       "    .dataframe thead th {\n",
       "        text-align: right;\n",
       "    }\n",
       "</style>\n",
       "<table border=\"1\" class=\"dataframe\">\n",
       "  <thead>\n",
       "    <tr style=\"text-align: right;\">\n",
       "      <th></th>\n",
       "      <th>name</th>\n",
       "      <th>platform</th>\n",
       "      <th>year_of_release</th>\n",
       "      <th>genre</th>\n",
       "      <th>na_sales</th>\n",
       "      <th>eu_sales</th>\n",
       "      <th>jp_sales</th>\n",
       "      <th>other_sales</th>\n",
       "      <th>critic_score</th>\n",
       "      <th>user_score</th>\n",
       "      <th>rating</th>\n",
       "    </tr>\n",
       "  </thead>\n",
       "  <tbody>\n",
       "    <tr>\n",
       "      <th>0</th>\n",
       "      <td>Wii Sports</td>\n",
       "      <td>Wii</td>\n",
       "      <td>2006.0</td>\n",
       "      <td>Sports</td>\n",
       "      <td>41.36</td>\n",
       "      <td>28.96</td>\n",
       "      <td>3.77</td>\n",
       "      <td>8.45</td>\n",
       "      <td>76.0</td>\n",
       "      <td>8</td>\n",
       "      <td>E</td>\n",
       "    </tr>\n",
       "    <tr>\n",
       "      <th>1</th>\n",
       "      <td>Super Mario Bros.</td>\n",
       "      <td>NES</td>\n",
       "      <td>1985.0</td>\n",
       "      <td>Platform</td>\n",
       "      <td>29.08</td>\n",
       "      <td>3.58</td>\n",
       "      <td>6.81</td>\n",
       "      <td>0.77</td>\n",
       "      <td>NaN</td>\n",
       "      <td>NaN</td>\n",
       "      <td>NaN</td>\n",
       "    </tr>\n",
       "    <tr>\n",
       "      <th>2</th>\n",
       "      <td>Mario Kart Wii</td>\n",
       "      <td>Wii</td>\n",
       "      <td>2008.0</td>\n",
       "      <td>Racing</td>\n",
       "      <td>15.68</td>\n",
       "      <td>12.76</td>\n",
       "      <td>3.79</td>\n",
       "      <td>3.29</td>\n",
       "      <td>82.0</td>\n",
       "      <td>8.3</td>\n",
       "      <td>E</td>\n",
       "    </tr>\n",
       "    <tr>\n",
       "      <th>3</th>\n",
       "      <td>Wii Sports Resort</td>\n",
       "      <td>Wii</td>\n",
       "      <td>2009.0</td>\n",
       "      <td>Sports</td>\n",
       "      <td>15.61</td>\n",
       "      <td>10.93</td>\n",
       "      <td>3.28</td>\n",
       "      <td>2.95</td>\n",
       "      <td>80.0</td>\n",
       "      <td>8</td>\n",
       "      <td>E</td>\n",
       "    </tr>\n",
       "    <tr>\n",
       "      <th>4</th>\n",
       "      <td>Pokemon Red/Pokemon Blue</td>\n",
       "      <td>GB</td>\n",
       "      <td>1996.0</td>\n",
       "      <td>Role-Playing</td>\n",
       "      <td>11.27</td>\n",
       "      <td>8.89</td>\n",
       "      <td>10.22</td>\n",
       "      <td>1.00</td>\n",
       "      <td>NaN</td>\n",
       "      <td>NaN</td>\n",
       "      <td>NaN</td>\n",
       "    </tr>\n",
       "    <tr>\n",
       "      <th>...</th>\n",
       "      <td>...</td>\n",
       "      <td>...</td>\n",
       "      <td>...</td>\n",
       "      <td>...</td>\n",
       "      <td>...</td>\n",
       "      <td>...</td>\n",
       "      <td>...</td>\n",
       "      <td>...</td>\n",
       "      <td>...</td>\n",
       "      <td>...</td>\n",
       "      <td>...</td>\n",
       "    </tr>\n",
       "    <tr>\n",
       "      <th>16710</th>\n",
       "      <td>Samurai Warriors: Sanada Maru</td>\n",
       "      <td>PS3</td>\n",
       "      <td>2016.0</td>\n",
       "      <td>Action</td>\n",
       "      <td>0.00</td>\n",
       "      <td>0.00</td>\n",
       "      <td>0.01</td>\n",
       "      <td>0.00</td>\n",
       "      <td>NaN</td>\n",
       "      <td>NaN</td>\n",
       "      <td>NaN</td>\n",
       "    </tr>\n",
       "    <tr>\n",
       "      <th>16711</th>\n",
       "      <td>LMA Manager 2007</td>\n",
       "      <td>X360</td>\n",
       "      <td>2006.0</td>\n",
       "      <td>Sports</td>\n",
       "      <td>0.00</td>\n",
       "      <td>0.01</td>\n",
       "      <td>0.00</td>\n",
       "      <td>0.00</td>\n",
       "      <td>NaN</td>\n",
       "      <td>NaN</td>\n",
       "      <td>NaN</td>\n",
       "    </tr>\n",
       "    <tr>\n",
       "      <th>16712</th>\n",
       "      <td>Haitaka no Psychedelica</td>\n",
       "      <td>PSV</td>\n",
       "      <td>2016.0</td>\n",
       "      <td>Adventure</td>\n",
       "      <td>0.00</td>\n",
       "      <td>0.00</td>\n",
       "      <td>0.01</td>\n",
       "      <td>0.00</td>\n",
       "      <td>NaN</td>\n",
       "      <td>NaN</td>\n",
       "      <td>NaN</td>\n",
       "    </tr>\n",
       "    <tr>\n",
       "      <th>16713</th>\n",
       "      <td>Spirits &amp; Spells</td>\n",
       "      <td>GBA</td>\n",
       "      <td>2003.0</td>\n",
       "      <td>Platform</td>\n",
       "      <td>0.01</td>\n",
       "      <td>0.00</td>\n",
       "      <td>0.00</td>\n",
       "      <td>0.00</td>\n",
       "      <td>NaN</td>\n",
       "      <td>NaN</td>\n",
       "      <td>NaN</td>\n",
       "    </tr>\n",
       "    <tr>\n",
       "      <th>16714</th>\n",
       "      <td>Winning Post 8 2016</td>\n",
       "      <td>PSV</td>\n",
       "      <td>2016.0</td>\n",
       "      <td>Simulation</td>\n",
       "      <td>0.00</td>\n",
       "      <td>0.00</td>\n",
       "      <td>0.01</td>\n",
       "      <td>0.00</td>\n",
       "      <td>NaN</td>\n",
       "      <td>NaN</td>\n",
       "      <td>NaN</td>\n",
       "    </tr>\n",
       "  </tbody>\n",
       "</table>\n",
       "<p>16715 rows × 11 columns</p>\n",
       "</div>"
      ],
      "text/plain": [
       "                                name platform  year_of_release         genre  \\\n",
       "0                         Wii Sports      Wii           2006.0        Sports   \n",
       "1                  Super Mario Bros.      NES           1985.0      Platform   \n",
       "2                     Mario Kart Wii      Wii           2008.0        Racing   \n",
       "3                  Wii Sports Resort      Wii           2009.0        Sports   \n",
       "4           Pokemon Red/Pokemon Blue       GB           1996.0  Role-Playing   \n",
       "...                              ...      ...              ...           ...   \n",
       "16710  Samurai Warriors: Sanada Maru      PS3           2016.0        Action   \n",
       "16711               LMA Manager 2007     X360           2006.0        Sports   \n",
       "16712        Haitaka no Psychedelica      PSV           2016.0     Adventure   \n",
       "16713               Spirits & Spells      GBA           2003.0      Platform   \n",
       "16714            Winning Post 8 2016      PSV           2016.0    Simulation   \n",
       "\n",
       "       na_sales  eu_sales  jp_sales  other_sales  critic_score user_score  \\\n",
       "0         41.36     28.96      3.77         8.45          76.0          8   \n",
       "1         29.08      3.58      6.81         0.77           NaN        NaN   \n",
       "2         15.68     12.76      3.79         3.29          82.0        8.3   \n",
       "3         15.61     10.93      3.28         2.95          80.0          8   \n",
       "4         11.27      8.89     10.22         1.00           NaN        NaN   \n",
       "...         ...       ...       ...          ...           ...        ...   \n",
       "16710      0.00      0.00      0.01         0.00           NaN        NaN   \n",
       "16711      0.00      0.01      0.00         0.00           NaN        NaN   \n",
       "16712      0.00      0.00      0.01         0.00           NaN        NaN   \n",
       "16713      0.01      0.00      0.00         0.00           NaN        NaN   \n",
       "16714      0.00      0.00      0.01         0.00           NaN        NaN   \n",
       "\n",
       "      rating  \n",
       "0          E  \n",
       "1        NaN  \n",
       "2          E  \n",
       "3          E  \n",
       "4        NaN  \n",
       "...      ...  \n",
       "16710    NaN  \n",
       "16711    NaN  \n",
       "16712    NaN  \n",
       "16713    NaN  \n",
       "16714    NaN  \n",
       "\n",
       "[16715 rows x 11 columns]"
      ]
     },
     "execution_count": 6,
     "metadata": {},
     "output_type": "execute_result"
    }
   ],
   "source": [
    "#Replace the column names (make them lowercase)\n",
    "df_games.columns = [x.lower() for x in df_games.columns]\n",
    "df_games"
   ]
  },
  {
   "cell_type": "markdown",
   "metadata": {},
   "source": [
    "### Missing Values "
   ]
  },
  {
   "cell_type": "markdown",
   "metadata": {},
   "source": [
    "Why do you think the values are missing? Give possible reasons:\n",
    "\n",
    "I notice misisng values for critic_score, user_score, rating, and year of release. Logically, I would assume the game wasn't released yet. Or the game was released in 2016 (and the data isn't ready to be analyzed). It takes some time after a game is released for users and critics to experience the game before they provide a rating. "
   ]
  },
  {
   "cell_type": "markdown",
   "metadata": {},
   "source": [
    "#### Year, Name, Genre"
   ]
  },
  {
   "cell_type": "code",
   "execution_count": 7,
   "metadata": {},
   "outputs": [],
   "source": [
    "#drop missing values for ['Year_of_Release', 'Name', 'Genre'] only\n",
    "df_games = df_games.dropna(subset=['year_of_release', 'name', 'genre'])"
   ]
  },
  {
   "cell_type": "code",
   "execution_count": 8,
   "metadata": {
    "scrolled": true
   },
   "outputs": [
    {
     "data": {
      "text/plain": [
       "name                  0\n",
       "platform              0\n",
       "year_of_release       0\n",
       "genre                 0\n",
       "na_sales              0\n",
       "eu_sales              0\n",
       "jp_sales              0\n",
       "other_sales           0\n",
       "critic_score       8461\n",
       "user_score         6605\n",
       "rating             6676\n",
       "dtype: int64"
      ]
     },
     "execution_count": 8,
     "metadata": {},
     "output_type": "execute_result"
    }
   ],
   "source": [
    "#check work\n",
    "df_games.isnull().sum()"
   ]
  },
  {
   "cell_type": "markdown",
   "metadata": {},
   "source": [
    "#### Critic Score "
   ]
  },
  {
   "cell_type": "code",
   "execution_count": 9,
   "metadata": {},
   "outputs": [
    {
     "name": "stdout",
     "output_type": "stream",
     "text": [
      "8461\n",
      "51.453417659936754\n",
      "8461 rows, roughly 51.4% of values, are missing\n"
     ]
    }
   ],
   "source": [
    "#how many missing values\n",
    "print(df_games['critic_score'].isnull().sum())\n",
    "print(8461/16444 *100)\n",
    "print(\"8461 rows, roughly 51.4% of values, are missing\")"
   ]
  },
  {
   "cell_type": "code",
   "execution_count": 10,
   "metadata": {},
   "outputs": [],
   "source": [
    "#fill missing values with 0\n",
    "df_games['critic_score'] = df_games['critic_score'].fillna('0')"
   ]
  },
  {
   "cell_type": "code",
   "execution_count": 11,
   "metadata": {},
   "outputs": [
    {
     "data": {
      "text/plain": [
       "(name                  0\n",
       " platform              0\n",
       " year_of_release       0\n",
       " genre                 0\n",
       " na_sales              0\n",
       " eu_sales              0\n",
       " jp_sales              0\n",
       " other_sales           0\n",
       " critic_score          0\n",
       " user_score         6605\n",
       " rating             6676\n",
       " dtype: int64,\n",
       " (16444, 11))"
      ]
     },
     "execution_count": 11,
     "metadata": {},
     "output_type": "execute_result"
    }
   ],
   "source": [
    "#check\n",
    "df_games.isnull().sum(), df_games.shape"
   ]
  },
  {
   "cell_type": "markdown",
   "metadata": {},
   "source": [
    "#### User Score"
   ]
  },
  {
   "cell_type": "markdown",
   "metadata": {},
   "source": [
    "Before I repeat the process I need to deal with tbd values. This is a string value, and that messes up everything so I will fix it. I converted tbd to nan values and converted the data type so that I'm able to see fill missing values"
   ]
  },
  {
   "cell_type": "code",
   "execution_count": 12,
   "metadata": {},
   "outputs": [
    {
     "name": "stdout",
     "output_type": "stream",
     "text": [
      "6605\n",
      "40.166626125030405\n",
      "6605 rows, roughly 40.16% of values, are missing\n"
     ]
    }
   ],
   "source": [
    "#how many missing?\n",
    "print(df_games['user_score'].isnull().sum())\n",
    "print( 6605/16444 *100)\n",
    "print(\"6605 rows, roughly 40.16% of values, are missing\")"
   ]
  },
  {
   "cell_type": "code",
   "execution_count": 13,
   "metadata": {},
   "outputs": [
    {
     "data": {
      "text/plain": [
       "array(['8', nan, '8.3', '8.5', '6.6', '8.4', '8.6', '7.7', '6.3', '7.4',\n",
       "       '8.2', '9', '7.9', '8.1', '8.7', '7.1', '3.4', '5.3', '4.8', '3.2',\n",
       "       '8.9', '6.4', '7.8', '7.5', '2.6', '7.2', '9.2', '7', '7.3', '4.3',\n",
       "       '7.6', '5.7', '5', '9.1', '6.5', 'tbd', '8.8', '6.9', '9.4', '6.8',\n",
       "       '6.1', '6.7', '5.4', '4', '4.9', '4.5', '9.3', '6.2', '4.2', '6',\n",
       "       '3.7', '4.1', '5.8', '5.6', '5.5', '4.4', '4.6', '5.9', '3.9',\n",
       "       '3.1', '2.9', '5.2', '3.3', '4.7', '5.1', '3.5', '2.5', '1.9', '3',\n",
       "       '2.7', '2.2', '2', '9.5', '2.1', '3.6', '2.8', '1.8', '3.8', '0',\n",
       "       '1.6', '9.6', '2.4', '1.7', '1.1', '0.3', '1.5', '0.7', '1.2',\n",
       "       '2.3', '0.5', '1.3', '0.2', '0.6', '1.4', '0.9', '1', '9.7'],\n",
       "      dtype=object)"
      ]
     },
     "execution_count": 13,
     "metadata": {},
     "output_type": "execute_result"
    }
   ],
   "source": [
    "#check data type and unique values\n",
    "df_games['user_score'].unique()"
   ]
  },
  {
   "cell_type": "code",
   "execution_count": 14,
   "metadata": {},
   "outputs": [],
   "source": [
    "#convert tbd to nan and change dtype\n",
    "df_games['user_score'] = df_games['user_score'].apply(lambda x: float(np.nan) \\\n",
    "                                                      if x=='tbd' else float(x))"
   ]
  },
  {
   "cell_type": "code",
   "execution_count": 15,
   "metadata": {},
   "outputs": [],
   "source": [
    "#fill missing values with 0\n",
    "df_games['user_score'] = df_games['user_score'].fillna('0')"
   ]
  },
  {
   "cell_type": "markdown",
   "metadata": {},
   "source": [
    "#### Rating "
   ]
  },
  {
   "cell_type": "markdown",
   "metadata": {},
   "source": [
    "I fill the missing values with unknown value because this value contains information that defines specific standards. It needs to be accurate or left unknown to not skew data"
   ]
  },
  {
   "cell_type": "code",
   "execution_count": 16,
   "metadata": {},
   "outputs": [
    {
     "data": {
      "text/plain": [
       "array(['E', nan, 'M', 'T', 'E10+', 'K-A', 'AO', 'EC', 'RP'], dtype=object)"
      ]
     },
     "execution_count": 16,
     "metadata": {},
     "output_type": "execute_result"
    }
   ],
   "source": [
    "#check data type and unique values\n",
    "df_games['rating'].unique()"
   ]
  },
  {
   "cell_type": "code",
   "execution_count": 17,
   "metadata": {},
   "outputs": [],
   "source": [
    "# df_games.groupby(['platform', 'rating']).count()\n",
    "#df_games['rating'].fillna(df_games.groupby('name')['platform'].transform('first'), inplace=True)\n",
    "\n",
    "df_games['rating'] = df_games['rating'].fillna('unknown')"
   ]
  },
  {
   "cell_type": "code",
   "execution_count": 18,
   "metadata": {},
   "outputs": [
    {
     "data": {
      "text/plain": [
       "name               0\n",
       "platform           0\n",
       "year_of_release    0\n",
       "genre              0\n",
       "na_sales           0\n",
       "eu_sales           0\n",
       "jp_sales           0\n",
       "other_sales        0\n",
       "critic_score       0\n",
       "user_score         0\n",
       "rating             0\n",
       "dtype: int64"
      ]
     },
     "execution_count": 18,
     "metadata": {},
     "output_type": "execute_result"
    }
   ],
   "source": [
    "#check work\n",
    "df_games.isnull().sum()"
   ]
  },
  {
   "cell_type": "markdown",
   "metadata": {},
   "source": [
    "### Change Data Type"
   ]
  },
  {
   "cell_type": "markdown",
   "metadata": {},
   "source": [
    "[Describe the columns where the data types have been changed and why:\n",
    "\n",
    "\n",
    "1. user_score to int: The scale is 1-10, no decimal needed\n",
    "2. critic_score to int: The scale is 1-100, no demical needed \n",
    "3. year_of_release to int: the format for years do not have decimal "
   ]
  },
  {
   "cell_type": "code",
   "execution_count": 19,
   "metadata": {},
   "outputs": [],
   "source": [
    "#change data type\n",
    "df_games['user_score'] = df_games['user_score'].astype(int)"
   ]
  },
  {
   "cell_type": "code",
   "execution_count": 20,
   "metadata": {},
   "outputs": [],
   "source": [
    "#change data type\n",
    "df_games['critic_score'] = df_games['critic_score'].astype(int)"
   ]
  },
  {
   "cell_type": "code",
   "execution_count": 21,
   "metadata": {},
   "outputs": [],
   "source": [
    "#change data type\n",
    "df_games['year_of_release'] = df_games['year_of_release'].astype(int)"
   ]
  },
  {
   "cell_type": "code",
   "execution_count": 22,
   "metadata": {
    "scrolled": true
   },
   "outputs": [
    {
     "data": {
      "text/html": [
       "<div>\n",
       "<style scoped>\n",
       "    .dataframe tbody tr th:only-of-type {\n",
       "        vertical-align: middle;\n",
       "    }\n",
       "\n",
       "    .dataframe tbody tr th {\n",
       "        vertical-align: top;\n",
       "    }\n",
       "\n",
       "    .dataframe thead th {\n",
       "        text-align: right;\n",
       "    }\n",
       "</style>\n",
       "<table border=\"1\" class=\"dataframe\">\n",
       "  <thead>\n",
       "    <tr style=\"text-align: right;\">\n",
       "      <th></th>\n",
       "      <th>name</th>\n",
       "      <th>platform</th>\n",
       "      <th>year_of_release</th>\n",
       "      <th>genre</th>\n",
       "      <th>na_sales</th>\n",
       "      <th>eu_sales</th>\n",
       "      <th>jp_sales</th>\n",
       "      <th>other_sales</th>\n",
       "      <th>critic_score</th>\n",
       "      <th>user_score</th>\n",
       "      <th>rating</th>\n",
       "    </tr>\n",
       "  </thead>\n",
       "  <tbody>\n",
       "    <tr>\n",
       "      <th>0</th>\n",
       "      <td>Wii Sports</td>\n",
       "      <td>Wii</td>\n",
       "      <td>2006</td>\n",
       "      <td>Sports</td>\n",
       "      <td>41.36</td>\n",
       "      <td>28.96</td>\n",
       "      <td>3.77</td>\n",
       "      <td>8.45</td>\n",
       "      <td>76</td>\n",
       "      <td>8</td>\n",
       "      <td>E</td>\n",
       "    </tr>\n",
       "    <tr>\n",
       "      <th>1</th>\n",
       "      <td>Super Mario Bros.</td>\n",
       "      <td>NES</td>\n",
       "      <td>1985</td>\n",
       "      <td>Platform</td>\n",
       "      <td>29.08</td>\n",
       "      <td>3.58</td>\n",
       "      <td>6.81</td>\n",
       "      <td>0.77</td>\n",
       "      <td>0</td>\n",
       "      <td>0</td>\n",
       "      <td>unknown</td>\n",
       "    </tr>\n",
       "    <tr>\n",
       "      <th>2</th>\n",
       "      <td>Mario Kart Wii</td>\n",
       "      <td>Wii</td>\n",
       "      <td>2008</td>\n",
       "      <td>Racing</td>\n",
       "      <td>15.68</td>\n",
       "      <td>12.76</td>\n",
       "      <td>3.79</td>\n",
       "      <td>3.29</td>\n",
       "      <td>82</td>\n",
       "      <td>8</td>\n",
       "      <td>E</td>\n",
       "    </tr>\n",
       "    <tr>\n",
       "      <th>3</th>\n",
       "      <td>Wii Sports Resort</td>\n",
       "      <td>Wii</td>\n",
       "      <td>2009</td>\n",
       "      <td>Sports</td>\n",
       "      <td>15.61</td>\n",
       "      <td>10.93</td>\n",
       "      <td>3.28</td>\n",
       "      <td>2.95</td>\n",
       "      <td>80</td>\n",
       "      <td>8</td>\n",
       "      <td>E</td>\n",
       "    </tr>\n",
       "    <tr>\n",
       "      <th>4</th>\n",
       "      <td>Pokemon Red/Pokemon Blue</td>\n",
       "      <td>GB</td>\n",
       "      <td>1996</td>\n",
       "      <td>Role-Playing</td>\n",
       "      <td>11.27</td>\n",
       "      <td>8.89</td>\n",
       "      <td>10.22</td>\n",
       "      <td>1.00</td>\n",
       "      <td>0</td>\n",
       "      <td>0</td>\n",
       "      <td>unknown</td>\n",
       "    </tr>\n",
       "    <tr>\n",
       "      <th>...</th>\n",
       "      <td>...</td>\n",
       "      <td>...</td>\n",
       "      <td>...</td>\n",
       "      <td>...</td>\n",
       "      <td>...</td>\n",
       "      <td>...</td>\n",
       "      <td>...</td>\n",
       "      <td>...</td>\n",
       "      <td>...</td>\n",
       "      <td>...</td>\n",
       "      <td>...</td>\n",
       "    </tr>\n",
       "    <tr>\n",
       "      <th>16710</th>\n",
       "      <td>Samurai Warriors: Sanada Maru</td>\n",
       "      <td>PS3</td>\n",
       "      <td>2016</td>\n",
       "      <td>Action</td>\n",
       "      <td>0.00</td>\n",
       "      <td>0.00</td>\n",
       "      <td>0.01</td>\n",
       "      <td>0.00</td>\n",
       "      <td>0</td>\n",
       "      <td>0</td>\n",
       "      <td>unknown</td>\n",
       "    </tr>\n",
       "    <tr>\n",
       "      <th>16711</th>\n",
       "      <td>LMA Manager 2007</td>\n",
       "      <td>X360</td>\n",
       "      <td>2006</td>\n",
       "      <td>Sports</td>\n",
       "      <td>0.00</td>\n",
       "      <td>0.01</td>\n",
       "      <td>0.00</td>\n",
       "      <td>0.00</td>\n",
       "      <td>0</td>\n",
       "      <td>0</td>\n",
       "      <td>unknown</td>\n",
       "    </tr>\n",
       "    <tr>\n",
       "      <th>16712</th>\n",
       "      <td>Haitaka no Psychedelica</td>\n",
       "      <td>PSV</td>\n",
       "      <td>2016</td>\n",
       "      <td>Adventure</td>\n",
       "      <td>0.00</td>\n",
       "      <td>0.00</td>\n",
       "      <td>0.01</td>\n",
       "      <td>0.00</td>\n",
       "      <td>0</td>\n",
       "      <td>0</td>\n",
       "      <td>unknown</td>\n",
       "    </tr>\n",
       "    <tr>\n",
       "      <th>16713</th>\n",
       "      <td>Spirits &amp; Spells</td>\n",
       "      <td>GBA</td>\n",
       "      <td>2003</td>\n",
       "      <td>Platform</td>\n",
       "      <td>0.01</td>\n",
       "      <td>0.00</td>\n",
       "      <td>0.00</td>\n",
       "      <td>0.00</td>\n",
       "      <td>0</td>\n",
       "      <td>0</td>\n",
       "      <td>unknown</td>\n",
       "    </tr>\n",
       "    <tr>\n",
       "      <th>16714</th>\n",
       "      <td>Winning Post 8 2016</td>\n",
       "      <td>PSV</td>\n",
       "      <td>2016</td>\n",
       "      <td>Simulation</td>\n",
       "      <td>0.00</td>\n",
       "      <td>0.00</td>\n",
       "      <td>0.01</td>\n",
       "      <td>0.00</td>\n",
       "      <td>0</td>\n",
       "      <td>0</td>\n",
       "      <td>unknown</td>\n",
       "    </tr>\n",
       "  </tbody>\n",
       "</table>\n",
       "<p>16444 rows × 11 columns</p>\n",
       "</div>"
      ],
      "text/plain": [
       "                                name platform  year_of_release         genre  \\\n",
       "0                         Wii Sports      Wii             2006        Sports   \n",
       "1                  Super Mario Bros.      NES             1985      Platform   \n",
       "2                     Mario Kart Wii      Wii             2008        Racing   \n",
       "3                  Wii Sports Resort      Wii             2009        Sports   \n",
       "4           Pokemon Red/Pokemon Blue       GB             1996  Role-Playing   \n",
       "...                              ...      ...              ...           ...   \n",
       "16710  Samurai Warriors: Sanada Maru      PS3             2016        Action   \n",
       "16711               LMA Manager 2007     X360             2006        Sports   \n",
       "16712        Haitaka no Psychedelica      PSV             2016     Adventure   \n",
       "16713               Spirits & Spells      GBA             2003      Platform   \n",
       "16714            Winning Post 8 2016      PSV             2016    Simulation   \n",
       "\n",
       "       na_sales  eu_sales  jp_sales  other_sales  critic_score  user_score  \\\n",
       "0         41.36     28.96      3.77         8.45            76           8   \n",
       "1         29.08      3.58      6.81         0.77             0           0   \n",
       "2         15.68     12.76      3.79         3.29            82           8   \n",
       "3         15.61     10.93      3.28         2.95            80           8   \n",
       "4         11.27      8.89     10.22         1.00             0           0   \n",
       "...         ...       ...       ...          ...           ...         ...   \n",
       "16710      0.00      0.00      0.01         0.00             0           0   \n",
       "16711      0.00      0.01      0.00         0.00             0           0   \n",
       "16712      0.00      0.00      0.01         0.00             0           0   \n",
       "16713      0.01      0.00      0.00         0.00             0           0   \n",
       "16714      0.00      0.00      0.01         0.00             0           0   \n",
       "\n",
       "        rating  \n",
       "0            E  \n",
       "1      unknown  \n",
       "2            E  \n",
       "3            E  \n",
       "4      unknown  \n",
       "...        ...  \n",
       "16710  unknown  \n",
       "16711  unknown  \n",
       "16712  unknown  \n",
       "16713  unknown  \n",
       "16714  unknown  \n",
       "\n",
       "[16444 rows x 11 columns]"
      ]
     },
     "execution_count": 22,
     "metadata": {},
     "output_type": "execute_result"
    }
   ],
   "source": [
    "#check columns, values\n",
    "df_games"
   ]
  },
  {
   "cell_type": "markdown",
   "metadata": {},
   "source": [
    "## Analyze  "
   ]
  },
  {
   "cell_type": "markdown",
   "metadata": {},
   "source": [
    "For the analyze portion, I wanna know what factors might affect the revenue. I look at the number of games sold per year. I'm looking for year's that have the most number of games. I determine a time period that is significant, and eliminate data that is not useful. Then I look at the total sales per platform, to see what platforms have the highest revenue. Then I look at average critic and user scores  of each platform to determine if the platform with the highest revenue is correlated with the highest rated platform. Then I look at which genre has the most revenue. "
   ]
  },
  {
   "cell_type": "markdown",
   "metadata": {},
   "source": [
    "### Number of Games per Year "
   ]
  },
  {
   "cell_type": "markdown",
   "metadata": {},
   "source": [
    "Look at how many games were released in different years. Is the data for every period significant?\n",
    "\n",
    "Not every period is significant. I am looking for what makes a game profitable, therefore I need to focus on years that make the highest revenue. I can make the asusmption that more games sold in a year will result in that year having a higher total revenue. This means I want to focus on years that have the highest number of games sold. \n",
    "\n",
    "Determine what period you should take data for. I will take data after 1995, because it has the most games released. I notice when I drop the years before 1995: it's better to analyze. "
   ]
  },
  {
   "cell_type": "code",
   "execution_count": 23,
   "metadata": {},
   "outputs": [],
   "source": [
    " #remove irrelveant years\n",
    "df_games = df_games.loc[df_games['year_of_release'] > 1995]"
   ]
  },
  {
   "cell_type": "code",
   "execution_count": 24,
   "metadata": {},
   "outputs": [
    {
     "data": {
      "text/html": [
       "<div>\n",
       "<style scoped>\n",
       "    .dataframe tbody tr th:only-of-type {\n",
       "        vertical-align: middle;\n",
       "    }\n",
       "\n",
       "    .dataframe tbody tr th {\n",
       "        vertical-align: top;\n",
       "    }\n",
       "\n",
       "    .dataframe thead th {\n",
       "        text-align: right;\n",
       "    }\n",
       "</style>\n",
       "<table border=\"1\" class=\"dataframe\">\n",
       "  <thead>\n",
       "    <tr style=\"text-align: right;\">\n",
       "      <th></th>\n",
       "      <th>year_of_release</th>\n",
       "      <th>game_count</th>\n",
       "    </tr>\n",
       "  </thead>\n",
       "  <tbody>\n",
       "    <tr>\n",
       "      <th>0</th>\n",
       "      <td>1996</td>\n",
       "      <td>263</td>\n",
       "    </tr>\n",
       "    <tr>\n",
       "      <th>1</th>\n",
       "      <td>1997</td>\n",
       "      <td>289</td>\n",
       "    </tr>\n",
       "    <tr>\n",
       "      <th>2</th>\n",
       "      <td>1998</td>\n",
       "      <td>379</td>\n",
       "    </tr>\n",
       "    <tr>\n",
       "      <th>3</th>\n",
       "      <td>1999</td>\n",
       "      <td>338</td>\n",
       "    </tr>\n",
       "    <tr>\n",
       "      <th>4</th>\n",
       "      <td>2000</td>\n",
       "      <td>350</td>\n",
       "    </tr>\n",
       "    <tr>\n",
       "      <th>5</th>\n",
       "      <td>2001</td>\n",
       "      <td>482</td>\n",
       "    </tr>\n",
       "    <tr>\n",
       "      <th>6</th>\n",
       "      <td>2002</td>\n",
       "      <td>829</td>\n",
       "    </tr>\n",
       "    <tr>\n",
       "      <th>7</th>\n",
       "      <td>2003</td>\n",
       "      <td>775</td>\n",
       "    </tr>\n",
       "    <tr>\n",
       "      <th>8</th>\n",
       "      <td>2004</td>\n",
       "      <td>762</td>\n",
       "    </tr>\n",
       "    <tr>\n",
       "      <th>9</th>\n",
       "      <td>2005</td>\n",
       "      <td>939</td>\n",
       "    </tr>\n",
       "    <tr>\n",
       "      <th>10</th>\n",
       "      <td>2006</td>\n",
       "      <td>1006</td>\n",
       "    </tr>\n",
       "    <tr>\n",
       "      <th>11</th>\n",
       "      <td>2007</td>\n",
       "      <td>1197</td>\n",
       "    </tr>\n",
       "    <tr>\n",
       "      <th>12</th>\n",
       "      <td>2008</td>\n",
       "      <td>1427</td>\n",
       "    </tr>\n",
       "    <tr>\n",
       "      <th>13</th>\n",
       "      <td>2009</td>\n",
       "      <td>1426</td>\n",
       "    </tr>\n",
       "    <tr>\n",
       "      <th>14</th>\n",
       "      <td>2010</td>\n",
       "      <td>1255</td>\n",
       "    </tr>\n",
       "    <tr>\n",
       "      <th>15</th>\n",
       "      <td>2011</td>\n",
       "      <td>1136</td>\n",
       "    </tr>\n",
       "    <tr>\n",
       "      <th>16</th>\n",
       "      <td>2012</td>\n",
       "      <td>653</td>\n",
       "    </tr>\n",
       "    <tr>\n",
       "      <th>17</th>\n",
       "      <td>2013</td>\n",
       "      <td>544</td>\n",
       "    </tr>\n",
       "    <tr>\n",
       "      <th>18</th>\n",
       "      <td>2014</td>\n",
       "      <td>581</td>\n",
       "    </tr>\n",
       "    <tr>\n",
       "      <th>19</th>\n",
       "      <td>2015</td>\n",
       "      <td>606</td>\n",
       "    </tr>\n",
       "    <tr>\n",
       "      <th>20</th>\n",
       "      <td>2016</td>\n",
       "      <td>502</td>\n",
       "    </tr>\n",
       "  </tbody>\n",
       "</table>\n",
       "</div>"
      ],
      "text/plain": [
       "    year_of_release  game_count\n",
       "0              1996         263\n",
       "1              1997         289\n",
       "2              1998         379\n",
       "3              1999         338\n",
       "4              2000         350\n",
       "5              2001         482\n",
       "6              2002         829\n",
       "7              2003         775\n",
       "8              2004         762\n",
       "9              2005         939\n",
       "10             2006        1006\n",
       "11             2007        1197\n",
       "12             2008        1427\n",
       "13             2009        1426\n",
       "14             2010        1255\n",
       "15             2011        1136\n",
       "16             2012         653\n",
       "17             2013         544\n",
       "18             2014         581\n",
       "19             2015         606\n",
       "20             2016         502"
      ]
     },
     "metadata": {},
     "output_type": "display_data"
    }
   ],
   "source": [
    "#calculate how many games were released \n",
    "cols = ['name','year_of_release']\n",
    "df_agg = df_games[cols]\n",
    "df_agg = df_agg.groupby(['year_of_release']).count().reset_index()\n",
    "df_agg.rename(columns = {\"name\":\"game_count\"},inplace=True)\n",
    "display(df_agg)"
   ]
  },
  {
   "cell_type": "code",
   "execution_count": 25,
   "metadata": {
    "scrolled": true
   },
   "outputs": [
    {
     "data": {
      "text/plain": [
       "<AxesSubplot:title={'center':'Game Count Per Year'}, xlabel='year_of_release', ylabel='game_count'>"
      ]
     },
     "execution_count": 25,
     "metadata": {},
     "output_type": "execute_result"
    },
    {
     "data": {
      "image/png": "[encoded data removed]",
      "text/plain": [
       "<Figure size 1080x720 with 1 Axes>"
      ]
     },
     "metadata": {
      "needs_background": "light"
     },
     "output_type": "display_data"
    }
   ],
   "source": [
    "#barplot \n",
    "plt.figure(figsize=(15,10))\n",
    "plt.title('Game Count Per Year')\n",
    "plt.xlabel(\"Year\")\n",
    "plt.ylabel(\"Game Count\")\n",
    "sns.barplot(x='year_of_release',y='game_count',data=df_agg)\n"
   ]
  },
  {
   "cell_type": "markdown",
   "metadata": {},
   "source": [
    "### Total Sales per Platform "
   ]
  },
  {
   "cell_type": "code",
   "execution_count": 26,
   "metadata": {},
   "outputs": [
    {
     "data": {
      "text/plain": [
       "0        77.86\n",
       "2        36.02\n",
       "3        33.10\n",
       "4        40.60\n",
       "6        33.42\n",
       "         ...  \n",
       "16710     0.02\n",
       "16711     0.01\n",
       "16712     0.02\n",
       "16713     0.01\n",
       "16714     0.02\n",
       "Name: total_sales, Length: 15739, dtype: float64"
      ]
     },
     "execution_count": 26,
     "metadata": {},
     "output_type": "execute_result"
    }
   ],
   "source": [
    "#combine all sales to make global \n",
    "df_games['total_sales'] = df_games['na_sales'] + df_games['eu_sales'] + df_games['jp_sales'] + df_games['jp_sales']\n",
    "df_games['total_sales']"
   ]
  },
  {
   "cell_type": "code",
   "execution_count": 27,
   "metadata": {},
   "outputs": [
    {
     "data": {
      "text/html": [
       "<div>\n",
       "<style scoped>\n",
       "    .dataframe tbody tr th:only-of-type {\n",
       "        vertical-align: middle;\n",
       "    }\n",
       "\n",
       "    .dataframe tbody tr th {\n",
       "        vertical-align: top;\n",
       "    }\n",
       "\n",
       "    .dataframe thead th {\n",
       "        text-align: right;\n",
       "    }\n",
       "</style>\n",
       "<table border=\"1\" class=\"dataframe\">\n",
       "  <thead>\n",
       "    <tr style=\"text-align: right;\">\n",
       "      <th></th>\n",
       "      <th>platform</th>\n",
       "      <th>platform_sales</th>\n",
       "    </tr>\n",
       "  </thead>\n",
       "  <tbody>\n",
       "    <tr>\n",
       "      <th>0</th>\n",
       "      <td>3DS</td>\n",
       "      <td>0.674141</td>\n",
       "    </tr>\n",
       "    <tr>\n",
       "      <th>1</th>\n",
       "      <td>DC</td>\n",
       "      <td>0.466154</td>\n",
       "    </tr>\n",
       "    <tr>\n",
       "      <th>2</th>\n",
       "      <td>DS</td>\n",
       "      <td>0.433358</td>\n",
       "    </tr>\n",
       "    <tr>\n",
       "      <th>3</th>\n",
       "      <td>GB</td>\n",
       "      <td>3.030833</td>\n",
       "    </tr>\n",
       "    <tr>\n",
       "      <th>4</th>\n",
       "      <td>GBA</td>\n",
       "      <td>0.433822</td>\n",
       "    </tr>\n",
       "    <tr>\n",
       "      <th>5</th>\n",
       "      <td>GC</td>\n",
       "      <td>0.392878</td>\n",
       "    </tr>\n",
       "    <tr>\n",
       "      <th>6</th>\n",
       "      <td>N64</td>\n",
       "      <td>0.783101</td>\n",
       "    </tr>\n",
       "    <tr>\n",
       "      <th>7</th>\n",
       "      <td>NG</td>\n",
       "      <td>0.100000</td>\n",
       "    </tr>\n",
       "    <tr>\n",
       "      <th>8</th>\n",
       "      <td>PC</td>\n",
       "      <td>0.227898</td>\n",
       "    </tr>\n",
       "    <tr>\n",
       "      <th>9</th>\n",
       "      <td>PCFX</td>\n",
       "      <td>0.060000</td>\n",
       "    </tr>\n",
       "    <tr>\n",
       "      <th>10</th>\n",
       "      <td>PS</td>\n",
       "      <td>0.721443</td>\n",
       "    </tr>\n",
       "    <tr>\n",
       "      <th>11</th>\n",
       "      <td>PS2</td>\n",
       "      <td>0.555068</td>\n",
       "    </tr>\n",
       "    <tr>\n",
       "      <th>12</th>\n",
       "      <td>PS3</td>\n",
       "      <td>0.670873</td>\n",
       "    </tr>\n",
       "    <tr>\n",
       "      <th>13</th>\n",
       "      <td>PS4</td>\n",
       "      <td>0.718750</td>\n",
       "    </tr>\n",
       "    <tr>\n",
       "      <th>14</th>\n",
       "      <td>PSP</td>\n",
       "      <td>0.272129</td>\n",
       "    </tr>\n",
       "    <tr>\n",
       "      <th>15</th>\n",
       "      <td>PSV</td>\n",
       "      <td>0.161352</td>\n",
       "    </tr>\n",
       "    <tr>\n",
       "      <th>16</th>\n",
       "      <td>SAT</td>\n",
       "      <td>0.360196</td>\n",
       "    </tr>\n",
       "    <tr>\n",
       "      <th>17</th>\n",
       "      <td>SNES</td>\n",
       "      <td>0.860541</td>\n",
       "    </tr>\n",
       "    <tr>\n",
       "      <th>18</th>\n",
       "      <td>WS</td>\n",
       "      <td>0.473333</td>\n",
       "    </tr>\n",
       "    <tr>\n",
       "      <th>19</th>\n",
       "      <td>Wii</td>\n",
       "      <td>0.685653</td>\n",
       "    </tr>\n",
       "    <tr>\n",
       "      <th>20</th>\n",
       "      <td>WiiU</td>\n",
       "      <td>0.607143</td>\n",
       "    </tr>\n",
       "    <tr>\n",
       "      <th>21</th>\n",
       "      <td>X360</td>\n",
       "      <td>0.721315</td>\n",
       "    </tr>\n",
       "    <tr>\n",
       "      <th>22</th>\n",
       "      <td>XB</td>\n",
       "      <td>0.304446</td>\n",
       "    </tr>\n",
       "    <tr>\n",
       "      <th>23</th>\n",
       "      <td>XOne</td>\n",
       "      <td>0.588623</td>\n",
       "    </tr>\n",
       "  </tbody>\n",
       "</table>\n",
       "</div>"
      ],
      "text/plain": [
       "   platform  platform_sales\n",
       "0       3DS        0.674141\n",
       "1        DC        0.466154\n",
       "2        DS        0.433358\n",
       "3        GB        3.030833\n",
       "4       GBA        0.433822\n",
       "5        GC        0.392878\n",
       "6       N64        0.783101\n",
       "7        NG        0.100000\n",
       "8        PC        0.227898\n",
       "9      PCFX        0.060000\n",
       "10       PS        0.721443\n",
       "11      PS2        0.555068\n",
       "12      PS3        0.670873\n",
       "13      PS4        0.718750\n",
       "14      PSP        0.272129\n",
       "15      PSV        0.161352\n",
       "16      SAT        0.360196\n",
       "17     SNES        0.860541\n",
       "18       WS        0.473333\n",
       "19      Wii        0.685653\n",
       "20     WiiU        0.607143\n",
       "21     X360        0.721315\n",
       "22       XB        0.304446\n",
       "23     XOne        0.588623"
      ]
     },
     "metadata": {},
     "output_type": "display_data"
    }
   ],
   "source": [
    "#break down by platform\n",
    "#calculate average global sales per platform\n",
    "cols = ['total_sales', 'platform']\n",
    "df_agg_1 = df_games[cols]\n",
    "df_agg_1= df_agg_1.groupby(['platform']).mean().reset_index()\n",
    "df_agg_1.rename(columns = {\"total_sales\":\"platform_sales\"},inplace=True)\n",
    "display(df_agg_1)"
   ]
  },
  {
   "cell_type": "code",
   "execution_count": 28,
   "metadata": {},
   "outputs": [
    {
     "data": {
      "text/plain": [
       "platform  platform_sales\n",
       "3DS       0.674141          0.041667\n",
       "DC        0.466154          0.041667\n",
       "XB        0.304446          0.041667\n",
       "X360      0.721315          0.041667\n",
       "WiiU      0.607143          0.041667\n",
       "Wii       0.685653          0.041667\n",
       "WS        0.473333          0.041667\n",
       "SNES      0.860541          0.041667\n",
       "SAT       0.360196          0.041667\n",
       "PSV       0.161352          0.041667\n",
       "PSP       0.272129          0.041667\n",
       "PS4       0.718750          0.041667\n",
       "PS3       0.670873          0.041667\n",
       "PS2       0.555068          0.041667\n",
       "PS        0.721443          0.041667\n",
       "PCFX      0.060000          0.041667\n",
       "PC        0.227898          0.041667\n",
       "NG        0.100000          0.041667\n",
       "N64       0.783101          0.041667\n",
       "GC        0.392878          0.041667\n",
       "GBA       0.433822          0.041667\n",
       "GB        3.030833          0.041667\n",
       "DS        0.433358          0.041667\n",
       "XOne      0.588623          0.041667\n",
       "dtype: float64"
      ]
     },
     "execution_count": 28,
     "metadata": {},
     "output_type": "execute_result"
    }
   ],
   "source": [
    "#distribution of sales per platform per year\n",
    "df_agg_1[['platform', 'platform_sales']].value_counts(normalize=True)"
   ]
  },
  {
   "cell_type": "code",
   "execution_count": 29,
   "metadata": {},
   "outputs": [
    {
     "data": {
      "text/plain": [
       "<AxesSubplot:title={'center':'Total Sales per Platform'}, xlabel='platform', ylabel='platform_sales'>"
      ]
     },
     "execution_count": 29,
     "metadata": {},
     "output_type": "execute_result"
    },
    {
     "data": {
      "image/png": "[encoded data removed]",
      "text/plain": [
       "<Figure size 1080x720 with 1 Axes>"
      ]
     },
     "metadata": {
      "needs_background": "light"
     },
     "output_type": "display_data"
    }
   ],
   "source": [
    "#boxplot total sales per platform per year\n",
    "plt.figure(figsize=(15,10))\n",
    "plt.title('Total Sales per Platform')\n",
    "plt.xlabel(\"Platform\")\n",
    "plt.ylabel(\"Sales\")\n",
    "sns.barplot(x='platform',y='platform_sales',data=df_agg_1)"
   ]
  },
  {
   "cell_type": "markdown",
   "metadata": {},
   "source": [
    "Build a box plot for the global sales of all games, broken down by platform. Are the differences in sales significant? What about average sales on various platforms? Describe your findings.\n",
    "\n",
    "I can see platforms have signifcant difference in total sales (of all games). Platforms with high sales will be displayed in order from right to left, so this graph is easy to read. I see that Wii, GB, and DS all have similar revenue. "
   ]
  },
  {
   "cell_type": "code",
   "execution_count": 30,
   "metadata": {},
   "outputs": [
    {
     "data": {
      "text/plain": [
       "Text(0, 0.5, 'Sales(M)')"
      ]
     },
     "execution_count": 30,
     "metadata": {},
     "output_type": "execute_result"
    },
    {
     "data": {
      "image/png": "[encoded data removed]",
      "text/plain": [
       "<Figure size 1080x720 with 1 Axes>"
      ]
     },
     "metadata": {
      "needs_background": "light"
     },
     "output_type": "display_data"
    }
   ],
   "source": [
    "#global sales of all games by platform\n",
    "plt.figure(figsize=(15,10))\n",
    "sns.boxplot(x='platform', y='total_sales', data=df_games)\n",
    "plt.title('Total Sales per Platform')\n",
    "plt.xlabel(\"Platform\")\n",
    "plt.ylabel(\"Sales(M)\")"
   ]
  },
  {
   "cell_type": "code",
   "execution_count": 31,
   "metadata": {},
   "outputs": [
    {
     "data": {
      "text/plain": [
       "<AxesSubplot:title={'center':'Platform Sales'}, xlabel='year', ylabel='sales'>"
      ]
     },
     "execution_count": 31,
     "metadata": {},
     "output_type": "execute_result"
    },
    {
     "data": {
      "image/png": "[encoded data removed]",
      "text/plain": [
       "<Figure size 1080x720 with 1 Axes>"
      ]
     },
     "metadata": {
      "needs_background": "light"
     },
     "output_type": "display_data"
    }
   ],
   "source": [
    "#total sales of platform over all years\n",
    "plt.figure(figsize=(15,10))\n",
    "plt.title('Platform Sales')\n",
    "plt.xlabel(\"year\")\n",
    "plt.ylabel(\"sales\")\n",
    "sns.lineplot(hue='platform', x='year_of_release',y='total_sales',data=df_games)"
   ]
  },
  {
   "cell_type": "markdown",
   "metadata": {},
   "source": [
    "Find platforms that used to be popular but now have zero sales. How long does it generally take for new platforms to appear and old ones to fade?\n",
    "\n",
    "I can see with this lineplot that some platforms don't take long to appear, because of the spikes in sales. I do notice some lines don't make it to 2016. They can fade over a 10-20 year period. "
   ]
  },
  {
   "cell_type": "markdown",
   "metadata": {},
   "source": [
    "### Significant/Active Platforms  "
   ]
  },
  {
   "cell_type": "code",
   "execution_count": 32,
   "metadata": {},
   "outputs": [
    {
     "data": {
      "text/plain": [
       "<AxesSubplot:xlabel='platform'>"
      ]
     },
     "execution_count": 32,
     "metadata": {},
     "output_type": "execute_result"
    },
    {
     "data": {
      "image/png": "[encoded data removed]",
      "text/plain": [
       "<Figure size 1080x720 with 1 Axes>"
      ]
     },
     "metadata": {
      "needs_background": "light"
     },
     "output_type": "display_data"
    }
   ],
   "source": [
    "#which relevant platform has the highest sales??\n",
    "my_query = \"\"\"\n",
    "platform == [\"PS4\", \"XOne\", \"3DS\", \"PS\", \"PSP\", \"WiiU\"] & year_of_release >= 2013\n",
    "\"\"\"\n",
    "\n",
    "\n",
    "df_games.query(my_query)\\\n",
    "    .pivot_table(index='platform', values='total_sales', aggfunc='sum')\\\n",
    "    .sort_values(by='total_sales', ascending=True)\\\n",
    "    .plot(kind='bar', stacked=True, figsize=(15,10), colormap='tab20')"
   ]
  },
  {
   "cell_type": "markdown",
   "metadata": {},
   "source": [
    "In conclusion:\n",
    "    \n",
    "    First step was filering the data. Targeting data for year_of_release (2013_2016) allows me to analyze more accurate data. I also wanted to filter out platforms that not longer exist. I was able to do this in it's own variable, and then use query, pivot table, sort values, and plot. \n",
    "    \n",
    "    The first observation: the platform clearly DOES have an impact on revenue. If the platforms revenues were generally equal, the impact wouldn't be significant. The chart provides a clear visual to help me draw the conlusion: PS4 has the most revenue, PSP has the lowest. "
   ]
  },
  {
   "cell_type": "markdown",
   "metadata": {},
   "source": [
    "Create a new dataframe with the relevant years and use it for the rest of your project? Check whether results and conclusions are still the same or whether they should be slightly updated?"
   ]
  },
  {
   "cell_type": "code",
   "execution_count": 33,
   "metadata": {},
   "outputs": [],
   "source": [
    "#filter relevant years\n",
    "df_games = df_games.loc[df_games['year_of_release']>=2013]"
   ]
  },
  {
   "cell_type": "code",
   "execution_count": 34,
   "metadata": {},
   "outputs": [],
   "source": [
    "#filter relevant platforms\n",
    "platform_list = [\"PS4\", \"XOne\", \"3DS\", \"PS\", \"PSP\", \"WiiU\"]\n",
    "df_games = df_games[df_games['platform'].isin(platform_list)]"
   ]
  },
  {
   "cell_type": "code",
   "execution_count": 35,
   "metadata": {
    "scrolled": true
   },
   "outputs": [
    {
     "data": {
      "text/html": [
       "<div>\n",
       "<style scoped>\n",
       "    .dataframe tbody tr th:only-of-type {\n",
       "        vertical-align: middle;\n",
       "    }\n",
       "\n",
       "    .dataframe tbody tr th {\n",
       "        vertical-align: top;\n",
       "    }\n",
       "\n",
       "    .dataframe thead th {\n",
       "        text-align: right;\n",
       "    }\n",
       "</style>\n",
       "<table border=\"1\" class=\"dataframe\">\n",
       "  <thead>\n",
       "    <tr style=\"text-align: right;\">\n",
       "      <th></th>\n",
       "      <th>name</th>\n",
       "      <th>platform</th>\n",
       "      <th>year_of_release</th>\n",
       "      <th>genre</th>\n",
       "      <th>na_sales</th>\n",
       "      <th>eu_sales</th>\n",
       "      <th>jp_sales</th>\n",
       "      <th>other_sales</th>\n",
       "      <th>critic_score</th>\n",
       "      <th>user_score</th>\n",
       "      <th>rating</th>\n",
       "      <th>total_sales</th>\n",
       "    </tr>\n",
       "  </thead>\n",
       "  <tbody>\n",
       "    <tr>\n",
       "      <th>31</th>\n",
       "      <td>Call of Duty: Black Ops 3</td>\n",
       "      <td>PS4</td>\n",
       "      <td>2015</td>\n",
       "      <td>Shooter</td>\n",
       "      <td>6.03</td>\n",
       "      <td>5.86</td>\n",
       "      <td>0.36</td>\n",
       "      <td>2.38</td>\n",
       "      <td>0</td>\n",
       "      <td>0</td>\n",
       "      <td>unknown</td>\n",
       "      <td>12.61</td>\n",
       "    </tr>\n",
       "    <tr>\n",
       "      <th>33</th>\n",
       "      <td>Pokemon X/Pokemon Y</td>\n",
       "      <td>3DS</td>\n",
       "      <td>2013</td>\n",
       "      <td>Role-Playing</td>\n",
       "      <td>5.28</td>\n",
       "      <td>4.19</td>\n",
       "      <td>4.35</td>\n",
       "      <td>0.78</td>\n",
       "      <td>0</td>\n",
       "      <td>0</td>\n",
       "      <td>unknown</td>\n",
       "      <td>18.17</td>\n",
       "    </tr>\n",
       "    <tr>\n",
       "      <th>42</th>\n",
       "      <td>Grand Theft Auto V</td>\n",
       "      <td>PS4</td>\n",
       "      <td>2014</td>\n",
       "      <td>Action</td>\n",
       "      <td>3.96</td>\n",
       "      <td>6.31</td>\n",
       "      <td>0.38</td>\n",
       "      <td>1.97</td>\n",
       "      <td>97</td>\n",
       "      <td>8</td>\n",
       "      <td>M</td>\n",
       "      <td>11.03</td>\n",
       "    </tr>\n",
       "    <tr>\n",
       "      <th>47</th>\n",
       "      <td>Pokemon Omega Ruby/Pokemon Alpha Sapphire</td>\n",
       "      <td>3DS</td>\n",
       "      <td>2014</td>\n",
       "      <td>Role-Playing</td>\n",
       "      <td>4.35</td>\n",
       "      <td>3.49</td>\n",
       "      <td>3.10</td>\n",
       "      <td>0.74</td>\n",
       "      <td>0</td>\n",
       "      <td>0</td>\n",
       "      <td>unknown</td>\n",
       "      <td>14.04</td>\n",
       "    </tr>\n",
       "    <tr>\n",
       "      <th>77</th>\n",
       "      <td>FIFA 16</td>\n",
       "      <td>PS4</td>\n",
       "      <td>2015</td>\n",
       "      <td>Sports</td>\n",
       "      <td>1.12</td>\n",
       "      <td>6.12</td>\n",
       "      <td>0.06</td>\n",
       "      <td>1.28</td>\n",
       "      <td>82</td>\n",
       "      <td>4</td>\n",
       "      <td>E</td>\n",
       "      <td>7.36</td>\n",
       "    </tr>\n",
       "    <tr>\n",
       "      <th>...</th>\n",
       "      <td>...</td>\n",
       "      <td>...</td>\n",
       "      <td>...</td>\n",
       "      <td>...</td>\n",
       "      <td>...</td>\n",
       "      <td>...</td>\n",
       "      <td>...</td>\n",
       "      <td>...</td>\n",
       "      <td>...</td>\n",
       "      <td>...</td>\n",
       "      <td>...</td>\n",
       "      <td>...</td>\n",
       "    </tr>\n",
       "    <tr>\n",
       "      <th>16660</th>\n",
       "      <td>Prison Architect</td>\n",
       "      <td>XOne</td>\n",
       "      <td>2016</td>\n",
       "      <td>Action</td>\n",
       "      <td>0.01</td>\n",
       "      <td>0.00</td>\n",
       "      <td>0.00</td>\n",
       "      <td>0.00</td>\n",
       "      <td>74</td>\n",
       "      <td>6</td>\n",
       "      <td>unknown</td>\n",
       "      <td>0.01</td>\n",
       "    </tr>\n",
       "    <tr>\n",
       "      <th>16668</th>\n",
       "      <td>Fujiko F. Fujio Characters: Great Assembly! Sl...</td>\n",
       "      <td>3DS</td>\n",
       "      <td>2014</td>\n",
       "      <td>Action</td>\n",
       "      <td>0.00</td>\n",
       "      <td>0.00</td>\n",
       "      <td>0.01</td>\n",
       "      <td>0.00</td>\n",
       "      <td>0</td>\n",
       "      <td>0</td>\n",
       "      <td>unknown</td>\n",
       "      <td>0.02</td>\n",
       "    </tr>\n",
       "    <tr>\n",
       "      <th>16672</th>\n",
       "      <td>Metal Gear Solid V: The Definitive Experience</td>\n",
       "      <td>XOne</td>\n",
       "      <td>2016</td>\n",
       "      <td>Action</td>\n",
       "      <td>0.01</td>\n",
       "      <td>0.00</td>\n",
       "      <td>0.00</td>\n",
       "      <td>0.00</td>\n",
       "      <td>0</td>\n",
       "      <td>0</td>\n",
       "      <td>M</td>\n",
       "      <td>0.01</td>\n",
       "    </tr>\n",
       "    <tr>\n",
       "      <th>16677</th>\n",
       "      <td>Aikatsu Stars! My Special Appeal</td>\n",
       "      <td>3DS</td>\n",
       "      <td>2016</td>\n",
       "      <td>Action</td>\n",
       "      <td>0.00</td>\n",
       "      <td>0.00</td>\n",
       "      <td>0.01</td>\n",
       "      <td>0.00</td>\n",
       "      <td>0</td>\n",
       "      <td>0</td>\n",
       "      <td>unknown</td>\n",
       "      <td>0.02</td>\n",
       "    </tr>\n",
       "    <tr>\n",
       "      <th>16682</th>\n",
       "      <td>Grisaia no Kajitsu: La Fruit de la Grisaia</td>\n",
       "      <td>PSP</td>\n",
       "      <td>2013</td>\n",
       "      <td>Adventure</td>\n",
       "      <td>0.00</td>\n",
       "      <td>0.00</td>\n",
       "      <td>0.01</td>\n",
       "      <td>0.00</td>\n",
       "      <td>0</td>\n",
       "      <td>0</td>\n",
       "      <td>unknown</td>\n",
       "      <td>0.02</td>\n",
       "    </tr>\n",
       "  </tbody>\n",
       "</table>\n",
       "<p>1124 rows × 12 columns</p>\n",
       "</div>"
      ],
      "text/plain": [
       "                                                    name platform  \\\n",
       "31                             Call of Duty: Black Ops 3      PS4   \n",
       "33                                   Pokemon X/Pokemon Y      3DS   \n",
       "42                                    Grand Theft Auto V      PS4   \n",
       "47             Pokemon Omega Ruby/Pokemon Alpha Sapphire      3DS   \n",
       "77                                               FIFA 16      PS4   \n",
       "...                                                  ...      ...   \n",
       "16660                                   Prison Architect     XOne   \n",
       "16668  Fujiko F. Fujio Characters: Great Assembly! Sl...      3DS   \n",
       "16672      Metal Gear Solid V: The Definitive Experience     XOne   \n",
       "16677                   Aikatsu Stars! My Special Appeal      3DS   \n",
       "16682         Grisaia no Kajitsu: La Fruit de la Grisaia      PSP   \n",
       "\n",
       "       year_of_release         genre  na_sales  eu_sales  jp_sales  \\\n",
       "31                2015       Shooter      6.03      5.86      0.36   \n",
       "33                2013  Role-Playing      5.28      4.19      4.35   \n",
       "42                2014        Action      3.96      6.31      0.38   \n",
       "47                2014  Role-Playing      4.35      3.49      3.10   \n",
       "77                2015        Sports      1.12      6.12      0.06   \n",
       "...                ...           ...       ...       ...       ...   \n",
       "16660             2016        Action      0.01      0.00      0.00   \n",
       "16668             2014        Action      0.00      0.00      0.01   \n",
       "16672             2016        Action      0.01      0.00      0.00   \n",
       "16677             2016        Action      0.00      0.00      0.01   \n",
       "16682             2013     Adventure      0.00      0.00      0.01   \n",
       "\n",
       "       other_sales  critic_score  user_score   rating  total_sales  \n",
       "31            2.38             0           0  unknown        12.61  \n",
       "33            0.78             0           0  unknown        18.17  \n",
       "42            1.97            97           8        M        11.03  \n",
       "47            0.74             0           0  unknown        14.04  \n",
       "77            1.28            82           4        E         7.36  \n",
       "...            ...           ...         ...      ...          ...  \n",
       "16660         0.00            74           6  unknown         0.01  \n",
       "16668         0.00             0           0  unknown         0.02  \n",
       "16672         0.00             0           0        M         0.01  \n",
       "16677         0.00             0           0  unknown         0.02  \n",
       "16682         0.00             0           0  unknown         0.02  \n",
       "\n",
       "[1124 rows x 12 columns]"
      ]
     },
     "execution_count": 35,
     "metadata": {},
     "output_type": "execute_result"
    }
   ],
   "source": [
    "#check dataframe\n",
    "df_games"
   ]
  },
  {
   "cell_type": "code",
   "execution_count": 36,
   "metadata": {},
   "outputs": [
    {
     "name": "stdout",
     "output_type": "stream",
     "text": [
      "Only 6.724498953036195 % of our original data has relevant years & platforms\n"
     ]
    }
   ],
   "source": [
    " print('Only', 1124/16715*100,'% of our original data has relevant years & platforms')"
   ]
  },
  {
   "cell_type": "markdown",
   "metadata": {},
   "source": [
    "### Platform Sales v. Critic_score & User_score"
   ]
  },
  {
   "cell_type": "markdown",
   "metadata": {},
   "source": [
    "Take a look at how user and professional reviews affect sales for one popular platform (you choose). Build a scatter plot and calculate the correlation between reviews and sales. Draw conclusions.\n",
    "\n",
    "If reviews did affect the sales, I would notice a cluster of values in the right uppper corner, meaning high sales and high ratings. Even with a low score, I see a decent amount of sales. It seems people like the game despite what others review it. I conclude that there is no correlation. "
   ]
  },
  {
   "cell_type": "code",
   "execution_count": 37,
   "metadata": {},
   "outputs": [
    {
     "name": "stdout",
     "output_type": "stream",
     "text": [
      "(1124, 13)\n"
     ]
    }
   ],
   "source": [
    "#merge df_agg_1 into df_games to calculate corr: platform_sales v. reviews\n",
    "df_agg_2 = pd.merge(df_games, df_agg_1, how='left', on = ['platform'])\n",
    "print( df_agg_2.shape )"
   ]
  },
  {
   "cell_type": "code",
   "execution_count": 38,
   "metadata": {},
   "outputs": [],
   "source": [
    "#pick one platform: PS4\n",
    "df_agg_2 = df_agg_2.loc[df_agg_2['platform'] == 'PS4']"
   ]
  },
  {
   "cell_type": "code",
   "execution_count": 39,
   "metadata": {},
   "outputs": [
    {
     "data": {
      "text/html": [
       "<div>\n",
       "<style scoped>\n",
       "    .dataframe tbody tr th:only-of-type {\n",
       "        vertical-align: middle;\n",
       "    }\n",
       "\n",
       "    .dataframe tbody tr th {\n",
       "        vertical-align: top;\n",
       "    }\n",
       "\n",
       "    .dataframe thead th {\n",
       "        text-align: right;\n",
       "    }\n",
       "</style>\n",
       "<table border=\"1\" class=\"dataframe\">\n",
       "  <thead>\n",
       "    <tr style=\"text-align: right;\">\n",
       "      <th></th>\n",
       "      <th>platform</th>\n",
       "      <th>user_score</th>\n",
       "      <th>critic_score</th>\n",
       "      <th>total_sales</th>\n",
       "    </tr>\n",
       "  </thead>\n",
       "  <tbody>\n",
       "    <tr>\n",
       "      <th>1102</th>\n",
       "      <td>PS4</td>\n",
       "      <td>0</td>\n",
       "      <td>0</td>\n",
       "      <td>0.01</td>\n",
       "    </tr>\n",
       "    <tr>\n",
       "      <th>1028</th>\n",
       "      <td>PS4</td>\n",
       "      <td>0</td>\n",
       "      <td>0</td>\n",
       "      <td>0.01</td>\n",
       "    </tr>\n",
       "    <tr>\n",
       "      <th>1017</th>\n",
       "      <td>PS4</td>\n",
       "      <td>0</td>\n",
       "      <td>0</td>\n",
       "      <td>0.01</td>\n",
       "    </tr>\n",
       "    <tr>\n",
       "      <th>1044</th>\n",
       "      <td>PS4</td>\n",
       "      <td>0</td>\n",
       "      <td>0</td>\n",
       "      <td>0.01</td>\n",
       "    </tr>\n",
       "    <tr>\n",
       "      <th>1016</th>\n",
       "      <td>PS4</td>\n",
       "      <td>0</td>\n",
       "      <td>0</td>\n",
       "      <td>0.01</td>\n",
       "    </tr>\n",
       "    <tr>\n",
       "      <th>...</th>\n",
       "      <td>...</td>\n",
       "      <td>...</td>\n",
       "      <td>...</td>\n",
       "      <td>...</td>\n",
       "    </tr>\n",
       "    <tr>\n",
       "      <th>7</th>\n",
       "      <td>PS4</td>\n",
       "      <td>5</td>\n",
       "      <td>85</td>\n",
       "      <td>6.57</td>\n",
       "    </tr>\n",
       "    <tr>\n",
       "      <th>5</th>\n",
       "      <td>PS4</td>\n",
       "      <td>0</td>\n",
       "      <td>0</td>\n",
       "      <td>6.92</td>\n",
       "    </tr>\n",
       "    <tr>\n",
       "      <th>4</th>\n",
       "      <td>PS4</td>\n",
       "      <td>4</td>\n",
       "      <td>82</td>\n",
       "      <td>7.36</td>\n",
       "    </tr>\n",
       "    <tr>\n",
       "      <th>2</th>\n",
       "      <td>PS4</td>\n",
       "      <td>8</td>\n",
       "      <td>97</td>\n",
       "      <td>11.03</td>\n",
       "    </tr>\n",
       "    <tr>\n",
       "      <th>0</th>\n",
       "      <td>PS4</td>\n",
       "      <td>0</td>\n",
       "      <td>0</td>\n",
       "      <td>12.61</td>\n",
       "    </tr>\n",
       "  </tbody>\n",
       "</table>\n",
       "<p>392 rows × 4 columns</p>\n",
       "</div>"
      ],
      "text/plain": [
       "     platform  user_score  critic_score  total_sales\n",
       "1102      PS4           0             0         0.01\n",
       "1028      PS4           0             0         0.01\n",
       "1017      PS4           0             0         0.01\n",
       "1044      PS4           0             0         0.01\n",
       "1016      PS4           0             0         0.01\n",
       "...       ...         ...           ...          ...\n",
       "7         PS4           5            85         6.57\n",
       "5         PS4           0             0         6.92\n",
       "4         PS4           4            82         7.36\n",
       "2         PS4           8            97        11.03\n",
       "0         PS4           0             0        12.61\n",
       "\n",
       "[392 rows x 4 columns]"
      ]
     },
     "execution_count": 39,
     "metadata": {},
     "output_type": "execute_result"
    }
   ],
   "source": [
    "#sort the values\n",
    "df_agg_2[['platform', 'user_score', 'critic_score', 'total_sales']].sort_values('total_sales')"
   ]
  },
  {
   "cell_type": "code",
   "execution_count": 40,
   "metadata": {},
   "outputs": [],
   "source": [
    "#exclude 0 sales \n",
    "df_games_critic_score = df_games.loc[df_games['critic_score'] > 0]"
   ]
  },
  {
   "cell_type": "code",
   "execution_count": 41,
   "metadata": {},
   "outputs": [
    {
     "data": {
      "text/html": [
       "<div>\n",
       "<style scoped>\n",
       "    .dataframe tbody tr th:only-of-type {\n",
       "        vertical-align: middle;\n",
       "    }\n",
       "\n",
       "    .dataframe tbody tr th {\n",
       "        vertical-align: top;\n",
       "    }\n",
       "\n",
       "    .dataframe thead th {\n",
       "        text-align: right;\n",
       "    }\n",
       "</style>\n",
       "<table border=\"1\" class=\"dataframe\">\n",
       "  <thead>\n",
       "    <tr style=\"text-align: right;\">\n",
       "      <th></th>\n",
       "      <th>name</th>\n",
       "      <th>platform</th>\n",
       "      <th>year_of_release</th>\n",
       "      <th>genre</th>\n",
       "      <th>na_sales</th>\n",
       "      <th>eu_sales</th>\n",
       "      <th>jp_sales</th>\n",
       "      <th>other_sales</th>\n",
       "      <th>critic_score</th>\n",
       "      <th>user_score</th>\n",
       "      <th>rating</th>\n",
       "      <th>total_sales</th>\n",
       "    </tr>\n",
       "  </thead>\n",
       "  <tbody>\n",
       "    <tr>\n",
       "      <th>42</th>\n",
       "      <td>Grand Theft Auto V</td>\n",
       "      <td>PS4</td>\n",
       "      <td>2014</td>\n",
       "      <td>Action</td>\n",
       "      <td>3.96</td>\n",
       "      <td>6.31</td>\n",
       "      <td>0.38</td>\n",
       "      <td>1.97</td>\n",
       "      <td>97</td>\n",
       "      <td>8</td>\n",
       "      <td>M</td>\n",
       "      <td>11.03</td>\n",
       "    </tr>\n",
       "    <tr>\n",
       "      <th>77</th>\n",
       "      <td>FIFA 16</td>\n",
       "      <td>PS4</td>\n",
       "      <td>2015</td>\n",
       "      <td>Sports</td>\n",
       "      <td>1.12</td>\n",
       "      <td>6.12</td>\n",
       "      <td>0.06</td>\n",
       "      <td>1.28</td>\n",
       "      <td>82</td>\n",
       "      <td>4</td>\n",
       "      <td>E</td>\n",
       "      <td>7.36</td>\n",
       "    </tr>\n",
       "    <tr>\n",
       "      <th>92</th>\n",
       "      <td>Call of Duty: Advanced Warfare</td>\n",
       "      <td>PS4</td>\n",
       "      <td>2014</td>\n",
       "      <td>Shooter</td>\n",
       "      <td>2.81</td>\n",
       "      <td>3.48</td>\n",
       "      <td>0.14</td>\n",
       "      <td>1.23</td>\n",
       "      <td>83</td>\n",
       "      <td>5</td>\n",
       "      <td>M</td>\n",
       "      <td>6.57</td>\n",
       "    </tr>\n",
       "    <tr>\n",
       "      <th>94</th>\n",
       "      <td>FIFA 17</td>\n",
       "      <td>PS4</td>\n",
       "      <td>2016</td>\n",
       "      <td>Sports</td>\n",
       "      <td>0.66</td>\n",
       "      <td>5.75</td>\n",
       "      <td>0.08</td>\n",
       "      <td>1.11</td>\n",
       "      <td>85</td>\n",
       "      <td>5</td>\n",
       "      <td>E</td>\n",
       "      <td>6.57</td>\n",
       "    </tr>\n",
       "    <tr>\n",
       "      <th>105</th>\n",
       "      <td>Fallout 4</td>\n",
       "      <td>PS4</td>\n",
       "      <td>2015</td>\n",
       "      <td>Role-Playing</td>\n",
       "      <td>2.53</td>\n",
       "      <td>3.27</td>\n",
       "      <td>0.24</td>\n",
       "      <td>1.13</td>\n",
       "      <td>87</td>\n",
       "      <td>6</td>\n",
       "      <td>M</td>\n",
       "      <td>6.28</td>\n",
       "    </tr>\n",
       "    <tr>\n",
       "      <th>...</th>\n",
       "      <td>...</td>\n",
       "      <td>...</td>\n",
       "      <td>...</td>\n",
       "      <td>...</td>\n",
       "      <td>...</td>\n",
       "      <td>...</td>\n",
       "      <td>...</td>\n",
       "      <td>...</td>\n",
       "      <td>...</td>\n",
       "      <td>...</td>\n",
       "      <td>...</td>\n",
       "      <td>...</td>\n",
       "    </tr>\n",
       "    <tr>\n",
       "      <th>16530</th>\n",
       "      <td>Carmageddon: Max Damage</td>\n",
       "      <td>PS4</td>\n",
       "      <td>2016</td>\n",
       "      <td>Action</td>\n",
       "      <td>0.01</td>\n",
       "      <td>0.00</td>\n",
       "      <td>0.00</td>\n",
       "      <td>0.00</td>\n",
       "      <td>51</td>\n",
       "      <td>5</td>\n",
       "      <td>M</td>\n",
       "      <td>0.01</td>\n",
       "    </tr>\n",
       "    <tr>\n",
       "      <th>16597</th>\n",
       "      <td>Saints Row: Gat out of Hell</td>\n",
       "      <td>XOne</td>\n",
       "      <td>2015</td>\n",
       "      <td>Action</td>\n",
       "      <td>0.00</td>\n",
       "      <td>0.01</td>\n",
       "      <td>0.00</td>\n",
       "      <td>0.00</td>\n",
       "      <td>65</td>\n",
       "      <td>6</td>\n",
       "      <td>M</td>\n",
       "      <td>0.01</td>\n",
       "    </tr>\n",
       "    <tr>\n",
       "      <th>16630</th>\n",
       "      <td>Sébastien Loeb Rally Evo</td>\n",
       "      <td>XOne</td>\n",
       "      <td>2016</td>\n",
       "      <td>Racing</td>\n",
       "      <td>0.00</td>\n",
       "      <td>0.01</td>\n",
       "      <td>0.00</td>\n",
       "      <td>0.00</td>\n",
       "      <td>63</td>\n",
       "      <td>8</td>\n",
       "      <td>E</td>\n",
       "      <td>0.01</td>\n",
       "    </tr>\n",
       "    <tr>\n",
       "      <th>16652</th>\n",
       "      <td>Fast Racing Neo</td>\n",
       "      <td>WiiU</td>\n",
       "      <td>2016</td>\n",
       "      <td>Action</td>\n",
       "      <td>0.00</td>\n",
       "      <td>0.01</td>\n",
       "      <td>0.00</td>\n",
       "      <td>0.00</td>\n",
       "      <td>81</td>\n",
       "      <td>8</td>\n",
       "      <td>E</td>\n",
       "      <td>0.01</td>\n",
       "    </tr>\n",
       "    <tr>\n",
       "      <th>16660</th>\n",
       "      <td>Prison Architect</td>\n",
       "      <td>XOne</td>\n",
       "      <td>2016</td>\n",
       "      <td>Action</td>\n",
       "      <td>0.01</td>\n",
       "      <td>0.00</td>\n",
       "      <td>0.00</td>\n",
       "      <td>0.00</td>\n",
       "      <td>74</td>\n",
       "      <td>6</td>\n",
       "      <td>unknown</td>\n",
       "      <td>0.01</td>\n",
       "    </tr>\n",
       "  </tbody>\n",
       "</table>\n",
       "<p>563 rows × 12 columns</p>\n",
       "</div>"
      ],
      "text/plain": [
       "                                 name platform  year_of_release         genre  \\\n",
       "42                 Grand Theft Auto V      PS4             2014        Action   \n",
       "77                            FIFA 16      PS4             2015        Sports   \n",
       "92     Call of Duty: Advanced Warfare      PS4             2014       Shooter   \n",
       "94                            FIFA 17      PS4             2016        Sports   \n",
       "105                         Fallout 4      PS4             2015  Role-Playing   \n",
       "...                               ...      ...              ...           ...   \n",
       "16530         Carmageddon: Max Damage      PS4             2016        Action   \n",
       "16597     Saints Row: Gat out of Hell     XOne             2015        Action   \n",
       "16630        Sébastien Loeb Rally Evo     XOne             2016        Racing   \n",
       "16652                Fast Racing Neo      WiiU             2016        Action   \n",
       "16660                Prison Architect     XOne             2016        Action   \n",
       "\n",
       "       na_sales  eu_sales  jp_sales  other_sales  critic_score  user_score  \\\n",
       "42         3.96      6.31      0.38         1.97            97           8   \n",
       "77         1.12      6.12      0.06         1.28            82           4   \n",
       "92         2.81      3.48      0.14         1.23            83           5   \n",
       "94         0.66      5.75      0.08         1.11            85           5   \n",
       "105        2.53      3.27      0.24         1.13            87           6   \n",
       "...         ...       ...       ...          ...           ...         ...   \n",
       "16530      0.01      0.00      0.00         0.00            51           5   \n",
       "16597      0.00      0.01      0.00         0.00            65           6   \n",
       "16630      0.00      0.01      0.00         0.00            63           8   \n",
       "16652      0.00      0.01      0.00         0.00            81           8   \n",
       "16660      0.01      0.00      0.00         0.00            74           6   \n",
       "\n",
       "        rating  total_sales  \n",
       "42           M        11.03  \n",
       "77           E         7.36  \n",
       "92           M         6.57  \n",
       "94           E         6.57  \n",
       "105          M         6.28  \n",
       "...        ...          ...  \n",
       "16530        M         0.01  \n",
       "16597        M         0.01  \n",
       "16630        E         0.01  \n",
       "16652        E         0.01  \n",
       "16660  unknown         0.01  \n",
       "\n",
       "[563 rows x 12 columns]"
      ]
     },
     "execution_count": 41,
     "metadata": {},
     "output_type": "execute_result"
    }
   ],
   "source": [
    "#check data \n",
    "df_games_critic_score"
   ]
  },
  {
   "cell_type": "code",
   "execution_count": 42,
   "metadata": {},
   "outputs": [
    {
     "data": {
      "text/plain": [
       "<AxesSubplot:title={'center':'Critic Score Sales Plot'}, xlabel='Critic Score', ylabel='Sales'>"
      ]
     },
     "execution_count": 42,
     "metadata": {},
     "output_type": "execute_result"
    },
    {
     "data": {
      "image/png": "[encoded data removed]",
      "text/plain": [
       "<Figure size 1080x720 with 1 Axes>"
      ]
     },
     "metadata": {
      "needs_background": "light"
     },
     "output_type": "display_data"
    }
   ],
   "source": [
    "#make scatterplot for critic score\n",
    "plt.figure(figsize=(15,10))\n",
    "plt.title('Critic Score Sales Plot')\n",
    "plt.xlabel(\"Critic Score\")\n",
    "plt.ylabel(\"Sales\")\n",
    "sns.scatterplot(x='critic_score', y='total_sales', hue='platform', data=df_games_critic_score)"
   ]
  },
  {
   "cell_type": "markdown",
   "metadata": {},
   "source": [
    "Above I see the highest revenue is correlated with critic score above 70!! There are dense clusters of games with low revenue, between 70-80. I would consider 80-90 the highest revenue, based on critic score.  "
   ]
  },
  {
   "cell_type": "code",
   "execution_count": 43,
   "metadata": {},
   "outputs": [
    {
     "data": {
      "text/plain": [
       "<AxesSubplot:title={'center':'User Score Sales Plot'}, xlabel='User Score', ylabel='Sales'>"
      ]
     },
     "execution_count": 43,
     "metadata": {},
     "output_type": "execute_result"
    },
    {
     "data": {
      "image/png": "[encoded data removed]",
      "text/plain": [
       "<Figure size 1080x720 with 1 Axes>"
      ]
     },
     "metadata": {
      "needs_background": "light"
     },
     "output_type": "display_data"
    }
   ],
   "source": [
    "#make scatterplot for user_score\n",
    "plt.figure(figsize=(15,10))\n",
    "plt.title('User Score Sales Plot')\n",
    "plt.xlabel(\"User Score\")\n",
    "plt.ylabel(\"Sales\")\n",
    "sns.scatterplot(x='user_score', y='total_sales', hue='platform', data=df_games_critic_score)"
   ]
  },
  {
   "cell_type": "markdown",
   "metadata": {},
   "source": [
    "Above I observe the following: the user score doesn't have a large impact on revenue. The most common ratings (6, 7, or 8) all have a significant revenue. It seems rare for a rating of 9 is occur, but typically reflects revenue."
   ]
  },
  {
   "cell_type": "code",
   "execution_count": 44,
   "metadata": {},
   "outputs": [
    {
     "data": {
      "text/html": [
       "<div>\n",
       "<style scoped>\n",
       "    .dataframe tbody tr th:only-of-type {\n",
       "        vertical-align: middle;\n",
       "    }\n",
       "\n",
       "    .dataframe tbody tr th {\n",
       "        vertical-align: top;\n",
       "    }\n",
       "\n",
       "    .dataframe thead th {\n",
       "        text-align: right;\n",
       "    }\n",
       "</style>\n",
       "<table border=\"1\" class=\"dataframe\">\n",
       "  <thead>\n",
       "    <tr style=\"text-align: right;\">\n",
       "      <th></th>\n",
       "      <th>total_sales</th>\n",
       "      <th>platform</th>\n",
       "      <th>critic_score</th>\n",
       "      <th>user_score</th>\n",
       "    </tr>\n",
       "  </thead>\n",
       "  <tbody>\n",
       "    <tr>\n",
       "      <th>0</th>\n",
       "      <td>0.01</td>\n",
       "      <td>3DS</td>\n",
       "      <td>77.0</td>\n",
       "      <td>8.0</td>\n",
       "    </tr>\n",
       "    <tr>\n",
       "      <th>1</th>\n",
       "      <td>0.01</td>\n",
       "      <td>PS4</td>\n",
       "      <td>51.0</td>\n",
       "      <td>6.0</td>\n",
       "    </tr>\n",
       "    <tr>\n",
       "      <th>2</th>\n",
       "      <td>0.01</td>\n",
       "      <td>WiiU</td>\n",
       "      <td>74.0</td>\n",
       "      <td>7.5</td>\n",
       "    </tr>\n",
       "    <tr>\n",
       "      <th>3</th>\n",
       "      <td>0.01</td>\n",
       "      <td>XOne</td>\n",
       "      <td>65.0</td>\n",
       "      <td>6.0</td>\n",
       "    </tr>\n",
       "    <tr>\n",
       "      <th>4</th>\n",
       "      <td>0.02</td>\n",
       "      <td>3DS</td>\n",
       "      <td>34.5</td>\n",
       "      <td>1.0</td>\n",
       "    </tr>\n",
       "    <tr>\n",
       "      <th>...</th>\n",
       "      <td>...</td>\n",
       "      <td>...</td>\n",
       "      <td>...</td>\n",
       "      <td>...</td>\n",
       "    </tr>\n",
       "    <tr>\n",
       "      <th>352</th>\n",
       "      <td>6.57</td>\n",
       "      <td>PS4</td>\n",
       "      <td>83.0</td>\n",
       "      <td>5.0</td>\n",
       "    </tr>\n",
       "    <tr>\n",
       "      <th>353</th>\n",
       "      <td>6.57</td>\n",
       "      <td>PS4</td>\n",
       "      <td>85.0</td>\n",
       "      <td>5.0</td>\n",
       "    </tr>\n",
       "    <tr>\n",
       "      <th>354</th>\n",
       "      <td>7.36</td>\n",
       "      <td>PS4</td>\n",
       "      <td>82.0</td>\n",
       "      <td>4.0</td>\n",
       "    </tr>\n",
       "    <tr>\n",
       "      <th>355</th>\n",
       "      <td>7.86</td>\n",
       "      <td>WiiU</td>\n",
       "      <td>88.0</td>\n",
       "      <td>9.0</td>\n",
       "    </tr>\n",
       "    <tr>\n",
       "      <th>356</th>\n",
       "      <td>11.03</td>\n",
       "      <td>PS4</td>\n",
       "      <td>97.0</td>\n",
       "      <td>8.0</td>\n",
       "    </tr>\n",
       "  </tbody>\n",
       "</table>\n",
       "<p>357 rows × 4 columns</p>\n",
       "</div>"
      ],
      "text/plain": [
       "     total_sales platform  critic_score  user_score\n",
       "0           0.01      3DS          77.0         8.0\n",
       "1           0.01      PS4          51.0         6.0\n",
       "2           0.01     WiiU          74.0         7.5\n",
       "3           0.01     XOne          65.0         6.0\n",
       "4           0.02      3DS          34.5         1.0\n",
       "..           ...      ...           ...         ...\n",
       "352         6.57      PS4          83.0         5.0\n",
       "353         6.57      PS4          85.0         5.0\n",
       "354         7.36      PS4          82.0         4.0\n",
       "355         7.86     WiiU          88.0         9.0\n",
       "356        11.03      PS4          97.0         8.0\n",
       "\n",
       "[357 rows x 4 columns]"
      ]
     },
     "metadata": {},
     "output_type": "display_data"
    }
   ],
   "source": [
    "#calculate critic/user reviews\n",
    "cols = ['critic_score', 'user_score', 'platform',  'total_sales']\n",
    "score_sales = df_games_critic_score[cols]\n",
    "score_sales= score_sales.groupby(['total_sales', 'platform']).median().reset_index()\n",
    "# platform_1.rename(columns = {\"total_sales\":\"platform_sales\"},inplace=True)\n",
    "display(score_sales)"
   ]
  },
  {
   "cell_type": "markdown",
   "metadata": {},
   "source": [
    "Take a look at the general distribution of games by genre. What can we say about the most profitable genres? Can you generalize about genres with high and low sales?"
   ]
  },
  {
   "cell_type": "code",
   "execution_count": 45,
   "metadata": {},
   "outputs": [
    {
     "data": {
      "text/plain": [
       "name                       genre    \n",
       "Terraria                   Action       0.003559\n",
       "Skylanders: SuperChargers  Action       0.003559\n",
       "FIFA 14                    Sports       0.003559\n",
       "Angry Birds Star Wars      Strategy     0.003559\n",
       "LEGO The Hobbit            Action       0.003559\n",
       "                                          ...   \n",
       "Infamous: First Light      Action       0.000890\n",
       "Isshoni Gohan. Portable    Adventure    0.000890\n",
       "J Legend Retsuden          Misc         0.000890\n",
       "J Stars Victory Vs.        Fighting     0.000890\n",
       "inFAMOUS: Second Son       Action       0.000890\n",
       "Length: 824, dtype: float64"
      ]
     },
     "execution_count": 45,
     "metadata": {},
     "output_type": "execute_result"
    }
   ],
   "source": [
    "#distribution of games by genre\n",
    "df_games[['name', 'genre']].value_counts(normalize=True)"
   ]
  },
  {
   "cell_type": "markdown",
   "metadata": {},
   "source": [
    "### Global sales per game per platform"
   ]
  },
  {
   "cell_type": "code",
   "execution_count": 46,
   "metadata": {},
   "outputs": [
    {
     "data": {
      "text/html": [
       "<div>\n",
       "<style scoped>\n",
       "    .dataframe tbody tr th:only-of-type {\n",
       "        vertical-align: middle;\n",
       "    }\n",
       "\n",
       "    .dataframe tbody tr th {\n",
       "        vertical-align: top;\n",
       "    }\n",
       "\n",
       "    .dataframe thead th {\n",
       "        text-align: right;\n",
       "    }\n",
       "</style>\n",
       "<table border=\"1\" class=\"dataframe\">\n",
       "  <thead>\n",
       "    <tr style=\"text-align: right;\">\n",
       "      <th></th>\n",
       "      <th>platform</th>\n",
       "      <th>name</th>\n",
       "      <th>total_sales</th>\n",
       "    </tr>\n",
       "  </thead>\n",
       "  <tbody>\n",
       "    <tr>\n",
       "      <th>0</th>\n",
       "      <td>3DS</td>\n",
       "      <td>Beyblade Burst</td>\n",
       "      <td>0.06</td>\n",
       "    </tr>\n",
       "    <tr>\n",
       "      <th>1</th>\n",
       "      <td>3DS</td>\n",
       "      <td>Fire Emblem Fates</td>\n",
       "      <td>2.08</td>\n",
       "    </tr>\n",
       "    <tr>\n",
       "      <th>2</th>\n",
       "      <td>3DS</td>\n",
       "      <td>Frozen: Olaf's Quest</td>\n",
       "      <td>0.54</td>\n",
       "    </tr>\n",
       "    <tr>\n",
       "      <th>3</th>\n",
       "      <td>3DS</td>\n",
       "      <td>Haikyu!! Cross Team Match!</td>\n",
       "      <td>0.08</td>\n",
       "    </tr>\n",
       "    <tr>\n",
       "      <th>4</th>\n",
       "      <td>3DS</td>\n",
       "      <td>12-Sai. Honto no Kimochi</td>\n",
       "      <td>0.14</td>\n",
       "    </tr>\n",
       "    <tr>\n",
       "      <th>...</th>\n",
       "      <td>...</td>\n",
       "      <td>...</td>\n",
       "      <td>...</td>\n",
       "    </tr>\n",
       "    <tr>\n",
       "      <th>1119</th>\n",
       "      <td>XOne</td>\n",
       "      <td>XCOM 2</td>\n",
       "      <td>0.04</td>\n",
       "    </tr>\n",
       "    <tr>\n",
       "      <th>1120</th>\n",
       "      <td>XOne</td>\n",
       "      <td>ZombiU</td>\n",
       "      <td>0.01</td>\n",
       "    </tr>\n",
       "    <tr>\n",
       "      <th>1121</th>\n",
       "      <td>XOne</td>\n",
       "      <td>Zombie Army Trilogy</td>\n",
       "      <td>0.10</td>\n",
       "    </tr>\n",
       "    <tr>\n",
       "      <th>1122</th>\n",
       "      <td>XOne</td>\n",
       "      <td>Zoo Tycoon (2013)</td>\n",
       "      <td>0.33</td>\n",
       "    </tr>\n",
       "    <tr>\n",
       "      <th>1123</th>\n",
       "      <td>XOne</td>\n",
       "      <td>Zumba Fitness: World Party</td>\n",
       "      <td>0.22</td>\n",
       "    </tr>\n",
       "  </tbody>\n",
       "</table>\n",
       "<p>1124 rows × 3 columns</p>\n",
       "</div>"
      ],
      "text/plain": [
       "     platform                         name  total_sales\n",
       "0         3DS               Beyblade Burst         0.06\n",
       "1         3DS            Fire Emblem Fates         2.08\n",
       "2         3DS         Frozen: Olaf's Quest         0.54\n",
       "3         3DS   Haikyu!! Cross Team Match!         0.08\n",
       "4         3DS     12-Sai. Honto no Kimochi         0.14\n",
       "...       ...                          ...          ...\n",
       "1119     XOne                       XCOM 2         0.04\n",
       "1120     XOne                       ZombiU         0.01\n",
       "1121     XOne          Zombie Army Trilogy         0.10\n",
       "1122     XOne            Zoo Tycoon (2013)         0.33\n",
       "1123     XOne   Zumba Fitness: World Party         0.22\n",
       "\n",
       "[1124 rows x 3 columns]"
      ]
     },
     "metadata": {},
     "output_type": "display_data"
    }
   ],
   "source": [
    "#box plot for the global sales of all games, broken down by platform\n",
    "cols = ['name', 'platform', 'total_sales']\n",
    "sales_game_plat = df_games[cols]\n",
    "sales_game_plat= sales_game_plat.groupby(['platform', 'name'])['total_sales'].sum().reset_index()\n",
    "# platform_1.rename(columns = {\"total_sales\":\"platform_sales\"},inplace=True)\n",
    "display(sales_game_plat)"
   ]
  },
  {
   "cell_type": "code",
   "execution_count": 47,
   "metadata": {},
   "outputs": [
    {
     "data": {
      "text/plain": [
       "<AxesSubplot:title={'center':'Global Sales per Platform'}, xlabel='platform', ylabel='total_sales'>"
      ]
     },
     "execution_count": 47,
     "metadata": {},
     "output_type": "execute_result"
    },
    {
     "data": {
      "image/png": "[encoded data removed]",
      "text/plain": [
       "<Figure size 1080x720 with 1 Axes>"
      ]
     },
     "metadata": {
      "needs_background": "light"
     },
     "output_type": "display_data"
    }
   ],
   "source": [
    "##box plot for the global sales of all games\n",
    "plt.figure(figsize=(15,10))\n",
    "plt.title('Global Sales per Platform')\n",
    "plt.xlabel(\"Platform\")\n",
    "plt.ylabel(\"Sales\")\n",
    "sns.barplot(x='platform',y='total_sales',data=sales_game_plat)"
   ]
  },
  {
   "cell_type": "markdown",
   "metadata": {},
   "source": [
    "Are the differences in sales significant? What about average sales on various platforms? Describe your findings.\n",
    "\n",
    "The average sales on various platforms are significantly different. It's clear some platforms make higher profit than others on a large scale. These are the platforms to target when your goal is high revenue."
   ]
  },
  {
   "cell_type": "code",
   "execution_count": 48,
   "metadata": {},
   "outputs": [
    {
     "data": {
      "text/html": [
       "<div>\n",
       "<style scoped>\n",
       "    .dataframe tbody tr th:only-of-type {\n",
       "        vertical-align: middle;\n",
       "    }\n",
       "\n",
       "    .dataframe tbody tr th {\n",
       "        vertical-align: top;\n",
       "    }\n",
       "\n",
       "    .dataframe thead th {\n",
       "        text-align: right;\n",
       "    }\n",
       "</style>\n",
       "<table border=\"1\" class=\"dataframe\">\n",
       "  <thead>\n",
       "    <tr style=\"text-align: right;\">\n",
       "      <th></th>\n",
       "      <th>name</th>\n",
       "      <th>platform</th>\n",
       "      <th>year_of_release</th>\n",
       "      <th>genre</th>\n",
       "      <th>na_sales</th>\n",
       "      <th>eu_sales</th>\n",
       "      <th>jp_sales</th>\n",
       "      <th>other_sales</th>\n",
       "      <th>critic_score</th>\n",
       "      <th>user_score</th>\n",
       "      <th>rating</th>\n",
       "      <th>total_sales</th>\n",
       "    </tr>\n",
       "  </thead>\n",
       "  <tbody>\n",
       "    <tr>\n",
       "      <th>31</th>\n",
       "      <td>Call of Duty: Black Ops 3</td>\n",
       "      <td>PS4</td>\n",
       "      <td>2015</td>\n",
       "      <td>Shooter</td>\n",
       "      <td>6.03</td>\n",
       "      <td>5.86</td>\n",
       "      <td>0.36</td>\n",
       "      <td>2.38</td>\n",
       "      <td>0</td>\n",
       "      <td>0</td>\n",
       "      <td>unknown</td>\n",
       "      <td>12.61</td>\n",
       "    </tr>\n",
       "    <tr>\n",
       "      <th>33</th>\n",
       "      <td>Pokemon X/Pokemon Y</td>\n",
       "      <td>3DS</td>\n",
       "      <td>2013</td>\n",
       "      <td>Role-Playing</td>\n",
       "      <td>5.28</td>\n",
       "      <td>4.19</td>\n",
       "      <td>4.35</td>\n",
       "      <td>0.78</td>\n",
       "      <td>0</td>\n",
       "      <td>0</td>\n",
       "      <td>unknown</td>\n",
       "      <td>18.17</td>\n",
       "    </tr>\n",
       "    <tr>\n",
       "      <th>42</th>\n",
       "      <td>Grand Theft Auto V</td>\n",
       "      <td>PS4</td>\n",
       "      <td>2014</td>\n",
       "      <td>Action</td>\n",
       "      <td>3.96</td>\n",
       "      <td>6.31</td>\n",
       "      <td>0.38</td>\n",
       "      <td>1.97</td>\n",
       "      <td>97</td>\n",
       "      <td>8</td>\n",
       "      <td>M</td>\n",
       "      <td>11.03</td>\n",
       "    </tr>\n",
       "    <tr>\n",
       "      <th>47</th>\n",
       "      <td>Pokemon Omega Ruby/Pokemon Alpha Sapphire</td>\n",
       "      <td>3DS</td>\n",
       "      <td>2014</td>\n",
       "      <td>Role-Playing</td>\n",
       "      <td>4.35</td>\n",
       "      <td>3.49</td>\n",
       "      <td>3.10</td>\n",
       "      <td>0.74</td>\n",
       "      <td>0</td>\n",
       "      <td>0</td>\n",
       "      <td>unknown</td>\n",
       "      <td>14.04</td>\n",
       "    </tr>\n",
       "    <tr>\n",
       "      <th>77</th>\n",
       "      <td>FIFA 16</td>\n",
       "      <td>PS4</td>\n",
       "      <td>2015</td>\n",
       "      <td>Sports</td>\n",
       "      <td>1.12</td>\n",
       "      <td>6.12</td>\n",
       "      <td>0.06</td>\n",
       "      <td>1.28</td>\n",
       "      <td>82</td>\n",
       "      <td>4</td>\n",
       "      <td>E</td>\n",
       "      <td>7.36</td>\n",
       "    </tr>\n",
       "    <tr>\n",
       "      <th>...</th>\n",
       "      <td>...</td>\n",
       "      <td>...</td>\n",
       "      <td>...</td>\n",
       "      <td>...</td>\n",
       "      <td>...</td>\n",
       "      <td>...</td>\n",
       "      <td>...</td>\n",
       "      <td>...</td>\n",
       "      <td>...</td>\n",
       "      <td>...</td>\n",
       "      <td>...</td>\n",
       "      <td>...</td>\n",
       "    </tr>\n",
       "    <tr>\n",
       "      <th>16660</th>\n",
       "      <td>Prison Architect</td>\n",
       "      <td>XOne</td>\n",
       "      <td>2016</td>\n",
       "      <td>Action</td>\n",
       "      <td>0.01</td>\n",
       "      <td>0.00</td>\n",
       "      <td>0.00</td>\n",
       "      <td>0.00</td>\n",
       "      <td>74</td>\n",
       "      <td>6</td>\n",
       "      <td>unknown</td>\n",
       "      <td>0.01</td>\n",
       "    </tr>\n",
       "    <tr>\n",
       "      <th>16668</th>\n",
       "      <td>Fujiko F. Fujio Characters: Great Assembly! Sl...</td>\n",
       "      <td>3DS</td>\n",
       "      <td>2014</td>\n",
       "      <td>Action</td>\n",
       "      <td>0.00</td>\n",
       "      <td>0.00</td>\n",
       "      <td>0.01</td>\n",
       "      <td>0.00</td>\n",
       "      <td>0</td>\n",
       "      <td>0</td>\n",
       "      <td>unknown</td>\n",
       "      <td>0.02</td>\n",
       "    </tr>\n",
       "    <tr>\n",
       "      <th>16672</th>\n",
       "      <td>Metal Gear Solid V: The Definitive Experience</td>\n",
       "      <td>XOne</td>\n",
       "      <td>2016</td>\n",
       "      <td>Action</td>\n",
       "      <td>0.01</td>\n",
       "      <td>0.00</td>\n",
       "      <td>0.00</td>\n",
       "      <td>0.00</td>\n",
       "      <td>0</td>\n",
       "      <td>0</td>\n",
       "      <td>M</td>\n",
       "      <td>0.01</td>\n",
       "    </tr>\n",
       "    <tr>\n",
       "      <th>16677</th>\n",
       "      <td>Aikatsu Stars! My Special Appeal</td>\n",
       "      <td>3DS</td>\n",
       "      <td>2016</td>\n",
       "      <td>Action</td>\n",
       "      <td>0.00</td>\n",
       "      <td>0.00</td>\n",
       "      <td>0.01</td>\n",
       "      <td>0.00</td>\n",
       "      <td>0</td>\n",
       "      <td>0</td>\n",
       "      <td>unknown</td>\n",
       "      <td>0.02</td>\n",
       "    </tr>\n",
       "    <tr>\n",
       "      <th>16682</th>\n",
       "      <td>Grisaia no Kajitsu: La Fruit de la Grisaia</td>\n",
       "      <td>PSP</td>\n",
       "      <td>2013</td>\n",
       "      <td>Adventure</td>\n",
       "      <td>0.00</td>\n",
       "      <td>0.00</td>\n",
       "      <td>0.01</td>\n",
       "      <td>0.00</td>\n",
       "      <td>0</td>\n",
       "      <td>0</td>\n",
       "      <td>unknown</td>\n",
       "      <td>0.02</td>\n",
       "    </tr>\n",
       "  </tbody>\n",
       "</table>\n",
       "<p>1124 rows × 12 columns</p>\n",
       "</div>"
      ],
      "text/plain": [
       "                                                    name platform  \\\n",
       "31                             Call of Duty: Black Ops 3      PS4   \n",
       "33                                   Pokemon X/Pokemon Y      3DS   \n",
       "42                                    Grand Theft Auto V      PS4   \n",
       "47             Pokemon Omega Ruby/Pokemon Alpha Sapphire      3DS   \n",
       "77                                               FIFA 16      PS4   \n",
       "...                                                  ...      ...   \n",
       "16660                                   Prison Architect     XOne   \n",
       "16668  Fujiko F. Fujio Characters: Great Assembly! Sl...      3DS   \n",
       "16672      Metal Gear Solid V: The Definitive Experience     XOne   \n",
       "16677                   Aikatsu Stars! My Special Appeal      3DS   \n",
       "16682         Grisaia no Kajitsu: La Fruit de la Grisaia      PSP   \n",
       "\n",
       "       year_of_release         genre  na_sales  eu_sales  jp_sales  \\\n",
       "31                2015       Shooter      6.03      5.86      0.36   \n",
       "33                2013  Role-Playing      5.28      4.19      4.35   \n",
       "42                2014        Action      3.96      6.31      0.38   \n",
       "47                2014  Role-Playing      4.35      3.49      3.10   \n",
       "77                2015        Sports      1.12      6.12      0.06   \n",
       "...                ...           ...       ...       ...       ...   \n",
       "16660             2016        Action      0.01      0.00      0.00   \n",
       "16668             2014        Action      0.00      0.00      0.01   \n",
       "16672             2016        Action      0.01      0.00      0.00   \n",
       "16677             2016        Action      0.00      0.00      0.01   \n",
       "16682             2013     Adventure      0.00      0.00      0.01   \n",
       "\n",
       "       other_sales  critic_score  user_score   rating  total_sales  \n",
       "31            2.38             0           0  unknown        12.61  \n",
       "33            0.78             0           0  unknown        18.17  \n",
       "42            1.97            97           8        M        11.03  \n",
       "47            0.74             0           0  unknown        14.04  \n",
       "77            1.28            82           4        E         7.36  \n",
       "...            ...           ...         ...      ...          ...  \n",
       "16660         0.00            74           6  unknown         0.01  \n",
       "16668         0.00             0           0  unknown         0.02  \n",
       "16672         0.00             0           0        M         0.01  \n",
       "16677         0.00             0           0  unknown         0.02  \n",
       "16682         0.00             0           0  unknown         0.02  \n",
       "\n",
       "[1124 rows x 12 columns]"
      ]
     },
     "execution_count": 48,
     "metadata": {},
     "output_type": "execute_result"
    }
   ],
   "source": [
    "df_games"
   ]
  },
  {
   "cell_type": "markdown",
   "metadata": {},
   "source": [
    "### Sales per genre "
   ]
  },
  {
   "cell_type": "markdown",
   "metadata": {},
   "source": [
    "Now I need to know which genre of games I should target for high revenue. I notice Action, Sports, Role-playing, shooter are veyr popular. I will target these games. Is this genre profitable in all regions? Next I need to break it down by region."
   ]
  },
  {
   "cell_type": "code",
   "execution_count": 49,
   "metadata": {},
   "outputs": [
    {
     "data": {
      "text/html": [
       "<div>\n",
       "<style scoped>\n",
       "    .dataframe tbody tr th:only-of-type {\n",
       "        vertical-align: middle;\n",
       "    }\n",
       "\n",
       "    .dataframe tbody tr th {\n",
       "        vertical-align: top;\n",
       "    }\n",
       "\n",
       "    .dataframe thead th {\n",
       "        text-align: right;\n",
       "    }\n",
       "</style>\n",
       "<table border=\"1\" class=\"dataframe\">\n",
       "  <thead>\n",
       "    <tr style=\"text-align: right;\">\n",
       "      <th></th>\n",
       "      <th>genre</th>\n",
       "      <th>genre_sales</th>\n",
       "    </tr>\n",
       "  </thead>\n",
       "  <tbody>\n",
       "    <tr>\n",
       "      <th>5</th>\n",
       "      <td>Puzzle</td>\n",
       "      <td>4.00</td>\n",
       "    </tr>\n",
       "    <tr>\n",
       "      <th>11</th>\n",
       "      <td>Strategy</td>\n",
       "      <td>4.48</td>\n",
       "    </tr>\n",
       "    <tr>\n",
       "      <th>1</th>\n",
       "      <td>Adventure</td>\n",
       "      <td>15.07</td>\n",
       "    </tr>\n",
       "    <tr>\n",
       "      <th>9</th>\n",
       "      <td>Simulation</td>\n",
       "      <td>15.25</td>\n",
       "    </tr>\n",
       "    <tr>\n",
       "      <th>2</th>\n",
       "      <td>Fighting</td>\n",
       "      <td>27.56</td>\n",
       "    </tr>\n",
       "    <tr>\n",
       "      <th>6</th>\n",
       "      <td>Racing</td>\n",
       "      <td>27.73</td>\n",
       "    </tr>\n",
       "    <tr>\n",
       "      <th>3</th>\n",
       "      <td>Misc</td>\n",
       "      <td>34.05</td>\n",
       "    </tr>\n",
       "    <tr>\n",
       "      <th>4</th>\n",
       "      <td>Platform</td>\n",
       "      <td>35.36</td>\n",
       "    </tr>\n",
       "    <tr>\n",
       "      <th>10</th>\n",
       "      <td>Sports</td>\n",
       "      <td>78.63</td>\n",
       "    </tr>\n",
       "    <tr>\n",
       "      <th>8</th>\n",
       "      <td>Shooter</td>\n",
       "      <td>139.16</td>\n",
       "    </tr>\n",
       "    <tr>\n",
       "      <th>7</th>\n",
       "      <td>Role-Playing</td>\n",
       "      <td>140.85</td>\n",
       "    </tr>\n",
       "    <tr>\n",
       "      <th>0</th>\n",
       "      <td>Action</td>\n",
       "      <td>187.35</td>\n",
       "    </tr>\n",
       "  </tbody>\n",
       "</table>\n",
       "</div>"
      ],
      "text/plain": [
       "           genre  genre_sales\n",
       "5         Puzzle         4.00\n",
       "11      Strategy         4.48\n",
       "1      Adventure        15.07\n",
       "9     Simulation        15.25\n",
       "2       Fighting        27.56\n",
       "6         Racing        27.73\n",
       "3           Misc        34.05\n",
       "4       Platform        35.36\n",
       "10        Sports        78.63\n",
       "8        Shooter       139.16\n",
       "7   Role-Playing       140.85\n",
       "0         Action       187.35"
      ]
     },
     "metadata": {},
     "output_type": "display_data"
    }
   ],
   "source": [
    "#calculate sales of genre\n",
    "cols = ['total_sales', 'genre']\n",
    "df_agg_3 = df_games[cols]\n",
    "df_agg_3= df_agg_3.groupby(['genre']).sum().reset_index()\n",
    "df_agg_3.rename(columns = {\"total_sales\":\"genre_sales\"},inplace=True)\n",
    "display(df_agg_3.sort_values(by=['genre_sales']))"
   ]
  },
  {
   "cell_type": "markdown",
   "metadata": {},
   "source": [
    "## Create "
   ]
  },
  {
   "cell_type": "markdown",
   "metadata": {},
   "source": [
    "In Create: I made profiles for the different region sales. I determine the top 5 platform's sales for each region. I'm looking to see what platforms we should target these countries with, so I can make the most revenue based on that info. I make a graph to see the top 5 platform's visually. I repeat the process for genre and ESRB, to determine which reflect the highest revenue. "
   ]
  },
  {
   "cell_type": "markdown",
   "metadata": {},
   "source": [
    "For each region (NA, EU, JP), determine:\n",
    "1. The top five platforms. Describe variations in their market shares from region to region.\n",
    "2. The top five genres. Explain the difference.\n",
    "3. Do ESRB ratings affect sales in individual regions?"
   ]
  },
  {
   "cell_type": "markdown",
   "metadata": {},
   "source": [
    "### NA user profile"
   ]
  },
  {
   "cell_type": "markdown",
   "metadata": {},
   "source": [
    "#### Platform "
   ]
  },
  {
   "cell_type": "code",
   "execution_count": 50,
   "metadata": {},
   "outputs": [
    {
     "data": {
      "text/html": [
       "<div>\n",
       "<style scoped>\n",
       "    .dataframe tbody tr th:only-of-type {\n",
       "        vertical-align: middle;\n",
       "    }\n",
       "\n",
       "    .dataframe tbody tr th {\n",
       "        vertical-align: top;\n",
       "    }\n",
       "\n",
       "    .dataframe thead th {\n",
       "        text-align: right;\n",
       "    }\n",
       "</style>\n",
       "<table border=\"1\" class=\"dataframe\">\n",
       "  <thead>\n",
       "    <tr style=\"text-align: right;\">\n",
       "      <th></th>\n",
       "      <th>platform</th>\n",
       "      <th>na_agg_sales</th>\n",
       "    </tr>\n",
       "  </thead>\n",
       "  <tbody>\n",
       "    <tr>\n",
       "      <th>0</th>\n",
       "      <td>3DS</td>\n",
       "      <td>0.126073</td>\n",
       "    </tr>\n",
       "    <tr>\n",
       "      <th>1</th>\n",
       "      <td>PS4</td>\n",
       "      <td>0.277398</td>\n",
       "    </tr>\n",
       "    <tr>\n",
       "      <th>2</th>\n",
       "      <td>PSP</td>\n",
       "      <td>0.000000</td>\n",
       "    </tr>\n",
       "    <tr>\n",
       "      <th>3</th>\n",
       "      <td>WiiU</td>\n",
       "      <td>0.254000</td>\n",
       "    </tr>\n",
       "    <tr>\n",
       "      <th>4</th>\n",
       "      <td>XOne</td>\n",
       "      <td>0.377004</td>\n",
       "    </tr>\n",
       "  </tbody>\n",
       "</table>\n",
       "</div>"
      ],
      "text/plain": [
       "  platform  na_agg_sales\n",
       "0      3DS      0.126073\n",
       "1      PS4      0.277398\n",
       "2      PSP      0.000000\n",
       "3     WiiU      0.254000\n",
       "4     XOne      0.377004"
      ]
     },
     "metadata": {},
     "output_type": "display_data"
    }
   ],
   "source": [
    "#calculate top 5 platforms\n",
    "#groupby na_sales by platform\n",
    "cols = ['na_sales', 'platform']\n",
    "df_na = df_games[cols]\n",
    "df_na= df_na.groupby(['platform']).mean().reset_index()\n",
    "df_na.rename(columns = {\"na_sales\":\"na_agg_sales\"},inplace=True)\n",
    "display(df_na)"
   ]
  },
  {
   "cell_type": "code",
   "execution_count": 51,
   "metadata": {},
   "outputs": [
    {
     "data": {
      "image/png": "[encoded data removed]",
      "text/plain": [
       "<Figure size 432x288 with 1 Axes>"
      ]
     },
     "metadata": {
      "needs_background": "light"
     },
     "output_type": "display_data"
    }
   ],
   "source": [
    "#sort values\n",
    "#then plot a graph with it\n",
    "df_games.groupby(['platform'])['na_sales'].sum().sort_values(ascending=False).head(5).plot(kind='bar')\n",
    "plt.title('Top 5 NA Platform Sales')\n",
    "plt.ylabel(\"Sales\")\n",
    "plt.xlabel(\"Platform\")\n",
    "plt.show()"
   ]
  },
  {
   "cell_type": "markdown",
   "metadata": {},
   "source": [
    "#### Genre "
   ]
  },
  {
   "cell_type": "code",
   "execution_count": 52,
   "metadata": {},
   "outputs": [
    {
     "data": {
      "text/html": [
       "<div>\n",
       "<style scoped>\n",
       "    .dataframe tbody tr th:only-of-type {\n",
       "        vertical-align: middle;\n",
       "    }\n",
       "\n",
       "    .dataframe tbody tr th {\n",
       "        vertical-align: top;\n",
       "    }\n",
       "\n",
       "    .dataframe thead th {\n",
       "        text-align: right;\n",
       "    }\n",
       "</style>\n",
       "<table border=\"1\" class=\"dataframe\">\n",
       "  <thead>\n",
       "    <tr style=\"text-align: right;\">\n",
       "      <th></th>\n",
       "      <th>genre</th>\n",
       "      <th>na_agg_sales</th>\n",
       "    </tr>\n",
       "  </thead>\n",
       "  <tbody>\n",
       "    <tr>\n",
       "      <th>0</th>\n",
       "      <td>Action</td>\n",
       "      <td>0.173259</td>\n",
       "    </tr>\n",
       "    <tr>\n",
       "      <th>1</th>\n",
       "      <td>Adventure</td>\n",
       "      <td>0.037619</td>\n",
       "    </tr>\n",
       "    <tr>\n",
       "      <th>2</th>\n",
       "      <td>Fighting</td>\n",
       "      <td>0.319730</td>\n",
       "    </tr>\n",
       "    <tr>\n",
       "      <th>3</th>\n",
       "      <td>Misc</td>\n",
       "      <td>0.121443</td>\n",
       "    </tr>\n",
       "    <tr>\n",
       "      <th>4</th>\n",
       "      <td>Platform</td>\n",
       "      <td>0.298085</td>\n",
       "    </tr>\n",
       "    <tr>\n",
       "      <th>5</th>\n",
       "      <td>Puzzle</td>\n",
       "      <td>0.059286</td>\n",
       "    </tr>\n",
       "    <tr>\n",
       "      <th>6</th>\n",
       "      <td>Racing</td>\n",
       "      <td>0.250000</td>\n",
       "    </tr>\n",
       "    <tr>\n",
       "      <th>7</th>\n",
       "      <td>Role-Playing</td>\n",
       "      <td>0.248849</td>\n",
       "    </tr>\n",
       "    <tr>\n",
       "      <th>8</th>\n",
       "      <td>Shooter</td>\n",
       "      <td>0.813636</td>\n",
       "    </tr>\n",
       "    <tr>\n",
       "      <th>9</th>\n",
       "      <td>Simulation</td>\n",
       "      <td>0.091923</td>\n",
       "    </tr>\n",
       "    <tr>\n",
       "      <th>10</th>\n",
       "      <td>Sports</td>\n",
       "      <td>0.359118</td>\n",
       "    </tr>\n",
       "    <tr>\n",
       "      <th>11</th>\n",
       "      <td>Strategy</td>\n",
       "      <td>0.053913</td>\n",
       "    </tr>\n",
       "  </tbody>\n",
       "</table>\n",
       "</div>"
      ],
      "text/plain": [
       "           genre  na_agg_sales\n",
       "0         Action      0.173259\n",
       "1      Adventure      0.037619\n",
       "2       Fighting      0.319730\n",
       "3           Misc      0.121443\n",
       "4       Platform      0.298085\n",
       "5         Puzzle      0.059286\n",
       "6         Racing      0.250000\n",
       "7   Role-Playing      0.248849\n",
       "8        Shooter      0.813636\n",
       "9     Simulation      0.091923\n",
       "10        Sports      0.359118\n",
       "11      Strategy      0.053913"
      ]
     },
     "metadata": {},
     "output_type": "display_data"
    }
   ],
   "source": [
    "#calculate top 5 genres\n",
    "cols = ['na_sales', 'genre']\n",
    "df_na_genre = df_games[cols]\n",
    "df_na_genre= df_na_genre.groupby(['genre']).mean().reset_index()\n",
    "df_na_genre.rename(columns = {\"na_sales\":\"na_agg_sales\"},inplace=True)\n",
    "display(df_na_genre)\n"
   ]
  },
  {
   "cell_type": "code",
   "execution_count": 53,
   "metadata": {},
   "outputs": [
    {
     "data": {
      "image/png": "[encoded data removed]",
      "text/plain": [
       "<Figure size 432x288 with 1 Axes>"
      ]
     },
     "metadata": {
      "needs_background": "light"
     },
     "output_type": "display_data"
    }
   ],
   "source": [
    "#sort values\n",
    "#then plot a graph with it\n",
    "df_games.groupby(['genre'])['na_sales'].sum().sort_values(ascending=False).head(5).plot(kind='bar')\n",
    "plt.title('Top 5 NA Genre Sales')\n",
    "plt.ylabel(\"Sales\")\n",
    "plt.xlabel(\"Genre\")\n",
    "plt.show()"
   ]
  },
  {
   "cell_type": "markdown",
   "metadata": {},
   "source": [
    "#### ESRB"
   ]
  },
  {
   "cell_type": "code",
   "execution_count": 54,
   "metadata": {},
   "outputs": [
    {
     "data": {
      "text/html": [
       "<div>\n",
       "<style scoped>\n",
       "    .dataframe tbody tr th:only-of-type {\n",
       "        vertical-align: middle;\n",
       "    }\n",
       "\n",
       "    .dataframe tbody tr th {\n",
       "        vertical-align: top;\n",
       "    }\n",
       "\n",
       "    .dataframe thead th {\n",
       "        text-align: right;\n",
       "    }\n",
       "</style>\n",
       "<table border=\"1\" class=\"dataframe\">\n",
       "  <thead>\n",
       "    <tr style=\"text-align: right;\">\n",
       "      <th></th>\n",
       "      <th>rating</th>\n",
       "      <th>na_agg_sales</th>\n",
       "    </tr>\n",
       "  </thead>\n",
       "  <tbody>\n",
       "    <tr>\n",
       "      <th>0</th>\n",
       "      <td>E</td>\n",
       "      <td>0.307738</td>\n",
       "    </tr>\n",
       "    <tr>\n",
       "      <th>1</th>\n",
       "      <td>E10+</td>\n",
       "      <td>0.211020</td>\n",
       "    </tr>\n",
       "    <tr>\n",
       "      <th>2</th>\n",
       "      <td>M</td>\n",
       "      <td>0.549693</td>\n",
       "    </tr>\n",
       "    <tr>\n",
       "      <th>3</th>\n",
       "      <td>T</td>\n",
       "      <td>0.196452</td>\n",
       "    </tr>\n",
       "    <tr>\n",
       "      <th>4</th>\n",
       "      <td>unknown</td>\n",
       "      <td>0.135438</td>\n",
       "    </tr>\n",
       "  </tbody>\n",
       "</table>\n",
       "</div>"
      ],
      "text/plain": [
       "    rating  na_agg_sales\n",
       "0        E      0.307738\n",
       "1     E10+      0.211020\n",
       "2        M      0.549693\n",
       "3        T      0.196452\n",
       "4  unknown      0.135438"
      ]
     },
     "metadata": {},
     "output_type": "display_data"
    }
   ],
   "source": [
    "#find the sales based on ESRB rating\n",
    "cols = ['na_sales', 'rating']\n",
    "df_na = df_games[cols]\n",
    "df_na= df_na.groupby(['rating']).mean().reset_index()\n",
    "df_na.rename(columns = {\"na_sales\":\"na_agg_sales\"},inplace=True)\n",
    "display(df_na)"
   ]
  },
  {
   "cell_type": "code",
   "execution_count": 55,
   "metadata": {},
   "outputs": [
    {
     "data": {
      "image/png": "[encoded data removed]",
      "text/plain": [
       "<Figure size 432x288 with 1 Axes>"
      ]
     },
     "metadata": {
      "needs_background": "light"
     },
     "output_type": "display_data"
    }
   ],
   "source": [
    "#sort values\n",
    "#then plot a graph with it\n",
    "df_games.groupby(['rating'])['na_sales'].sum().sort_values(ascending=False).head(5).plot(kind='bar')\n",
    "plt.title('Top 5 NA Genre Sales')\n",
    "plt.ylabel(\"Sales\")\n",
    "plt.xlabel(\"Rating\")\n",
    "plt.show()"
   ]
  },
  {
   "cell_type": "markdown",
   "metadata": {},
   "source": [
    "### EU user profile "
   ]
  },
  {
   "cell_type": "markdown",
   "metadata": {},
   "source": [
    "#### Platform "
   ]
  },
  {
   "cell_type": "code",
   "execution_count": 56,
   "metadata": {},
   "outputs": [
    {
     "data": {
      "text/html": [
       "<div>\n",
       "<style scoped>\n",
       "    .dataframe tbody tr th:only-of-type {\n",
       "        vertical-align: middle;\n",
       "    }\n",
       "\n",
       "    .dataframe tbody tr th {\n",
       "        vertical-align: top;\n",
       "    }\n",
       "\n",
       "    .dataframe thead th {\n",
       "        text-align: right;\n",
       "    }\n",
       "</style>\n",
       "<table border=\"1\" class=\"dataframe\">\n",
       "  <thead>\n",
       "    <tr style=\"text-align: right;\">\n",
       "      <th></th>\n",
       "      <th>platform</th>\n",
       "      <th>eu_agg_sales</th>\n",
       "    </tr>\n",
       "  </thead>\n",
       "  <tbody>\n",
       "    <tr>\n",
       "      <th>0</th>\n",
       "      <td>3DS</td>\n",
       "      <td>0.102178</td>\n",
       "    </tr>\n",
       "    <tr>\n",
       "      <th>1</th>\n",
       "      <td>PS4</td>\n",
       "      <td>0.359923</td>\n",
       "    </tr>\n",
       "    <tr>\n",
       "      <th>2</th>\n",
       "      <td>PSP</td>\n",
       "      <td>0.002537</td>\n",
       "    </tr>\n",
       "    <tr>\n",
       "      <th>3</th>\n",
       "      <td>WiiU</td>\n",
       "      <td>0.172609</td>\n",
       "    </tr>\n",
       "    <tr>\n",
       "      <th>4</th>\n",
       "      <td>XOne</td>\n",
       "      <td>0.208866</td>\n",
       "    </tr>\n",
       "  </tbody>\n",
       "</table>\n",
       "</div>"
      ],
      "text/plain": [
       "  platform  eu_agg_sales\n",
       "0      3DS      0.102178\n",
       "1      PS4      0.359923\n",
       "2      PSP      0.002537\n",
       "3     WiiU      0.172609\n",
       "4     XOne      0.208866"
      ]
     },
     "metadata": {},
     "output_type": "display_data"
    }
   ],
   "source": [
    "#calculate top 5 platforms\n",
    "cols = ['eu_sales', 'platform']\n",
    "df_eu = df_games[cols]\n",
    "df_eu= df_eu.groupby(['platform']).mean().reset_index()\n",
    "df_eu.rename(columns = {\"eu_sales\":\"eu_agg_sales\"},inplace=True)\n",
    "display(df_eu)"
   ]
  },
  {
   "cell_type": "code",
   "execution_count": 57,
   "metadata": {},
   "outputs": [
    {
     "data": {
      "image/png": "[encoded data removed]",
      "text/plain": [
       "<Figure size 432x288 with 1 Axes>"
      ]
     },
     "metadata": {
      "needs_background": "light"
     },
     "output_type": "display_data"
    }
   ],
   "source": [
    "#sort values\n",
    "#then plot a graph with it\n",
    "df_games.groupby(['platform'])['eu_sales'].sum().sort_values(ascending=False).head(5).plot(kind='bar')\n",
    "plt.title('Top 5 EU Platform Sales')\n",
    "plt.ylabel(\"Sales\")\n",
    "plt.xlabel(\"Platform\")\n",
    "plt.show()"
   ]
  },
  {
   "cell_type": "markdown",
   "metadata": {},
   "source": [
    "#### Genre "
   ]
  },
  {
   "cell_type": "code",
   "execution_count": 58,
   "metadata": {},
   "outputs": [
    {
     "data": {
      "text/html": [
       "<div>\n",
       "<style scoped>\n",
       "    .dataframe tbody tr th:only-of-type {\n",
       "        vertical-align: middle;\n",
       "    }\n",
       "\n",
       "    .dataframe tbody tr th {\n",
       "        vertical-align: top;\n",
       "    }\n",
       "\n",
       "    .dataframe thead th {\n",
       "        text-align: right;\n",
       "    }\n",
       "</style>\n",
       "<table border=\"1\" class=\"dataframe\">\n",
       "  <thead>\n",
       "    <tr style=\"text-align: right;\">\n",
       "      <th></th>\n",
       "      <th>genre</th>\n",
       "      <th>eu_agg_sales</th>\n",
       "    </tr>\n",
       "  </thead>\n",
       "  <tbody>\n",
       "    <tr>\n",
       "      <th>0</th>\n",
       "      <td>Action</td>\n",
       "      <td>0.166667</td>\n",
       "    </tr>\n",
       "    <tr>\n",
       "      <th>1</th>\n",
       "      <td>Adventure</td>\n",
       "      <td>0.046095</td>\n",
       "    </tr>\n",
       "    <tr>\n",
       "      <th>2</th>\n",
       "      <td>Fighting</td>\n",
       "      <td>0.171081</td>\n",
       "    </tr>\n",
       "    <tr>\n",
       "      <th>3</th>\n",
       "      <td>Misc</td>\n",
       "      <td>0.097629</td>\n",
       "    </tr>\n",
       "    <tr>\n",
       "      <th>4</th>\n",
       "      <td>Platform</td>\n",
       "      <td>0.253830</td>\n",
       "    </tr>\n",
       "    <tr>\n",
       "      <th>5</th>\n",
       "      <td>Puzzle</td>\n",
       "      <td>0.070714</td>\n",
       "    </tr>\n",
       "    <tr>\n",
       "      <th>6</th>\n",
       "      <td>Racing</td>\n",
       "      <td>0.348780</td>\n",
       "    </tr>\n",
       "    <tr>\n",
       "      <th>7</th>\n",
       "      <td>Role-Playing</td>\n",
       "      <td>0.202878</td>\n",
       "    </tr>\n",
       "    <tr>\n",
       "      <th>8</th>\n",
       "      <td>Shooter</td>\n",
       "      <td>0.665227</td>\n",
       "    </tr>\n",
       "    <tr>\n",
       "      <th>9</th>\n",
       "      <td>Simulation</td>\n",
       "      <td>0.167692</td>\n",
       "    </tr>\n",
       "    <tr>\n",
       "      <th>10</th>\n",
       "      <td>Sports</td>\n",
       "      <td>0.356078</td>\n",
       "    </tr>\n",
       "    <tr>\n",
       "      <th>11</th>\n",
       "      <td>Strategy</td>\n",
       "      <td>0.038261</td>\n",
       "    </tr>\n",
       "  </tbody>\n",
       "</table>\n",
       "</div>"
      ],
      "text/plain": [
       "           genre  eu_agg_sales\n",
       "0         Action      0.166667\n",
       "1      Adventure      0.046095\n",
       "2       Fighting      0.171081\n",
       "3           Misc      0.097629\n",
       "4       Platform      0.253830\n",
       "5         Puzzle      0.070714\n",
       "6         Racing      0.348780\n",
       "7   Role-Playing      0.202878\n",
       "8        Shooter      0.665227\n",
       "9     Simulation      0.167692\n",
       "10        Sports      0.356078\n",
       "11      Strategy      0.038261"
      ]
     },
     "metadata": {},
     "output_type": "display_data"
    }
   ],
   "source": [
    "#calculate top 5 genres\n",
    "#calculate top 5 genres\n",
    "cols = ['eu_sales', 'genre']\n",
    "df_eu_genre = df_games[cols]\n",
    "df_eu_genre= df_eu_genre.groupby(['genre']).mean().reset_index()\n",
    "df_eu_genre.rename(columns = {\"eu_sales\":\"eu_agg_sales\"},inplace=True)\n",
    "display(df_eu_genre)"
   ]
  },
  {
   "cell_type": "code",
   "execution_count": 59,
   "metadata": {},
   "outputs": [
    {
     "data": {
      "image/png": "[encoded data removed]",
      "text/plain": [
       "<Figure size 432x288 with 1 Axes>"
      ]
     },
     "metadata": {
      "needs_background": "light"
     },
     "output_type": "display_data"
    }
   ],
   "source": [
    "#sort values\n",
    "#then plot a graph with it\n",
    "df_games.groupby(['genre'])['eu_sales'].sum().sort_values(ascending=False).head(5).plot(kind='bar')\n",
    "plt.title('Top 5 EU Genre Sales')\n",
    "plt.ylabel(\"Sales\")\n",
    "plt.xlabel(\"Genre\")\n",
    "plt.show()"
   ]
  },
  {
   "cell_type": "markdown",
   "metadata": {},
   "source": [
    "#### ESRB "
   ]
  },
  {
   "cell_type": "code",
   "execution_count": 60,
   "metadata": {},
   "outputs": [
    {
     "data": {
      "text/html": [
       "<div>\n",
       "<style scoped>\n",
       "    .dataframe tbody tr th:only-of-type {\n",
       "        vertical-align: middle;\n",
       "    }\n",
       "\n",
       "    .dataframe tbody tr th {\n",
       "        vertical-align: top;\n",
       "    }\n",
       "\n",
       "    .dataframe thead th {\n",
       "        text-align: right;\n",
       "    }\n",
       "</style>\n",
       "<table border=\"1\" class=\"dataframe\">\n",
       "  <thead>\n",
       "    <tr style=\"text-align: right;\">\n",
       "      <th></th>\n",
       "      <th>rating</th>\n",
       "      <th>eu_agg_sales</th>\n",
       "    </tr>\n",
       "  </thead>\n",
       "  <tbody>\n",
       "    <tr>\n",
       "      <th>0</th>\n",
       "      <td>E</td>\n",
       "      <td>0.320536</td>\n",
       "    </tr>\n",
       "    <tr>\n",
       "      <th>1</th>\n",
       "      <td>E10+</td>\n",
       "      <td>0.156871</td>\n",
       "    </tr>\n",
       "    <tr>\n",
       "      <th>2</th>\n",
       "      <td>M</td>\n",
       "      <td>0.509264</td>\n",
       "    </tr>\n",
       "    <tr>\n",
       "      <th>3</th>\n",
       "      <td>T</td>\n",
       "      <td>0.165871</td>\n",
       "    </tr>\n",
       "    <tr>\n",
       "      <th>4</th>\n",
       "      <td>unknown</td>\n",
       "      <td>0.118187</td>\n",
       "    </tr>\n",
       "  </tbody>\n",
       "</table>\n",
       "</div>"
      ],
      "text/plain": [
       "    rating  eu_agg_sales\n",
       "0        E      0.320536\n",
       "1     E10+      0.156871\n",
       "2        M      0.509264\n",
       "3        T      0.165871\n",
       "4  unknown      0.118187"
      ]
     },
     "metadata": {},
     "output_type": "display_data"
    }
   ],
   "source": [
    "#find the sales based on ESRB rating\n",
    "cols = ['eu_sales', 'rating']\n",
    "df_eu = df_games[cols]\n",
    "df_eu= df_eu.groupby(['rating']).mean().reset_index()\n",
    "df_eu.rename(columns = {\"eu_sales\":\"eu_agg_sales\"},inplace=True)\n",
    "display(df_eu)"
   ]
  },
  {
   "cell_type": "code",
   "execution_count": 61,
   "metadata": {},
   "outputs": [
    {
     "data": {
      "image/png": "[encoded data removed]",
      "text/plain": [
       "<Figure size 432x288 with 1 Axes>"
      ]
     },
     "metadata": {
      "needs_background": "light"
     },
     "output_type": "display_data"
    }
   ],
   "source": [
    "#sort values\n",
    "#then plot a graph with it\n",
    "df_games.groupby(['rating'])['na_sales'].sum().sort_values(ascending=False).head(5).plot(kind='bar')\n",
    "plt.title('Top 5 NA Genre Sales')\n",
    "plt.ylabel(\"Sales\")\n",
    "plt.xlabel(\"Rating\")\n",
    "plt.show()"
   ]
  },
  {
   "cell_type": "markdown",
   "metadata": {},
   "source": [
    "### JP user profile "
   ]
  },
  {
   "cell_type": "markdown",
   "metadata": {},
   "source": [
    "#### Platform "
   ]
  },
  {
   "cell_type": "code",
   "execution_count": 62,
   "metadata": {},
   "outputs": [
    {
     "data": {
      "text/html": [
       "<div>\n",
       "<style scoped>\n",
       "    .dataframe tbody tr th:only-of-type {\n",
       "        vertical-align: middle;\n",
       "    }\n",
       "\n",
       "    .dataframe tbody tr th {\n",
       "        vertical-align: top;\n",
       "    }\n",
       "\n",
       "    .dataframe thead th {\n",
       "        text-align: right;\n",
       "    }\n",
       "</style>\n",
       "<table border=\"1\" class=\"dataframe\">\n",
       "  <thead>\n",
       "    <tr style=\"text-align: right;\">\n",
       "      <th></th>\n",
       "      <th>platform</th>\n",
       "      <th>jp_agg_sales</th>\n",
       "    </tr>\n",
       "  </thead>\n",
       "  <tbody>\n",
       "    <tr>\n",
       "      <th>0</th>\n",
       "      <td>3DS</td>\n",
       "      <td>0.223795</td>\n",
       "    </tr>\n",
       "    <tr>\n",
       "      <th>1</th>\n",
       "      <td>PS4</td>\n",
       "      <td>0.040714</td>\n",
       "    </tr>\n",
       "    <tr>\n",
       "      <th>2</th>\n",
       "      <td>PSP</td>\n",
       "      <td>0.049104</td>\n",
       "    </tr>\n",
       "    <tr>\n",
       "      <th>3</th>\n",
       "      <td>WiiU</td>\n",
       "      <td>0.094609</td>\n",
       "    </tr>\n",
       "    <tr>\n",
       "      <th>4</th>\n",
       "      <td>XOne</td>\n",
       "      <td>0.001377</td>\n",
       "    </tr>\n",
       "  </tbody>\n",
       "</table>\n",
       "</div>"
      ],
      "text/plain": [
       "  platform  jp_agg_sales\n",
       "0      3DS      0.223795\n",
       "1      PS4      0.040714\n",
       "2      PSP      0.049104\n",
       "3     WiiU      0.094609\n",
       "4     XOne      0.001377"
      ]
     },
     "metadata": {},
     "output_type": "display_data"
    }
   ],
   "source": [
    "#calculate top 5 platforms\n",
    "#calculate top 5 platforms\n",
    "cols = ['jp_sales', 'platform']\n",
    "df_jp = df_games[cols]\n",
    "df_jp= df_jp.groupby(['platform']).mean().reset_index()\n",
    "df_jp.rename(columns = {\"jp_sales\":\"jp_agg_sales\"},inplace=True)\n",
    "display(df_jp)"
   ]
  },
  {
   "cell_type": "code",
   "execution_count": 63,
   "metadata": {},
   "outputs": [
    {
     "data": {
      "image/png": "[encoded data removed]",
      "text/plain": [
       "<Figure size 432x288 with 1 Axes>"
      ]
     },
     "metadata": {
      "needs_background": "light"
     },
     "output_type": "display_data"
    }
   ],
   "source": [
    "#sort values\n",
    "#then plot a graph with it\n",
    "df_games.groupby(['platform'])['jp_sales'].sum().sort_values(ascending=False).head(5).plot(kind='bar')\n",
    "plt.title('Top 5 JP Platform Sales')\n",
    "plt.ylabel(\"Sales\")\n",
    "plt.xlabel(\"Platform\")\n",
    "plt.show()"
   ]
  },
  {
   "cell_type": "markdown",
   "metadata": {},
   "source": [
    "#### Genre "
   ]
  },
  {
   "cell_type": "code",
   "execution_count": 64,
   "metadata": {},
   "outputs": [
    {
     "data": {
      "text/html": [
       "<div>\n",
       "<style scoped>\n",
       "    .dataframe tbody tr th:only-of-type {\n",
       "        vertical-align: middle;\n",
       "    }\n",
       "\n",
       "    .dataframe tbody tr th {\n",
       "        vertical-align: top;\n",
       "    }\n",
       "\n",
       "    .dataframe thead th {\n",
       "        text-align: right;\n",
       "    }\n",
       "</style>\n",
       "<table border=\"1\" class=\"dataframe\">\n",
       "  <thead>\n",
       "    <tr style=\"text-align: right;\">\n",
       "      <th></th>\n",
       "      <th>genre</th>\n",
       "      <th>jp_agg_sales</th>\n",
       "    </tr>\n",
       "  </thead>\n",
       "  <tbody>\n",
       "    <tr>\n",
       "      <th>0</th>\n",
       "      <td>Action</td>\n",
       "      <td>0.061333</td>\n",
       "    </tr>\n",
       "    <tr>\n",
       "      <th>1</th>\n",
       "      <td>Adventure</td>\n",
       "      <td>0.029905</td>\n",
       "    </tr>\n",
       "    <tr>\n",
       "      <th>2</th>\n",
       "      <td>Fighting</td>\n",
       "      <td>0.127027</td>\n",
       "    </tr>\n",
       "    <tr>\n",
       "      <th>3</th>\n",
       "      <td>Misc</td>\n",
       "      <td>0.065979</td>\n",
       "    </tr>\n",
       "    <tr>\n",
       "      <th>4</th>\n",
       "      <td>Platform</td>\n",
       "      <td>0.100213</td>\n",
       "    </tr>\n",
       "    <tr>\n",
       "      <th>5</th>\n",
       "      <td>Puzzle</td>\n",
       "      <td>0.077857</td>\n",
       "    </tr>\n",
       "    <tr>\n",
       "      <th>6</th>\n",
       "      <td>Racing</td>\n",
       "      <td>0.038780</td>\n",
       "    </tr>\n",
       "    <tr>\n",
       "      <th>7</th>\n",
       "      <td>Role-Playing</td>\n",
       "      <td>0.280791</td>\n",
       "    </tr>\n",
       "    <tr>\n",
       "      <th>8</th>\n",
       "      <td>Shooter</td>\n",
       "      <td>0.051250</td>\n",
       "    </tr>\n",
       "    <tr>\n",
       "      <th>9</th>\n",
       "      <td>Simulation</td>\n",
       "      <td>0.163462</td>\n",
       "    </tr>\n",
       "    <tr>\n",
       "      <th>10</th>\n",
       "      <td>Sports</td>\n",
       "      <td>0.027843</td>\n",
       "    </tr>\n",
       "    <tr>\n",
       "      <th>11</th>\n",
       "      <td>Strategy</td>\n",
       "      <td>0.051304</td>\n",
       "    </tr>\n",
       "  </tbody>\n",
       "</table>\n",
       "</div>"
      ],
      "text/plain": [
       "           genre  jp_agg_sales\n",
       "0         Action      0.061333\n",
       "1      Adventure      0.029905\n",
       "2       Fighting      0.127027\n",
       "3           Misc      0.065979\n",
       "4       Platform      0.100213\n",
       "5         Puzzle      0.077857\n",
       "6         Racing      0.038780\n",
       "7   Role-Playing      0.280791\n",
       "8        Shooter      0.051250\n",
       "9     Simulation      0.163462\n",
       "10        Sports      0.027843\n",
       "11      Strategy      0.051304"
      ]
     },
     "metadata": {},
     "output_type": "display_data"
    }
   ],
   "source": [
    "#calculate top 5 genres\n",
    "cols = ['jp_sales', 'genre']\n",
    "df_jp_genre = df_games[cols]\n",
    "df_jp_genre= df_jp_genre.groupby(['genre']).mean().reset_index()\n",
    "df_jp_genre.rename(columns = {\"jp_sales\":\"jp_agg_sales\"},inplace=True)\n",
    "display(df_jp_genre)"
   ]
  },
  {
   "cell_type": "code",
   "execution_count": 65,
   "metadata": {},
   "outputs": [
    {
     "data": {
      "image/png": "[encoded data removed]",
      "text/plain": [
       "<Figure size 432x288 with 1 Axes>"
      ]
     },
     "metadata": {
      "needs_background": "light"
     },
     "output_type": "display_data"
    }
   ],
   "source": [
    "#sort values\n",
    "#then plot a graph with it\n",
    "df_games.groupby(['genre'])['jp_sales'].sum().sort_values(ascending=False).head(5).plot(kind='bar')\n",
    "plt.title('Top 5 JP Genre Sales')\n",
    "plt.ylabel(\"Sales\")\n",
    "plt.xlabel(\"Genre\")\n",
    "plt.show()"
   ]
  },
  {
   "cell_type": "markdown",
   "metadata": {},
   "source": [
    "#### ESRB "
   ]
  },
  {
   "cell_type": "code",
   "execution_count": 66,
   "metadata": {},
   "outputs": [
    {
     "data": {
      "text/html": [
       "<div>\n",
       "<style scoped>\n",
       "    .dataframe tbody tr th:only-of-type {\n",
       "        vertical-align: middle;\n",
       "    }\n",
       "\n",
       "    .dataframe tbody tr th {\n",
       "        vertical-align: top;\n",
       "    }\n",
       "\n",
       "    .dataframe thead th {\n",
       "        text-align: right;\n",
       "    }\n",
       "</style>\n",
       "<table border=\"1\" class=\"dataframe\">\n",
       "  <thead>\n",
       "    <tr style=\"text-align: right;\">\n",
       "      <th></th>\n",
       "      <th>rating</th>\n",
       "      <th>jp_agg_sales</th>\n",
       "    </tr>\n",
       "  </thead>\n",
       "  <tbody>\n",
       "    <tr>\n",
       "      <th>0</th>\n",
       "      <td>E</td>\n",
       "      <td>0.079405</td>\n",
       "    </tr>\n",
       "    <tr>\n",
       "      <th>1</th>\n",
       "      <td>E10+</td>\n",
       "      <td>0.036599</td>\n",
       "    </tr>\n",
       "    <tr>\n",
       "      <th>2</th>\n",
       "      <td>M</td>\n",
       "      <td>0.041411</td>\n",
       "    </tr>\n",
       "    <tr>\n",
       "      <th>3</th>\n",
       "      <td>T</td>\n",
       "      <td>0.055419</td>\n",
       "    </tr>\n",
       "    <tr>\n",
       "      <th>4</th>\n",
       "      <td>unknown</td>\n",
       "      <td>0.130794</td>\n",
       "    </tr>\n",
       "  </tbody>\n",
       "</table>\n",
       "</div>"
      ],
      "text/plain": [
       "    rating  jp_agg_sales\n",
       "0        E      0.079405\n",
       "1     E10+      0.036599\n",
       "2        M      0.041411\n",
       "3        T      0.055419\n",
       "4  unknown      0.130794"
      ]
     },
     "metadata": {},
     "output_type": "display_data"
    }
   ],
   "source": [
    "#find the sales based on ESRB rating\n",
    "#find the sales based on ESRB rating\n",
    "cols = ['jp_sales', 'rating']\n",
    "df_jp = df_games[cols]\n",
    "df_jp= df_jp.groupby(['rating']).mean().reset_index()\n",
    "df_jp.rename(columns = {\"jp_sales\":\"jp_agg_sales\"},inplace=True)\n",
    "display(df_jp)"
   ]
  },
  {
   "cell_type": "code",
   "execution_count": 67,
   "metadata": {},
   "outputs": [
    {
     "data": {
      "image/png": "[encoded data removed]",
      "text/plain": [
       "<Figure size 432x288 with 1 Axes>"
      ]
     },
     "metadata": {
      "needs_background": "light"
     },
     "output_type": "display_data"
    }
   ],
   "source": [
    "#sort values\n",
    "#then plot a graph with it\n",
    "df_games.groupby(['rating'])['jp_sales'].sum().sort_values(ascending=False).head(5).plot(kind='bar')\n",
    "plt.title('Top 5 JP ESRB Sales')\n",
    "plt.ylabel(\"Sales\")\n",
    "plt.xlabel(\"Rating\")\n",
    "plt.show()"
   ]
  },
  {
   "cell_type": "markdown",
   "metadata": {},
   "source": [
    "## Test Hypothesis"
   ]
  },
  {
   "cell_type": "markdown",
   "metadata": {},
   "source": [
    "—Average user ratings of the Xbox One and PC platforms are the same.\n",
    "\n",
    "—Average user ratings for the Action and Sports genres are different.\n",
    "\n",
    "Set the alpha threshold value for 0.05\n",
    "\n",
    "Explain:\n",
    "—How you formulated the null and alternative hypotheses\n",
    "—What significance level you chose to test the hypotheses, and why"
   ]
  },
  {
   "cell_type": "code",
   "execution_count": 68,
   "metadata": {},
   "outputs": [
    {
     "name": "stdout",
     "output_type": "stream",
     "text": [
      "p-value:  nan\n",
      "We cannot reject the null hypothesis\n"
     ]
    }
   ],
   "source": [
    "#Test: user ratings for XboxOne and PC are same\n",
    "#Null: User ratings for XboxOne and PC, on average, are the nearly the same\n",
    "#Alt: User ratings for XboxOne and PC, on average, are not close in value\n",
    "\n",
    "\n",
    "sample_1 = df_games[df_games['platform'] == 'XOne']['user_score']\n",
    "sample_2 = df_games[df_games['platform'] == 'PC']['user_score']\n",
    "\n",
    "alpha = 0.05\n",
    "\n",
    "results = st.ttest_ind(sample_1, sample_2,nan_policy='omit')\n",
    "\n",
    "print('p-value: ', results.pvalue)\n",
    "\n",
    "if results.pvalue < alpha:\n",
    "    print('We reject the null hypothesis')\n",
    "else:\n",
    "    print('We cannot reject the null hypothesis') "
   ]
  },
  {
   "cell_type": "code",
   "execution_count": 69,
   "metadata": {},
   "outputs": [
    {
     "name": "stdout",
     "output_type": "stream",
     "text": [
      "p-value:  0.0068516666864034325\n",
      "We reject the null hypothesis\n"
     ]
    }
   ],
   "source": [
    "#Test: the total_sales for Action and Sports are different (significantly)\n",
    "#Null: the total_sales for Action and Sports are significantly different\n",
    "#Alt: the total_sales for Action and Sports are nearly the same\n",
    "sample1 = df_games[df_games['genre'] == 'Action']['total_sales']\n",
    "\n",
    "sample2 = df_games[df_games['genre'] == 'Sports']['total_sales']\n",
    "\n",
    "alpha = 0.05\n",
    "\n",
    "results = st.ttest_ind(sample1, sample2)\n",
    "\n",
    "print('p-value: ', results.pvalue)\n",
    "\n",
    "if results.pvalue < alpha:\n",
    "    print('We reject the null hypothesis')\n",
    "else:\n",
    "    print('We cannot reject the null hypothesis') "
   ]
  },
  {
   "cell_type": "code",
   "execution_count": 70,
   "metadata": {},
   "outputs": [
    {
     "data": {
      "text/plain": [
       "name               0\n",
       "platform           0\n",
       "year_of_release    0\n",
       "genre              0\n",
       "na_sales           0\n",
       "eu_sales           0\n",
       "jp_sales           0\n",
       "other_sales        0\n",
       "critic_score       0\n",
       "user_score         0\n",
       "rating             0\n",
       "total_sales        0\n",
       "dtype: int64"
      ]
     },
     "execution_count": 70,
     "metadata": {},
     "output_type": "execute_result"
    }
   ],
   "source": [
    "#check for missing values\n",
    "df_games.isnull().sum()"
   ]
  },
  {
   "cell_type": "code",
   "execution_count": 71,
   "metadata": {},
   "outputs": [
    {
     "data": {
      "text/html": [
       "<div>\n",
       "<style scoped>\n",
       "    .dataframe tbody tr th:only-of-type {\n",
       "        vertical-align: middle;\n",
       "    }\n",
       "\n",
       "    .dataframe tbody tr th {\n",
       "        vertical-align: top;\n",
       "    }\n",
       "\n",
       "    .dataframe thead th {\n",
       "        text-align: right;\n",
       "    }\n",
       "</style>\n",
       "<table border=\"1\" class=\"dataframe\">\n",
       "  <thead>\n",
       "    <tr style=\"text-align: right;\">\n",
       "      <th></th>\n",
       "      <th>name</th>\n",
       "      <th>platform</th>\n",
       "      <th>year_of_release</th>\n",
       "      <th>genre</th>\n",
       "      <th>na_sales</th>\n",
       "      <th>eu_sales</th>\n",
       "      <th>jp_sales</th>\n",
       "      <th>other_sales</th>\n",
       "      <th>critic_score</th>\n",
       "      <th>user_score</th>\n",
       "      <th>rating</th>\n",
       "      <th>total_sales</th>\n",
       "    </tr>\n",
       "  </thead>\n",
       "  <tbody>\n",
       "    <tr>\n",
       "      <th>31</th>\n",
       "      <td>Call of Duty: Black Ops 3</td>\n",
       "      <td>PS4</td>\n",
       "      <td>2015</td>\n",
       "      <td>Shooter</td>\n",
       "      <td>6.03</td>\n",
       "      <td>5.86</td>\n",
       "      <td>0.36</td>\n",
       "      <td>2.38</td>\n",
       "      <td>0</td>\n",
       "      <td>0</td>\n",
       "      <td>unknown</td>\n",
       "      <td>12.61</td>\n",
       "    </tr>\n",
       "    <tr>\n",
       "      <th>33</th>\n",
       "      <td>Pokemon X/Pokemon Y</td>\n",
       "      <td>3DS</td>\n",
       "      <td>2013</td>\n",
       "      <td>Role-Playing</td>\n",
       "      <td>5.28</td>\n",
       "      <td>4.19</td>\n",
       "      <td>4.35</td>\n",
       "      <td>0.78</td>\n",
       "      <td>0</td>\n",
       "      <td>0</td>\n",
       "      <td>unknown</td>\n",
       "      <td>18.17</td>\n",
       "    </tr>\n",
       "    <tr>\n",
       "      <th>42</th>\n",
       "      <td>Grand Theft Auto V</td>\n",
       "      <td>PS4</td>\n",
       "      <td>2014</td>\n",
       "      <td>Action</td>\n",
       "      <td>3.96</td>\n",
       "      <td>6.31</td>\n",
       "      <td>0.38</td>\n",
       "      <td>1.97</td>\n",
       "      <td>97</td>\n",
       "      <td>8</td>\n",
       "      <td>M</td>\n",
       "      <td>11.03</td>\n",
       "    </tr>\n",
       "    <tr>\n",
       "      <th>47</th>\n",
       "      <td>Pokemon Omega Ruby/Pokemon Alpha Sapphire</td>\n",
       "      <td>3DS</td>\n",
       "      <td>2014</td>\n",
       "      <td>Role-Playing</td>\n",
       "      <td>4.35</td>\n",
       "      <td>3.49</td>\n",
       "      <td>3.10</td>\n",
       "      <td>0.74</td>\n",
       "      <td>0</td>\n",
       "      <td>0</td>\n",
       "      <td>unknown</td>\n",
       "      <td>14.04</td>\n",
       "    </tr>\n",
       "    <tr>\n",
       "      <th>77</th>\n",
       "      <td>FIFA 16</td>\n",
       "      <td>PS4</td>\n",
       "      <td>2015</td>\n",
       "      <td>Sports</td>\n",
       "      <td>1.12</td>\n",
       "      <td>6.12</td>\n",
       "      <td>0.06</td>\n",
       "      <td>1.28</td>\n",
       "      <td>82</td>\n",
       "      <td>4</td>\n",
       "      <td>E</td>\n",
       "      <td>7.36</td>\n",
       "    </tr>\n",
       "    <tr>\n",
       "      <th>...</th>\n",
       "      <td>...</td>\n",
       "      <td>...</td>\n",
       "      <td>...</td>\n",
       "      <td>...</td>\n",
       "      <td>...</td>\n",
       "      <td>...</td>\n",
       "      <td>...</td>\n",
       "      <td>...</td>\n",
       "      <td>...</td>\n",
       "      <td>...</td>\n",
       "      <td>...</td>\n",
       "      <td>...</td>\n",
       "    </tr>\n",
       "    <tr>\n",
       "      <th>16660</th>\n",
       "      <td>Prison Architect</td>\n",
       "      <td>XOne</td>\n",
       "      <td>2016</td>\n",
       "      <td>Action</td>\n",
       "      <td>0.01</td>\n",
       "      <td>0.00</td>\n",
       "      <td>0.00</td>\n",
       "      <td>0.00</td>\n",
       "      <td>74</td>\n",
       "      <td>6</td>\n",
       "      <td>unknown</td>\n",
       "      <td>0.01</td>\n",
       "    </tr>\n",
       "    <tr>\n",
       "      <th>16668</th>\n",
       "      <td>Fujiko F. Fujio Characters: Great Assembly! Sl...</td>\n",
       "      <td>3DS</td>\n",
       "      <td>2014</td>\n",
       "      <td>Action</td>\n",
       "      <td>0.00</td>\n",
       "      <td>0.00</td>\n",
       "      <td>0.01</td>\n",
       "      <td>0.00</td>\n",
       "      <td>0</td>\n",
       "      <td>0</td>\n",
       "      <td>unknown</td>\n",
       "      <td>0.02</td>\n",
       "    </tr>\n",
       "    <tr>\n",
       "      <th>16672</th>\n",
       "      <td>Metal Gear Solid V: The Definitive Experience</td>\n",
       "      <td>XOne</td>\n",
       "      <td>2016</td>\n",
       "      <td>Action</td>\n",
       "      <td>0.01</td>\n",
       "      <td>0.00</td>\n",
       "      <td>0.00</td>\n",
       "      <td>0.00</td>\n",
       "      <td>0</td>\n",
       "      <td>0</td>\n",
       "      <td>M</td>\n",
       "      <td>0.01</td>\n",
       "    </tr>\n",
       "    <tr>\n",
       "      <th>16677</th>\n",
       "      <td>Aikatsu Stars! My Special Appeal</td>\n",
       "      <td>3DS</td>\n",
       "      <td>2016</td>\n",
       "      <td>Action</td>\n",
       "      <td>0.00</td>\n",
       "      <td>0.00</td>\n",
       "      <td>0.01</td>\n",
       "      <td>0.00</td>\n",
       "      <td>0</td>\n",
       "      <td>0</td>\n",
       "      <td>unknown</td>\n",
       "      <td>0.02</td>\n",
       "    </tr>\n",
       "    <tr>\n",
       "      <th>16682</th>\n",
       "      <td>Grisaia no Kajitsu: La Fruit de la Grisaia</td>\n",
       "      <td>PSP</td>\n",
       "      <td>2013</td>\n",
       "      <td>Adventure</td>\n",
       "      <td>0.00</td>\n",
       "      <td>0.00</td>\n",
       "      <td>0.01</td>\n",
       "      <td>0.00</td>\n",
       "      <td>0</td>\n",
       "      <td>0</td>\n",
       "      <td>unknown</td>\n",
       "      <td>0.02</td>\n",
       "    </tr>\n",
       "  </tbody>\n",
       "</table>\n",
       "<p>1124 rows × 12 columns</p>\n",
       "</div>"
      ],
      "text/plain": [
       "                                                    name platform  \\\n",
       "31                             Call of Duty: Black Ops 3      PS4   \n",
       "33                                   Pokemon X/Pokemon Y      3DS   \n",
       "42                                    Grand Theft Auto V      PS4   \n",
       "47             Pokemon Omega Ruby/Pokemon Alpha Sapphire      3DS   \n",
       "77                                               FIFA 16      PS4   \n",
       "...                                                  ...      ...   \n",
       "16660                                   Prison Architect     XOne   \n",
       "16668  Fujiko F. Fujio Characters: Great Assembly! Sl...      3DS   \n",
       "16672      Metal Gear Solid V: The Definitive Experience     XOne   \n",
       "16677                   Aikatsu Stars! My Special Appeal      3DS   \n",
       "16682         Grisaia no Kajitsu: La Fruit de la Grisaia      PSP   \n",
       "\n",
       "       year_of_release         genre  na_sales  eu_sales  jp_sales  \\\n",
       "31                2015       Shooter      6.03      5.86      0.36   \n",
       "33                2013  Role-Playing      5.28      4.19      4.35   \n",
       "42                2014        Action      3.96      6.31      0.38   \n",
       "47                2014  Role-Playing      4.35      3.49      3.10   \n",
       "77                2015        Sports      1.12      6.12      0.06   \n",
       "...                ...           ...       ...       ...       ...   \n",
       "16660             2016        Action      0.01      0.00      0.00   \n",
       "16668             2014        Action      0.00      0.00      0.01   \n",
       "16672             2016        Action      0.01      0.00      0.00   \n",
       "16677             2016        Action      0.00      0.00      0.01   \n",
       "16682             2013     Adventure      0.00      0.00      0.01   \n",
       "\n",
       "       other_sales  critic_score  user_score   rating  total_sales  \n",
       "31            2.38             0           0  unknown        12.61  \n",
       "33            0.78             0           0  unknown        18.17  \n",
       "42            1.97            97           8        M        11.03  \n",
       "47            0.74             0           0  unknown        14.04  \n",
       "77            1.28            82           4        E         7.36  \n",
       "...            ...           ...         ...      ...          ...  \n",
       "16660         0.00            74           6  unknown         0.01  \n",
       "16668         0.00             0           0  unknown         0.02  \n",
       "16672         0.00             0           0        M         0.01  \n",
       "16677         0.00             0           0  unknown         0.02  \n",
       "16682         0.00             0           0  unknown         0.02  \n",
       "\n",
       "[1124 rows x 12 columns]"
      ]
     },
     "execution_count": 71,
     "metadata": {},
     "output_type": "execute_result"
    }
   ],
   "source": [
    "df_games"
   ]
  },
  {
   "cell_type": "code",
   "execution_count": 74,
   "metadata": {},
   "outputs": [
    {
     "name": "stdout",
     "output_type": "stream",
     "text": [
      "<class 'pandas.core.frame.DataFrame'>\n",
      "Int64Index: 1124 entries, 31 to 16682\n",
      "Data columns (total 12 columns):\n",
      " #   Column           Non-Null Count  Dtype  \n",
      "---  ------           --------------  -----  \n",
      " 0   name             1124 non-null   object \n",
      " 1   platform         1124 non-null   object \n",
      " 2   year_of_release  1124 non-null   int64  \n",
      " 3   genre            1124 non-null   object \n",
      " 4   na_sales         1124 non-null   float64\n",
      " 5   eu_sales         1124 non-null   float64\n",
      " 6   jp_sales         1124 non-null   float64\n",
      " 7   other_sales      1124 non-null   float64\n",
      " 8   critic_score     1124 non-null   int64  \n",
      " 9   user_score       1124 non-null   int64  \n",
      " 10  rating           1124 non-null   object \n",
      " 11  total_sales      1124 non-null   float64\n",
      "dtypes: float64(5), int64(3), object(4)\n",
      "memory usage: 114.2+ KB\n"
     ]
    }
   ],
   "source": [
    "#view numerical values\n",
    "df_games.info()"
   ]
  },
  {
   "cell_type": "markdown",
   "metadata": {},
   "source": [
    "##  Conclusion"
   ]
  },
  {
   "cell_type": "markdown",
   "metadata": {},
   "source": [
    "[For Studying Information: I load 6 libraries, which are all used in the project. I import the file into a dataframe, df_games. I study the columns to see what type of data I have, I look at the rows to see how the values look. I make sure I understand all categories and values. I look at the shape of the dataframe, missing values, and datatypes. Now I am ready to prep this data.]"
   ]
  },
  {
   "cell_type": "markdown",
   "metadata": {},
   "source": [
    "[For Prepare Data: I filled missing values. For year_of_release, name, and genre: I dropped them because there are not that many missing. For critic_score I filled missing values with 0 , becaues I realize that filling them with anything else will effect my analysis. For rating I filled missing values with 'unknown', because you can't fill the misisng value of the rating of a game with something approximated. For user_score, I first had to change tbd to nan values, then replace with '0'. After NaN values are replaced, I can change datatypes. I changed year_of_release, critic_score, and user_score. They all need to be int because they are all numbers, but they don't need to have decimals for calculations, and it's better looking to have deimcals gone.]"
   ]
  },
  {
   "cell_type": "markdown",
   "metadata": {},
   "source": [
    "[For Analyze: I want to find the factors that impact revenue. I look at the number of games sold per year, concluding the number of games sold per year is much higher now. I determine a time period and platform that are significant, and eliminate data that is not useful. With a new dataframe, I look at the total sales per platform, to see which have the highest revenue. Then I look at average critic and user scores  of each platform and come to the conclusion that it doesn't have a significant impact on revenue. Then I look at which genre has the most revenue. I concluded that platform and genre have the most impact on sales. ]"
   ]
  },
  {
   "cell_type": "markdown",
   "metadata": {},
   "source": [
    "[For Create: In order to create a marketing stratetgy, I made profiles for different regions. For each region, I create a bar chart for platform, genre, and ESRB. I am able to visually see what contributes to a high revenue. It's not the same for each region, therefore the marketing strategy will be unique to that region.  "
   ]
  },
  {
   "cell_type": "markdown",
   "metadata": {},
   "source": [
    "## Report"
   ]
  },
  {
   "cell_type": "markdown",
   "metadata": {},
   "source": [
    "I would report the following conclusions to the marketing team for Ice online gaming store:\n",
    "\n",
    "Number of games sold: I noticed the number of games sold in a given year does not have an effect on revenue, meaning the number of games sold won't increase the revenue necessarily. When considereing revenue, you will spend less money if you create less games. \n",
    "\n",
    "Critic and User Score: While some companies will pay influncers to reviews their games - I would not reccomend this. I found user score and critic score have little impact on sales. I noticed clusters of low revenue, even in scores greater than or equal to 7. Users typically purchase a game they are already familar with, it doesn't seem  a higher rating will motivate the consumer to purchase the game.\n",
    "\n",
    "Platform: Creating games for multiple platforms costs money. To increase profit margin, I will suggest the company focus on PS4 for the EU and NA region, and 3DS for the JP region.\n",
    "\n",
    "Genre: I was able to visually determine genre impacts revenue significantly. In this case, EU and NA are very similar regions: I would suggest making a shooter action game combined, for the PS4 platform. For the JP region, consumers prefer the 3DS platform and Role Play genre: however if they want to combine that with another popular genre, I would suggest Action. \n",
    "\n",
    "ESRB: The rating of games allows us to assume the age/maturity level of the consumer. The EU and NA region have similar profiles in this as well, so I will suggest creating a game with a ESRB rating of M for mature. The revenue will be higher if we target a more mature audience. In the JP region, the profile suggests targeting a younger consumer. Majority of ratings were unknown for JP region, however I also noticed E for everyone, T for Teen, M for Mature, and E10+ for everyone older than 10. I would target the ages 10-21 for these games. "
   ]
  },
  {
   "cell_type": "markdown",
   "metadata": {},
   "source": [
    "## My original report"
   ]
  },
  {
   "cell_type": "markdown",
   "metadata": {},
   "source": [
    "Comparing my orginal analysis (below) to my report (above), I learned why it's so important to be mindful when filtering data. Having up-to-date data is far more valuable when predicting future revenue. My reports are completely different based on relevant data in year_of_release and platform.  \n",
    "\n",
    "\n",
    "\n",
    "NA:\n",
    "    platform:GB, X360, N64\n",
    "    genre: Shooter, Platform, Sports\n",
    "    ESRB: E, unknown, T\n",
    "EU: \n",
    "    platform: PS2, PS3, X360\n",
    "    genre: Action, Sports, Shooter\n",
    "    ESRB: E, unknown, T\n",
    "JP:\n",
    "    platform: DS, PS2, PS\n",
    "    genre: Role-Playing, Action, Sports\n",
    "    ESRB: unknown, E, T]\n",
    "\n",
    "e = everyone T=teen\n",
    "\n",
    "Above I can see the most popular genre, platform, and rating. I use this to deliver a marketing strategy to Ice: Different regions have different popular platforms and genres. \n",
    "\n",
    "It's useful to see that all three regions have common ESRB ratings, my strategy will be to make advertisements target games that are used by everyone, or people who are teens.   \n",
    "\n",
    "For all regions, I will use the platform that is most used, and promote their second or third most popular genre and try to increase sales.\n",
    "\n",
    "1. In NA I will promote platform and sports games on GB\n",
    "2. In EU I will promote sports and shooter games on PS2\n",
    "3. In JP I will promote action and sports games on DS\n",
    "\n",
    "4. However, if this team wants to promote one game, it should be sports (most common amoung all regions), and it should be made for the most popular platforms(GB, PS2, DS)\n"
   ]
  }
 ],
 "metadata": {
  "ExecuteTimeLog": [
   {
    "duration": 51,
    "start_time": "2022-06-30T17:33:50.958Z"
   },
   {
    "duration": 1127,
    "start_time": "2022-06-30T17:33:55.488Z"
   },
   {
    "duration": 67,
    "start_time": "2022-06-30T17:33:57.715Z"
   },
   {
    "duration": 22,
    "start_time": "2022-06-30T17:33:59.249Z"
   },
   {
    "duration": 17,
    "start_time": "2022-06-30T17:39:44.119Z"
   },
   {
    "duration": 8,
    "start_time": "2022-06-30T17:39:52.840Z"
   },
   {
    "duration": 12,
    "start_time": "2022-06-30T17:45:45.293Z"
   },
   {
    "duration": 57,
    "start_time": "2022-06-30T17:58:18.391Z"
   },
   {
    "duration": 4,
    "start_time": "2022-06-30T18:09:12.455Z"
   },
   {
    "duration": 4,
    "start_time": "2022-06-30T18:09:28.886Z"
   },
   {
    "duration": 4,
    "start_time": "2022-06-30T18:09:36.067Z"
   },
   {
    "duration": 4,
    "start_time": "2022-06-30T18:10:26.587Z"
   },
   {
    "duration": 4,
    "start_time": "2022-06-30T18:11:55.969Z"
   },
   {
    "duration": 4,
    "start_time": "2022-06-30T18:12:09.819Z"
   },
   {
    "duration": 9,
    "start_time": "2022-06-30T18:14:42.343Z"
   },
   {
    "duration": 4,
    "start_time": "2022-06-30T18:16:51.985Z"
   },
   {
    "duration": 16,
    "start_time": "2022-06-30T18:17:28.959Z"
   },
   {
    "duration": 10,
    "start_time": "2022-06-30T18:17:45.526Z"
   },
   {
    "duration": 8,
    "start_time": "2022-06-30T18:17:52.759Z"
   },
   {
    "duration": 9,
    "start_time": "2022-06-30T18:17:53.409Z"
   },
   {
    "duration": 7,
    "start_time": "2022-06-30T18:18:19.669Z"
   },
   {
    "duration": 8,
    "start_time": "2022-06-30T18:18:20.582Z"
   },
   {
    "duration": 5,
    "start_time": "2022-06-30T18:18:36.364Z"
   },
   {
    "duration": 11,
    "start_time": "2022-06-30T18:18:36.762Z"
   },
   {
    "duration": 3,
    "start_time": "2022-06-30T18:18:42.758Z"
   },
   {
    "duration": 40,
    "start_time": "2022-06-30T18:18:43.249Z"
   },
   {
    "duration": 20,
    "start_time": "2022-06-30T18:18:43.323Z"
   },
   {
    "duration": 9,
    "start_time": "2022-06-30T18:18:43.405Z"
   },
   {
    "duration": 17,
    "start_time": "2022-06-30T18:18:43.487Z"
   },
   {
    "duration": 5,
    "start_time": "2022-06-30T18:18:43.737Z"
   },
   {
    "duration": 8,
    "start_time": "2022-06-30T18:18:43.823Z"
   },
   {
    "duration": 8,
    "start_time": "2022-06-30T18:18:45.903Z"
   },
   {
    "duration": 10,
    "start_time": "2022-06-30T18:29:14.872Z"
   },
   {
    "duration": 9,
    "start_time": "2022-06-30T18:29:32.512Z"
   },
   {
    "duration": 9,
    "start_time": "2022-06-30T18:29:34.770Z"
   },
   {
    "duration": 9,
    "start_time": "2022-06-30T18:44:55.566Z"
   },
   {
    "duration": 12,
    "start_time": "2022-06-30T18:45:05.163Z"
   },
   {
    "duration": 17,
    "start_time": "2022-06-30T18:45:42.253Z"
   },
   {
    "duration": 13,
    "start_time": "2022-06-30T18:46:29.498Z"
   },
   {
    "duration": 18,
    "start_time": "2022-06-30T18:58:43.692Z"
   },
   {
    "duration": 9,
    "start_time": "2022-06-30T19:07:26.591Z"
   },
   {
    "duration": 11,
    "start_time": "2022-06-30T19:10:00.317Z"
   },
   {
    "duration": 13,
    "start_time": "2022-06-30T19:14:12.849Z"
   },
   {
    "duration": 799,
    "start_time": "2022-06-30T19:18:01.682Z"
   },
   {
    "duration": 12,
    "start_time": "2022-06-30T19:18:13.035Z"
   },
   {
    "duration": 13,
    "start_time": "2022-06-30T19:18:18.974Z"
   },
   {
    "duration": 13,
    "start_time": "2022-06-30T19:18:26.725Z"
   },
   {
    "duration": 12,
    "start_time": "2022-06-30T19:18:31.990Z"
   },
   {
    "duration": 21,
    "start_time": "2022-06-30T19:18:52.576Z"
   },
   {
    "duration": 7,
    "start_time": "2022-06-30T19:19:32.388Z"
   },
   {
    "duration": 1232,
    "start_time": "2022-07-01T14:24:59.465Z"
   },
   {
    "duration": 72,
    "start_time": "2022-07-01T14:25:00.699Z"
   },
   {
    "duration": 26,
    "start_time": "2022-07-01T14:25:00.773Z"
   },
   {
    "duration": 10,
    "start_time": "2022-07-01T14:25:00.800Z"
   },
   {
    "duration": 24,
    "start_time": "2022-07-01T14:25:00.812Z"
   },
   {
    "duration": 5,
    "start_time": "2022-07-01T14:25:00.837Z"
   },
   {
    "duration": 16,
    "start_time": "2022-07-01T14:25:00.844Z"
   },
   {
    "duration": 12,
    "start_time": "2022-07-01T14:25:00.861Z"
   },
   {
    "duration": 27,
    "start_time": "2022-07-01T14:25:00.875Z"
   },
   {
    "duration": 31,
    "start_time": "2022-07-01T14:25:00.904Z"
   },
   {
    "duration": 20,
    "start_time": "2022-07-01T14:25:00.937Z"
   },
   {
    "duration": 106,
    "start_time": "2022-07-01T14:25:10.188Z"
   },
   {
    "duration": 23,
    "start_time": "2022-07-01T14:25:55.116Z"
   },
   {
    "duration": 10,
    "start_time": "2022-07-01T14:40:36.441Z"
   },
   {
    "duration": 19,
    "start_time": "2022-07-01T14:40:51.546Z"
   },
   {
    "duration": 14,
    "start_time": "2022-07-01T14:41:27.883Z"
   },
   {
    "duration": 784,
    "start_time": "2022-07-01T14:51:22.335Z"
   },
   {
    "duration": 831,
    "start_time": "2022-07-01T14:51:51.756Z"
   },
   {
    "duration": 859,
    "start_time": "2022-07-01T14:52:15.174Z"
   },
   {
    "duration": 20,
    "start_time": "2022-07-01T14:53:00.841Z"
   },
   {
    "duration": 17,
    "start_time": "2022-07-01T14:53:01.521Z"
   },
   {
    "duration": 934,
    "start_time": "2022-07-01T14:53:02.212Z"
   },
   {
    "duration": 11,
    "start_time": "2022-07-01T15:04:38.881Z"
   },
   {
    "duration": 4,
    "start_time": "2022-07-01T15:05:16.552Z"
   },
   {
    "duration": 28,
    "start_time": "2022-07-01T15:05:24.011Z"
   },
   {
    "duration": 8,
    "start_time": "2022-07-01T15:38:31.676Z"
   },
   {
    "duration": 5,
    "start_time": "2022-07-01T15:38:45.568Z"
   },
   {
    "duration": 5,
    "start_time": "2022-07-01T15:39:13.228Z"
   },
   {
    "duration": 6,
    "start_time": "2022-07-01T15:39:24.968Z"
   },
   {
    "duration": 6,
    "start_time": "2022-07-01T15:40:02.330Z"
   },
   {
    "duration": 838,
    "start_time": "2022-07-01T15:42:08.013Z"
   },
   {
    "duration": 9,
    "start_time": "2022-07-01T15:42:16.532Z"
   },
   {
    "duration": 7,
    "start_time": "2022-07-01T15:42:23.332Z"
   },
   {
    "duration": 5,
    "start_time": "2022-07-01T15:42:34.025Z"
   },
   {
    "duration": 8,
    "start_time": "2022-07-01T15:42:53.048Z"
   },
   {
    "duration": 6,
    "start_time": "2022-07-01T15:43:04.947Z"
   },
   {
    "duration": 1173,
    "start_time": "2022-07-01T16:13:56.100Z"
   },
   {
    "duration": 26,
    "start_time": "2022-07-01T16:14:19.827Z"
   },
   {
    "duration": 1067,
    "start_time": "2022-07-01T16:14:47.912Z"
   },
   {
    "duration": 3,
    "start_time": "2022-07-01T16:20:51.794Z"
   },
   {
    "duration": 57,
    "start_time": "2022-07-01T16:20:51.799Z"
   },
   {
    "duration": 18,
    "start_time": "2022-07-01T16:20:51.858Z"
   },
   {
    "duration": 17,
    "start_time": "2022-07-01T16:20:51.878Z"
   },
   {
    "duration": 28,
    "start_time": "2022-07-01T16:20:51.897Z"
   },
   {
    "duration": 21,
    "start_time": "2022-07-01T16:20:51.927Z"
   },
   {
    "duration": 11,
    "start_time": "2022-07-01T16:20:51.950Z"
   },
   {
    "duration": 23,
    "start_time": "2022-07-01T16:20:51.962Z"
   },
   {
    "duration": 11,
    "start_time": "2022-07-01T16:20:51.986Z"
   },
   {
    "duration": 17,
    "start_time": "2022-07-01T16:20:51.999Z"
   },
   {
    "duration": 27,
    "start_time": "2022-07-01T16:20:52.018Z"
   },
   {
    "duration": 18,
    "start_time": "2022-07-01T16:20:52.047Z"
   },
   {
    "duration": 13,
    "start_time": "2022-07-01T16:20:52.067Z"
   },
   {
    "duration": 737,
    "start_time": "2022-07-01T16:20:52.083Z"
   },
   {
    "duration": 0,
    "start_time": "2022-07-01T16:20:52.822Z"
   },
   {
    "duration": 0,
    "start_time": "2022-07-01T16:20:52.823Z"
   },
   {
    "duration": 0,
    "start_time": "2022-07-01T16:20:52.824Z"
   },
   {
    "duration": 0,
    "start_time": "2022-07-01T16:20:52.825Z"
   },
   {
    "duration": 0,
    "start_time": "2022-07-01T16:20:52.826Z"
   },
   {
    "duration": 0,
    "start_time": "2022-07-01T16:20:52.827Z"
   },
   {
    "duration": 0,
    "start_time": "2022-07-01T16:20:52.828Z"
   },
   {
    "duration": 0,
    "start_time": "2022-07-01T16:20:52.829Z"
   },
   {
    "duration": 0,
    "start_time": "2022-07-01T16:20:52.830Z"
   },
   {
    "duration": 0,
    "start_time": "2022-07-01T16:20:52.831Z"
   },
   {
    "duration": 0,
    "start_time": "2022-07-01T16:20:52.832Z"
   },
   {
    "duration": 0,
    "start_time": "2022-07-01T16:20:52.833Z"
   },
   {
    "duration": 753,
    "start_time": "2022-07-01T16:20:58.559Z"
   },
   {
    "duration": 3,
    "start_time": "2022-07-01T16:30:44.141Z"
   },
   {
    "duration": 2,
    "start_time": "2022-07-01T16:30:44.419Z"
   },
   {
    "duration": 44,
    "start_time": "2022-07-01T18:20:08.111Z"
   },
   {
    "duration": 1343,
    "start_time": "2022-07-01T18:20:15.413Z"
   },
   {
    "duration": 192,
    "start_time": "2022-07-01T18:20:16.758Z"
   },
   {
    "duration": 23,
    "start_time": "2022-07-01T18:20:16.951Z"
   },
   {
    "duration": 7,
    "start_time": "2022-07-01T18:20:16.975Z"
   },
   {
    "duration": 13,
    "start_time": "2022-07-01T18:20:16.984Z"
   },
   {
    "duration": 37,
    "start_time": "2022-07-01T18:20:16.999Z"
   },
   {
    "duration": 5,
    "start_time": "2022-07-01T18:20:20.443Z"
   },
   {
    "duration": 8,
    "start_time": "2022-07-01T18:25:40.755Z"
   },
   {
    "duration": 54,
    "start_time": "2022-07-02T15:24:46.924Z"
   },
   {
    "duration": 1447,
    "start_time": "2022-07-02T15:24:55.096Z"
   },
   {
    "duration": 80,
    "start_time": "2022-07-02T15:24:56.552Z"
   },
   {
    "duration": 29,
    "start_time": "2022-07-02T15:24:56.637Z"
   },
   {
    "duration": 9,
    "start_time": "2022-07-02T15:24:56.668Z"
   },
   {
    "duration": 20,
    "start_time": "2022-07-02T15:24:56.680Z"
   },
   {
    "duration": 35,
    "start_time": "2022-07-02T15:24:56.702Z"
   },
   {
    "duration": 11,
    "start_time": "2022-07-02T15:24:56.742Z"
   },
   {
    "duration": 4,
    "start_time": "2022-07-02T15:24:56.756Z"
   },
   {
    "duration": 15,
    "start_time": "2022-07-02T15:24:56.762Z"
   },
   {
    "duration": 10,
    "start_time": "2022-07-02T15:24:56.779Z"
   },
   {
    "duration": 4,
    "start_time": "2022-07-02T15:24:56.791Z"
   },
   {
    "duration": 5,
    "start_time": "2022-07-02T15:24:56.796Z"
   },
   {
    "duration": 5,
    "start_time": "2022-07-02T15:24:56.802Z"
   },
   {
    "duration": 6,
    "start_time": "2022-07-02T15:24:56.829Z"
   },
   {
    "duration": 15,
    "start_time": "2022-07-02T15:24:56.836Z"
   },
   {
    "duration": 6,
    "start_time": "2022-07-02T15:24:56.852Z"
   },
   {
    "duration": 5,
    "start_time": "2022-07-02T15:24:56.860Z"
   },
   {
    "duration": 7,
    "start_time": "2022-07-02T15:24:56.866Z"
   },
   {
    "duration": 12,
    "start_time": "2022-07-02T15:24:56.875Z"
   },
   {
    "duration": 12,
    "start_time": "2022-07-02T15:24:56.888Z"
   },
   {
    "duration": 9,
    "start_time": "2022-07-02T15:24:56.902Z"
   },
   {
    "duration": 27,
    "start_time": "2022-07-02T15:24:56.913Z"
   },
   {
    "duration": 10,
    "start_time": "2022-07-02T15:24:56.941Z"
   },
   {
    "duration": 6,
    "start_time": "2022-07-02T15:24:56.953Z"
   },
   {
    "duration": 6,
    "start_time": "2022-07-02T15:24:56.961Z"
   },
   {
    "duration": 5,
    "start_time": "2022-07-02T15:24:56.968Z"
   },
   {
    "duration": 5,
    "start_time": "2022-07-02T15:24:56.975Z"
   },
   {
    "duration": 10,
    "start_time": "2022-07-02T15:24:56.981Z"
   },
   {
    "duration": 9,
    "start_time": "2022-07-02T15:24:56.993Z"
   },
   {
    "duration": 10,
    "start_time": "2022-07-02T15:24:57.004Z"
   },
   {
    "duration": 7,
    "start_time": "2022-07-02T15:24:57.015Z"
   },
   {
    "duration": 23,
    "start_time": "2022-07-02T15:24:57.023Z"
   },
   {
    "duration": 6,
    "start_time": "2022-07-02T15:24:57.047Z"
   },
   {
    "duration": 6,
    "start_time": "2022-07-02T15:24:57.054Z"
   },
   {
    "duration": 6,
    "start_time": "2022-07-02T15:24:57.061Z"
   },
   {
    "duration": 5,
    "start_time": "2022-07-02T15:24:57.069Z"
   },
   {
    "duration": 7,
    "start_time": "2022-07-02T15:24:57.076Z"
   },
   {
    "duration": 7,
    "start_time": "2022-07-02T15:24:57.085Z"
   },
   {
    "duration": 579,
    "start_time": "2022-07-02T15:31:03.503Z"
   },
   {
    "duration": 672,
    "start_time": "2022-07-02T15:31:25.454Z"
   },
   {
    "duration": 820,
    "start_time": "2022-07-02T15:31:39.492Z"
   },
   {
    "duration": 67,
    "start_time": "2022-07-02T15:35:22.977Z"
   },
   {
    "duration": 8,
    "start_time": "2022-07-02T15:35:28.790Z"
   },
   {
    "duration": 8,
    "start_time": "2022-07-02T15:35:33.144Z"
   },
   {
    "duration": 10,
    "start_time": "2022-07-02T15:36:02.559Z"
   },
   {
    "duration": 6,
    "start_time": "2022-07-02T16:40:00.043Z"
   },
   {
    "duration": 51,
    "start_time": "2022-07-02T16:40:00.406Z"
   },
   {
    "duration": 42,
    "start_time": "2022-07-02T16:40:01.202Z"
   },
   {
    "duration": 12,
    "start_time": "2022-07-02T16:40:01.541Z"
   },
   {
    "duration": 17,
    "start_time": "2022-07-02T16:40:02.264Z"
   },
   {
    "duration": 26,
    "start_time": "2022-07-02T16:40:04.584Z"
   },
   {
    "duration": 10,
    "start_time": "2022-07-02T16:40:06.238Z"
   },
   {
    "duration": 4,
    "start_time": "2022-07-02T16:40:06.779Z"
   },
   {
    "duration": 12,
    "start_time": "2022-07-02T16:40:07.589Z"
   },
   {
    "duration": 10,
    "start_time": "2022-07-02T16:40:07.959Z"
   },
   {
    "duration": 674,
    "start_time": "2022-07-02T16:40:09.580Z"
   },
   {
    "duration": 13,
    "start_time": "2022-07-02T16:40:10.893Z"
   },
   {
    "duration": 610,
    "start_time": "2022-07-02T16:40:12.149Z"
   },
   {
    "duration": 19,
    "start_time": "2022-07-02T16:40:23.026Z"
   },
   {
    "duration": 7,
    "start_time": "2022-07-02T16:47:44.186Z"
   },
   {
    "duration": 9,
    "start_time": "2022-07-02T16:47:55.563Z"
   },
   {
    "duration": 7,
    "start_time": "2022-07-02T16:48:14.952Z"
   },
   {
    "duration": 6,
    "start_time": "2022-07-02T16:48:20.152Z"
   },
   {
    "duration": 688,
    "start_time": "2022-07-02T16:49:26.967Z"
   },
   {
    "duration": 7,
    "start_time": "2022-07-02T16:49:38.979Z"
   },
   {
    "duration": 6,
    "start_time": "2022-07-02T16:50:05.346Z"
   },
   {
    "duration": 11,
    "start_time": "2022-07-02T16:50:20.486Z"
   },
   {
    "duration": 7,
    "start_time": "2022-07-02T16:50:28.738Z"
   },
   {
    "duration": 6,
    "start_time": "2022-07-02T16:52:53.508Z"
   },
   {
    "duration": 32,
    "start_time": "2022-07-02T16:54:27.919Z"
   },
   {
    "duration": 7,
    "start_time": "2022-07-02T16:55:00.015Z"
   },
   {
    "duration": 10,
    "start_time": "2022-07-02T16:55:04.461Z"
   },
   {
    "duration": 4,
    "start_time": "2022-07-02T16:55:48.712Z"
   },
   {
    "duration": 43,
    "start_time": "2022-07-02T16:55:49.359Z"
   },
   {
    "duration": 31,
    "start_time": "2022-07-02T16:55:50.019Z"
   },
   {
    "duration": 10,
    "start_time": "2022-07-02T16:55:50.809Z"
   },
   {
    "duration": 14,
    "start_time": "2022-07-02T16:55:51.859Z"
   },
   {
    "duration": 22,
    "start_time": "2022-07-02T16:55:55.766Z"
   },
   {
    "duration": 8,
    "start_time": "2022-07-02T16:55:59.709Z"
   },
   {
    "duration": 5,
    "start_time": "2022-07-02T16:56:06.777Z"
   },
   {
    "duration": 10,
    "start_time": "2022-07-02T16:56:12.407Z"
   },
   {
    "duration": 11,
    "start_time": "2022-07-02T16:56:13.406Z"
   },
   {
    "duration": 10,
    "start_time": "2022-07-02T16:56:19.709Z"
   },
   {
    "duration": 1603,
    "start_time": "2022-07-02T16:56:47.911Z"
   },
   {
    "duration": 576,
    "start_time": "2022-07-02T16:57:15.358Z"
   },
   {
    "duration": 60,
    "start_time": "2022-07-02T16:57:58.913Z"
   },
   {
    "duration": 6,
    "start_time": "2022-07-02T16:58:10.562Z"
   },
   {
    "duration": 5,
    "start_time": "2022-07-02T16:58:21.206Z"
   },
   {
    "duration": 4,
    "start_time": "2022-07-02T16:58:27.108Z"
   },
   {
    "duration": 4,
    "start_time": "2022-07-02T16:58:31.976Z"
   },
   {
    "duration": 718,
    "start_time": "2022-07-02T16:59:04.561Z"
   },
   {
    "duration": 32,
    "start_time": "2022-07-02T16:59:30.509Z"
   },
   {
    "duration": 10,
    "start_time": "2022-07-02T17:02:02.652Z"
   },
   {
    "duration": 13,
    "start_time": "2022-07-02T17:28:48.387Z"
   },
   {
    "duration": 10,
    "start_time": "2022-07-02T17:30:35.687Z"
   },
   {
    "duration": 21,
    "start_time": "2022-07-02T17:30:45.009Z"
   },
   {
    "duration": 16,
    "start_time": "2022-07-02T17:34:48.944Z"
   },
   {
    "duration": 29,
    "start_time": "2022-07-02T17:35:12.855Z"
   },
   {
    "duration": 11,
    "start_time": "2022-07-02T17:36:52.201Z"
   },
   {
    "duration": 10,
    "start_time": "2022-07-02T17:37:02.138Z"
   },
   {
    "duration": 14,
    "start_time": "2022-07-02T17:37:57.382Z"
   },
   {
    "duration": 65,
    "start_time": "2022-07-02T17:42:19.841Z"
   },
   {
    "duration": 6,
    "start_time": "2022-07-02T17:42:39.220Z"
   },
   {
    "duration": 6,
    "start_time": "2022-07-02T17:42:54.401Z"
   },
   {
    "duration": 47,
    "start_time": "2022-07-02T17:43:44.945Z"
   },
   {
    "duration": 6,
    "start_time": "2022-07-02T17:43:45.764Z"
   },
   {
    "duration": 8,
    "start_time": "2022-07-02T17:43:53.301Z"
   },
   {
    "duration": 26,
    "start_time": "2022-07-02T17:44:13.339Z"
   },
   {
    "duration": 20,
    "start_time": "2022-07-02T17:48:27.793Z"
   },
   {
    "duration": 9,
    "start_time": "2022-07-02T17:48:55.175Z"
   },
   {
    "duration": 20,
    "start_time": "2022-07-02T17:49:29.775Z"
   },
   {
    "duration": 12,
    "start_time": "2022-07-02T17:49:40.765Z"
   },
   {
    "duration": 14,
    "start_time": "2022-07-02T17:49:43.269Z"
   },
   {
    "duration": 12,
    "start_time": "2022-07-02T17:50:23.485Z"
   },
   {
    "duration": 902,
    "start_time": "2022-07-02T17:51:47.241Z"
   },
   {
    "duration": 41,
    "start_time": "2022-07-02T18:09:07.460Z"
   },
   {
    "duration": 232,
    "start_time": "2022-07-02T18:10:09.306Z"
   },
   {
    "duration": 6,
    "start_time": "2022-07-02T18:10:58.956Z"
   },
   {
    "duration": 5,
    "start_time": "2022-07-02T18:11:16.900Z"
   },
   {
    "duration": 8,
    "start_time": "2022-07-02T18:11:30.995Z"
   },
   {
    "duration": 4,
    "start_time": "2022-07-02T18:12:04.694Z"
   },
   {
    "duration": 12,
    "start_time": "2022-07-02T18:12:27.482Z"
   },
   {
    "duration": 10,
    "start_time": "2022-07-02T18:16:24.859Z"
   },
   {
    "duration": 10,
    "start_time": "2022-07-02T18:16:40.313Z"
   },
   {
    "duration": 6,
    "start_time": "2022-07-02T18:18:07.775Z"
   },
   {
    "duration": 30,
    "start_time": "2022-07-02T18:18:16.938Z"
   },
   {
    "duration": 9,
    "start_time": "2022-07-02T18:20:38.409Z"
   },
   {
    "duration": 7,
    "start_time": "2022-07-02T18:20:48.241Z"
   },
   {
    "duration": 21,
    "start_time": "2022-07-02T18:21:09.490Z"
   },
   {
    "duration": 10,
    "start_time": "2022-07-02T18:23:51.844Z"
   },
   {
    "duration": 10,
    "start_time": "2022-07-02T18:24:05.048Z"
   },
   {
    "duration": 7,
    "start_time": "2022-07-02T18:26:13.489Z"
   },
   {
    "duration": 11,
    "start_time": "2022-07-02T18:26:25.183Z"
   },
   {
    "duration": 3,
    "start_time": "2022-07-02T18:26:35.754Z"
   },
   {
    "duration": 39,
    "start_time": "2022-07-02T18:26:36.952Z"
   },
   {
    "duration": 31,
    "start_time": "2022-07-02T18:26:37.785Z"
   },
   {
    "duration": 11,
    "start_time": "2022-07-02T18:26:39.275Z"
   },
   {
    "duration": 15,
    "start_time": "2022-07-02T18:26:41.348Z"
   },
   {
    "duration": 26,
    "start_time": "2022-07-02T18:26:43.053Z"
   },
   {
    "duration": 10,
    "start_time": "2022-07-02T18:26:45.996Z"
   },
   {
    "duration": 5,
    "start_time": "2022-07-02T18:26:47.255Z"
   },
   {
    "duration": 10,
    "start_time": "2022-07-02T18:26:53.102Z"
   },
   {
    "duration": 10,
    "start_time": "2022-07-02T18:26:53.952Z"
   },
   {
    "duration": 10,
    "start_time": "2022-07-02T18:26:56.202Z"
   },
   {
    "duration": 6,
    "start_time": "2022-07-02T18:27:31.687Z"
   },
   {
    "duration": 6,
    "start_time": "2022-07-02T18:27:37.379Z"
   },
   {
    "duration": 6,
    "start_time": "2022-07-02T18:27:48.880Z"
   },
   {
    "duration": 8,
    "start_time": "2022-07-02T18:28:16.691Z"
   },
   {
    "duration": 7,
    "start_time": "2022-07-02T18:29:00.955Z"
   },
   {
    "duration": 6,
    "start_time": "2022-07-02T18:29:13.863Z"
   },
   {
    "duration": 8,
    "start_time": "2022-07-02T18:33:12.592Z"
   },
   {
    "duration": 9,
    "start_time": "2022-07-02T18:55:10.745Z"
   },
   {
    "duration": 19,
    "start_time": "2022-07-02T18:55:11.585Z"
   },
   {
    "duration": 34,
    "start_time": "2022-07-02T18:55:12.361Z"
   },
   {
    "duration": 10,
    "start_time": "2022-07-02T18:55:13.497Z"
   },
   {
    "duration": 41,
    "start_time": "2022-07-02T18:55:14.248Z"
   },
   {
    "duration": 14,
    "start_time": "2022-07-02T18:55:15.042Z"
   },
   {
    "duration": 34,
    "start_time": "2022-07-02T18:55:16.171Z"
   },
   {
    "duration": 927,
    "start_time": "2022-07-02T18:55:25.866Z"
   },
   {
    "duration": 841,
    "start_time": "2022-07-02T18:55:50.971Z"
   },
   {
    "duration": 1036,
    "start_time": "2022-07-02T18:56:47.166Z"
   },
   {
    "duration": 923,
    "start_time": "2022-07-02T18:56:49.083Z"
   },
   {
    "duration": 11,
    "start_time": "2022-07-02T18:56:50.276Z"
   },
   {
    "duration": 14,
    "start_time": "2022-07-02T18:57:00.190Z"
   },
   {
    "duration": 5,
    "start_time": "2022-07-02T18:57:00.745Z"
   },
   {
    "duration": 12,
    "start_time": "2022-07-02T18:57:01.449Z"
   },
   {
    "duration": 14,
    "start_time": "2022-07-02T18:57:01.719Z"
   },
   {
    "duration": 10,
    "start_time": "2022-07-02T18:57:02.660Z"
   },
   {
    "duration": 16,
    "start_time": "2022-07-02T18:57:02.907Z"
   },
   {
    "duration": 30,
    "start_time": "2022-07-02T18:57:03.520Z"
   },
   {
    "duration": 11,
    "start_time": "2022-07-02T18:57:04.261Z"
   },
   {
    "duration": 29,
    "start_time": "2022-07-02T18:57:04.820Z"
   },
   {
    "duration": 16,
    "start_time": "2022-07-02T18:57:06.196Z"
   },
   {
    "duration": 32,
    "start_time": "2022-07-02T18:57:07.041Z"
   },
   {
    "duration": 279,
    "start_time": "2022-07-02T18:57:08.368Z"
   },
   {
    "duration": 4,
    "start_time": "2022-07-02T18:57:09.464Z"
   },
   {
    "duration": 14,
    "start_time": "2022-07-02T18:57:10.726Z"
   },
   {
    "duration": 14,
    "start_time": "2022-07-02T18:57:26.456Z"
   },
   {
    "duration": 30,
    "start_time": "2022-07-02T18:57:27.463Z"
   },
   {
    "duration": 45,
    "start_time": "2022-07-02T18:57:28.482Z"
   },
   {
    "duration": 133,
    "start_time": "2022-07-02T18:59:14.986Z"
   },
   {
    "duration": 17,
    "start_time": "2022-07-02T19:00:31.786Z"
   },
   {
    "duration": 4,
    "start_time": "2022-07-02T19:01:11.490Z"
   },
   {
    "duration": 39,
    "start_time": "2022-07-02T19:01:11.982Z"
   },
   {
    "duration": 21,
    "start_time": "2022-07-02T19:01:12.464Z"
   },
   {
    "duration": 26,
    "start_time": "2022-07-02T19:01:12.922Z"
   },
   {
    "duration": 18,
    "start_time": "2022-07-02T19:01:13.863Z"
   },
   {
    "duration": 35,
    "start_time": "2022-07-02T19:01:16.088Z"
   },
   {
    "duration": 12,
    "start_time": "2022-07-02T19:01:18.903Z"
   },
   {
    "duration": 10,
    "start_time": "2022-07-02T19:01:20.244Z"
   },
   {
    "duration": 9,
    "start_time": "2022-07-02T19:01:22.197Z"
   },
   {
    "duration": 10,
    "start_time": "2022-07-02T19:01:23.866Z"
   },
   {
    "duration": 10,
    "start_time": "2022-07-02T19:01:28.651Z"
   },
   {
    "duration": 14,
    "start_time": "2022-07-02T19:01:30.570Z"
   },
   {
    "duration": 31,
    "start_time": "2022-07-02T19:01:32.520Z"
   },
   {
    "duration": 10,
    "start_time": "2022-07-02T19:01:39.208Z"
   },
   {
    "duration": 22,
    "start_time": "2022-07-02T19:01:57.900Z"
   },
   {
    "duration": 16,
    "start_time": "2022-07-02T19:02:05.367Z"
   },
   {
    "duration": 32,
    "start_time": "2022-07-02T19:02:06.583Z"
   },
   {
    "duration": 274,
    "start_time": "2022-07-02T19:02:07.600Z"
   },
   {
    "duration": 4,
    "start_time": "2022-07-02T19:02:09.478Z"
   },
   {
    "duration": 11,
    "start_time": "2022-07-02T19:02:11.888Z"
   },
   {
    "duration": 16,
    "start_time": "2022-07-02T19:02:12.721Z"
   },
   {
    "duration": 24,
    "start_time": "2022-07-02T19:02:13.986Z"
   },
   {
    "duration": 1231,
    "start_time": "2022-07-02T19:03:13.986Z"
   },
   {
    "duration": 3,
    "start_time": "2022-07-02T20:04:54.180Z"
   },
   {
    "duration": 54,
    "start_time": "2022-07-02T20:04:54.185Z"
   },
   {
    "duration": 29,
    "start_time": "2022-07-02T20:04:54.241Z"
   },
   {
    "duration": 21,
    "start_time": "2022-07-02T20:04:54.272Z"
   },
   {
    "duration": 21,
    "start_time": "2022-07-02T20:04:54.296Z"
   },
   {
    "duration": 33,
    "start_time": "2022-07-02T20:04:54.329Z"
   },
   {
    "duration": 13,
    "start_time": "2022-07-02T20:04:54.364Z"
   },
   {
    "duration": 5,
    "start_time": "2022-07-02T20:04:54.384Z"
   },
   {
    "duration": 46,
    "start_time": "2022-07-02T20:04:54.390Z"
   },
   {
    "duration": 32,
    "start_time": "2022-07-02T20:04:54.438Z"
   },
   {
    "duration": 10,
    "start_time": "2022-07-02T20:05:44.846Z"
   },
   {
    "duration": 13,
    "start_time": "2022-07-02T20:05:46.693Z"
   },
   {
    "duration": 21,
    "start_time": "2022-07-02T20:05:47.296Z"
   },
   {
    "duration": 11,
    "start_time": "2022-07-02T20:05:48.111Z"
   },
   {
    "duration": 26,
    "start_time": "2022-07-02T20:05:48.736Z"
   },
   {
    "duration": 19,
    "start_time": "2022-07-02T20:05:49.349Z"
   },
   {
    "duration": 46,
    "start_time": "2022-07-02T20:05:49.895Z"
   },
   {
    "duration": 232,
    "start_time": "2022-07-02T20:05:50.453Z"
   },
   {
    "duration": 7,
    "start_time": "2022-07-02T20:05:51.128Z"
   },
   {
    "duration": 18,
    "start_time": "2022-07-02T20:05:52.334Z"
   },
   {
    "duration": 6,
    "start_time": "2022-07-02T20:05:53.014Z"
   },
   {
    "duration": 22,
    "start_time": "2022-07-02T20:05:53.645Z"
   },
   {
    "duration": 14,
    "start_time": "2022-07-02T20:06:07.429Z"
   },
   {
    "duration": 871,
    "start_time": "2022-07-02T20:06:13.142Z"
   },
   {
    "duration": 4,
    "start_time": "2022-07-02T20:06:43.649Z"
   },
   {
    "duration": 43,
    "start_time": "2022-07-02T20:06:44.058Z"
   },
   {
    "duration": 27,
    "start_time": "2022-07-02T20:06:44.396Z"
   },
   {
    "duration": 18,
    "start_time": "2022-07-02T20:06:44.925Z"
   },
   {
    "duration": 17,
    "start_time": "2022-07-02T20:06:45.853Z"
   },
   {
    "duration": 20,
    "start_time": "2022-07-02T20:06:47.841Z"
   },
   {
    "duration": 11,
    "start_time": "2022-07-02T20:06:49.642Z"
   },
   {
    "duration": 5,
    "start_time": "2022-07-02T20:06:50.600Z"
   },
   {
    "duration": 10,
    "start_time": "2022-07-02T20:06:53.547Z"
   },
   {
    "duration": 12,
    "start_time": "2022-07-02T20:06:54.599Z"
   },
   {
    "duration": 9,
    "start_time": "2022-07-02T20:06:59.119Z"
   },
   {
    "duration": 19,
    "start_time": "2022-07-02T20:07:02.698Z"
   },
   {
    "duration": 31,
    "start_time": "2022-07-02T20:08:05.346Z"
   },
   {
    "duration": 25,
    "start_time": "2022-07-02T20:08:22.875Z"
   },
   {
    "duration": 14,
    "start_time": "2022-07-02T20:08:30.708Z"
   },
   {
    "duration": 39,
    "start_time": "2022-07-02T20:08:31.561Z"
   },
   {
    "duration": 1145,
    "start_time": "2022-07-02T20:09:03.060Z"
   },
   {
    "duration": 43,
    "start_time": "2022-07-02T20:09:04.207Z"
   },
   {
    "duration": 26,
    "start_time": "2022-07-02T20:09:04.252Z"
   },
   {
    "duration": 13,
    "start_time": "2022-07-02T20:09:04.281Z"
   },
   {
    "duration": 40,
    "start_time": "2022-07-02T20:09:04.295Z"
   },
   {
    "duration": 22,
    "start_time": "2022-07-02T20:09:04.337Z"
   },
   {
    "duration": 13,
    "start_time": "2022-07-02T20:09:04.751Z"
   },
   {
    "duration": 6,
    "start_time": "2022-07-02T20:09:04.954Z"
   },
   {
    "duration": 15,
    "start_time": "2022-07-02T20:09:05.361Z"
   },
   {
    "duration": 15,
    "start_time": "2022-07-02T20:09:05.757Z"
   },
   {
    "duration": 12,
    "start_time": "2022-07-02T20:09:06.618Z"
   },
   {
    "duration": 17,
    "start_time": "2022-07-02T20:09:08.705Z"
   },
   {
    "duration": 21,
    "start_time": "2022-07-02T20:09:09.561Z"
   },
   {
    "duration": 10,
    "start_time": "2022-07-02T20:09:11.157Z"
   },
   {
    "duration": 26,
    "start_time": "2022-07-02T20:09:21.458Z"
   },
   {
    "duration": 114,
    "start_time": "2022-07-02T20:09:22.406Z"
   },
   {
    "duration": 14,
    "start_time": "2022-07-02T20:09:38.510Z"
   },
   {
    "duration": 31,
    "start_time": "2022-07-02T20:09:39.906Z"
   },
   {
    "duration": 218,
    "start_time": "2022-07-02T20:10:26.862Z"
   },
   {
    "duration": 11,
    "start_time": "2022-07-02T20:10:31.461Z"
   },
   {
    "duration": 5,
    "start_time": "2022-07-02T20:11:04.615Z"
   },
   {
    "duration": 17,
    "start_time": "2022-07-02T20:11:11.409Z"
   },
   {
    "duration": 9,
    "start_time": "2022-07-02T20:11:21.100Z"
   },
   {
    "duration": 20,
    "start_time": "2022-07-02T20:11:21.445Z"
   },
   {
    "duration": 10,
    "start_time": "2022-07-02T20:11:30.248Z"
   },
   {
    "duration": 7,
    "start_time": "2022-07-02T20:11:41.062Z"
   },
   {
    "duration": 12,
    "start_time": "2022-07-02T20:11:51.562Z"
   },
   {
    "duration": 8,
    "start_time": "2022-07-02T20:12:36.357Z"
   },
   {
    "duration": 10,
    "start_time": "2022-07-02T20:12:40.557Z"
   },
   {
    "duration": 16,
    "start_time": "2022-07-02T20:12:50.262Z"
   },
   {
    "duration": 21,
    "start_time": "2022-07-02T20:12:57.462Z"
   },
   {
    "duration": 10,
    "start_time": "2022-07-02T20:13:03.905Z"
   },
   {
    "duration": 9,
    "start_time": "2022-07-02T20:13:11.860Z"
   },
   {
    "duration": 5,
    "start_time": "2022-07-02T20:13:21.962Z"
   },
   {
    "duration": 37,
    "start_time": "2022-07-02T20:13:33.210Z"
   },
   {
    "duration": 60,
    "start_time": "2022-07-02T20:14:07.364Z"
   },
   {
    "duration": 35,
    "start_time": "2022-07-02T20:14:11.805Z"
   },
   {
    "duration": 9,
    "start_time": "2022-07-02T20:14:16.110Z"
   },
   {
    "duration": 11,
    "start_time": "2022-07-02T20:15:07.420Z"
   },
   {
    "duration": 19,
    "start_time": "2022-07-02T20:15:44.008Z"
   },
   {
    "duration": 13,
    "start_time": "2022-07-02T20:15:48.509Z"
   },
   {
    "duration": 9,
    "start_time": "2022-07-02T20:16:15.263Z"
   },
   {
    "duration": 13,
    "start_time": "2022-07-02T20:16:38.362Z"
   },
   {
    "duration": 35,
    "start_time": "2022-07-02T20:16:54.157Z"
   },
   {
    "duration": 15,
    "start_time": "2022-07-02T20:17:02.858Z"
   },
   {
    "duration": 12,
    "start_time": "2022-07-02T20:17:38.456Z"
   },
   {
    "duration": 9,
    "start_time": "2022-07-02T20:20:09.251Z"
   },
   {
    "duration": 7,
    "start_time": "2022-07-02T20:20:27.649Z"
   },
   {
    "duration": 12,
    "start_time": "2022-07-02T20:20:39.744Z"
   },
   {
    "duration": 14,
    "start_time": "2022-07-02T20:20:54.297Z"
   },
   {
    "duration": 14,
    "start_time": "2022-07-02T20:21:35.754Z"
   },
   {
    "duration": 12,
    "start_time": "2022-07-02T20:21:47.954Z"
   },
   {
    "duration": 7,
    "start_time": "2022-07-02T20:35:29.442Z"
   },
   {
    "duration": 12,
    "start_time": "2022-07-02T20:35:30.133Z"
   },
   {
    "duration": 11,
    "start_time": "2022-07-02T20:35:30.751Z"
   },
   {
    "duration": 36,
    "start_time": "2022-07-02T20:35:32.977Z"
   },
   {
    "duration": 12,
    "start_time": "2022-07-02T20:35:34.792Z"
   },
   {
    "duration": 22,
    "start_time": "2022-07-02T20:35:37.706Z"
   },
   {
    "duration": 16,
    "start_time": "2022-07-02T20:35:38.664Z"
   },
   {
    "duration": 38,
    "start_time": "2022-07-02T20:35:39.502Z"
   },
   {
    "duration": 1364,
    "start_time": "2022-07-02T20:35:40.451Z"
   },
   {
    "duration": 0,
    "start_time": "2022-07-02T20:35:41.818Z"
   },
   {
    "duration": 15,
    "start_time": "2022-07-02T20:35:42.064Z"
   },
   {
    "duration": 18,
    "start_time": "2022-07-02T20:35:42.965Z"
   },
   {
    "duration": 1165,
    "start_time": "2022-07-02T20:35:52.788Z"
   },
   {
    "duration": 267,
    "start_time": "2022-07-02T20:36:04.293Z"
   },
   {
    "duration": 5,
    "start_time": "2022-07-02T20:36:06.933Z"
   },
   {
    "duration": 14,
    "start_time": "2022-07-02T20:36:07.865Z"
   },
   {
    "duration": 18,
    "start_time": "2022-07-02T20:36:08.983Z"
   },
   {
    "duration": 8,
    "start_time": "2022-07-02T20:36:37.205Z"
   },
   {
    "duration": 35,
    "start_time": "2022-07-02T20:36:38.646Z"
   },
   {
    "duration": 10,
    "start_time": "2022-07-02T20:38:11.006Z"
   },
   {
    "duration": 7,
    "start_time": "2022-07-02T20:45:17.306Z"
   },
   {
    "duration": 1345,
    "start_time": "2022-07-03T13:56:45.442Z"
   },
   {
    "duration": 69,
    "start_time": "2022-07-03T13:56:47.810Z"
   },
   {
    "duration": 27,
    "start_time": "2022-07-03T13:56:48.440Z"
   },
   {
    "duration": 11,
    "start_time": "2022-07-03T13:56:49.564Z"
   },
   {
    "duration": 15,
    "start_time": "2022-07-03T13:56:52.338Z"
   },
   {
    "duration": 21,
    "start_time": "2022-07-03T13:56:59.051Z"
   },
   {
    "duration": 12,
    "start_time": "2022-07-03T13:57:01.969Z"
   },
   {
    "duration": 5,
    "start_time": "2022-07-03T13:57:02.562Z"
   },
   {
    "duration": 13,
    "start_time": "2022-07-03T13:57:03.997Z"
   },
   {
    "duration": 12,
    "start_time": "2022-07-03T13:57:04.735Z"
   },
   {
    "duration": 12,
    "start_time": "2022-07-03T13:57:17.403Z"
   },
   {
    "duration": 25,
    "start_time": "2022-07-03T13:57:18.081Z"
   },
   {
    "duration": 22,
    "start_time": "2022-07-03T13:57:18.760Z"
   },
   {
    "duration": 8,
    "start_time": "2022-07-03T13:57:19.110Z"
   },
   {
    "duration": 23,
    "start_time": "2022-07-03T13:57:19.674Z"
   },
   {
    "duration": 13,
    "start_time": "2022-07-03T13:57:20.068Z"
   },
   {
    "duration": 29,
    "start_time": "2022-07-03T13:57:20.671Z"
   },
   {
    "duration": 225,
    "start_time": "2022-07-03T13:57:21.220Z"
   },
   {
    "duration": 16,
    "start_time": "2022-07-03T13:57:28.114Z"
   },
   {
    "duration": 4,
    "start_time": "2022-07-03T13:57:28.673Z"
   },
   {
    "duration": 6,
    "start_time": "2022-07-03T13:57:29.076Z"
   },
   {
    "duration": 22,
    "start_time": "2022-07-03T13:57:30.035Z"
   },
   {
    "duration": 7,
    "start_time": "2022-07-03T13:57:32.670Z"
   },
   {
    "duration": 13,
    "start_time": "2022-07-03T13:57:33.112Z"
   },
   {
    "duration": 13,
    "start_time": "2022-07-03T13:57:33.527Z"
   },
   {
    "duration": 28,
    "start_time": "2022-07-03T13:57:33.948Z"
   },
   {
    "duration": 11,
    "start_time": "2022-07-03T13:57:34.827Z"
   },
   {
    "duration": 19,
    "start_time": "2022-07-03T13:57:35.937Z"
   },
   {
    "duration": 12,
    "start_time": "2022-07-03T13:57:36.421Z"
   },
   {
    "duration": 40,
    "start_time": "2022-07-03T13:57:37.409Z"
   },
   {
    "duration": 260,
    "start_time": "2022-07-03T13:57:38.240Z"
   },
   {
    "duration": 4,
    "start_time": "2022-07-03T13:57:42.485Z"
   },
   {
    "duration": 13,
    "start_time": "2022-07-03T13:57:43.159Z"
   },
   {
    "duration": 9,
    "start_time": "2022-07-03T13:57:44.880Z"
   },
   {
    "duration": 27,
    "start_time": "2022-07-03T13:57:46.204Z"
   },
   {
    "duration": 155,
    "start_time": "2022-07-03T14:00:12.954Z"
   },
   {
    "duration": 225,
    "start_time": "2022-07-03T14:00:24.069Z"
   },
   {
    "duration": 239,
    "start_time": "2022-07-03T14:03:14.600Z"
   },
   {
    "duration": 178,
    "start_time": "2022-07-03T14:03:21.987Z"
   },
   {
    "duration": 178,
    "start_time": "2022-07-03T14:04:27.109Z"
   },
   {
    "duration": 5,
    "start_time": "2022-07-03T14:07:18.547Z"
   },
   {
    "duration": 5,
    "start_time": "2022-07-03T14:07:35.626Z"
   },
   {
    "duration": 8,
    "start_time": "2022-07-03T14:08:48.174Z"
   },
   {
    "duration": 13,
    "start_time": "2022-07-03T14:10:12.972Z"
   },
   {
    "duration": 42,
    "start_time": "2022-07-03T14:11:01.404Z"
   },
   {
    "duration": 39,
    "start_time": "2022-07-03T14:11:16.287Z"
   },
   {
    "duration": 4,
    "start_time": "2022-07-03T14:11:25.493Z"
   },
   {
    "duration": 4,
    "start_time": "2022-07-03T14:39:09.623Z"
   },
   {
    "duration": 12,
    "start_time": "2022-07-03T14:40:02.173Z"
   },
   {
    "duration": 12,
    "start_time": "2022-07-03T14:40:42.679Z"
   },
   {
    "duration": 14,
    "start_time": "2022-07-03T14:40:57.769Z"
   },
   {
    "duration": 16,
    "start_time": "2022-07-03T14:41:07.666Z"
   },
   {
    "duration": 6,
    "start_time": "2022-07-03T14:41:13.476Z"
   },
   {
    "duration": 12,
    "start_time": "2022-07-03T14:41:25.050Z"
   },
   {
    "duration": 11,
    "start_time": "2022-07-03T14:42:03.484Z"
   },
   {
    "duration": 12,
    "start_time": "2022-07-03T14:42:08.063Z"
   },
   {
    "duration": 13,
    "start_time": "2022-07-03T14:43:20.729Z"
   },
   {
    "duration": 23,
    "start_time": "2022-07-03T14:43:49.941Z"
   },
   {
    "duration": 11,
    "start_time": "2022-07-03T14:47:21.405Z"
   },
   {
    "duration": 11,
    "start_time": "2022-07-03T14:47:25.952Z"
   },
   {
    "duration": 12,
    "start_time": "2022-07-03T14:47:30.648Z"
   },
   {
    "duration": 11,
    "start_time": "2022-07-03T14:47:36.868Z"
   },
   {
    "duration": 9,
    "start_time": "2022-07-03T14:48:37.135Z"
   },
   {
    "duration": 9,
    "start_time": "2022-07-03T14:48:41.984Z"
   },
   {
    "duration": 22,
    "start_time": "2022-07-03T14:48:49.166Z"
   },
   {
    "duration": 22,
    "start_time": "2022-07-03T14:49:08.400Z"
   },
   {
    "duration": 14,
    "start_time": "2022-07-03T14:49:13.530Z"
   },
   {
    "duration": 14,
    "start_time": "2022-07-03T14:53:47.735Z"
   },
   {
    "duration": 4,
    "start_time": "2022-07-03T14:59:03.802Z"
   },
   {
    "duration": 4,
    "start_time": "2022-07-03T14:59:04.075Z"
   },
   {
    "duration": 5,
    "start_time": "2022-07-03T14:59:04.406Z"
   },
   {
    "duration": 18,
    "start_time": "2022-07-03T14:59:05.400Z"
   },
   {
    "duration": 19,
    "start_time": "2022-07-03T14:59:23.275Z"
   },
   {
    "duration": 20,
    "start_time": "2022-07-03T15:00:21.232Z"
   },
   {
    "duration": 13,
    "start_time": "2022-07-03T15:20:58.846Z"
   },
   {
    "duration": 13,
    "start_time": "2022-07-03T15:21:03.939Z"
   },
   {
    "duration": 13,
    "start_time": "2022-07-03T15:21:17.298Z"
   },
   {
    "duration": 60,
    "start_time": "2022-07-03T15:21:31.797Z"
   },
   {
    "duration": 12,
    "start_time": "2022-07-03T15:21:40.771Z"
   },
   {
    "duration": 57,
    "start_time": "2022-07-03T15:21:51.941Z"
   },
   {
    "duration": 48,
    "start_time": "2022-07-03T15:22:11.353Z"
   },
   {
    "duration": 41,
    "start_time": "2022-07-03T15:22:31.372Z"
   },
   {
    "duration": 1410,
    "start_time": "2022-07-03T15:23:18.484Z"
   },
   {
    "duration": 1354,
    "start_time": "2022-07-03T15:23:27.610Z"
   },
   {
    "duration": 1189,
    "start_time": "2022-07-03T15:23:36.642Z"
   },
   {
    "duration": 873,
    "start_time": "2022-07-03T15:23:53.237Z"
   },
   {
    "duration": 59,
    "start_time": "2022-07-03T15:24:01.399Z"
   },
   {
    "duration": 9,
    "start_time": "2022-07-03T15:30:15.855Z"
   },
   {
    "duration": 31,
    "start_time": "2022-07-03T15:30:33.482Z"
   },
   {
    "duration": 19,
    "start_time": "2022-07-03T15:31:12.391Z"
   },
   {
    "duration": 19,
    "start_time": "2022-07-03T15:31:20.477Z"
   },
   {
    "duration": 10,
    "start_time": "2022-07-03T15:32:04.986Z"
   },
   {
    "duration": 34,
    "start_time": "2022-07-03T15:34:05.990Z"
   },
   {
    "duration": 30,
    "start_time": "2022-07-03T15:34:17.928Z"
   },
   {
    "duration": 49,
    "start_time": "2022-07-03T15:34:41.811Z"
   },
   {
    "duration": 16,
    "start_time": "2022-07-03T15:35:50.927Z"
   },
   {
    "duration": 5158,
    "start_time": "2022-07-03T15:36:14.054Z"
   },
   {
    "duration": 45,
    "start_time": "2022-07-03T15:36:28.516Z"
   },
   {
    "duration": 4981,
    "start_time": "2022-07-03T15:36:49.603Z"
   },
   {
    "duration": 38,
    "start_time": "2022-07-03T15:39:47.402Z"
   },
   {
    "duration": 25,
    "start_time": "2022-07-03T15:40:40.658Z"
   },
   {
    "duration": 13,
    "start_time": "2022-07-03T16:01:10.846Z"
   },
   {
    "duration": 15,
    "start_time": "2022-07-03T16:08:40.255Z"
   },
   {
    "duration": 14,
    "start_time": "2022-07-03T16:09:07.782Z"
   },
   {
    "duration": 21,
    "start_time": "2022-07-03T16:44:45.676Z"
   },
   {
    "duration": 789,
    "start_time": "2022-07-03T16:46:11.450Z"
   },
   {
    "duration": 817,
    "start_time": "2022-07-03T16:49:49.577Z"
   },
   {
    "duration": 9,
    "start_time": "2022-07-03T16:50:15.880Z"
   },
   {
    "duration": 33,
    "start_time": "2022-07-03T16:53:19.537Z"
   },
   {
    "duration": 119,
    "start_time": "2022-07-03T16:58:17.625Z"
   },
   {
    "duration": 1494,
    "start_time": "2022-07-03T16:58:30.979Z"
   },
   {
    "duration": 1473,
    "start_time": "2022-07-03T16:58:47.879Z"
   },
   {
    "duration": 16,
    "start_time": "2022-07-03T16:59:13.471Z"
   },
   {
    "duration": 19,
    "start_time": "2022-07-03T16:59:30.682Z"
   },
   {
    "duration": 20,
    "start_time": "2022-07-03T16:59:45.851Z"
   },
   {
    "duration": 21,
    "start_time": "2022-07-03T17:00:01.697Z"
   },
   {
    "duration": 116,
    "start_time": "2022-07-03T17:00:13.047Z"
   },
   {
    "duration": 18,
    "start_time": "2022-07-03T17:00:20.059Z"
   },
   {
    "duration": 12,
    "start_time": "2022-07-03T17:00:40.404Z"
   },
   {
    "duration": 16,
    "start_time": "2022-07-03T17:00:56.155Z"
   },
   {
    "duration": 17,
    "start_time": "2022-07-03T17:02:08.837Z"
   },
   {
    "duration": 18,
    "start_time": "2022-07-03T17:06:55.933Z"
   },
   {
    "duration": 1353,
    "start_time": "2022-07-03T18:47:48.839Z"
   },
   {
    "duration": 119,
    "start_time": "2022-07-03T18:47:50.195Z"
   },
   {
    "duration": 23,
    "start_time": "2022-07-03T18:47:50.316Z"
   },
   {
    "duration": 10,
    "start_time": "2022-07-03T18:47:50.341Z"
   },
   {
    "duration": 58,
    "start_time": "2022-07-03T18:47:50.353Z"
   },
   {
    "duration": 29,
    "start_time": "2022-07-03T18:47:51.756Z"
   },
   {
    "duration": 14,
    "start_time": "2022-07-03T18:47:52.690Z"
   },
   {
    "duration": 5,
    "start_time": "2022-07-03T18:47:53.108Z"
   },
   {
    "duration": 11,
    "start_time": "2022-07-03T18:47:53.607Z"
   },
   {
    "duration": 23,
    "start_time": "2022-07-03T18:47:54.095Z"
   },
   {
    "duration": 20,
    "start_time": "2022-07-03T18:47:55.291Z"
   },
   {
    "duration": 22,
    "start_time": "2022-07-03T18:47:55.591Z"
   },
   {
    "duration": 26,
    "start_time": "2022-07-03T18:47:55.806Z"
   },
   {
    "duration": 9,
    "start_time": "2022-07-03T18:47:56.334Z"
   },
   {
    "duration": 31,
    "start_time": "2022-07-03T18:47:57.083Z"
   },
   {
    "duration": 16,
    "start_time": "2022-07-03T18:47:57.517Z"
   },
   {
    "duration": 36,
    "start_time": "2022-07-03T18:47:58.593Z"
   },
   {
    "duration": 278,
    "start_time": "2022-07-03T18:47:59.624Z"
   },
   {
    "duration": 10,
    "start_time": "2022-07-03T18:48:00.335Z"
   },
   {
    "duration": 6,
    "start_time": "2022-07-03T18:48:00.797Z"
   },
   {
    "duration": 12,
    "start_time": "2022-07-03T18:48:01.274Z"
   },
   {
    "duration": 26,
    "start_time": "2022-07-03T18:48:01.994Z"
   },
   {
    "duration": 15,
    "start_time": "2022-07-03T18:48:03.579Z"
   },
   {
    "duration": 15,
    "start_time": "2022-07-03T18:48:03.809Z"
   },
   {
    "duration": 10,
    "start_time": "2022-07-03T18:48:04.033Z"
   },
   {
    "duration": 24,
    "start_time": "2022-07-03T18:48:04.304Z"
   },
   {
    "duration": 18,
    "start_time": "2022-07-03T18:48:04.492Z"
   },
   {
    "duration": 27,
    "start_time": "2022-07-03T18:48:04.708Z"
   },
   {
    "duration": 19,
    "start_time": "2022-07-03T18:48:04.960Z"
   },
   {
    "duration": 29,
    "start_time": "2022-07-03T18:48:05.196Z"
   },
   {
    "duration": 256,
    "start_time": "2022-07-03T18:48:05.382Z"
   },
   {
    "duration": 4,
    "start_time": "2022-07-03T18:48:05.640Z"
   },
   {
    "duration": 9,
    "start_time": "2022-07-03T18:48:05.816Z"
   },
   {
    "duration": 6,
    "start_time": "2022-07-03T18:48:06.019Z"
   },
   {
    "duration": 34,
    "start_time": "2022-07-03T18:48:06.278Z"
   },
   {
    "duration": 16,
    "start_time": "2022-07-03T18:48:06.708Z"
   },
   {
    "duration": 25,
    "start_time": "2022-07-03T18:48:06.932Z"
   },
   {
    "duration": 30,
    "start_time": "2022-07-03T18:48:07.155Z"
   },
   {
    "duration": 4,
    "start_time": "2022-07-03T18:48:08.423Z"
   },
   {
    "duration": 4,
    "start_time": "2022-07-03T18:48:08.825Z"
   },
   {
    "duration": 7,
    "start_time": "2022-07-03T18:48:09.153Z"
   },
   {
    "duration": 28,
    "start_time": "2022-07-03T18:48:09.508Z"
   },
   {
    "duration": 16,
    "start_time": "2022-07-03T18:48:10.437Z"
   },
   {
    "duration": 11,
    "start_time": "2022-07-03T18:48:11.220Z"
   },
   {
    "duration": 18,
    "start_time": "2022-07-03T18:48:11.495Z"
   },
   {
    "duration": 3,
    "start_time": "2022-07-03T18:48:11.740Z"
   },
   {
    "duration": 2,
    "start_time": "2022-07-03T18:48:12.230Z"
   },
   {
    "duration": 123,
    "start_time": "2022-07-03T18:48:47.297Z"
   },
   {
    "duration": 6,
    "start_time": "2022-07-03T18:48:56.806Z"
   },
   {
    "duration": 14,
    "start_time": "2022-07-03T18:49:18.488Z"
   },
   {
    "duration": 41,
    "start_time": "2022-07-03T18:55:47.155Z"
   },
   {
    "duration": 272,
    "start_time": "2022-07-03T18:59:14.118Z"
   },
   {
    "duration": 195,
    "start_time": "2022-07-03T18:59:38.815Z"
   },
   {
    "duration": 1773,
    "start_time": "2022-07-03T19:01:52.199Z"
   },
   {
    "duration": 402,
    "start_time": "2022-07-03T19:02:18.646Z"
   },
   {
    "duration": 7,
    "start_time": "2022-07-03T19:02:38.511Z"
   },
   {
    "duration": 5,
    "start_time": "2022-07-03T19:02:47.815Z"
   },
   {
    "duration": 244,
    "start_time": "2022-07-03T19:03:26.287Z"
   },
   {
    "duration": 9,
    "start_time": "2022-07-03T19:09:50.340Z"
   },
   {
    "duration": 436,
    "start_time": "2022-07-03T19:11:58.446Z"
   },
   {
    "duration": 450,
    "start_time": "2022-07-03T19:12:04.985Z"
   },
   {
    "duration": 351,
    "start_time": "2022-07-03T19:12:14.958Z"
   },
   {
    "duration": 207,
    "start_time": "2022-07-03T19:13:09.056Z"
   },
   {
    "duration": 11,
    "start_time": "2022-07-03T19:14:00.328Z"
   },
   {
    "duration": 329,
    "start_time": "2022-07-03T19:14:18.492Z"
   },
   {
    "duration": 19,
    "start_time": "2022-07-03T19:18:34.615Z"
   },
   {
    "duration": 65,
    "start_time": "2022-07-05T12:55:55.695Z"
   },
   {
    "duration": 1413,
    "start_time": "2022-07-05T12:56:02.967Z"
   },
   {
    "duration": 247,
    "start_time": "2022-07-05T12:56:04.382Z"
   },
   {
    "duration": 27,
    "start_time": "2022-07-05T12:56:04.631Z"
   },
   {
    "duration": 15,
    "start_time": "2022-07-05T12:56:04.659Z"
   },
   {
    "duration": 16,
    "start_time": "2022-07-05T12:56:04.677Z"
   },
   {
    "duration": 31,
    "start_time": "2022-07-05T12:56:04.695Z"
   },
   {
    "duration": 15,
    "start_time": "2022-07-05T12:56:04.728Z"
   },
   {
    "duration": 4,
    "start_time": "2022-07-05T12:56:04.745Z"
   },
   {
    "duration": 12,
    "start_time": "2022-07-05T12:56:04.751Z"
   },
   {
    "duration": 8,
    "start_time": "2022-07-05T12:56:04.766Z"
   },
   {
    "duration": 34,
    "start_time": "2022-07-05T12:56:04.776Z"
   },
   {
    "duration": 36,
    "start_time": "2022-07-05T12:56:04.815Z"
   },
   {
    "duration": 22,
    "start_time": "2022-07-05T12:56:04.852Z"
   },
   {
    "duration": 8,
    "start_time": "2022-07-05T12:56:04.877Z"
   },
   {
    "duration": 38,
    "start_time": "2022-07-05T12:56:04.887Z"
   },
   {
    "duration": 30,
    "start_time": "2022-07-05T12:56:04.927Z"
   },
   {
    "duration": 30,
    "start_time": "2022-07-05T12:56:04.958Z"
   },
   {
    "duration": 267,
    "start_time": "2022-07-05T12:56:04.990Z"
   },
   {
    "duration": 9,
    "start_time": "2022-07-05T12:56:05.259Z"
   },
   {
    "duration": 12,
    "start_time": "2022-07-05T12:56:05.270Z"
   },
   {
    "duration": 21,
    "start_time": "2022-07-05T12:56:05.284Z"
   },
   {
    "duration": 44,
    "start_time": "2022-07-05T12:56:05.307Z"
   },
   {
    "duration": 11,
    "start_time": "2022-07-05T12:56:05.354Z"
   },
   {
    "duration": 23,
    "start_time": "2022-07-05T12:56:05.367Z"
   },
   {
    "duration": 16,
    "start_time": "2022-07-05T12:56:05.392Z"
   },
   {
    "duration": 45,
    "start_time": "2022-07-05T12:56:05.411Z"
   },
   {
    "duration": 8,
    "start_time": "2022-07-05T12:56:05.458Z"
   },
   {
    "duration": 23,
    "start_time": "2022-07-05T12:56:05.467Z"
   },
   {
    "duration": 24,
    "start_time": "2022-07-05T12:56:05.492Z"
   },
   {
    "duration": 43,
    "start_time": "2022-07-05T12:56:05.518Z"
   },
   {
    "duration": 293,
    "start_time": "2022-07-05T12:56:05.564Z"
   },
   {
    "duration": 3,
    "start_time": "2022-07-05T12:56:05.859Z"
   },
   {
    "duration": 18,
    "start_time": "2022-07-05T12:56:05.864Z"
   },
   {
    "duration": 7,
    "start_time": "2022-07-05T12:56:05.884Z"
   },
   {
    "duration": 39,
    "start_time": "2022-07-05T12:56:05.893Z"
   },
   {
    "duration": 7,
    "start_time": "2022-07-05T12:56:05.934Z"
   },
   {
    "duration": 24,
    "start_time": "2022-07-05T12:56:05.943Z"
   },
   {
    "duration": 8,
    "start_time": "2022-07-05T12:56:05.969Z"
   },
   {
    "duration": 7,
    "start_time": "2022-07-05T12:56:05.979Z"
   },
   {
    "duration": 24,
    "start_time": "2022-07-05T12:56:05.988Z"
   },
   {
    "duration": 13,
    "start_time": "2022-07-05T12:56:06.023Z"
   },
   {
    "duration": 33,
    "start_time": "2022-07-05T12:56:06.038Z"
   },
   {
    "duration": 18,
    "start_time": "2022-07-05T12:56:06.072Z"
   },
   {
    "duration": 221,
    "start_time": "2022-07-05T12:56:06.092Z"
   },
   {
    "duration": 11,
    "start_time": "2022-07-05T12:56:06.315Z"
   },
   {
    "duration": 24,
    "start_time": "2022-07-05T12:56:06.327Z"
   },
   {
    "duration": 10,
    "start_time": "2022-07-05T12:56:30.738Z"
   },
   {
    "duration": 10,
    "start_time": "2022-07-05T12:56:42.375Z"
   },
   {
    "duration": 9,
    "start_time": "2022-07-05T12:57:26.369Z"
   },
   {
    "duration": 10,
    "start_time": "2022-07-05T12:57:30.049Z"
   },
   {
    "duration": 89,
    "start_time": "2022-07-05T13:06:45.360Z"
   },
   {
    "duration": 10,
    "start_time": "2022-07-05T13:06:49.849Z"
   },
   {
    "duration": 125,
    "start_time": "2022-07-05T13:07:39.325Z"
   },
   {
    "duration": 25,
    "start_time": "2022-07-05T13:07:46.295Z"
   },
   {
    "duration": 173,
    "start_time": "2022-07-05T13:09:53.477Z"
   },
   {
    "duration": 334,
    "start_time": "2022-07-05T13:10:05.557Z"
   },
   {
    "duration": 15,
    "start_time": "2022-07-05T13:20:50.980Z"
   },
   {
    "duration": 7,
    "start_time": "2022-07-05T13:20:59.038Z"
   },
   {
    "duration": 65,
    "start_time": "2022-07-05T13:21:16.135Z"
   },
   {
    "duration": 10,
    "start_time": "2022-07-05T13:22:19.117Z"
   },
   {
    "duration": 15,
    "start_time": "2022-07-05T13:22:29.045Z"
   },
   {
    "duration": 9,
    "start_time": "2022-07-05T13:22:29.749Z"
   },
   {
    "duration": 12,
    "start_time": "2022-07-05T13:22:56.891Z"
   },
   {
    "duration": 22,
    "start_time": "2022-07-05T13:27:28.054Z"
   },
   {
    "duration": 19,
    "start_time": "2022-07-05T13:30:05.849Z"
   },
   {
    "duration": 9,
    "start_time": "2022-07-05T13:33:39.365Z"
   },
   {
    "duration": 18,
    "start_time": "2022-07-05T13:33:48.836Z"
   },
   {
    "duration": 20,
    "start_time": "2022-07-05T13:34:00.991Z"
   },
   {
    "duration": 14,
    "start_time": "2022-07-05T13:35:47.224Z"
   },
   {
    "duration": 30,
    "start_time": "2022-07-05T13:35:57.178Z"
   },
   {
    "duration": 24,
    "start_time": "2022-07-05T13:36:47.317Z"
   },
   {
    "duration": 19,
    "start_time": "2022-07-05T13:37:03.220Z"
   },
   {
    "duration": 20,
    "start_time": "2022-07-05T13:37:17.444Z"
   },
   {
    "duration": 9,
    "start_time": "2022-07-05T13:39:14.212Z"
   },
   {
    "duration": 11,
    "start_time": "2022-07-05T13:40:43.629Z"
   },
   {
    "duration": 27,
    "start_time": "2022-07-05T13:40:44.368Z"
   },
   {
    "duration": 22,
    "start_time": "2022-07-05T13:40:55.438Z"
   },
   {
    "duration": 9,
    "start_time": "2022-07-05T13:41:01.379Z"
   },
   {
    "duration": 25,
    "start_time": "2022-07-05T13:41:35.296Z"
   },
   {
    "duration": 11,
    "start_time": "2022-07-05T13:44:33.569Z"
   },
   {
    "duration": 14,
    "start_time": "2022-07-05T13:44:41.243Z"
   },
   {
    "duration": 10,
    "start_time": "2022-07-05T13:46:10.202Z"
   },
   {
    "duration": 8,
    "start_time": "2022-07-05T13:46:14.867Z"
   },
   {
    "duration": 14,
    "start_time": "2022-07-05T13:47:28.857Z"
   },
   {
    "duration": 12,
    "start_time": "2022-07-05T14:16:06.882Z"
   },
   {
    "duration": 1470,
    "start_time": "2022-07-05T14:17:04.565Z"
   },
   {
    "duration": 9,
    "start_time": "2022-07-05T14:17:15.091Z"
   },
   {
    "duration": 231,
    "start_time": "2022-07-05T14:20:03.860Z"
   },
   {
    "duration": 9,
    "start_time": "2022-07-05T14:20:49.541Z"
   },
   {
    "duration": 10,
    "start_time": "2022-07-05T14:21:32.697Z"
   },
   {
    "duration": 9,
    "start_time": "2022-07-05T14:30:49.929Z"
   },
   {
    "duration": 9,
    "start_time": "2022-07-05T14:31:27.145Z"
   },
   {
    "duration": 24,
    "start_time": "2022-07-05T14:49:14.660Z"
   },
   {
    "duration": 13,
    "start_time": "2022-07-05T14:51:33.730Z"
   },
   {
    "duration": 13,
    "start_time": "2022-07-05T14:52:29.811Z"
   },
   {
    "duration": 25,
    "start_time": "2022-07-05T14:53:37.585Z"
   },
   {
    "duration": 15,
    "start_time": "2022-07-05T14:56:25.837Z"
   },
   {
    "duration": 19,
    "start_time": "2022-07-05T14:57:15.690Z"
   },
   {
    "duration": 19,
    "start_time": "2022-07-05T14:59:42.596Z"
   },
   {
    "duration": 3,
    "start_time": "2022-07-05T15:01:03.173Z"
   },
   {
    "duration": 18,
    "start_time": "2022-07-05T15:02:06.878Z"
   },
   {
    "duration": 16,
    "start_time": "2022-07-05T15:04:46.720Z"
   },
   {
    "duration": 35,
    "start_time": "2022-07-05T15:05:16.300Z"
   },
   {
    "duration": 20,
    "start_time": "2022-07-05T15:06:18.936Z"
   },
   {
    "duration": 10,
    "start_time": "2022-07-05T15:08:14.154Z"
   },
   {
    "duration": 10,
    "start_time": "2022-07-05T15:08:24.351Z"
   },
   {
    "duration": 27,
    "start_time": "2022-07-05T15:08:47.293Z"
   },
   {
    "duration": 10,
    "start_time": "2022-07-05T15:08:52.051Z"
   },
   {
    "duration": 4,
    "start_time": "2022-07-05T15:10:03.237Z"
   },
   {
    "duration": 21,
    "start_time": "2022-07-05T15:10:51.939Z"
   },
   {
    "duration": 32,
    "start_time": "2022-07-05T15:11:09.291Z"
   },
   {
    "duration": 11,
    "start_time": "2022-07-05T15:11:31.431Z"
   },
   {
    "duration": 15,
    "start_time": "2022-07-05T15:11:41.749Z"
   },
   {
    "duration": 13,
    "start_time": "2022-07-05T15:12:45.626Z"
   },
   {
    "duration": 16,
    "start_time": "2022-07-05T15:13:11.973Z"
   },
   {
    "duration": 18,
    "start_time": "2022-07-05T15:13:45.628Z"
   },
   {
    "duration": 9,
    "start_time": "2022-07-05T15:14:14.643Z"
   },
   {
    "duration": 12,
    "start_time": "2022-07-05T15:14:29.719Z"
   },
   {
    "duration": 12,
    "start_time": "2022-07-05T15:14:36.120Z"
   },
   {
    "duration": 8,
    "start_time": "2022-07-05T15:14:44.343Z"
   },
   {
    "duration": 4,
    "start_time": "2022-07-05T15:14:55.442Z"
   },
   {
    "duration": 15,
    "start_time": "2022-07-05T15:16:16.480Z"
   },
   {
    "duration": 4,
    "start_time": "2022-07-05T15:16:23.523Z"
   },
   {
    "duration": 5,
    "start_time": "2022-07-05T15:16:36.023Z"
   },
   {
    "duration": 4,
    "start_time": "2022-07-05T15:16:39.356Z"
   },
   {
    "duration": 4,
    "start_time": "2022-07-05T15:17:17.072Z"
   },
   {
    "duration": 4,
    "start_time": "2022-07-05T15:17:37.943Z"
   },
   {
    "duration": 10,
    "start_time": "2022-07-05T15:22:49.457Z"
   },
   {
    "duration": 5,
    "start_time": "2022-07-05T15:22:59.131Z"
   },
   {
    "duration": 13,
    "start_time": "2022-07-05T15:24:35.817Z"
   },
   {
    "duration": 3,
    "start_time": "2022-07-05T15:24:39.276Z"
   },
   {
    "duration": 19,
    "start_time": "2022-07-05T15:24:40.399Z"
   },
   {
    "duration": 15,
    "start_time": "2022-07-05T15:25:12.618Z"
   },
   {
    "duration": 19,
    "start_time": "2022-07-05T15:43:18.889Z"
   },
   {
    "duration": 137,
    "start_time": "2022-07-05T15:43:37.823Z"
   },
   {
    "duration": 207,
    "start_time": "2022-07-05T15:47:55.373Z"
   },
   {
    "duration": 128,
    "start_time": "2022-07-05T15:49:51.820Z"
   },
   {
    "duration": 152,
    "start_time": "2022-07-05T15:51:45.177Z"
   },
   {
    "duration": 152,
    "start_time": "2022-07-05T15:52:09.161Z"
   },
   {
    "duration": 136,
    "start_time": "2022-07-05T15:53:26.384Z"
   },
   {
    "duration": 151,
    "start_time": "2022-07-05T15:53:43.980Z"
   },
   {
    "duration": 140,
    "start_time": "2022-07-05T15:54:32.112Z"
   },
   {
    "duration": 18,
    "start_time": "2022-07-05T15:59:39.286Z"
   },
   {
    "duration": 16,
    "start_time": "2022-07-05T15:59:47.281Z"
   },
   {
    "duration": 155,
    "start_time": "2022-07-05T16:00:42.883Z"
   },
   {
    "duration": 16,
    "start_time": "2022-07-05T16:03:03.931Z"
   },
   {
    "duration": 146,
    "start_time": "2022-07-05T16:03:04.204Z"
   },
   {
    "duration": 15,
    "start_time": "2022-07-05T16:03:04.718Z"
   },
   {
    "duration": 145,
    "start_time": "2022-07-05T16:03:04.992Z"
   },
   {
    "duration": 20,
    "start_time": "2022-07-05T16:03:05.435Z"
   },
   {
    "duration": 142,
    "start_time": "2022-07-05T16:03:05.711Z"
   },
   {
    "duration": 15,
    "start_time": "2022-07-05T16:03:06.384Z"
   },
   {
    "duration": 168,
    "start_time": "2022-07-05T16:03:06.685Z"
   },
   {
    "duration": 18,
    "start_time": "2022-07-05T16:03:07.064Z"
   },
   {
    "duration": 244,
    "start_time": "2022-07-05T16:03:07.330Z"
   },
   {
    "duration": 21,
    "start_time": "2022-07-05T16:03:07.796Z"
   },
   {
    "duration": 142,
    "start_time": "2022-07-05T16:03:08.083Z"
   },
   {
    "duration": 19,
    "start_time": "2022-07-05T16:03:08.759Z"
   },
   {
    "duration": 136,
    "start_time": "2022-07-05T16:03:09.019Z"
   },
   {
    "duration": 13,
    "start_time": "2022-07-05T16:03:09.472Z"
   },
   {
    "duration": 142,
    "start_time": "2022-07-05T16:03:09.731Z"
   },
   {
    "duration": 15,
    "start_time": "2022-07-05T16:03:10.172Z"
   },
   {
    "duration": 141,
    "start_time": "2022-07-05T16:03:10.440Z"
   },
   {
    "duration": 2,
    "start_time": "2022-07-05T16:03:11.141Z"
   },
   {
    "duration": 3,
    "start_time": "2022-07-05T16:03:11.367Z"
   },
   {
    "duration": 11,
    "start_time": "2022-07-05T16:04:47.911Z"
   },
   {
    "duration": 150,
    "start_time": "2022-07-05T16:07:32.280Z"
   },
   {
    "duration": 1126,
    "start_time": "2022-07-06T09:56:19.539Z"
   },
   {
    "duration": 69,
    "start_time": "2022-07-06T09:56:20.667Z"
   },
   {
    "duration": 36,
    "start_time": "2022-07-06T09:56:20.737Z"
   },
   {
    "duration": 8,
    "start_time": "2022-07-06T09:56:20.775Z"
   },
   {
    "duration": 14,
    "start_time": "2022-07-06T09:56:20.786Z"
   },
   {
    "duration": 19,
    "start_time": "2022-07-06T09:56:20.802Z"
   },
   {
    "duration": 34,
    "start_time": "2022-07-06T09:56:20.823Z"
   },
   {
    "duration": 13,
    "start_time": "2022-07-06T09:56:20.865Z"
   },
   {
    "duration": 11,
    "start_time": "2022-07-06T09:56:20.879Z"
   },
   {
    "duration": 10,
    "start_time": "2022-07-06T09:56:20.891Z"
   },
   {
    "duration": 10,
    "start_time": "2022-07-06T09:56:20.902Z"
   },
   {
    "duration": 12,
    "start_time": "2022-07-06T09:56:20.914Z"
   },
   {
    "duration": 39,
    "start_time": "2022-07-06T09:56:20.928Z"
   },
   {
    "duration": 11,
    "start_time": "2022-07-06T09:56:20.972Z"
   },
   {
    "duration": 25,
    "start_time": "2022-07-06T09:56:20.984Z"
   },
   {
    "duration": 34,
    "start_time": "2022-07-06T09:56:21.010Z"
   },
   {
    "duration": 35,
    "start_time": "2022-07-06T09:56:21.046Z"
   },
   {
    "duration": 242,
    "start_time": "2022-07-06T09:56:21.083Z"
   },
   {
    "duration": 9,
    "start_time": "2022-07-06T09:56:21.326Z"
   },
   {
    "duration": 8,
    "start_time": "2022-07-06T09:56:21.336Z"
   },
   {
    "duration": 7,
    "start_time": "2022-07-06T09:56:21.345Z"
   },
   {
    "duration": 33,
    "start_time": "2022-07-06T09:56:21.361Z"
   },
   {
    "duration": 8,
    "start_time": "2022-07-06T09:56:21.396Z"
   },
   {
    "duration": 11,
    "start_time": "2022-07-06T09:56:21.406Z"
   },
   {
    "duration": 12,
    "start_time": "2022-07-06T09:56:21.419Z"
   },
   {
    "duration": 42,
    "start_time": "2022-07-06T09:56:21.432Z"
   },
   {
    "duration": 9,
    "start_time": "2022-07-06T09:56:21.476Z"
   },
   {
    "duration": 21,
    "start_time": "2022-07-06T09:56:21.486Z"
   },
   {
    "duration": 11,
    "start_time": "2022-07-06T09:56:21.509Z"
   },
   {
    "duration": 39,
    "start_time": "2022-07-06T09:56:21.549Z"
   },
   {
    "duration": 249,
    "start_time": "2022-07-06T09:56:21.589Z"
   },
   {
    "duration": 13,
    "start_time": "2022-07-06T09:56:21.842Z"
   },
   {
    "duration": 20,
    "start_time": "2022-07-06T09:56:21.863Z"
   },
   {
    "duration": 6,
    "start_time": "2022-07-06T09:56:21.884Z"
   },
   {
    "duration": 25,
    "start_time": "2022-07-06T09:56:21.892Z"
   },
   {
    "duration": 7,
    "start_time": "2022-07-06T09:56:21.918Z"
   },
   {
    "duration": 21,
    "start_time": "2022-07-06T09:56:21.926Z"
   },
   {
    "duration": 12,
    "start_time": "2022-07-06T09:56:21.948Z"
   },
   {
    "duration": 15,
    "start_time": "2022-07-06T09:56:21.962Z"
   },
   {
    "duration": 5,
    "start_time": "2022-07-06T09:56:21.978Z"
   },
   {
    "duration": 4,
    "start_time": "2022-07-06T09:56:21.986Z"
   },
   {
    "duration": 21,
    "start_time": "2022-07-06T09:56:21.992Z"
   },
   {
    "duration": 33,
    "start_time": "2022-07-06T09:56:22.015Z"
   },
   {
    "duration": 183,
    "start_time": "2022-07-06T09:56:22.050Z"
   },
   {
    "duration": 15,
    "start_time": "2022-07-06T09:56:22.235Z"
   },
   {
    "duration": 34,
    "start_time": "2022-07-06T09:56:22.252Z"
   },
   {
    "duration": 103,
    "start_time": "2022-07-06T09:56:22.288Z"
   },
   {
    "duration": 0,
    "start_time": "2022-07-06T09:56:22.393Z"
   },
   {
    "duration": 0,
    "start_time": "2022-07-06T09:56:22.393Z"
   },
   {
    "duration": 0,
    "start_time": "2022-07-06T09:56:22.395Z"
   },
   {
    "duration": 0,
    "start_time": "2022-07-06T09:56:22.396Z"
   },
   {
    "duration": 0,
    "start_time": "2022-07-06T09:56:22.397Z"
   },
   {
    "duration": 0,
    "start_time": "2022-07-06T09:56:22.398Z"
   },
   {
    "duration": 0,
    "start_time": "2022-07-06T09:56:22.399Z"
   },
   {
    "duration": 0,
    "start_time": "2022-07-06T09:56:22.400Z"
   },
   {
    "duration": 0,
    "start_time": "2022-07-06T09:56:22.402Z"
   },
   {
    "duration": 0,
    "start_time": "2022-07-06T09:56:22.403Z"
   },
   {
    "duration": 0,
    "start_time": "2022-07-06T09:56:22.404Z"
   },
   {
    "duration": 0,
    "start_time": "2022-07-06T09:56:22.405Z"
   },
   {
    "duration": 0,
    "start_time": "2022-07-06T09:56:22.406Z"
   },
   {
    "duration": 0,
    "start_time": "2022-07-06T09:56:22.407Z"
   },
   {
    "duration": 0,
    "start_time": "2022-07-06T09:56:22.408Z"
   },
   {
    "duration": 0,
    "start_time": "2022-07-06T09:56:22.409Z"
   },
   {
    "duration": 0,
    "start_time": "2022-07-06T09:56:22.410Z"
   },
   {
    "duration": 0,
    "start_time": "2022-07-06T09:56:22.411Z"
   },
   {
    "duration": 0,
    "start_time": "2022-07-06T09:56:22.442Z"
   },
   {
    "duration": 0,
    "start_time": "2022-07-06T09:56:22.443Z"
   },
   {
    "duration": 0,
    "start_time": "2022-07-06T09:56:22.446Z"
   },
   {
    "duration": 0,
    "start_time": "2022-07-06T09:56:22.447Z"
   },
   {
    "duration": 0,
    "start_time": "2022-07-06T09:56:22.448Z"
   },
   {
    "duration": 0,
    "start_time": "2022-07-06T09:56:22.448Z"
   },
   {
    "duration": 0,
    "start_time": "2022-07-06T09:56:22.449Z"
   },
   {
    "duration": 0,
    "start_time": "2022-07-06T09:56:22.450Z"
   },
   {
    "duration": 0,
    "start_time": "2022-07-06T09:56:22.451Z"
   },
   {
    "duration": 0,
    "start_time": "2022-07-06T09:56:22.451Z"
   },
   {
    "duration": 12,
    "start_time": "2022-07-06T09:57:49.381Z"
   },
   {
    "duration": 287,
    "start_time": "2022-07-06T09:58:55.008Z"
   },
   {
    "duration": 7,
    "start_time": "2022-07-06T09:58:56.340Z"
   },
   {
    "duration": 22,
    "start_time": "2022-07-06T09:58:57.168Z"
   },
   {
    "duration": 37,
    "start_time": "2022-07-06T09:58:57.369Z"
   },
   {
    "duration": 31,
    "start_time": "2022-07-06T09:58:57.591Z"
   },
   {
    "duration": 12,
    "start_time": "2022-07-06T09:58:58.011Z"
   },
   {
    "duration": 11,
    "start_time": "2022-07-06T09:58:58.260Z"
   },
   {
    "duration": 26,
    "start_time": "2022-07-06T09:58:58.664Z"
   },
   {
    "duration": 19,
    "start_time": "2022-07-06T09:58:59.673Z"
   },
   {
    "duration": 149,
    "start_time": "2022-07-06T09:58:59.840Z"
   },
   {
    "duration": 18,
    "start_time": "2022-07-06T09:59:00.274Z"
   },
   {
    "duration": 140,
    "start_time": "2022-07-06T09:59:00.484Z"
   },
   {
    "duration": 26,
    "start_time": "2022-07-06T09:59:00.876Z"
   },
   {
    "duration": 145,
    "start_time": "2022-07-06T09:59:01.073Z"
   },
   {
    "duration": 16,
    "start_time": "2022-07-06T09:59:01.781Z"
   },
   {
    "duration": 207,
    "start_time": "2022-07-06T09:59:01.983Z"
   },
   {
    "duration": 14,
    "start_time": "2022-07-06T09:59:02.381Z"
   },
   {
    "duration": 165,
    "start_time": "2022-07-06T09:59:02.638Z"
   },
   {
    "duration": 24,
    "start_time": "2022-07-06T09:59:03.068Z"
   },
   {
    "duration": 135,
    "start_time": "2022-07-06T09:59:03.273Z"
   },
   {
    "duration": 29,
    "start_time": "2022-07-06T09:59:03.938Z"
   },
   {
    "duration": 148,
    "start_time": "2022-07-06T09:59:04.138Z"
   },
   {
    "duration": 43,
    "start_time": "2022-07-06T09:59:04.549Z"
   },
   {
    "duration": 196,
    "start_time": "2022-07-06T09:59:04.740Z"
   },
   {
    "duration": 30,
    "start_time": "2022-07-06T09:59:05.138Z"
   },
   {
    "duration": 157,
    "start_time": "2022-07-06T09:59:05.306Z"
   },
   {
    "duration": 9,
    "start_time": "2022-07-06T09:59:05.908Z"
   },
   {
    "duration": 158,
    "start_time": "2022-07-06T09:59:06.101Z"
   },
   {
    "duration": 7,
    "start_time": "2022-07-06T10:05:37.740Z"
   },
   {
    "duration": 32,
    "start_time": "2022-07-06T10:05:51.615Z"
   },
   {
    "duration": 9,
    "start_time": "2022-07-06T10:06:03.792Z"
   },
   {
    "duration": 18,
    "start_time": "2022-07-06T10:06:09.975Z"
   },
   {
    "duration": 6,
    "start_time": "2022-07-06T10:06:21.806Z"
   },
   {
    "duration": 28,
    "start_time": "2022-07-06T10:06:26.272Z"
   },
   {
    "duration": 13,
    "start_time": "2022-07-06T10:08:27.677Z"
   },
   {
    "duration": 17,
    "start_time": "2022-07-06T10:08:34.781Z"
   },
   {
    "duration": 31,
    "start_time": "2022-07-06T10:08:40.995Z"
   },
   {
    "duration": 16,
    "start_time": "2022-07-06T10:14:09.204Z"
   },
   {
    "duration": 60,
    "start_time": "2022-07-06T17:09:24.716Z"
   },
   {
    "duration": 1357,
    "start_time": "2022-07-06T17:09:34.439Z"
   },
   {
    "duration": 85,
    "start_time": "2022-07-06T17:09:35.798Z"
   },
   {
    "duration": 31,
    "start_time": "2022-07-06T17:09:35.885Z"
   },
   {
    "duration": 9,
    "start_time": "2022-07-06T17:09:35.918Z"
   },
   {
    "duration": 33,
    "start_time": "2022-07-06T17:09:35.929Z"
   },
   {
    "duration": 25,
    "start_time": "2022-07-06T17:09:35.964Z"
   },
   {
    "duration": 12,
    "start_time": "2022-07-06T17:09:35.991Z"
   },
   {
    "duration": 24,
    "start_time": "2022-07-06T17:09:36.005Z"
   },
   {
    "duration": 25,
    "start_time": "2022-07-06T17:09:36.032Z"
   },
   {
    "duration": 14,
    "start_time": "2022-07-06T17:09:36.059Z"
   },
   {
    "duration": 23,
    "start_time": "2022-07-06T17:09:36.074Z"
   },
   {
    "duration": 14,
    "start_time": "2022-07-06T17:09:36.099Z"
   },
   {
    "duration": 38,
    "start_time": "2022-07-06T17:09:36.115Z"
   },
   {
    "duration": 13,
    "start_time": "2022-07-06T17:09:36.157Z"
   },
   {
    "duration": 64,
    "start_time": "2022-07-06T17:09:36.173Z"
   },
   {
    "duration": 13,
    "start_time": "2022-07-06T17:09:36.239Z"
   },
   {
    "duration": 30,
    "start_time": "2022-07-06T17:09:36.254Z"
   },
   {
    "duration": 258,
    "start_time": "2022-07-06T17:09:36.285Z"
   },
   {
    "duration": 10,
    "start_time": "2022-07-06T17:09:36.545Z"
   },
   {
    "duration": 6,
    "start_time": "2022-07-06T17:09:36.556Z"
   },
   {
    "duration": 12,
    "start_time": "2022-07-06T17:09:36.563Z"
   },
   {
    "duration": 25,
    "start_time": "2022-07-06T17:09:36.577Z"
   },
   {
    "duration": 31,
    "start_time": "2022-07-06T17:09:36.603Z"
   },
   {
    "duration": 15,
    "start_time": "2022-07-06T17:09:36.636Z"
   },
   {
    "duration": 12,
    "start_time": "2022-07-06T17:09:36.653Z"
   },
   {
    "duration": 23,
    "start_time": "2022-07-06T17:09:36.666Z"
   },
   {
    "duration": 33,
    "start_time": "2022-07-06T17:09:36.691Z"
   },
   {
    "duration": 38,
    "start_time": "2022-07-06T17:09:36.727Z"
   },
   {
    "duration": 11,
    "start_time": "2022-07-06T17:09:36.766Z"
   },
   {
    "duration": 31,
    "start_time": "2022-07-06T17:09:36.779Z"
   },
   {
    "duration": 254,
    "start_time": "2022-07-06T17:09:36.825Z"
   },
   {
    "duration": 3,
    "start_time": "2022-07-06T17:09:37.081Z"
   },
   {
    "duration": 13,
    "start_time": "2022-07-06T17:09:37.085Z"
   },
   {
    "duration": 7,
    "start_time": "2022-07-06T17:09:37.100Z"
   },
   {
    "duration": 37,
    "start_time": "2022-07-06T17:09:37.108Z"
   },
   {
    "duration": 8,
    "start_time": "2022-07-06T17:09:37.146Z"
   },
   {
    "duration": 5,
    "start_time": "2022-07-06T17:09:43.310Z"
   },
   {
    "duration": 46,
    "start_time": "2022-07-06T17:34:40.721Z"
   },
   {
    "duration": 105,
    "start_time": "2022-07-06T19:00:35.598Z"
   },
   {
    "duration": 43,
    "start_time": "2022-07-06T21:36:17.842Z"
   },
   {
    "duration": 1242,
    "start_time": "2022-07-06T21:36:21.787Z"
   },
   {
    "duration": 67,
    "start_time": "2022-07-06T21:36:23.031Z"
   },
   {
    "duration": 26,
    "start_time": "2022-07-06T21:36:23.100Z"
   },
   {
    "duration": 8,
    "start_time": "2022-07-06T21:36:23.128Z"
   },
   {
    "duration": 21,
    "start_time": "2022-07-06T21:36:23.138Z"
   },
   {
    "duration": 20,
    "start_time": "2022-07-06T21:36:23.160Z"
   },
   {
    "duration": 9,
    "start_time": "2022-07-06T21:36:23.200Z"
   },
   {
    "duration": 5,
    "start_time": "2022-07-06T21:36:23.210Z"
   },
   {
    "duration": 15,
    "start_time": "2022-07-06T21:36:23.216Z"
   },
   {
    "duration": 8,
    "start_time": "2022-07-06T21:36:23.233Z"
   },
   {
    "duration": 13,
    "start_time": "2022-07-06T21:36:26.881Z"
   },
   {
    "duration": 12,
    "start_time": "2022-07-06T21:36:32.451Z"
   },
   {
    "duration": 15,
    "start_time": "2022-07-06T21:36:45.606Z"
   },
   {
    "duration": 8,
    "start_time": "2022-07-06T21:36:48.419Z"
   },
   {
    "duration": 8,
    "start_time": "2022-07-06T21:37:24.459Z"
   },
   {
    "duration": 4,
    "start_time": "2022-07-06T21:38:10.719Z"
   },
   {
    "duration": 4,
    "start_time": "2022-07-06T21:38:31.787Z"
   },
   {
    "duration": 5,
    "start_time": "2022-07-06T21:38:43.059Z"
   },
   {
    "duration": 4,
    "start_time": "2022-07-06T21:41:22.986Z"
   },
   {
    "duration": 4,
    "start_time": "2022-07-06T21:41:41.239Z"
   },
   {
    "duration": 5,
    "start_time": "2022-07-06T21:41:51.858Z"
   },
   {
    "duration": 8,
    "start_time": "2022-07-06T21:42:02.761Z"
   },
   {
    "duration": 13,
    "start_time": "2022-07-06T21:44:50.973Z"
   },
   {
    "duration": 7,
    "start_time": "2022-07-06T21:44:58.999Z"
   },
   {
    "duration": 7,
    "start_time": "2022-07-06T21:45:05.370Z"
   },
   {
    "duration": 5,
    "start_time": "2022-07-06T21:45:16.057Z"
   },
   {
    "duration": 5,
    "start_time": "2022-07-06T21:46:22.490Z"
   },
   {
    "duration": 56,
    "start_time": "2022-07-06T21:49:08.797Z"
   },
   {
    "duration": 162,
    "start_time": "2022-07-06T21:51:08.952Z"
   },
   {
    "duration": 3,
    "start_time": "2022-07-06T21:51:16.202Z"
   },
   {
    "duration": 50,
    "start_time": "2022-07-06T21:51:16.207Z"
   },
   {
    "duration": 19,
    "start_time": "2022-07-06T21:51:16.259Z"
   },
   {
    "duration": 19,
    "start_time": "2022-07-06T21:51:16.280Z"
   },
   {
    "duration": 17,
    "start_time": "2022-07-06T21:51:16.301Z"
   },
   {
    "duration": 19,
    "start_time": "2022-07-06T21:51:16.319Z"
   },
   {
    "duration": 17,
    "start_time": "2022-07-06T21:51:16.340Z"
   },
   {
    "duration": 4,
    "start_time": "2022-07-06T21:51:16.358Z"
   },
   {
    "duration": 10,
    "start_time": "2022-07-06T21:51:16.364Z"
   },
   {
    "duration": 8,
    "start_time": "2022-07-06T21:51:16.375Z"
   },
   {
    "duration": 18,
    "start_time": "2022-07-06T21:51:16.385Z"
   },
   {
    "duration": 13,
    "start_time": "2022-07-06T21:51:16.404Z"
   },
   {
    "duration": 10,
    "start_time": "2022-07-06T21:51:16.418Z"
   },
   {
    "duration": 11,
    "start_time": "2022-07-06T21:51:16.429Z"
   },
   {
    "duration": 18,
    "start_time": "2022-07-06T21:51:16.441Z"
   },
   {
    "duration": 8,
    "start_time": "2022-07-06T21:51:16.460Z"
   },
   {
    "duration": 50,
    "start_time": "2022-07-06T21:51:16.469Z"
   },
   {
    "duration": 11,
    "start_time": "2022-07-06T21:51:16.520Z"
   },
   {
    "duration": 28,
    "start_time": "2022-07-06T21:51:16.532Z"
   },
   {
    "duration": 224,
    "start_time": "2022-07-06T21:51:16.561Z"
   },
   {
    "duration": 14,
    "start_time": "2022-07-06T21:51:16.787Z"
   },
   {
    "duration": 8,
    "start_time": "2022-07-06T21:51:16.805Z"
   },
   {
    "duration": 15,
    "start_time": "2022-07-06T21:51:16.814Z"
   },
   {
    "duration": 29,
    "start_time": "2022-07-06T21:51:16.831Z"
   },
   {
    "duration": 13,
    "start_time": "2022-07-06T21:51:16.861Z"
   },
   {
    "duration": 22,
    "start_time": "2022-07-06T21:51:16.875Z"
   },
   {
    "duration": 9,
    "start_time": "2022-07-06T21:51:16.898Z"
   },
   {
    "duration": 20,
    "start_time": "2022-07-06T21:51:16.909Z"
   },
   {
    "duration": 12,
    "start_time": "2022-07-06T21:51:16.930Z"
   },
   {
    "duration": 22,
    "start_time": "2022-07-06T21:51:16.943Z"
   },
   {
    "duration": 7,
    "start_time": "2022-07-06T21:51:16.967Z"
   },
   {
    "duration": 18,
    "start_time": "2022-07-06T21:51:16.976Z"
   },
   {
    "duration": 10,
    "start_time": "2022-07-06T21:51:17.000Z"
   },
   {
    "duration": 26,
    "start_time": "2022-07-06T21:51:17.011Z"
   },
   {
    "duration": 201,
    "start_time": "2022-07-06T21:51:17.038Z"
   },
   {
    "duration": 3,
    "start_time": "2022-07-06T21:51:17.241Z"
   },
   {
    "duration": 14,
    "start_time": "2022-07-06T21:51:17.245Z"
   },
   {
    "duration": 8,
    "start_time": "2022-07-06T21:51:17.260Z"
   },
   {
    "duration": 30,
    "start_time": "2022-07-06T21:51:17.270Z"
   },
   {
    "duration": 4,
    "start_time": "2022-07-06T21:51:17.302Z"
   },
   {
    "duration": 7,
    "start_time": "2022-07-06T21:51:17.307Z"
   },
   {
    "duration": 12,
    "start_time": "2022-07-06T21:51:17.316Z"
   },
   {
    "duration": 6,
    "start_time": "2022-07-06T21:51:17.330Z"
   },
   {
    "duration": 9,
    "start_time": "2022-07-06T21:51:17.337Z"
   },
   {
    "duration": 5,
    "start_time": "2022-07-06T21:51:17.347Z"
   },
   {
    "duration": 19,
    "start_time": "2022-07-06T21:51:17.353Z"
   },
   {
    "duration": 34,
    "start_time": "2022-07-06T21:51:17.374Z"
   },
   {
    "duration": 126,
    "start_time": "2022-07-06T21:51:20.316Z"
   },
   {
    "duration": 110,
    "start_time": "2022-07-06T21:51:53.136Z"
   },
   {
    "duration": 112,
    "start_time": "2022-07-06T21:53:40.225Z"
   },
   {
    "duration": 43,
    "start_time": "2022-07-06T21:53:53.401Z"
   },
   {
    "duration": 149,
    "start_time": "2022-07-06T21:54:41.620Z"
   },
   {
    "duration": 175,
    "start_time": "2022-07-06T21:54:53.449Z"
   },
   {
    "duration": 233,
    "start_time": "2022-07-06T21:54:59.836Z"
   },
   {
    "duration": 177,
    "start_time": "2022-07-06T21:55:21.383Z"
   },
   {
    "duration": 123,
    "start_time": "2022-07-06T21:55:59.966Z"
   },
   {
    "duration": 110,
    "start_time": "2022-07-06T21:57:11.393Z"
   },
   {
    "duration": 119,
    "start_time": "2022-07-06T21:57:22.970Z"
   },
   {
    "duration": 126,
    "start_time": "2022-07-06T21:57:33.605Z"
   },
   {
    "duration": 10,
    "start_time": "2022-07-06T21:58:37.819Z"
   },
   {
    "duration": 123,
    "start_time": "2022-07-06T21:59:03.051Z"
   },
   {
    "duration": 118,
    "start_time": "2022-07-06T21:59:10.175Z"
   },
   {
    "duration": 118,
    "start_time": "2022-07-06T22:00:13.208Z"
   },
   {
    "duration": 225,
    "start_time": "2022-07-06T22:00:43.208Z"
   },
   {
    "duration": 188,
    "start_time": "2022-07-06T22:01:33.680Z"
   },
   {
    "duration": 10,
    "start_time": "2022-07-06T22:01:53.077Z"
   },
   {
    "duration": 187,
    "start_time": "2022-07-06T22:03:49.504Z"
   },
   {
    "duration": 401,
    "start_time": "2022-07-06T22:03:54.708Z"
   },
   {
    "duration": 336,
    "start_time": "2022-07-06T22:04:20.008Z"
   },
   {
    "duration": 352,
    "start_time": "2022-07-06T22:04:39.105Z"
   },
   {
    "duration": 310,
    "start_time": "2022-07-06T22:05:37.710Z"
   },
   {
    "duration": 413,
    "start_time": "2022-07-06T22:05:45.459Z"
   },
   {
    "duration": 419,
    "start_time": "2022-07-06T22:05:55.702Z"
   },
   {
    "duration": 357,
    "start_time": "2022-07-06T22:06:11.172Z"
   },
   {
    "duration": 348,
    "start_time": "2022-07-06T22:06:18.808Z"
   },
   {
    "duration": 8,
    "start_time": "2022-07-06T22:08:47.707Z"
   },
   {
    "duration": 14,
    "start_time": "2022-07-06T22:08:53.452Z"
   },
   {
    "duration": 9,
    "start_time": "2022-07-06T22:08:59.821Z"
   },
   {
    "duration": 15,
    "start_time": "2022-07-06T22:09:01.530Z"
   },
   {
    "duration": 8,
    "start_time": "2022-07-06T22:09:02.213Z"
   },
   {
    "duration": 330,
    "start_time": "2022-07-06T22:11:20.489Z"
   },
   {
    "duration": 10,
    "start_time": "2022-07-06T22:11:58.776Z"
   },
   {
    "duration": 754,
    "start_time": "2022-07-06T22:12:29.383Z"
   },
   {
    "duration": 9,
    "start_time": "2022-07-06T22:12:43.363Z"
   },
   {
    "duration": 8,
    "start_time": "2022-07-06T22:13:16.997Z"
   },
   {
    "duration": 9,
    "start_time": "2022-07-06T22:13:29.011Z"
   },
   {
    "duration": 4,
    "start_time": "2022-07-06T22:13:41.570Z"
   },
   {
    "duration": 12,
    "start_time": "2022-07-06T22:16:05.778Z"
   },
   {
    "duration": 20,
    "start_time": "2022-07-06T22:21:22.560Z"
   },
   {
    "duration": 4021,
    "start_time": "2022-07-06T22:22:31.464Z"
   },
   {
    "duration": 5,
    "start_time": "2022-07-06T22:25:20.156Z"
   },
   {
    "duration": 5,
    "start_time": "2022-07-06T22:25:41.261Z"
   },
   {
    "duration": 514,
    "start_time": "2022-07-06T22:34:55.579Z"
   },
   {
    "duration": 526,
    "start_time": "2022-07-06T22:36:44.292Z"
   },
   {
    "duration": 148,
    "start_time": "2022-07-06T22:37:07.941Z"
   },
   {
    "duration": 614,
    "start_time": "2022-07-06T22:37:12.830Z"
   },
   {
    "duration": 519,
    "start_time": "2022-07-06T22:37:54.252Z"
   },
   {
    "duration": 53,
    "start_time": "2022-07-07T13:45:11.369Z"
   },
   {
    "duration": 1381,
    "start_time": "2022-07-07T13:45:22.356Z"
   },
   {
    "duration": 185,
    "start_time": "2022-07-07T13:45:23.739Z"
   },
   {
    "duration": 31,
    "start_time": "2022-07-07T13:45:23.925Z"
   },
   {
    "duration": 9,
    "start_time": "2022-07-07T13:45:23.958Z"
   },
   {
    "duration": 21,
    "start_time": "2022-07-07T13:45:23.969Z"
   },
   {
    "duration": 33,
    "start_time": "2022-07-07T13:45:23.991Z"
   },
   {
    "duration": 11,
    "start_time": "2022-07-07T13:45:24.026Z"
   },
   {
    "duration": 5,
    "start_time": "2022-07-07T13:45:24.040Z"
   },
   {
    "duration": 24,
    "start_time": "2022-07-07T13:45:24.048Z"
   },
   {
    "duration": 35,
    "start_time": "2022-07-07T13:45:24.075Z"
   },
   {
    "duration": 7,
    "start_time": "2022-07-07T13:45:24.113Z"
   },
   {
    "duration": 11,
    "start_time": "2022-07-07T13:45:24.122Z"
   },
   {
    "duration": 7,
    "start_time": "2022-07-07T13:45:24.135Z"
   },
   {
    "duration": 13,
    "start_time": "2022-07-07T13:45:24.143Z"
   },
   {
    "duration": 8,
    "start_time": "2022-07-07T13:45:24.158Z"
   },
   {
    "duration": 10,
    "start_time": "2022-07-07T13:45:24.199Z"
   },
   {
    "duration": 7,
    "start_time": "2022-07-07T13:45:28.316Z"
   },
   {
    "duration": 11,
    "start_time": "2022-07-07T13:45:59.080Z"
   },
   {
    "duration": 10,
    "start_time": "2022-07-07T13:46:05.463Z"
   },
   {
    "duration": 51,
    "start_time": "2022-07-07T20:31:32.944Z"
   },
   {
    "duration": 47,
    "start_time": "2022-07-07T20:34:01.817Z"
   },
   {
    "duration": 45,
    "start_time": "2022-07-07T20:36:50.910Z"
   },
   {
    "duration": 42,
    "start_time": "2022-07-07T20:47:23.600Z"
   },
   {
    "duration": 1300,
    "start_time": "2022-07-07T20:47:34.315Z"
   },
   {
    "duration": 75,
    "start_time": "2022-07-07T20:47:35.617Z"
   },
   {
    "duration": 22,
    "start_time": "2022-07-07T20:47:35.694Z"
   },
   {
    "duration": 8,
    "start_time": "2022-07-07T20:47:35.718Z"
   },
   {
    "duration": 15,
    "start_time": "2022-07-07T20:47:35.727Z"
   },
   {
    "duration": 20,
    "start_time": "2022-07-07T20:47:35.744Z"
   },
   {
    "duration": 10,
    "start_time": "2022-07-07T20:47:35.766Z"
   },
   {
    "duration": 4,
    "start_time": "2022-07-07T20:47:35.778Z"
   },
   {
    "duration": 40,
    "start_time": "2022-07-07T20:47:35.784Z"
   },
   {
    "duration": 9,
    "start_time": "2022-07-07T20:47:35.827Z"
   },
   {
    "duration": 4,
    "start_time": "2022-07-07T20:47:35.838Z"
   },
   {
    "duration": 10,
    "start_time": "2022-07-07T20:47:35.844Z"
   },
   {
    "duration": 6,
    "start_time": "2022-07-07T20:47:35.856Z"
   },
   {
    "duration": 9,
    "start_time": "2022-07-07T20:47:35.863Z"
   },
   {
    "duration": 13,
    "start_time": "2022-07-07T20:47:35.873Z"
   },
   {
    "duration": 37,
    "start_time": "2022-07-07T20:47:35.888Z"
   },
   {
    "duration": 12,
    "start_time": "2022-07-07T20:47:35.927Z"
   },
   {
    "duration": 7,
    "start_time": "2022-07-07T20:47:35.941Z"
   },
   {
    "duration": 6,
    "start_time": "2022-07-07T20:47:35.949Z"
   },
   {
    "duration": 5,
    "start_time": "2022-07-07T20:47:35.957Z"
   },
   {
    "duration": 16,
    "start_time": "2022-07-07T20:47:35.964Z"
   },
   {
    "duration": 5,
    "start_time": "2022-07-07T20:47:35.982Z"
   },
   {
    "duration": 10,
    "start_time": "2022-07-07T20:47:35.989Z"
   },
   {
    "duration": 23,
    "start_time": "2022-07-07T20:47:36.000Z"
   },
   {
    "duration": 19,
    "start_time": "2022-07-07T20:47:36.025Z"
   },
   {
    "duration": 15,
    "start_time": "2022-07-07T20:47:36.046Z"
   },
   {
    "duration": 394,
    "start_time": "2022-07-07T20:47:36.063Z"
   },
   {
    "duration": 9,
    "start_time": "2022-07-07T20:47:36.460Z"
   },
   {
    "duration": 13,
    "start_time": "2022-07-07T20:47:36.470Z"
   },
   {
    "duration": 15,
    "start_time": "2022-07-07T20:47:36.484Z"
   },
   {
    "duration": 28,
    "start_time": "2022-07-07T20:47:36.500Z"
   },
   {
    "duration": 322,
    "start_time": "2022-07-07T20:47:36.529Z"
   },
   {
    "duration": 664,
    "start_time": "2022-07-07T20:47:36.853Z"
   },
   {
    "duration": 4022,
    "start_time": "2022-07-07T20:47:37.519Z"
   },
   {
    "duration": 11,
    "start_time": "2022-07-07T20:47:41.542Z"
   },
   {
    "duration": 22,
    "start_time": "2022-07-07T20:47:41.555Z"
   },
   {
    "duration": 18,
    "start_time": "2022-07-07T20:47:41.579Z"
   },
   {
    "duration": 36,
    "start_time": "2022-07-07T20:47:41.599Z"
   },
   {
    "duration": 850,
    "start_time": "2022-07-07T20:56:38.969Z"
   },
   {
    "duration": 199,
    "start_time": "2022-07-07T21:00:55.362Z"
   },
   {
    "duration": 8,
    "start_time": "2022-07-07T21:03:57.582Z"
   },
   {
    "duration": 13,
    "start_time": "2022-07-07T21:04:03.630Z"
   },
   {
    "duration": 22,
    "start_time": "2022-07-07T21:04:09.068Z"
   },
   {
    "duration": 155,
    "start_time": "2022-07-07T21:05:59.819Z"
   },
   {
    "duration": 5,
    "start_time": "2022-07-07T21:06:05.924Z"
   },
   {
    "duration": 165,
    "start_time": "2022-07-07T21:06:07.801Z"
   },
   {
    "duration": 21,
    "start_time": "2022-07-07T21:06:31.163Z"
   },
   {
    "duration": 0,
    "start_time": "2022-07-07T21:08:22.778Z"
   },
   {
    "duration": 218,
    "start_time": "2022-07-07T21:09:07.230Z"
   },
   {
    "duration": 23,
    "start_time": "2022-07-07T21:13:49.140Z"
   },
   {
    "duration": 164,
    "start_time": "2022-07-07T21:13:50.077Z"
   },
   {
    "duration": 159,
    "start_time": "2022-07-07T21:14:21.106Z"
   },
   {
    "duration": 181,
    "start_time": "2022-07-07T21:15:04.034Z"
   },
   {
    "duration": 30629,
    "start_time": "2022-07-07T21:15:17.441Z"
   },
   {
    "duration": 13,
    "start_time": "2022-07-07T21:17:03.055Z"
   },
   {
    "duration": 14,
    "start_time": "2022-07-07T21:17:07.696Z"
   },
   {
    "duration": 281,
    "start_time": "2022-07-07T21:17:10.409Z"
   },
   {
    "duration": 16,
    "start_time": "2022-07-07T21:23:56.318Z"
   },
   {
    "duration": 28,
    "start_time": "2022-07-07T21:27:11.880Z"
   },
   {
    "duration": 12,
    "start_time": "2022-07-07T21:29:14.126Z"
   },
   {
    "duration": 13,
    "start_time": "2022-07-07T21:29:47.619Z"
   },
   {
    "duration": 29,
    "start_time": "2022-07-07T21:30:09.872Z"
   },
   {
    "duration": 8,
    "start_time": "2022-07-07T21:43:20.852Z"
   },
   {
    "duration": 14,
    "start_time": "2022-07-07T21:43:24.199Z"
   },
   {
    "duration": 22,
    "start_time": "2022-07-07T21:43:24.653Z"
   },
   {
    "duration": 11,
    "start_time": "2022-07-07T21:50:56.498Z"
   },
   {
    "duration": 18,
    "start_time": "2022-07-07T21:51:37.386Z"
   },
   {
    "duration": 5,
    "start_time": "2022-07-07T21:53:25.704Z"
   },
   {
    "duration": 14,
    "start_time": "2022-07-07T21:53:26.374Z"
   },
   {
    "duration": 5,
    "start_time": "2022-07-07T21:53:37.703Z"
   },
   {
    "duration": 8,
    "start_time": "2022-07-07T21:53:39.535Z"
   },
   {
    "duration": 11,
    "start_time": "2022-07-07T21:53:46.632Z"
   },
   {
    "duration": 11,
    "start_time": "2022-07-07T21:53:48.336Z"
   },
   {
    "duration": 12,
    "start_time": "2022-07-07T21:53:48.940Z"
   },
   {
    "duration": 4,
    "start_time": "2022-07-07T21:53:50.090Z"
   },
   {
    "duration": 198,
    "start_time": "2022-07-07T21:55:37.775Z"
   },
   {
    "duration": 183,
    "start_time": "2022-07-07T21:56:51.334Z"
   },
   {
    "duration": 67,
    "start_time": "2022-07-08T12:11:03.513Z"
   },
   {
    "duration": 8,
    "start_time": "2022-07-08T12:22:36.914Z"
   },
   {
    "duration": 6,
    "start_time": "2022-07-08T12:24:27.616Z"
   },
   {
    "duration": 1869,
    "start_time": "2022-07-08T12:24:36.531Z"
   },
   {
    "duration": 102,
    "start_time": "2022-07-08T12:24:38.402Z"
   },
   {
    "duration": 37,
    "start_time": "2022-07-08T12:24:38.510Z"
   },
   {
    "duration": 18,
    "start_time": "2022-07-08T12:24:38.549Z"
   },
   {
    "duration": 42,
    "start_time": "2022-07-08T12:24:38.575Z"
   },
   {
    "duration": 24,
    "start_time": "2022-07-08T12:24:38.619Z"
   },
   {
    "duration": 12,
    "start_time": "2022-07-08T12:24:38.646Z"
   },
   {
    "duration": 10,
    "start_time": "2022-07-08T12:24:38.660Z"
   },
   {
    "duration": 60,
    "start_time": "2022-07-08T12:24:38.672Z"
   },
   {
    "duration": 19,
    "start_time": "2022-07-08T12:24:38.735Z"
   },
   {
    "duration": 40,
    "start_time": "2022-07-08T12:24:38.756Z"
   },
   {
    "duration": 34,
    "start_time": "2022-07-08T12:24:38.800Z"
   },
   {
    "duration": 24,
    "start_time": "2022-07-08T12:24:38.836Z"
   },
   {
    "duration": 46,
    "start_time": "2022-07-08T12:24:38.867Z"
   },
   {
    "duration": 39,
    "start_time": "2022-07-08T12:24:38.915Z"
   },
   {
    "duration": 56,
    "start_time": "2022-07-08T12:24:38.957Z"
   },
   {
    "duration": 18,
    "start_time": "2022-07-08T12:24:39.015Z"
   },
   {
    "duration": 34,
    "start_time": "2022-07-08T12:24:39.035Z"
   },
   {
    "duration": 77,
    "start_time": "2022-07-08T12:24:39.072Z"
   },
   {
    "duration": 67,
    "start_time": "2022-07-08T12:24:39.152Z"
   },
   {
    "duration": 41,
    "start_time": "2022-07-08T12:24:39.221Z"
   },
   {
    "duration": 42,
    "start_time": "2022-07-08T12:24:39.265Z"
   },
   {
    "duration": 52,
    "start_time": "2022-07-08T12:24:39.309Z"
   },
   {
    "duration": 53,
    "start_time": "2022-07-08T12:24:39.364Z"
   },
   {
    "duration": 66,
    "start_time": "2022-07-08T12:24:39.419Z"
   },
   {
    "duration": 47,
    "start_time": "2022-07-08T12:24:39.490Z"
   },
   {
    "duration": 486,
    "start_time": "2022-07-08T12:24:39.541Z"
   },
   {
    "duration": 20,
    "start_time": "2022-07-08T12:24:40.029Z"
   },
   {
    "duration": 26,
    "start_time": "2022-07-08T12:24:40.063Z"
   },
   {
    "duration": 31,
    "start_time": "2022-07-08T12:24:40.091Z"
   },
   {
    "duration": 347,
    "start_time": "2022-07-08T12:24:40.124Z"
   },
   {
    "duration": 12,
    "start_time": "2022-07-08T12:24:40.474Z"
   },
   {
    "duration": 43,
    "start_time": "2022-07-08T12:24:40.488Z"
   },
   {
    "duration": 33,
    "start_time": "2022-07-08T12:24:40.533Z"
   },
   {
    "duration": 507,
    "start_time": "2022-07-08T12:24:40.568Z"
   },
   {
    "duration": 7,
    "start_time": "2022-07-08T12:24:45.292Z"
   },
   {
    "duration": 84,
    "start_time": "2022-07-08T12:25:30.897Z"
   },
   {
    "duration": 23,
    "start_time": "2022-07-08T12:25:37.394Z"
   },
   {
    "duration": 29,
    "start_time": "2022-07-08T12:26:15.585Z"
   },
   {
    "duration": 50,
    "start_time": "2022-07-08T12:31:29.285Z"
   },
   {
    "duration": 35,
    "start_time": "2022-07-08T12:33:56.354Z"
   },
   {
    "duration": 17,
    "start_time": "2022-07-08T12:34:14.866Z"
   },
   {
    "duration": 676,
    "start_time": "2022-07-08T12:34:28.391Z"
   },
   {
    "duration": 301,
    "start_time": "2022-07-08T12:35:10.494Z"
   },
   {
    "duration": 6,
    "start_time": "2022-07-08T12:35:58.076Z"
   },
   {
    "duration": 260,
    "start_time": "2022-07-08T12:35:59.954Z"
   },
   {
    "duration": 8,
    "start_time": "2022-07-08T12:36:15.556Z"
   },
   {
    "duration": 370,
    "start_time": "2022-07-08T12:36:16.484Z"
   },
   {
    "duration": 228,
    "start_time": "2022-07-08T12:36:41.929Z"
   },
   {
    "duration": 21,
    "start_time": "2022-07-08T12:37:00.475Z"
   },
   {
    "duration": 226,
    "start_time": "2022-07-08T12:37:01.611Z"
   },
   {
    "duration": 36,
    "start_time": "2022-07-08T12:37:05.054Z"
   },
   {
    "duration": 4,
    "start_time": "2022-07-08T12:37:23.887Z"
   },
   {
    "duration": 55,
    "start_time": "2022-07-08T12:37:23.893Z"
   },
   {
    "duration": 23,
    "start_time": "2022-07-08T12:37:23.950Z"
   },
   {
    "duration": 17,
    "start_time": "2022-07-08T12:37:23.976Z"
   },
   {
    "duration": 19,
    "start_time": "2022-07-08T12:37:23.995Z"
   },
   {
    "duration": 54,
    "start_time": "2022-07-08T12:37:24.016Z"
   },
   {
    "duration": 12,
    "start_time": "2022-07-08T12:37:24.072Z"
   },
   {
    "duration": 5,
    "start_time": "2022-07-08T12:37:24.086Z"
   },
   {
    "duration": 12,
    "start_time": "2022-07-08T12:37:24.092Z"
   },
   {
    "duration": 10,
    "start_time": "2022-07-08T12:37:24.106Z"
   },
   {
    "duration": 5,
    "start_time": "2022-07-08T12:37:24.118Z"
   },
   {
    "duration": 14,
    "start_time": "2022-07-08T12:37:24.163Z"
   },
   {
    "duration": 8,
    "start_time": "2022-07-08T12:37:24.179Z"
   },
   {
    "duration": 6,
    "start_time": "2022-07-08T12:37:24.190Z"
   },
   {
    "duration": 17,
    "start_time": "2022-07-08T12:37:24.199Z"
   },
   {
    "duration": 5,
    "start_time": "2022-07-08T12:37:24.218Z"
   },
   {
    "duration": 43,
    "start_time": "2022-07-08T12:37:24.225Z"
   },
   {
    "duration": 9,
    "start_time": "2022-07-08T12:37:24.270Z"
   },
   {
    "duration": 8,
    "start_time": "2022-07-08T12:37:24.280Z"
   },
   {
    "duration": 7,
    "start_time": "2022-07-08T12:37:24.290Z"
   },
   {
    "duration": 16,
    "start_time": "2022-07-08T12:37:24.300Z"
   },
   {
    "duration": 9,
    "start_time": "2022-07-08T12:37:24.318Z"
   },
   {
    "duration": 37,
    "start_time": "2022-07-08T12:37:24.328Z"
   },
   {
    "duration": 4,
    "start_time": "2022-07-08T12:37:24.367Z"
   },
   {
    "duration": 26,
    "start_time": "2022-07-08T12:37:24.373Z"
   },
   {
    "duration": 26,
    "start_time": "2022-07-08T12:37:24.402Z"
   },
   {
    "duration": 467,
    "start_time": "2022-07-08T12:37:24.430Z"
   },
   {
    "duration": 11,
    "start_time": "2022-07-08T12:37:24.898Z"
   },
   {
    "duration": 8,
    "start_time": "2022-07-08T12:37:24.911Z"
   },
   {
    "duration": 14,
    "start_time": "2022-07-08T12:37:24.921Z"
   },
   {
    "duration": 328,
    "start_time": "2022-07-08T12:37:24.937Z"
   },
   {
    "duration": 8,
    "start_time": "2022-07-08T12:37:25.267Z"
   },
   {
    "duration": 20,
    "start_time": "2022-07-08T12:37:25.277Z"
   },
   {
    "duration": 17,
    "start_time": "2022-07-08T12:37:25.299Z"
   },
   {
    "duration": 381,
    "start_time": "2022-07-08T12:37:25.318Z"
   },
   {
    "duration": 20,
    "start_time": "2022-07-08T12:37:25.701Z"
   },
   {
    "duration": 16,
    "start_time": "2022-07-08T12:37:25.723Z"
   },
   {
    "duration": 41,
    "start_time": "2022-07-08T12:37:25.741Z"
   },
   {
    "duration": 0,
    "start_time": "2022-07-08T12:37:25.784Z"
   },
   {
    "duration": 0,
    "start_time": "2022-07-08T12:37:25.786Z"
   },
   {
    "duration": 0,
    "start_time": "2022-07-08T12:37:25.787Z"
   },
   {
    "duration": 0,
    "start_time": "2022-07-08T12:37:25.788Z"
   },
   {
    "duration": 0,
    "start_time": "2022-07-08T12:37:25.789Z"
   },
   {
    "duration": 0,
    "start_time": "2022-07-08T12:37:25.790Z"
   },
   {
    "duration": 0,
    "start_time": "2022-07-08T12:37:25.791Z"
   },
   {
    "duration": 0,
    "start_time": "2022-07-08T12:37:25.793Z"
   },
   {
    "duration": 0,
    "start_time": "2022-07-08T12:37:25.795Z"
   },
   {
    "duration": 0,
    "start_time": "2022-07-08T12:37:25.796Z"
   },
   {
    "duration": 0,
    "start_time": "2022-07-08T12:37:25.797Z"
   },
   {
    "duration": 0,
    "start_time": "2022-07-08T12:37:25.986Z"
   },
   {
    "duration": 0,
    "start_time": "2022-07-08T12:37:25.989Z"
   },
   {
    "duration": 0,
    "start_time": "2022-07-08T12:37:25.991Z"
   },
   {
    "duration": 0,
    "start_time": "2022-07-08T12:37:25.993Z"
   },
   {
    "duration": 0,
    "start_time": "2022-07-08T12:37:25.994Z"
   },
   {
    "duration": 0,
    "start_time": "2022-07-08T12:37:25.995Z"
   },
   {
    "duration": 0,
    "start_time": "2022-07-08T12:37:25.996Z"
   },
   {
    "duration": 0,
    "start_time": "2022-07-08T12:37:25.997Z"
   },
   {
    "duration": 0,
    "start_time": "2022-07-08T12:37:25.999Z"
   },
   {
    "duration": 0,
    "start_time": "2022-07-08T12:37:26.000Z"
   },
   {
    "duration": 0,
    "start_time": "2022-07-08T12:37:26.003Z"
   },
   {
    "duration": 0,
    "start_time": "2022-07-08T12:37:26.004Z"
   },
   {
    "duration": 0,
    "start_time": "2022-07-08T12:37:26.005Z"
   },
   {
    "duration": 0,
    "start_time": "2022-07-08T12:37:26.007Z"
   },
   {
    "duration": 0,
    "start_time": "2022-07-08T12:37:26.008Z"
   },
   {
    "duration": 0,
    "start_time": "2022-07-08T12:37:26.010Z"
   },
   {
    "duration": 0,
    "start_time": "2022-07-08T12:37:26.011Z"
   },
   {
    "duration": 0,
    "start_time": "2022-07-08T12:37:26.013Z"
   },
   {
    "duration": 0,
    "start_time": "2022-07-08T12:37:26.014Z"
   },
   {
    "duration": 0,
    "start_time": "2022-07-08T12:37:26.015Z"
   },
   {
    "duration": 0,
    "start_time": "2022-07-08T12:37:26.018Z"
   },
   {
    "duration": 0,
    "start_time": "2022-07-08T12:37:26.019Z"
   },
   {
    "duration": 0,
    "start_time": "2022-07-08T12:37:26.068Z"
   },
   {
    "duration": 0,
    "start_time": "2022-07-08T12:37:26.070Z"
   },
   {
    "duration": 309,
    "start_time": "2022-07-08T12:37:33.012Z"
   },
   {
    "duration": 28,
    "start_time": "2022-07-08T12:38:11.003Z"
   },
   {
    "duration": 9,
    "start_time": "2022-07-08T12:38:30.152Z"
   },
   {
    "duration": 23,
    "start_time": "2022-07-08T12:38:34.751Z"
   },
   {
    "duration": 16,
    "start_time": "2022-07-08T12:38:35.485Z"
   },
   {
    "duration": 365,
    "start_time": "2022-07-08T12:38:38.801Z"
   },
   {
    "duration": 22,
    "start_time": "2022-07-08T12:38:44.665Z"
   },
   {
    "duration": 15,
    "start_time": "2022-07-08T12:38:57.765Z"
   },
   {
    "duration": 296,
    "start_time": "2022-07-08T12:38:58.914Z"
   },
   {
    "duration": 25,
    "start_time": "2022-07-08T12:39:00.019Z"
   },
   {
    "duration": 21,
    "start_time": "2022-07-08T12:39:39.294Z"
   },
   {
    "duration": 24,
    "start_time": "2022-07-08T12:40:50.012Z"
   },
   {
    "duration": 4,
    "start_time": "2022-07-08T12:40:56.868Z"
   },
   {
    "duration": 40,
    "start_time": "2022-07-08T12:40:57.491Z"
   },
   {
    "duration": 33,
    "start_time": "2022-07-08T12:40:58.212Z"
   },
   {
    "duration": 29,
    "start_time": "2022-07-08T12:41:16.457Z"
   },
   {
    "duration": 886,
    "start_time": "2022-07-08T12:41:27.176Z"
   },
   {
    "duration": 838,
    "start_time": "2022-07-08T12:41:28.129Z"
   },
   {
    "duration": 19,
    "start_time": "2022-07-08T12:43:21.420Z"
   },
   {
    "duration": 9,
    "start_time": "2022-07-08T12:43:43.955Z"
   },
   {
    "duration": 20,
    "start_time": "2022-07-08T12:43:55.962Z"
   },
   {
    "duration": 16,
    "start_time": "2022-07-08T12:48:38.353Z"
   },
   {
    "duration": 21,
    "start_time": "2022-07-08T12:48:57.296Z"
   },
   {
    "duration": 25,
    "start_time": "2022-07-08T12:49:10.204Z"
   },
   {
    "duration": 4,
    "start_time": "2022-07-08T12:49:26.913Z"
   },
   {
    "duration": 52,
    "start_time": "2022-07-08T12:49:26.919Z"
   },
   {
    "duration": 20,
    "start_time": "2022-07-08T12:49:26.973Z"
   },
   {
    "duration": 14,
    "start_time": "2022-07-08T12:49:26.995Z"
   },
   {
    "duration": 17,
    "start_time": "2022-07-08T12:49:27.011Z"
   },
   {
    "duration": 42,
    "start_time": "2022-07-08T12:49:27.030Z"
   },
   {
    "duration": 19,
    "start_time": "2022-07-08T12:49:27.074Z"
   },
   {
    "duration": 5,
    "start_time": "2022-07-08T12:49:27.095Z"
   },
   {
    "duration": 17,
    "start_time": "2022-07-08T12:49:27.103Z"
   },
   {
    "duration": 17,
    "start_time": "2022-07-08T12:49:27.123Z"
   },
   {
    "duration": 23,
    "start_time": "2022-07-08T12:49:27.142Z"
   },
   {
    "duration": 15,
    "start_time": "2022-07-08T12:49:27.167Z"
   },
   {
    "duration": 8,
    "start_time": "2022-07-08T12:49:27.184Z"
   },
   {
    "duration": 8,
    "start_time": "2022-07-08T12:49:27.193Z"
   },
   {
    "duration": 15,
    "start_time": "2022-07-08T12:49:27.202Z"
   },
   {
    "duration": 47,
    "start_time": "2022-07-08T12:49:27.218Z"
   },
   {
    "duration": 13,
    "start_time": "2022-07-08T12:49:27.267Z"
   },
   {
    "duration": 7,
    "start_time": "2022-07-08T12:49:27.282Z"
   },
   {
    "duration": 7,
    "start_time": "2022-07-08T12:49:27.290Z"
   },
   {
    "duration": 7,
    "start_time": "2022-07-08T12:49:27.299Z"
   },
   {
    "duration": 14,
    "start_time": "2022-07-08T12:49:27.307Z"
   },
   {
    "duration": 41,
    "start_time": "2022-07-08T12:49:27.323Z"
   },
   {
    "duration": 8,
    "start_time": "2022-07-08T12:49:27.366Z"
   },
   {
    "duration": 15,
    "start_time": "2022-07-08T12:49:27.380Z"
   },
   {
    "duration": 24,
    "start_time": "2022-07-08T12:49:27.397Z"
   },
   {
    "duration": 14,
    "start_time": "2022-07-08T12:49:27.424Z"
   },
   {
    "duration": 434,
    "start_time": "2022-07-08T12:49:27.440Z"
   },
   {
    "duration": 15,
    "start_time": "2022-07-08T12:49:27.876Z"
   },
   {
    "duration": 9,
    "start_time": "2022-07-08T12:49:27.893Z"
   },
   {
    "duration": 16,
    "start_time": "2022-07-08T12:49:27.904Z"
   },
   {
    "duration": 329,
    "start_time": "2022-07-08T12:49:27.922Z"
   },
   {
    "duration": 11,
    "start_time": "2022-07-08T12:49:28.253Z"
   },
   {
    "duration": 15,
    "start_time": "2022-07-08T12:49:28.266Z"
   },
   {
    "duration": 13,
    "start_time": "2022-07-08T12:49:28.282Z"
   },
   {
    "duration": 388,
    "start_time": "2022-07-08T12:49:28.297Z"
   },
   {
    "duration": 688,
    "start_time": "2022-07-08T12:49:28.687Z"
   },
   {
    "duration": 4580,
    "start_time": "2022-07-08T12:49:29.376Z"
   },
   {
    "duration": 14,
    "start_time": "2022-07-08T12:49:33.958Z"
   },
   {
    "duration": 8,
    "start_time": "2022-07-08T12:49:33.974Z"
   },
   {
    "duration": 14,
    "start_time": "2022-07-08T12:49:33.984Z"
   },
   {
    "duration": 253,
    "start_time": "2022-07-08T12:49:34.000Z"
   },
   {
    "duration": 238,
    "start_time": "2022-07-08T12:49:34.256Z"
   },
   {
    "duration": 6,
    "start_time": "2022-07-08T12:49:34.496Z"
   },
   {
    "duration": 36,
    "start_time": "2022-07-08T12:49:34.504Z"
   },
   {
    "duration": 44,
    "start_time": "2022-07-08T12:49:34.542Z"
   },
   {
    "duration": 37,
    "start_time": "2022-07-08T12:49:34.588Z"
   },
   {
    "duration": 52,
    "start_time": "2022-07-08T12:49:34.628Z"
   },
   {
    "duration": 999,
    "start_time": "2022-07-08T12:49:34.682Z"
   },
   {
    "duration": 63,
    "start_time": "2022-07-08T12:49:35.684Z"
   },
   {
    "duration": 0,
    "start_time": "2022-07-08T12:49:35.749Z"
   },
   {
    "duration": 0,
    "start_time": "2022-07-08T12:49:35.751Z"
   },
   {
    "duration": 0,
    "start_time": "2022-07-08T12:49:35.752Z"
   },
   {
    "duration": 0,
    "start_time": "2022-07-08T12:49:35.753Z"
   },
   {
    "duration": 0,
    "start_time": "2022-07-08T12:49:35.755Z"
   },
   {
    "duration": 0,
    "start_time": "2022-07-08T12:49:35.756Z"
   },
   {
    "duration": 0,
    "start_time": "2022-07-08T12:49:35.757Z"
   },
   {
    "duration": 0,
    "start_time": "2022-07-08T12:49:35.759Z"
   },
   {
    "duration": 0,
    "start_time": "2022-07-08T12:49:35.763Z"
   },
   {
    "duration": 0,
    "start_time": "2022-07-08T12:49:35.764Z"
   },
   {
    "duration": 0,
    "start_time": "2022-07-08T12:49:35.765Z"
   },
   {
    "duration": 0,
    "start_time": "2022-07-08T12:49:35.766Z"
   },
   {
    "duration": 0,
    "start_time": "2022-07-08T12:49:35.768Z"
   },
   {
    "duration": 0,
    "start_time": "2022-07-08T12:49:35.768Z"
   },
   {
    "duration": 0,
    "start_time": "2022-07-08T12:49:35.770Z"
   },
   {
    "duration": 0,
    "start_time": "2022-07-08T12:49:35.771Z"
   },
   {
    "duration": 0,
    "start_time": "2022-07-08T12:49:35.772Z"
   },
   {
    "duration": 0,
    "start_time": "2022-07-08T12:49:35.773Z"
   },
   {
    "duration": 0,
    "start_time": "2022-07-08T12:49:35.774Z"
   },
   {
    "duration": 0,
    "start_time": "2022-07-08T12:49:35.776Z"
   },
   {
    "duration": 0,
    "start_time": "2022-07-08T12:49:35.777Z"
   },
   {
    "duration": 0,
    "start_time": "2022-07-08T12:49:35.779Z"
   },
   {
    "duration": 5,
    "start_time": "2022-07-08T13:05:04.985Z"
   },
   {
    "duration": 13,
    "start_time": "2022-07-08T13:05:33.792Z"
   },
   {
    "duration": 276,
    "start_time": "2022-07-08T13:05:37.694Z"
   },
   {
    "duration": 607,
    "start_time": "2022-07-08T13:06:00.492Z"
   },
   {
    "duration": 3192,
    "start_time": "2022-07-08T13:06:13.612Z"
   },
   {
    "duration": 853,
    "start_time": "2022-07-08T13:08:56.779Z"
   },
   {
    "duration": 13745,
    "start_time": "2022-07-08T13:10:24.913Z"
   },
   {
    "duration": 1098,
    "start_time": "2022-07-08T13:10:47.179Z"
   },
   {
    "duration": 51,
    "start_time": "2022-07-08T13:28:37.287Z"
   },
   {
    "duration": 68,
    "start_time": "2022-07-08T13:28:42.495Z"
   },
   {
    "duration": 46,
    "start_time": "2022-07-08T13:29:13.331Z"
   },
   {
    "duration": 46,
    "start_time": "2022-07-08T13:29:33.967Z"
   },
   {
    "duration": 9,
    "start_time": "2022-07-08T13:30:58.464Z"
   },
   {
    "duration": 14,
    "start_time": "2022-07-08T13:33:13.119Z"
   },
   {
    "duration": 13,
    "start_time": "2022-07-08T13:34:31.280Z"
   },
   {
    "duration": 16,
    "start_time": "2022-07-08T13:35:32.094Z"
   },
   {
    "duration": 16,
    "start_time": "2022-07-08T13:35:49.630Z"
   },
   {
    "duration": 18,
    "start_time": "2022-07-08T13:35:55.960Z"
   },
   {
    "duration": 21,
    "start_time": "2022-07-08T13:36:06.188Z"
   },
   {
    "duration": 15,
    "start_time": "2022-07-08T13:36:31.554Z"
   },
   {
    "duration": 14,
    "start_time": "2022-07-08T13:37:08.534Z"
   },
   {
    "duration": 6,
    "start_time": "2022-07-08T13:37:51.801Z"
   },
   {
    "duration": 9,
    "start_time": "2022-07-08T13:38:59.229Z"
   },
   {
    "duration": 8,
    "start_time": "2022-07-08T13:39:32.981Z"
   },
   {
    "duration": 15,
    "start_time": "2022-07-08T13:40:12.316Z"
   },
   {
    "duration": 11,
    "start_time": "2022-07-08T13:42:20.214Z"
   },
   {
    "duration": 13,
    "start_time": "2022-07-08T13:42:35.810Z"
   },
   {
    "duration": 45,
    "start_time": "2022-07-08T13:44:21.978Z"
   },
   {
    "duration": 21,
    "start_time": "2022-07-08T13:44:27.456Z"
   },
   {
    "duration": 29,
    "start_time": "2022-07-08T13:44:50.860Z"
   },
   {
    "duration": 25,
    "start_time": "2022-07-08T13:45:12.900Z"
   },
   {
    "duration": 13,
    "start_time": "2022-07-08T13:47:13.800Z"
   },
   {
    "duration": 13,
    "start_time": "2022-07-08T13:47:20.564Z"
   },
   {
    "duration": 12,
    "start_time": "2022-07-08T13:47:46.992Z"
   },
   {
    "duration": 13,
    "start_time": "2022-07-08T13:48:32.325Z"
   },
   {
    "duration": 43,
    "start_time": "2022-07-08T13:49:19.810Z"
   },
   {
    "duration": 11,
    "start_time": "2022-07-08T13:49:48.167Z"
   },
   {
    "duration": 10,
    "start_time": "2022-07-08T13:50:06.009Z"
   },
   {
    "duration": 25,
    "start_time": "2022-07-08T13:50:33.627Z"
   },
   {
    "duration": 11,
    "start_time": "2022-07-08T13:50:54.844Z"
   },
   {
    "duration": 9,
    "start_time": "2022-07-08T13:50:59.480Z"
   },
   {
    "duration": 15,
    "start_time": "2022-07-08T13:58:04.503Z"
   },
   {
    "duration": 15,
    "start_time": "2022-07-08T13:58:59.658Z"
   },
   {
    "duration": 13,
    "start_time": "2022-07-08T14:00:13.926Z"
   },
   {
    "duration": 132,
    "start_time": "2022-07-08T14:03:29.620Z"
   },
   {
    "duration": 116,
    "start_time": "2022-07-08T14:03:36.485Z"
   },
   {
    "duration": 115,
    "start_time": "2022-07-08T14:04:23.620Z"
   },
   {
    "duration": 122,
    "start_time": "2022-07-08T14:04:55.022Z"
   },
   {
    "duration": 124,
    "start_time": "2022-07-08T14:06:02.797Z"
   },
   {
    "duration": 117,
    "start_time": "2022-07-08T14:06:39.941Z"
   },
   {
    "duration": 118,
    "start_time": "2022-07-08T14:07:21.982Z"
   },
   {
    "duration": 133,
    "start_time": "2022-07-08T14:09:37.258Z"
   },
   {
    "duration": 120,
    "start_time": "2022-07-08T14:10:16.783Z"
   },
   {
    "duration": 10,
    "start_time": "2022-07-08T14:35:27.784Z"
   },
   {
    "duration": 13,
    "start_time": "2022-07-08T14:35:37.977Z"
   },
   {
    "duration": 12,
    "start_time": "2022-07-08T14:35:40.664Z"
   },
   {
    "duration": 270,
    "start_time": "2022-07-08T14:39:48.391Z"
   },
   {
    "duration": 18,
    "start_time": "2022-07-08T14:44:44.759Z"
   },
   {
    "duration": 9,
    "start_time": "2022-07-08T14:45:02.445Z"
   },
   {
    "duration": 315,
    "start_time": "2022-07-08T14:45:08.838Z"
   },
   {
    "duration": 46,
    "start_time": "2022-07-08T14:51:51.589Z"
   },
   {
    "duration": 22,
    "start_time": "2022-07-08T14:51:55.260Z"
   },
   {
    "duration": 237,
    "start_time": "2022-07-08T14:58:50.156Z"
   },
   {
    "duration": 58,
    "start_time": "2022-07-08T14:59:17.312Z"
   },
   {
    "duration": 222,
    "start_time": "2022-07-08T14:59:23.566Z"
   },
   {
    "duration": 658,
    "start_time": "2022-07-08T15:00:51.754Z"
   },
   {
    "duration": 716,
    "start_time": "2022-07-08T15:01:10.567Z"
   },
   {
    "duration": 1121,
    "start_time": "2022-07-08T15:15:58.243Z"
   },
   {
    "duration": 45,
    "start_time": "2022-07-08T15:15:59.365Z"
   },
   {
    "duration": 23,
    "start_time": "2022-07-08T15:15:59.412Z"
   },
   {
    "duration": 9,
    "start_time": "2022-07-08T15:15:59.436Z"
   },
   {
    "duration": 23,
    "start_time": "2022-07-08T15:15:59.446Z"
   },
   {
    "duration": 19,
    "start_time": "2022-07-08T15:15:59.471Z"
   },
   {
    "duration": 12,
    "start_time": "2022-07-08T15:15:59.492Z"
   },
   {
    "duration": 8,
    "start_time": "2022-07-08T15:15:59.505Z"
   },
   {
    "duration": 5,
    "start_time": "2022-07-08T15:15:59.515Z"
   },
   {
    "duration": 7,
    "start_time": "2022-07-08T15:15:59.523Z"
   },
   {
    "duration": 33,
    "start_time": "2022-07-08T15:15:59.531Z"
   },
   {
    "duration": 4,
    "start_time": "2022-07-08T15:15:59.566Z"
   },
   {
    "duration": 11,
    "start_time": "2022-07-08T15:15:59.572Z"
   },
   {
    "duration": 10,
    "start_time": "2022-07-08T15:15:59.585Z"
   },
   {
    "duration": 6,
    "start_time": "2022-07-08T15:15:59.597Z"
   },
   {
    "duration": 7,
    "start_time": "2022-07-08T15:15:59.604Z"
   },
   {
    "duration": 6,
    "start_time": "2022-07-08T15:15:59.613Z"
   },
   {
    "duration": 12,
    "start_time": "2022-07-08T15:15:59.621Z"
   },
   {
    "duration": 29,
    "start_time": "2022-07-08T15:15:59.635Z"
   },
   {
    "duration": 5,
    "start_time": "2022-07-08T15:15:59.665Z"
   },
   {
    "duration": 9,
    "start_time": "2022-07-08T15:15:59.672Z"
   },
   {
    "duration": 21,
    "start_time": "2022-07-08T15:15:59.682Z"
   },
   {
    "duration": 8,
    "start_time": "2022-07-08T15:15:59.704Z"
   },
   {
    "duration": 12,
    "start_time": "2022-07-08T15:15:59.714Z"
   },
   {
    "duration": 310,
    "start_time": "2022-07-08T15:15:59.727Z"
   },
   {
    "duration": 9,
    "start_time": "2022-07-08T15:16:00.039Z"
   },
   {
    "duration": 40,
    "start_time": "2022-07-08T15:16:00.049Z"
   },
   {
    "duration": 28,
    "start_time": "2022-07-08T15:16:00.093Z"
   },
   {
    "duration": 307,
    "start_time": "2022-07-08T15:16:00.123Z"
   },
   {
    "duration": 517,
    "start_time": "2022-07-08T15:16:00.432Z"
   },
   {
    "duration": 3333,
    "start_time": "2022-07-08T15:16:00.951Z"
   },
   {
    "duration": 12,
    "start_time": "2022-07-08T15:16:04.286Z"
   },
   {
    "duration": 9,
    "start_time": "2022-07-08T15:16:04.299Z"
   },
   {
    "duration": 13,
    "start_time": "2022-07-08T15:16:04.310Z"
   },
   {
    "duration": 4,
    "start_time": "2022-07-08T15:16:04.325Z"
   },
   {
    "duration": 25,
    "start_time": "2022-07-08T15:16:04.331Z"
   },
   {
    "duration": 744,
    "start_time": "2022-07-08T15:16:04.357Z"
   },
   {
    "duration": 681,
    "start_time": "2022-07-08T15:16:05.103Z"
   },
   {
    "duration": 20,
    "start_time": "2022-07-08T15:16:05.785Z"
   },
   {
    "duration": 24,
    "start_time": "2022-07-08T15:16:05.806Z"
   },
   {
    "duration": 49,
    "start_time": "2022-07-08T15:16:05.832Z"
   },
   {
    "duration": 722,
    "start_time": "2022-07-08T15:16:05.883Z"
   },
   {
    "duration": 14,
    "start_time": "2022-07-08T15:16:06.607Z"
   },
   {
    "duration": 12,
    "start_time": "2022-07-08T15:16:06.623Z"
   },
   {
    "duration": 143,
    "start_time": "2022-07-08T15:16:06.637Z"
   },
   {
    "duration": 13,
    "start_time": "2022-07-08T15:16:06.781Z"
   },
   {
    "duration": 134,
    "start_time": "2022-07-08T15:16:06.795Z"
   },
   {
    "duration": 12,
    "start_time": "2022-07-08T15:16:06.931Z"
   },
   {
    "duration": 136,
    "start_time": "2022-07-08T15:16:06.944Z"
   },
   {
    "duration": 13,
    "start_time": "2022-07-08T15:16:07.082Z"
   },
   {
    "duration": 137,
    "start_time": "2022-07-08T15:16:07.097Z"
   },
   {
    "duration": 12,
    "start_time": "2022-07-08T15:16:07.236Z"
   },
   {
    "duration": 127,
    "start_time": "2022-07-08T15:16:07.249Z"
   },
   {
    "duration": 13,
    "start_time": "2022-07-08T15:16:07.378Z"
   },
   {
    "duration": 141,
    "start_time": "2022-07-08T15:16:07.393Z"
   },
   {
    "duration": 14,
    "start_time": "2022-07-08T15:16:07.535Z"
   },
   {
    "duration": 139,
    "start_time": "2022-07-08T15:16:07.550Z"
   },
   {
    "duration": 14,
    "start_time": "2022-07-08T15:16:07.690Z"
   },
   {
    "duration": 133,
    "start_time": "2022-07-08T15:16:07.706Z"
   },
   {
    "duration": 12,
    "start_time": "2022-07-08T15:16:07.841Z"
   },
   {
    "duration": 234,
    "start_time": "2022-07-08T15:16:07.855Z"
   },
   {
    "duration": 9,
    "start_time": "2022-07-08T15:16:08.091Z"
   },
   {
    "duration": 162,
    "start_time": "2022-07-08T15:16:08.102Z"
   },
   {
    "duration": 61,
    "start_time": "2022-07-09T07:44:16.965Z"
   },
   {
    "duration": 1567,
    "start_time": "2022-07-09T07:44:25.806Z"
   },
   {
    "duration": 96,
    "start_time": "2022-07-09T07:44:27.377Z"
   },
   {
    "duration": 37,
    "start_time": "2022-07-09T07:44:27.476Z"
   },
   {
    "duration": 16,
    "start_time": "2022-07-09T07:44:27.516Z"
   },
   {
    "duration": 26,
    "start_time": "2022-07-09T07:44:27.535Z"
   },
   {
    "duration": 37,
    "start_time": "2022-07-09T07:44:27.563Z"
   },
   {
    "duration": 14,
    "start_time": "2022-07-09T07:44:27.602Z"
   },
   {
    "duration": 12,
    "start_time": "2022-07-09T07:44:27.619Z"
   },
   {
    "duration": 27,
    "start_time": "2022-07-09T07:44:27.650Z"
   },
   {
    "duration": 8,
    "start_time": "2022-07-09T07:44:27.680Z"
   },
   {
    "duration": 16,
    "start_time": "2022-07-09T07:44:27.690Z"
   },
   {
    "duration": 6,
    "start_time": "2022-07-09T07:44:27.708Z"
   },
   {
    "duration": 11,
    "start_time": "2022-07-09T07:44:27.716Z"
   },
   {
    "duration": 26,
    "start_time": "2022-07-09T07:44:27.729Z"
   },
   {
    "duration": 10,
    "start_time": "2022-07-09T07:44:27.757Z"
   },
   {
    "duration": 11,
    "start_time": "2022-07-09T07:44:27.769Z"
   },
   {
    "duration": 7,
    "start_time": "2022-07-09T07:44:27.783Z"
   },
   {
    "duration": 18,
    "start_time": "2022-07-09T07:44:27.792Z"
   },
   {
    "duration": 8,
    "start_time": "2022-07-09T07:44:27.812Z"
   },
   {
    "duration": 29,
    "start_time": "2022-07-09T07:44:27.848Z"
   },
   {
    "duration": 44,
    "start_time": "2022-07-09T07:44:27.879Z"
   },
   {
    "duration": 64,
    "start_time": "2022-07-09T07:44:27.925Z"
   },
   {
    "duration": 21,
    "start_time": "2022-07-09T07:44:27.991Z"
   },
   {
    "duration": 19,
    "start_time": "2022-07-09T07:44:28.014Z"
   },
   {
    "duration": 399,
    "start_time": "2022-07-09T07:44:28.035Z"
   },
   {
    "duration": 17,
    "start_time": "2022-07-09T07:44:28.435Z"
   },
   {
    "duration": 17,
    "start_time": "2022-07-09T07:44:28.456Z"
   },
   {
    "duration": 9,
    "start_time": "2022-07-09T07:44:28.477Z"
   },
   {
    "duration": 354,
    "start_time": "2022-07-09T07:44:28.487Z"
   },
   {
    "duration": 670,
    "start_time": "2022-07-09T07:44:28.847Z"
   },
   {
    "duration": 3576,
    "start_time": "2022-07-09T07:44:29.519Z"
   },
   {
    "duration": 14,
    "start_time": "2022-07-09T07:44:33.097Z"
   },
   {
    "duration": 10,
    "start_time": "2022-07-09T07:44:33.113Z"
   },
   {
    "duration": 34,
    "start_time": "2022-07-09T07:44:33.125Z"
   },
   {
    "duration": 7,
    "start_time": "2022-07-09T07:44:33.161Z"
   },
   {
    "duration": 30,
    "start_time": "2022-07-09T07:44:33.169Z"
   },
   {
    "duration": 916,
    "start_time": "2022-07-09T07:44:33.201Z"
   },
   {
    "duration": 763,
    "start_time": "2022-07-09T07:44:34.119Z"
   },
   {
    "duration": 19,
    "start_time": "2022-07-09T07:44:34.883Z"
   },
   {
    "duration": 51,
    "start_time": "2022-07-09T07:44:34.904Z"
   },
   {
    "duration": 32,
    "start_time": "2022-07-09T07:44:34.956Z"
   },
   {
    "duration": 831,
    "start_time": "2022-07-09T07:44:34.990Z"
   },
   {
    "duration": 15,
    "start_time": "2022-07-09T07:44:35.823Z"
   },
   {
    "duration": 29,
    "start_time": "2022-07-09T07:44:35.850Z"
   },
   {
    "duration": 142,
    "start_time": "2022-07-09T07:44:35.881Z"
   },
   {
    "duration": 29,
    "start_time": "2022-07-09T07:44:36.025Z"
   },
   {
    "duration": 149,
    "start_time": "2022-07-09T07:44:36.056Z"
   },
   {
    "duration": 16,
    "start_time": "2022-07-09T07:44:36.206Z"
   },
   {
    "duration": 148,
    "start_time": "2022-07-09T07:44:36.224Z"
   },
   {
    "duration": 18,
    "start_time": "2022-07-09T07:44:36.375Z"
   },
   {
    "duration": 144,
    "start_time": "2022-07-09T07:44:36.395Z"
   },
   {
    "duration": 25,
    "start_time": "2022-07-09T07:44:36.541Z"
   },
   {
    "duration": 140,
    "start_time": "2022-07-09T07:44:36.568Z"
   },
   {
    "duration": 13,
    "start_time": "2022-07-09T07:44:36.709Z"
   },
   {
    "duration": 146,
    "start_time": "2022-07-09T07:44:36.724Z"
   },
   {
    "duration": 14,
    "start_time": "2022-07-09T07:44:36.872Z"
   },
   {
    "duration": 151,
    "start_time": "2022-07-09T07:44:36.887Z"
   },
   {
    "duration": 21,
    "start_time": "2022-07-09T07:44:37.045Z"
   },
   {
    "duration": 142,
    "start_time": "2022-07-09T07:44:37.067Z"
   },
   {
    "duration": 20,
    "start_time": "2022-07-09T07:44:37.211Z"
   },
   {
    "duration": 257,
    "start_time": "2022-07-09T07:44:37.233Z"
   },
   {
    "duration": 12,
    "start_time": "2022-07-09T07:44:37.494Z"
   },
   {
    "duration": 246,
    "start_time": "2022-07-09T07:44:37.508Z"
   },
   {
    "duration": 6,
    "start_time": "2022-07-09T07:44:44.815Z"
   },
   {
    "duration": 35,
    "start_time": "2022-07-09T07:45:53.626Z"
   },
   {
    "duration": 47,
    "start_time": "2022-07-11T15:50:29.570Z"
   },
   {
    "duration": 7,
    "start_time": "2022-07-11T15:50:36.235Z"
   },
   {
    "duration": 6,
    "start_time": "2022-07-11T15:51:16.447Z"
   },
   {
    "duration": 1324,
    "start_time": "2022-07-11T15:51:30.061Z"
   },
   {
    "duration": 73,
    "start_time": "2022-07-11T15:51:31.387Z"
   },
   {
    "duration": 25,
    "start_time": "2022-07-11T15:51:31.462Z"
   },
   {
    "duration": 11,
    "start_time": "2022-07-11T15:51:31.489Z"
   },
   {
    "duration": 24,
    "start_time": "2022-07-11T15:51:31.503Z"
   },
   {
    "duration": 39,
    "start_time": "2022-07-11T15:51:31.529Z"
   },
   {
    "duration": 15,
    "start_time": "2022-07-11T15:51:31.570Z"
   },
   {
    "duration": 9,
    "start_time": "2022-07-11T15:51:31.629Z"
   },
   {
    "duration": 4,
    "start_time": "2022-07-11T15:51:31.942Z"
   },
   {
    "duration": 5,
    "start_time": "2022-07-11T15:51:31.992Z"
   },
   {
    "duration": 12,
    "start_time": "2022-07-11T15:51:32.053Z"
   },
   {
    "duration": 4,
    "start_time": "2022-07-11T15:51:32.557Z"
   },
   {
    "duration": 5,
    "start_time": "2022-07-11T15:51:32.630Z"
   },
   {
    "duration": 13,
    "start_time": "2022-07-11T15:51:32.710Z"
   },
   {
    "duration": 6,
    "start_time": "2022-07-11T15:51:32.795Z"
   },
   {
    "duration": 5,
    "start_time": "2022-07-11T15:51:33.219Z"
   },
   {
    "duration": 5,
    "start_time": "2022-07-11T15:51:33.302Z"
   },
   {
    "duration": 9,
    "start_time": "2022-07-11T15:51:33.632Z"
   },
   {
    "duration": 5,
    "start_time": "2022-07-11T15:51:33.878Z"
   },
   {
    "duration": 5,
    "start_time": "2022-07-11T15:51:33.961Z"
   },
   {
    "duration": 5,
    "start_time": "2022-07-11T15:51:34.069Z"
   },
   {
    "duration": 23,
    "start_time": "2022-07-11T15:51:34.129Z"
   },
   {
    "duration": 6,
    "start_time": "2022-07-11T15:51:34.557Z"
   },
   {
    "duration": 13,
    "start_time": "2022-07-11T15:51:34.634Z"
   },
   {
    "duration": 287,
    "start_time": "2022-07-11T15:51:34.760Z"
   },
   {
    "duration": 9,
    "start_time": "2022-07-11T15:51:35.140Z"
   },
   {
    "duration": 16,
    "start_time": "2022-07-11T15:51:35.313Z"
   },
   {
    "duration": 10,
    "start_time": "2022-07-11T15:51:35.431Z"
   },
   {
    "duration": 277,
    "start_time": "2022-07-11T15:51:35.481Z"
   },
   {
    "duration": 544,
    "start_time": "2022-07-11T15:51:36.151Z"
   },
   {
    "duration": 3234,
    "start_time": "2022-07-11T15:51:36.698Z"
   },
   {
    "duration": 11,
    "start_time": "2022-07-11T15:51:39.934Z"
   },
   {
    "duration": 9,
    "start_time": "2022-07-11T15:51:39.946Z"
   },
   {
    "duration": 13,
    "start_time": "2022-07-11T15:51:39.957Z"
   },
   {
    "duration": 4,
    "start_time": "2022-07-11T15:51:39.971Z"
   },
   {
    "duration": 21,
    "start_time": "2022-07-11T15:51:39.977Z"
   },
   {
    "duration": 747,
    "start_time": "2022-07-11T15:51:40.000Z"
   },
   {
    "duration": 688,
    "start_time": "2022-07-11T15:51:40.749Z"
   },
   {
    "duration": 24,
    "start_time": "2022-07-11T15:51:41.439Z"
   },
   {
    "duration": 23,
    "start_time": "2022-07-11T15:51:41.465Z"
   },
   {
    "duration": 28,
    "start_time": "2022-07-11T15:51:41.490Z"
   },
   {
    "duration": 771,
    "start_time": "2022-07-11T15:51:41.519Z"
   },
   {
    "duration": 13,
    "start_time": "2022-07-11T15:51:42.291Z"
   },
   {
    "duration": 15,
    "start_time": "2022-07-11T15:51:42.306Z"
   },
   {
    "duration": 136,
    "start_time": "2022-07-11T15:51:42.322Z"
   },
   {
    "duration": 12,
    "start_time": "2022-07-11T15:51:42.460Z"
   },
   {
    "duration": 134,
    "start_time": "2022-07-11T15:51:42.473Z"
   },
   {
    "duration": 12,
    "start_time": "2022-07-11T15:51:42.609Z"
   },
   {
    "duration": 127,
    "start_time": "2022-07-11T15:51:42.623Z"
   },
   {
    "duration": 18,
    "start_time": "2022-07-11T15:51:42.751Z"
   },
   {
    "duration": 119,
    "start_time": "2022-07-11T15:51:42.771Z"
   },
   {
    "duration": 12,
    "start_time": "2022-07-11T15:51:42.892Z"
   },
   {
    "duration": 122,
    "start_time": "2022-07-11T15:51:42.906Z"
   },
   {
    "duration": 12,
    "start_time": "2022-07-11T15:51:43.029Z"
   },
   {
    "duration": 122,
    "start_time": "2022-07-11T15:51:43.043Z"
   },
   {
    "duration": 15,
    "start_time": "2022-07-11T15:51:43.166Z"
   },
   {
    "duration": 123,
    "start_time": "2022-07-11T15:51:43.182Z"
   },
   {
    "duration": 11,
    "start_time": "2022-07-11T15:51:43.308Z"
   },
   {
    "duration": 128,
    "start_time": "2022-07-11T15:51:43.321Z"
   },
   {
    "duration": 19,
    "start_time": "2022-07-11T15:51:43.451Z"
   },
   {
    "duration": 215,
    "start_time": "2022-07-11T15:51:43.471Z"
   },
   {
    "duration": 8,
    "start_time": "2022-07-11T15:51:43.688Z"
   },
   {
    "duration": 243,
    "start_time": "2022-07-11T15:51:43.698Z"
   },
   {
    "duration": 0,
    "start_time": "2022-07-11T15:51:43.942Z"
   },
   {
    "duration": 9,
    "start_time": "2022-07-11T15:51:54.169Z"
   },
   {
    "duration": 15,
    "start_time": "2022-07-11T15:54:37.688Z"
   },
   {
    "duration": 8,
    "start_time": "2022-07-11T15:59:55.754Z"
   },
   {
    "duration": 42,
    "start_time": "2022-07-11T23:15:46.379Z"
   },
   {
    "duration": 8,
    "start_time": "2022-07-11T23:15:51.941Z"
   },
   {
    "duration": 1281,
    "start_time": "2022-07-11T23:16:01.799Z"
   },
   {
    "duration": 71,
    "start_time": "2022-07-11T23:16:03.082Z"
   },
   {
    "duration": 22,
    "start_time": "2022-07-11T23:16:03.155Z"
   },
   {
    "duration": 9,
    "start_time": "2022-07-11T23:16:03.179Z"
   },
   {
    "duration": 17,
    "start_time": "2022-07-11T23:16:03.190Z"
   },
   {
    "duration": 21,
    "start_time": "2022-07-11T23:16:03.209Z"
   },
   {
    "duration": 10,
    "start_time": "2022-07-11T23:16:03.232Z"
   },
   {
    "duration": 9,
    "start_time": "2022-07-11T23:16:03.244Z"
   },
   {
    "duration": 6,
    "start_time": "2022-07-11T23:16:03.255Z"
   },
   {
    "duration": 5,
    "start_time": "2022-07-11T23:16:03.303Z"
   },
   {
    "duration": 11,
    "start_time": "2022-07-11T23:16:03.387Z"
   },
   {
    "duration": 6,
    "start_time": "2022-07-11T23:16:03.898Z"
   },
   {
    "duration": 6,
    "start_time": "2022-07-11T23:16:03.974Z"
   },
   {
    "duration": 8,
    "start_time": "2022-07-11T23:16:04.045Z"
   },
   {
    "duration": 5,
    "start_time": "2022-07-11T23:16:04.128Z"
   },
   {
    "duration": 5,
    "start_time": "2022-07-11T23:16:04.561Z"
   },
   {
    "duration": 4,
    "start_time": "2022-07-11T23:16:04.637Z"
   },
   {
    "duration": 10,
    "start_time": "2022-07-11T23:16:04.966Z"
   },
   {
    "duration": 6,
    "start_time": "2022-07-11T23:16:05.218Z"
   },
   {
    "duration": 6,
    "start_time": "2022-07-11T23:16:05.302Z"
   },
   {
    "duration": 4,
    "start_time": "2022-07-11T23:16:05.389Z"
   },
   {
    "duration": 19,
    "start_time": "2022-07-11T23:16:05.465Z"
   },
   {
    "duration": 5,
    "start_time": "2022-07-11T23:16:05.893Z"
   },
   {
    "duration": 12,
    "start_time": "2022-07-11T23:16:05.967Z"
   },
   {
    "duration": 268,
    "start_time": "2022-07-11T23:16:06.057Z"
   },
   {
    "duration": 7,
    "start_time": "2022-07-11T23:16:06.467Z"
   },
   {
    "duration": 15,
    "start_time": "2022-07-11T23:16:06.632Z"
   },
   {
    "duration": 9,
    "start_time": "2022-07-11T23:16:06.720Z"
   },
   {
    "duration": 266,
    "start_time": "2022-07-11T23:16:06.798Z"
   },
   {
    "duration": 434,
    "start_time": "2022-07-11T23:16:07.480Z"
   },
   {
    "duration": 3125,
    "start_time": "2022-07-11T23:16:07.915Z"
   },
   {
    "duration": 10,
    "start_time": "2022-07-11T23:16:11.042Z"
   },
   {
    "duration": 5,
    "start_time": "2022-07-11T23:16:11.054Z"
   },
   {
    "duration": 14,
    "start_time": "2022-07-11T23:16:11.060Z"
   },
   {
    "duration": 4,
    "start_time": "2022-07-11T23:16:11.075Z"
   },
   {
    "duration": 26,
    "start_time": "2022-07-11T23:16:11.080Z"
   },
   {
    "duration": 737,
    "start_time": "2022-07-11T23:16:11.107Z"
   },
   {
    "duration": 667,
    "start_time": "2022-07-11T23:16:11.846Z"
   },
   {
    "duration": 23,
    "start_time": "2022-07-11T23:16:12.515Z"
   },
   {
    "duration": 25,
    "start_time": "2022-07-11T23:16:12.541Z"
   },
   {
    "duration": 55,
    "start_time": "2022-07-11T23:16:12.567Z"
   },
   {
    "duration": 742,
    "start_time": "2022-07-11T23:16:12.623Z"
   },
   {
    "duration": 14,
    "start_time": "2022-07-11T23:16:13.366Z"
   },
   {
    "duration": 26,
    "start_time": "2022-07-11T23:16:13.381Z"
   },
   {
    "duration": 134,
    "start_time": "2022-07-11T23:16:13.409Z"
   },
   {
    "duration": 12,
    "start_time": "2022-07-11T23:16:13.544Z"
   },
   {
    "duration": 146,
    "start_time": "2022-07-11T23:16:13.558Z"
   },
   {
    "duration": 13,
    "start_time": "2022-07-11T23:16:13.705Z"
   },
   {
    "duration": 151,
    "start_time": "2022-07-11T23:16:13.719Z"
   },
   {
    "duration": 14,
    "start_time": "2022-07-11T23:16:13.871Z"
   },
   {
    "duration": 139,
    "start_time": "2022-07-11T23:16:13.900Z"
   },
   {
    "duration": 14,
    "start_time": "2022-07-11T23:16:14.041Z"
   },
   {
    "duration": 128,
    "start_time": "2022-07-11T23:16:14.056Z"
   },
   {
    "duration": 18,
    "start_time": "2022-07-11T23:16:14.186Z"
   },
   {
    "duration": 129,
    "start_time": "2022-07-11T23:16:14.206Z"
   },
   {
    "duration": 14,
    "start_time": "2022-07-11T23:16:14.336Z"
   },
   {
    "duration": 135,
    "start_time": "2022-07-11T23:16:14.351Z"
   },
   {
    "duration": 19,
    "start_time": "2022-07-11T23:16:14.488Z"
   },
   {
    "duration": 112,
    "start_time": "2022-07-11T23:16:15.014Z"
   },
   {
    "duration": 12,
    "start_time": "2022-07-11T23:16:15.785Z"
   },
   {
    "duration": 194,
    "start_time": "2022-07-11T23:16:15.964Z"
   },
   {
    "duration": 59,
    "start_time": "2022-07-11T23:16:19.299Z"
   },
   {
    "duration": 8,
    "start_time": "2022-07-11T23:16:41.245Z"
   },
   {
    "duration": 13,
    "start_time": "2022-07-11T23:18:30.351Z"
   },
   {
    "duration": 15,
    "start_time": "2022-07-11T23:19:47.874Z"
   },
   {
    "duration": 14,
    "start_time": "2022-07-11T23:19:52.574Z"
   },
   {
    "duration": 7,
    "start_time": "2022-07-11T23:20:36.402Z"
   },
   {
    "duration": 11,
    "start_time": "2022-07-11T23:21:33.538Z"
   },
   {
    "duration": 9,
    "start_time": "2022-07-11T23:44:46.095Z"
   },
   {
    "duration": 11,
    "start_time": "2022-07-11T23:45:53.838Z"
   },
   {
    "duration": 21,
    "start_time": "2022-07-11T23:46:05.795Z"
   },
   {
    "duration": 9,
    "start_time": "2022-07-11T23:46:23.900Z"
   },
   {
    "duration": 8,
    "start_time": "2022-07-11T23:46:41.835Z"
   },
   {
    "duration": 13,
    "start_time": "2022-07-11T23:48:15.293Z"
   },
   {
    "duration": 8,
    "start_time": "2022-07-11T23:49:21.446Z"
   },
   {
    "duration": 9,
    "start_time": "2022-07-11T23:49:33.460Z"
   },
   {
    "duration": 8,
    "start_time": "2022-07-11T23:49:44.180Z"
   },
   {
    "duration": 8,
    "start_time": "2022-07-11T23:49:56.843Z"
   },
   {
    "duration": 8,
    "start_time": "2022-07-11T23:50:06.335Z"
   },
   {
    "duration": 8,
    "start_time": "2022-07-11T23:50:16.047Z"
   },
   {
    "duration": 9,
    "start_time": "2022-07-11T23:50:27.780Z"
   },
   {
    "duration": 8,
    "start_time": "2022-07-11T23:50:39.183Z"
   },
   {
    "duration": 44,
    "start_time": "2022-07-12T01:08:16.516Z"
   },
   {
    "duration": 1265,
    "start_time": "2022-07-12T01:08:34.928Z"
   },
   {
    "duration": 69,
    "start_time": "2022-07-12T01:08:36.195Z"
   },
   {
    "duration": 24,
    "start_time": "2022-07-12T01:08:36.266Z"
   },
   {
    "duration": 8,
    "start_time": "2022-07-12T01:08:36.292Z"
   },
   {
    "duration": 21,
    "start_time": "2022-07-12T01:08:36.302Z"
   },
   {
    "duration": 19,
    "start_time": "2022-07-12T01:08:36.324Z"
   },
   {
    "duration": 10,
    "start_time": "2022-07-12T01:08:36.419Z"
   },
   {
    "duration": 9,
    "start_time": "2022-07-12T01:08:36.501Z"
   },
   {
    "duration": 4,
    "start_time": "2022-07-12T01:08:36.767Z"
   },
   {
    "duration": 7,
    "start_time": "2022-07-12T01:08:36.842Z"
   },
   {
    "duration": 8,
    "start_time": "2022-07-12T01:08:36.922Z"
   },
   {
    "duration": 4,
    "start_time": "2022-07-12T01:08:37.417Z"
   },
   {
    "duration": 5,
    "start_time": "2022-07-12T01:08:37.502Z"
   },
   {
    "duration": 8,
    "start_time": "2022-07-12T01:08:37.585Z"
   },
   {
    "duration": 5,
    "start_time": "2022-07-12T01:08:37.674Z"
   },
   {
    "duration": 5,
    "start_time": "2022-07-12T01:08:38.112Z"
   },
   {
    "duration": 6,
    "start_time": "2022-07-12T01:08:38.170Z"
   },
   {
    "duration": 9,
    "start_time": "2022-07-12T01:08:38.504Z"
   },
   {
    "duration": 5,
    "start_time": "2022-07-12T01:08:38.754Z"
   },
   {
    "duration": 5,
    "start_time": "2022-07-12T01:08:38.837Z"
   },
   {
    "duration": 4,
    "start_time": "2022-07-12T01:08:38.920Z"
   },
   {
    "duration": 20,
    "start_time": "2022-07-12T01:08:39.004Z"
   },
   {
    "duration": 6,
    "start_time": "2022-07-12T01:08:39.429Z"
   },
   {
    "duration": 11,
    "start_time": "2022-07-12T01:08:39.504Z"
   },
   {
    "duration": 260,
    "start_time": "2022-07-12T01:08:39.587Z"
   },
   {
    "duration": 8,
    "start_time": "2022-07-12T01:08:40.002Z"
   },
   {
    "duration": 14,
    "start_time": "2022-07-12T01:08:40.198Z"
   },
   {
    "duration": 9,
    "start_time": "2022-07-12T01:08:40.265Z"
   },
   {
    "duration": 285,
    "start_time": "2022-07-12T01:08:40.336Z"
   },
   {
    "duration": 418,
    "start_time": "2022-07-12T01:08:41.014Z"
   },
   {
    "duration": 3166,
    "start_time": "2022-07-12T01:08:41.434Z"
   },
   {
    "duration": 11,
    "start_time": "2022-07-12T01:08:44.602Z"
   },
   {
    "duration": 7,
    "start_time": "2022-07-12T01:08:44.614Z"
   },
   {
    "duration": 13,
    "start_time": "2022-07-12T01:08:44.623Z"
   },
   {
    "duration": 5,
    "start_time": "2022-07-12T01:08:44.637Z"
   },
   {
    "duration": 24,
    "start_time": "2022-07-12T01:08:44.643Z"
   },
   {
    "duration": 796,
    "start_time": "2022-07-12T01:08:44.668Z"
   },
   {
    "duration": 656,
    "start_time": "2022-07-12T01:08:45.465Z"
   },
   {
    "duration": 21,
    "start_time": "2022-07-12T01:08:46.122Z"
   },
   {
    "duration": 22,
    "start_time": "2022-07-12T01:08:46.145Z"
   },
   {
    "duration": 43,
    "start_time": "2022-07-12T01:08:46.168Z"
   },
   {
    "duration": 693,
    "start_time": "2022-07-12T01:08:46.213Z"
   },
   {
    "duration": 15,
    "start_time": "2022-07-12T01:08:46.907Z"
   },
   {
    "duration": 12,
    "start_time": "2022-07-12T01:08:46.924Z"
   },
   {
    "duration": 137,
    "start_time": "2022-07-12T01:08:46.938Z"
   },
   {
    "duration": 25,
    "start_time": "2022-07-12T01:08:47.077Z"
   },
   {
    "duration": 126,
    "start_time": "2022-07-12T01:08:47.103Z"
   },
   {
    "duration": 13,
    "start_time": "2022-07-12T01:08:47.231Z"
   },
   {
    "duration": 131,
    "start_time": "2022-07-12T01:08:47.246Z"
   },
   {
    "duration": 23,
    "start_time": "2022-07-12T01:08:47.379Z"
   },
   {
    "duration": 123,
    "start_time": "2022-07-12T01:08:47.404Z"
   },
   {
    "duration": 12,
    "start_time": "2022-07-12T01:08:47.528Z"
   },
   {
    "duration": 119,
    "start_time": "2022-07-12T01:08:47.542Z"
   },
   {
    "duration": 13,
    "start_time": "2022-07-12T01:08:47.662Z"
   },
   {
    "duration": 120,
    "start_time": "2022-07-12T01:08:47.676Z"
   },
   {
    "duration": 14,
    "start_time": "2022-07-12T01:08:47.798Z"
   },
   {
    "duration": 121,
    "start_time": "2022-07-12T01:08:47.814Z"
   },
   {
    "duration": 13,
    "start_time": "2022-07-12T01:08:48.558Z"
   },
   {
    "duration": 126,
    "start_time": "2022-07-12T01:08:49.221Z"
   },
   {
    "duration": 13,
    "start_time": "2022-07-12T01:08:54.138Z"
   },
   {
    "duration": 208,
    "start_time": "2022-07-12T01:08:54.611Z"
   },
   {
    "duration": 63,
    "start_time": "2022-07-12T01:08:55.908Z"
   },
   {
    "duration": 10,
    "start_time": "2022-07-12T01:08:58.211Z"
   },
   {
    "duration": 13,
    "start_time": "2022-07-12T01:10:12.455Z"
   },
   {
    "duration": 6,
    "start_time": "2022-07-12T01:10:36.282Z"
   },
   {
    "duration": 9,
    "start_time": "2022-07-12T01:10:36.858Z"
   },
   {
    "duration": 17,
    "start_time": "2022-07-12T01:11:50.131Z"
   },
   {
    "duration": 1152,
    "start_time": "2022-07-12T02:29:35.979Z"
   },
   {
    "duration": 71,
    "start_time": "2022-07-12T02:29:37.133Z"
   },
   {
    "duration": 22,
    "start_time": "2022-07-12T02:29:37.205Z"
   },
   {
    "duration": 11,
    "start_time": "2022-07-12T02:29:37.229Z"
   },
   {
    "duration": 12,
    "start_time": "2022-07-12T02:29:37.241Z"
   },
   {
    "duration": 20,
    "start_time": "2022-07-12T02:29:37.255Z"
   },
   {
    "duration": 9,
    "start_time": "2022-07-12T02:29:37.276Z"
   },
   {
    "duration": 7,
    "start_time": "2022-07-12T02:29:37.286Z"
   },
   {
    "duration": 5,
    "start_time": "2022-07-12T02:29:37.407Z"
   },
   {
    "duration": 5,
    "start_time": "2022-07-12T02:29:37.489Z"
   },
   {
    "duration": 10,
    "start_time": "2022-07-12T02:29:37.643Z"
   },
   {
    "duration": 4,
    "start_time": "2022-07-12T02:29:38.073Z"
   },
   {
    "duration": 5,
    "start_time": "2022-07-12T02:29:38.160Z"
   },
   {
    "duration": 8,
    "start_time": "2022-07-12T02:29:38.238Z"
   },
   {
    "duration": 6,
    "start_time": "2022-07-12T02:29:38.328Z"
   },
   {
    "duration": 6,
    "start_time": "2022-07-12T02:29:38.737Z"
   },
   {
    "duration": 5,
    "start_time": "2022-07-12T02:29:38.821Z"
   },
   {
    "duration": 9,
    "start_time": "2022-07-12T02:29:39.156Z"
   },
   {
    "duration": 4,
    "start_time": "2022-07-12T02:29:39.413Z"
   },
   {
    "duration": 5,
    "start_time": "2022-07-12T02:29:39.488Z"
   },
   {
    "duration": 4,
    "start_time": "2022-07-12T02:29:39.574Z"
   },
   {
    "duration": 18,
    "start_time": "2022-07-12T02:29:39.659Z"
   },
   {
    "duration": 5,
    "start_time": "2022-07-12T02:29:40.115Z"
   },
   {
    "duration": 12,
    "start_time": "2022-07-12T02:29:40.163Z"
   },
   {
    "duration": 262,
    "start_time": "2022-07-12T02:29:40.248Z"
   },
   {
    "duration": 7,
    "start_time": "2022-07-12T02:29:40.654Z"
   },
   {
    "duration": 13,
    "start_time": "2022-07-12T02:29:40.841Z"
   },
   {
    "duration": 8,
    "start_time": "2022-07-12T02:29:40.909Z"
   },
   {
    "duration": 267,
    "start_time": "2022-07-12T02:29:40.989Z"
   },
   {
    "duration": 420,
    "start_time": "2022-07-12T02:29:41.663Z"
   },
   {
    "duration": 3129,
    "start_time": "2022-07-12T02:29:42.084Z"
   },
   {
    "duration": 11,
    "start_time": "2022-07-12T02:29:45.215Z"
   },
   {
    "duration": 6,
    "start_time": "2022-07-12T02:29:45.228Z"
   },
   {
    "duration": 13,
    "start_time": "2022-07-12T02:29:45.236Z"
   },
   {
    "duration": 4,
    "start_time": "2022-07-12T02:29:45.250Z"
   },
   {
    "duration": 17,
    "start_time": "2022-07-12T02:29:45.256Z"
   },
   {
    "duration": 758,
    "start_time": "2022-07-12T02:29:45.275Z"
   },
   {
    "duration": 651,
    "start_time": "2022-07-12T02:29:46.034Z"
   },
   {
    "duration": 19,
    "start_time": "2022-07-12T02:29:46.687Z"
   },
   {
    "duration": 34,
    "start_time": "2022-07-12T02:29:46.708Z"
   },
   {
    "duration": 26,
    "start_time": "2022-07-12T02:29:46.744Z"
   },
   {
    "duration": 680,
    "start_time": "2022-07-12T02:29:46.771Z"
   },
   {
    "duration": 13,
    "start_time": "2022-07-12T02:29:47.453Z"
   },
   {
    "duration": 12,
    "start_time": "2022-07-12T02:29:47.467Z"
   },
   {
    "duration": 138,
    "start_time": "2022-07-12T02:29:47.480Z"
   },
   {
    "duration": 24,
    "start_time": "2022-07-12T02:29:47.619Z"
   },
   {
    "duration": 122,
    "start_time": "2022-07-12T02:29:47.644Z"
   },
   {
    "duration": 12,
    "start_time": "2022-07-12T02:29:47.767Z"
   },
   {
    "duration": 118,
    "start_time": "2022-07-12T02:29:47.781Z"
   },
   {
    "duration": 13,
    "start_time": "2022-07-12T02:29:47.901Z"
   },
   {
    "duration": 127,
    "start_time": "2022-07-12T02:29:47.915Z"
   },
   {
    "duration": 12,
    "start_time": "2022-07-12T02:29:48.043Z"
   },
   {
    "duration": 116,
    "start_time": "2022-07-12T02:29:48.056Z"
   },
   {
    "duration": 11,
    "start_time": "2022-07-12T02:29:48.173Z"
   },
   {
    "duration": 119,
    "start_time": "2022-07-12T02:29:48.186Z"
   },
   {
    "duration": 12,
    "start_time": "2022-07-12T02:29:48.307Z"
   },
   {
    "duration": 123,
    "start_time": "2022-07-12T02:29:48.321Z"
   },
   {
    "duration": 12,
    "start_time": "2022-07-12T02:29:48.448Z"
   },
   {
    "duration": 131,
    "start_time": "2022-07-12T02:29:48.462Z"
   },
   {
    "duration": 11,
    "start_time": "2022-07-12T02:29:48.595Z"
   },
   {
    "duration": 203,
    "start_time": "2022-07-12T02:29:48.607Z"
   },
   {
    "duration": 9,
    "start_time": "2022-07-12T02:29:50.080Z"
   },
   {
    "duration": 9,
    "start_time": "2022-07-12T02:29:51.893Z"
   },
   {
    "duration": 8,
    "start_time": "2022-07-12T02:29:53.581Z"
   },
   {
    "duration": 12,
    "start_time": "2022-07-12T02:29:53.840Z"
   },
   {
    "duration": 1030,
    "start_time": "2022-07-12T19:19:18.392Z"
   },
   {
    "duration": 68,
    "start_time": "2022-07-12T19:19:19.424Z"
   },
   {
    "duration": 22,
    "start_time": "2022-07-12T19:19:19.493Z"
   },
   {
    "duration": 9,
    "start_time": "2022-07-12T19:19:19.516Z"
   },
   {
    "duration": 15,
    "start_time": "2022-07-12T19:19:19.526Z"
   },
   {
    "duration": 19,
    "start_time": "2022-07-12T19:19:19.543Z"
   },
   {
    "duration": 10,
    "start_time": "2022-07-12T19:19:19.563Z"
   },
   {
    "duration": 7,
    "start_time": "2022-07-12T19:19:19.575Z"
   },
   {
    "duration": 5,
    "start_time": "2022-07-12T19:19:19.583Z"
   },
   {
    "duration": 6,
    "start_time": "2022-07-12T19:19:19.591Z"
   },
   {
    "duration": 11,
    "start_time": "2022-07-12T19:19:19.599Z"
   },
   {
    "duration": 32,
    "start_time": "2022-07-12T19:19:19.611Z"
   },
   {
    "duration": 8,
    "start_time": "2022-07-12T19:19:19.645Z"
   },
   {
    "duration": 14,
    "start_time": "2022-07-12T19:19:19.655Z"
   },
   {
    "duration": 7,
    "start_time": "2022-07-12T19:19:19.671Z"
   },
   {
    "duration": 7,
    "start_time": "2022-07-12T19:19:19.679Z"
   },
   {
    "duration": 7,
    "start_time": "2022-07-12T19:19:19.687Z"
   },
   {
    "duration": 13,
    "start_time": "2022-07-12T19:19:19.695Z"
   },
   {
    "duration": 5,
    "start_time": "2022-07-12T19:19:19.709Z"
   },
   {
    "duration": 31,
    "start_time": "2022-07-12T19:19:19.716Z"
   },
   {
    "duration": 6,
    "start_time": "2022-07-12T19:19:19.748Z"
   },
   {
    "duration": 18,
    "start_time": "2022-07-12T19:19:19.755Z"
   },
   {
    "duration": 7,
    "start_time": "2022-07-12T19:19:19.774Z"
   },
   {
    "duration": 11,
    "start_time": "2022-07-12T19:19:19.782Z"
   },
   {
    "duration": 294,
    "start_time": "2022-07-12T19:19:19.794Z"
   },
   {
    "duration": 7,
    "start_time": "2022-07-12T19:19:20.090Z"
   },
   {
    "duration": 15,
    "start_time": "2022-07-12T19:19:20.099Z"
   },
   {
    "duration": 26,
    "start_time": "2022-07-12T19:19:20.117Z"
   },
   {
    "duration": 281,
    "start_time": "2022-07-12T19:19:20.144Z"
   },
   {
    "duration": 499,
    "start_time": "2022-07-12T19:19:20.427Z"
   },
   {
    "duration": 3156,
    "start_time": "2022-07-12T19:19:20.927Z"
   },
   {
    "duration": 11,
    "start_time": "2022-07-12T19:19:24.085Z"
   },
   {
    "duration": 6,
    "start_time": "2022-07-12T19:19:24.097Z"
   },
   {
    "duration": 15,
    "start_time": "2022-07-12T19:19:24.104Z"
   },
   {
    "duration": 24,
    "start_time": "2022-07-12T19:19:24.121Z"
   },
   {
    "duration": 24,
    "start_time": "2022-07-12T19:19:24.146Z"
   },
   {
    "duration": 821,
    "start_time": "2022-07-12T19:19:24.172Z"
   },
   {
    "duration": 672,
    "start_time": "2022-07-12T19:19:24.994Z"
   },
   {
    "duration": 22,
    "start_time": "2022-07-12T19:19:25.668Z"
   },
   {
    "duration": 25,
    "start_time": "2022-07-12T19:19:25.692Z"
   },
   {
    "duration": 49,
    "start_time": "2022-07-12T19:19:25.718Z"
   },
   {
    "duration": 709,
    "start_time": "2022-07-12T19:19:25.768Z"
   },
   {
    "duration": 13,
    "start_time": "2022-07-12T19:19:26.478Z"
   },
   {
    "duration": 13,
    "start_time": "2022-07-12T19:19:26.493Z"
   },
   {
    "duration": 144,
    "start_time": "2022-07-12T19:19:26.508Z"
   },
   {
    "duration": 17,
    "start_time": "2022-07-12T19:19:26.654Z"
   },
   {
    "duration": 206,
    "start_time": "2022-07-12T19:19:26.674Z"
   },
   {
    "duration": 14,
    "start_time": "2022-07-12T19:19:26.882Z"
   },
   {
    "duration": 139,
    "start_time": "2022-07-12T19:19:26.898Z"
   },
   {
    "duration": 13,
    "start_time": "2022-07-12T19:19:27.041Z"
   },
   {
    "duration": 143,
    "start_time": "2022-07-12T19:19:27.055Z"
   },
   {
    "duration": 14,
    "start_time": "2022-07-12T19:19:27.200Z"
   },
   {
    "duration": 137,
    "start_time": "2022-07-12T19:19:27.215Z"
   },
   {
    "duration": 13,
    "start_time": "2022-07-12T19:19:27.354Z"
   },
   {
    "duration": 156,
    "start_time": "2022-07-12T19:19:27.369Z"
   },
   {
    "duration": 19,
    "start_time": "2022-07-12T19:19:27.526Z"
   },
   {
    "duration": 124,
    "start_time": "2022-07-12T19:19:27.546Z"
   },
   {
    "duration": 13,
    "start_time": "2022-07-12T19:19:27.671Z"
   },
   {
    "duration": 133,
    "start_time": "2022-07-12T19:19:27.686Z"
   },
   {
    "duration": 12,
    "start_time": "2022-07-12T19:19:27.820Z"
   },
   {
    "duration": 229,
    "start_time": "2022-07-12T19:19:27.841Z"
   },
   {
    "duration": 10,
    "start_time": "2022-07-12T19:19:28.073Z"
   },
   {
    "duration": 17,
    "start_time": "2022-07-12T19:19:28.085Z"
   },
   {
    "duration": 13,
    "start_time": "2022-07-12T19:19:28.104Z"
   },
   {
    "duration": 49,
    "start_time": "2022-07-12T19:19:28.118Z"
   },
   {
    "duration": 6,
    "start_time": "2022-07-12T19:27:38.162Z"
   },
   {
    "duration": 19,
    "start_time": "2022-07-12T19:27:42.556Z"
   },
   {
    "duration": 1482,
    "start_time": "2022-07-20T19:33:31.458Z"
   },
   {
    "duration": 180,
    "start_time": "2022-07-20T19:33:32.942Z"
   },
   {
    "duration": 27,
    "start_time": "2022-07-20T19:33:33.123Z"
   },
   {
    "duration": 9,
    "start_time": "2022-07-20T19:33:33.152Z"
   },
   {
    "duration": 18,
    "start_time": "2022-07-20T19:33:33.163Z"
   },
   {
    "duration": 24,
    "start_time": "2022-07-20T19:33:33.183Z"
   },
   {
    "duration": 12,
    "start_time": "2022-07-20T19:33:33.240Z"
   },
   {
    "duration": 16,
    "start_time": "2022-07-20T19:33:33.254Z"
   },
   {
    "duration": 7,
    "start_time": "2022-07-20T19:33:33.272Z"
   },
   {
    "duration": 12,
    "start_time": "2022-07-20T19:33:33.281Z"
   },
   {
    "duration": 11,
    "start_time": "2022-07-20T19:33:33.297Z"
   },
   {
    "duration": 33,
    "start_time": "2022-07-20T19:33:33.311Z"
   },
   {
    "duration": 18,
    "start_time": "2022-07-20T19:33:33.346Z"
   },
   {
    "duration": 20,
    "start_time": "2022-07-20T19:33:33.369Z"
   },
   {
    "duration": 7,
    "start_time": "2022-07-20T19:33:33.391Z"
   },
   {
    "duration": 12,
    "start_time": "2022-07-20T19:33:33.401Z"
   },
   {
    "duration": 26,
    "start_time": "2022-07-20T19:33:33.414Z"
   },
   {
    "duration": 27,
    "start_time": "2022-07-20T19:33:33.443Z"
   },
   {
    "duration": 4,
    "start_time": "2022-07-20T19:33:33.473Z"
   },
   {
    "duration": 17,
    "start_time": "2022-07-20T19:33:33.479Z"
   },
   {
    "duration": 9,
    "start_time": "2022-07-20T19:33:33.498Z"
   },
   {
    "duration": 26,
    "start_time": "2022-07-20T19:33:33.509Z"
   },
   {
    "duration": 9,
    "start_time": "2022-07-20T19:33:33.536Z"
   },
   {
    "duration": 13,
    "start_time": "2022-07-20T19:33:33.547Z"
   },
   {
    "duration": 346,
    "start_time": "2022-07-20T19:33:33.562Z"
   },
   {
    "duration": 9,
    "start_time": "2022-07-20T19:33:33.910Z"
   },
   {
    "duration": 26,
    "start_time": "2022-07-20T19:33:33.920Z"
   },
   {
    "duration": 10,
    "start_time": "2022-07-20T19:33:33.948Z"
   },
   {
    "duration": 349,
    "start_time": "2022-07-20T19:33:33.960Z"
   },
   {
    "duration": 618,
    "start_time": "2022-07-20T19:33:34.311Z"
   },
   {
    "duration": 3792,
    "start_time": "2022-07-20T19:33:34.931Z"
   },
   {
    "duration": 102,
    "start_time": "2022-07-20T19:33:38.724Z"
   },
   {
    "duration": 0,
    "start_time": "2022-07-20T19:33:38.829Z"
   },
   {
    "duration": 0,
    "start_time": "2022-07-20T19:33:38.831Z"
   },
   {
    "duration": 0,
    "start_time": "2022-07-20T19:33:38.832Z"
   },
   {
    "duration": 0,
    "start_time": "2022-07-20T19:33:38.834Z"
   },
   {
    "duration": 0,
    "start_time": "2022-07-20T19:33:38.840Z"
   },
   {
    "duration": 0,
    "start_time": "2022-07-20T19:33:38.923Z"
   },
   {
    "duration": 0,
    "start_time": "2022-07-20T19:33:38.940Z"
   },
   {
    "duration": 0,
    "start_time": "2022-07-20T19:33:38.942Z"
   },
   {
    "duration": 0,
    "start_time": "2022-07-20T19:33:38.943Z"
   },
   {
    "duration": 0,
    "start_time": "2022-07-20T19:33:38.944Z"
   },
   {
    "duration": 0,
    "start_time": "2022-07-20T19:33:38.946Z"
   },
   {
    "duration": 0,
    "start_time": "2022-07-20T19:33:38.947Z"
   },
   {
    "duration": 0,
    "start_time": "2022-07-20T19:33:38.948Z"
   },
   {
    "duration": 0,
    "start_time": "2022-07-20T19:33:38.949Z"
   },
   {
    "duration": 0,
    "start_time": "2022-07-20T19:33:38.950Z"
   },
   {
    "duration": 0,
    "start_time": "2022-07-20T19:33:38.951Z"
   },
   {
    "duration": 0,
    "start_time": "2022-07-20T19:33:38.953Z"
   },
   {
    "duration": 0,
    "start_time": "2022-07-20T19:33:38.954Z"
   },
   {
    "duration": 0,
    "start_time": "2022-07-20T19:33:38.955Z"
   },
   {
    "duration": 0,
    "start_time": "2022-07-20T19:33:38.956Z"
   },
   {
    "duration": 0,
    "start_time": "2022-07-20T19:33:38.957Z"
   },
   {
    "duration": 0,
    "start_time": "2022-07-20T19:33:38.959Z"
   },
   {
    "duration": 0,
    "start_time": "2022-07-20T19:33:38.961Z"
   },
   {
    "duration": 0,
    "start_time": "2022-07-20T19:33:38.963Z"
   },
   {
    "duration": 0,
    "start_time": "2022-07-20T19:33:38.964Z"
   },
   {
    "duration": 0,
    "start_time": "2022-07-20T19:33:38.965Z"
   },
   {
    "duration": 0,
    "start_time": "2022-07-20T19:33:38.967Z"
   },
   {
    "duration": 0,
    "start_time": "2022-07-20T19:33:38.968Z"
   },
   {
    "duration": 0,
    "start_time": "2022-07-20T19:33:38.968Z"
   },
   {
    "duration": 0,
    "start_time": "2022-07-20T19:33:38.970Z"
   },
   {
    "duration": 0,
    "start_time": "2022-07-20T19:33:38.971Z"
   },
   {
    "duration": 0,
    "start_time": "2022-07-20T19:33:38.973Z"
   },
   {
    "duration": 0,
    "start_time": "2022-07-20T19:33:38.974Z"
   },
   {
    "duration": 0,
    "start_time": "2022-07-20T19:33:38.975Z"
   },
   {
    "duration": 10,
    "start_time": "2022-07-20T19:33:47.605Z"
   },
   {
    "duration": 3,
    "start_time": "2022-07-20T19:33:51.822Z"
   },
   {
    "duration": 50,
    "start_time": "2022-07-20T19:33:52.326Z"
   },
   {
    "duration": 23,
    "start_time": "2022-07-20T19:33:52.397Z"
   },
   {
    "duration": 10,
    "start_time": "2022-07-20T19:33:52.508Z"
   },
   {
    "duration": 16,
    "start_time": "2022-07-20T19:33:52.560Z"
   },
   {
    "duration": 23,
    "start_time": "2022-07-20T19:33:52.896Z"
   },
   {
    "duration": 10,
    "start_time": "2022-07-20T19:33:53.313Z"
   },
   {
    "duration": 9,
    "start_time": "2022-07-20T19:33:53.398Z"
   },
   {
    "duration": 4,
    "start_time": "2022-07-20T19:33:53.654Z"
   },
   {
    "duration": 6,
    "start_time": "2022-07-20T19:33:53.728Z"
   },
   {
    "duration": 10,
    "start_time": "2022-07-20T19:33:53.813Z"
   },
   {
    "duration": 5,
    "start_time": "2022-07-20T19:33:54.602Z"
   },
   {
    "duration": 7,
    "start_time": "2022-07-20T19:33:55.105Z"
   },
   {
    "duration": 10,
    "start_time": "2022-07-20T19:33:55.173Z"
   },
   {
    "duration": 5,
    "start_time": "2022-07-20T19:33:55.259Z"
   },
   {
    "duration": 5,
    "start_time": "2022-07-20T19:33:55.682Z"
   },
   {
    "duration": 5,
    "start_time": "2022-07-20T19:33:55.762Z"
   },
   {
    "duration": 11,
    "start_time": "2022-07-20T19:33:56.097Z"
   },
   {
    "duration": 4,
    "start_time": "2022-07-20T19:33:56.651Z"
   },
   {
    "duration": 5,
    "start_time": "2022-07-20T19:33:56.950Z"
   },
   {
    "duration": 5,
    "start_time": "2022-07-20T19:33:57.156Z"
   },
   {
    "duration": 21,
    "start_time": "2022-07-20T19:33:57.660Z"
   },
   {
    "duration": 6,
    "start_time": "2022-07-20T19:33:58.075Z"
   },
   {
    "duration": 13,
    "start_time": "2022-07-20T19:33:58.150Z"
   },
   {
    "duration": 288,
    "start_time": "2022-07-20T19:33:58.265Z"
   },
   {
    "duration": 8,
    "start_time": "2022-07-20T19:33:58.659Z"
   },
   {
    "duration": 15,
    "start_time": "2022-07-20T19:33:59.479Z"
   },
   {
    "duration": 10,
    "start_time": "2022-07-20T19:34:00.147Z"
   },
   {
    "duration": 335,
    "start_time": "2022-07-20T19:34:00.590Z"
   },
   {
    "duration": 522,
    "start_time": "2022-07-20T19:34:02.237Z"
   },
   {
    "duration": 3653,
    "start_time": "2022-07-20T19:34:02.762Z"
   },
   {
    "duration": 10,
    "start_time": "2022-07-20T19:34:06.417Z"
   },
   {
    "duration": 9,
    "start_time": "2022-07-20T19:34:21.503Z"
   },
   {
    "duration": 21,
    "start_time": "2022-07-20T19:34:35.789Z"
   },
   {
    "duration": 27,
    "start_time": "2022-07-20T19:36:22.938Z"
   },
   {
    "duration": 19,
    "start_time": "2022-07-20T19:36:37.238Z"
   },
   {
    "duration": 22,
    "start_time": "2022-07-20T19:38:57.788Z"
   },
   {
    "duration": 21,
    "start_time": "2022-07-20T20:29:39.993Z"
   },
   {
    "duration": 23,
    "start_time": "2022-07-20T21:00:32.836Z"
   },
   {
    "duration": 22,
    "start_time": "2022-07-20T21:29:36.277Z"
   },
   {
    "duration": 8,
    "start_time": "2022-07-20T21:31:58.192Z"
   },
   {
    "duration": 20,
    "start_time": "2022-07-20T21:32:05.181Z"
   },
   {
    "duration": 4,
    "start_time": "2022-07-20T21:32:41.518Z"
   },
   {
    "duration": 20,
    "start_time": "2022-07-20T21:32:49.466Z"
   },
   {
    "duration": 22,
    "start_time": "2022-07-20T21:33:04.417Z"
   },
   {
    "duration": 6,
    "start_time": "2022-07-20T21:33:14.468Z"
   },
   {
    "duration": 6,
    "start_time": "2022-07-20T21:33:32.466Z"
   },
   {
    "duration": 12,
    "start_time": "2022-07-20T21:33:44.872Z"
   },
   {
    "duration": 7,
    "start_time": "2022-07-20T21:34:06.161Z"
   },
   {
    "duration": 28,
    "start_time": "2022-07-20T21:37:21.159Z"
   },
   {
    "duration": 20,
    "start_time": "2022-07-20T21:37:47.660Z"
   },
   {
    "duration": 197,
    "start_time": "2022-07-20T21:38:16.357Z"
   },
   {
    "duration": 4,
    "start_time": "2022-07-20T21:46:49.498Z"
   },
   {
    "duration": 56,
    "start_time": "2022-07-20T21:46:49.503Z"
   },
   {
    "duration": 22,
    "start_time": "2022-07-20T21:46:49.561Z"
   },
   {
    "duration": 13,
    "start_time": "2022-07-20T21:46:49.585Z"
   },
   {
    "duration": 19,
    "start_time": "2022-07-20T21:46:49.600Z"
   },
   {
    "duration": 37,
    "start_time": "2022-07-20T21:46:49.620Z"
   },
   {
    "duration": 19,
    "start_time": "2022-07-20T21:46:49.659Z"
   },
   {
    "duration": 9,
    "start_time": "2022-07-20T21:46:49.680Z"
   },
   {
    "duration": 11,
    "start_time": "2022-07-20T21:46:49.690Z"
   },
   {
    "duration": 6,
    "start_time": "2022-07-20T21:46:49.703Z"
   },
   {
    "duration": 29,
    "start_time": "2022-07-20T21:46:49.712Z"
   },
   {
    "duration": 5,
    "start_time": "2022-07-20T21:46:49.743Z"
   },
   {
    "duration": 14,
    "start_time": "2022-07-20T21:46:49.750Z"
   },
   {
    "duration": 15,
    "start_time": "2022-07-20T21:46:49.765Z"
   },
   {
    "duration": 6,
    "start_time": "2022-07-20T21:46:49.782Z"
   },
   {
    "duration": 9,
    "start_time": "2022-07-20T21:46:49.790Z"
   },
   {
    "duration": 7,
    "start_time": "2022-07-20T21:46:49.801Z"
   },
   {
    "duration": 15,
    "start_time": "2022-07-20T21:46:49.810Z"
   },
   {
    "duration": 17,
    "start_time": "2022-07-20T21:46:49.826Z"
   },
   {
    "duration": 13,
    "start_time": "2022-07-20T21:46:49.846Z"
   },
   {
    "duration": 15,
    "start_time": "2022-07-20T21:46:49.861Z"
   },
   {
    "duration": 30,
    "start_time": "2022-07-20T21:46:49.878Z"
   },
   {
    "duration": 9,
    "start_time": "2022-07-20T21:46:49.910Z"
   },
   {
    "duration": 17,
    "start_time": "2022-07-20T21:46:49.920Z"
   },
   {
    "duration": 394,
    "start_time": "2022-07-20T21:46:49.939Z"
   },
   {
    "duration": 12,
    "start_time": "2022-07-20T21:46:50.334Z"
   },
   {
    "duration": 17,
    "start_time": "2022-07-20T21:46:50.347Z"
   },
   {
    "duration": 13,
    "start_time": "2022-07-20T21:46:50.365Z"
   },
   {
    "duration": 323,
    "start_time": "2022-07-20T21:46:50.382Z"
   },
   {
    "duration": 504,
    "start_time": "2022-07-20T21:46:50.707Z"
   },
   {
    "duration": 3518,
    "start_time": "2022-07-20T21:46:51.213Z"
   },
   {
    "duration": 197,
    "start_time": "2022-07-20T21:46:54.733Z"
   },
   {
    "duration": 15,
    "start_time": "2022-07-20T21:46:54.932Z"
   },
   {
    "duration": 8,
    "start_time": "2022-07-20T21:46:54.949Z"
   },
   {
    "duration": 14,
    "start_time": "2022-07-20T21:46:54.959Z"
   },
   {
    "duration": 5,
    "start_time": "2022-07-20T21:46:54.975Z"
   },
   {
    "duration": 42,
    "start_time": "2022-07-20T21:46:54.982Z"
   },
   {
    "duration": 760,
    "start_time": "2022-07-20T21:46:55.040Z"
   },
   {
    "duration": 728,
    "start_time": "2022-07-20T21:46:55.802Z"
   },
   {
    "duration": 26,
    "start_time": "2022-07-20T21:46:56.532Z"
   },
   {
    "duration": 33,
    "start_time": "2022-07-20T21:46:56.559Z"
   },
   {
    "duration": 31,
    "start_time": "2022-07-20T21:46:56.593Z"
   },
   {
    "duration": 963,
    "start_time": "2022-07-20T21:46:56.639Z"
   },
   {
    "duration": 15,
    "start_time": "2022-07-20T21:46:57.603Z"
   },
   {
    "duration": 23,
    "start_time": "2022-07-20T21:46:57.620Z"
   },
   {
    "duration": 145,
    "start_time": "2022-07-20T21:46:57.645Z"
   },
   {
    "duration": 14,
    "start_time": "2022-07-20T21:46:57.792Z"
   },
   {
    "duration": 202,
    "start_time": "2022-07-20T21:46:57.807Z"
   },
   {
    "duration": 15,
    "start_time": "2022-07-20T21:46:58.011Z"
   },
   {
    "duration": 152,
    "start_time": "2022-07-20T21:46:58.027Z"
   },
   {
    "duration": 15,
    "start_time": "2022-07-20T21:46:58.181Z"
   },
   {
    "duration": 155,
    "start_time": "2022-07-20T21:46:58.198Z"
   },
   {
    "duration": 14,
    "start_time": "2022-07-20T21:46:58.355Z"
   },
   {
    "duration": 145,
    "start_time": "2022-07-20T21:46:58.371Z"
   },
   {
    "duration": 25,
    "start_time": "2022-07-20T21:46:58.518Z"
   },
   {
    "duration": 137,
    "start_time": "2022-07-20T21:46:58.545Z"
   },
   {
    "duration": 14,
    "start_time": "2022-07-20T21:46:58.683Z"
   },
   {
    "duration": 144,
    "start_time": "2022-07-20T21:46:58.698Z"
   },
   {
    "duration": 14,
    "start_time": "2022-07-20T21:46:58.843Z"
   },
   {
    "duration": 148,
    "start_time": "2022-07-20T21:46:58.858Z"
   },
   {
    "duration": 13,
    "start_time": "2022-07-20T21:46:59.008Z"
   },
   {
    "duration": 140,
    "start_time": "2022-07-20T21:46:59.023Z"
   },
   {
    "duration": 9,
    "start_time": "2022-07-20T21:46:59.165Z"
   },
   {
    "duration": 16,
    "start_time": "2022-07-20T21:46:59.176Z"
   },
   {
    "duration": 9,
    "start_time": "2022-07-20T21:46:59.194Z"
   },
   {
    "duration": 20,
    "start_time": "2022-07-20T21:46:59.205Z"
   },
   {
    "duration": 82,
    "start_time": "2022-07-22T21:32:11.189Z"
   },
   {
    "duration": 1465,
    "start_time": "2022-07-22T21:32:16.785Z"
   },
   {
    "duration": 251,
    "start_time": "2022-07-22T21:32:18.257Z"
   },
   {
    "duration": 46,
    "start_time": "2022-07-22T21:32:18.517Z"
   },
   {
    "duration": 12,
    "start_time": "2022-07-22T21:32:18.566Z"
   },
   {
    "duration": 22,
    "start_time": "2022-07-22T21:32:18.580Z"
   },
   {
    "duration": 35,
    "start_time": "2022-07-22T21:32:18.613Z"
   },
   {
    "duration": 19,
    "start_time": "2022-07-22T21:32:18.652Z"
   },
   {
    "duration": 14,
    "start_time": "2022-07-22T21:32:18.673Z"
   },
   {
    "duration": 6,
    "start_time": "2022-07-22T21:32:18.689Z"
   },
   {
    "duration": 12,
    "start_time": "2022-07-22T21:32:18.715Z"
   },
   {
    "duration": 31,
    "start_time": "2022-07-22T21:32:18.732Z"
   },
   {
    "duration": 17,
    "start_time": "2022-07-22T21:32:18.765Z"
   },
   {
    "duration": 14,
    "start_time": "2022-07-22T21:32:18.784Z"
   },
   {
    "duration": 40,
    "start_time": "2022-07-22T21:32:18.800Z"
   },
   {
    "duration": 23,
    "start_time": "2022-07-22T21:32:18.842Z"
   },
   {
    "duration": 8,
    "start_time": "2022-07-22T21:32:18.867Z"
   },
   {
    "duration": 9,
    "start_time": "2022-07-22T21:32:18.877Z"
   },
   {
    "duration": 14,
    "start_time": "2022-07-22T21:32:18.888Z"
   },
   {
    "duration": 15,
    "start_time": "2022-07-22T21:32:18.904Z"
   },
   {
    "duration": 45,
    "start_time": "2022-07-22T21:32:18.921Z"
   },
   {
    "duration": 6,
    "start_time": "2022-07-22T21:32:18.969Z"
   },
   {
    "duration": 29,
    "start_time": "2022-07-22T21:32:18.977Z"
   },
   {
    "duration": 14,
    "start_time": "2022-07-22T21:32:19.008Z"
   },
   {
    "duration": 50,
    "start_time": "2022-07-22T21:32:19.024Z"
   },
   {
    "duration": 389,
    "start_time": "2022-07-22T21:32:19.076Z"
   },
   {
    "duration": 10,
    "start_time": "2022-07-22T21:32:19.468Z"
   },
   {
    "duration": 40,
    "start_time": "2022-07-22T21:32:19.480Z"
   },
   {
    "duration": 15,
    "start_time": "2022-07-22T21:32:19.531Z"
   },
   {
    "duration": 417,
    "start_time": "2022-07-22T21:32:19.548Z"
   },
   {
    "duration": 633,
    "start_time": "2022-07-22T21:32:19.966Z"
   },
   {
    "duration": 4559,
    "start_time": "2022-07-22T21:32:20.601Z"
   },
   {
    "duration": 412,
    "start_time": "2022-07-22T21:32:25.163Z"
   },
   {
    "duration": 18,
    "start_time": "2022-07-22T21:32:25.580Z"
   },
   {
    "duration": 47,
    "start_time": "2022-07-22T21:32:25.601Z"
   },
   {
    "duration": 40,
    "start_time": "2022-07-22T21:32:25.650Z"
   },
   {
    "duration": 14,
    "start_time": "2022-07-22T21:32:25.692Z"
   },
   {
    "duration": 76,
    "start_time": "2022-07-22T21:32:25.708Z"
   },
   {
    "duration": 958,
    "start_time": "2022-07-22T21:32:25.786Z"
   },
   {
    "duration": 1152,
    "start_time": "2022-07-22T21:32:26.752Z"
   },
   {
    "duration": 46,
    "start_time": "2022-07-22T21:32:27.912Z"
   },
   {
    "duration": 47,
    "start_time": "2022-07-22T21:32:27.960Z"
   },
   {
    "duration": 51,
    "start_time": "2022-07-22T21:32:28.010Z"
   },
   {
    "duration": 1139,
    "start_time": "2022-07-22T21:32:28.064Z"
   },
   {
    "duration": 39,
    "start_time": "2022-07-22T21:32:29.205Z"
   },
   {
    "duration": 35,
    "start_time": "2022-07-22T21:32:29.247Z"
   },
   {
    "duration": 20,
    "start_time": "2022-07-22T21:32:29.284Z"
   },
   {
    "duration": 185,
    "start_time": "2022-07-22T21:32:29.306Z"
   },
   {
    "duration": 26,
    "start_time": "2022-07-22T21:32:29.494Z"
   },
   {
    "duration": 184,
    "start_time": "2022-07-22T21:32:29.522Z"
   },
   {
    "duration": 35,
    "start_time": "2022-07-22T21:32:29.708Z"
   },
   {
    "duration": 203,
    "start_time": "2022-07-22T21:32:29.751Z"
   },
   {
    "duration": 17,
    "start_time": "2022-07-22T21:32:29.960Z"
   },
   {
    "duration": 185,
    "start_time": "2022-07-22T21:32:29.979Z"
   },
   {
    "duration": 19,
    "start_time": "2022-07-22T21:32:30.166Z"
   },
   {
    "duration": 272,
    "start_time": "2022-07-22T21:32:30.187Z"
   },
   {
    "duration": 16,
    "start_time": "2022-07-22T21:32:30.467Z"
   },
   {
    "duration": 187,
    "start_time": "2022-07-22T21:32:30.485Z"
   },
   {
    "duration": 19,
    "start_time": "2022-07-22T21:32:30.675Z"
   },
   {
    "duration": 189,
    "start_time": "2022-07-22T21:32:30.697Z"
   },
   {
    "duration": 49,
    "start_time": "2022-07-22T21:32:30.889Z"
   },
   {
    "duration": 302,
    "start_time": "2022-07-22T21:32:30.941Z"
   },
   {
    "duration": 19,
    "start_time": "2022-07-22T21:32:31.247Z"
   },
   {
    "duration": 197,
    "start_time": "2022-07-22T21:32:31.268Z"
   },
   {
    "duration": 12,
    "start_time": "2022-07-22T21:32:31.467Z"
   },
   {
    "duration": 32,
    "start_time": "2022-07-22T21:32:31.481Z"
   },
   {
    "duration": 48,
    "start_time": "2022-07-22T21:32:31.515Z"
   },
   {
    "duration": 41,
    "start_time": "2022-07-22T21:32:31.565Z"
   },
   {
    "duration": 43,
    "start_time": "2022-07-22T21:32:55.716Z"
   },
   {
    "duration": 39,
    "start_time": "2022-07-22T21:36:33.209Z"
   },
   {
    "duration": 48,
    "start_time": "2022-07-26T18:27:41.131Z"
   },
   {
    "duration": 1279,
    "start_time": "2022-07-26T18:27:47.445Z"
   },
   {
    "duration": 96,
    "start_time": "2022-07-26T18:27:48.726Z"
   },
   {
    "duration": 22,
    "start_time": "2022-07-26T18:27:48.824Z"
   },
   {
    "duration": 9,
    "start_time": "2022-07-26T18:27:48.848Z"
   },
   {
    "duration": 16,
    "start_time": "2022-07-26T18:27:48.858Z"
   },
   {
    "duration": 22,
    "start_time": "2022-07-26T18:27:48.875Z"
   },
   {
    "duration": 14,
    "start_time": "2022-07-26T18:27:48.899Z"
   },
   {
    "duration": 23,
    "start_time": "2022-07-26T18:27:48.915Z"
   },
   {
    "duration": 8,
    "start_time": "2022-07-26T18:27:48.939Z"
   },
   {
    "duration": 6,
    "start_time": "2022-07-26T18:27:48.956Z"
   },
   {
    "duration": 10,
    "start_time": "2022-07-26T18:27:49.026Z"
   },
   {
    "duration": 4,
    "start_time": "2022-07-26T18:27:49.523Z"
   },
   {
    "duration": 4,
    "start_time": "2022-07-26T18:27:49.607Z"
   },
   {
    "duration": 9,
    "start_time": "2022-07-26T18:27:49.689Z"
   },
   {
    "duration": 6,
    "start_time": "2022-07-26T18:27:49.774Z"
   },
   {
    "duration": 5,
    "start_time": "2022-07-26T18:27:50.956Z"
   },
   {
    "duration": 4,
    "start_time": "2022-07-26T18:27:51.034Z"
   },
   {
    "duration": 10,
    "start_time": "2022-07-26T18:27:51.365Z"
   },
   {
    "duration": 5,
    "start_time": "2022-07-26T18:27:51.617Z"
   },
   {
    "duration": 4,
    "start_time": "2022-07-26T18:27:51.700Z"
   },
   {
    "duration": 3,
    "start_time": "2022-07-26T18:27:51.789Z"
   },
   {
    "duration": 19,
    "start_time": "2022-07-26T18:27:51.866Z"
   },
   {
    "duration": 5,
    "start_time": "2022-07-26T18:27:52.367Z"
   },
   {
    "duration": 12,
    "start_time": "2022-07-26T18:27:52.450Z"
   },
   {
    "duration": 270,
    "start_time": "2022-07-26T18:27:52.853Z"
   },
   {
    "duration": 7,
    "start_time": "2022-07-26T18:27:53.667Z"
   },
   {
    "duration": 15,
    "start_time": "2022-07-26T18:27:53.864Z"
   },
   {
    "duration": 9,
    "start_time": "2022-07-26T18:27:53.916Z"
   },
   {
    "duration": 270,
    "start_time": "2022-07-26T18:27:54.655Z"
   },
   {
    "duration": 427,
    "start_time": "2022-07-26T18:27:58.998Z"
   },
   {
    "duration": 3329,
    "start_time": "2022-07-26T18:27:59.509Z"
   },
   {
    "duration": 226,
    "start_time": "2022-07-26T18:28:02.839Z"
   },
   {
    "duration": 3,
    "start_time": "2022-07-26T18:28:03.066Z"
   },
   {
    "duration": 164,
    "start_time": "2022-07-26T18:28:40.462Z"
   },
   {
    "duration": 66,
    "start_time": "2022-07-26T18:39:58.560Z"
   },
   {
    "duration": 17,
    "start_time": "2022-07-26T18:46:27.742Z"
   },
   {
    "duration": 11,
    "start_time": "2022-07-26T18:46:50.495Z"
   },
   {
    "duration": 7,
    "start_time": "2022-07-26T18:49:39.316Z"
   },
   {
    "duration": 32,
    "start_time": "2022-07-26T18:51:10.134Z"
   },
   {
    "duration": 4,
    "start_time": "2022-07-26T18:51:32.699Z"
   },
   {
    "duration": 49,
    "start_time": "2022-07-26T18:51:33.194Z"
   },
   {
    "duration": 19,
    "start_time": "2022-07-26T18:51:33.266Z"
   },
   {
    "duration": 10,
    "start_time": "2022-07-26T18:51:33.349Z"
   },
   {
    "duration": 13,
    "start_time": "2022-07-26T18:51:33.437Z"
   },
   {
    "duration": 19,
    "start_time": "2022-07-26T18:51:33.767Z"
   },
   {
    "duration": 8,
    "start_time": "2022-07-26T18:51:34.188Z"
   },
   {
    "duration": 9,
    "start_time": "2022-07-26T18:51:34.272Z"
   },
   {
    "duration": 5,
    "start_time": "2022-07-26T18:51:34.525Z"
   },
   {
    "duration": 6,
    "start_time": "2022-07-26T18:51:34.615Z"
   },
   {
    "duration": 10,
    "start_time": "2022-07-26T18:51:34.688Z"
   },
   {
    "duration": 4,
    "start_time": "2022-07-26T18:51:35.198Z"
   },
   {
    "duration": 6,
    "start_time": "2022-07-26T18:51:35.270Z"
   },
   {
    "duration": 10,
    "start_time": "2022-07-26T18:51:35.357Z"
   },
   {
    "duration": 6,
    "start_time": "2022-07-26T18:51:35.438Z"
   },
   {
    "duration": 4,
    "start_time": "2022-07-26T18:51:35.856Z"
   },
   {
    "duration": 4,
    "start_time": "2022-07-26T18:51:35.939Z"
   },
   {
    "duration": 10,
    "start_time": "2022-07-26T18:51:37.561Z"
   },
   {
    "duration": 5,
    "start_time": "2022-07-26T18:51:37.805Z"
   },
   {
    "duration": 4,
    "start_time": "2022-07-26T18:51:37.898Z"
   },
   {
    "duration": 4,
    "start_time": "2022-07-26T18:51:37.970Z"
   },
   {
    "duration": 19,
    "start_time": "2022-07-26T18:51:38.058Z"
   },
   {
    "duration": 5,
    "start_time": "2022-07-26T18:51:39.009Z"
   },
   {
    "duration": 16,
    "start_time": "2022-07-26T18:51:39.016Z"
   },
   {
    "duration": 261,
    "start_time": "2022-07-26T18:51:39.034Z"
   },
   {
    "duration": 7,
    "start_time": "2022-07-26T18:51:39.738Z"
   },
   {
    "duration": 13,
    "start_time": "2022-07-26T18:51:40.025Z"
   },
   {
    "duration": 9,
    "start_time": "2022-07-26T18:51:40.441Z"
   },
   {
    "duration": 273,
    "start_time": "2022-07-26T18:51:40.737Z"
   },
   {
    "duration": 436,
    "start_time": "2022-07-26T18:51:43.210Z"
   },
   {
    "duration": 3252,
    "start_time": "2022-07-26T18:51:43.677Z"
   },
   {
    "duration": 247,
    "start_time": "2022-07-26T18:51:47.077Z"
   },
   {
    "duration": 10,
    "start_time": "2022-07-26T18:51:47.904Z"
   },
   {
    "duration": 11,
    "start_time": "2022-07-26T19:17:19.480Z"
   },
   {
    "duration": 11,
    "start_time": "2022-07-26T19:20:33.409Z"
   },
   {
    "duration": 9,
    "start_time": "2022-07-26T20:18:37.894Z"
   },
   {
    "duration": 11,
    "start_time": "2022-07-26T20:18:51.687Z"
   },
   {
    "duration": 11,
    "start_time": "2022-07-26T20:19:08.703Z"
   },
   {
    "duration": 17,
    "start_time": "2022-07-26T20:19:26.268Z"
   },
   {
    "duration": 5,
    "start_time": "2022-07-26T20:20:21.984Z"
   },
   {
    "duration": 7,
    "start_time": "2022-07-26T20:20:47.971Z"
   },
   {
    "duration": 12,
    "start_time": "2022-07-26T20:21:38.680Z"
   },
   {
    "duration": 11,
    "start_time": "2022-07-26T20:21:53.188Z"
   },
   {
    "duration": 3,
    "start_time": "2022-07-26T20:22:15.737Z"
   },
   {
    "duration": 8,
    "start_time": "2022-07-26T20:22:23.195Z"
   },
   {
    "duration": 6,
    "start_time": "2022-07-26T20:22:24.592Z"
   },
   {
    "duration": 3,
    "start_time": "2022-07-26T20:22:33.937Z"
   },
   {
    "duration": 52,
    "start_time": "2022-07-26T20:22:34.285Z"
   },
   {
    "duration": 18,
    "start_time": "2022-07-26T20:22:34.634Z"
   },
   {
    "duration": 8,
    "start_time": "2022-07-26T20:22:34.944Z"
   },
   {
    "duration": 12,
    "start_time": "2022-07-26T20:22:35.240Z"
   },
   {
    "duration": 18,
    "start_time": "2022-07-26T20:22:36.302Z"
   },
   {
    "duration": 8,
    "start_time": "2022-07-26T20:22:37.639Z"
   },
   {
    "duration": 8,
    "start_time": "2022-07-26T20:22:37.893Z"
   },
   {
    "duration": 4,
    "start_time": "2022-07-26T20:22:38.749Z"
   },
   {
    "duration": 6,
    "start_time": "2022-07-26T20:22:38.983Z"
   },
   {
    "duration": 9,
    "start_time": "2022-07-26T20:22:39.228Z"
   },
   {
    "duration": 4,
    "start_time": "2022-07-26T20:22:40.600Z"
   },
   {
    "duration": 5,
    "start_time": "2022-07-26T20:22:40.740Z"
   },
   {
    "duration": 9,
    "start_time": "2022-07-26T20:22:41.249Z"
   },
   {
    "duration": 6,
    "start_time": "2022-07-26T20:22:41.332Z"
   },
   {
    "duration": 5,
    "start_time": "2022-07-26T20:22:41.744Z"
   },
   {
    "duration": 5,
    "start_time": "2022-07-26T20:22:41.835Z"
   },
   {
    "duration": 10,
    "start_time": "2022-07-26T20:22:42.161Z"
   },
   {
    "duration": 4,
    "start_time": "2022-07-26T20:22:42.436Z"
   },
   {
    "duration": 4,
    "start_time": "2022-07-26T20:22:42.496Z"
   },
   {
    "duration": 4,
    "start_time": "2022-07-26T20:22:42.579Z"
   },
   {
    "duration": 18,
    "start_time": "2022-07-26T20:22:42.667Z"
   },
   {
    "duration": 5,
    "start_time": "2022-07-26T20:22:43.180Z"
   },
   {
    "duration": 11,
    "start_time": "2022-07-26T20:22:43.247Z"
   },
   {
    "duration": 246,
    "start_time": "2022-07-26T20:22:43.341Z"
   },
   {
    "duration": 8,
    "start_time": "2022-07-26T20:22:43.746Z"
   },
   {
    "duration": 13,
    "start_time": "2022-07-26T20:22:43.938Z"
   },
   {
    "duration": 8,
    "start_time": "2022-07-26T20:22:43.995Z"
   },
   {
    "duration": 256,
    "start_time": "2022-07-26T20:22:44.079Z"
   },
   {
    "duration": 415,
    "start_time": "2022-07-26T20:22:46.339Z"
   },
   {
    "duration": 3105,
    "start_time": "2022-07-26T20:22:46.757Z"
   },
   {
    "duration": 9,
    "start_time": "2022-07-26T20:22:49.863Z"
   },
   {
    "duration": 177,
    "start_time": "2022-07-26T20:22:49.873Z"
   },
   {
    "duration": 9,
    "start_time": "2022-07-26T20:22:50.053Z"
   },
   {
    "duration": 0,
    "start_time": "2022-07-26T20:22:50.063Z"
   },
   {
    "duration": 20,
    "start_time": "2022-07-26T20:25:46.221Z"
   },
   {
    "duration": 4,
    "start_time": "2022-07-26T20:26:09.166Z"
   },
   {
    "duration": 1384,
    "start_time": "2022-07-27T15:14:06.893Z"
   },
   {
    "duration": 174,
    "start_time": "2022-07-27T15:14:08.279Z"
   },
   {
    "duration": 21,
    "start_time": "2022-07-27T15:14:08.455Z"
   },
   {
    "duration": 8,
    "start_time": "2022-07-27T15:14:08.478Z"
   },
   {
    "duration": 13,
    "start_time": "2022-07-27T15:14:08.487Z"
   },
   {
    "duration": 19,
    "start_time": "2022-07-27T15:14:09.334Z"
   },
   {
    "duration": 11,
    "start_time": "2022-07-27T15:14:10.524Z"
   },
   {
    "duration": 10,
    "start_time": "2022-07-27T15:14:10.760Z"
   },
   {
    "duration": 5,
    "start_time": "2022-07-27T15:14:11.572Z"
   },
   {
    "duration": 6,
    "start_time": "2022-07-27T15:14:11.915Z"
   },
   {
    "duration": 10,
    "start_time": "2022-07-27T15:14:12.130Z"
   },
   {
    "duration": 5,
    "start_time": "2022-07-27T15:14:13.399Z"
   },
   {
    "duration": 5,
    "start_time": "2022-07-27T15:14:13.479Z"
   },
   {
    "duration": 9,
    "start_time": "2022-07-27T15:14:13.558Z"
   },
   {
    "duration": 6,
    "start_time": "2022-07-27T15:14:13.640Z"
   },
   {
    "duration": 5,
    "start_time": "2022-07-27T15:14:14.058Z"
   },
   {
    "duration": 4,
    "start_time": "2022-07-27T15:14:14.535Z"
   },
   {
    "duration": 10,
    "start_time": "2022-07-27T15:14:15.610Z"
   },
   {
    "duration": 4,
    "start_time": "2022-07-27T15:14:16.853Z"
   },
   {
    "duration": 6,
    "start_time": "2022-07-27T15:14:17.060Z"
   },
   {
    "duration": 4,
    "start_time": "2022-07-27T15:14:17.289Z"
   },
   {
    "duration": 26,
    "start_time": "2022-07-27T15:14:17.503Z"
   },
   {
    "duration": 5,
    "start_time": "2022-07-27T15:14:21.051Z"
   },
   {
    "duration": 12,
    "start_time": "2022-07-27T15:14:21.959Z"
   },
   {
    "duration": 296,
    "start_time": "2022-07-27T15:14:22.203Z"
   },
   {
    "duration": 7,
    "start_time": "2022-07-27T15:14:23.189Z"
   },
   {
    "duration": 18,
    "start_time": "2022-07-27T15:14:23.352Z"
   },
   {
    "duration": 14,
    "start_time": "2022-07-27T15:14:23.436Z"
   },
   {
    "duration": 273,
    "start_time": "2022-07-27T15:14:23.516Z"
   },
   {
    "duration": 478,
    "start_time": "2022-07-27T15:14:26.700Z"
   },
   {
    "duration": 3391,
    "start_time": "2022-07-27T15:14:27.185Z"
   },
   {
    "duration": 271,
    "start_time": "2022-07-27T15:14:30.579Z"
   },
   {
    "duration": 5,
    "start_time": "2022-07-27T15:14:30.851Z"
   },
   {
    "duration": 107,
    "start_time": "2022-07-27T15:14:30.858Z"
   },
   {
    "duration": 4,
    "start_time": "2022-07-27T15:15:23.097Z"
   },
   {
    "duration": 11,
    "start_time": "2022-07-27T15:15:37.868Z"
   },
   {
    "duration": 4,
    "start_time": "2022-07-27T15:15:53.588Z"
   },
   {
    "duration": 49,
    "start_time": "2022-07-27T15:15:54.088Z"
   },
   {
    "duration": 19,
    "start_time": "2022-07-27T15:15:54.164Z"
   },
   {
    "duration": 9,
    "start_time": "2022-07-27T15:15:54.247Z"
   },
   {
    "duration": 13,
    "start_time": "2022-07-27T15:15:54.330Z"
   },
   {
    "duration": 21,
    "start_time": "2022-07-27T15:15:54.676Z"
   },
   {
    "duration": 10,
    "start_time": "2022-07-27T15:15:55.301Z"
   },
   {
    "duration": 13,
    "start_time": "2022-07-27T15:15:55.798Z"
   },
   {
    "duration": 5,
    "start_time": "2022-07-27T15:15:56.044Z"
   },
   {
    "duration": 7,
    "start_time": "2022-07-27T15:15:56.125Z"
   },
   {
    "duration": 11,
    "start_time": "2022-07-27T15:15:56.218Z"
   },
   {
    "duration": 6,
    "start_time": "2022-07-27T15:15:56.717Z"
   },
   {
    "duration": 6,
    "start_time": "2022-07-27T15:15:56.792Z"
   },
   {
    "duration": 13,
    "start_time": "2022-07-27T15:15:56.875Z"
   },
   {
    "duration": 7,
    "start_time": "2022-07-27T15:15:56.958Z"
   },
   {
    "duration": 5,
    "start_time": "2022-07-27T15:15:57.772Z"
   },
   {
    "duration": 6,
    "start_time": "2022-07-27T15:15:58.010Z"
   },
   {
    "duration": 9,
    "start_time": "2022-07-27T15:15:58.772Z"
   },
   {
    "duration": 5,
    "start_time": "2022-07-27T15:15:59.014Z"
   },
   {
    "duration": 6,
    "start_time": "2022-07-27T15:15:59.096Z"
   },
   {
    "duration": 4,
    "start_time": "2022-07-27T15:15:59.181Z"
   },
   {
    "duration": 18,
    "start_time": "2022-07-27T15:15:59.268Z"
   },
   {
    "duration": 8,
    "start_time": "2022-07-27T15:16:00.909Z"
   },
   {
    "duration": 17,
    "start_time": "2022-07-27T15:16:00.983Z"
   },
   {
    "duration": 271,
    "start_time": "2022-07-27T15:16:01.064Z"
   },
   {
    "duration": 8,
    "start_time": "2022-07-27T15:16:01.486Z"
   },
   {
    "duration": 13,
    "start_time": "2022-07-27T15:16:01.654Z"
   },
   {
    "duration": 9,
    "start_time": "2022-07-27T15:16:01.738Z"
   },
   {
    "duration": 272,
    "start_time": "2022-07-27T15:16:01.820Z"
   },
   {
    "duration": 441,
    "start_time": "2022-07-27T15:16:03.608Z"
   },
   {
    "duration": 3417,
    "start_time": "2022-07-27T15:16:04.051Z"
   },
   {
    "duration": 206,
    "start_time": "2022-07-27T15:16:07.471Z"
   },
   {
    "duration": 5,
    "start_time": "2022-07-27T15:16:07.679Z"
   },
   {
    "duration": 36,
    "start_time": "2022-07-27T15:16:07.687Z"
   },
   {
    "duration": 47,
    "start_time": "2022-07-27T15:16:07.726Z"
   },
   {
    "duration": 3,
    "start_time": "2022-07-27T15:16:37.140Z"
   },
   {
    "duration": 12,
    "start_time": "2022-07-27T15:16:37.912Z"
   },
   {
    "duration": 3,
    "start_time": "2022-07-27T15:43:48.191Z"
   },
   {
    "duration": 45,
    "start_time": "2022-07-27T15:43:48.202Z"
   },
   {
    "duration": 19,
    "start_time": "2022-07-27T15:43:48.249Z"
   },
   {
    "duration": 10,
    "start_time": "2022-07-27T15:43:48.270Z"
   },
   {
    "duration": 13,
    "start_time": "2022-07-27T15:43:48.287Z"
   },
   {
    "duration": 19,
    "start_time": "2022-07-27T15:43:48.632Z"
   },
   {
    "duration": 10,
    "start_time": "2022-07-27T15:43:49.051Z"
   },
   {
    "duration": 9,
    "start_time": "2022-07-27T15:43:49.148Z"
   },
   {
    "duration": 4,
    "start_time": "2022-07-27T15:43:49.375Z"
   },
   {
    "duration": 6,
    "start_time": "2022-07-27T15:43:49.454Z"
   },
   {
    "duration": 9,
    "start_time": "2022-07-27T15:43:49.551Z"
   },
   {
    "duration": 5,
    "start_time": "2022-07-27T15:43:50.049Z"
   },
   {
    "duration": 5,
    "start_time": "2022-07-27T15:43:50.147Z"
   },
   {
    "duration": 8,
    "start_time": "2022-07-27T15:43:50.207Z"
   },
   {
    "duration": 6,
    "start_time": "2022-07-27T15:43:50.289Z"
   },
   {
    "duration": 5,
    "start_time": "2022-07-27T15:43:50.747Z"
   },
   {
    "duration": 4,
    "start_time": "2022-07-27T15:43:50.795Z"
   },
   {
    "duration": 9,
    "start_time": "2022-07-27T15:43:51.148Z"
   },
   {
    "duration": 5,
    "start_time": "2022-07-27T15:43:51.382Z"
   },
   {
    "duration": 5,
    "start_time": "2022-07-27T15:43:51.463Z"
   },
   {
    "duration": 4,
    "start_time": "2022-07-27T15:43:51.555Z"
   },
   {
    "duration": 18,
    "start_time": "2022-07-27T15:43:51.648Z"
   },
   {
    "duration": 6,
    "start_time": "2022-07-27T15:43:52.147Z"
   },
   {
    "duration": 13,
    "start_time": "2022-07-27T15:43:52.243Z"
   },
   {
    "duration": 321,
    "start_time": "2022-07-27T15:43:52.302Z"
   },
   {
    "duration": 9,
    "start_time": "2022-07-27T15:43:54.177Z"
   },
   {
    "duration": 12,
    "start_time": "2022-07-27T15:43:55.377Z"
   },
   {
    "duration": 9,
    "start_time": "2022-07-27T15:43:56.407Z"
   },
   {
    "duration": 298,
    "start_time": "2022-07-27T15:43:56.953Z"
   },
   {
    "duration": 410,
    "start_time": "2022-07-27T15:44:00.352Z"
   },
   {
    "duration": 3065,
    "start_time": "2022-07-27T15:44:00.764Z"
   },
   {
    "duration": 152,
    "start_time": "2022-07-27T15:44:03.831Z"
   },
   {
    "duration": 4,
    "start_time": "2022-07-27T15:44:08.156Z"
   },
   {
    "duration": 11,
    "start_time": "2022-07-27T15:44:10.347Z"
   },
   {
    "duration": 20,
    "start_time": "2022-07-27T15:44:11.254Z"
   },
   {
    "duration": 11,
    "start_time": "2022-07-27T15:48:32.807Z"
   },
   {
    "duration": 11,
    "start_time": "2022-07-27T15:48:44.186Z"
   },
   {
    "duration": 3,
    "start_time": "2022-07-27T15:49:05.507Z"
   },
   {
    "duration": 7,
    "start_time": "2022-07-27T15:49:08.893Z"
   },
   {
    "duration": 4,
    "start_time": "2022-07-27T15:51:37.861Z"
   },
   {
    "duration": 53,
    "start_time": "2022-07-27T15:51:37.868Z"
   },
   {
    "duration": 20,
    "start_time": "2022-07-27T15:51:37.923Z"
   },
   {
    "duration": 8,
    "start_time": "2022-07-27T15:51:37.945Z"
   },
   {
    "duration": 13,
    "start_time": "2022-07-27T15:51:37.955Z"
   },
   {
    "duration": 39,
    "start_time": "2022-07-27T15:51:37.969Z"
   },
   {
    "duration": 7,
    "start_time": "2022-07-27T15:51:38.010Z"
   },
   {
    "duration": 8,
    "start_time": "2022-07-27T15:51:38.018Z"
   },
   {
    "duration": 4,
    "start_time": "2022-07-27T15:51:38.027Z"
   },
   {
    "duration": 6,
    "start_time": "2022-07-27T15:51:38.033Z"
   },
   {
    "duration": 9,
    "start_time": "2022-07-27T15:51:38.040Z"
   },
   {
    "duration": 5,
    "start_time": "2022-07-27T15:51:38.051Z"
   },
   {
    "duration": 46,
    "start_time": "2022-07-27T15:51:38.057Z"
   },
   {
    "duration": 10,
    "start_time": "2022-07-27T15:51:38.104Z"
   },
   {
    "duration": 8,
    "start_time": "2022-07-27T15:51:38.116Z"
   },
   {
    "duration": 6,
    "start_time": "2022-07-27T15:51:38.126Z"
   },
   {
    "duration": 5,
    "start_time": "2022-07-27T15:51:38.133Z"
   },
   {
    "duration": 12,
    "start_time": "2022-07-27T15:51:38.140Z"
   },
   {
    "duration": 12,
    "start_time": "2022-07-27T15:51:38.154Z"
   },
   {
    "duration": 8,
    "start_time": "2022-07-27T15:51:38.168Z"
   },
   {
    "duration": 24,
    "start_time": "2022-07-27T15:51:38.178Z"
   },
   {
    "duration": 22,
    "start_time": "2022-07-27T15:51:38.204Z"
   },
   {
    "duration": 6,
    "start_time": "2022-07-27T15:51:38.229Z"
   },
   {
    "duration": 14,
    "start_time": "2022-07-27T15:51:38.237Z"
   },
   {
    "duration": 393,
    "start_time": "2022-07-27T15:51:38.252Z"
   },
   {
    "duration": 8,
    "start_time": "2022-07-27T15:51:38.647Z"
   },
   {
    "duration": 12,
    "start_time": "2022-07-27T15:51:38.656Z"
   },
   {
    "duration": 8,
    "start_time": "2022-07-27T15:51:38.670Z"
   },
   {
    "duration": 286,
    "start_time": "2022-07-27T15:51:38.702Z"
   },
   {
    "duration": 432,
    "start_time": "2022-07-27T15:51:38.990Z"
   },
   {
    "duration": 3068,
    "start_time": "2022-07-27T15:51:39.423Z"
   },
   {
    "duration": 162,
    "start_time": "2022-07-27T15:51:42.492Z"
   },
   {
    "duration": 4,
    "start_time": "2022-07-27T15:51:42.655Z"
   },
   {
    "duration": 5,
    "start_time": "2022-07-27T15:51:47.548Z"
   },
   {
    "duration": 19,
    "start_time": "2022-07-27T15:51:49.807Z"
   },
   {
    "duration": 10,
    "start_time": "2022-07-27T15:51:52.939Z"
   },
   {
    "duration": 4,
    "start_time": "2022-07-27T15:52:10.106Z"
   },
   {
    "duration": 7,
    "start_time": "2022-07-27T15:52:12.143Z"
   },
   {
    "duration": 4,
    "start_time": "2022-07-27T15:59:41.051Z"
   },
   {
    "duration": 54,
    "start_time": "2022-07-27T15:59:41.056Z"
   },
   {
    "duration": 18,
    "start_time": "2022-07-27T15:59:41.112Z"
   },
   {
    "duration": 10,
    "start_time": "2022-07-27T15:59:41.131Z"
   },
   {
    "duration": 17,
    "start_time": "2022-07-27T15:59:41.143Z"
   },
   {
    "duration": 43,
    "start_time": "2022-07-27T15:59:41.162Z"
   },
   {
    "duration": 12,
    "start_time": "2022-07-27T15:59:41.208Z"
   },
   {
    "duration": 14,
    "start_time": "2022-07-27T15:59:41.221Z"
   },
   {
    "duration": 5,
    "start_time": "2022-07-27T15:59:41.237Z"
   },
   {
    "duration": 12,
    "start_time": "2022-07-27T15:59:41.244Z"
   },
   {
    "duration": 13,
    "start_time": "2022-07-27T15:59:41.258Z"
   },
   {
    "duration": 6,
    "start_time": "2022-07-27T15:59:41.273Z"
   },
   {
    "duration": 38,
    "start_time": "2022-07-27T15:59:41.281Z"
   },
   {
    "duration": 10,
    "start_time": "2022-07-27T15:59:41.322Z"
   },
   {
    "duration": 6,
    "start_time": "2022-07-27T15:59:41.333Z"
   },
   {
    "duration": 5,
    "start_time": "2022-07-27T15:59:41.340Z"
   },
   {
    "duration": 4,
    "start_time": "2022-07-27T15:59:41.347Z"
   },
   {
    "duration": 11,
    "start_time": "2022-07-27T15:59:41.353Z"
   },
   {
    "duration": 6,
    "start_time": "2022-07-27T15:59:41.365Z"
   },
   {
    "duration": 13,
    "start_time": "2022-07-27T15:59:41.373Z"
   },
   {
    "duration": 18,
    "start_time": "2022-07-27T15:59:41.387Z"
   },
   {
    "duration": 29,
    "start_time": "2022-07-27T15:59:41.406Z"
   },
   {
    "duration": 7,
    "start_time": "2022-07-27T15:59:41.437Z"
   },
   {
    "duration": 17,
    "start_time": "2022-07-27T15:59:41.446Z"
   },
   {
    "duration": 256,
    "start_time": "2022-07-27T15:59:41.465Z"
   },
   {
    "duration": 7,
    "start_time": "2022-07-27T15:59:41.722Z"
   },
   {
    "duration": 12,
    "start_time": "2022-07-27T15:59:41.731Z"
   },
   {
    "duration": 7,
    "start_time": "2022-07-27T15:59:41.745Z"
   },
   {
    "duration": 299,
    "start_time": "2022-07-27T15:59:41.753Z"
   },
   {
    "duration": 612,
    "start_time": "2022-07-27T15:59:42.054Z"
   },
   {
    "duration": 3295,
    "start_time": "2022-07-27T15:59:42.668Z"
   },
   {
    "duration": 177,
    "start_time": "2022-07-27T15:59:45.965Z"
   },
   {
    "duration": 19,
    "start_time": "2022-07-27T15:59:51.881Z"
   },
   {
    "duration": 5,
    "start_time": "2022-07-27T16:00:01.473Z"
   },
   {
    "duration": 6,
    "start_time": "2022-07-27T16:00:13.195Z"
   },
   {
    "duration": 11,
    "start_time": "2022-07-27T16:04:24.845Z"
   },
   {
    "duration": 8,
    "start_time": "2022-07-27T16:05:19.641Z"
   },
   {
    "duration": 925,
    "start_time": "2022-07-27T16:05:28.851Z"
   },
   {
    "duration": 20,
    "start_time": "2022-07-27T16:05:36.638Z"
   },
   {
    "duration": 11,
    "start_time": "2022-07-27T16:22:38.333Z"
   },
   {
    "duration": 12,
    "start_time": "2022-07-27T16:23:25.440Z"
   },
   {
    "duration": 4,
    "start_time": "2022-07-27T16:23:50.560Z"
   },
   {
    "duration": 8,
    "start_time": "2022-07-27T16:23:53.829Z"
   },
   {
    "duration": 3,
    "start_time": "2022-07-27T16:24:19.634Z"
   },
   {
    "duration": 68,
    "start_time": "2022-07-27T16:24:19.640Z"
   },
   {
    "duration": 19,
    "start_time": "2022-07-27T16:24:19.709Z"
   },
   {
    "duration": 11,
    "start_time": "2022-07-27T16:24:19.730Z"
   },
   {
    "duration": 18,
    "start_time": "2022-07-27T16:24:19.742Z"
   },
   {
    "duration": 27,
    "start_time": "2022-07-27T16:24:19.761Z"
   },
   {
    "duration": 15,
    "start_time": "2022-07-27T16:24:19.789Z"
   },
   {
    "duration": 17,
    "start_time": "2022-07-27T16:24:19.806Z"
   },
   {
    "duration": 13,
    "start_time": "2022-07-27T16:24:19.825Z"
   },
   {
    "duration": 27,
    "start_time": "2022-07-27T16:24:19.840Z"
   },
   {
    "duration": 19,
    "start_time": "2022-07-27T16:24:19.868Z"
   },
   {
    "duration": 14,
    "start_time": "2022-07-27T16:24:19.888Z"
   },
   {
    "duration": 25,
    "start_time": "2022-07-27T16:24:19.904Z"
   },
   {
    "duration": 13,
    "start_time": "2022-07-27T16:24:19.931Z"
   },
   {
    "duration": 21,
    "start_time": "2022-07-27T16:24:19.946Z"
   },
   {
    "duration": 12,
    "start_time": "2022-07-27T16:24:19.968Z"
   },
   {
    "duration": 28,
    "start_time": "2022-07-27T16:24:19.981Z"
   },
   {
    "duration": 27,
    "start_time": "2022-07-27T16:24:20.011Z"
   },
   {
    "duration": 27,
    "start_time": "2022-07-27T16:24:20.040Z"
   },
   {
    "duration": 12,
    "start_time": "2022-07-27T16:24:20.069Z"
   },
   {
    "duration": 22,
    "start_time": "2022-07-27T16:24:20.082Z"
   },
   {
    "duration": 25,
    "start_time": "2022-07-27T16:24:20.106Z"
   },
   {
    "duration": 35,
    "start_time": "2022-07-27T16:24:20.133Z"
   },
   {
    "duration": 28,
    "start_time": "2022-07-27T16:24:20.170Z"
   },
   {
    "duration": 246,
    "start_time": "2022-07-27T16:24:20.200Z"
   },
   {
    "duration": 7,
    "start_time": "2022-07-27T16:24:20.448Z"
   },
   {
    "duration": 21,
    "start_time": "2022-07-27T16:24:20.457Z"
   },
   {
    "duration": 25,
    "start_time": "2022-07-27T16:24:20.480Z"
   },
   {
    "duration": 267,
    "start_time": "2022-07-27T16:24:20.506Z"
   },
   {
    "duration": 422,
    "start_time": "2022-07-27T16:24:20.774Z"
   },
   {
    "duration": 3027,
    "start_time": "2022-07-27T16:24:21.198Z"
   },
   {
    "duration": 161,
    "start_time": "2022-07-27T16:24:24.227Z"
   },
   {
    "duration": 5,
    "start_time": "2022-07-27T16:24:24.389Z"
   },
   {
    "duration": 6,
    "start_time": "2022-07-27T16:24:26.442Z"
   },
   {
    "duration": 2,
    "start_time": "2022-07-27T16:24:27.632Z"
   },
   {
    "duration": 20,
    "start_time": "2022-07-27T16:24:28.099Z"
   },
   {
    "duration": 4,
    "start_time": "2022-07-27T16:25:00.394Z"
   },
   {
    "duration": 7,
    "start_time": "2022-07-27T16:25:04.387Z"
   },
   {
    "duration": 3,
    "start_time": "2022-07-27T16:26:10.067Z"
   },
   {
    "duration": 50,
    "start_time": "2022-07-27T16:26:10.072Z"
   },
   {
    "duration": 19,
    "start_time": "2022-07-27T16:26:10.124Z"
   },
   {
    "duration": 11,
    "start_time": "2022-07-27T16:26:10.144Z"
   },
   {
    "duration": 12,
    "start_time": "2022-07-27T16:26:10.156Z"
   },
   {
    "duration": 38,
    "start_time": "2022-07-27T16:26:10.170Z"
   },
   {
    "duration": 13,
    "start_time": "2022-07-27T16:26:10.209Z"
   },
   {
    "duration": 9,
    "start_time": "2022-07-27T16:26:10.223Z"
   },
   {
    "duration": 4,
    "start_time": "2022-07-27T16:26:10.233Z"
   },
   {
    "duration": 9,
    "start_time": "2022-07-27T16:26:10.239Z"
   },
   {
    "duration": 8,
    "start_time": "2022-07-27T16:26:10.251Z"
   },
   {
    "duration": 15,
    "start_time": "2022-07-27T16:26:10.260Z"
   },
   {
    "duration": 12,
    "start_time": "2022-07-27T16:26:10.277Z"
   },
   {
    "duration": 17,
    "start_time": "2022-07-27T16:26:10.291Z"
   },
   {
    "duration": 8,
    "start_time": "2022-07-27T16:26:10.310Z"
   },
   {
    "duration": 5,
    "start_time": "2022-07-27T16:26:10.319Z"
   },
   {
    "duration": 6,
    "start_time": "2022-07-27T16:26:10.326Z"
   },
   {
    "duration": 11,
    "start_time": "2022-07-27T16:26:10.333Z"
   },
   {
    "duration": 5,
    "start_time": "2022-07-27T16:26:10.345Z"
   },
   {
    "duration": 6,
    "start_time": "2022-07-27T16:26:10.351Z"
   },
   {
    "duration": 6,
    "start_time": "2022-07-27T16:26:10.359Z"
   },
   {
    "duration": 37,
    "start_time": "2022-07-27T16:26:10.366Z"
   },
   {
    "duration": 5,
    "start_time": "2022-07-27T16:26:10.405Z"
   },
   {
    "duration": 14,
    "start_time": "2022-07-27T16:26:10.412Z"
   },
   {
    "duration": 259,
    "start_time": "2022-07-27T16:26:10.428Z"
   },
   {
    "duration": 14,
    "start_time": "2022-07-27T16:26:10.689Z"
   },
   {
    "duration": 13,
    "start_time": "2022-07-27T16:26:10.705Z"
   },
   {
    "duration": 7,
    "start_time": "2022-07-27T16:26:10.719Z"
   },
   {
    "duration": 280,
    "start_time": "2022-07-27T16:26:10.729Z"
   },
   {
    "duration": 578,
    "start_time": "2022-07-27T16:26:11.011Z"
   },
   {
    "duration": 3063,
    "start_time": "2022-07-27T16:26:11.591Z"
   },
   {
    "duration": 159,
    "start_time": "2022-07-27T16:26:14.655Z"
   },
   {
    "duration": 4,
    "start_time": "2022-07-27T16:26:14.815Z"
   },
   {
    "duration": 3,
    "start_time": "2022-07-27T16:26:21.971Z"
   },
   {
    "duration": 19,
    "start_time": "2022-07-27T16:26:24.171Z"
   },
   {
    "duration": 12,
    "start_time": "2022-07-27T16:26:32.669Z"
   },
   {
    "duration": 12,
    "start_time": "2022-07-27T16:27:44.183Z"
   },
   {
    "duration": 4,
    "start_time": "2022-07-27T17:05:07.782Z"
   },
   {
    "duration": 7,
    "start_time": "2022-07-27T17:05:21.354Z"
   },
   {
    "duration": 3,
    "start_time": "2022-07-27T17:51:18.665Z"
   },
   {
    "duration": 58,
    "start_time": "2022-07-27T17:51:18.672Z"
   },
   {
    "duration": 18,
    "start_time": "2022-07-27T17:51:18.732Z"
   },
   {
    "duration": 10,
    "start_time": "2022-07-27T17:51:18.752Z"
   },
   {
    "duration": 12,
    "start_time": "2022-07-27T17:51:18.764Z"
   },
   {
    "duration": 46,
    "start_time": "2022-07-27T17:51:18.778Z"
   },
   {
    "duration": 8,
    "start_time": "2022-07-27T17:51:18.825Z"
   },
   {
    "duration": 9,
    "start_time": "2022-07-27T17:51:18.834Z"
   },
   {
    "duration": 5,
    "start_time": "2022-07-27T17:51:18.844Z"
   },
   {
    "duration": 7,
    "start_time": "2022-07-27T17:51:18.850Z"
   },
   {
    "duration": 13,
    "start_time": "2022-07-27T17:51:18.858Z"
   },
   {
    "duration": 7,
    "start_time": "2022-07-27T17:51:18.901Z"
   },
   {
    "duration": 18,
    "start_time": "2022-07-27T17:51:18.909Z"
   },
   {
    "duration": 15,
    "start_time": "2022-07-27T17:51:18.929Z"
   },
   {
    "duration": 8,
    "start_time": "2022-07-27T17:51:18.947Z"
   },
   {
    "duration": 5,
    "start_time": "2022-07-27T17:51:18.957Z"
   },
   {
    "duration": 8,
    "start_time": "2022-07-27T17:51:18.963Z"
   },
   {
    "duration": 12,
    "start_time": "2022-07-27T17:51:18.972Z"
   },
   {
    "duration": 16,
    "start_time": "2022-07-27T17:51:18.986Z"
   },
   {
    "duration": 12,
    "start_time": "2022-07-27T17:51:19.004Z"
   },
   {
    "duration": 8,
    "start_time": "2022-07-27T17:51:19.018Z"
   },
   {
    "duration": 20,
    "start_time": "2022-07-27T17:51:19.028Z"
   },
   {
    "duration": 5,
    "start_time": "2022-07-27T17:51:19.050Z"
   },
   {
    "duration": 12,
    "start_time": "2022-07-27T17:51:19.057Z"
   },
   {
    "duration": 312,
    "start_time": "2022-07-27T17:51:19.102Z"
   },
   {
    "duration": 14,
    "start_time": "2022-07-27T17:51:19.416Z"
   },
   {
    "duration": 19,
    "start_time": "2022-07-27T17:51:19.432Z"
   },
   {
    "duration": 10,
    "start_time": "2022-07-27T17:51:19.453Z"
   },
   {
    "duration": 330,
    "start_time": "2022-07-27T17:51:19.465Z"
   },
   {
    "duration": 516,
    "start_time": "2022-07-27T17:51:19.796Z"
   },
   {
    "duration": 3486,
    "start_time": "2022-07-27T17:51:20.313Z"
   },
   {
    "duration": 174,
    "start_time": "2022-07-27T17:51:23.801Z"
   },
   {
    "duration": 6,
    "start_time": "2022-07-27T17:51:23.977Z"
   },
   {
    "duration": 5,
    "start_time": "2022-07-27T17:51:36.591Z"
   },
   {
    "duration": 29,
    "start_time": "2022-07-27T17:51:38.737Z"
   },
   {
    "duration": 4,
    "start_time": "2022-07-27T17:51:43.344Z"
   },
   {
    "duration": 11,
    "start_time": "2022-07-27T17:51:46.244Z"
   },
   {
    "duration": 1322,
    "start_time": "2022-07-27T19:37:19.414Z"
   },
   {
    "duration": 103,
    "start_time": "2022-07-27T19:37:20.738Z"
   },
   {
    "duration": 24,
    "start_time": "2022-07-27T19:37:20.842Z"
   },
   {
    "duration": 8,
    "start_time": "2022-07-27T19:37:20.868Z"
   },
   {
    "duration": 21,
    "start_time": "2022-07-27T19:37:20.878Z"
   },
   {
    "duration": 30,
    "start_time": "2022-07-27T19:37:20.902Z"
   },
   {
    "duration": 10,
    "start_time": "2022-07-27T19:37:21.001Z"
   },
   {
    "duration": 15,
    "start_time": "2022-07-27T19:37:21.014Z"
   },
   {
    "duration": 5,
    "start_time": "2022-07-27T19:37:21.357Z"
   },
   {
    "duration": 10,
    "start_time": "2022-07-27T19:37:21.365Z"
   },
   {
    "duration": 10,
    "start_time": "2022-07-27T19:37:21.516Z"
   },
   {
    "duration": 7,
    "start_time": "2022-07-27T19:37:22.046Z"
   },
   {
    "duration": 21,
    "start_time": "2022-07-27T19:37:22.055Z"
   },
   {
    "duration": 11,
    "start_time": "2022-07-27T19:37:22.141Z"
   },
   {
    "duration": 6,
    "start_time": "2022-07-27T19:37:22.314Z"
   },
   {
    "duration": 5,
    "start_time": "2022-07-27T19:37:23.331Z"
   },
   {
    "duration": 5,
    "start_time": "2022-07-27T19:37:23.497Z"
   },
   {
    "duration": 11,
    "start_time": "2022-07-27T19:37:23.723Z"
   },
   {
    "duration": 7,
    "start_time": "2022-07-27T19:37:24.593Z"
   },
   {
    "duration": 5,
    "start_time": "2022-07-27T19:37:24.739Z"
   },
   {
    "duration": 4,
    "start_time": "2022-07-27T19:37:24.941Z"
   },
   {
    "duration": 19,
    "start_time": "2022-07-27T19:37:25.377Z"
   },
   {
    "duration": 6,
    "start_time": "2022-07-27T19:37:26.233Z"
   },
   {
    "duration": 16,
    "start_time": "2022-07-27T19:37:26.316Z"
   },
   {
    "duration": 357,
    "start_time": "2022-07-27T19:37:26.563Z"
   },
   {
    "duration": 9,
    "start_time": "2022-07-27T19:37:28.258Z"
   },
   {
    "duration": 20,
    "start_time": "2022-07-27T19:37:28.566Z"
   },
   {
    "duration": 13,
    "start_time": "2022-07-27T19:37:29.030Z"
   },
   {
    "duration": 288,
    "start_time": "2022-07-27T19:37:29.306Z"
   },
   {
    "duration": 564,
    "start_time": "2022-07-27T19:37:30.741Z"
   },
   {
    "duration": 3667,
    "start_time": "2022-07-27T19:37:32.098Z"
   },
   {
    "duration": 272,
    "start_time": "2022-07-27T19:37:35.767Z"
   },
   {
    "duration": 6,
    "start_time": "2022-07-27T19:37:36.386Z"
   },
   {
    "duration": 5,
    "start_time": "2022-07-27T19:37:57.241Z"
   },
   {
    "duration": 10,
    "start_time": "2022-07-27T19:37:58.146Z"
   },
   {
    "duration": 4,
    "start_time": "2022-07-27T19:39:23.792Z"
   },
   {
    "duration": 60,
    "start_time": "2022-07-27T19:39:23.797Z"
   },
   {
    "duration": 20,
    "start_time": "2022-07-27T19:39:23.859Z"
   },
   {
    "duration": 16,
    "start_time": "2022-07-27T19:39:23.881Z"
   },
   {
    "duration": 36,
    "start_time": "2022-07-27T19:39:23.899Z"
   },
   {
    "duration": 28,
    "start_time": "2022-07-27T19:39:23.940Z"
   },
   {
    "duration": 9,
    "start_time": "2022-07-27T19:39:23.970Z"
   },
   {
    "duration": 8,
    "start_time": "2022-07-27T19:39:23.981Z"
   },
   {
    "duration": 5,
    "start_time": "2022-07-27T19:39:23.991Z"
   },
   {
    "duration": 8,
    "start_time": "2022-07-27T19:39:23.997Z"
   },
   {
    "duration": 29,
    "start_time": "2022-07-27T19:39:24.007Z"
   },
   {
    "duration": 11,
    "start_time": "2022-07-27T19:39:24.038Z"
   },
   {
    "duration": 7,
    "start_time": "2022-07-27T19:39:24.050Z"
   },
   {
    "duration": 12,
    "start_time": "2022-07-27T19:39:24.058Z"
   },
   {
    "duration": 7,
    "start_time": "2022-07-27T19:39:24.072Z"
   },
   {
    "duration": 6,
    "start_time": "2022-07-27T19:39:24.080Z"
   },
   {
    "duration": 7,
    "start_time": "2022-07-27T19:39:24.087Z"
   },
   {
    "duration": 37,
    "start_time": "2022-07-27T19:39:24.095Z"
   },
   {
    "duration": 7,
    "start_time": "2022-07-27T19:39:24.134Z"
   },
   {
    "duration": 8,
    "start_time": "2022-07-27T19:39:24.142Z"
   },
   {
    "duration": 5,
    "start_time": "2022-07-27T19:39:24.152Z"
   },
   {
    "duration": 19,
    "start_time": "2022-07-27T19:39:24.159Z"
   },
   {
    "duration": 5,
    "start_time": "2022-07-27T19:39:24.180Z"
   },
   {
    "duration": 39,
    "start_time": "2022-07-27T19:39:24.186Z"
   },
   {
    "duration": 306,
    "start_time": "2022-07-27T19:39:24.227Z"
   },
   {
    "duration": 11,
    "start_time": "2022-07-27T19:39:24.535Z"
   },
   {
    "duration": 14,
    "start_time": "2022-07-27T19:39:24.548Z"
   },
   {
    "duration": 12,
    "start_time": "2022-07-27T19:39:24.564Z"
   },
   {
    "duration": 345,
    "start_time": "2022-07-27T19:39:24.580Z"
   },
   {
    "duration": 475,
    "start_time": "2022-07-27T19:39:24.929Z"
   },
   {
    "duration": 3526,
    "start_time": "2022-07-27T19:39:25.405Z"
   },
   {
    "duration": 201,
    "start_time": "2022-07-27T19:39:28.933Z"
   },
   {
    "duration": 5,
    "start_time": "2022-07-27T19:39:29.135Z"
   },
   {
    "duration": 4,
    "start_time": "2022-07-27T19:39:32.044Z"
   },
   {
    "duration": 4,
    "start_time": "2022-07-27T19:39:36.542Z"
   },
   {
    "duration": 9,
    "start_time": "2022-07-27T19:39:37.489Z"
   },
   {
    "duration": 4,
    "start_time": "2022-07-27T19:39:48.521Z"
   },
   {
    "duration": 64,
    "start_time": "2022-07-27T19:39:48.528Z"
   },
   {
    "duration": 19,
    "start_time": "2022-07-27T19:39:48.594Z"
   },
   {
    "duration": 13,
    "start_time": "2022-07-27T19:39:48.614Z"
   },
   {
    "duration": 24,
    "start_time": "2022-07-27T19:39:48.630Z"
   },
   {
    "duration": 20,
    "start_time": "2022-07-27T19:39:48.655Z"
   },
   {
    "duration": 9,
    "start_time": "2022-07-27T19:39:48.676Z"
   },
   {
    "duration": 8,
    "start_time": "2022-07-27T19:39:48.686Z"
   },
   {
    "duration": 5,
    "start_time": "2022-07-27T19:39:48.695Z"
   },
   {
    "duration": 27,
    "start_time": "2022-07-27T19:39:48.701Z"
   },
   {
    "duration": 107,
    "start_time": "2022-07-27T19:39:48.733Z"
   },
   {
    "duration": 5,
    "start_time": "2022-07-27T19:39:48.842Z"
   },
   {
    "duration": 7,
    "start_time": "2022-07-27T19:39:48.848Z"
   },
   {
    "duration": 11,
    "start_time": "2022-07-27T19:39:48.857Z"
   },
   {
    "duration": 18,
    "start_time": "2022-07-27T19:39:48.870Z"
   },
   {
    "duration": 8,
    "start_time": "2022-07-27T19:39:48.889Z"
   },
   {
    "duration": 8,
    "start_time": "2022-07-27T19:39:48.898Z"
   },
   {
    "duration": 17,
    "start_time": "2022-07-27T19:39:48.908Z"
   },
   {
    "duration": 16,
    "start_time": "2022-07-27T19:39:48.927Z"
   },
   {
    "duration": 9,
    "start_time": "2022-07-27T19:39:48.944Z"
   },
   {
    "duration": 6,
    "start_time": "2022-07-27T19:39:48.955Z"
   },
   {
    "duration": 20,
    "start_time": "2022-07-27T19:39:48.963Z"
   },
   {
    "duration": 14,
    "start_time": "2022-07-27T19:39:48.985Z"
   },
   {
    "duration": 11,
    "start_time": "2022-07-27T19:39:49.000Z"
   },
   {
    "duration": 296,
    "start_time": "2022-07-27T19:39:49.013Z"
   },
   {
    "duration": 19,
    "start_time": "2022-07-27T19:39:49.311Z"
   },
   {
    "duration": 33,
    "start_time": "2022-07-27T19:39:49.332Z"
   },
   {
    "duration": 7,
    "start_time": "2022-07-27T19:39:49.367Z"
   },
   {
    "duration": 313,
    "start_time": "2022-07-27T19:39:49.377Z"
   },
   {
    "duration": 493,
    "start_time": "2022-07-27T19:39:49.692Z"
   },
   {
    "duration": 3510,
    "start_time": "2022-07-27T19:39:50.186Z"
   },
   {
    "duration": 197,
    "start_time": "2022-07-27T19:39:53.697Z"
   },
   {
    "duration": 7,
    "start_time": "2022-07-27T19:40:16.832Z"
   },
   {
    "duration": 20,
    "start_time": "2022-07-27T19:40:18.647Z"
   },
   {
    "duration": 5,
    "start_time": "2022-07-27T19:40:27.048Z"
   },
   {
    "duration": 8,
    "start_time": "2022-07-27T19:40:27.759Z"
   },
   {
    "duration": 3,
    "start_time": "2022-07-27T20:24:46.755Z"
   },
   {
    "duration": 62,
    "start_time": "2022-07-27T20:24:46.760Z"
   },
   {
    "duration": 19,
    "start_time": "2022-07-27T20:24:46.824Z"
   },
   {
    "duration": 21,
    "start_time": "2022-07-27T20:24:46.845Z"
   },
   {
    "duration": 17,
    "start_time": "2022-07-27T20:24:46.868Z"
   },
   {
    "duration": 39,
    "start_time": "2022-07-27T20:24:46.887Z"
   },
   {
    "duration": 18,
    "start_time": "2022-07-27T20:24:46.928Z"
   },
   {
    "duration": 26,
    "start_time": "2022-07-27T20:24:46.948Z"
   },
   {
    "duration": 11,
    "start_time": "2022-07-27T20:24:46.975Z"
   },
   {
    "duration": 10,
    "start_time": "2022-07-27T20:24:46.987Z"
   },
   {
    "duration": 12,
    "start_time": "2022-07-27T20:24:47.000Z"
   },
   {
    "duration": 5,
    "start_time": "2022-07-27T20:24:47.013Z"
   },
   {
    "duration": 10,
    "start_time": "2022-07-27T20:24:47.020Z"
   },
   {
    "duration": 15,
    "start_time": "2022-07-27T20:24:47.031Z"
   },
   {
    "duration": 22,
    "start_time": "2022-07-27T20:24:47.047Z"
   },
   {
    "duration": 10,
    "start_time": "2022-07-27T20:24:47.071Z"
   },
   {
    "duration": 20,
    "start_time": "2022-07-27T20:24:47.083Z"
   },
   {
    "duration": 36,
    "start_time": "2022-07-27T20:24:47.105Z"
   },
   {
    "duration": 21,
    "start_time": "2022-07-27T20:24:47.144Z"
   },
   {
    "duration": 14,
    "start_time": "2022-07-27T20:24:47.168Z"
   },
   {
    "duration": 21,
    "start_time": "2022-07-27T20:24:47.184Z"
   },
   {
    "duration": 31,
    "start_time": "2022-07-27T20:24:47.207Z"
   },
   {
    "duration": 15,
    "start_time": "2022-07-27T20:24:47.240Z"
   },
   {
    "duration": 19,
    "start_time": "2022-07-27T20:24:47.257Z"
   },
   {
    "duration": 423,
    "start_time": "2022-07-27T20:24:47.279Z"
   },
   {
    "duration": 8,
    "start_time": "2022-07-27T20:24:47.704Z"
   },
   {
    "duration": 15,
    "start_time": "2022-07-27T20:24:47.723Z"
   },
   {
    "duration": 9,
    "start_time": "2022-07-27T20:24:47.739Z"
   },
   {
    "duration": 328,
    "start_time": "2022-07-27T20:24:47.751Z"
   },
   {
    "duration": 451,
    "start_time": "2022-07-27T20:24:48.080Z"
   },
   {
    "duration": 3256,
    "start_time": "2022-07-27T20:24:48.533Z"
   },
   {
    "duration": 183,
    "start_time": "2022-07-27T20:24:51.792Z"
   },
   {
    "duration": 5,
    "start_time": "2022-07-27T20:24:51.978Z"
   },
   {
    "duration": 5,
    "start_time": "2022-07-27T20:24:54.421Z"
   },
   {
    "duration": 22,
    "start_time": "2022-07-27T20:24:56.957Z"
   },
   {
    "duration": 64,
    "start_time": "2022-07-27T20:25:02.909Z"
   },
   {
    "duration": 5,
    "start_time": "2022-07-27T20:25:13.421Z"
   },
   {
    "duration": 20,
    "start_time": "2022-07-27T20:25:16.021Z"
   },
   {
    "duration": 5,
    "start_time": "2022-07-27T20:34:27.957Z"
   },
   {
    "duration": 3,
    "start_time": "2022-07-27T20:34:33.989Z"
   },
   {
    "duration": 4,
    "start_time": "2022-07-27T20:34:40.607Z"
   },
   {
    "duration": 54,
    "start_time": "2022-07-27T20:35:46.735Z"
   },
   {
    "duration": 3,
    "start_time": "2022-07-27T20:35:52.506Z"
   },
   {
    "duration": 4,
    "start_time": "2022-07-27T20:36:01.687Z"
   },
   {
    "duration": 3,
    "start_time": "2022-07-27T20:36:29.842Z"
   },
   {
    "duration": 8,
    "start_time": "2022-07-27T20:37:14.841Z"
   },
   {
    "duration": 5,
    "start_time": "2022-07-27T20:37:15.767Z"
   },
   {
    "duration": 8,
    "start_time": "2022-07-27T20:37:16.680Z"
   },
   {
    "duration": 4,
    "start_time": "2022-07-27T20:37:22.957Z"
   },
   {
    "duration": 20,
    "start_time": "2022-07-27T20:37:23.571Z"
   },
   {
    "duration": 329,
    "start_time": "2022-07-27T20:37:24.529Z"
   },
   {
    "duration": 4,
    "start_time": "2022-07-27T20:37:51.920Z"
   },
   {
    "duration": 8,
    "start_time": "2022-07-27T20:37:53.907Z"
   },
   {
    "duration": 4,
    "start_time": "2022-07-27T20:37:55.068Z"
   },
   {
    "duration": 3,
    "start_time": "2022-07-27T20:38:06.102Z"
   },
   {
    "duration": 52,
    "start_time": "2022-07-27T20:38:06.108Z"
   },
   {
    "duration": 20,
    "start_time": "2022-07-27T20:38:06.162Z"
   },
   {
    "duration": 13,
    "start_time": "2022-07-27T20:38:06.184Z"
   },
   {
    "duration": 12,
    "start_time": "2022-07-27T20:38:06.199Z"
   },
   {
    "duration": 19,
    "start_time": "2022-07-27T20:38:06.224Z"
   },
   {
    "duration": 12,
    "start_time": "2022-07-27T20:38:06.245Z"
   },
   {
    "duration": 14,
    "start_time": "2022-07-27T20:38:06.260Z"
   },
   {
    "duration": 5,
    "start_time": "2022-07-27T20:38:06.275Z"
   },
   {
    "duration": 15,
    "start_time": "2022-07-27T20:38:06.282Z"
   },
   {
    "duration": 30,
    "start_time": "2022-07-27T20:38:06.299Z"
   },
   {
    "duration": 7,
    "start_time": "2022-07-27T20:38:06.331Z"
   },
   {
    "duration": 13,
    "start_time": "2022-07-27T20:38:06.340Z"
   },
   {
    "duration": 14,
    "start_time": "2022-07-27T20:38:06.354Z"
   },
   {
    "duration": 6,
    "start_time": "2022-07-27T20:38:06.371Z"
   },
   {
    "duration": 10,
    "start_time": "2022-07-27T20:38:06.378Z"
   },
   {
    "duration": 12,
    "start_time": "2022-07-27T20:38:06.389Z"
   },
   {
    "duration": 28,
    "start_time": "2022-07-27T20:38:06.402Z"
   },
   {
    "duration": 9,
    "start_time": "2022-07-27T20:38:06.431Z"
   },
   {
    "duration": 21,
    "start_time": "2022-07-27T20:38:06.442Z"
   },
   {
    "duration": 12,
    "start_time": "2022-07-27T20:38:06.466Z"
   },
   {
    "duration": 31,
    "start_time": "2022-07-27T20:38:06.480Z"
   },
   {
    "duration": 4,
    "start_time": "2022-07-27T20:38:06.512Z"
   },
   {
    "duration": 12,
    "start_time": "2022-07-27T20:38:06.518Z"
   },
   {
    "duration": 284,
    "start_time": "2022-07-27T20:38:06.531Z"
   },
   {
    "duration": 12,
    "start_time": "2022-07-27T20:38:06.817Z"
   },
   {
    "duration": 19,
    "start_time": "2022-07-27T20:38:06.831Z"
   },
   {
    "duration": 10,
    "start_time": "2022-07-27T20:38:06.852Z"
   },
   {
    "duration": 339,
    "start_time": "2022-07-27T20:38:06.864Z"
   },
   {
    "duration": 666,
    "start_time": "2022-07-27T20:38:07.205Z"
   },
   {
    "duration": 3343,
    "start_time": "2022-07-27T20:38:07.873Z"
   },
   {
    "duration": 180,
    "start_time": "2022-07-27T20:38:11.217Z"
   },
   {
    "duration": 5,
    "start_time": "2022-07-27T20:38:11.398Z"
   },
   {
    "duration": 9,
    "start_time": "2022-07-27T20:38:11.404Z"
   },
   {
    "duration": 20,
    "start_time": "2022-07-27T20:38:11.424Z"
   },
   {
    "duration": 4,
    "start_time": "2022-07-27T20:38:11.446Z"
   },
   {
    "duration": 11,
    "start_time": "2022-07-27T20:38:11.451Z"
   },
   {
    "duration": 4,
    "start_time": "2022-07-27T20:38:11.464Z"
   },
   {
    "duration": 4,
    "start_time": "2022-07-27T20:39:18.067Z"
   },
   {
    "duration": 13,
    "start_time": "2022-07-27T20:39:20.003Z"
   },
   {
    "duration": 4,
    "start_time": "2022-07-27T20:39:24.941Z"
   },
   {
    "duration": 20,
    "start_time": "2022-07-27T20:39:26.115Z"
   },
   {
    "duration": 350,
    "start_time": "2022-07-27T20:39:27.024Z"
   },
   {
    "duration": 287,
    "start_time": "2022-07-27T20:39:27.965Z"
   },
   {
    "duration": 20,
    "start_time": "2022-07-27T20:39:30.327Z"
   },
   {
    "duration": 13,
    "start_time": "2022-07-27T20:39:32.634Z"
   },
   {
    "duration": 20,
    "start_time": "2022-07-27T20:39:34.623Z"
   },
   {
    "duration": 259,
    "start_time": "2022-07-27T20:39:35.287Z"
   },
   {
    "duration": 23,
    "start_time": "2022-07-27T20:39:36.269Z"
   },
   {
    "duration": 14,
    "start_time": "2022-07-27T20:39:38.667Z"
   },
   {
    "duration": 13,
    "start_time": "2022-07-27T20:39:42.728Z"
   },
   {
    "duration": 132,
    "start_time": "2022-07-27T20:39:42.968Z"
   },
   {
    "duration": 13,
    "start_time": "2022-07-27T20:39:43.558Z"
   },
   {
    "duration": 123,
    "start_time": "2022-07-27T20:39:43.800Z"
   },
   {
    "duration": 11,
    "start_time": "2022-07-27T20:39:44.277Z"
   },
   {
    "duration": 180,
    "start_time": "2022-07-27T20:39:44.518Z"
   },
   {
    "duration": 12,
    "start_time": "2022-07-27T20:39:45.281Z"
   },
   {
    "duration": 128,
    "start_time": "2022-07-27T20:39:45.589Z"
   },
   {
    "duration": 12,
    "start_time": "2022-07-27T20:39:46.092Z"
   },
   {
    "duration": 123,
    "start_time": "2022-07-27T20:39:46.753Z"
   },
   {
    "duration": 17,
    "start_time": "2022-07-27T20:39:47.373Z"
   },
   {
    "duration": 113,
    "start_time": "2022-07-27T20:39:47.557Z"
   },
   {
    "duration": 12,
    "start_time": "2022-07-27T20:39:48.758Z"
   },
   {
    "duration": 123,
    "start_time": "2022-07-27T20:39:48.946Z"
   },
   {
    "duration": 12,
    "start_time": "2022-07-27T20:39:49.545Z"
   },
   {
    "duration": 153,
    "start_time": "2022-07-27T20:39:49.929Z"
   },
   {
    "duration": 13,
    "start_time": "2022-07-27T20:39:50.440Z"
   },
   {
    "duration": 127,
    "start_time": "2022-07-27T20:39:50.653Z"
   },
   {
    "duration": 8,
    "start_time": "2022-07-27T20:39:52.282Z"
   },
   {
    "duration": 8,
    "start_time": "2022-07-27T20:39:53.610Z"
   },
   {
    "duration": 7,
    "start_time": "2022-07-27T20:39:56.847Z"
   },
   {
    "duration": 12,
    "start_time": "2022-07-27T20:39:57.073Z"
   },
   {
    "duration": 1269,
    "start_time": "2022-07-28T15:19:50.138Z"
   },
   {
    "duration": 235,
    "start_time": "2022-07-28T15:19:51.409Z"
   },
   {
    "duration": 33,
    "start_time": "2022-07-28T15:19:51.646Z"
   },
   {
    "duration": 11,
    "start_time": "2022-07-28T15:19:51.681Z"
   },
   {
    "duration": 26,
    "start_time": "2022-07-28T15:19:51.915Z"
   },
   {
    "duration": 35,
    "start_time": "2022-07-28T15:19:53.020Z"
   },
   {
    "duration": 10,
    "start_time": "2022-07-28T15:19:54.413Z"
   },
   {
    "duration": 8,
    "start_time": "2022-07-28T15:19:54.676Z"
   },
   {
    "duration": 5,
    "start_time": "2022-07-28T15:19:55.498Z"
   },
   {
    "duration": 6,
    "start_time": "2022-07-28T15:19:55.748Z"
   },
   {
    "duration": 9,
    "start_time": "2022-07-28T15:19:56.008Z"
   },
   {
    "duration": 9,
    "start_time": "2022-07-28T15:19:57.537Z"
   },
   {
    "duration": 8,
    "start_time": "2022-07-28T15:19:57.786Z"
   },
   {
    "duration": 14,
    "start_time": "2022-07-28T15:20:02.551Z"
   },
   {
    "duration": 7,
    "start_time": "2022-07-28T15:20:03.051Z"
   },
   {
    "duration": 5,
    "start_time": "2022-07-28T15:20:03.457Z"
   },
   {
    "duration": 7,
    "start_time": "2022-07-28T15:20:03.540Z"
   },
   {
    "duration": 16,
    "start_time": "2022-07-28T15:20:03.864Z"
   },
   {
    "duration": 6,
    "start_time": "2022-07-28T15:20:04.115Z"
   },
   {
    "duration": 5,
    "start_time": "2022-07-28T15:20:04.197Z"
   },
   {
    "duration": 4,
    "start_time": "2022-07-28T15:20:04.282Z"
   },
   {
    "duration": 20,
    "start_time": "2022-07-28T15:20:04.364Z"
   },
   {
    "duration": 6,
    "start_time": "2022-07-28T15:20:06.098Z"
   },
   {
    "duration": 13,
    "start_time": "2022-07-28T15:20:06.182Z"
   },
   {
    "duration": 293,
    "start_time": "2022-07-28T15:20:06.263Z"
   },
   {
    "duration": 7,
    "start_time": "2022-07-28T15:20:06.685Z"
   },
   {
    "duration": 13,
    "start_time": "2022-07-28T15:20:06.849Z"
   },
   {
    "duration": 9,
    "start_time": "2022-07-28T15:20:06.956Z"
   },
   {
    "duration": 299,
    "start_time": "2022-07-28T15:20:07.017Z"
   },
   {
    "duration": 513,
    "start_time": "2022-07-28T15:20:07.681Z"
   },
   {
    "duration": 3346,
    "start_time": "2022-07-28T15:20:08.196Z"
   },
   {
    "duration": 248,
    "start_time": "2022-07-28T15:20:11.544Z"
   },
   {
    "duration": 4,
    "start_time": "2022-07-28T15:20:11.794Z"
   },
   {
    "duration": 17,
    "start_time": "2022-07-28T15:20:11.800Z"
   },
   {
    "duration": 46,
    "start_time": "2022-07-28T15:20:11.819Z"
   },
   {
    "duration": 10,
    "start_time": "2022-07-28T15:20:11.867Z"
   },
   {
    "duration": 33,
    "start_time": "2022-07-28T15:20:11.879Z"
   },
   {
    "duration": 5,
    "start_time": "2022-07-28T15:20:11.914Z"
   },
   {
    "duration": 45,
    "start_time": "2022-07-28T15:20:11.920Z"
   },
   {
    "duration": 23,
    "start_time": "2022-07-28T15:20:11.967Z"
   },
   {
    "duration": 48,
    "start_time": "2022-07-28T15:20:11.992Z"
   },
   {
    "duration": 321,
    "start_time": "2022-07-28T15:20:12.041Z"
   },
   {
    "duration": 292,
    "start_time": "2022-07-28T15:20:12.363Z"
   },
   {
    "duration": 16,
    "start_time": "2022-07-28T15:20:12.657Z"
   },
   {
    "duration": 10,
    "start_time": "2022-07-28T15:20:12.674Z"
   },
   {
    "duration": 14,
    "start_time": "2022-07-28T15:20:12.685Z"
   },
   {
    "duration": 273,
    "start_time": "2022-07-28T15:20:12.701Z"
   },
   {
    "duration": 26,
    "start_time": "2022-07-28T15:20:12.976Z"
   },
   {
    "duration": 45,
    "start_time": "2022-07-28T15:20:13.005Z"
   },
   {
    "duration": 10,
    "start_time": "2022-07-28T15:20:13.051Z"
   },
   {
    "duration": 109,
    "start_time": "2022-07-28T15:20:13.063Z"
   },
   {
    "duration": 11,
    "start_time": "2022-07-28T15:20:13.173Z"
   },
   {
    "duration": 139,
    "start_time": "2022-07-28T15:20:13.186Z"
   },
   {
    "duration": 25,
    "start_time": "2022-07-28T15:20:13.326Z"
   },
   {
    "duration": 116,
    "start_time": "2022-07-28T15:20:13.353Z"
   },
   {
    "duration": 13,
    "start_time": "2022-07-28T15:20:13.471Z"
   },
   {
    "duration": 146,
    "start_time": "2022-07-28T15:20:13.486Z"
   },
   {
    "duration": 13,
    "start_time": "2022-07-28T15:20:13.635Z"
   },
   {
    "duration": 133,
    "start_time": "2022-07-28T15:20:13.650Z"
   },
   {
    "duration": 11,
    "start_time": "2022-07-28T15:20:13.785Z"
   },
   {
    "duration": 126,
    "start_time": "2022-07-28T15:20:13.798Z"
   },
   {
    "duration": 24,
    "start_time": "2022-07-28T15:20:13.926Z"
   },
   {
    "duration": 120,
    "start_time": "2022-07-28T15:20:13.952Z"
   },
   {
    "duration": 12,
    "start_time": "2022-07-28T15:20:14.073Z"
   },
   {
    "duration": 161,
    "start_time": "2022-07-28T15:20:14.086Z"
   },
   {
    "duration": 11,
    "start_time": "2022-07-28T15:20:14.249Z"
   },
   {
    "duration": 113,
    "start_time": "2022-07-28T15:20:14.262Z"
   },
   {
    "duration": 9,
    "start_time": "2022-07-28T15:20:14.582Z"
   },
   {
    "duration": 7,
    "start_time": "2022-07-28T15:20:15.102Z"
   },
   {
    "duration": 7,
    "start_time": "2022-07-28T15:20:16.084Z"
   },
   {
    "duration": 10,
    "start_time": "2022-07-28T15:20:16.159Z"
   },
   {
    "duration": 11,
    "start_time": "2022-07-28T15:44:51.758Z"
   },
   {
    "duration": 240,
    "start_time": "2022-07-28T15:51:27.623Z"
   },
   {
    "duration": 7,
    "start_time": "2022-07-28T15:52:13.414Z"
   },
   {
    "duration": 6,
    "start_time": "2022-07-28T15:54:25.555Z"
   },
   {
    "duration": 10,
    "start_time": "2022-07-28T15:54:28.797Z"
   },
   {
    "duration": 7,
    "start_time": "2022-07-28T15:54:58.325Z"
   },
   {
    "duration": 7,
    "start_time": "2022-07-28T15:55:03.249Z"
   },
   {
    "duration": 41,
    "start_time": "2022-07-28T21:09:52.364Z"
   },
   {
    "duration": 1198,
    "start_time": "2022-07-28T21:09:56.401Z"
   },
   {
    "duration": 202,
    "start_time": "2022-07-28T21:09:57.601Z"
   },
   {
    "duration": 26,
    "start_time": "2022-07-28T21:09:57.805Z"
   },
   {
    "duration": 10,
    "start_time": "2022-07-28T21:09:57.834Z"
   },
   {
    "duration": 22,
    "start_time": "2022-07-28T21:09:57.845Z"
   },
   {
    "duration": 18,
    "start_time": "2022-07-28T21:09:57.869Z"
   },
   {
    "duration": 10,
    "start_time": "2022-07-28T21:09:57.889Z"
   },
   {
    "duration": 8,
    "start_time": "2022-07-28T21:09:57.900Z"
   },
   {
    "duration": 24,
    "start_time": "2022-07-28T21:09:57.909Z"
   },
   {
    "duration": 4,
    "start_time": "2022-07-28T21:09:57.936Z"
   },
   {
    "duration": 7,
    "start_time": "2022-07-28T21:09:57.942Z"
   },
   {
    "duration": 4,
    "start_time": "2022-07-28T21:09:57.950Z"
   },
   {
    "duration": 5,
    "start_time": "2022-07-28T21:09:57.956Z"
   },
   {
    "duration": 13,
    "start_time": "2022-07-28T21:09:57.962Z"
   },
   {
    "duration": 5,
    "start_time": "2022-07-28T21:09:57.977Z"
   },
   {
    "duration": 7,
    "start_time": "2022-07-28T21:09:57.983Z"
   },
   {
    "duration": 10,
    "start_time": "2022-07-28T21:09:57.991Z"
   },
   {
    "duration": 33,
    "start_time": "2022-07-28T21:09:58.002Z"
   },
   {
    "duration": 4,
    "start_time": "2022-07-28T21:09:58.037Z"
   },
   {
    "duration": 7,
    "start_time": "2022-07-28T21:09:58.042Z"
   },
   {
    "duration": 7,
    "start_time": "2022-07-28T21:09:58.050Z"
   },
   {
    "duration": 17,
    "start_time": "2022-07-28T21:09:58.058Z"
   },
   {
    "duration": 4,
    "start_time": "2022-07-28T21:09:58.076Z"
   },
   {
    "duration": 12,
    "start_time": "2022-07-28T21:09:58.081Z"
   },
   {
    "duration": 265,
    "start_time": "2022-07-28T21:09:58.094Z"
   },
   {
    "duration": 7,
    "start_time": "2022-07-28T21:09:58.360Z"
   },
   {
    "duration": 15,
    "start_time": "2022-07-28T21:09:58.369Z"
   },
   {
    "duration": 8,
    "start_time": "2022-07-28T21:09:58.387Z"
   },
   {
    "duration": 266,
    "start_time": "2022-07-28T21:09:58.396Z"
   },
   {
    "duration": 402,
    "start_time": "2022-07-28T21:09:58.663Z"
   },
   {
    "duration": 3002,
    "start_time": "2022-07-28T21:09:59.067Z"
   },
   {
    "duration": 215,
    "start_time": "2022-07-28T21:10:02.071Z"
   },
   {
    "duration": 4,
    "start_time": "2022-07-28T21:10:02.288Z"
   },
   {
    "duration": 236,
    "start_time": "2022-07-28T21:10:02.293Z"
   },
   {
    "duration": 0,
    "start_time": "2022-07-28T21:10:02.531Z"
   },
   {
    "duration": 0,
    "start_time": "2022-07-28T21:10:02.532Z"
   },
   {
    "duration": 0,
    "start_time": "2022-07-28T21:10:02.533Z"
   },
   {
    "duration": 0,
    "start_time": "2022-07-28T21:10:02.534Z"
   },
   {
    "duration": 0,
    "start_time": "2022-07-28T21:10:02.535Z"
   },
   {
    "duration": 0,
    "start_time": "2022-07-28T21:10:02.536Z"
   },
   {
    "duration": 0,
    "start_time": "2022-07-28T21:10:02.537Z"
   },
   {
    "duration": 0,
    "start_time": "2022-07-28T21:10:02.538Z"
   },
   {
    "duration": 0,
    "start_time": "2022-07-28T21:10:02.540Z"
   },
   {
    "duration": 0,
    "start_time": "2022-07-28T21:10:02.540Z"
   },
   {
    "duration": 0,
    "start_time": "2022-07-28T21:10:02.541Z"
   },
   {
    "duration": 0,
    "start_time": "2022-07-28T21:10:02.542Z"
   },
   {
    "duration": 0,
    "start_time": "2022-07-28T21:10:02.543Z"
   },
   {
    "duration": 0,
    "start_time": "2022-07-28T21:10:02.544Z"
   },
   {
    "duration": 0,
    "start_time": "2022-07-28T21:10:02.545Z"
   },
   {
    "duration": 0,
    "start_time": "2022-07-28T21:10:02.546Z"
   },
   {
    "duration": 0,
    "start_time": "2022-07-28T21:10:02.547Z"
   },
   {
    "duration": 0,
    "start_time": "2022-07-28T21:10:02.548Z"
   },
   {
    "duration": 0,
    "start_time": "2022-07-28T21:10:02.549Z"
   },
   {
    "duration": 0,
    "start_time": "2022-07-28T21:10:02.549Z"
   },
   {
    "duration": 0,
    "start_time": "2022-07-28T21:10:02.550Z"
   },
   {
    "duration": 0,
    "start_time": "2022-07-28T21:10:02.551Z"
   },
   {
    "duration": 0,
    "start_time": "2022-07-28T21:10:02.552Z"
   },
   {
    "duration": 0,
    "start_time": "2022-07-28T21:10:02.553Z"
   },
   {
    "duration": 0,
    "start_time": "2022-07-28T21:10:02.554Z"
   },
   {
    "duration": 0,
    "start_time": "2022-07-28T21:10:02.555Z"
   },
   {
    "duration": 0,
    "start_time": "2022-07-28T21:10:02.556Z"
   },
   {
    "duration": 0,
    "start_time": "2022-07-28T21:10:02.557Z"
   },
   {
    "duration": 0,
    "start_time": "2022-07-28T21:10:02.558Z"
   },
   {
    "duration": 0,
    "start_time": "2022-07-28T21:10:02.559Z"
   },
   {
    "duration": 0,
    "start_time": "2022-07-28T21:10:02.559Z"
   },
   {
    "duration": 0,
    "start_time": "2022-07-28T21:10:02.560Z"
   },
   {
    "duration": 0,
    "start_time": "2022-07-28T21:10:02.561Z"
   },
   {
    "duration": 0,
    "start_time": "2022-07-28T21:10:02.562Z"
   },
   {
    "duration": 0,
    "start_time": "2022-07-28T21:10:02.563Z"
   },
   {
    "duration": 0,
    "start_time": "2022-07-28T21:10:02.564Z"
   },
   {
    "duration": 0,
    "start_time": "2022-07-28T21:10:02.564Z"
   },
   {
    "duration": 0,
    "start_time": "2022-07-28T21:10:02.565Z"
   },
   {
    "duration": 0,
    "start_time": "2022-07-28T21:10:02.566Z"
   },
   {
    "duration": 1098,
    "start_time": "2022-07-28T21:11:04.292Z"
   },
   {
    "duration": 53,
    "start_time": "2022-07-28T21:11:05.391Z"
   },
   {
    "duration": 21,
    "start_time": "2022-07-28T21:11:05.445Z"
   },
   {
    "duration": 7,
    "start_time": "2022-07-28T21:11:05.468Z"
   },
   {
    "duration": 11,
    "start_time": "2022-07-28T21:11:05.477Z"
   },
   {
    "duration": 19,
    "start_time": "2022-07-28T21:11:05.489Z"
   },
   {
    "duration": 29,
    "start_time": "2022-07-28T21:11:05.509Z"
   },
   {
    "duration": 7,
    "start_time": "2022-07-28T21:11:05.540Z"
   },
   {
    "duration": 4,
    "start_time": "2022-07-28T21:11:05.549Z"
   },
   {
    "duration": 6,
    "start_time": "2022-07-28T21:11:05.554Z"
   },
   {
    "duration": 8,
    "start_time": "2022-07-28T21:11:05.562Z"
   },
   {
    "duration": 4,
    "start_time": "2022-07-28T21:11:05.571Z"
   },
   {
    "duration": 5,
    "start_time": "2022-07-28T21:11:05.577Z"
   },
   {
    "duration": 8,
    "start_time": "2022-07-28T21:11:05.584Z"
   },
   {
    "duration": 39,
    "start_time": "2022-07-28T21:11:05.593Z"
   },
   {
    "duration": 5,
    "start_time": "2022-07-28T21:11:05.633Z"
   },
   {
    "duration": 8,
    "start_time": "2022-07-28T21:11:05.639Z"
   },
   {
    "duration": 10,
    "start_time": "2022-07-28T21:11:05.648Z"
   },
   {
    "duration": 4,
    "start_time": "2022-07-28T21:11:05.660Z"
   },
   {
    "duration": 6,
    "start_time": "2022-07-28T21:11:05.665Z"
   },
   {
    "duration": 9,
    "start_time": "2022-07-28T21:11:05.672Z"
   },
   {
    "duration": 17,
    "start_time": "2022-07-28T21:11:05.682Z"
   },
   {
    "duration": 4,
    "start_time": "2022-07-28T21:11:05.701Z"
   },
   {
    "duration": 33,
    "start_time": "2022-07-28T21:11:05.706Z"
   },
   {
    "duration": 250,
    "start_time": "2022-07-28T21:11:05.741Z"
   },
   {
    "duration": 7,
    "start_time": "2022-07-28T21:11:05.992Z"
   },
   {
    "duration": 14,
    "start_time": "2022-07-28T21:11:06.000Z"
   },
   {
    "duration": 20,
    "start_time": "2022-07-28T21:11:06.015Z"
   },
   {
    "duration": 257,
    "start_time": "2022-07-28T21:11:06.036Z"
   },
   {
    "duration": 397,
    "start_time": "2022-07-28T21:11:06.294Z"
   },
   {
    "duration": 3032,
    "start_time": "2022-07-28T21:11:06.693Z"
   },
   {
    "duration": 256,
    "start_time": "2022-07-28T21:11:09.727Z"
   },
   {
    "duration": 5,
    "start_time": "2022-07-28T21:11:09.985Z"
   },
   {
    "duration": 6,
    "start_time": "2022-07-28T21:11:09.992Z"
   },
   {
    "duration": 33,
    "start_time": "2022-07-28T21:11:09.999Z"
   },
   {
    "duration": 5,
    "start_time": "2022-07-28T21:11:10.033Z"
   },
   {
    "duration": 10,
    "start_time": "2022-07-28T21:11:10.039Z"
   },
   {
    "duration": 9,
    "start_time": "2022-07-28T21:11:10.050Z"
   },
   {
    "duration": 14,
    "start_time": "2022-07-28T21:11:10.061Z"
   },
   {
    "duration": 6,
    "start_time": "2022-07-28T21:11:10.076Z"
   },
   {
    "duration": 18,
    "start_time": "2022-07-28T21:11:10.086Z"
   },
   {
    "duration": 298,
    "start_time": "2022-07-28T21:11:10.105Z"
   },
   {
    "duration": 255,
    "start_time": "2022-07-28T21:11:10.404Z"
   },
   {
    "duration": 17,
    "start_time": "2022-07-28T21:11:10.661Z"
   },
   {
    "duration": 9,
    "start_time": "2022-07-28T21:11:10.680Z"
   },
   {
    "duration": 14,
    "start_time": "2022-07-28T21:11:10.690Z"
   },
   {
    "duration": 237,
    "start_time": "2022-07-28T21:11:10.706Z"
   },
   {
    "duration": 20,
    "start_time": "2022-07-28T21:11:10.944Z"
   },
   {
    "duration": 12,
    "start_time": "2022-07-28T21:11:10.965Z"
   },
   {
    "duration": 13,
    "start_time": "2022-07-28T21:11:10.978Z"
   },
   {
    "duration": 123,
    "start_time": "2022-07-28T21:11:10.993Z"
   },
   {
    "duration": 19,
    "start_time": "2022-07-28T21:11:11.118Z"
   },
   {
    "duration": 114,
    "start_time": "2022-07-28T21:11:11.139Z"
   },
   {
    "duration": 10,
    "start_time": "2022-07-28T21:11:11.254Z"
   },
   {
    "duration": 109,
    "start_time": "2022-07-28T21:11:11.265Z"
   },
   {
    "duration": 10,
    "start_time": "2022-07-28T21:11:11.376Z"
   },
   {
    "duration": 119,
    "start_time": "2022-07-28T21:11:11.388Z"
   },
   {
    "duration": 9,
    "start_time": "2022-07-28T21:11:11.509Z"
   },
   {
    "duration": 119,
    "start_time": "2022-07-28T21:11:11.520Z"
   },
   {
    "duration": 10,
    "start_time": "2022-07-28T21:11:11.641Z"
   },
   {
    "duration": 112,
    "start_time": "2022-07-28T21:11:11.653Z"
   },
   {
    "duration": 11,
    "start_time": "2022-07-28T21:11:11.766Z"
   },
   {
    "duration": 120,
    "start_time": "2022-07-28T21:11:11.778Z"
   },
   {
    "duration": 11,
    "start_time": "2022-07-28T21:11:11.900Z"
   },
   {
    "duration": 128,
    "start_time": "2022-07-28T21:11:11.912Z"
   },
   {
    "duration": 11,
    "start_time": "2022-07-28T21:11:12.041Z"
   },
   {
    "duration": 118,
    "start_time": "2022-07-28T21:11:12.053Z"
   },
   {
    "duration": 6,
    "start_time": "2022-07-28T21:11:12.173Z"
   },
   {
    "duration": 7,
    "start_time": "2022-07-28T21:11:12.181Z"
   },
   {
    "duration": 7,
    "start_time": "2022-07-28T21:11:12.189Z"
   },
   {
    "duration": 35,
    "start_time": "2022-07-28T21:11:12.197Z"
   },
   {
    "duration": 10,
    "start_time": "2022-07-28T21:11:12.233Z"
   },
   {
    "duration": 19,
    "start_time": "2022-07-28T21:11:59.394Z"
   },
   {
    "duration": 10,
    "start_time": "2022-07-28T21:11:59.562Z"
   }
  ],
  "kernelspec": {
   "display_name": "Python 3 (ipykernel)",
   "language": "python",
   "name": "python3"
  },
  "language_info": {
   "codemirror_mode": {
    "name": "ipython",
    "version": 3
   },
   "file_extension": ".py",
   "mimetype": "text/x-python",
   "name": "python",
   "nbconvert_exporter": "python",
   "pygments_lexer": "ipython3",
   "version": "3.9.5"
  },
  "toc": {
   "base_numbering": 1,
   "nav_menu": {},
   "number_sections": true,
   "sideBar": true,
   "skip_h1_title": true,
   "title_cell": "Table of Contents",
   "title_sidebar": "Contents",
   "toc_cell": false,
   "toc_position": {
    "height": "calc(100% - 180px)",
    "left": "10px",
    "top": "150px",
    "width": "252px"
   },
   "toc_section_display": true,
   "toc_window_display": true
  }
 },
 "nbformat": 4,
 "nbformat_minor": 2
}
