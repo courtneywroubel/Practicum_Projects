{
 "cells": [
  {
   "cell_type": "markdown",
   "metadata": {},
   "source": [
    "# Which one is a better plan?\n",
    "\n",
    "You work as an analyst for the telecom operator Megaline. The company offers its clients two prepaid plans, Surf and Ultimate. The commercial department wants to know which of the plans brings in more revenue in order to adjust the advertising budget.\n",
    "\n",
    "You are going to carry out a preliminary analysis of the plans based on a relatively small client selection. You'll have the data on 500 Megaline clients: who the clients are, where they're from, which plan they use, and the number of calls they made and text messages they sent in 2018. Your job is to analyze the clients' behavior and determine which prepaid plan brings in more revenue."
   ]
  },
  {
   "cell_type": "markdown",
   "metadata": {},
   "source": [
    "[We've provided you with some commentary to guide your thinking as you complete this project. However, make sure to remove all the bracketed comments before submitting your project.]\n",
    "\n",
    "[Before you dive into analyzing your data, explain for yourself the purpose of the project and actions you plan to take.]\n",
    "\n",
    "[Please bear in mind that studying, amending, and analyzing data is an iterative process. It is normal to return to previous steps and correct/expand them to allow for further steps.]"
   ]
  },
  {
   "cell_type": "markdown",
   "metadata": {},
   "source": [
    "## Initialization"
   ]
  },
  {
   "cell_type": "markdown",
   "metadata": {},
   "source": []
  },
  {
   "cell_type": "code",
   "execution_count": 1,
   "metadata": {},
   "outputs": [],
   "source": [
    "# Loading all the libraries\n",
    "import pandas as pd\n",
    "pd.options.mode.chained_assignment = None  \n",
    "import numpy as np\n",
    "import matplotlib.pyplot as plt\n",
    "from math import factorial\n",
    "from scipy import stats as st\n"
   ]
  },
  {
   "cell_type": "markdown",
   "metadata": {},
   "source": [
    "## Load data"
   ]
  },
  {
   "cell_type": "markdown",
   "metadata": {},
   "source": []
  },
  {
   "cell_type": "code",
   "execution_count": 2,
   "metadata": {},
   "outputs": [],
   "source": [
    "# Load the data files into different DataFrames\n",
    "\n",
    "df_calls = pd.read_csv('/datasets/megaline_calls.csv')\n",
    "\n",
    "df_internet = pd.read_csv('/datasets/megaline_internet.csv')\n",
    "\n",
    "df_messages = pd.read_csv('/datasets/megaline_messages.csv')\n",
    "\n",
    "df_plans = pd.read_csv('/datasets/megaline_plans.csv')\n",
    "\n",
    "df_users = pd.read_csv('/datasets/megaline_users.csv')"
   ]
  },
  {
   "cell_type": "markdown",
   "metadata": {},
   "source": [
    "## Prepare the data"
   ]
  },
  {
   "cell_type": "markdown",
   "metadata": {},
   "source": [
    "[The data for this project is split into several tables. Explore each one to get an initial understanding of the data. Do necessary corrections to each table if necessary.]"
   ]
  },
  {
   "cell_type": "code",
   "execution_count": 3,
   "metadata": {
    "scrolled": true
   },
   "outputs": [
    {
     "data": {
      "text/html": [
       "<div>\n",
       "<style scoped>\n",
       "    .dataframe tbody tr th:only-of-type {\n",
       "        vertical-align: middle;\n",
       "    }\n",
       "\n",
       "    .dataframe tbody tr th {\n",
       "        vertical-align: top;\n",
       "    }\n",
       "\n",
       "    .dataframe thead th {\n",
       "        text-align: right;\n",
       "    }\n",
       "</style>\n",
       "<table border=\"1\" class=\"dataframe\">\n",
       "  <thead>\n",
       "    <tr style=\"text-align: right;\">\n",
       "      <th></th>\n",
       "      <th>user_id</th>\n",
       "      <th>first_name</th>\n",
       "      <th>last_name</th>\n",
       "      <th>age</th>\n",
       "      <th>city</th>\n",
       "      <th>reg_date</th>\n",
       "      <th>plan</th>\n",
       "      <th>churn_date</th>\n",
       "    </tr>\n",
       "  </thead>\n",
       "  <tbody>\n",
       "    <tr>\n",
       "      <th>0</th>\n",
       "      <td>1000</td>\n",
       "      <td>Anamaria</td>\n",
       "      <td>Bauer</td>\n",
       "      <td>45</td>\n",
       "      <td>Atlanta-Sandy Springs-Roswell, GA MSA</td>\n",
       "      <td>2018-12-24</td>\n",
       "      <td>ultimate</td>\n",
       "      <td>NaN</td>\n",
       "    </tr>\n",
       "    <tr>\n",
       "      <th>1</th>\n",
       "      <td>1001</td>\n",
       "      <td>Mickey</td>\n",
       "      <td>Wilkerson</td>\n",
       "      <td>28</td>\n",
       "      <td>Seattle-Tacoma-Bellevue, WA MSA</td>\n",
       "      <td>2018-08-13</td>\n",
       "      <td>surf</td>\n",
       "      <td>NaN</td>\n",
       "    </tr>\n",
       "    <tr>\n",
       "      <th>2</th>\n",
       "      <td>1002</td>\n",
       "      <td>Carlee</td>\n",
       "      <td>Hoffman</td>\n",
       "      <td>36</td>\n",
       "      <td>Las Vegas-Henderson-Paradise, NV MSA</td>\n",
       "      <td>2018-10-21</td>\n",
       "      <td>surf</td>\n",
       "      <td>NaN</td>\n",
       "    </tr>\n",
       "    <tr>\n",
       "      <th>3</th>\n",
       "      <td>1003</td>\n",
       "      <td>Reynaldo</td>\n",
       "      <td>Jenkins</td>\n",
       "      <td>52</td>\n",
       "      <td>Tulsa, OK MSA</td>\n",
       "      <td>2018-01-28</td>\n",
       "      <td>surf</td>\n",
       "      <td>NaN</td>\n",
       "    </tr>\n",
       "    <tr>\n",
       "      <th>4</th>\n",
       "      <td>1004</td>\n",
       "      <td>Leonila</td>\n",
       "      <td>Thompson</td>\n",
       "      <td>40</td>\n",
       "      <td>Seattle-Tacoma-Bellevue, WA MSA</td>\n",
       "      <td>2018-05-23</td>\n",
       "      <td>surf</td>\n",
       "      <td>NaN</td>\n",
       "    </tr>\n",
       "    <tr>\n",
       "      <th>...</th>\n",
       "      <td>...</td>\n",
       "      <td>...</td>\n",
       "      <td>...</td>\n",
       "      <td>...</td>\n",
       "      <td>...</td>\n",
       "      <td>...</td>\n",
       "      <td>...</td>\n",
       "      <td>...</td>\n",
       "    </tr>\n",
       "    <tr>\n",
       "      <th>495</th>\n",
       "      <td>1495</td>\n",
       "      <td>Fidel</td>\n",
       "      <td>Sharpe</td>\n",
       "      <td>67</td>\n",
       "      <td>New York-Newark-Jersey City, NY-NJ-PA MSA</td>\n",
       "      <td>2018-09-04</td>\n",
       "      <td>surf</td>\n",
       "      <td>NaN</td>\n",
       "    </tr>\n",
       "    <tr>\n",
       "      <th>496</th>\n",
       "      <td>1496</td>\n",
       "      <td>Ariel</td>\n",
       "      <td>Shepherd</td>\n",
       "      <td>49</td>\n",
       "      <td>New Orleans-Metairie, LA MSA</td>\n",
       "      <td>2018-02-20</td>\n",
       "      <td>surf</td>\n",
       "      <td>NaN</td>\n",
       "    </tr>\n",
       "    <tr>\n",
       "      <th>497</th>\n",
       "      <td>1497</td>\n",
       "      <td>Donte</td>\n",
       "      <td>Barrera</td>\n",
       "      <td>49</td>\n",
       "      <td>Los Angeles-Long Beach-Anaheim, CA MSA</td>\n",
       "      <td>2018-12-10</td>\n",
       "      <td>ultimate</td>\n",
       "      <td>NaN</td>\n",
       "    </tr>\n",
       "    <tr>\n",
       "      <th>498</th>\n",
       "      <td>1498</td>\n",
       "      <td>Scot</td>\n",
       "      <td>Williamson</td>\n",
       "      <td>51</td>\n",
       "      <td>New York-Newark-Jersey City, NY-NJ-PA MSA</td>\n",
       "      <td>2018-02-04</td>\n",
       "      <td>surf</td>\n",
       "      <td>NaN</td>\n",
       "    </tr>\n",
       "    <tr>\n",
       "      <th>499</th>\n",
       "      <td>1499</td>\n",
       "      <td>Shena</td>\n",
       "      <td>Dickson</td>\n",
       "      <td>37</td>\n",
       "      <td>Orlando-Kissimmee-Sanford, FL MSA</td>\n",
       "      <td>2018-05-06</td>\n",
       "      <td>surf</td>\n",
       "      <td>NaN</td>\n",
       "    </tr>\n",
       "  </tbody>\n",
       "</table>\n",
       "<p>500 rows × 8 columns</p>\n",
       "</div>"
      ],
      "text/plain": [
       "     user_id first_name   last_name  age  \\\n",
       "0       1000   Anamaria       Bauer   45   \n",
       "1       1001     Mickey   Wilkerson   28   \n",
       "2       1002     Carlee     Hoffman   36   \n",
       "3       1003   Reynaldo     Jenkins   52   \n",
       "4       1004    Leonila    Thompson   40   \n",
       "..       ...        ...         ...  ...   \n",
       "495     1495      Fidel      Sharpe   67   \n",
       "496     1496      Ariel    Shepherd   49   \n",
       "497     1497      Donte     Barrera   49   \n",
       "498     1498       Scot  Williamson   51   \n",
       "499     1499      Shena     Dickson   37   \n",
       "\n",
       "                                          city    reg_date      plan  \\\n",
       "0        Atlanta-Sandy Springs-Roswell, GA MSA  2018-12-24  ultimate   \n",
       "1              Seattle-Tacoma-Bellevue, WA MSA  2018-08-13      surf   \n",
       "2         Las Vegas-Henderson-Paradise, NV MSA  2018-10-21      surf   \n",
       "3                                Tulsa, OK MSA  2018-01-28      surf   \n",
       "4              Seattle-Tacoma-Bellevue, WA MSA  2018-05-23      surf   \n",
       "..                                         ...         ...       ...   \n",
       "495  New York-Newark-Jersey City, NY-NJ-PA MSA  2018-09-04      surf   \n",
       "496               New Orleans-Metairie, LA MSA  2018-02-20      surf   \n",
       "497     Los Angeles-Long Beach-Anaheim, CA MSA  2018-12-10  ultimate   \n",
       "498  New York-Newark-Jersey City, NY-NJ-PA MSA  2018-02-04      surf   \n",
       "499          Orlando-Kissimmee-Sanford, FL MSA  2018-05-06      surf   \n",
       "\n",
       "    churn_date  \n",
       "0          NaN  \n",
       "1          NaN  \n",
       "2          NaN  \n",
       "3          NaN  \n",
       "4          NaN  \n",
       "..         ...  \n",
       "495        NaN  \n",
       "496        NaN  \n",
       "497        NaN  \n",
       "498        NaN  \n",
       "499        NaN  \n",
       "\n",
       "[500 rows x 8 columns]"
      ]
     },
     "metadata": {},
     "output_type": "display_data"
    }
   ],
   "source": [
    "display(df_users)\n",
    "#missing values in churn date means user has not terminated the service"
   ]
  },
  {
   "cell_type": "code",
   "execution_count": 4,
   "metadata": {},
   "outputs": [
    {
     "data": {
      "text/html": [
       "<div>\n",
       "<style scoped>\n",
       "    .dataframe tbody tr th:only-of-type {\n",
       "        vertical-align: middle;\n",
       "    }\n",
       "\n",
       "    .dataframe tbody tr th {\n",
       "        vertical-align: top;\n",
       "    }\n",
       "\n",
       "    .dataframe thead th {\n",
       "        text-align: right;\n",
       "    }\n",
       "</style>\n",
       "<table border=\"1\" class=\"dataframe\">\n",
       "  <thead>\n",
       "    <tr style=\"text-align: right;\">\n",
       "      <th></th>\n",
       "      <th>messages_included</th>\n",
       "      <th>mb_per_month_included</th>\n",
       "      <th>minutes_included</th>\n",
       "      <th>usd_monthly_pay</th>\n",
       "      <th>usd_per_gb</th>\n",
       "      <th>usd_per_message</th>\n",
       "      <th>usd_per_minute</th>\n",
       "      <th>plan_name</th>\n",
       "    </tr>\n",
       "  </thead>\n",
       "  <tbody>\n",
       "    <tr>\n",
       "      <th>0</th>\n",
       "      <td>50</td>\n",
       "      <td>15360</td>\n",
       "      <td>500</td>\n",
       "      <td>20</td>\n",
       "      <td>10</td>\n",
       "      <td>0.03</td>\n",
       "      <td>0.03</td>\n",
       "      <td>surf</td>\n",
       "    </tr>\n",
       "    <tr>\n",
       "      <th>1</th>\n",
       "      <td>1000</td>\n",
       "      <td>30720</td>\n",
       "      <td>3000</td>\n",
       "      <td>70</td>\n",
       "      <td>7</td>\n",
       "      <td>0.01</td>\n",
       "      <td>0.01</td>\n",
       "      <td>ultimate</td>\n",
       "    </tr>\n",
       "  </tbody>\n",
       "</table>\n",
       "</div>"
      ],
      "text/plain": [
       "   messages_included  mb_per_month_included  minutes_included  \\\n",
       "0                 50                  15360               500   \n",
       "1               1000                  30720              3000   \n",
       "\n",
       "   usd_monthly_pay  usd_per_gb  usd_per_message  usd_per_minute plan_name  \n",
       "0               20          10             0.03            0.03      surf  \n",
       "1               70           7             0.01            0.01  ultimate  "
      ]
     },
     "metadata": {},
     "output_type": "display_data"
    }
   ],
   "source": [
    "display(df_plans)\n",
    "#data is good here"
   ]
  },
  {
   "cell_type": "code",
   "execution_count": 5,
   "metadata": {},
   "outputs": [
    {
     "data": {
      "text/html": [
       "<div>\n",
       "<style scoped>\n",
       "    .dataframe tbody tr th:only-of-type {\n",
       "        vertical-align: middle;\n",
       "    }\n",
       "\n",
       "    .dataframe tbody tr th {\n",
       "        vertical-align: top;\n",
       "    }\n",
       "\n",
       "    .dataframe thead th {\n",
       "        text-align: right;\n",
       "    }\n",
       "</style>\n",
       "<table border=\"1\" class=\"dataframe\">\n",
       "  <thead>\n",
       "    <tr style=\"text-align: right;\">\n",
       "      <th></th>\n",
       "      <th>id</th>\n",
       "      <th>user_id</th>\n",
       "      <th>message_date</th>\n",
       "    </tr>\n",
       "  </thead>\n",
       "  <tbody>\n",
       "    <tr>\n",
       "      <th>0</th>\n",
       "      <td>1000_125</td>\n",
       "      <td>1000</td>\n",
       "      <td>2018-12-27</td>\n",
       "    </tr>\n",
       "    <tr>\n",
       "      <th>1</th>\n",
       "      <td>1000_160</td>\n",
       "      <td>1000</td>\n",
       "      <td>2018-12-31</td>\n",
       "    </tr>\n",
       "    <tr>\n",
       "      <th>2</th>\n",
       "      <td>1000_223</td>\n",
       "      <td>1000</td>\n",
       "      <td>2018-12-31</td>\n",
       "    </tr>\n",
       "    <tr>\n",
       "      <th>3</th>\n",
       "      <td>1000_251</td>\n",
       "      <td>1000</td>\n",
       "      <td>2018-12-27</td>\n",
       "    </tr>\n",
       "    <tr>\n",
       "      <th>4</th>\n",
       "      <td>1000_255</td>\n",
       "      <td>1000</td>\n",
       "      <td>2018-12-26</td>\n",
       "    </tr>\n",
       "    <tr>\n",
       "      <th>...</th>\n",
       "      <td>...</td>\n",
       "      <td>...</td>\n",
       "      <td>...</td>\n",
       "    </tr>\n",
       "    <tr>\n",
       "      <th>76046</th>\n",
       "      <td>1497_526</td>\n",
       "      <td>1497</td>\n",
       "      <td>2018-12-24</td>\n",
       "    </tr>\n",
       "    <tr>\n",
       "      <th>76047</th>\n",
       "      <td>1497_536</td>\n",
       "      <td>1497</td>\n",
       "      <td>2018-12-24</td>\n",
       "    </tr>\n",
       "    <tr>\n",
       "      <th>76048</th>\n",
       "      <td>1497_547</td>\n",
       "      <td>1497</td>\n",
       "      <td>2018-12-31</td>\n",
       "    </tr>\n",
       "    <tr>\n",
       "      <th>76049</th>\n",
       "      <td>1497_558</td>\n",
       "      <td>1497</td>\n",
       "      <td>2018-12-24</td>\n",
       "    </tr>\n",
       "    <tr>\n",
       "      <th>76050</th>\n",
       "      <td>1497_613</td>\n",
       "      <td>1497</td>\n",
       "      <td>2018-12-23</td>\n",
       "    </tr>\n",
       "  </tbody>\n",
       "</table>\n",
       "<p>76051 rows × 3 columns</p>\n",
       "</div>"
      ],
      "text/plain": [
       "             id  user_id message_date\n",
       "0      1000_125     1000   2018-12-27\n",
       "1      1000_160     1000   2018-12-31\n",
       "2      1000_223     1000   2018-12-31\n",
       "3      1000_251     1000   2018-12-27\n",
       "4      1000_255     1000   2018-12-26\n",
       "...         ...      ...          ...\n",
       "76046  1497_526     1497   2018-12-24\n",
       "76047  1497_536     1497   2018-12-24\n",
       "76048  1497_547     1497   2018-12-31\n",
       "76049  1497_558     1497   2018-12-24\n",
       "76050  1497_613     1497   2018-12-23\n",
       "\n",
       "[76051 rows x 3 columns]"
      ]
     },
     "metadata": {},
     "output_type": "display_data"
    }
   ],
   "source": [
    "display(df_messages)\n",
    "#change column name id to messgae: easier to understand\n"
   ]
  },
  {
   "cell_type": "code",
   "execution_count": 6,
   "metadata": {},
   "outputs": [
    {
     "data": {
      "text/html": [
       "<div>\n",
       "<style scoped>\n",
       "    .dataframe tbody tr th:only-of-type {\n",
       "        vertical-align: middle;\n",
       "    }\n",
       "\n",
       "    .dataframe tbody tr th {\n",
       "        vertical-align: top;\n",
       "    }\n",
       "\n",
       "    .dataframe thead th {\n",
       "        text-align: right;\n",
       "    }\n",
       "</style>\n",
       "<table border=\"1\" class=\"dataframe\">\n",
       "  <thead>\n",
       "    <tr style=\"text-align: right;\">\n",
       "      <th></th>\n",
       "      <th>id</th>\n",
       "      <th>user_id</th>\n",
       "      <th>session_date</th>\n",
       "      <th>mb_used</th>\n",
       "    </tr>\n",
       "  </thead>\n",
       "  <tbody>\n",
       "    <tr>\n",
       "      <th>0</th>\n",
       "      <td>1000_13</td>\n",
       "      <td>1000</td>\n",
       "      <td>2018-12-29</td>\n",
       "      <td>89.86</td>\n",
       "    </tr>\n",
       "    <tr>\n",
       "      <th>1</th>\n",
       "      <td>1000_204</td>\n",
       "      <td>1000</td>\n",
       "      <td>2018-12-31</td>\n",
       "      <td>0.00</td>\n",
       "    </tr>\n",
       "    <tr>\n",
       "      <th>2</th>\n",
       "      <td>1000_379</td>\n",
       "      <td>1000</td>\n",
       "      <td>2018-12-28</td>\n",
       "      <td>660.40</td>\n",
       "    </tr>\n",
       "    <tr>\n",
       "      <th>3</th>\n",
       "      <td>1000_413</td>\n",
       "      <td>1000</td>\n",
       "      <td>2018-12-26</td>\n",
       "      <td>270.99</td>\n",
       "    </tr>\n",
       "    <tr>\n",
       "      <th>4</th>\n",
       "      <td>1000_442</td>\n",
       "      <td>1000</td>\n",
       "      <td>2018-12-27</td>\n",
       "      <td>880.22</td>\n",
       "    </tr>\n",
       "    <tr>\n",
       "      <th>...</th>\n",
       "      <td>...</td>\n",
       "      <td>...</td>\n",
       "      <td>...</td>\n",
       "      <td>...</td>\n",
       "    </tr>\n",
       "    <tr>\n",
       "      <th>104820</th>\n",
       "      <td>1499_215</td>\n",
       "      <td>1499</td>\n",
       "      <td>2018-10-20</td>\n",
       "      <td>218.06</td>\n",
       "    </tr>\n",
       "    <tr>\n",
       "      <th>104821</th>\n",
       "      <td>1499_216</td>\n",
       "      <td>1499</td>\n",
       "      <td>2018-12-30</td>\n",
       "      <td>304.72</td>\n",
       "    </tr>\n",
       "    <tr>\n",
       "      <th>104822</th>\n",
       "      <td>1499_217</td>\n",
       "      <td>1499</td>\n",
       "      <td>2018-09-22</td>\n",
       "      <td>292.75</td>\n",
       "    </tr>\n",
       "    <tr>\n",
       "      <th>104823</th>\n",
       "      <td>1499_218</td>\n",
       "      <td>1499</td>\n",
       "      <td>2018-12-07</td>\n",
       "      <td>0.00</td>\n",
       "    </tr>\n",
       "    <tr>\n",
       "      <th>104824</th>\n",
       "      <td>1499_219</td>\n",
       "      <td>1499</td>\n",
       "      <td>2018-12-24</td>\n",
       "      <td>758.31</td>\n",
       "    </tr>\n",
       "  </tbody>\n",
       "</table>\n",
       "<p>104825 rows × 4 columns</p>\n",
       "</div>"
      ],
      "text/plain": [
       "              id  user_id session_date  mb_used\n",
       "0        1000_13     1000   2018-12-29    89.86\n",
       "1       1000_204     1000   2018-12-31     0.00\n",
       "2       1000_379     1000   2018-12-28   660.40\n",
       "3       1000_413     1000   2018-12-26   270.99\n",
       "4       1000_442     1000   2018-12-27   880.22\n",
       "...          ...      ...          ...      ...\n",
       "104820  1499_215     1499   2018-10-20   218.06\n",
       "104821  1499_216     1499   2018-12-30   304.72\n",
       "104822  1499_217     1499   2018-09-22   292.75\n",
       "104823  1499_218     1499   2018-12-07     0.00\n",
       "104824  1499_219     1499   2018-12-24   758.31\n",
       "\n",
       "[104825 rows x 4 columns]"
      ]
     },
     "metadata": {},
     "output_type": "display_data"
    }
   ],
   "source": [
    "display(df_internet)\n",
    "#change column name id to session\n",
    "#see how many 0 values in mb_used and analyze"
   ]
  },
  {
   "cell_type": "code",
   "execution_count": 7,
   "metadata": {},
   "outputs": [
    {
     "data": {
      "text/html": [
       "<div>\n",
       "<style scoped>\n",
       "    .dataframe tbody tr th:only-of-type {\n",
       "        vertical-align: middle;\n",
       "    }\n",
       "\n",
       "    .dataframe tbody tr th {\n",
       "        vertical-align: top;\n",
       "    }\n",
       "\n",
       "    .dataframe thead th {\n",
       "        text-align: right;\n",
       "    }\n",
       "</style>\n",
       "<table border=\"1\" class=\"dataframe\">\n",
       "  <thead>\n",
       "    <tr style=\"text-align: right;\">\n",
       "      <th></th>\n",
       "      <th>id</th>\n",
       "      <th>user_id</th>\n",
       "      <th>call_date</th>\n",
       "      <th>duration</th>\n",
       "    </tr>\n",
       "  </thead>\n",
       "  <tbody>\n",
       "    <tr>\n",
       "      <th>0</th>\n",
       "      <td>1000_93</td>\n",
       "      <td>1000</td>\n",
       "      <td>2018-12-27</td>\n",
       "      <td>8.52</td>\n",
       "    </tr>\n",
       "    <tr>\n",
       "      <th>1</th>\n",
       "      <td>1000_145</td>\n",
       "      <td>1000</td>\n",
       "      <td>2018-12-27</td>\n",
       "      <td>13.66</td>\n",
       "    </tr>\n",
       "    <tr>\n",
       "      <th>2</th>\n",
       "      <td>1000_247</td>\n",
       "      <td>1000</td>\n",
       "      <td>2018-12-27</td>\n",
       "      <td>14.48</td>\n",
       "    </tr>\n",
       "    <tr>\n",
       "      <th>3</th>\n",
       "      <td>1000_309</td>\n",
       "      <td>1000</td>\n",
       "      <td>2018-12-28</td>\n",
       "      <td>5.76</td>\n",
       "    </tr>\n",
       "    <tr>\n",
       "      <th>4</th>\n",
       "      <td>1000_380</td>\n",
       "      <td>1000</td>\n",
       "      <td>2018-12-30</td>\n",
       "      <td>4.22</td>\n",
       "    </tr>\n",
       "    <tr>\n",
       "      <th>...</th>\n",
       "      <td>...</td>\n",
       "      <td>...</td>\n",
       "      <td>...</td>\n",
       "      <td>...</td>\n",
       "    </tr>\n",
       "    <tr>\n",
       "      <th>137730</th>\n",
       "      <td>1499_199</td>\n",
       "      <td>1499</td>\n",
       "      <td>2018-11-21</td>\n",
       "      <td>8.72</td>\n",
       "    </tr>\n",
       "    <tr>\n",
       "      <th>137731</th>\n",
       "      <td>1499_200</td>\n",
       "      <td>1499</td>\n",
       "      <td>2018-10-20</td>\n",
       "      <td>10.89</td>\n",
       "    </tr>\n",
       "    <tr>\n",
       "      <th>137732</th>\n",
       "      <td>1499_201</td>\n",
       "      <td>1499</td>\n",
       "      <td>2018-09-21</td>\n",
       "      <td>8.12</td>\n",
       "    </tr>\n",
       "    <tr>\n",
       "      <th>137733</th>\n",
       "      <td>1499_202</td>\n",
       "      <td>1499</td>\n",
       "      <td>2018-10-10</td>\n",
       "      <td>0.37</td>\n",
       "    </tr>\n",
       "    <tr>\n",
       "      <th>137734</th>\n",
       "      <td>1499_203</td>\n",
       "      <td>1499</td>\n",
       "      <td>2018-12-29</td>\n",
       "      <td>13.86</td>\n",
       "    </tr>\n",
       "  </tbody>\n",
       "</table>\n",
       "<p>137735 rows × 4 columns</p>\n",
       "</div>"
      ],
      "text/plain": [
       "              id  user_id   call_date  duration\n",
       "0        1000_93     1000  2018-12-27      8.52\n",
       "1       1000_145     1000  2018-12-27     13.66\n",
       "2       1000_247     1000  2018-12-27     14.48\n",
       "3       1000_309     1000  2018-12-28      5.76\n",
       "4       1000_380     1000  2018-12-30      4.22\n",
       "...          ...      ...         ...       ...\n",
       "137730  1499_199     1499  2018-11-21      8.72\n",
       "137731  1499_200     1499  2018-10-20     10.89\n",
       "137732  1499_201     1499  2018-09-21      8.12\n",
       "137733  1499_202     1499  2018-10-10      0.37\n",
       "137734  1499_203     1499  2018-12-29     13.86\n",
       "\n",
       "[137735 rows x 4 columns]"
      ]
     },
     "metadata": {},
     "output_type": "display_data"
    }
   ],
   "source": [
    "display(df_calls)\n",
    "#convert values in duration to time"
   ]
  },
  {
   "cell_type": "markdown",
   "metadata": {},
   "source": [
    "## Plans"
   ]
  },
  {
   "cell_type": "code",
   "execution_count": 8,
   "metadata": {},
   "outputs": [
    {
     "name": "stdout",
     "output_type": "stream",
     "text": [
      "<class 'pandas.core.frame.DataFrame'>\n",
      "RangeIndex: 2 entries, 0 to 1\n",
      "Data columns (total 8 columns):\n",
      " #   Column                 Non-Null Count  Dtype  \n",
      "---  ------                 --------------  -----  \n",
      " 0   messages_included      2 non-null      int64  \n",
      " 1   mb_per_month_included  2 non-null      int64  \n",
      " 2   minutes_included       2 non-null      int64  \n",
      " 3   usd_monthly_pay        2 non-null      int64  \n",
      " 4   usd_per_gb             2 non-null      int64  \n",
      " 5   usd_per_message        2 non-null      float64\n",
      " 6   usd_per_minute         2 non-null      float64\n",
      " 7   plan_name              2 non-null      object \n",
      "dtypes: float64(2), int64(5), object(1)\n",
      "memory usage: 256.0+ bytes\n",
      "None\n"
     ]
    }
   ],
   "source": [
    "# Print the general/summary information about the plans' DataFrame\n",
    "#dtype is correct\n",
    "print(df_plans.info())"
   ]
  },
  {
   "cell_type": "code",
   "execution_count": 9,
   "metadata": {
    "scrolled": true
   },
   "outputs": [
    {
     "data": {
      "text/html": [
       "<div>\n",
       "<style scoped>\n",
       "    .dataframe tbody tr th:only-of-type {\n",
       "        vertical-align: middle;\n",
       "    }\n",
       "\n",
       "    .dataframe tbody tr th {\n",
       "        vertical-align: top;\n",
       "    }\n",
       "\n",
       "    .dataframe thead th {\n",
       "        text-align: right;\n",
       "    }\n",
       "</style>\n",
       "<table border=\"1\" class=\"dataframe\">\n",
       "  <thead>\n",
       "    <tr style=\"text-align: right;\">\n",
       "      <th></th>\n",
       "      <th>messages_included</th>\n",
       "      <th>mb_per_month_included</th>\n",
       "      <th>minutes_included</th>\n",
       "      <th>usd_monthly_pay</th>\n",
       "      <th>usd_per_gb</th>\n",
       "      <th>usd_per_message</th>\n",
       "      <th>usd_per_minute</th>\n",
       "      <th>plan_name</th>\n",
       "    </tr>\n",
       "  </thead>\n",
       "  <tbody>\n",
       "    <tr>\n",
       "      <th>0</th>\n",
       "      <td>50</td>\n",
       "      <td>15360</td>\n",
       "      <td>500</td>\n",
       "      <td>20</td>\n",
       "      <td>10</td>\n",
       "      <td>0.03</td>\n",
       "      <td>0.03</td>\n",
       "      <td>surf</td>\n",
       "    </tr>\n",
       "    <tr>\n",
       "      <th>1</th>\n",
       "      <td>1000</td>\n",
       "      <td>30720</td>\n",
       "      <td>3000</td>\n",
       "      <td>70</td>\n",
       "      <td>7</td>\n",
       "      <td>0.01</td>\n",
       "      <td>0.01</td>\n",
       "      <td>ultimate</td>\n",
       "    </tr>\n",
       "  </tbody>\n",
       "</table>\n",
       "</div>"
      ],
      "text/plain": [
       "   messages_included  mb_per_month_included  minutes_included  \\\n",
       "0                 50                  15360               500   \n",
       "1               1000                  30720              3000   \n",
       "\n",
       "   usd_monthly_pay  usd_per_gb  usd_per_message  usd_per_minute plan_name  \n",
       "0               20          10             0.03            0.03      surf  \n",
       "1               70           7             0.01            0.01  ultimate  "
      ]
     },
     "metadata": {},
     "output_type": "display_data"
    }
   ],
   "source": [
    "#study the columns in plans\n",
    "display(df_plans.head())"
   ]
  },
  {
   "cell_type": "markdown",
   "metadata": {},
   "source": [
    "dtype is correct... 8 columns(plan details), two rows(the plans)...i have all the details i need for analyzing the two plans the company offers... no missing values (indicated in fix data 1.4.1)\n"
   ]
  },
  {
   "cell_type": "markdown",
   "metadata": {},
   "source": [
    "[Describe what you see and notice in the general information and the printed data sample for the above price of data. Are there any issues (inappropriate data types, missing data etc) that may need further investigation and changes? How that can be fixed?]"
   ]
  },
  {
   "cell_type": "markdown",
   "metadata": {},
   "source": [
    " "
   ]
  },
  {
   "cell_type": "markdown",
   "metadata": {},
   "source": [
    "### Fix data"
   ]
  },
  {
   "cell_type": "markdown",
   "metadata": {},
   "source": [
    "[Fix obvious issues with the data given the initial observations.]"
   ]
  },
  {
   "cell_type": "code",
   "execution_count": 10,
   "metadata": {},
   "outputs": [
    {
     "data": {
      "text/plain": [
       "messages_included        0\n",
       "mb_per_month_included    0\n",
       "minutes_included         0\n",
       "usd_monthly_pay          0\n",
       "usd_per_gb               0\n",
       "usd_per_message          0\n",
       "usd_per_minute           0\n",
       "plan_name                0\n",
       "dtype: int64"
      ]
     },
     "execution_count": 10,
     "metadata": {},
     "output_type": "execute_result"
    }
   ],
   "source": [
    "#check for missing values\n",
    "df_plans.isnull().sum()"
   ]
  },
  {
   "cell_type": "markdown",
   "metadata": {},
   "source": [
    "### Enrich data"
   ]
  },
  {
   "cell_type": "markdown",
   "metadata": {},
   "source": [
    "[Add additional factors to the data if you believe they might be useful.]"
   ]
  },
  {
   "cell_type": "code",
   "execution_count": 11,
   "metadata": {},
   "outputs": [],
   "source": [
    "#rename plan_name to plan\n",
    "df_plans.rename(columns = {\"plan_name\":\"plan\"},inplace=True)"
   ]
  },
  {
   "cell_type": "code",
   "execution_count": 12,
   "metadata": {},
   "outputs": [
    {
     "data": {
      "text/plain": [
       "0    15.0\n",
       "1    30.0\n",
       "Name: gb_per_month_included, dtype: float64"
      ]
     },
     "execution_count": 12,
     "metadata": {},
     "output_type": "execute_result"
    }
   ],
   "source": [
    "df_plans['gb_per_month_included'] = np.ceil(df_plans['mb_per_month_included']/1024)\n",
    "df_plans['gb_per_month_included'].head()"
   ]
  },
  {
   "cell_type": "code",
   "execution_count": 13,
   "metadata": {},
   "outputs": [],
   "source": [
    "del df_plans['mb_per_month_included']"
   ]
  },
  {
   "cell_type": "markdown",
   "metadata": {},
   "source": [
    "## Users"
   ]
  },
  {
   "cell_type": "code",
   "execution_count": 14,
   "metadata": {
    "scrolled": true
   },
   "outputs": [
    {
     "name": "stdout",
     "output_type": "stream",
     "text": [
      "<class 'pandas.core.frame.DataFrame'>\n",
      "RangeIndex: 500 entries, 0 to 499\n",
      "Data columns (total 8 columns):\n",
      " #   Column      Non-Null Count  Dtype \n",
      "---  ------      --------------  ----- \n",
      " 0   user_id     500 non-null    int64 \n",
      " 1   first_name  500 non-null    object\n",
      " 2   last_name   500 non-null    object\n",
      " 3   age         500 non-null    int64 \n",
      " 4   city        500 non-null    object\n",
      " 5   reg_date    500 non-null    object\n",
      " 6   plan        500 non-null    object\n",
      " 7   churn_date  34 non-null     object\n",
      "dtypes: int64(2), object(6)\n",
      "memory usage: 31.4+ KB\n",
      "None\n"
     ]
    }
   ],
   "source": [
    "# Print the general/summary information about the users' DataFrame\n",
    "print(df_users.info())"
   ]
  },
  {
   "cell_type": "code",
   "execution_count": 15,
   "metadata": {},
   "outputs": [
    {
     "data": {
      "text/html": [
       "<div>\n",
       "<style scoped>\n",
       "    .dataframe tbody tr th:only-of-type {\n",
       "        vertical-align: middle;\n",
       "    }\n",
       "\n",
       "    .dataframe tbody tr th {\n",
       "        vertical-align: top;\n",
       "    }\n",
       "\n",
       "    .dataframe thead th {\n",
       "        text-align: right;\n",
       "    }\n",
       "</style>\n",
       "<table border=\"1\" class=\"dataframe\">\n",
       "  <thead>\n",
       "    <tr style=\"text-align: right;\">\n",
       "      <th></th>\n",
       "      <th>user_id</th>\n",
       "      <th>first_name</th>\n",
       "      <th>last_name</th>\n",
       "      <th>age</th>\n",
       "      <th>city</th>\n",
       "      <th>reg_date</th>\n",
       "      <th>plan</th>\n",
       "      <th>churn_date</th>\n",
       "    </tr>\n",
       "  </thead>\n",
       "  <tbody>\n",
       "    <tr>\n",
       "      <th>0</th>\n",
       "      <td>1000</td>\n",
       "      <td>Anamaria</td>\n",
       "      <td>Bauer</td>\n",
       "      <td>45</td>\n",
       "      <td>Atlanta-Sandy Springs-Roswell, GA MSA</td>\n",
       "      <td>2018-12-24</td>\n",
       "      <td>ultimate</td>\n",
       "      <td>NaN</td>\n",
       "    </tr>\n",
       "    <tr>\n",
       "      <th>1</th>\n",
       "      <td>1001</td>\n",
       "      <td>Mickey</td>\n",
       "      <td>Wilkerson</td>\n",
       "      <td>28</td>\n",
       "      <td>Seattle-Tacoma-Bellevue, WA MSA</td>\n",
       "      <td>2018-08-13</td>\n",
       "      <td>surf</td>\n",
       "      <td>NaN</td>\n",
       "    </tr>\n",
       "    <tr>\n",
       "      <th>2</th>\n",
       "      <td>1002</td>\n",
       "      <td>Carlee</td>\n",
       "      <td>Hoffman</td>\n",
       "      <td>36</td>\n",
       "      <td>Las Vegas-Henderson-Paradise, NV MSA</td>\n",
       "      <td>2018-10-21</td>\n",
       "      <td>surf</td>\n",
       "      <td>NaN</td>\n",
       "    </tr>\n",
       "    <tr>\n",
       "      <th>3</th>\n",
       "      <td>1003</td>\n",
       "      <td>Reynaldo</td>\n",
       "      <td>Jenkins</td>\n",
       "      <td>52</td>\n",
       "      <td>Tulsa, OK MSA</td>\n",
       "      <td>2018-01-28</td>\n",
       "      <td>surf</td>\n",
       "      <td>NaN</td>\n",
       "    </tr>\n",
       "    <tr>\n",
       "      <th>4</th>\n",
       "      <td>1004</td>\n",
       "      <td>Leonila</td>\n",
       "      <td>Thompson</td>\n",
       "      <td>40</td>\n",
       "      <td>Seattle-Tacoma-Bellevue, WA MSA</td>\n",
       "      <td>2018-05-23</td>\n",
       "      <td>surf</td>\n",
       "      <td>NaN</td>\n",
       "    </tr>\n",
       "  </tbody>\n",
       "</table>\n",
       "</div>"
      ],
      "text/plain": [
       "   user_id first_name  last_name  age                                   city  \\\n",
       "0     1000   Anamaria      Bauer   45  Atlanta-Sandy Springs-Roswell, GA MSA   \n",
       "1     1001     Mickey  Wilkerson   28        Seattle-Tacoma-Bellevue, WA MSA   \n",
       "2     1002     Carlee    Hoffman   36   Las Vegas-Henderson-Paradise, NV MSA   \n",
       "3     1003   Reynaldo    Jenkins   52                          Tulsa, OK MSA   \n",
       "4     1004    Leonila   Thompson   40        Seattle-Tacoma-Bellevue, WA MSA   \n",
       "\n",
       "     reg_date      plan churn_date  \n",
       "0  2018-12-24  ultimate        NaN  \n",
       "1  2018-08-13      surf        NaN  \n",
       "2  2018-10-21      surf        NaN  \n",
       "3  2018-01-28      surf        NaN  \n",
       "4  2018-05-23      surf        NaN  "
      ]
     },
     "metadata": {},
     "output_type": "display_data"
    }
   ],
   "source": [
    "# Print a sample of data for users\n",
    "display(df_users.head())"
   ]
  },
  {
   "cell_type": "markdown",
   "metadata": {},
   "source": [
    "[Describe what you see and notice in the general information and the printed data sample for the above price of data. Are there any issues (inappropriate data types, missing data etc) that may need further investigation and changes? How that can be fixed?]"
   ]
  },
  {
   "cell_type": "markdown",
   "metadata": {},
   "source": [
    "I see what plan each user had, the details include: the first and last name of the user, their age, location, and the day they got the plan. It also has a column if the user terminated their service. I need to chage the dtype of the registration date. If churn date has any missing values, it means they have not cancelled. "
   ]
  },
  {
   "cell_type": "markdown",
   "metadata": {},
   "source": [
    " "
   ]
  },
  {
   "cell_type": "markdown",
   "metadata": {},
   "source": [
    "### Fix Data"
   ]
  },
  {
   "cell_type": "markdown",
   "metadata": {},
   "source": [
    "[Fix obvious issues with the data given the initial observations.]"
   ]
  },
  {
   "cell_type": "code",
   "execution_count": 16,
   "metadata": {},
   "outputs": [],
   "source": [
    "#fix dtype\n",
    "df_users['reg_date'] = pd.to_datetime(df_users['reg_date'])"
   ]
  },
  {
   "cell_type": "code",
   "execution_count": 17,
   "metadata": {},
   "outputs": [
    {
     "data": {
      "text/plain": [
       "user_id         0\n",
       "first_name      0\n",
       "last_name       0\n",
       "age             0\n",
       "city            0\n",
       "reg_date        0\n",
       "plan            0\n",
       "churn_date    466\n",
       "dtype: int64"
      ]
     },
     "execution_count": 17,
     "metadata": {},
     "output_type": "execute_result"
    }
   ],
   "source": [
    "#check for missing values \n",
    "df_users.isnull().sum()"
   ]
  },
  {
   "cell_type": "markdown",
   "metadata": {},
   "source": [
    "### Enrich Data"
   ]
  },
  {
   "cell_type": "markdown",
   "metadata": {},
   "source": [
    "[Add additional factors to the data if you believe they might be useful.]"
   ]
  },
  {
   "cell_type": "code",
   "execution_count": 18,
   "metadata": {},
   "outputs": [
    {
     "data": {
      "text/plain": [
       "[0, 6, 2, 3, 1, 4, 5]"
      ]
     },
     "execution_count": 18,
     "metadata": {},
     "output_type": "execute_result"
    }
   ],
   "source": [
    "#day of week column \n",
    "df_users['day_of_week'] = pd.DatetimeIndex(df_users['reg_date']).weekday\n",
    "\n",
    "df_users['day_of_week'].unique().tolist()"
   ]
  },
  {
   "cell_type": "code",
   "execution_count": 19,
   "metadata": {},
   "outputs": [
    {
     "data": {
      "text/plain": [
       "[12, 8, 10, 1, 5, 11, 7, 4, 3, 6, 2, 9]"
      ]
     },
     "execution_count": 19,
     "metadata": {},
     "output_type": "execute_result"
    }
   ],
   "source": [
    "#month column\n",
    "df_users['reg_month'] = df_users['reg_date'].dt.month\n",
    "df_users['reg_month'].unique().tolist()"
   ]
  },
  {
   "cell_type": "markdown",
   "metadata": {},
   "source": [
    "## Calls"
   ]
  },
  {
   "cell_type": "code",
   "execution_count": 20,
   "metadata": {},
   "outputs": [
    {
     "name": "stdout",
     "output_type": "stream",
     "text": [
      "<class 'pandas.core.frame.DataFrame'>\n",
      "RangeIndex: 137735 entries, 0 to 137734\n",
      "Data columns (total 4 columns):\n",
      " #   Column     Non-Null Count   Dtype  \n",
      "---  ------     --------------   -----  \n",
      " 0   id         137735 non-null  object \n",
      " 1   user_id    137735 non-null  int64  \n",
      " 2   call_date  137735 non-null  object \n",
      " 3   duration   137735 non-null  float64\n",
      "dtypes: float64(1), int64(1), object(2)\n",
      "memory usage: 4.2+ MB\n",
      "None\n"
     ]
    }
   ],
   "source": [
    "# Print the general/summary information about the calls' DataFrame\n",
    "print(df_calls.info())"
   ]
  },
  {
   "cell_type": "code",
   "execution_count": 21,
   "metadata": {},
   "outputs": [
    {
     "data": {
      "text/html": [
       "<div>\n",
       "<style scoped>\n",
       "    .dataframe tbody tr th:only-of-type {\n",
       "        vertical-align: middle;\n",
       "    }\n",
       "\n",
       "    .dataframe tbody tr th {\n",
       "        vertical-align: top;\n",
       "    }\n",
       "\n",
       "    .dataframe thead th {\n",
       "        text-align: right;\n",
       "    }\n",
       "</style>\n",
       "<table border=\"1\" class=\"dataframe\">\n",
       "  <thead>\n",
       "    <tr style=\"text-align: right;\">\n",
       "      <th></th>\n",
       "      <th>id</th>\n",
       "      <th>user_id</th>\n",
       "      <th>call_date</th>\n",
       "      <th>duration</th>\n",
       "    </tr>\n",
       "  </thead>\n",
       "  <tbody>\n",
       "    <tr>\n",
       "      <th>0</th>\n",
       "      <td>1000_93</td>\n",
       "      <td>1000</td>\n",
       "      <td>2018-12-27</td>\n",
       "      <td>8.52</td>\n",
       "    </tr>\n",
       "    <tr>\n",
       "      <th>1</th>\n",
       "      <td>1000_145</td>\n",
       "      <td>1000</td>\n",
       "      <td>2018-12-27</td>\n",
       "      <td>13.66</td>\n",
       "    </tr>\n",
       "    <tr>\n",
       "      <th>2</th>\n",
       "      <td>1000_247</td>\n",
       "      <td>1000</td>\n",
       "      <td>2018-12-27</td>\n",
       "      <td>14.48</td>\n",
       "    </tr>\n",
       "    <tr>\n",
       "      <th>3</th>\n",
       "      <td>1000_309</td>\n",
       "      <td>1000</td>\n",
       "      <td>2018-12-28</td>\n",
       "      <td>5.76</td>\n",
       "    </tr>\n",
       "    <tr>\n",
       "      <th>4</th>\n",
       "      <td>1000_380</td>\n",
       "      <td>1000</td>\n",
       "      <td>2018-12-30</td>\n",
       "      <td>4.22</td>\n",
       "    </tr>\n",
       "  </tbody>\n",
       "</table>\n",
       "</div>"
      ],
      "text/plain": [
       "         id  user_id   call_date  duration\n",
       "0   1000_93     1000  2018-12-27      8.52\n",
       "1  1000_145     1000  2018-12-27     13.66\n",
       "2  1000_247     1000  2018-12-27     14.48\n",
       "3  1000_309     1000  2018-12-28      5.76\n",
       "4  1000_380     1000  2018-12-30      4.22"
      ]
     },
     "metadata": {},
     "output_type": "display_data"
    }
   ],
   "source": [
    "# Print a sample of data for calls\n",
    "display(df_calls.head())"
   ]
  },
  {
   "cell_type": "code",
   "execution_count": 22,
   "metadata": {},
   "outputs": [
    {
     "data": {
      "text/plain": [
       "id           0\n",
       "user_id      0\n",
       "call_date    0\n",
       "duration     0\n",
       "dtype: int64"
      ]
     },
     "execution_count": 22,
     "metadata": {},
     "output_type": "execute_result"
    }
   ],
   "source": [
    "#check for missing values\n",
    "df_calls.isnull().sum()"
   ]
  },
  {
   "cell_type": "markdown",
   "metadata": {},
   "source": [
    "[Describe what you see and notice in the general information and the printed data sample for the above price of data. Are there any issues (inappropriate data types, missing data etc) that may need further investigation and changes? How that can be fixed?]"
   ]
  },
  {
   "cell_type": "markdown",
   "metadata": {},
   "source": [
    "This shows call usage. I see call and duration, with a corresponding date. I will fix the dtype for call_date. "
   ]
  },
  {
   "cell_type": "markdown",
   "metadata": {},
   "source": [
    " "
   ]
  },
  {
   "cell_type": "markdown",
   "metadata": {},
   "source": [
    "### Fix data"
   ]
  },
  {
   "cell_type": "markdown",
   "metadata": {},
   "source": [
    "[Fix obvious issues with the data given the initial observations.]"
   ]
  },
  {
   "cell_type": "code",
   "execution_count": 23,
   "metadata": {},
   "outputs": [],
   "source": [
    "#fix dtype\n",
    "df_calls['call_date'] = pd.to_datetime(df_calls['call_date'])"
   ]
  },
  {
   "cell_type": "markdown",
   "metadata": {},
   "source": [
    "### Enrich data"
   ]
  },
  {
   "cell_type": "markdown",
   "metadata": {},
   "source": [
    "[Add additional factors to the data if you believe they might be useful.]"
   ]
  },
  {
   "cell_type": "code",
   "execution_count": 24,
   "metadata": {},
   "outputs": [
    {
     "data": {
      "text/plain": [
       "[3, 4, 6, 0, 2, 5, 1]"
      ]
     },
     "execution_count": 24,
     "metadata": {},
     "output_type": "execute_result"
    }
   ],
   "source": [
    "#day of week column \n",
    "df_calls['day_of_week'] = pd.DatetimeIndex(df_calls['call_date']).weekday\n",
    "\n",
    "df_calls['day_of_week'].unique().tolist()"
   ]
  },
  {
   "cell_type": "code",
   "execution_count": 25,
   "metadata": {},
   "outputs": [
    {
     "data": {
      "text/plain": [
       "[12, 9, 10, 11, 8, 7, 6, 5, 3, 4, 2, 1]"
      ]
     },
     "execution_count": 25,
     "metadata": {},
     "output_type": "execute_result"
    }
   ],
   "source": [
    "#month column\n",
    "df_calls['month'] = df_calls['call_date'].dt.month\n",
    "df_calls['month'].unique().tolist()"
   ]
  },
  {
   "cell_type": "code",
   "execution_count": 26,
   "metadata": {},
   "outputs": [
    {
     "data": {
      "text/plain": [
       "0     9.0\n",
       "1    14.0\n",
       "2    14.0\n",
       "3     6.0\n",
       "4     4.0\n",
       "Name: duration, dtype: float64"
      ]
     },
     "execution_count": 26,
     "metadata": {},
     "output_type": "execute_result"
    }
   ],
   "source": [
    "#round numbers in duration\n",
    "df_calls['duration'] = df_calls['duration'].round()\n",
    "df_calls['duration'].head()"
   ]
  },
  {
   "cell_type": "code",
   "execution_count": 27,
   "metadata": {},
   "outputs": [
    {
     "data": {
      "text/plain": [
       "0     9\n",
       "1    14\n",
       "2    14\n",
       "3     6\n",
       "4     4\n",
       "Name: duration, dtype: int64"
      ]
     },
     "execution_count": 27,
     "metadata": {},
     "output_type": "execute_result"
    }
   ],
   "source": [
    "#make durstion int\n",
    "df_calls['duration'] = df_calls['duration'].astype(int)\n",
    "df_calls['duration'].head()"
   ]
  },
  {
   "cell_type": "code",
   "execution_count": 28,
   "metadata": {},
   "outputs": [],
   "source": [
    "# change id to call_id\n",
    "df_calls.rename(columns = {\"id\": \"call_id\"}, inplace=True)"
   ]
  },
  {
   "cell_type": "markdown",
   "metadata": {},
   "source": [
    "## Messages"
   ]
  },
  {
   "cell_type": "code",
   "execution_count": 29,
   "metadata": {},
   "outputs": [
    {
     "name": "stdout",
     "output_type": "stream",
     "text": [
      "<class 'pandas.core.frame.DataFrame'>\n",
      "RangeIndex: 76051 entries, 0 to 76050\n",
      "Data columns (total 3 columns):\n",
      " #   Column        Non-Null Count  Dtype \n",
      "---  ------        --------------  ----- \n",
      " 0   id            76051 non-null  object\n",
      " 1   user_id       76051 non-null  int64 \n",
      " 2   message_date  76051 non-null  object\n",
      "dtypes: int64(1), object(2)\n",
      "memory usage: 1.7+ MB\n",
      "None\n"
     ]
    }
   ],
   "source": [
    "# Print the general/summary information about the messages' DataFrame\n",
    "print(df_messages.info())"
   ]
  },
  {
   "cell_type": "code",
   "execution_count": 30,
   "metadata": {},
   "outputs": [
    {
     "data": {
      "text/html": [
       "<div>\n",
       "<style scoped>\n",
       "    .dataframe tbody tr th:only-of-type {\n",
       "        vertical-align: middle;\n",
       "    }\n",
       "\n",
       "    .dataframe tbody tr th {\n",
       "        vertical-align: top;\n",
       "    }\n",
       "\n",
       "    .dataframe thead th {\n",
       "        text-align: right;\n",
       "    }\n",
       "</style>\n",
       "<table border=\"1\" class=\"dataframe\">\n",
       "  <thead>\n",
       "    <tr style=\"text-align: right;\">\n",
       "      <th></th>\n",
       "      <th>id</th>\n",
       "      <th>user_id</th>\n",
       "      <th>message_date</th>\n",
       "    </tr>\n",
       "  </thead>\n",
       "  <tbody>\n",
       "    <tr>\n",
       "      <th>0</th>\n",
       "      <td>1000_125</td>\n",
       "      <td>1000</td>\n",
       "      <td>2018-12-27</td>\n",
       "    </tr>\n",
       "    <tr>\n",
       "      <th>1</th>\n",
       "      <td>1000_160</td>\n",
       "      <td>1000</td>\n",
       "      <td>2018-12-31</td>\n",
       "    </tr>\n",
       "    <tr>\n",
       "      <th>2</th>\n",
       "      <td>1000_223</td>\n",
       "      <td>1000</td>\n",
       "      <td>2018-12-31</td>\n",
       "    </tr>\n",
       "    <tr>\n",
       "      <th>3</th>\n",
       "      <td>1000_251</td>\n",
       "      <td>1000</td>\n",
       "      <td>2018-12-27</td>\n",
       "    </tr>\n",
       "    <tr>\n",
       "      <th>4</th>\n",
       "      <td>1000_255</td>\n",
       "      <td>1000</td>\n",
       "      <td>2018-12-26</td>\n",
       "    </tr>\n",
       "  </tbody>\n",
       "</table>\n",
       "</div>"
      ],
      "text/plain": [
       "         id  user_id message_date\n",
       "0  1000_125     1000   2018-12-27\n",
       "1  1000_160     1000   2018-12-31\n",
       "2  1000_223     1000   2018-12-31\n",
       "3  1000_251     1000   2018-12-27\n",
       "4  1000_255     1000   2018-12-26"
      ]
     },
     "metadata": {},
     "output_type": "display_data"
    }
   ],
   "source": [
    "# Print a sample of data for messages\n",
    "display(df_messages.head())"
   ]
  },
  {
   "cell_type": "markdown",
   "metadata": {},
   "source": [
    "[Describe what you see and notice in the general information and the printed data sample for the above price of data. Are there any issues (inappropriate data types, missing data etc) that may need further investigation and changes? How that can be fixed?]"
   ]
  },
  {
   "cell_type": "markdown",
   "metadata": {},
   "source": [
    "I see message usage of each user, with a corresponding date. I will cahnge dtype of the id and message_date. "
   ]
  },
  {
   "cell_type": "markdown",
   "metadata": {},
   "source": [
    " "
   ]
  },
  {
   "cell_type": "markdown",
   "metadata": {},
   "source": [
    "### Fix data"
   ]
  },
  {
   "cell_type": "markdown",
   "metadata": {},
   "source": [
    "[Fix obvious issues with the data given the initial observations.]"
   ]
  },
  {
   "cell_type": "code",
   "execution_count": 31,
   "metadata": {},
   "outputs": [],
   "source": [
    "#make id int\n",
    "df_messages['id'] = df_messages['id'].astype(int)"
   ]
  },
  {
   "cell_type": "code",
   "execution_count": 32,
   "metadata": {},
   "outputs": [],
   "source": [
    "#message_date should be date dtype\n",
    "df_messages['message_date'] = pd.to_datetime(df_messages['message_date'])"
   ]
  },
  {
   "cell_type": "code",
   "execution_count": 33,
   "metadata": {},
   "outputs": [
    {
     "data": {
      "text/plain": [
       "id              0\n",
       "user_id         0\n",
       "message_date    0\n",
       "dtype: int64"
      ]
     },
     "execution_count": 33,
     "metadata": {},
     "output_type": "execute_result"
    }
   ],
   "source": [
    "#check for missing values\n",
    "df_messages.isnull().sum()"
   ]
  },
  {
   "cell_type": "markdown",
   "metadata": {},
   "source": [
    "### Enrich data"
   ]
  },
  {
   "cell_type": "markdown",
   "metadata": {},
   "source": [
    "[Add additional factors to the data if you believe they might be useful.]"
   ]
  },
  {
   "cell_type": "code",
   "execution_count": 34,
   "metadata": {},
   "outputs": [
    {
     "data": {
      "text/plain": [
       "[3, 0, 2, 5, 6, 4, 1]"
      ]
     },
     "execution_count": 34,
     "metadata": {},
     "output_type": "execute_result"
    }
   ],
   "source": [
    "#day of week column \n",
    "df_messages['day_of_week'] = pd.DatetimeIndex(df_messages['message_date']).weekday\n",
    "\n",
    "df_messages['day_of_week'].unique().tolist()"
   ]
  },
  {
   "cell_type": "code",
   "execution_count": 35,
   "metadata": {},
   "outputs": [
    {
     "data": {
      "text/plain": [
       "[12, 11, 8, 10, 9, 6, 7, 5, 4, 3, 2, 1]"
      ]
     },
     "execution_count": 35,
     "metadata": {},
     "output_type": "execute_result"
    }
   ],
   "source": [
    "#month column\n",
    "df_messages['month'] = df_messages['message_date'].dt.month\n",
    "df_messages['month'].unique().tolist()"
   ]
  },
  {
   "cell_type": "markdown",
   "metadata": {},
   "source": [
    "## Internet"
   ]
  },
  {
   "cell_type": "code",
   "execution_count": 36,
   "metadata": {},
   "outputs": [
    {
     "name": "stdout",
     "output_type": "stream",
     "text": [
      "<class 'pandas.core.frame.DataFrame'>\n",
      "RangeIndex: 104825 entries, 0 to 104824\n",
      "Data columns (total 4 columns):\n",
      " #   Column        Non-Null Count   Dtype  \n",
      "---  ------        --------------   -----  \n",
      " 0   id            104825 non-null  object \n",
      " 1   user_id       104825 non-null  int64  \n",
      " 2   session_date  104825 non-null  object \n",
      " 3   mb_used       104825 non-null  float64\n",
      "dtypes: float64(1), int64(1), object(2)\n",
      "memory usage: 3.2+ MB\n",
      "None\n"
     ]
    }
   ],
   "source": [
    "# Print the general/summary information about the internet DataFrame\n",
    "print(df_internet.info())"
   ]
  },
  {
   "cell_type": "code",
   "execution_count": 37,
   "metadata": {},
   "outputs": [
    {
     "data": {
      "text/html": [
       "<div>\n",
       "<style scoped>\n",
       "    .dataframe tbody tr th:only-of-type {\n",
       "        vertical-align: middle;\n",
       "    }\n",
       "\n",
       "    .dataframe tbody tr th {\n",
       "        vertical-align: top;\n",
       "    }\n",
       "\n",
       "    .dataframe thead th {\n",
       "        text-align: right;\n",
       "    }\n",
       "</style>\n",
       "<table border=\"1\" class=\"dataframe\">\n",
       "  <thead>\n",
       "    <tr style=\"text-align: right;\">\n",
       "      <th></th>\n",
       "      <th>id</th>\n",
       "      <th>user_id</th>\n",
       "      <th>session_date</th>\n",
       "      <th>mb_used</th>\n",
       "    </tr>\n",
       "  </thead>\n",
       "  <tbody>\n",
       "    <tr>\n",
       "      <th>0</th>\n",
       "      <td>1000_13</td>\n",
       "      <td>1000</td>\n",
       "      <td>2018-12-29</td>\n",
       "      <td>89.86</td>\n",
       "    </tr>\n",
       "    <tr>\n",
       "      <th>1</th>\n",
       "      <td>1000_204</td>\n",
       "      <td>1000</td>\n",
       "      <td>2018-12-31</td>\n",
       "      <td>0.00</td>\n",
       "    </tr>\n",
       "    <tr>\n",
       "      <th>2</th>\n",
       "      <td>1000_379</td>\n",
       "      <td>1000</td>\n",
       "      <td>2018-12-28</td>\n",
       "      <td>660.40</td>\n",
       "    </tr>\n",
       "    <tr>\n",
       "      <th>3</th>\n",
       "      <td>1000_413</td>\n",
       "      <td>1000</td>\n",
       "      <td>2018-12-26</td>\n",
       "      <td>270.99</td>\n",
       "    </tr>\n",
       "    <tr>\n",
       "      <th>4</th>\n",
       "      <td>1000_442</td>\n",
       "      <td>1000</td>\n",
       "      <td>2018-12-27</td>\n",
       "      <td>880.22</td>\n",
       "    </tr>\n",
       "  </tbody>\n",
       "</table>\n",
       "</div>"
      ],
      "text/plain": [
       "         id  user_id session_date  mb_used\n",
       "0   1000_13     1000   2018-12-29    89.86\n",
       "1  1000_204     1000   2018-12-31     0.00\n",
       "2  1000_379     1000   2018-12-28   660.40\n",
       "3  1000_413     1000   2018-12-26   270.99\n",
       "4  1000_442     1000   2018-12-27   880.22"
      ]
     },
     "metadata": {},
     "output_type": "display_data"
    }
   ],
   "source": [
    "# Print a sample of data for the internet traffic\n",
    "display(df_internet.head())"
   ]
  },
  {
   "cell_type": "markdown",
   "metadata": {},
   "source": [
    "[Describe what you see and notice in the general information and the printed data sample for the above price of data. Are there any issues (inappropriate data types, missing data etc) that may need further investigation and changes? How that can be fixed?]"
   ]
  },
  {
   "cell_type": "markdown",
   "metadata": {},
   "source": [
    "I see the data usage each session with a corresponding date. fix the dtype for session date and id"
   ]
  },
  {
   "cell_type": "markdown",
   "metadata": {},
   "source": [
    " "
   ]
  },
  {
   "cell_type": "markdown",
   "metadata": {},
   "source": [
    "### Fix data"
   ]
  },
  {
   "cell_type": "markdown",
   "metadata": {},
   "source": [
    "[Fix obvious issues with the data given the initial observations.]"
   ]
  },
  {
   "cell_type": "code",
   "execution_count": 38,
   "metadata": {},
   "outputs": [],
   "source": [
    "#session date convert to date dtype\n",
    "df_internet['session_date'] = pd.to_datetime(df_internet['session_date'])"
   ]
  },
  {
   "cell_type": "code",
   "execution_count": 39,
   "metadata": {},
   "outputs": [],
   "source": [
    "#internet id make int\n",
    "df_internet['id'] = df_internet['id'].astype(int)"
   ]
  },
  {
   "cell_type": "code",
   "execution_count": 40,
   "metadata": {},
   "outputs": [
    {
     "data": {
      "text/plain": [
       "id              0\n",
       "user_id         0\n",
       "session_date    0\n",
       "mb_used         0\n",
       "dtype: int64"
      ]
     },
     "execution_count": 40,
     "metadata": {},
     "output_type": "execute_result"
    }
   ],
   "source": [
    "#check for missing values \n",
    "df_internet.isnull().sum()"
   ]
  },
  {
   "cell_type": "markdown",
   "metadata": {},
   "source": [
    "### Enrich data"
   ]
  },
  {
   "cell_type": "markdown",
   "metadata": {},
   "source": [
    "[Add additional factors to the data if you believe they might be useful.]"
   ]
  },
  {
   "cell_type": "code",
   "execution_count": 41,
   "metadata": {},
   "outputs": [],
   "source": [
    "#round mb to gb (divide mb by 1024)\n",
    "df_internet['gb_used'] = df_internet['mb_used']/1024"
   ]
  },
  {
   "cell_type": "code",
   "execution_count": 42,
   "metadata": {},
   "outputs": [],
   "source": [
    "#delete column\n",
    "del df_internet['mb_used']"
   ]
  },
  {
   "cell_type": "code",
   "execution_count": 43,
   "metadata": {},
   "outputs": [
    {
     "data": {
      "text/plain": [
       "[5, 0, 4, 2, 3, 6, 1]"
      ]
     },
     "execution_count": 43,
     "metadata": {},
     "output_type": "execute_result"
    }
   ],
   "source": [
    "#day of week column\n",
    "df_internet['day_of_week'] = pd.DatetimeIndex(df_internet['session_date']).weekday\n",
    "df_internet['day_of_week'].unique().tolist()"
   ]
  },
  {
   "cell_type": "code",
   "execution_count": 44,
   "metadata": {},
   "outputs": [
    {
     "data": {
      "text/plain": [
       "[12, 8, 11, 10, 9, 7, 6, 5, 3, 4, 2, 1]"
      ]
     },
     "execution_count": 44,
     "metadata": {},
     "output_type": "execute_result"
    }
   ],
   "source": [
    "#month column\n",
    "df_internet['month'] = df_internet['session_date'].dt.month\n",
    "df_internet['month'].unique().tolist()"
   ]
  },
  {
   "cell_type": "code",
   "execution_count": 45,
   "metadata": {},
   "outputs": [],
   "source": [
    "#id to internet_id\n",
    "df_internet.rename(columns = {\"id\": \"internet_id\"}, inplace=True)"
   ]
  },
  {
   "cell_type": "markdown",
   "metadata": {},
   "source": [
    "## Study plan conditions"
   ]
  },
  {
   "cell_type": "markdown",
   "metadata": {},
   "source": [
    "[It is critical to understand how the plans work, how users are charged based on their plan subscription. So, we suggest printing out the plan information to view their conditions once again.]"
   ]
  },
  {
   "cell_type": "code",
   "execution_count": 46,
   "metadata": {
    "scrolled": true
   },
   "outputs": [
    {
     "data": {
      "text/html": [
       "<div>\n",
       "<style scoped>\n",
       "    .dataframe tbody tr th:only-of-type {\n",
       "        vertical-align: middle;\n",
       "    }\n",
       "\n",
       "    .dataframe tbody tr th {\n",
       "        vertical-align: top;\n",
       "    }\n",
       "\n",
       "    .dataframe thead th {\n",
       "        text-align: right;\n",
       "    }\n",
       "</style>\n",
       "<table border=\"1\" class=\"dataframe\">\n",
       "  <thead>\n",
       "    <tr style=\"text-align: right;\">\n",
       "      <th></th>\n",
       "      <th>messages_included</th>\n",
       "      <th>minutes_included</th>\n",
       "      <th>usd_monthly_pay</th>\n",
       "      <th>usd_per_gb</th>\n",
       "      <th>usd_per_message</th>\n",
       "      <th>usd_per_minute</th>\n",
       "      <th>plan</th>\n",
       "      <th>gb_per_month_included</th>\n",
       "    </tr>\n",
       "  </thead>\n",
       "  <tbody>\n",
       "    <tr>\n",
       "      <th>0</th>\n",
       "      <td>50</td>\n",
       "      <td>500</td>\n",
       "      <td>20</td>\n",
       "      <td>10</td>\n",
       "      <td>0.03</td>\n",
       "      <td>0.03</td>\n",
       "      <td>surf</td>\n",
       "      <td>15.0</td>\n",
       "    </tr>\n",
       "    <tr>\n",
       "      <th>1</th>\n",
       "      <td>1000</td>\n",
       "      <td>3000</td>\n",
       "      <td>70</td>\n",
       "      <td>7</td>\n",
       "      <td>0.01</td>\n",
       "      <td>0.01</td>\n",
       "      <td>ultimate</td>\n",
       "      <td>30.0</td>\n",
       "    </tr>\n",
       "  </tbody>\n",
       "</table>\n",
       "</div>"
      ],
      "text/plain": [
       "   messages_included  minutes_included  usd_monthly_pay  usd_per_gb  \\\n",
       "0                 50               500               20          10   \n",
       "1               1000              3000               70           7   \n",
       "\n",
       "   usd_per_message  usd_per_minute      plan  gb_per_month_included  \n",
       "0             0.03            0.03      surf                   15.0  \n",
       "1             0.01            0.01  ultimate                   30.0  "
      ]
     },
     "execution_count": 46,
     "metadata": {},
     "output_type": "execute_result"
    }
   ],
   "source": [
    "# Print out the plan conditions and make sure they are clear for you\n",
    "df_plans"
   ]
  },
  {
   "cell_type": "markdown",
   "metadata": {},
   "source": [
    "## Aggregate data per user per month\n",
    "\n",
    "[Now, as the data is clean, aggregate data per user per period in order to have just one record per user per period. It should ease the further analysis a lot.]"
   ]
  },
  {
   "cell_type": "code",
   "execution_count": 47,
   "metadata": {},
   "outputs": [
    {
     "data": {
      "text/html": [
       "<div>\n",
       "<style scoped>\n",
       "    .dataframe tbody tr th:only-of-type {\n",
       "        vertical-align: middle;\n",
       "    }\n",
       "\n",
       "    .dataframe tbody tr th {\n",
       "        vertical-align: top;\n",
       "    }\n",
       "\n",
       "    .dataframe thead th {\n",
       "        text-align: right;\n",
       "    }\n",
       "</style>\n",
       "<table border=\"1\" class=\"dataframe\">\n",
       "  <thead>\n",
       "    <tr style=\"text-align: right;\">\n",
       "      <th></th>\n",
       "      <th>user_id</th>\n",
       "      <th>month</th>\n",
       "      <th>gb_used</th>\n",
       "    </tr>\n",
       "  </thead>\n",
       "  <tbody>\n",
       "    <tr>\n",
       "      <th>0</th>\n",
       "      <td>1000</td>\n",
       "      <td>12</td>\n",
       "      <td>1.856904</td>\n",
       "    </tr>\n",
       "    <tr>\n",
       "      <th>1</th>\n",
       "      <td>1001</td>\n",
       "      <td>8</td>\n",
       "      <td>6.756982</td>\n",
       "    </tr>\n",
       "    <tr>\n",
       "      <th>2</th>\n",
       "      <td>1001</td>\n",
       "      <td>9</td>\n",
       "      <td>13.002754</td>\n",
       "    </tr>\n",
       "    <tr>\n",
       "      <th>3</th>\n",
       "      <td>1001</td>\n",
       "      <td>10</td>\n",
       "      <td>21.807119</td>\n",
       "    </tr>\n",
       "    <tr>\n",
       "      <th>4</th>\n",
       "      <td>1001</td>\n",
       "      <td>11</td>\n",
       "      <td>18.070605</td>\n",
       "    </tr>\n",
       "    <tr>\n",
       "      <th>...</th>\n",
       "      <td>...</td>\n",
       "      <td>...</td>\n",
       "      <td>...</td>\n",
       "    </tr>\n",
       "    <tr>\n",
       "      <th>2272</th>\n",
       "      <td>1498</td>\n",
       "      <td>12</td>\n",
       "      <td>22.595400</td>\n",
       "    </tr>\n",
       "    <tr>\n",
       "      <th>2273</th>\n",
       "      <td>1499</td>\n",
       "      <td>9</td>\n",
       "      <td>12.680430</td>\n",
       "    </tr>\n",
       "    <tr>\n",
       "      <th>2274</th>\n",
       "      <td>1499</td>\n",
       "      <td>10</td>\n",
       "      <td>19.035576</td>\n",
       "    </tr>\n",
       "    <tr>\n",
       "      <th>2275</th>\n",
       "      <td>1499</td>\n",
       "      <td>11</td>\n",
       "      <td>16.419756</td>\n",
       "    </tr>\n",
       "    <tr>\n",
       "      <th>2276</th>\n",
       "      <td>1499</td>\n",
       "      <td>12</td>\n",
       "      <td>21.542197</td>\n",
       "    </tr>\n",
       "  </tbody>\n",
       "</table>\n",
       "<p>2277 rows × 3 columns</p>\n",
       "</div>"
      ],
      "text/plain": [
       "      user_id  month    gb_used\n",
       "0        1000     12   1.856904\n",
       "1        1001      8   6.756982\n",
       "2        1001      9  13.002754\n",
       "3        1001     10  21.807119\n",
       "4        1001     11  18.070605\n",
       "...       ...    ...        ...\n",
       "2272     1498     12  22.595400\n",
       "2273     1499      9  12.680430\n",
       "2274     1499     10  19.035576\n",
       "2275     1499     11  16.419756\n",
       "2276     1499     12  21.542197\n",
       "\n",
       "[2277 rows x 3 columns]"
      ]
     },
     "metadata": {},
     "output_type": "display_data"
    }
   ],
   "source": [
    "#agg internet usage: find how much internet each user used, each month \n",
    "cols = ['user_id','month','gb_used']\n",
    "df_internet_agg = df_internet[cols]\n",
    "df_internet_agg = df_internet_agg.groupby(['user_id','month']).sum().reset_index()\n",
    "display(df_internet_agg)"
   ]
  },
  {
   "cell_type": "code",
   "execution_count": 48,
   "metadata": {},
   "outputs": [
    {
     "data": {
      "text/html": [
       "<div>\n",
       "<style scoped>\n",
       "    .dataframe tbody tr th:only-of-type {\n",
       "        vertical-align: middle;\n",
       "    }\n",
       "\n",
       "    .dataframe tbody tr th {\n",
       "        vertical-align: top;\n",
       "    }\n",
       "\n",
       "    .dataframe thead th {\n",
       "        text-align: right;\n",
       "    }\n",
       "</style>\n",
       "<table border=\"1\" class=\"dataframe\">\n",
       "  <thead>\n",
       "    <tr style=\"text-align: right;\">\n",
       "      <th></th>\n",
       "      <th>user_id</th>\n",
       "      <th>month</th>\n",
       "      <th>duration</th>\n",
       "    </tr>\n",
       "  </thead>\n",
       "  <tbody>\n",
       "    <tr>\n",
       "      <th>0</th>\n",
       "      <td>1000</td>\n",
       "      <td>12</td>\n",
       "      <td>117</td>\n",
       "    </tr>\n",
       "    <tr>\n",
       "      <th>1</th>\n",
       "      <td>1001</td>\n",
       "      <td>8</td>\n",
       "      <td>173</td>\n",
       "    </tr>\n",
       "    <tr>\n",
       "      <th>2</th>\n",
       "      <td>1001</td>\n",
       "      <td>9</td>\n",
       "      <td>297</td>\n",
       "    </tr>\n",
       "    <tr>\n",
       "      <th>3</th>\n",
       "      <td>1001</td>\n",
       "      <td>10</td>\n",
       "      <td>374</td>\n",
       "    </tr>\n",
       "    <tr>\n",
       "      <th>4</th>\n",
       "      <td>1001</td>\n",
       "      <td>11</td>\n",
       "      <td>404</td>\n",
       "    </tr>\n",
       "    <tr>\n",
       "      <th>...</th>\n",
       "      <td>...</td>\n",
       "      <td>...</td>\n",
       "      <td>...</td>\n",
       "    </tr>\n",
       "    <tr>\n",
       "      <th>2253</th>\n",
       "      <td>1498</td>\n",
       "      <td>12</td>\n",
       "      <td>326</td>\n",
       "    </tr>\n",
       "    <tr>\n",
       "      <th>2254</th>\n",
       "      <td>1499</td>\n",
       "      <td>9</td>\n",
       "      <td>328</td>\n",
       "    </tr>\n",
       "    <tr>\n",
       "      <th>2255</th>\n",
       "      <td>1499</td>\n",
       "      <td>10</td>\n",
       "      <td>361</td>\n",
       "    </tr>\n",
       "    <tr>\n",
       "      <th>2256</th>\n",
       "      <td>1499</td>\n",
       "      <td>11</td>\n",
       "      <td>287</td>\n",
       "    </tr>\n",
       "    <tr>\n",
       "      <th>2257</th>\n",
       "      <td>1499</td>\n",
       "      <td>12</td>\n",
       "      <td>463</td>\n",
       "    </tr>\n",
       "  </tbody>\n",
       "</table>\n",
       "<p>2258 rows × 3 columns</p>\n",
       "</div>"
      ],
      "text/plain": [
       "      user_id  month  duration\n",
       "0        1000     12       117\n",
       "1        1001      8       173\n",
       "2        1001      9       297\n",
       "3        1001     10       374\n",
       "4        1001     11       404\n",
       "...       ...    ...       ...\n",
       "2253     1498     12       326\n",
       "2254     1499      9       328\n",
       "2255     1499     10       361\n",
       "2256     1499     11       287\n",
       "2257     1499     12       463\n",
       "\n",
       "[2258 rows x 3 columns]"
      ]
     },
     "metadata": {},
     "output_type": "display_data"
    }
   ],
   "source": [
    "#find the minutes(duration) each user used, each month\n",
    "cols = ['user_id','month','duration']\n",
    "df_calls_agg = df_calls[cols]\n",
    "df_calls_agg = df_calls_agg.groupby(['user_id','month']).sum().reset_index()\n",
    "display(df_calls_agg)"
   ]
  },
  {
   "cell_type": "code",
   "execution_count": 49,
   "metadata": {},
   "outputs": [
    {
     "data": {
      "text/html": [
       "<div>\n",
       "<style scoped>\n",
       "    .dataframe tbody tr th:only-of-type {\n",
       "        vertical-align: middle;\n",
       "    }\n",
       "\n",
       "    .dataframe tbody tr th {\n",
       "        vertical-align: top;\n",
       "    }\n",
       "\n",
       "    .dataframe thead th {\n",
       "        text-align: right;\n",
       "    }\n",
       "</style>\n",
       "<table border=\"1\" class=\"dataframe\">\n",
       "  <thead>\n",
       "    <tr style=\"text-align: right;\">\n",
       "      <th></th>\n",
       "      <th>user_id</th>\n",
       "      <th>month</th>\n",
       "      <th>message_count</th>\n",
       "    </tr>\n",
       "  </thead>\n",
       "  <tbody>\n",
       "    <tr>\n",
       "      <th>0</th>\n",
       "      <td>1000</td>\n",
       "      <td>12</td>\n",
       "      <td>11</td>\n",
       "    </tr>\n",
       "    <tr>\n",
       "      <th>1</th>\n",
       "      <td>1001</td>\n",
       "      <td>8</td>\n",
       "      <td>30</td>\n",
       "    </tr>\n",
       "    <tr>\n",
       "      <th>2</th>\n",
       "      <td>1001</td>\n",
       "      <td>9</td>\n",
       "      <td>44</td>\n",
       "    </tr>\n",
       "    <tr>\n",
       "      <th>3</th>\n",
       "      <td>1001</td>\n",
       "      <td>10</td>\n",
       "      <td>53</td>\n",
       "    </tr>\n",
       "    <tr>\n",
       "      <th>4</th>\n",
       "      <td>1001</td>\n",
       "      <td>11</td>\n",
       "      <td>36</td>\n",
       "    </tr>\n",
       "    <tr>\n",
       "      <th>...</th>\n",
       "      <td>...</td>\n",
       "      <td>...</td>\n",
       "      <td>...</td>\n",
       "    </tr>\n",
       "    <tr>\n",
       "      <th>1801</th>\n",
       "      <td>1496</td>\n",
       "      <td>9</td>\n",
       "      <td>21</td>\n",
       "    </tr>\n",
       "    <tr>\n",
       "      <th>1802</th>\n",
       "      <td>1496</td>\n",
       "      <td>10</td>\n",
       "      <td>18</td>\n",
       "    </tr>\n",
       "    <tr>\n",
       "      <th>1803</th>\n",
       "      <td>1496</td>\n",
       "      <td>11</td>\n",
       "      <td>13</td>\n",
       "    </tr>\n",
       "    <tr>\n",
       "      <th>1804</th>\n",
       "      <td>1496</td>\n",
       "      <td>12</td>\n",
       "      <td>11</td>\n",
       "    </tr>\n",
       "    <tr>\n",
       "      <th>1805</th>\n",
       "      <td>1497</td>\n",
       "      <td>12</td>\n",
       "      <td>50</td>\n",
       "    </tr>\n",
       "  </tbody>\n",
       "</table>\n",
       "<p>1806 rows × 3 columns</p>\n",
       "</div>"
      ],
      "text/plain": [
       "      user_id  month  message_count\n",
       "0        1000     12             11\n",
       "1        1001      8             30\n",
       "2        1001      9             44\n",
       "3        1001     10             53\n",
       "4        1001     11             36\n",
       "...       ...    ...            ...\n",
       "1801     1496      9             21\n",
       "1802     1496     10             18\n",
       "1803     1496     11             13\n",
       "1804     1496     12             11\n",
       "1805     1497     12             50\n",
       "\n",
       "[1806 rows x 3 columns]"
      ]
     },
     "metadata": {},
     "output_type": "display_data"
    }
   ],
   "source": [
    "#find the message count for each user, each month\n",
    "cols = ['user_id','month','id']\n",
    "df_messages_agg = df_messages[cols]\n",
    "df_messages_agg = df_messages_agg.groupby(['user_id','month']).count().reset_index()\n",
    "df_messages_agg.rename(columns = {\"id\":\"message_count\"},inplace=True)\n",
    "display(df_messages_agg)"
   ]
  },
  {
   "cell_type": "code",
   "execution_count": 50,
   "metadata": {},
   "outputs": [
    {
     "data": {
      "text/html": [
       "<div>\n",
       "<style scoped>\n",
       "    .dataframe tbody tr th:only-of-type {\n",
       "        vertical-align: middle;\n",
       "    }\n",
       "\n",
       "    .dataframe tbody tr th {\n",
       "        vertical-align: top;\n",
       "    }\n",
       "\n",
       "    .dataframe thead th {\n",
       "        text-align: right;\n",
       "    }\n",
       "</style>\n",
       "<table border=\"1\" class=\"dataframe\">\n",
       "  <thead>\n",
       "    <tr style=\"text-align: right;\">\n",
       "      <th></th>\n",
       "      <th>user_id</th>\n",
       "      <th>plan</th>\n",
       "      <th>churn_date</th>\n",
       "    </tr>\n",
       "  </thead>\n",
       "  <tbody>\n",
       "    <tr>\n",
       "      <th>0</th>\n",
       "      <td>1000</td>\n",
       "      <td>ultimate</td>\n",
       "      <td>NaN</td>\n",
       "    </tr>\n",
       "    <tr>\n",
       "      <th>1</th>\n",
       "      <td>1001</td>\n",
       "      <td>surf</td>\n",
       "      <td>NaN</td>\n",
       "    </tr>\n",
       "    <tr>\n",
       "      <th>2</th>\n",
       "      <td>1002</td>\n",
       "      <td>surf</td>\n",
       "      <td>NaN</td>\n",
       "    </tr>\n",
       "    <tr>\n",
       "      <th>3</th>\n",
       "      <td>1003</td>\n",
       "      <td>surf</td>\n",
       "      <td>NaN</td>\n",
       "    </tr>\n",
       "    <tr>\n",
       "      <th>4</th>\n",
       "      <td>1004</td>\n",
       "      <td>surf</td>\n",
       "      <td>NaN</td>\n",
       "    </tr>\n",
       "    <tr>\n",
       "      <th>...</th>\n",
       "      <td>...</td>\n",
       "      <td>...</td>\n",
       "      <td>...</td>\n",
       "    </tr>\n",
       "    <tr>\n",
       "      <th>495</th>\n",
       "      <td>1495</td>\n",
       "      <td>surf</td>\n",
       "      <td>NaN</td>\n",
       "    </tr>\n",
       "    <tr>\n",
       "      <th>496</th>\n",
       "      <td>1496</td>\n",
       "      <td>surf</td>\n",
       "      <td>NaN</td>\n",
       "    </tr>\n",
       "    <tr>\n",
       "      <th>497</th>\n",
       "      <td>1497</td>\n",
       "      <td>ultimate</td>\n",
       "      <td>NaN</td>\n",
       "    </tr>\n",
       "    <tr>\n",
       "      <th>498</th>\n",
       "      <td>1498</td>\n",
       "      <td>surf</td>\n",
       "      <td>NaN</td>\n",
       "    </tr>\n",
       "    <tr>\n",
       "      <th>499</th>\n",
       "      <td>1499</td>\n",
       "      <td>surf</td>\n",
       "      <td>NaN</td>\n",
       "    </tr>\n",
       "  </tbody>\n",
       "</table>\n",
       "<p>500 rows × 3 columns</p>\n",
       "</div>"
      ],
      "text/plain": [
       "     user_id      plan churn_date\n",
       "0       1000  ultimate        NaN\n",
       "1       1001      surf        NaN\n",
       "2       1002      surf        NaN\n",
       "3       1003      surf        NaN\n",
       "4       1004      surf        NaN\n",
       "..       ...       ...        ...\n",
       "495     1495      surf        NaN\n",
       "496     1496      surf        NaN\n",
       "497     1497  ultimate        NaN\n",
       "498     1498      surf        NaN\n",
       "499     1499      surf        NaN\n",
       "\n",
       "[500 rows x 3 columns]"
      ]
     },
     "execution_count": 50,
     "metadata": {},
     "output_type": "execute_result"
    }
   ],
   "source": [
    "#create a subset to see which plan each user has, and if they still have that plan\n",
    "cols =['user_id','plan','churn_date']\n",
    "df_users_subs = df_users[cols]\n",
    "df_users_subs"
   ]
  },
  {
   "cell_type": "code",
   "execution_count": 51,
   "metadata": {},
   "outputs": [
    {
     "name": "stdout",
     "output_type": "stream",
     "text": [
      "(2258, 3) (2277, 3) (1806, 3)\n"
     ]
    }
   ],
   "source": [
    "#shape agg tables: keep in mind when merging \n",
    "print( df_calls_agg.shape, df_internet_agg.shape, df_messages_agg.shape)"
   ]
  },
  {
   "cell_type": "code",
   "execution_count": 52,
   "metadata": {},
   "outputs": [
    {
     "name": "stdout",
     "output_type": "stream",
     "text": [
      "(2258, 3) (2277, 3)\n",
      "(2292, 4)\n"
     ]
    }
   ],
   "source": [
    "#merge df_calls_agg with df_internet_agg\n",
    "#outer retains all rows\n",
    "#check shape\n",
    "print( df_calls_agg.shape, df_internet_agg.shape )\n",
    "df_agg = pd.merge(df_calls_agg, df_internet_agg, how='outer', on = ['user_id','month'])\n",
    "print( df_agg.shape )"
   ]
  },
  {
   "cell_type": "code",
   "execution_count": 53,
   "metadata": {},
   "outputs": [
    {
     "name": "stdout",
     "output_type": "stream",
     "text": [
      "(2292, 4) (1806, 3)\n",
      "(2293, 5)\n"
     ]
    }
   ],
   "source": [
    "#merge df_agg with df_messages_agg \n",
    "#outer retains all rows\n",
    "#check shape\n",
    "print( df_agg.shape, df_messages_agg.shape )\n",
    "df_agg = pd.merge(df_agg, df_messages_agg, how='outer', on = ['user_id','month'])\n",
    "print( df_agg.shape )"
   ]
  },
  {
   "cell_type": "code",
   "execution_count": 54,
   "metadata": {},
   "outputs": [
    {
     "name": "stdout",
     "output_type": "stream",
     "text": [
      "(2293, 5) (500, 3)\n",
      "(2293, 7)\n"
     ]
    }
   ],
   "source": [
    "#merge df_agg with df_users_subs \n",
    "#keep rows from left df (make df_users_subs the right df bc only has 500 rows)\n",
    "#check shape\n",
    "print( df_agg.shape, df_users_subs.shape )\n",
    "df_agg = pd.merge(df_agg, df_users_subs, how='left', on = ['user_id'])\n",
    "print( df_agg.shape )"
   ]
  },
  {
   "cell_type": "code",
   "execution_count": 55,
   "metadata": {},
   "outputs": [
    {
     "data": {
      "text/html": [
       "<div>\n",
       "<style scoped>\n",
       "    .dataframe tbody tr th:only-of-type {\n",
       "        vertical-align: middle;\n",
       "    }\n",
       "\n",
       "    .dataframe tbody tr th {\n",
       "        vertical-align: top;\n",
       "    }\n",
       "\n",
       "    .dataframe thead th {\n",
       "        text-align: right;\n",
       "    }\n",
       "</style>\n",
       "<table border=\"1\" class=\"dataframe\">\n",
       "  <thead>\n",
       "    <tr style=\"text-align: right;\">\n",
       "      <th></th>\n",
       "      <th>user_id</th>\n",
       "      <th>month</th>\n",
       "      <th>duration</th>\n",
       "      <th>gb_used</th>\n",
       "      <th>message_count</th>\n",
       "      <th>plan</th>\n",
       "      <th>churn_date</th>\n",
       "    </tr>\n",
       "  </thead>\n",
       "  <tbody>\n",
       "  </tbody>\n",
       "</table>\n",
       "</div>"
      ],
      "text/plain": [
       "Empty DataFrame\n",
       "Columns: [user_id, month, duration, gb_used, message_count, plan, churn_date]\n",
       "Index: []"
      ]
     },
     "execution_count": 55,
     "metadata": {},
     "output_type": "execute_result"
    }
   ],
   "source": [
    "#check df_agg for missing values\n",
    "df_agg[df_agg['plan'].isnull()]"
   ]
  },
  {
   "cell_type": "code",
   "execution_count": 56,
   "metadata": {},
   "outputs": [
    {
     "name": "stdout",
     "output_type": "stream",
     "text": [
      "(2293, 7) (2, 8)\n",
      "(2293, 14)\n"
     ]
    }
   ],
   "source": [
    "#merge df_agg with df_plans \n",
    "#keep rows from left df (make df_users_subs the right bc only has 500 rows)\n",
    "#check shape\n",
    "print( df_agg.shape, df_plans.shape )\n",
    "df_agg = pd.merge(df_agg, df_plans, how='left', on = ['plan'])\n",
    "print( df_agg.shape )"
   ]
  },
  {
   "cell_type": "code",
   "execution_count": 57,
   "metadata": {
    "scrolled": true
   },
   "outputs": [
    {
     "data": {
      "text/html": [
       "<div>\n",
       "<style scoped>\n",
       "    .dataframe tbody tr th:only-of-type {\n",
       "        vertical-align: middle;\n",
       "    }\n",
       "\n",
       "    .dataframe tbody tr th {\n",
       "        vertical-align: top;\n",
       "    }\n",
       "\n",
       "    .dataframe thead th {\n",
       "        text-align: right;\n",
       "    }\n",
       "</style>\n",
       "<table border=\"1\" class=\"dataframe\">\n",
       "  <thead>\n",
       "    <tr style=\"text-align: right;\">\n",
       "      <th></th>\n",
       "      <th>user_id</th>\n",
       "      <th>month</th>\n",
       "      <th>duration</th>\n",
       "      <th>gb_used</th>\n",
       "      <th>message_count</th>\n",
       "      <th>plan</th>\n",
       "      <th>churn_date</th>\n",
       "      <th>messages_included</th>\n",
       "      <th>minutes_included</th>\n",
       "      <th>usd_monthly_pay</th>\n",
       "      <th>usd_per_gb</th>\n",
       "      <th>usd_per_message</th>\n",
       "      <th>usd_per_minute</th>\n",
       "      <th>gb_per_month_included</th>\n",
       "    </tr>\n",
       "  </thead>\n",
       "  <tbody>\n",
       "    <tr>\n",
       "      <th>0</th>\n",
       "      <td>1000</td>\n",
       "      <td>12</td>\n",
       "      <td>117.0</td>\n",
       "      <td>1.856904</td>\n",
       "      <td>11.0</td>\n",
       "      <td>ultimate</td>\n",
       "      <td>NaN</td>\n",
       "      <td>1000</td>\n",
       "      <td>3000</td>\n",
       "      <td>70</td>\n",
       "      <td>7</td>\n",
       "      <td>0.01</td>\n",
       "      <td>0.01</td>\n",
       "      <td>30.0</td>\n",
       "    </tr>\n",
       "    <tr>\n",
       "      <th>1</th>\n",
       "      <td>1001</td>\n",
       "      <td>8</td>\n",
       "      <td>173.0</td>\n",
       "      <td>6.756982</td>\n",
       "      <td>30.0</td>\n",
       "      <td>surf</td>\n",
       "      <td>NaN</td>\n",
       "      <td>50</td>\n",
       "      <td>500</td>\n",
       "      <td>20</td>\n",
       "      <td>10</td>\n",
       "      <td>0.03</td>\n",
       "      <td>0.03</td>\n",
       "      <td>15.0</td>\n",
       "    </tr>\n",
       "    <tr>\n",
       "      <th>2</th>\n",
       "      <td>1001</td>\n",
       "      <td>9</td>\n",
       "      <td>297.0</td>\n",
       "      <td>13.002754</td>\n",
       "      <td>44.0</td>\n",
       "      <td>surf</td>\n",
       "      <td>NaN</td>\n",
       "      <td>50</td>\n",
       "      <td>500</td>\n",
       "      <td>20</td>\n",
       "      <td>10</td>\n",
       "      <td>0.03</td>\n",
       "      <td>0.03</td>\n",
       "      <td>15.0</td>\n",
       "    </tr>\n",
       "    <tr>\n",
       "      <th>3</th>\n",
       "      <td>1001</td>\n",
       "      <td>10</td>\n",
       "      <td>374.0</td>\n",
       "      <td>21.807119</td>\n",
       "      <td>53.0</td>\n",
       "      <td>surf</td>\n",
       "      <td>NaN</td>\n",
       "      <td>50</td>\n",
       "      <td>500</td>\n",
       "      <td>20</td>\n",
       "      <td>10</td>\n",
       "      <td>0.03</td>\n",
       "      <td>0.03</td>\n",
       "      <td>15.0</td>\n",
       "    </tr>\n",
       "    <tr>\n",
       "      <th>4</th>\n",
       "      <td>1001</td>\n",
       "      <td>11</td>\n",
       "      <td>404.0</td>\n",
       "      <td>18.070605</td>\n",
       "      <td>36.0</td>\n",
       "      <td>surf</td>\n",
       "      <td>NaN</td>\n",
       "      <td>50</td>\n",
       "      <td>500</td>\n",
       "      <td>20</td>\n",
       "      <td>10</td>\n",
       "      <td>0.03</td>\n",
       "      <td>0.03</td>\n",
       "      <td>15.0</td>\n",
       "    </tr>\n",
       "    <tr>\n",
       "      <th>...</th>\n",
       "      <td>...</td>\n",
       "      <td>...</td>\n",
       "      <td>...</td>\n",
       "      <td>...</td>\n",
       "      <td>...</td>\n",
       "      <td>...</td>\n",
       "      <td>...</td>\n",
       "      <td>...</td>\n",
       "      <td>...</td>\n",
       "      <td>...</td>\n",
       "      <td>...</td>\n",
       "      <td>...</td>\n",
       "      <td>...</td>\n",
       "      <td>...</td>\n",
       "    </tr>\n",
       "    <tr>\n",
       "      <th>2288</th>\n",
       "      <td>1349</td>\n",
       "      <td>10</td>\n",
       "      <td>NaN</td>\n",
       "      <td>12.786670</td>\n",
       "      <td>76.0</td>\n",
       "      <td>surf</td>\n",
       "      <td>NaN</td>\n",
       "      <td>50</td>\n",
       "      <td>500</td>\n",
       "      <td>20</td>\n",
       "      <td>10</td>\n",
       "      <td>0.03</td>\n",
       "      <td>0.03</td>\n",
       "      <td>15.0</td>\n",
       "    </tr>\n",
       "    <tr>\n",
       "      <th>2289</th>\n",
       "      <td>1349</td>\n",
       "      <td>11</td>\n",
       "      <td>NaN</td>\n",
       "      <td>16.726816</td>\n",
       "      <td>72.0</td>\n",
       "      <td>surf</td>\n",
       "      <td>NaN</td>\n",
       "      <td>50</td>\n",
       "      <td>500</td>\n",
       "      <td>20</td>\n",
       "      <td>10</td>\n",
       "      <td>0.03</td>\n",
       "      <td>0.03</td>\n",
       "      <td>15.0</td>\n",
       "    </tr>\n",
       "    <tr>\n",
       "      <th>2290</th>\n",
       "      <td>1349</td>\n",
       "      <td>12</td>\n",
       "      <td>NaN</td>\n",
       "      <td>12.734287</td>\n",
       "      <td>61.0</td>\n",
       "      <td>surf</td>\n",
       "      <td>NaN</td>\n",
       "      <td>50</td>\n",
       "      <td>500</td>\n",
       "      <td>20</td>\n",
       "      <td>10</td>\n",
       "      <td>0.03</td>\n",
       "      <td>0.03</td>\n",
       "      <td>15.0</td>\n",
       "    </tr>\n",
       "    <tr>\n",
       "      <th>2291</th>\n",
       "      <td>1361</td>\n",
       "      <td>5</td>\n",
       "      <td>NaN</td>\n",
       "      <td>1.484072</td>\n",
       "      <td>2.0</td>\n",
       "      <td>surf</td>\n",
       "      <td>NaN</td>\n",
       "      <td>50</td>\n",
       "      <td>500</td>\n",
       "      <td>20</td>\n",
       "      <td>10</td>\n",
       "      <td>0.03</td>\n",
       "      <td>0.03</td>\n",
       "      <td>15.0</td>\n",
       "    </tr>\n",
       "    <tr>\n",
       "      <th>2292</th>\n",
       "      <td>1482</td>\n",
       "      <td>10</td>\n",
       "      <td>NaN</td>\n",
       "      <td>NaN</td>\n",
       "      <td>2.0</td>\n",
       "      <td>ultimate</td>\n",
       "      <td>NaN</td>\n",
       "      <td>1000</td>\n",
       "      <td>3000</td>\n",
       "      <td>70</td>\n",
       "      <td>7</td>\n",
       "      <td>0.01</td>\n",
       "      <td>0.01</td>\n",
       "      <td>30.0</td>\n",
       "    </tr>\n",
       "  </tbody>\n",
       "</table>\n",
       "<p>2293 rows × 14 columns</p>\n",
       "</div>"
      ],
      "text/plain": [
       "      user_id  month  duration    gb_used  message_count      plan churn_date  \\\n",
       "0        1000     12     117.0   1.856904           11.0  ultimate        NaN   \n",
       "1        1001      8     173.0   6.756982           30.0      surf        NaN   \n",
       "2        1001      9     297.0  13.002754           44.0      surf        NaN   \n",
       "3        1001     10     374.0  21.807119           53.0      surf        NaN   \n",
       "4        1001     11     404.0  18.070605           36.0      surf        NaN   \n",
       "...       ...    ...       ...        ...            ...       ...        ...   \n",
       "2288     1349     10       NaN  12.786670           76.0      surf        NaN   \n",
       "2289     1349     11       NaN  16.726816           72.0      surf        NaN   \n",
       "2290     1349     12       NaN  12.734287           61.0      surf        NaN   \n",
       "2291     1361      5       NaN   1.484072            2.0      surf        NaN   \n",
       "2292     1482     10       NaN        NaN            2.0  ultimate        NaN   \n",
       "\n",
       "      messages_included  minutes_included  usd_monthly_pay  usd_per_gb  \\\n",
       "0                  1000              3000               70           7   \n",
       "1                    50               500               20          10   \n",
       "2                    50               500               20          10   \n",
       "3                    50               500               20          10   \n",
       "4                    50               500               20          10   \n",
       "...                 ...               ...              ...         ...   \n",
       "2288                 50               500               20          10   \n",
       "2289                 50               500               20          10   \n",
       "2290                 50               500               20          10   \n",
       "2291                 50               500               20          10   \n",
       "2292               1000              3000               70           7   \n",
       "\n",
       "      usd_per_message  usd_per_minute  gb_per_month_included  \n",
       "0                0.01            0.01                   30.0  \n",
       "1                0.03            0.03                   15.0  \n",
       "2                0.03            0.03                   15.0  \n",
       "3                0.03            0.03                   15.0  \n",
       "4                0.03            0.03                   15.0  \n",
       "...               ...             ...                    ...  \n",
       "2288             0.03            0.03                   15.0  \n",
       "2289             0.03            0.03                   15.0  \n",
       "2290             0.03            0.03                   15.0  \n",
       "2291             0.03            0.03                   15.0  \n",
       "2292             0.01            0.01                   30.0  \n",
       "\n",
       "[2293 rows x 14 columns]"
      ]
     },
     "execution_count": 57,
     "metadata": {},
     "output_type": "execute_result"
    }
   ],
   "source": [
    "#check df_agg\n",
    "df_agg\n",
    "#now I can see all in one row: what person used each month, what plan they have, the details of the plan"
   ]
  },
  {
   "cell_type": "code",
   "execution_count": 58,
   "metadata": {},
   "outputs": [],
   "source": [
    "#remove NaN values after agg\n",
    "df_agg['duration'] = df_agg['duration'].fillna(0.0)\n",
    "df_agg['gb_used'] = df_agg['gb_used'].fillna(0.0)\n",
    "df_agg['gb_used'] = np.ceil (df_agg['gb_used'])\n",
    "df_agg['message_count'] = df_agg['message_count'].fillna(0.0)"
   ]
  },
  {
   "cell_type": "markdown",
   "metadata": {},
   "source": [
    "[Put the aggregate data together into one DataFrame so that one record in it would represent what an unique user consumed in a given month.]"
   ]
  },
  {
   "cell_type": "markdown",
   "metadata": {},
   "source": [
    "[Calculate the monthly revenue from each user (subtract the free package limit from the total number of calls, text messages, and data; multiply the result by the calling plan value; add the monthly charge depending on the calling plan). N.B. This might not be as trivial as just a couple of lines given the plan conditions! So, it's okay to spend some time on it.]"
   ]
  },
  {
   "cell_type": "code",
   "execution_count": 59,
   "metadata": {
    "scrolled": true
   },
   "outputs": [
    {
     "data": {
      "text/html": [
       "<div>\n",
       "<style scoped>\n",
       "    .dataframe tbody tr th:only-of-type {\n",
       "        vertical-align: middle;\n",
       "    }\n",
       "\n",
       "    .dataframe tbody tr th {\n",
       "        vertical-align: top;\n",
       "    }\n",
       "\n",
       "    .dataframe thead th {\n",
       "        text-align: right;\n",
       "    }\n",
       "</style>\n",
       "<table border=\"1\" class=\"dataframe\">\n",
       "  <thead>\n",
       "    <tr style=\"text-align: right;\">\n",
       "      <th></th>\n",
       "      <th>messages_included</th>\n",
       "      <th>minutes_included</th>\n",
       "      <th>usd_monthly_pay</th>\n",
       "      <th>usd_per_gb</th>\n",
       "      <th>usd_per_message</th>\n",
       "      <th>usd_per_minute</th>\n",
       "      <th>plan</th>\n",
       "      <th>gb_per_month_included</th>\n",
       "    </tr>\n",
       "  </thead>\n",
       "  <tbody>\n",
       "    <tr>\n",
       "      <th>0</th>\n",
       "      <td>50</td>\n",
       "      <td>500</td>\n",
       "      <td>20</td>\n",
       "      <td>10</td>\n",
       "      <td>0.03</td>\n",
       "      <td>0.03</td>\n",
       "      <td>surf</td>\n",
       "      <td>15.0</td>\n",
       "    </tr>\n",
       "    <tr>\n",
       "      <th>1</th>\n",
       "      <td>1000</td>\n",
       "      <td>3000</td>\n",
       "      <td>70</td>\n",
       "      <td>7</td>\n",
       "      <td>0.01</td>\n",
       "      <td>0.01</td>\n",
       "      <td>ultimate</td>\n",
       "      <td>30.0</td>\n",
       "    </tr>\n",
       "  </tbody>\n",
       "</table>\n",
       "</div>"
      ],
      "text/plain": [
       "   messages_included  minutes_included  usd_monthly_pay  usd_per_gb  \\\n",
       "0                 50               500               20          10   \n",
       "1               1000              3000               70           7   \n",
       "\n",
       "   usd_per_message  usd_per_minute      plan  gb_per_month_included  \n",
       "0             0.03            0.03      surf                   15.0  \n",
       "1             0.01            0.01  ultimate                   30.0  "
      ]
     },
     "execution_count": 59,
     "metadata": {},
     "output_type": "execute_result"
    }
   ],
   "source": [
    "df_plans"
   ]
  },
  {
   "cell_type": "code",
   "execution_count": 60,
   "metadata": {},
   "outputs": [],
   "source": [
    "# Create additional columns to calculate revenue\n",
    "##usage - included\n",
    "#if user did not exceeed : make 0\n",
    "\n",
    "#did user exceed limit and by how much: minutes\n",
    "df_agg['min_over'] = df_agg['duration']  - df_agg['minutes_included'] \n",
    "df_agg['min_over'] = df_agg['min_over'].apply(lambda x: x if x>=0 else 0 )\n",
    "\n",
    "#did user exceed limit and by how much: gb\n",
    "df_agg['data_over'] = df_agg['gb_used']  - df_agg['gb_per_month_included'] \n",
    "df_agg['data_over'] = df_agg['data_over'].apply(lambda x: x if x>=0 else 0 )\n",
    "\n",
    "#did user exceed limit and by how much: message\n",
    "df_agg['msg_over'] = df_agg['message_count']  - df_agg['messages_included'] \n",
    "df_agg['msg_over'] = df_agg['msg_over'].apply(lambda x: x if x>=0 else 0 )\n",
    "\n",
    "#how much will it cost to exceed limit\n",
    "df_agg['call_cost_additional'] = df_agg['min_over'] *  df_agg['usd_per_minute']\n",
    "df_agg['data_cost_additional'] = df_agg['data_over'] *  df_agg['usd_per_gb'] \n",
    "df_agg['msg_cost_additional']  =  df_agg['msg_over'] *  df_agg['usd_per_message']\n",
    "\n"
   ]
  },
  {
   "cell_type": "markdown",
   "metadata": {},
   "source": [
    "## Study user behaviour"
   ]
  },
  {
   "cell_type": "markdown",
   "metadata": {},
   "source": [
    "[Calculate some useful descriptive statistics for the aggregated and merged data, which typically reveal an overall picture captured by the data. Draw useful plots to help the understanding. Given that the main task is to compare the plans and decide on which one is more profitable, the statistics and the plots should be calculated on a per-plan basis.]\n",
    "\n",
    "[There are relevant hints in the comments for Calls but they are not provided for Messages and Internet though the principle of statistical study is the same for them as for Calls.]"
   ]
  },
  {
   "cell_type": "markdown",
   "metadata": {},
   "source": [
    "### Calls"
   ]
  },
  {
   "cell_type": "code",
   "execution_count": 61,
   "metadata": {
    "scrolled": false
   },
   "outputs": [
    {
     "data": {
      "text/plain": [
       "<AxesSubplot:title={'center':'Average Duration Per Plan Per Month'}, xlabel='month', ylabel='duration'>"
      ]
     },
     "execution_count": 61,
     "metadata": {},
     "output_type": "execute_result"
    },
    {
     "data": {
      "image/png": "[encoded data removed]",
      "text/plain": [
       "<Figure size 432x288 with 1 Axes>"
      ]
     },
     "metadata": {
      "needs_background": "light"
     },
     "output_type": "display_data"
    }
   ],
   "source": [
    "# Compare average duration of calls per each plan per each distinct month. Plot a bar plot to visualize it.\n",
    "avg_call = df_agg.pivot_table(index='plan', columns='month', values='duration', aggfunc='mean')\n",
    "avg_call.T.plot.bar(ylabel=\"duration\", title=\"Average Duration Per Plan Per Month\")"
   ]
  },
  {
   "cell_type": "code",
   "execution_count": 62,
   "metadata": {},
   "outputs": [
    {
     "data": {
      "text/plain": [
       "array([<AxesSubplot:title={'center':'surf'}>,\n",
       "       <AxesSubplot:title={'center':'ultimate'}>], dtype=object)"
      ]
     },
     "execution_count": 62,
     "metadata": {},
     "output_type": "execute_result"
    },
    {
     "data": {
      "image/png": "[encoded data removed]",
      "text/plain": [
       "<Figure size 864x360 with 2 Axes>"
      ]
     },
     "metadata": {
      "needs_background": "light"
     },
     "output_type": "display_data"
    }
   ],
   "source": [
    "# Compare the number of minutes users of each plan require each month. Plot a histogram.\n",
    "call_hist = df_agg.duration.hist(by=df_agg['plan'], bins=42, figsize=(12,5))\n",
    "call_hist"
   ]
  },
  {
   "cell_type": "markdown",
   "metadata": {},
   "source": [
    "[Calculate the mean and the variable of the call duration to reason on whether users on the different plans have different behaviours for their calls.]"
   ]
  },
  {
   "cell_type": "code",
   "execution_count": 63,
   "metadata": {},
   "outputs": [
    {
     "data": {
      "text/html": [
       "<div>\n",
       "<style scoped>\n",
       "    .dataframe tbody tr th:only-of-type {\n",
       "        vertical-align: middle;\n",
       "    }\n",
       "\n",
       "    .dataframe tbody tr th {\n",
       "        vertical-align: top;\n",
       "    }\n",
       "\n",
       "    .dataframe thead tr th {\n",
       "        text-align: left;\n",
       "    }\n",
       "\n",
       "    .dataframe thead tr:last-of-type th {\n",
       "        text-align: right;\n",
       "    }\n",
       "</style>\n",
       "<table border=\"1\" class=\"dataframe\">\n",
       "  <thead>\n",
       "    <tr>\n",
       "      <th></th>\n",
       "      <th colspan=\"10\" halign=\"left\">mean</th>\n",
       "      <th>...</th>\n",
       "      <th colspan=\"10\" halign=\"left\">var</th>\n",
       "    </tr>\n",
       "    <tr>\n",
       "      <th>month</th>\n",
       "      <th>1</th>\n",
       "      <th>2</th>\n",
       "      <th>3</th>\n",
       "      <th>4</th>\n",
       "      <th>5</th>\n",
       "      <th>6</th>\n",
       "      <th>7</th>\n",
       "      <th>8</th>\n",
       "      <th>9</th>\n",
       "      <th>10</th>\n",
       "      <th>...</th>\n",
       "      <th>3</th>\n",
       "      <th>4</th>\n",
       "      <th>5</th>\n",
       "      <th>6</th>\n",
       "      <th>7</th>\n",
       "      <th>8</th>\n",
       "      <th>9</th>\n",
       "      <th>10</th>\n",
       "      <th>11</th>\n",
       "      <th>12</th>\n",
       "    </tr>\n",
       "    <tr>\n",
       "      <th>plan</th>\n",
       "      <th></th>\n",
       "      <th></th>\n",
       "      <th></th>\n",
       "      <th></th>\n",
       "      <th></th>\n",
       "      <th></th>\n",
       "      <th></th>\n",
       "      <th></th>\n",
       "      <th></th>\n",
       "      <th></th>\n",
       "      <th></th>\n",
       "      <th></th>\n",
       "      <th></th>\n",
       "      <th></th>\n",
       "      <th></th>\n",
       "      <th></th>\n",
       "      <th></th>\n",
       "      <th></th>\n",
       "      <th></th>\n",
       "      <th></th>\n",
       "      <th></th>\n",
       "    </tr>\n",
       "  </thead>\n",
       "  <tbody>\n",
       "    <tr>\n",
       "      <th>surf</th>\n",
       "      <td>193.0</td>\n",
       "      <td>281.111111</td>\n",
       "      <td>311.0</td>\n",
       "      <td>332.460000</td>\n",
       "      <td>376.818182</td>\n",
       "      <td>406.701031</td>\n",
       "      <td>424.314050</td>\n",
       "      <td>387.067901</td>\n",
       "      <td>390.907216</td>\n",
       "      <td>405.814346</td>\n",
       "      <td>...</td>\n",
       "      <td>31999.545455</td>\n",
       "      <td>45613.600408</td>\n",
       "      <td>53134.887560</td>\n",
       "      <td>40730.982603</td>\n",
       "      <td>54309.300551</td>\n",
       "      <td>48598.871137</td>\n",
       "      <td>41495.804818</td>\n",
       "      <td>46791.872166</td>\n",
       "      <td>46012.236674</td>\n",
       "      <td>56915.570581</td>\n",
       "    </tr>\n",
       "    <tr>\n",
       "      <th>ultimate</th>\n",
       "      <td>183.5</td>\n",
       "      <td>379.571429</td>\n",
       "      <td>285.5</td>\n",
       "      <td>315.952381</td>\n",
       "      <td>383.379310</td>\n",
       "      <td>349.957447</td>\n",
       "      <td>404.118644</td>\n",
       "      <td>396.859155</td>\n",
       "      <td>413.162791</td>\n",
       "      <td>425.066038</td>\n",
       "      <td>...</td>\n",
       "      <td>53963.181818</td>\n",
       "      <td>30977.847619</td>\n",
       "      <td>39409.172414</td>\n",
       "      <td>37833.128585</td>\n",
       "      <td>64974.382233</td>\n",
       "      <td>47492.351308</td>\n",
       "      <td>50911.220246</td>\n",
       "      <td>48152.938455</td>\n",
       "      <td>54409.441320</td>\n",
       "      <td>55714.050155</td>\n",
       "    </tr>\n",
       "  </tbody>\n",
       "</table>\n",
       "<p>2 rows × 24 columns</p>\n",
       "</div>"
      ],
      "text/plain": [
       "           mean                                                         \\\n",
       "month        1           2      3           4           5           6    \n",
       "plan                                                                     \n",
       "surf      193.0  281.111111  311.0  332.460000  376.818182  406.701031   \n",
       "ultimate  183.5  379.571429  285.5  315.952381  383.379310  349.957447   \n",
       "\n",
       "                                                          ...           var  \\\n",
       "month             7           8           9           10  ...            3    \n",
       "plan                                                      ...                 \n",
       "surf      424.314050  387.067901  390.907216  405.814346  ...  31999.545455   \n",
       "ultimate  404.118644  396.859155  413.162791  425.066038  ...  53963.181818   \n",
       "\n",
       "                                                                  \\\n",
       "month               4             5             6             7    \n",
       "plan                                                               \n",
       "surf      45613.600408  53134.887560  40730.982603  54309.300551   \n",
       "ultimate  30977.847619  39409.172414  37833.128585  64974.382233   \n",
       "\n",
       "                                                                                \n",
       "month               8             9             10            11            12  \n",
       "plan                                                                            \n",
       "surf      48598.871137  41495.804818  46791.872166  46012.236674  56915.570581  \n",
       "ultimate  47492.351308  50911.220246  48152.938455  54409.441320  55714.050155  \n",
       "\n",
       "[2 rows x 24 columns]"
      ]
     },
     "execution_count": 63,
     "metadata": {},
     "output_type": "execute_result"
    }
   ],
   "source": [
    "#Calculate the mean and the variance of the monthly call duration\n",
    "call_mean_var = df_agg.pivot_table(index='plan', columns='month', values='duration', aggfunc=['mean', 'var'])\n",
    "call_mean_var.head()"
   ]
  },
  {
   "cell_type": "code",
   "execution_count": 64,
   "metadata": {},
   "outputs": [
    {
     "data": {
      "text/plain": [
       "<AxesSubplot:title={'center':'duration'}, xlabel='plan'>"
      ]
     },
     "execution_count": 64,
     "metadata": {},
     "output_type": "execute_result"
    },
    {
     "data": {
      "image/png": "[encoded data removed]",
      "text/plain": [
       "<Figure size 432x288 with 1 Axes>"
      ]
     },
     "metadata": {
      "needs_background": "light"
     },
     "output_type": "display_data"
    }
   ],
   "source": [
    "call_boxplot = df_agg.groupby(['plan','user_id','month'])['duration'].mean().reset_index()\n",
    "call_boxplot.boxplot(column='duration', by='plan')"
   ]
  },
  {
   "cell_type": "markdown",
   "metadata": {},
   "source": [
    "[Formulate conclusions on how the users behave in terms of calling. Is their behaviour different between the plans?]"
   ]
  },
  {
   "cell_type": "markdown",
   "metadata": {},
   "source": [
    " "
   ]
  },
  {
   "cell_type": "markdown",
   "metadata": {},
   "source": [
    "### Messages"
   ]
  },
  {
   "cell_type": "code",
   "execution_count": 65,
   "metadata": {},
   "outputs": [
    {
     "data": {
      "text/plain": [
       "<AxesSubplot:title={'center':'Average # of Messages Per Plan Per Month'}, xlabel='month', ylabel='messages'>"
      ]
     },
     "execution_count": 65,
     "metadata": {},
     "output_type": "execute_result"
    },
    {
     "data": {
      "image/png": "[encoded data removed]",
      "text/plain": [
       "<Figure size 432x288 with 1 Axes>"
      ]
     },
     "metadata": {
      "needs_background": "light"
     },
     "output_type": "display_data"
    }
   ],
   "source": [
    "# Compare the number of messages users of each plan tend to send each month\n",
    "avg_message = df_agg.pivot_table(index='plan', columns='month', values='message_count', aggfunc='mean')\n",
    "avg_message.T.plot.bar(ylabel=\"messages\", title=\"Average # of Messages Per Plan Per Month\")\n"
   ]
  },
  {
   "cell_type": "code",
   "execution_count": 66,
   "metadata": {},
   "outputs": [
    {
     "data": {
      "text/plain": [
       "array([<AxesSubplot:title={'center':'surf'}>,\n",
       "       <AxesSubplot:title={'center':'ultimate'}>], dtype=object)"
      ]
     },
     "execution_count": 66,
     "metadata": {},
     "output_type": "execute_result"
    },
    {
     "data": {
      "image/png": "[encoded data removed]",
      "text/plain": [
       "<Figure size 864x360 with 2 Axes>"
      ]
     },
     "metadata": {
      "needs_background": "light"
     },
     "output_type": "display_data"
    }
   ],
   "source": [
    "# Compare the amount of internet traffic consumed by users per plan\n",
    "df_messages_agg.message_count.hist(by=df_agg['plan'], bins=42, figsize=(12,5))"
   ]
  },
  {
   "cell_type": "code",
   "execution_count": 67,
   "metadata": {},
   "outputs": [
    {
     "data": {
      "text/html": [
       "<div>\n",
       "<style scoped>\n",
       "    .dataframe tbody tr th:only-of-type {\n",
       "        vertical-align: middle;\n",
       "    }\n",
       "\n",
       "    .dataframe tbody tr th {\n",
       "        vertical-align: top;\n",
       "    }\n",
       "\n",
       "    .dataframe thead tr th {\n",
       "        text-align: left;\n",
       "    }\n",
       "\n",
       "    .dataframe thead tr:last-of-type th {\n",
       "        text-align: right;\n",
       "    }\n",
       "</style>\n",
       "<table border=\"1\" class=\"dataframe\">\n",
       "  <thead>\n",
       "    <tr>\n",
       "      <th></th>\n",
       "      <th colspan=\"10\" halign=\"left\">mean</th>\n",
       "      <th>...</th>\n",
       "      <th colspan=\"10\" halign=\"left\">var</th>\n",
       "    </tr>\n",
       "    <tr>\n",
       "      <th>month</th>\n",
       "      <th>1</th>\n",
       "      <th>2</th>\n",
       "      <th>3</th>\n",
       "      <th>4</th>\n",
       "      <th>5</th>\n",
       "      <th>6</th>\n",
       "      <th>7</th>\n",
       "      <th>8</th>\n",
       "      <th>9</th>\n",
       "      <th>10</th>\n",
       "      <th>...</th>\n",
       "      <th>3</th>\n",
       "      <th>4</th>\n",
       "      <th>5</th>\n",
       "      <th>6</th>\n",
       "      <th>7</th>\n",
       "      <th>8</th>\n",
       "      <th>9</th>\n",
       "      <th>10</th>\n",
       "      <th>11</th>\n",
       "      <th>12</th>\n",
       "    </tr>\n",
       "    <tr>\n",
       "      <th>plan</th>\n",
       "      <th></th>\n",
       "      <th></th>\n",
       "      <th></th>\n",
       "      <th></th>\n",
       "      <th></th>\n",
       "      <th></th>\n",
       "      <th></th>\n",
       "      <th></th>\n",
       "      <th></th>\n",
       "      <th></th>\n",
       "      <th></th>\n",
       "      <th></th>\n",
       "      <th></th>\n",
       "      <th></th>\n",
       "      <th></th>\n",
       "      <th></th>\n",
       "      <th></th>\n",
       "      <th></th>\n",
       "      <th></th>\n",
       "      <th></th>\n",
       "      <th></th>\n",
       "    </tr>\n",
       "  </thead>\n",
       "  <tbody>\n",
       "    <tr>\n",
       "      <th>surf</th>\n",
       "      <td>10.5</td>\n",
       "      <td>12.000000</td>\n",
       "      <td>15.26087</td>\n",
       "      <td>17.400000</td>\n",
       "      <td>24.012987</td>\n",
       "      <td>25.298969</td>\n",
       "      <td>27.033058</td>\n",
       "      <td>28.777778</td>\n",
       "      <td>30.762887</td>\n",
       "      <td>33.839662</td>\n",
       "      <td>...</td>\n",
       "      <td>346.565217</td>\n",
       "      <td>501.591837</td>\n",
       "      <td>847.197198</td>\n",
       "      <td>914.920103</td>\n",
       "      <td>923.915565</td>\n",
       "      <td>1029.515528</td>\n",
       "      <td>1003.829496</td>\n",
       "      <td>1275.465708</td>\n",
       "      <td>1065.344034</td>\n",
       "      <td>1458.158612</td>\n",
       "    </tr>\n",
       "    <tr>\n",
       "      <th>ultimate</th>\n",
       "      <td>15.5</td>\n",
       "      <td>21.571429</td>\n",
       "      <td>20.25000</td>\n",
       "      <td>22.047619</td>\n",
       "      <td>32.103448</td>\n",
       "      <td>29.340426</td>\n",
       "      <td>32.830508</td>\n",
       "      <td>38.478873</td>\n",
       "      <td>37.895349</td>\n",
       "      <td>39.443396</td>\n",
       "      <td>...</td>\n",
       "      <td>654.386364</td>\n",
       "      <td>544.147619</td>\n",
       "      <td>1297.310345</td>\n",
       "      <td>857.620722</td>\n",
       "      <td>960.488019</td>\n",
       "      <td>1196.367404</td>\n",
       "      <td>1050.918331</td>\n",
       "      <td>1221.106289</td>\n",
       "      <td>1232.669166</td>\n",
       "      <td>1549.419956</td>\n",
       "    </tr>\n",
       "  </tbody>\n",
       "</table>\n",
       "<p>2 rows × 24 columns</p>\n",
       "</div>"
      ],
      "text/plain": [
       "          mean                                                        \\\n",
       "month       1          2         3          4          5          6    \n",
       "plan                                                                   \n",
       "surf      10.5  12.000000  15.26087  17.400000  24.012987  25.298969   \n",
       "ultimate  15.5  21.571429  20.25000  22.047619  32.103448  29.340426   \n",
       "\n",
       "                                                      ...         var  \\\n",
       "month            7          8          9          10  ...          3    \n",
       "plan                                                  ...               \n",
       "surf      27.033058  28.777778  30.762887  33.839662  ...  346.565217   \n",
       "ultimate  32.830508  38.478873  37.895349  39.443396  ...  654.386364   \n",
       "\n",
       "                                                                        \\\n",
       "month             4            5           6           7            8    \n",
       "plan                                                                     \n",
       "surf      501.591837   847.197198  914.920103  923.915565  1029.515528   \n",
       "ultimate  544.147619  1297.310345  857.620722  960.488019  1196.367404   \n",
       "\n",
       "                                                              \n",
       "month              9            10           11           12  \n",
       "plan                                                          \n",
       "surf      1003.829496  1275.465708  1065.344034  1458.158612  \n",
       "ultimate  1050.918331  1221.106289  1232.669166  1549.419956  \n",
       "\n",
       "[2 rows x 24 columns]"
      ]
     },
     "execution_count": 67,
     "metadata": {},
     "output_type": "execute_result"
    }
   ],
   "source": [
    "#Calculate the mean and the variance of the monthly message count\n",
    "message_mean_var = df_agg.pivot_table(index='plan', columns='month', values='message_count', aggfunc=['mean', 'var'])\n",
    "message_mean_var.head()"
   ]
  },
  {
   "cell_type": "code",
   "execution_count": 68,
   "metadata": {},
   "outputs": [
    {
     "data": {
      "text/plain": [
       "<AxesSubplot:title={'center':'message_count'}, xlabel='plan'>"
      ]
     },
     "execution_count": 68,
     "metadata": {},
     "output_type": "execute_result"
    },
    {
     "data": {
      "image/png": "[encoded data removed]",
      "text/plain": [
       "<Figure size 432x288 with 1 Axes>"
      ]
     },
     "metadata": {
      "needs_background": "light"
     },
     "output_type": "display_data"
    }
   ],
   "source": [
    "# Plot a boxplot to visualize the distribution of the monthly call duration\n",
    "message_boxplot = df_agg.groupby(['plan','user_id','month'])['message_count'].mean().reset_index()\n",
    "message_boxplot.boxplot(column='message_count', by='plan')\n"
   ]
  },
  {
   "cell_type": "markdown",
   "metadata": {},
   "source": [
    "[Formulate conclusions on how the users behave in terms of messaging. Is their behaviour different between the plans?]"
   ]
  },
  {
   "cell_type": "markdown",
   "metadata": {},
   "source": [
    " "
   ]
  },
  {
   "cell_type": "markdown",
   "metadata": {},
   "source": [
    "### Internet"
   ]
  },
  {
   "cell_type": "code",
   "execution_count": 69,
   "metadata": {},
   "outputs": [
    {
     "data": {
      "text/plain": [
       "<AxesSubplot:title={'center':'Average Internet Usage Per Plan Per Month'}, xlabel='month', ylabel='internet'>"
      ]
     },
     "execution_count": 69,
     "metadata": {},
     "output_type": "execute_result"
    },
    {
     "data": {
      "image/png": "[encoded data removed]",
      "text/plain": [
       "<Figure size 432x288 with 1 Axes>"
      ]
     },
     "metadata": {
      "needs_background": "light"
     },
     "output_type": "display_data"
    }
   ],
   "source": [
    "# Compare the amount of internet users of each plan tend to use each month\n",
    "avg_int = df_agg.pivot_table(index='plan', columns='month', values='gb_used', aggfunc='mean')\n",
    "avg_int.T.plot.bar(ylabel=\"internet\", title=\"Average Internet Usage Per Plan Per Month\")"
   ]
  },
  {
   "cell_type": "code",
   "execution_count": 70,
   "metadata": {},
   "outputs": [
    {
     "data": {
      "text/plain": [
       "array([<AxesSubplot:title={'center':'surf'}>,\n",
       "       <AxesSubplot:title={'center':'ultimate'}>], dtype=object)"
      ]
     },
     "execution_count": 70,
     "metadata": {},
     "output_type": "execute_result"
    },
    {
     "data": {
      "image/png": "[encoded data removed]",
      "text/plain": [
       "<Figure size 864x360 with 2 Axes>"
      ]
     },
     "metadata": {
      "needs_background": "light"
     },
     "output_type": "display_data"
    }
   ],
   "source": [
    "# Compare the amount of internet traffic consumed by users per plan\n",
    "df_internet_agg.gb_used.hist(by=df_agg['plan'], bins=42, figsize=(12,5))"
   ]
  },
  {
   "cell_type": "code",
   "execution_count": 71,
   "metadata": {},
   "outputs": [
    {
     "data": {
      "text/html": [
       "<div>\n",
       "<style scoped>\n",
       "    .dataframe tbody tr th:only-of-type {\n",
       "        vertical-align: middle;\n",
       "    }\n",
       "\n",
       "    .dataframe tbody tr th {\n",
       "        vertical-align: top;\n",
       "    }\n",
       "\n",
       "    .dataframe thead tr th {\n",
       "        text-align: left;\n",
       "    }\n",
       "\n",
       "    .dataframe thead tr:last-of-type th {\n",
       "        text-align: right;\n",
       "    }\n",
       "</style>\n",
       "<table border=\"1\" class=\"dataframe\">\n",
       "  <thead>\n",
       "    <tr>\n",
       "      <th></th>\n",
       "      <th colspan=\"10\" halign=\"left\">mean</th>\n",
       "      <th>...</th>\n",
       "      <th colspan=\"10\" halign=\"left\">var</th>\n",
       "    </tr>\n",
       "    <tr>\n",
       "      <th>month</th>\n",
       "      <th>1</th>\n",
       "      <th>2</th>\n",
       "      <th>3</th>\n",
       "      <th>4</th>\n",
       "      <th>5</th>\n",
       "      <th>6</th>\n",
       "      <th>7</th>\n",
       "      <th>8</th>\n",
       "      <th>9</th>\n",
       "      <th>10</th>\n",
       "      <th>...</th>\n",
       "      <th>3</th>\n",
       "      <th>4</th>\n",
       "      <th>5</th>\n",
       "      <th>6</th>\n",
       "      <th>7</th>\n",
       "      <th>8</th>\n",
       "      <th>9</th>\n",
       "      <th>10</th>\n",
       "      <th>11</th>\n",
       "      <th>12</th>\n",
       "    </tr>\n",
       "    <tr>\n",
       "      <th>plan</th>\n",
       "      <th></th>\n",
       "      <th></th>\n",
       "      <th></th>\n",
       "      <th></th>\n",
       "      <th></th>\n",
       "      <th></th>\n",
       "      <th></th>\n",
       "      <th></th>\n",
       "      <th></th>\n",
       "      <th></th>\n",
       "      <th></th>\n",
       "      <th></th>\n",
       "      <th></th>\n",
       "      <th></th>\n",
       "      <th></th>\n",
       "      <th></th>\n",
       "      <th></th>\n",
       "      <th></th>\n",
       "      <th></th>\n",
       "      <th></th>\n",
       "      <th></th>\n",
       "    </tr>\n",
       "  </thead>\n",
       "  <tbody>\n",
       "    <tr>\n",
       "      <th>surf</th>\n",
       "      <td>5.00</td>\n",
       "      <td>12.222222</td>\n",
       "      <td>13.565217</td>\n",
       "      <td>12.220000</td>\n",
       "      <td>14.116883</td>\n",
       "      <td>15.484536</td>\n",
       "      <td>16.876033</td>\n",
       "      <td>16.882716</td>\n",
       "      <td>16.690722</td>\n",
       "      <td>17.409283</td>\n",
       "      <td>...</td>\n",
       "      <td>63.984190</td>\n",
       "      <td>56.215918</td>\n",
       "      <td>58.183527</td>\n",
       "      <td>47.752363</td>\n",
       "      <td>61.476171</td>\n",
       "      <td>71.420942</td>\n",
       "      <td>49.240639</td>\n",
       "      <td>60.725846</td>\n",
       "      <td>54.607824</td>\n",
       "      <td>69.210841</td>\n",
       "    </tr>\n",
       "    <tr>\n",
       "      <th>ultimate</th>\n",
       "      <td>7.25</td>\n",
       "      <td>17.285714</td>\n",
       "      <td>18.416667</td>\n",
       "      <td>16.333333</td>\n",
       "      <td>16.862069</td>\n",
       "      <td>15.425532</td>\n",
       "      <td>16.491525</td>\n",
       "      <td>17.845070</td>\n",
       "      <td>17.011628</td>\n",
       "      <td>17.716981</td>\n",
       "      <td>...</td>\n",
       "      <td>138.628788</td>\n",
       "      <td>85.833333</td>\n",
       "      <td>54.194581</td>\n",
       "      <td>68.858464</td>\n",
       "      <td>64.254237</td>\n",
       "      <td>58.047082</td>\n",
       "      <td>47.258687</td>\n",
       "      <td>54.604852</td>\n",
       "      <td>54.390701</td>\n",
       "      <td>58.841060</td>\n",
       "    </tr>\n",
       "  </tbody>\n",
       "</table>\n",
       "<p>2 rows × 24 columns</p>\n",
       "</div>"
      ],
      "text/plain": [
       "          mean                                                         \\\n",
       "month       1          2          3          4          5          6    \n",
       "plan                                                                    \n",
       "surf      5.00  12.222222  13.565217  12.220000  14.116883  15.484536   \n",
       "ultimate  7.25  17.285714  18.416667  16.333333  16.862069  15.425532   \n",
       "\n",
       "                                                      ...         var  \\\n",
       "month            7          8          9          10  ...          3    \n",
       "plan                                                  ...               \n",
       "surf      16.876033  16.882716  16.690722  17.409283  ...   63.984190   \n",
       "ultimate  16.491525  17.845070  17.011628  17.716981  ...  138.628788   \n",
       "\n",
       "                                                                            \\\n",
       "month            4          5          6          7          8          9    \n",
       "plan                                                                         \n",
       "surf      56.215918  58.183527  47.752363  61.476171  71.420942  49.240639   \n",
       "ultimate  85.833333  54.194581  68.858464  64.254237  58.047082  47.258687   \n",
       "\n",
       "                                           \n",
       "month            10         11         12  \n",
       "plan                                       \n",
       "surf      60.725846  54.607824  69.210841  \n",
       "ultimate  54.604852  54.390701  58.841060  \n",
       "\n",
       "[2 rows x 24 columns]"
      ]
     },
     "execution_count": 71,
     "metadata": {},
     "output_type": "execute_result"
    }
   ],
   "source": [
    "#Calculate the mean and the variance of the monthly internet usage\n",
    "int_mean_var = df_agg.pivot_table(index='plan', columns='month', values='gb_used', aggfunc=['mean', 'var'])\n",
    "int_mean_var.head()"
   ]
  },
  {
   "cell_type": "code",
   "execution_count": 72,
   "metadata": {},
   "outputs": [
    {
     "data": {
      "text/plain": [
       "<AxesSubplot:title={'center':'gb_used'}, xlabel='plan'>"
      ]
     },
     "execution_count": 72,
     "metadata": {},
     "output_type": "execute_result"
    },
    {
     "data": {
      "image/png": "[encoded data removed]",
      "text/plain": [
       "<Figure size 432x288 with 1 Axes>"
      ]
     },
     "metadata": {
      "needs_background": "light"
     },
     "output_type": "display_data"
    }
   ],
   "source": [
    "# Plot a boxplot to visualize the distribution of the monthly call duration\n",
    "int_boxplot = df_agg.groupby(['plan','user_id','month'])['gb_used'].mean().reset_index()\n",
    "int_boxplot.boxplot(column='gb_used', by='plan')"
   ]
  },
  {
   "cell_type": "markdown",
   "metadata": {},
   "source": [
    "[Formulate conclusions on how the users tend to consume the internet traffic? Is their behaviour different between the plans?]"
   ]
  },
  {
   "cell_type": "markdown",
   "metadata": {},
   "source": [
    " "
   ]
  },
  {
   "cell_type": "markdown",
   "metadata": {},
   "source": [
    "## Revenue"
   ]
  },
  {
   "cell_type": "markdown",
   "metadata": {},
   "source": [
    "[Likewise you have studied the user behaviour, statistically describe the revenue between the plans.]"
   ]
  },
  {
   "cell_type": "code",
   "execution_count": 73,
   "metadata": {},
   "outputs": [
    {
     "data": {
      "text/html": [
       "<div>\n",
       "<style scoped>\n",
       "    .dataframe tbody tr th:only-of-type {\n",
       "        vertical-align: middle;\n",
       "    }\n",
       "\n",
       "    .dataframe tbody tr th {\n",
       "        vertical-align: top;\n",
       "    }\n",
       "\n",
       "    .dataframe thead th {\n",
       "        text-align: right;\n",
       "    }\n",
       "</style>\n",
       "<table border=\"1\" class=\"dataframe\">\n",
       "  <thead>\n",
       "    <tr style=\"text-align: right;\">\n",
       "      <th></th>\n",
       "      <th>user_id</th>\n",
       "      <th>month</th>\n",
       "      <th>duration</th>\n",
       "      <th>gb_used</th>\n",
       "      <th>message_count</th>\n",
       "      <th>plan</th>\n",
       "      <th>churn_date</th>\n",
       "      <th>messages_included</th>\n",
       "      <th>minutes_included</th>\n",
       "      <th>usd_monthly_pay</th>\n",
       "      <th>usd_per_gb</th>\n",
       "      <th>usd_per_message</th>\n",
       "      <th>usd_per_minute</th>\n",
       "      <th>gb_per_month_included</th>\n",
       "      <th>min_over</th>\n",
       "      <th>data_over</th>\n",
       "      <th>msg_over</th>\n",
       "      <th>call_cost_additional</th>\n",
       "      <th>data_cost_additional</th>\n",
       "      <th>msg_cost_additional</th>\n",
       "    </tr>\n",
       "  </thead>\n",
       "  <tbody>\n",
       "    <tr>\n",
       "      <th>0</th>\n",
       "      <td>1000</td>\n",
       "      <td>12</td>\n",
       "      <td>117.0</td>\n",
       "      <td>2.0</td>\n",
       "      <td>11.0</td>\n",
       "      <td>ultimate</td>\n",
       "      <td>NaN</td>\n",
       "      <td>1000</td>\n",
       "      <td>3000</td>\n",
       "      <td>70</td>\n",
       "      <td>7</td>\n",
       "      <td>0.01</td>\n",
       "      <td>0.01</td>\n",
       "      <td>30.0</td>\n",
       "      <td>0.0</td>\n",
       "      <td>0.0</td>\n",
       "      <td>0.0</td>\n",
       "      <td>0.0</td>\n",
       "      <td>0.0</td>\n",
       "      <td>0.00</td>\n",
       "    </tr>\n",
       "    <tr>\n",
       "      <th>1</th>\n",
       "      <td>1001</td>\n",
       "      <td>8</td>\n",
       "      <td>173.0</td>\n",
       "      <td>7.0</td>\n",
       "      <td>30.0</td>\n",
       "      <td>surf</td>\n",
       "      <td>NaN</td>\n",
       "      <td>50</td>\n",
       "      <td>500</td>\n",
       "      <td>20</td>\n",
       "      <td>10</td>\n",
       "      <td>0.03</td>\n",
       "      <td>0.03</td>\n",
       "      <td>15.0</td>\n",
       "      <td>0.0</td>\n",
       "      <td>0.0</td>\n",
       "      <td>0.0</td>\n",
       "      <td>0.0</td>\n",
       "      <td>0.0</td>\n",
       "      <td>0.00</td>\n",
       "    </tr>\n",
       "    <tr>\n",
       "      <th>2</th>\n",
       "      <td>1001</td>\n",
       "      <td>9</td>\n",
       "      <td>297.0</td>\n",
       "      <td>14.0</td>\n",
       "      <td>44.0</td>\n",
       "      <td>surf</td>\n",
       "      <td>NaN</td>\n",
       "      <td>50</td>\n",
       "      <td>500</td>\n",
       "      <td>20</td>\n",
       "      <td>10</td>\n",
       "      <td>0.03</td>\n",
       "      <td>0.03</td>\n",
       "      <td>15.0</td>\n",
       "      <td>0.0</td>\n",
       "      <td>0.0</td>\n",
       "      <td>0.0</td>\n",
       "      <td>0.0</td>\n",
       "      <td>0.0</td>\n",
       "      <td>0.00</td>\n",
       "    </tr>\n",
       "    <tr>\n",
       "      <th>3</th>\n",
       "      <td>1001</td>\n",
       "      <td>10</td>\n",
       "      <td>374.0</td>\n",
       "      <td>22.0</td>\n",
       "      <td>53.0</td>\n",
       "      <td>surf</td>\n",
       "      <td>NaN</td>\n",
       "      <td>50</td>\n",
       "      <td>500</td>\n",
       "      <td>20</td>\n",
       "      <td>10</td>\n",
       "      <td>0.03</td>\n",
       "      <td>0.03</td>\n",
       "      <td>15.0</td>\n",
       "      <td>0.0</td>\n",
       "      <td>7.0</td>\n",
       "      <td>3.0</td>\n",
       "      <td>0.0</td>\n",
       "      <td>70.0</td>\n",
       "      <td>0.09</td>\n",
       "    </tr>\n",
       "    <tr>\n",
       "      <th>4</th>\n",
       "      <td>1001</td>\n",
       "      <td>11</td>\n",
       "      <td>404.0</td>\n",
       "      <td>19.0</td>\n",
       "      <td>36.0</td>\n",
       "      <td>surf</td>\n",
       "      <td>NaN</td>\n",
       "      <td>50</td>\n",
       "      <td>500</td>\n",
       "      <td>20</td>\n",
       "      <td>10</td>\n",
       "      <td>0.03</td>\n",
       "      <td>0.03</td>\n",
       "      <td>15.0</td>\n",
       "      <td>0.0</td>\n",
       "      <td>4.0</td>\n",
       "      <td>0.0</td>\n",
       "      <td>0.0</td>\n",
       "      <td>40.0</td>\n",
       "      <td>0.00</td>\n",
       "    </tr>\n",
       "    <tr>\n",
       "      <th>...</th>\n",
       "      <td>...</td>\n",
       "      <td>...</td>\n",
       "      <td>...</td>\n",
       "      <td>...</td>\n",
       "      <td>...</td>\n",
       "      <td>...</td>\n",
       "      <td>...</td>\n",
       "      <td>...</td>\n",
       "      <td>...</td>\n",
       "      <td>...</td>\n",
       "      <td>...</td>\n",
       "      <td>...</td>\n",
       "      <td>...</td>\n",
       "      <td>...</td>\n",
       "      <td>...</td>\n",
       "      <td>...</td>\n",
       "      <td>...</td>\n",
       "      <td>...</td>\n",
       "      <td>...</td>\n",
       "      <td>...</td>\n",
       "    </tr>\n",
       "    <tr>\n",
       "      <th>2288</th>\n",
       "      <td>1349</td>\n",
       "      <td>10</td>\n",
       "      <td>0.0</td>\n",
       "      <td>13.0</td>\n",
       "      <td>76.0</td>\n",
       "      <td>surf</td>\n",
       "      <td>NaN</td>\n",
       "      <td>50</td>\n",
       "      <td>500</td>\n",
       "      <td>20</td>\n",
       "      <td>10</td>\n",
       "      <td>0.03</td>\n",
       "      <td>0.03</td>\n",
       "      <td>15.0</td>\n",
       "      <td>0.0</td>\n",
       "      <td>0.0</td>\n",
       "      <td>26.0</td>\n",
       "      <td>0.0</td>\n",
       "      <td>0.0</td>\n",
       "      <td>0.78</td>\n",
       "    </tr>\n",
       "    <tr>\n",
       "      <th>2289</th>\n",
       "      <td>1349</td>\n",
       "      <td>11</td>\n",
       "      <td>0.0</td>\n",
       "      <td>17.0</td>\n",
       "      <td>72.0</td>\n",
       "      <td>surf</td>\n",
       "      <td>NaN</td>\n",
       "      <td>50</td>\n",
       "      <td>500</td>\n",
       "      <td>20</td>\n",
       "      <td>10</td>\n",
       "      <td>0.03</td>\n",
       "      <td>0.03</td>\n",
       "      <td>15.0</td>\n",
       "      <td>0.0</td>\n",
       "      <td>2.0</td>\n",
       "      <td>22.0</td>\n",
       "      <td>0.0</td>\n",
       "      <td>20.0</td>\n",
       "      <td>0.66</td>\n",
       "    </tr>\n",
       "    <tr>\n",
       "      <th>2290</th>\n",
       "      <td>1349</td>\n",
       "      <td>12</td>\n",
       "      <td>0.0</td>\n",
       "      <td>13.0</td>\n",
       "      <td>61.0</td>\n",
       "      <td>surf</td>\n",
       "      <td>NaN</td>\n",
       "      <td>50</td>\n",
       "      <td>500</td>\n",
       "      <td>20</td>\n",
       "      <td>10</td>\n",
       "      <td>0.03</td>\n",
       "      <td>0.03</td>\n",
       "      <td>15.0</td>\n",
       "      <td>0.0</td>\n",
       "      <td>0.0</td>\n",
       "      <td>11.0</td>\n",
       "      <td>0.0</td>\n",
       "      <td>0.0</td>\n",
       "      <td>0.33</td>\n",
       "    </tr>\n",
       "    <tr>\n",
       "      <th>2291</th>\n",
       "      <td>1361</td>\n",
       "      <td>5</td>\n",
       "      <td>0.0</td>\n",
       "      <td>2.0</td>\n",
       "      <td>2.0</td>\n",
       "      <td>surf</td>\n",
       "      <td>NaN</td>\n",
       "      <td>50</td>\n",
       "      <td>500</td>\n",
       "      <td>20</td>\n",
       "      <td>10</td>\n",
       "      <td>0.03</td>\n",
       "      <td>0.03</td>\n",
       "      <td>15.0</td>\n",
       "      <td>0.0</td>\n",
       "      <td>0.0</td>\n",
       "      <td>0.0</td>\n",
       "      <td>0.0</td>\n",
       "      <td>0.0</td>\n",
       "      <td>0.00</td>\n",
       "    </tr>\n",
       "    <tr>\n",
       "      <th>2292</th>\n",
       "      <td>1482</td>\n",
       "      <td>10</td>\n",
       "      <td>0.0</td>\n",
       "      <td>0.0</td>\n",
       "      <td>2.0</td>\n",
       "      <td>ultimate</td>\n",
       "      <td>NaN</td>\n",
       "      <td>1000</td>\n",
       "      <td>3000</td>\n",
       "      <td>70</td>\n",
       "      <td>7</td>\n",
       "      <td>0.01</td>\n",
       "      <td>0.01</td>\n",
       "      <td>30.0</td>\n",
       "      <td>0.0</td>\n",
       "      <td>0.0</td>\n",
       "      <td>0.0</td>\n",
       "      <td>0.0</td>\n",
       "      <td>0.0</td>\n",
       "      <td>0.00</td>\n",
       "    </tr>\n",
       "  </tbody>\n",
       "</table>\n",
       "<p>2293 rows × 20 columns</p>\n",
       "</div>"
      ],
      "text/plain": [
       "      user_id  month  duration  gb_used  message_count      plan churn_date  \\\n",
       "0        1000     12     117.0      2.0           11.0  ultimate        NaN   \n",
       "1        1001      8     173.0      7.0           30.0      surf        NaN   \n",
       "2        1001      9     297.0     14.0           44.0      surf        NaN   \n",
       "3        1001     10     374.0     22.0           53.0      surf        NaN   \n",
       "4        1001     11     404.0     19.0           36.0      surf        NaN   \n",
       "...       ...    ...       ...      ...            ...       ...        ...   \n",
       "2288     1349     10       0.0     13.0           76.0      surf        NaN   \n",
       "2289     1349     11       0.0     17.0           72.0      surf        NaN   \n",
       "2290     1349     12       0.0     13.0           61.0      surf        NaN   \n",
       "2291     1361      5       0.0      2.0            2.0      surf        NaN   \n",
       "2292     1482     10       0.0      0.0            2.0  ultimate        NaN   \n",
       "\n",
       "      messages_included  minutes_included  usd_monthly_pay  usd_per_gb  \\\n",
       "0                  1000              3000               70           7   \n",
       "1                    50               500               20          10   \n",
       "2                    50               500               20          10   \n",
       "3                    50               500               20          10   \n",
       "4                    50               500               20          10   \n",
       "...                 ...               ...              ...         ...   \n",
       "2288                 50               500               20          10   \n",
       "2289                 50               500               20          10   \n",
       "2290                 50               500               20          10   \n",
       "2291                 50               500               20          10   \n",
       "2292               1000              3000               70           7   \n",
       "\n",
       "      usd_per_message  usd_per_minute  gb_per_month_included  min_over  \\\n",
       "0                0.01            0.01                   30.0       0.0   \n",
       "1                0.03            0.03                   15.0       0.0   \n",
       "2                0.03            0.03                   15.0       0.0   \n",
       "3                0.03            0.03                   15.0       0.0   \n",
       "4                0.03            0.03                   15.0       0.0   \n",
       "...               ...             ...                    ...       ...   \n",
       "2288             0.03            0.03                   15.0       0.0   \n",
       "2289             0.03            0.03                   15.0       0.0   \n",
       "2290             0.03            0.03                   15.0       0.0   \n",
       "2291             0.03            0.03                   15.0       0.0   \n",
       "2292             0.01            0.01                   30.0       0.0   \n",
       "\n",
       "      data_over  msg_over  call_cost_additional  data_cost_additional  \\\n",
       "0           0.0       0.0                   0.0                   0.0   \n",
       "1           0.0       0.0                   0.0                   0.0   \n",
       "2           0.0       0.0                   0.0                   0.0   \n",
       "3           7.0       3.0                   0.0                  70.0   \n",
       "4           4.0       0.0                   0.0                  40.0   \n",
       "...         ...       ...                   ...                   ...   \n",
       "2288        0.0      26.0                   0.0                   0.0   \n",
       "2289        2.0      22.0                   0.0                  20.0   \n",
       "2290        0.0      11.0                   0.0                   0.0   \n",
       "2291        0.0       0.0                   0.0                   0.0   \n",
       "2292        0.0       0.0                   0.0                   0.0   \n",
       "\n",
       "      msg_cost_additional  \n",
       "0                    0.00  \n",
       "1                    0.00  \n",
       "2                    0.00  \n",
       "3                    0.09  \n",
       "4                    0.00  \n",
       "...                   ...  \n",
       "2288                 0.78  \n",
       "2289                 0.66  \n",
       "2290                 0.33  \n",
       "2291                 0.00  \n",
       "2292                 0.00  \n",
       "\n",
       "[2293 rows x 20 columns]"
      ]
     },
     "execution_count": 73,
     "metadata": {},
     "output_type": "execute_result"
    }
   ],
   "source": [
    "df_agg"
   ]
  },
  {
   "cell_type": "code",
   "execution_count": 74,
   "metadata": {},
   "outputs": [],
   "source": [
    "# what is revenue\n",
    "# base price + minute overage + data overage + text overage\n",
    "df_agg['revenue'] = df_agg['usd_monthly_pay'] + \\\n",
    "                    df_agg['call_cost_additional'] +\\\n",
    "                    df_agg['data_cost_additional'] +\\\n",
    "                    df_agg['msg_cost_additional']"
   ]
  },
  {
   "cell_type": "code",
   "execution_count": 75,
   "metadata": {},
   "outputs": [
    {
     "data": {
      "text/plain": [
       "count    2293.000000\n",
       "mean       64.089167\n",
       "std        46.543181\n",
       "min        20.000000\n",
       "25%        22.460000\n",
       "50%        70.000000\n",
       "75%        70.000000\n",
       "max       588.630000\n",
       "Name: revenue, dtype: float64"
      ]
     },
     "execution_count": 75,
     "metadata": {},
     "output_type": "execute_result"
    }
   ],
   "source": [
    "df_agg['revenue'].describe()"
   ]
  },
  {
   "cell_type": "markdown",
   "metadata": {},
   "source": []
  },
  {
   "cell_type": "code",
   "execution_count": 76,
   "metadata": {},
   "outputs": [
    {
     "data": {
      "text/plain": [
       "<AxesSubplot:title={'center':'Average Revenue Per Plan Per Month'}, xlabel='month', ylabel='revenue'>"
      ]
     },
     "execution_count": 76,
     "metadata": {},
     "output_type": "execute_result"
    },
    {
     "data": {
      "image/png": "[encoded data removed]",
      "text/plain": [
       "<Figure size 432x288 with 1 Axes>"
      ]
     },
     "metadata": {
      "needs_background": "light"
     },
     "output_type": "display_data"
    }
   ],
   "source": [
    "# Compare average revenue per each plan per each distinct month. Plot a bar plot to visualize it.\n",
    "avg_revenue = df_agg.pivot_table(index='plan', columns='month', values='revenue', aggfunc='mean')\n",
    "avg_revenue.T.plot.bar(ylabel=\"revenue\", title=\"Average Revenue Per Plan Per Month\")"
   ]
  },
  {
   "cell_type": "code",
   "execution_count": 77,
   "metadata": {},
   "outputs": [
    {
     "data": {
      "text/plain": [
       "array([<AxesSubplot:title={'center':'surf'}>,\n",
       "       <AxesSubplot:title={'center':'ultimate'}>], dtype=object)"
      ]
     },
     "execution_count": 77,
     "metadata": {},
     "output_type": "execute_result"
    },
    {
     "data": {
      "image/png": "[encoded data removed]",
      "text/plain": [
       "<Figure size 864x360 with 2 Axes>"
      ]
     },
     "metadata": {
      "needs_background": "light"
     },
     "output_type": "display_data"
    }
   ],
   "source": [
    "# Compare revenue per plan each month. Plot a histogram.\n",
    "df_agg.revenue.hist(by=df_agg['plan'], bins=42, figsize=(12,5))"
   ]
  },
  {
   "cell_type": "code",
   "execution_count": 78,
   "metadata": {},
   "outputs": [
    {
     "data": {
      "text/html": [
       "<div>\n",
       "<style scoped>\n",
       "    .dataframe tbody tr th:only-of-type {\n",
       "        vertical-align: middle;\n",
       "    }\n",
       "\n",
       "    .dataframe tbody tr th {\n",
       "        vertical-align: top;\n",
       "    }\n",
       "\n",
       "    .dataframe thead tr th {\n",
       "        text-align: left;\n",
       "    }\n",
       "\n",
       "    .dataframe thead tr:last-of-type th {\n",
       "        text-align: right;\n",
       "    }\n",
       "</style>\n",
       "<table border=\"1\" class=\"dataframe\">\n",
       "  <thead>\n",
       "    <tr>\n",
       "      <th></th>\n",
       "      <th colspan=\"10\" halign=\"left\">mean</th>\n",
       "      <th>...</th>\n",
       "      <th colspan=\"10\" halign=\"left\">var</th>\n",
       "    </tr>\n",
       "    <tr>\n",
       "      <th>month</th>\n",
       "      <th>1</th>\n",
       "      <th>2</th>\n",
       "      <th>3</th>\n",
       "      <th>4</th>\n",
       "      <th>5</th>\n",
       "      <th>6</th>\n",
       "      <th>7</th>\n",
       "      <th>8</th>\n",
       "      <th>9</th>\n",
       "      <th>10</th>\n",
       "      <th>...</th>\n",
       "      <th>3</th>\n",
       "      <th>4</th>\n",
       "      <th>5</th>\n",
       "      <th>6</th>\n",
       "      <th>7</th>\n",
       "      <th>8</th>\n",
       "      <th>9</th>\n",
       "      <th>10</th>\n",
       "      <th>11</th>\n",
       "      <th>12</th>\n",
       "    </tr>\n",
       "    <tr>\n",
       "      <th>plan</th>\n",
       "      <th></th>\n",
       "      <th></th>\n",
       "      <th></th>\n",
       "      <th></th>\n",
       "      <th></th>\n",
       "      <th></th>\n",
       "      <th></th>\n",
       "      <th></th>\n",
       "      <th></th>\n",
       "      <th></th>\n",
       "      <th></th>\n",
       "      <th></th>\n",
       "      <th></th>\n",
       "      <th></th>\n",
       "      <th></th>\n",
       "      <th></th>\n",
       "      <th></th>\n",
       "      <th></th>\n",
       "      <th></th>\n",
       "      <th></th>\n",
       "      <th></th>\n",
       "    </tr>\n",
       "  </thead>\n",
       "  <tbody>\n",
       "    <tr>\n",
       "      <th>surf</th>\n",
       "      <td>20.0</td>\n",
       "      <td>34.256667</td>\n",
       "      <td>45.791304</td>\n",
       "      <td>40.4562</td>\n",
       "      <td>47.229610</td>\n",
       "      <td>48.925258</td>\n",
       "      <td>62.218099</td>\n",
       "      <td>63.576358</td>\n",
       "      <td>57.941959</td>\n",
       "      <td>65.049325</td>\n",
       "      <td>...</td>\n",
       "      <td>1507.698903</td>\n",
       "      <td>1197.234702</td>\n",
       "      <td>1948.896591</td>\n",
       "      <td>1977.084073</td>\n",
       "      <td>2921.055372</td>\n",
       "      <td>3573.558826</td>\n",
       "      <td>2252.087506</td>\n",
       "      <td>3179.017877</td>\n",
       "      <td>2485.102346</td>\n",
       "      <td>4590.607748</td>\n",
       "    </tr>\n",
       "    <tr>\n",
       "      <th>ultimate</th>\n",
       "      <td>70.0</td>\n",
       "      <td>70.000000</td>\n",
       "      <td>74.666667</td>\n",
       "      <td>73.0000</td>\n",
       "      <td>70.724138</td>\n",
       "      <td>71.638298</td>\n",
       "      <td>71.898305</td>\n",
       "      <td>72.859155</td>\n",
       "      <td>72.034884</td>\n",
       "      <td>72.311321</td>\n",
       "      <td>...</td>\n",
       "      <td>145.515152</td>\n",
       "      <td>120.400000</td>\n",
       "      <td>15.206897</td>\n",
       "      <td>75.018501</td>\n",
       "      <td>104.472238</td>\n",
       "      <td>154.808451</td>\n",
       "      <td>75.939945</td>\n",
       "      <td>169.606918</td>\n",
       "      <td>94.668416</td>\n",
       "      <td>212.861192</td>\n",
       "    </tr>\n",
       "  </tbody>\n",
       "</table>\n",
       "<p>2 rows × 24 columns</p>\n",
       "</div>"
      ],
      "text/plain": [
       "          mean                                                       \\\n",
       "month       1          2          3        4          5          6    \n",
       "plan                                                                  \n",
       "surf      20.0  34.256667  45.791304  40.4562  47.229610  48.925258   \n",
       "ultimate  70.0  70.000000  74.666667  73.0000  70.724138  71.638298   \n",
       "\n",
       "                                                      ...          var  \\\n",
       "month            7          8          9          10  ...           3    \n",
       "plan                                                  ...                \n",
       "surf      62.218099  63.576358  57.941959  65.049325  ...  1507.698903   \n",
       "ultimate  71.898305  72.859155  72.034884  72.311321  ...   145.515152   \n",
       "\n",
       "                                                                           \\\n",
       "month              4            5            6            7            8    \n",
       "plan                                                                        \n",
       "surf      1197.234702  1948.896591  1977.084073  2921.055372  3573.558826   \n",
       "ultimate   120.400000    15.206897    75.018501   104.472238   154.808451   \n",
       "\n",
       "                                                              \n",
       "month              9            10           11           12  \n",
       "plan                                                          \n",
       "surf      2252.087506  3179.017877  2485.102346  4590.607748  \n",
       "ultimate    75.939945   169.606918    94.668416   212.861192  \n",
       "\n",
       "[2 rows x 24 columns]"
      ]
     },
     "execution_count": 78,
     "metadata": {},
     "output_type": "execute_result"
    }
   ],
   "source": [
    "#Calculate the mean and the variance of the monthly revenue\n",
    "revenue_mean_var = df_agg.pivot_table(index='plan', columns='month', values='revenue', aggfunc=['mean', 'var'])\n",
    "revenue_mean_var.head()"
   ]
  },
  {
   "cell_type": "code",
   "execution_count": 79,
   "metadata": {},
   "outputs": [
    {
     "data": {
      "text/plain": [
       "<AxesSubplot:title={'center':'revenue'}, xlabel='plan'>"
      ]
     },
     "execution_count": 79,
     "metadata": {},
     "output_type": "execute_result"
    },
    {
     "data": {
      "image/png": "[encoded data removed]",
      "text/plain": [
       "<Figure size 432x288 with 1 Axes>"
      ]
     },
     "metadata": {
      "needs_background": "light"
     },
     "output_type": "display_data"
    }
   ],
   "source": [
    "# Plot a boxplot to visualize the distribution of the monthly revenue\n",
    "revenue_boxplot = df_agg.groupby(['plan','user_id','month'])['revenue'].mean().reset_index()\n",
    "revenue_boxplot.boxplot(column='revenue', by='plan')"
   ]
  },
  {
   "cell_type": "markdown",
   "metadata": {},
   "source": [
    "[Formulate conclusions about how the revenue differs between the plans.]"
   ]
  },
  {
   "cell_type": "markdown",
   "metadata": {},
   "source": [
    " "
   ]
  },
  {
   "cell_type": "markdown",
   "metadata": {},
   "source": [
    "## Test statistical hypotheses"
   ]
  },
  {
   "cell_type": "markdown",
   "metadata": {},
   "source": [
    "[Test the hypothesis that the average revenue from users of the Ultimate and Surf calling plans differs.]"
   ]
  },
  {
   "cell_type": "code",
   "execution_count": 80,
   "metadata": {},
   "outputs": [
    {
     "name": "stdout",
     "output_type": "stream",
     "text": [
      "p-value:  9.265070552566982e-09\n",
      "We reject the null hypothesis\n"
     ]
    }
   ],
   "source": [
    "# Test the hypotheses\n",
    "# that the average revenue from users of the Ultimate and Surf calling plans differs\n",
    "#the null: the average revenue of Ultimate plan differs from Surf Plan\n",
    "#the alternative: the average revenue of Ultimate and Surf are similar\n",
    "\n",
    "sample1 = df_agg[df_agg['plan'] == 'surf']['revenue']\n",
    "\n",
    "sample2 = df_agg[df_agg['plan'] == 'ultimate']['revenue']\n",
    "\n",
    "alpha = 0.05\n",
    "\n",
    "results = st.ttest_ind(sample1, sample2)\n",
    "\n",
    "print('p-value: ', results.pvalue)\n",
    "\n",
    "if results.pvalue < alpha:\n",
    "    print('We reject the null hypothesis')\n",
    "else:\n",
    "    print('We cannot reject the null hypothesis') "
   ]
  },
  {
   "cell_type": "markdown",
   "metadata": {},
   "source": [
    "[Formulate the null and the alternative hypotheses, choose the statistical test, decide on the alpha value.]"
   ]
  },
  {
   "cell_type": "code",
   "execution_count": 81,
   "metadata": {},
   "outputs": [
    {
     "data": {
      "text/html": [
       "<div>\n",
       "<style scoped>\n",
       "    .dataframe tbody tr th:only-of-type {\n",
       "        vertical-align: middle;\n",
       "    }\n",
       "\n",
       "    .dataframe tbody tr th {\n",
       "        vertical-align: top;\n",
       "    }\n",
       "\n",
       "    .dataframe thead th {\n",
       "        text-align: right;\n",
       "    }\n",
       "</style>\n",
       "<table border=\"1\" class=\"dataframe\">\n",
       "  <thead>\n",
       "    <tr style=\"text-align: right;\">\n",
       "      <th></th>\n",
       "      <th>user_id</th>\n",
       "      <th>city</th>\n",
       "    </tr>\n",
       "  </thead>\n",
       "  <tbody>\n",
       "    <tr>\n",
       "      <th>0</th>\n",
       "      <td>1000</td>\n",
       "      <td>Atlanta-Sandy Springs-Roswell, GA MSA</td>\n",
       "    </tr>\n",
       "    <tr>\n",
       "      <th>1</th>\n",
       "      <td>1001</td>\n",
       "      <td>Seattle-Tacoma-Bellevue, WA MSA</td>\n",
       "    </tr>\n",
       "    <tr>\n",
       "      <th>2</th>\n",
       "      <td>1002</td>\n",
       "      <td>Las Vegas-Henderson-Paradise, NV MSA</td>\n",
       "    </tr>\n",
       "    <tr>\n",
       "      <th>3</th>\n",
       "      <td>1003</td>\n",
       "      <td>Tulsa, OK MSA</td>\n",
       "    </tr>\n",
       "    <tr>\n",
       "      <th>4</th>\n",
       "      <td>1004</td>\n",
       "      <td>Seattle-Tacoma-Bellevue, WA MSA</td>\n",
       "    </tr>\n",
       "    <tr>\n",
       "      <th>...</th>\n",
       "      <td>...</td>\n",
       "      <td>...</td>\n",
       "    </tr>\n",
       "    <tr>\n",
       "      <th>495</th>\n",
       "      <td>1495</td>\n",
       "      <td>New York-Newark-Jersey City, NY-NJ-PA MSA</td>\n",
       "    </tr>\n",
       "    <tr>\n",
       "      <th>496</th>\n",
       "      <td>1496</td>\n",
       "      <td>New Orleans-Metairie, LA MSA</td>\n",
       "    </tr>\n",
       "    <tr>\n",
       "      <th>497</th>\n",
       "      <td>1497</td>\n",
       "      <td>Los Angeles-Long Beach-Anaheim, CA MSA</td>\n",
       "    </tr>\n",
       "    <tr>\n",
       "      <th>498</th>\n",
       "      <td>1498</td>\n",
       "      <td>New York-Newark-Jersey City, NY-NJ-PA MSA</td>\n",
       "    </tr>\n",
       "    <tr>\n",
       "      <th>499</th>\n",
       "      <td>1499</td>\n",
       "      <td>Orlando-Kissimmee-Sanford, FL MSA</td>\n",
       "    </tr>\n",
       "  </tbody>\n",
       "</table>\n",
       "<p>500 rows × 2 columns</p>\n",
       "</div>"
      ],
      "text/plain": [
       "     user_id                                       city\n",
       "0       1000      Atlanta-Sandy Springs-Roswell, GA MSA\n",
       "1       1001            Seattle-Tacoma-Bellevue, WA MSA\n",
       "2       1002       Las Vegas-Henderson-Paradise, NV MSA\n",
       "3       1003                              Tulsa, OK MSA\n",
       "4       1004            Seattle-Tacoma-Bellevue, WA MSA\n",
       "..       ...                                        ...\n",
       "495     1495  New York-Newark-Jersey City, NY-NJ-PA MSA\n",
       "496     1496               New Orleans-Metairie, LA MSA\n",
       "497     1497     Los Angeles-Long Beach-Anaheim, CA MSA\n",
       "498     1498  New York-Newark-Jersey City, NY-NJ-PA MSA\n",
       "499     1499          Orlando-Kissimmee-Sanford, FL MSA\n",
       "\n",
       "[500 rows x 2 columns]"
      ]
     },
     "execution_count": 81,
     "metadata": {},
     "output_type": "execute_result"
    }
   ],
   "source": [
    "#what city does each user live in\n",
    "df_city = df_users[['user_id','city']]\n",
    "df_city"
   ]
  },
  {
   "cell_type": "code",
   "execution_count": 82,
   "metadata": {},
   "outputs": [],
   "source": [
    "#agg the city column into our df_agg\n",
    "df_agg = df_agg.merge(df_city, how='left', on='user_id', validate='m:1')"
   ]
  },
  {
   "cell_type": "code",
   "execution_count": 83,
   "metadata": {},
   "outputs": [
    {
     "data": {
      "text/html": [
       "<div>\n",
       "<style scoped>\n",
       "    .dataframe tbody tr th:only-of-type {\n",
       "        vertical-align: middle;\n",
       "    }\n",
       "\n",
       "    .dataframe tbody tr th {\n",
       "        vertical-align: top;\n",
       "    }\n",
       "\n",
       "    .dataframe thead th {\n",
       "        text-align: right;\n",
       "    }\n",
       "</style>\n",
       "<table border=\"1\" class=\"dataframe\">\n",
       "  <thead>\n",
       "    <tr style=\"text-align: right;\">\n",
       "      <th></th>\n",
       "      <th>user_id</th>\n",
       "      <th>month</th>\n",
       "      <th>duration</th>\n",
       "      <th>gb_used</th>\n",
       "      <th>message_count</th>\n",
       "      <th>plan</th>\n",
       "      <th>churn_date</th>\n",
       "      <th>messages_included</th>\n",
       "      <th>minutes_included</th>\n",
       "      <th>usd_monthly_pay</th>\n",
       "      <th>...</th>\n",
       "      <th>gb_per_month_included</th>\n",
       "      <th>min_over</th>\n",
       "      <th>data_over</th>\n",
       "      <th>msg_over</th>\n",
       "      <th>call_cost_additional</th>\n",
       "      <th>data_cost_additional</th>\n",
       "      <th>msg_cost_additional</th>\n",
       "      <th>revenue</th>\n",
       "      <th>city</th>\n",
       "      <th>city_update</th>\n",
       "    </tr>\n",
       "  </thead>\n",
       "  <tbody>\n",
       "    <tr>\n",
       "      <th>0</th>\n",
       "      <td>1000</td>\n",
       "      <td>12</td>\n",
       "      <td>117.0</td>\n",
       "      <td>2.0</td>\n",
       "      <td>11.0</td>\n",
       "      <td>ultimate</td>\n",
       "      <td>NaN</td>\n",
       "      <td>1000</td>\n",
       "      <td>3000</td>\n",
       "      <td>70</td>\n",
       "      <td>...</td>\n",
       "      <td>30.0</td>\n",
       "      <td>0.0</td>\n",
       "      <td>0.0</td>\n",
       "      <td>0.0</td>\n",
       "      <td>0.0</td>\n",
       "      <td>0.0</td>\n",
       "      <td>0.0</td>\n",
       "      <td>70.0</td>\n",
       "      <td>Atlanta-Sandy Springs-Roswell, GA MSA</td>\n",
       "      <td>GA</td>\n",
       "    </tr>\n",
       "  </tbody>\n",
       "</table>\n",
       "<p>1 rows × 23 columns</p>\n",
       "</div>"
      ],
      "text/plain": [
       "   user_id  month  duration  gb_used  message_count      plan churn_date  \\\n",
       "0     1000     12     117.0      2.0           11.0  ultimate        NaN   \n",
       "\n",
       "   messages_included  minutes_included  usd_monthly_pay  ...  \\\n",
       "0               1000              3000               70  ...   \n",
       "\n",
       "   gb_per_month_included  min_over  data_over  msg_over  call_cost_additional  \\\n",
       "0                   30.0       0.0        0.0       0.0                   0.0   \n",
       "\n",
       "   data_cost_additional  msg_cost_additional  revenue  \\\n",
       "0                   0.0                  0.0     70.0   \n",
       "\n",
       "                                    city  city_update  \n",
       "0  Atlanta-Sandy Springs-Roswell, GA MSA           GA  \n",
       "\n",
       "[1 rows x 23 columns]"
      ]
     },
     "execution_count": 83,
     "metadata": {},
     "output_type": "execute_result"
    }
   ],
   "source": [
    "#create a new column that shows just the state \n",
    "df_agg['city_update'] = df_agg['city'].apply(lambda x: x.split(\",\")[-1].split(\" \")[1])\n",
    "df_agg.head(1)"
   ]
  },
  {
   "cell_type": "code",
   "execution_count": 84,
   "metadata": {
    "scrolled": true
   },
   "outputs": [
    {
     "data": {
      "text/html": [
       "<div>\n",
       "<style scoped>\n",
       "    .dataframe tbody tr th:only-of-type {\n",
       "        vertical-align: middle;\n",
       "    }\n",
       "\n",
       "    .dataframe tbody tr th {\n",
       "        vertical-align: top;\n",
       "    }\n",
       "\n",
       "    .dataframe thead th {\n",
       "        text-align: right;\n",
       "    }\n",
       "</style>\n",
       "<table border=\"1\" class=\"dataframe\">\n",
       "  <thead>\n",
       "    <tr style=\"text-align: right;\">\n",
       "      <th></th>\n",
       "      <th>user_id</th>\n",
       "      <th>month</th>\n",
       "      <th>duration</th>\n",
       "      <th>gb_used</th>\n",
       "      <th>message_count</th>\n",
       "      <th>plan</th>\n",
       "      <th>churn_date</th>\n",
       "      <th>messages_included</th>\n",
       "      <th>minutes_included</th>\n",
       "      <th>usd_monthly_pay</th>\n",
       "      <th>...</th>\n",
       "      <th>gb_per_month_included</th>\n",
       "      <th>min_over</th>\n",
       "      <th>data_over</th>\n",
       "      <th>msg_over</th>\n",
       "      <th>call_cost_additional</th>\n",
       "      <th>data_cost_additional</th>\n",
       "      <th>msg_cost_additional</th>\n",
       "      <th>revenue</th>\n",
       "      <th>city</th>\n",
       "      <th>city_update</th>\n",
       "    </tr>\n",
       "  </thead>\n",
       "  <tbody>\n",
       "    <tr>\n",
       "      <th>0</th>\n",
       "      <td>1014</td>\n",
       "      <td>11</td>\n",
       "      <td>147.0</td>\n",
       "      <td>2.0</td>\n",
       "      <td>9.0</td>\n",
       "      <td>surf</td>\n",
       "      <td>NaN</td>\n",
       "      <td>50</td>\n",
       "      <td>500</td>\n",
       "      <td>20</td>\n",
       "      <td>...</td>\n",
       "      <td>15.0</td>\n",
       "      <td>0.0</td>\n",
       "      <td>0.0</td>\n",
       "      <td>0.0</td>\n",
       "      <td>0.00</td>\n",
       "      <td>0.0</td>\n",
       "      <td>0.00</td>\n",
       "      <td>20.00</td>\n",
       "      <td>New York-Newark-Jersey City, NY-NJ-PA MSA</td>\n",
       "      <td>NY-NJ</td>\n",
       "    </tr>\n",
       "    <tr>\n",
       "      <th>1</th>\n",
       "      <td>1014</td>\n",
       "      <td>12</td>\n",
       "      <td>1048.0</td>\n",
       "      <td>8.0</td>\n",
       "      <td>64.0</td>\n",
       "      <td>surf</td>\n",
       "      <td>NaN</td>\n",
       "      <td>50</td>\n",
       "      <td>500</td>\n",
       "      <td>20</td>\n",
       "      <td>...</td>\n",
       "      <td>15.0</td>\n",
       "      <td>548.0</td>\n",
       "      <td>0.0</td>\n",
       "      <td>14.0</td>\n",
       "      <td>16.44</td>\n",
       "      <td>0.0</td>\n",
       "      <td>0.42</td>\n",
       "      <td>36.86</td>\n",
       "      <td>New York-Newark-Jersey City, NY-NJ-PA MSA</td>\n",
       "      <td>NY-NJ</td>\n",
       "    </tr>\n",
       "    <tr>\n",
       "      <th>2</th>\n",
       "      <td>1022</td>\n",
       "      <td>5</td>\n",
       "      <td>287.0</td>\n",
       "      <td>5.0</td>\n",
       "      <td>0.0</td>\n",
       "      <td>surf</td>\n",
       "      <td>2018-09-07</td>\n",
       "      <td>50</td>\n",
       "      <td>500</td>\n",
       "      <td>20</td>\n",
       "      <td>...</td>\n",
       "      <td>15.0</td>\n",
       "      <td>0.0</td>\n",
       "      <td>0.0</td>\n",
       "      <td>0.0</td>\n",
       "      <td>0.00</td>\n",
       "      <td>0.0</td>\n",
       "      <td>0.00</td>\n",
       "      <td>20.00</td>\n",
       "      <td>New York-Newark-Jersey City, NY-NJ-PA MSA</td>\n",
       "      <td>NY-NJ</td>\n",
       "    </tr>\n",
       "    <tr>\n",
       "      <th>3</th>\n",
       "      <td>1022</td>\n",
       "      <td>6</td>\n",
       "      <td>452.0</td>\n",
       "      <td>23.0</td>\n",
       "      <td>0.0</td>\n",
       "      <td>surf</td>\n",
       "      <td>2018-09-07</td>\n",
       "      <td>50</td>\n",
       "      <td>500</td>\n",
       "      <td>20</td>\n",
       "      <td>...</td>\n",
       "      <td>15.0</td>\n",
       "      <td>0.0</td>\n",
       "      <td>8.0</td>\n",
       "      <td>0.0</td>\n",
       "      <td>0.00</td>\n",
       "      <td>80.0</td>\n",
       "      <td>0.00</td>\n",
       "      <td>100.00</td>\n",
       "      <td>New York-Newark-Jersey City, NY-NJ-PA MSA</td>\n",
       "      <td>NY-NJ</td>\n",
       "    </tr>\n",
       "    <tr>\n",
       "      <th>4</th>\n",
       "      <td>1022</td>\n",
       "      <td>7</td>\n",
       "      <td>447.0</td>\n",
       "      <td>10.0</td>\n",
       "      <td>0.0</td>\n",
       "      <td>surf</td>\n",
       "      <td>2018-09-07</td>\n",
       "      <td>50</td>\n",
       "      <td>500</td>\n",
       "      <td>20</td>\n",
       "      <td>...</td>\n",
       "      <td>15.0</td>\n",
       "      <td>0.0</td>\n",
       "      <td>0.0</td>\n",
       "      <td>0.0</td>\n",
       "      <td>0.00</td>\n",
       "      <td>0.0</td>\n",
       "      <td>0.00</td>\n",
       "      <td>20.00</td>\n",
       "      <td>New York-Newark-Jersey City, NY-NJ-PA MSA</td>\n",
       "      <td>NY-NJ</td>\n",
       "    </tr>\n",
       "  </tbody>\n",
       "</table>\n",
       "<p>5 rows × 23 columns</p>\n",
       "</div>"
      ],
      "text/plain": [
       "   user_id  month  duration  gb_used  message_count  plan  churn_date  \\\n",
       "0     1014     11     147.0      2.0            9.0  surf         NaN   \n",
       "1     1014     12    1048.0      8.0           64.0  surf         NaN   \n",
       "2     1022      5     287.0      5.0            0.0  surf  2018-09-07   \n",
       "3     1022      6     452.0     23.0            0.0  surf  2018-09-07   \n",
       "4     1022      7     447.0     10.0            0.0  surf  2018-09-07   \n",
       "\n",
       "   messages_included  minutes_included  usd_monthly_pay  ...  \\\n",
       "0                 50               500               20  ...   \n",
       "1                 50               500               20  ...   \n",
       "2                 50               500               20  ...   \n",
       "3                 50               500               20  ...   \n",
       "4                 50               500               20  ...   \n",
       "\n",
       "   gb_per_month_included  min_over  data_over  msg_over  call_cost_additional  \\\n",
       "0                   15.0       0.0        0.0       0.0                  0.00   \n",
       "1                   15.0     548.0        0.0      14.0                 16.44   \n",
       "2                   15.0       0.0        0.0       0.0                  0.00   \n",
       "3                   15.0       0.0        8.0       0.0                  0.00   \n",
       "4                   15.0       0.0        0.0       0.0                  0.00   \n",
       "\n",
       "   data_cost_additional  msg_cost_additional  revenue  \\\n",
       "0                   0.0                 0.00    20.00   \n",
       "1                   0.0                 0.42    36.86   \n",
       "2                   0.0                 0.00    20.00   \n",
       "3                  80.0                 0.00   100.00   \n",
       "4                   0.0                 0.00    20.00   \n",
       "\n",
       "                                        city  city_update  \n",
       "0  New York-Newark-Jersey City, NY-NJ-PA MSA        NY-NJ  \n",
       "1  New York-Newark-Jersey City, NY-NJ-PA MSA        NY-NJ  \n",
       "2  New York-Newark-Jersey City, NY-NJ-PA MSA        NY-NJ  \n",
       "3  New York-Newark-Jersey City, NY-NJ-PA MSA        NY-NJ  \n",
       "4  New York-Newark-Jersey City, NY-NJ-PA MSA        NY-NJ  \n",
       "\n",
       "[5 rows x 23 columns]"
      ]
     },
     "execution_count": 84,
     "metadata": {},
     "output_type": "execute_result"
    }
   ],
   "source": [
    "#query the new column to select users who live in NY or NJ\n",
    "ny_nj_df = df_agg.query(\"city_update.str.contains('NY')\",engine='python').reset_index().drop('index',axis=1)\n",
    "ny_nj_df['city_update'] = 'NY-NJ'\n",
    "ny_nj_df.head()"
   ]
  },
  {
   "cell_type": "code",
   "execution_count": 85,
   "metadata": {},
   "outputs": [
    {
     "data": {
      "text/html": [
       "<div>\n",
       "<style scoped>\n",
       "    .dataframe tbody tr th:only-of-type {\n",
       "        vertical-align: middle;\n",
       "    }\n",
       "\n",
       "    .dataframe tbody tr th {\n",
       "        vertical-align: top;\n",
       "    }\n",
       "\n",
       "    .dataframe thead th {\n",
       "        text-align: right;\n",
       "    }\n",
       "</style>\n",
       "<table border=\"1\" class=\"dataframe\">\n",
       "  <thead>\n",
       "    <tr style=\"text-align: right;\">\n",
       "      <th></th>\n",
       "      <th>user_id</th>\n",
       "      <th>city_check</th>\n",
       "    </tr>\n",
       "  </thead>\n",
       "  <tbody>\n",
       "    <tr>\n",
       "      <th>0</th>\n",
       "      <td>1014</td>\n",
       "      <td>NY-NJ</td>\n",
       "    </tr>\n",
       "    <tr>\n",
       "      <th>1</th>\n",
       "      <td>1022</td>\n",
       "      <td>NY-NJ</td>\n",
       "    </tr>\n",
       "    <tr>\n",
       "      <th>2</th>\n",
       "      <td>1024</td>\n",
       "      <td>NY-NJ</td>\n",
       "    </tr>\n",
       "    <tr>\n",
       "      <th>3</th>\n",
       "      <td>1027</td>\n",
       "      <td>NY-NJ</td>\n",
       "    </tr>\n",
       "    <tr>\n",
       "      <th>4</th>\n",
       "      <td>1031</td>\n",
       "      <td>NY-NJ</td>\n",
       "    </tr>\n",
       "    <tr>\n",
       "      <th>...</th>\n",
       "      <td>...</td>\n",
       "      <td>...</td>\n",
       "    </tr>\n",
       "    <tr>\n",
       "      <th>80</th>\n",
       "      <td>1469</td>\n",
       "      <td>NY-NJ</td>\n",
       "    </tr>\n",
       "    <tr>\n",
       "      <th>81</th>\n",
       "      <td>1482</td>\n",
       "      <td>NY-NJ</td>\n",
       "    </tr>\n",
       "    <tr>\n",
       "      <th>82</th>\n",
       "      <td>1494</td>\n",
       "      <td>NY-NJ</td>\n",
       "    </tr>\n",
       "    <tr>\n",
       "      <th>83</th>\n",
       "      <td>1495</td>\n",
       "      <td>NY-NJ</td>\n",
       "    </tr>\n",
       "    <tr>\n",
       "      <th>84</th>\n",
       "      <td>1498</td>\n",
       "      <td>NY-NJ</td>\n",
       "    </tr>\n",
       "  </tbody>\n",
       "</table>\n",
       "<p>85 rows × 2 columns</p>\n",
       "</div>"
      ],
      "text/plain": [
       "    user_id city_check\n",
       "0      1014      NY-NJ\n",
       "1      1022      NY-NJ\n",
       "2      1024      NY-NJ\n",
       "3      1027      NY-NJ\n",
       "4      1031      NY-NJ\n",
       "..      ...        ...\n",
       "80     1469      NY-NJ\n",
       "81     1482      NY-NJ\n",
       "82     1494      NY-NJ\n",
       "83     1495      NY-NJ\n",
       "84     1498      NY-NJ\n",
       "\n",
       "[85 rows x 2 columns]"
      ]
     },
     "execution_count": 85,
     "metadata": {},
     "output_type": "execute_result"
    }
   ],
   "source": [
    "#query the new column to select users who live in NY or NJ\n",
    "ny_nj_df = df_agg.query(\"city_update.str.contains('NY')\",engine='python').reset_index().drop('index',axis=1)\n",
    "ny_nj_df['city_check'] = 'NY-NJ'\n",
    "\n",
    "ny_nj_df = ny_nj_df.groupby(['user_id','city_check']).count().reset_index()[['user_id','city_check']]\n",
    "ny_nj_df"
   ]
  },
  {
   "cell_type": "code",
   "execution_count": 86,
   "metadata": {
    "scrolled": true
   },
   "outputs": [],
   "source": [
    "#merge the ny_nj_df with df_agg\n",
    "df_agg = df_agg.merge(ny_nj_df, how='left',on='user_id',validate=\"m:1\")\n",
    "\n",
    "# Fill missing values with constant\n",
    "df_agg['city_check'].fillna('Not NY-NJ', inplace=True)\n",
    "\n",
    "#extract the value for not NY-NJ \n",
    "_ny = df_agg[df_agg['city_check']=='NY-NJ']['revenue']\n",
    "\n",
    "#extract the value for not NY-NJ \n",
    "not_ny = df_agg[df_agg['city_check']=='Not NY-NJ']['revenue']"
   ]
  },
  {
   "cell_type": "code",
   "execution_count": 87,
   "metadata": {
    "scrolled": true
   },
   "outputs": [
    {
     "name": "stdout",
     "output_type": "stream",
     "text": [
      "p-value:  0.09552280684538893\n",
      "We cannot reject the null hypothesis\n"
     ]
    }
   ],
   "source": [
    "# Test the hypotheses\n",
    "#null: ny and nj revenue is different than other regions\n",
    "#alt: there is no difference \n",
    "alpha = 0.05\n",
    "results = st.ttest_ind(_ny, not_ny)\n",
    "\n",
    "print('p-value: ', results.pvalue)\n",
    "\n",
    "if results.pvalue < alpha:\n",
    "    print('We reject the null hypothesis')\n",
    "else:\n",
    "    print('We cannot reject the null hypothesis') "
   ]
  },
  {
   "cell_type": "markdown",
   "metadata": {},
   "source": [
    "## General conclusion\n",
    "\n",
    "[List your important conclusions in this final section, make sure they cover all those important decisions (assumptions) that you've made and that led you to the way you processed and analyzed the data.]"
   ]
  },
  {
   "cell_type": "markdown",
   "metadata": {},
   "source": [
    "After loading my libraries, I looked at the columns and rows of 5 different dataframes: plans, users, calls, messages, and internet. I made necessary adjusts to the data: creating new columns, fixing data types, converting, rounding, etc. With clean data, I was able to make a new aggergated data frame. This data frame aggregates(plan, calls, messages, and internet)data per user per month in order to have just one record. Then I begin my analysis of the data."
   ]
  },
  {
   "cell_type": "markdown",
   "metadata": {},
   "source": [
    "With the revenue bar chart in section 1.12, I can visualize the avg revenue per plan, per month. I conclude that the ultimate plan generates more revenue, expecially Jan-June. July-December, the surf plan avg revenue increases significantly (Compare January to December). The ultimate plan generates nearly the same avg renenue all 12 months."
   ]
  },
  {
   "cell_type": "markdown",
   "metadata": {},
   "source": [
    "The company wants to retain users by providing them with a plan that best fits their needs (usage), while also generating the highest revenue. If my goal is to increase customer satisfction, I want to pay attention to the last 6 months of my bar chart. The surf plan avg revenue increases due to fees (going over the monthly limit). If I suggest those users upgrade to the ultimate plan: I am able to give the user a plan that better fits their needs(by upgrading them to a plan with more usgage, only for those who need it), while also increasing revenue(more users in the ultimate plan). "
   ]
  },
  {
   "cell_type": "markdown",
   "metadata": {},
   "source": [
    " "
   ]
  }
 ],
 "metadata": {
  "ExecuteTimeLog": [
   {
    "duration": 828,
    "start_time": "2021-11-16T09:21:11.304Z"
   },
   {
    "duration": 893,
    "start_time": "2021-11-16T09:21:17.728Z"
   },
   {
    "duration": 1150,
    "start_time": "2021-11-16T09:21:29.568Z"
   },
   {
    "duration": 3,
    "start_time": "2021-11-16T09:24:14.495Z"
   },
   {
    "duration": 120,
    "start_time": "2021-11-16T09:24:46.630Z"
   },
   {
    "duration": 3,
    "start_time": "2021-11-16T09:28:27.882Z"
   },
   {
    "duration": 4,
    "start_time": "2021-11-16T09:29:54.281Z"
   },
   {
    "duration": 3,
    "start_time": "2021-11-16T09:30:45.936Z"
   },
   {
    "duration": 4,
    "start_time": "2021-11-16T09:31:06.300Z"
   },
   {
    "duration": 113,
    "start_time": "2021-11-16T09:31:37.208Z"
   },
   {
    "duration": 143,
    "start_time": "2021-11-16T09:31:48.656Z"
   },
   {
    "duration": 98,
    "start_time": "2021-11-16T09:31:55.678Z"
   },
   {
    "duration": 3,
    "start_time": "2021-11-16T09:32:08.535Z"
   },
   {
    "duration": 111,
    "start_time": "2021-11-16T09:32:10.120Z"
   },
   {
    "duration": 3,
    "start_time": "2021-11-16T09:32:15.732Z"
   },
   {
    "duration": 4,
    "start_time": "2021-11-16T09:32:29.423Z"
   },
   {
    "duration": 3,
    "start_time": "2021-11-16T10:03:03.074Z"
   },
   {
    "duration": 3,
    "start_time": "2021-11-16T10:10:01.288Z"
   },
   {
    "duration": 3,
    "start_time": "2021-11-16T10:10:46.923Z"
   },
   {
    "duration": 121,
    "start_time": "2021-11-16T10:37:46.494Z"
   },
   {
    "duration": 125,
    "start_time": "2021-11-16T10:38:20.632Z"
   },
   {
    "duration": 112,
    "start_time": "2021-11-16T10:46:53.001Z"
   },
   {
    "duration": 110,
    "start_time": "2021-11-16T10:48:25.775Z"
   },
   {
    "duration": 3,
    "start_time": "2021-11-16T10:50:18.720Z"
   },
   {
    "duration": 4,
    "start_time": "2021-11-16T10:50:37.649Z"
   },
   {
    "duration": 2,
    "start_time": "2021-11-16T10:50:51.884Z"
   },
   {
    "duration": 3,
    "start_time": "2021-11-16T10:51:56.237Z"
   },
   {
    "duration": 101,
    "start_time": "2021-11-16T10:53:13.791Z"
   },
   {
    "duration": 3,
    "start_time": "2021-11-16T10:55:59.186Z"
   },
   {
    "duration": 3,
    "start_time": "2021-11-16T10:56:10.751Z"
   },
   {
    "duration": 3,
    "start_time": "2021-11-16T10:56:49.038Z"
   },
   {
    "duration": 3,
    "start_time": "2021-11-16T10:56:49.174Z"
   },
   {
    "duration": 4,
    "start_time": "2021-11-16T10:56:49.414Z"
   },
   {
    "duration": 3,
    "start_time": "2021-11-16T10:56:49.680Z"
   },
   {
    "duration": 3,
    "start_time": "2021-11-16T10:56:50.370Z"
   },
   {
    "duration": 114,
    "start_time": "2021-11-16T10:59:34.518Z"
   },
   {
    "duration": 3,
    "start_time": "2021-11-16T11:01:41.201Z"
   },
   {
    "duration": 116,
    "start_time": "2021-11-16T11:01:48.754Z"
   },
   {
    "duration": 3,
    "start_time": "2021-11-16T11:02:16.685Z"
   },
   {
    "duration": 3,
    "start_time": "2021-11-16T11:02:19.479Z"
   },
   {
    "duration": 3,
    "start_time": "2021-11-16T11:02:47.067Z"
   },
   {
    "duration": 3,
    "start_time": "2021-11-16T11:02:49.353Z"
   },
   {
    "duration": 3,
    "start_time": "2021-11-16T11:03:07.835Z"
   },
   {
    "duration": 3,
    "start_time": "2021-11-16T11:03:07.953Z"
   },
   {
    "duration": 112,
    "start_time": "2021-11-16T11:07:52.072Z"
   },
   {
    "duration": 187,
    "start_time": "2021-11-16T11:09:23.468Z"
   },
   {
    "duration": 4,
    "start_time": "2021-11-16T11:10:01.455Z"
   },
   {
    "duration": 3,
    "start_time": "2021-11-16T11:10:05.069Z"
   },
   {
    "duration": 4,
    "start_time": "2021-11-16T11:10:13.376Z"
   },
   {
    "duration": 3,
    "start_time": "2021-11-16T11:10:14.434Z"
   },
   {
    "duration": 3,
    "start_time": "2021-11-16T11:10:22.853Z"
   },
   {
    "duration": 4,
    "start_time": "2021-11-16T11:27:29.279Z"
   },
   {
    "duration": 4,
    "start_time": "2021-11-16T11:29:08.919Z"
   },
   {
    "duration": 118,
    "start_time": "2021-11-16T11:29:46.703Z"
   },
   {
    "duration": 437,
    "start_time": "2021-11-16T11:36:02.181Z"
   },
   {
    "duration": 157,
    "start_time": "2021-11-16T11:36:14.388Z"
   },
   {
    "duration": 207,
    "start_time": "2021-11-16T11:47:15.898Z"
   },
   {
    "duration": 3,
    "start_time": "2021-11-16T11:53:52.092Z"
   },
   {
    "duration": 3,
    "start_time": "2021-11-16T11:53:52.236Z"
   },
   {
    "duration": 3,
    "start_time": "2021-11-16T11:59:12.005Z"
   },
   {
    "duration": 112,
    "start_time": "2021-11-16T12:00:33.446Z"
   },
   {
    "duration": 3,
    "start_time": "2021-11-16T12:02:14.453Z"
   },
   {
    "duration": 3,
    "start_time": "2021-11-16T12:02:39.512Z"
   },
   {
    "duration": 106,
    "start_time": "2021-11-16T12:03:03.460Z"
   },
   {
    "duration": 3,
    "start_time": "2021-11-17T20:37:21.139Z"
   },
   {
    "duration": 3,
    "start_time": "2021-11-17T20:37:22.229Z"
   },
   {
    "duration": 3,
    "start_time": "2021-11-17T20:38:38.806Z"
   },
   {
    "duration": 3,
    "start_time": "2021-11-17T20:38:41.958Z"
   },
   {
    "duration": 3,
    "start_time": "2021-11-17T20:43:46.551Z"
   },
   {
    "duration": 4,
    "start_time": "2021-11-17T20:58:21.835Z"
   },
   {
    "duration": 3,
    "start_time": "2021-11-17T20:59:21.872Z"
   },
   {
    "duration": 4,
    "start_time": "2021-11-17T20:59:45.352Z"
   },
   {
    "duration": 4,
    "start_time": "2021-11-17T20:59:49.646Z"
   },
   {
    "duration": 159,
    "start_time": "2021-11-17T21:02:26.949Z"
   },
   {
    "duration": 3,
    "start_time": "2021-11-17T21:03:53.461Z"
   },
   {
    "duration": 3,
    "start_time": "2021-11-17T21:03:53.694Z"
   },
   {
    "duration": 3,
    "start_time": "2021-11-17T21:05:28.145Z"
   },
   {
    "duration": 116,
    "start_time": "2021-11-17T21:05:57.787Z"
   },
   {
    "duration": 3,
    "start_time": "2021-11-17T21:06:37.993Z"
   },
   {
    "duration": 3,
    "start_time": "2021-11-17T21:06:38.261Z"
   },
   {
    "duration": 3,
    "start_time": "2021-11-17T21:11:54.358Z"
   },
   {
    "duration": 3,
    "start_time": "2021-11-17T21:12:43.846Z"
   },
   {
    "duration": 4,
    "start_time": "2021-11-17T21:13:08.773Z"
   },
   {
    "duration": 3,
    "start_time": "2021-11-17T21:14:44.441Z"
   },
   {
    "duration": 3,
    "start_time": "2021-11-17T21:15:42.059Z"
   },
   {
    "duration": 4,
    "start_time": "2021-11-17T21:15:51.995Z"
   },
   {
    "duration": 3,
    "start_time": "2021-11-17T21:15:53.923Z"
   },
   {
    "duration": 3,
    "start_time": "2021-11-17T21:15:55.282Z"
   },
   {
    "duration": 3,
    "start_time": "2021-11-17T21:16:28.492Z"
   },
   {
    "duration": 3,
    "start_time": "2021-11-17T21:16:32.603Z"
   },
   {
    "duration": 3,
    "start_time": "2021-11-17T21:17:06.941Z"
   },
   {
    "duration": 98,
    "start_time": "2021-11-17T21:18:05.733Z"
   },
   {
    "duration": 4,
    "start_time": "2021-11-17T21:21:35.255Z"
   },
   {
    "duration": 3,
    "start_time": "2021-11-17T21:21:37.804Z"
   },
   {
    "duration": 4,
    "start_time": "2021-11-17T21:23:06.071Z"
   },
   {
    "duration": 3,
    "start_time": "2021-11-17T21:23:24.799Z"
   },
   {
    "duration": 3,
    "start_time": "2021-11-17T21:23:32.591Z"
   },
   {
    "duration": 98,
    "start_time": "2021-11-17T21:28:31.559Z"
   },
   {
    "duration": 3,
    "start_time": "2021-11-17T21:28:45.448Z"
   },
   {
    "duration": 3,
    "start_time": "2021-11-17T21:29:17.303Z"
   },
   {
    "duration": 3,
    "start_time": "2021-11-17T21:29:29.617Z"
   },
   {
    "duration": 3,
    "start_time": "2021-11-17T21:29:32.681Z"
   },
   {
    "duration": 3,
    "start_time": "2021-11-17T21:36:11.474Z"
   },
   {
    "duration": 3,
    "start_time": "2021-11-17T21:36:14.791Z"
   },
   {
    "duration": 3,
    "start_time": "2021-11-17T21:36:53.943Z"
   },
   {
    "duration": 3,
    "start_time": "2021-11-17T21:36:56.165Z"
   },
   {
    "duration": 4,
    "start_time": "2021-11-17T21:37:16.590Z"
   },
   {
    "duration": 3,
    "start_time": "2021-11-17T21:37:22.702Z"
   },
   {
    "duration": 4,
    "start_time": "2021-11-17T21:38:03.479Z"
   },
   {
    "duration": 3,
    "start_time": "2021-11-17T21:38:08.601Z"
   },
   {
    "duration": 3,
    "start_time": "2021-11-17T21:38:12.928Z"
   },
   {
    "duration": 3,
    "start_time": "2021-11-17T21:38:48.896Z"
   },
   {
    "duration": 2,
    "start_time": "2021-11-17T21:38:49.171Z"
   },
   {
    "duration": 4,
    "start_time": "2021-11-17T21:39:57.889Z"
   },
   {
    "duration": 3,
    "start_time": "2021-11-17T21:39:58.057Z"
   },
   {
    "duration": 3,
    "start_time": "2021-11-17T21:41:20.108Z"
   },
   {
    "duration": 3,
    "start_time": "2021-11-17T21:41:20.629Z"
   },
   {
    "duration": 3,
    "start_time": "2021-11-17T21:42:49.136Z"
   },
   {
    "duration": 3,
    "start_time": "2021-11-17T21:43:15.137Z"
   },
   {
    "duration": 4,
    "start_time": "2021-11-17T21:43:16.766Z"
   },
   {
    "duration": 4,
    "start_time": "2021-11-17T21:43:31.711Z"
   },
   {
    "duration": 3,
    "start_time": "2021-11-17T21:43:36.312Z"
   },
   {
    "duration": 4,
    "start_time": "2021-11-17T21:45:08.825Z"
   },
   {
    "duration": 4,
    "start_time": "2021-11-17T21:45:10.119Z"
   },
   {
    "duration": 4,
    "start_time": "2021-11-17T21:45:13.748Z"
   },
   {
    "duration": 3,
    "start_time": "2021-11-17T21:45:22.219Z"
   },
   {
    "duration": 3,
    "start_time": "2021-11-17T21:45:33.412Z"
   },
   {
    "duration": 2,
    "start_time": "2021-11-17T21:46:01.885Z"
   },
   {
    "duration": 3,
    "start_time": "2021-11-17T21:46:03.628Z"
   },
   {
    "duration": 107,
    "start_time": "2021-11-17T21:47:32.512Z"
   },
   {
    "duration": 103,
    "start_time": "2021-11-17T21:50:36.243Z"
   },
   {
    "duration": 3,
    "start_time": "2021-11-18T06:28:31.440Z"
   },
   {
    "duration": 3,
    "start_time": "2021-11-18T06:29:00.168Z"
   },
   {
    "duration": 3,
    "start_time": "2021-11-18T06:31:27.008Z"
   },
   {
    "duration": 2,
    "start_time": "2021-11-18T06:35:34.288Z"
   },
   {
    "duration": 2,
    "start_time": "2021-11-18T06:38:04.527Z"
   },
   {
    "duration": 371,
    "start_time": "2022-06-18T12:27:02.412Z"
   },
   {
    "duration": 843,
    "start_time": "2022-06-18T12:27:05.593Z"
   },
   {
    "duration": 18,
    "start_time": "2022-06-18T12:28:04.569Z"
   },
   {
    "duration": 12,
    "start_time": "2022-06-18T12:28:46.695Z"
   },
   {
    "duration": 9,
    "start_time": "2022-06-18T12:29:07.901Z"
   },
   {
    "duration": 8,
    "start_time": "2022-06-18T12:29:28.980Z"
   },
   {
    "duration": 58,
    "start_time": "2022-06-18T12:29:49.592Z"
   },
   {
    "duration": 14,
    "start_time": "2022-06-18T12:30:06.430Z"
   },
   {
    "duration": 18,
    "start_time": "2022-06-18T12:33:07.340Z"
   },
   {
    "duration": 12,
    "start_time": "2022-06-18T12:44:36.020Z"
   },
   {
    "duration": 10,
    "start_time": "2022-06-18T12:47:57.047Z"
   },
   {
    "duration": 11,
    "start_time": "2022-06-18T12:48:12.370Z"
   },
   {
    "duration": 16,
    "start_time": "2022-06-18T12:48:13.190Z"
   },
   {
    "duration": 17,
    "start_time": "2022-06-18T12:48:14.128Z"
   },
   {
    "duration": 3,
    "start_time": "2022-06-18T13:07:55.940Z"
   },
   {
    "duration": 312,
    "start_time": "2022-06-18T13:07:56.839Z"
   },
   {
    "duration": 15,
    "start_time": "2022-06-18T13:07:57.682Z"
   },
   {
    "duration": 10,
    "start_time": "2022-06-18T13:07:57.978Z"
   },
   {
    "duration": 12,
    "start_time": "2022-06-18T13:07:58.251Z"
   },
   {
    "duration": 14,
    "start_time": "2022-06-18T13:07:58.503Z"
   },
   {
    "duration": 12,
    "start_time": "2022-06-18T13:07:58.717Z"
   },
   {
    "duration": 10,
    "start_time": "2022-06-18T13:07:59.149Z"
   },
   {
    "duration": 15,
    "start_time": "2022-06-18T13:07:59.375Z"
   },
   {
    "duration": 16,
    "start_time": "2022-06-18T13:07:59.986Z"
   },
   {
    "duration": 18,
    "start_time": "2022-06-18T13:08:00.838Z"
   },
   {
    "duration": 17,
    "start_time": "2022-06-18T13:08:01.457Z"
   },
   {
    "duration": 10,
    "start_time": "2022-06-18T13:08:02.268Z"
   },
   {
    "duration": 7,
    "start_time": "2022-06-18T13:08:02.939Z"
   },
   {
    "duration": 8,
    "start_time": "2022-06-18T13:08:03.483Z"
   },
   {
    "duration": 14,
    "start_time": "2022-06-18T13:08:03.952Z"
   },
   {
    "duration": 13,
    "start_time": "2022-06-18T13:08:05.203Z"
   },
   {
    "duration": 16,
    "start_time": "2022-06-18T13:11:12.164Z"
   },
   {
    "duration": 12,
    "start_time": "2022-06-18T13:22:20.496Z"
   },
   {
    "duration": 20,
    "start_time": "2022-06-18T13:22:25.097Z"
   },
   {
    "duration": 44,
    "start_time": "2022-06-18T13:22:25.355Z"
   },
   {
    "duration": 12,
    "start_time": "2022-06-18T13:22:25.607Z"
   },
   {
    "duration": 3,
    "start_time": "2022-06-18T13:22:25.856Z"
   },
   {
    "duration": 3,
    "start_time": "2022-06-18T13:22:26.352Z"
   },
   {
    "duration": 12,
    "start_time": "2022-06-18T13:25:24.096Z"
   },
   {
    "duration": 10,
    "start_time": "2022-06-18T13:25:41.695Z"
   },
   {
    "duration": 8,
    "start_time": "2022-06-18T13:26:05.552Z"
   },
   {
    "duration": 6,
    "start_time": "2022-06-18T13:26:22.932Z"
   },
   {
    "duration": 7,
    "start_time": "2022-06-18T13:26:42.450Z"
   },
   {
    "duration": 6,
    "start_time": "2022-06-18T13:26:49.637Z"
   },
   {
    "duration": 5,
    "start_time": "2022-06-18T13:30:52.252Z"
   },
   {
    "duration": 333,
    "start_time": "2022-06-18T13:31:11.896Z"
   },
   {
    "duration": 361,
    "start_time": "2022-06-18T13:31:23.380Z"
   },
   {
    "duration": 8,
    "start_time": "2022-06-18T13:31:47.147Z"
   },
   {
    "duration": 329,
    "start_time": "2022-06-18T13:32:06.810Z"
   },
   {
    "duration": 3,
    "start_time": "2022-06-18T13:43:49.902Z"
   },
   {
    "duration": 279,
    "start_time": "2022-06-18T13:43:50.579Z"
   },
   {
    "duration": 14,
    "start_time": "2022-06-18T13:43:51.337Z"
   },
   {
    "duration": 8,
    "start_time": "2022-06-18T13:43:51.587Z"
   },
   {
    "duration": 11,
    "start_time": "2022-06-18T13:43:51.847Z"
   },
   {
    "duration": 11,
    "start_time": "2022-06-18T13:43:52.112Z"
   },
   {
    "duration": 11,
    "start_time": "2022-06-18T13:43:52.370Z"
   },
   {
    "duration": 10,
    "start_time": "2022-06-18T13:43:52.877Z"
   },
   {
    "duration": 10,
    "start_time": "2022-06-18T13:43:53.103Z"
   },
   {
    "duration": 15,
    "start_time": "2022-06-18T13:43:53.343Z"
   },
   {
    "duration": 18,
    "start_time": "2022-06-18T13:43:53.594Z"
   },
   {
    "duration": 8,
    "start_time": "2022-06-18T13:43:53.839Z"
   },
   {
    "duration": 9,
    "start_time": "2022-06-18T13:43:54.103Z"
   },
   {
    "duration": 7,
    "start_time": "2022-06-18T13:43:54.319Z"
   },
   {
    "duration": 9,
    "start_time": "2022-06-18T13:43:54.556Z"
   },
   {
    "duration": 9,
    "start_time": "2022-06-18T13:43:54.792Z"
   },
   {
    "duration": 22,
    "start_time": "2022-06-18T13:43:57.317Z"
   },
   {
    "duration": 19,
    "start_time": "2022-06-18T13:43:57.556Z"
   },
   {
    "duration": 13,
    "start_time": "2022-06-18T13:43:57.825Z"
   },
   {
    "duration": 11,
    "start_time": "2022-06-18T13:43:58.079Z"
   },
   {
    "duration": 4,
    "start_time": "2022-06-18T13:43:58.339Z"
   },
   {
    "duration": 11,
    "start_time": "2022-06-18T13:43:59.599Z"
   },
   {
    "duration": 10,
    "start_time": "2022-06-18T13:43:59.836Z"
   },
   {
    "duration": 6,
    "start_time": "2022-06-18T13:44:00.087Z"
   },
   {
    "duration": 3,
    "start_time": "2022-06-18T13:44:00.363Z"
   },
   {
    "duration": 6,
    "start_time": "2022-06-18T13:44:00.671Z"
   },
   {
    "duration": 6,
    "start_time": "2022-06-18T13:44:00.964Z"
   },
   {
    "duration": 3,
    "start_time": "2022-06-18T13:44:01.631Z"
   },
   {
    "duration": 2,
    "start_time": "2022-06-18T14:10:15.621Z"
   },
   {
    "duration": 7,
    "start_time": "2022-06-18T14:12:22.336Z"
   },
   {
    "duration": 9,
    "start_time": "2022-06-18T14:12:29.983Z"
   },
   {
    "duration": 10,
    "start_time": "2022-06-18T14:15:26.764Z"
   },
   {
    "duration": 9,
    "start_time": "2022-06-18T14:15:27.674Z"
   },
   {
    "duration": 10,
    "start_time": "2022-06-18T14:49:40.256Z"
   },
   {
    "duration": 11,
    "start_time": "2022-06-18T14:49:40.767Z"
   },
   {
    "duration": 16,
    "start_time": "2022-06-18T14:53:58.087Z"
   },
   {
    "duration": 9,
    "start_time": "2022-06-18T14:53:58.678Z"
   },
   {
    "duration": 13,
    "start_time": "2022-06-18T14:53:59.278Z"
   },
   {
    "duration": 6,
    "start_time": "2022-06-18T14:55:08.149Z"
   },
   {
    "duration": 20,
    "start_time": "2022-06-18T14:55:19.123Z"
   },
   {
    "duration": 9,
    "start_time": "2022-06-18T14:55:22.200Z"
   },
   {
    "duration": 18,
    "start_time": "2022-06-18T14:55:22.999Z"
   },
   {
    "duration": 14,
    "start_time": "2022-06-18T14:55:27.560Z"
   },
   {
    "duration": 10,
    "start_time": "2022-06-18T15:00:30.021Z"
   },
   {
    "duration": 7,
    "start_time": "2022-06-18T15:00:30.323Z"
   },
   {
    "duration": 14,
    "start_time": "2022-06-18T15:01:53.883Z"
   },
   {
    "duration": 8,
    "start_time": "2022-06-18T15:03:05.414Z"
   },
   {
    "duration": 379,
    "start_time": "2022-06-18T17:54:33.382Z"
   },
   {
    "duration": 838,
    "start_time": "2022-06-18T17:54:35.794Z"
   },
   {
    "duration": 19,
    "start_time": "2022-06-18T17:54:42.329Z"
   },
   {
    "duration": 8,
    "start_time": "2022-06-18T17:54:43.168Z"
   },
   {
    "duration": 10,
    "start_time": "2022-06-18T17:54:43.567Z"
   },
   {
    "duration": 11,
    "start_time": "2022-06-18T17:54:44.378Z"
   },
   {
    "duration": 12,
    "start_time": "2022-06-18T17:54:45.276Z"
   },
   {
    "duration": 11,
    "start_time": "2022-06-18T17:54:47.214Z"
   },
   {
    "duration": 13,
    "start_time": "2022-06-18T17:54:47.927Z"
   },
   {
    "duration": 6,
    "start_time": "2022-06-18T17:54:52.012Z"
   },
   {
    "duration": 2,
    "start_time": "2022-06-18T17:54:53.160Z"
   },
   {
    "duration": 10,
    "start_time": "2022-06-18T17:54:53.846Z"
   },
   {
    "duration": 10,
    "start_time": "2022-06-18T17:54:54.508Z"
   },
   {
    "duration": 6,
    "start_time": "2022-06-18T17:55:09.087Z"
   },
   {
    "duration": 6,
    "start_time": "2022-06-18T17:55:09.646Z"
   },
   {
    "duration": 2,
    "start_time": "2022-06-18T17:55:11.230Z"
   },
   {
    "duration": 2,
    "start_time": "2022-06-18T17:55:11.782Z"
   },
   {
    "duration": 20,
    "start_time": "2022-06-18T17:55:12.530Z"
   },
   {
    "duration": 8,
    "start_time": "2022-06-18T17:55:12.806Z"
   },
   {
    "duration": 16,
    "start_time": "2022-06-18T17:55:13.080Z"
   },
   {
    "duration": 23,
    "start_time": "2022-06-18T17:55:14.677Z"
   },
   {
    "duration": 3,
    "start_time": "2022-06-18T17:55:15.810Z"
   },
   {
    "duration": 3,
    "start_time": "2022-06-18T17:55:16.068Z"
   },
   {
    "duration": 2,
    "start_time": "2022-06-18T17:55:16.440Z"
   },
   {
    "duration": 15,
    "start_time": "2022-06-18T17:55:17.397Z"
   },
   {
    "duration": 8,
    "start_time": "2022-06-18T17:55:17.846Z"
   },
   {
    "duration": 12,
    "start_time": "2022-06-18T17:55:23.446Z"
   },
   {
    "duration": 12,
    "start_time": "2022-06-18T17:55:23.660Z"
   },
   {
    "duration": 6,
    "start_time": "2022-06-18T17:55:23.914Z"
   },
   {
    "duration": 2,
    "start_time": "2022-06-18T17:55:24.628Z"
   },
   {
    "duration": 2,
    "start_time": "2022-06-18T17:55:24.884Z"
   },
   {
    "duration": 18,
    "start_time": "2022-06-18T17:55:25.417Z"
   },
   {
    "duration": 8,
    "start_time": "2022-06-18T17:55:25.669Z"
   },
   {
    "duration": 17,
    "start_time": "2022-06-18T17:55:26.970Z"
   },
   {
    "duration": 16,
    "start_time": "2022-06-18T17:55:27.268Z"
   },
   {
    "duration": 6,
    "start_time": "2022-06-18T17:55:27.520Z"
   },
   {
    "duration": 2,
    "start_time": "2022-06-18T17:55:28.790Z"
   },
   {
    "duration": 2,
    "start_time": "2022-06-18T17:55:29.144Z"
   },
   {
    "duration": 59,
    "start_time": "2022-06-18T17:58:54.028Z"
   },
   {
    "duration": 19,
    "start_time": "2022-06-18T17:59:12.651Z"
   },
   {
    "duration": 20,
    "start_time": "2022-06-18T18:01:31.917Z"
   },
   {
    "duration": 17,
    "start_time": "2022-06-18T18:01:40.382Z"
   },
   {
    "duration": 7,
    "start_time": "2022-06-18T18:02:20.044Z"
   },
   {
    "duration": 7,
    "start_time": "2022-06-18T18:02:28.372Z"
   },
   {
    "duration": 316,
    "start_time": "2022-06-18T18:02:31.465Z"
   },
   {
    "duration": 285,
    "start_time": "2022-06-18T18:02:41.158Z"
   },
   {
    "duration": 6,
    "start_time": "2022-06-18T18:04:44.027Z"
   },
   {
    "duration": 19,
    "start_time": "2022-06-18T18:05:01.549Z"
   },
   {
    "duration": 6,
    "start_time": "2022-06-18T18:05:34.853Z"
   },
   {
    "duration": 6,
    "start_time": "2022-06-18T18:06:06.075Z"
   },
   {
    "duration": 17,
    "start_time": "2022-06-18T18:08:23.276Z"
   },
   {
    "duration": 6,
    "start_time": "2022-06-18T18:09:48.588Z"
   },
   {
    "duration": 7,
    "start_time": "2022-06-18T18:10:35.887Z"
   },
   {
    "duration": 331,
    "start_time": "2022-06-18T18:11:27.303Z"
   },
   {
    "duration": 23,
    "start_time": "2022-06-18T18:13:20.981Z"
   },
   {
    "duration": 19,
    "start_time": "2022-06-18T18:13:25.545Z"
   },
   {
    "duration": 19,
    "start_time": "2022-06-18T18:13:48.815Z"
   },
   {
    "duration": 50,
    "start_time": "2022-06-18T18:14:04.118Z"
   },
   {
    "duration": 19,
    "start_time": "2022-06-18T18:14:08.580Z"
   },
   {
    "duration": 4,
    "start_time": "2022-06-18T18:15:23.616Z"
   },
   {
    "duration": 14,
    "start_time": "2022-06-18T18:15:24.868Z"
   },
   {
    "duration": 7,
    "start_time": "2022-06-18T18:15:25.222Z"
   },
   {
    "duration": 12,
    "start_time": "2022-06-18T18:18:18.547Z"
   },
   {
    "duration": 8,
    "start_time": "2022-06-18T18:18:19.095Z"
   },
   {
    "duration": 12,
    "start_time": "2022-06-18T18:18:22.447Z"
   },
   {
    "duration": 3,
    "start_time": "2022-06-18T18:18:22.905Z"
   },
   {
    "duration": 6,
    "start_time": "2022-06-18T18:18:24.012Z"
   },
   {
    "duration": 8,
    "start_time": "2022-06-18T18:20:05.187Z"
   },
   {
    "duration": 12,
    "start_time": "2022-06-18T18:22:26.534Z"
   },
   {
    "duration": 16,
    "start_time": "2022-06-18T18:22:26.962Z"
   },
   {
    "duration": 14,
    "start_time": "2022-06-18T18:22:27.565Z"
   },
   {
    "duration": 15,
    "start_time": "2022-06-18T18:22:28.106Z"
   },
   {
    "duration": 14,
    "start_time": "2022-06-18T18:22:59.497Z"
   },
   {
    "duration": 14,
    "start_time": "2022-06-18T18:22:59.778Z"
   },
   {
    "duration": 16,
    "start_time": "2022-06-18T18:23:00.070Z"
   },
   {
    "duration": 17,
    "start_time": "2022-06-18T18:23:00.780Z"
   },
   {
    "duration": 67,
    "start_time": "2022-06-18T18:26:40.202Z"
   },
   {
    "duration": 8,
    "start_time": "2022-06-18T18:28:52.340Z"
   },
   {
    "duration": 45,
    "start_time": "2022-06-18T18:31:08.329Z"
   },
   {
    "duration": 22,
    "start_time": "2022-06-18T18:33:19.854Z"
   },
   {
    "duration": 306,
    "start_time": "2022-06-18T18:34:12.748Z"
   },
   {
    "duration": 21,
    "start_time": "2022-06-18T18:34:30.182Z"
   },
   {
    "duration": 15,
    "start_time": "2022-06-18T18:34:58.216Z"
   },
   {
    "duration": 345,
    "start_time": "2022-06-18T18:35:43.323Z"
   },
   {
    "duration": 23,
    "start_time": "2022-06-18T18:36:05.606Z"
   },
   {
    "duration": 32,
    "start_time": "2022-06-18T18:36:20.188Z"
   },
   {
    "duration": 29,
    "start_time": "2022-06-18T18:37:04.875Z"
   },
   {
    "duration": 33,
    "start_time": "2022-06-18T18:37:15.217Z"
   },
   {
    "duration": 21,
    "start_time": "2022-06-18T18:37:41.747Z"
   },
   {
    "duration": 22,
    "start_time": "2022-06-18T18:37:49.112Z"
   },
   {
    "duration": 21,
    "start_time": "2022-06-18T18:38:06.607Z"
   },
   {
    "duration": 22,
    "start_time": "2022-06-18T18:38:17.694Z"
   },
   {
    "duration": 33,
    "start_time": "2022-06-18T18:40:46.499Z"
   },
   {
    "duration": 21,
    "start_time": "2022-06-18T18:42:30.670Z"
   },
   {
    "duration": 7,
    "start_time": "2022-06-18T18:42:38.680Z"
   },
   {
    "duration": 2,
    "start_time": "2022-06-18T18:42:46.236Z"
   },
   {
    "duration": 10,
    "start_time": "2022-06-18T18:43:01.845Z"
   },
   {
    "duration": 9,
    "start_time": "2022-06-18T18:43:18.527Z"
   },
   {
    "duration": 11,
    "start_time": "2022-06-18T18:43:42.864Z"
   },
   {
    "duration": 3,
    "start_time": "2022-06-18T18:43:47.762Z"
   },
   {
    "duration": 305,
    "start_time": "2022-06-18T18:43:48.430Z"
   },
   {
    "duration": 22,
    "start_time": "2022-06-18T18:43:48.738Z"
   },
   {
    "duration": 9,
    "start_time": "2022-06-18T18:43:48.762Z"
   },
   {
    "duration": 11,
    "start_time": "2022-06-18T18:43:48.841Z"
   },
   {
    "duration": 12,
    "start_time": "2022-06-18T18:43:48.924Z"
   },
   {
    "duration": 12,
    "start_time": "2022-06-18T18:43:49.056Z"
   },
   {
    "duration": 11,
    "start_time": "2022-06-18T18:43:49.232Z"
   },
   {
    "duration": 9,
    "start_time": "2022-06-18T18:43:49.320Z"
   },
   {
    "duration": 7,
    "start_time": "2022-06-18T18:43:49.753Z"
   },
   {
    "duration": 3,
    "start_time": "2022-06-18T18:43:50.004Z"
   },
   {
    "duration": 16,
    "start_time": "2022-06-18T18:43:50.177Z"
   },
   {
    "duration": 10,
    "start_time": "2022-06-18T18:43:50.258Z"
   },
   {
    "duration": 5,
    "start_time": "2022-06-18T18:43:50.671Z"
   },
   {
    "duration": 7,
    "start_time": "2022-06-18T18:43:50.752Z"
   },
   {
    "duration": 8,
    "start_time": "2022-06-18T18:43:51.003Z"
   },
   {
    "duration": 8,
    "start_time": "2022-06-18T18:43:51.088Z"
   },
   {
    "duration": 6,
    "start_time": "2022-06-18T18:43:51.170Z"
   },
   {
    "duration": 22,
    "start_time": "2022-06-18T18:43:51.337Z"
   },
   {
    "duration": 9,
    "start_time": "2022-06-18T18:43:51.422Z"
   },
   {
    "duration": 22,
    "start_time": "2022-06-18T18:43:51.506Z"
   },
   {
    "duration": 20,
    "start_time": "2022-06-18T18:43:51.929Z"
   },
   {
    "duration": 2,
    "start_time": "2022-06-18T18:43:52.175Z"
   },
   {
    "duration": 20,
    "start_time": "2022-06-18T18:43:52.259Z"
   },
   {
    "duration": 26,
    "start_time": "2022-06-18T18:43:52.351Z"
   },
   {
    "duration": 18,
    "start_time": "2022-06-18T18:43:52.435Z"
   },
   {
    "duration": 6,
    "start_time": "2022-06-18T18:43:52.509Z"
   },
   {
    "duration": 17,
    "start_time": "2022-06-18T18:43:52.609Z"
   },
   {
    "duration": 15,
    "start_time": "2022-06-18T18:43:52.823Z"
   },
   {
    "duration": 7,
    "start_time": "2022-06-18T18:43:52.856Z"
   },
   {
    "duration": 15,
    "start_time": "2022-06-18T18:43:53.269Z"
   },
   {
    "duration": 15,
    "start_time": "2022-06-18T18:43:53.346Z"
   },
   {
    "duration": 8,
    "start_time": "2022-06-18T18:43:53.432Z"
   },
   {
    "duration": 14,
    "start_time": "2022-06-18T18:43:53.681Z"
   },
   {
    "duration": 15,
    "start_time": "2022-06-18T18:43:53.765Z"
   },
   {
    "duration": 16,
    "start_time": "2022-06-18T18:43:53.855Z"
   },
   {
    "duration": 19,
    "start_time": "2022-06-18T18:43:53.943Z"
   },
   {
    "duration": 19,
    "start_time": "2022-06-18T18:43:54.099Z"
   },
   {
    "duration": 8,
    "start_time": "2022-06-18T18:43:54.195Z"
   },
   {
    "duration": 18,
    "start_time": "2022-06-18T18:43:54.605Z"
   },
   {
    "duration": 14,
    "start_time": "2022-06-18T18:43:54.685Z"
   },
   {
    "duration": 6,
    "start_time": "2022-06-18T18:43:54.767Z"
   },
   {
    "duration": 16,
    "start_time": "2022-06-18T18:43:55.019Z"
   },
   {
    "duration": 16,
    "start_time": "2022-06-18T18:43:55.103Z"
   },
   {
    "duration": 15,
    "start_time": "2022-06-18T18:43:55.187Z"
   },
   {
    "duration": 19,
    "start_time": "2022-06-18T18:43:55.271Z"
   },
   {
    "duration": 3,
    "start_time": "2022-06-18T18:43:55.523Z"
   },
   {
    "duration": 20,
    "start_time": "2022-06-18T18:43:55.687Z"
   },
   {
    "duration": 27,
    "start_time": "2022-06-18T18:43:55.778Z"
   },
   {
    "duration": 10,
    "start_time": "2022-06-18T18:43:55.864Z"
   },
   {
    "duration": 2,
    "start_time": "2022-06-18T18:43:55.959Z"
   },
   {
    "duration": 303,
    "start_time": "2022-06-18T18:46:01.933Z"
   },
   {
    "duration": 606,
    "start_time": "2022-06-18T18:46:47.116Z"
   },
   {
    "duration": 28,
    "start_time": "2022-06-18T18:47:14.093Z"
   },
   {
    "duration": 32,
    "start_time": "2022-06-18T18:48:55.021Z"
   },
   {
    "duration": 28,
    "start_time": "2022-06-18T18:49:17.924Z"
   },
   {
    "duration": 20,
    "start_time": "2022-06-18T18:49:42.261Z"
   },
   {
    "duration": 28,
    "start_time": "2022-06-18T18:49:43.210Z"
   },
   {
    "duration": 23,
    "start_time": "2022-06-18T18:49:43.864Z"
   },
   {
    "duration": 32,
    "start_time": "2022-06-18T18:49:44.408Z"
   },
   {
    "duration": 307,
    "start_time": "2022-06-18T18:52:15.273Z"
   },
   {
    "duration": 20,
    "start_time": "2022-06-18T18:52:47.657Z"
   },
   {
    "duration": 3,
    "start_time": "2022-06-18T18:57:47.879Z"
   },
   {
    "duration": 399,
    "start_time": "2022-06-19T13:17:04.460Z"
   },
   {
    "duration": 899,
    "start_time": "2022-06-19T13:17:04.861Z"
   },
   {
    "duration": 21,
    "start_time": "2022-06-19T13:17:05.762Z"
   },
   {
    "duration": 16,
    "start_time": "2022-06-19T13:17:05.785Z"
   },
   {
    "duration": 16,
    "start_time": "2022-06-19T13:17:05.804Z"
   },
   {
    "duration": 25,
    "start_time": "2022-06-19T13:17:05.822Z"
   },
   {
    "duration": 12,
    "start_time": "2022-06-19T13:17:05.849Z"
   },
   {
    "duration": 14,
    "start_time": "2022-06-19T13:17:05.863Z"
   },
   {
    "duration": 11,
    "start_time": "2022-06-19T13:17:05.878Z"
   },
   {
    "duration": 8,
    "start_time": "2022-06-19T13:17:05.890Z"
   },
   {
    "duration": 4,
    "start_time": "2022-06-19T13:17:05.900Z"
   },
   {
    "duration": 38,
    "start_time": "2022-06-19T13:17:05.905Z"
   },
   {
    "duration": 16,
    "start_time": "2022-06-19T13:17:05.945Z"
   },
   {
    "duration": 11,
    "start_time": "2022-06-19T13:17:05.965Z"
   },
   {
    "duration": 16,
    "start_time": "2022-06-19T13:17:05.978Z"
   },
   {
    "duration": 8,
    "start_time": "2022-06-19T13:17:05.996Z"
   },
   {
    "duration": 19,
    "start_time": "2022-06-19T13:17:06.006Z"
   },
   {
    "duration": 27,
    "start_time": "2022-06-19T13:17:06.027Z"
   },
   {
    "duration": 37,
    "start_time": "2022-06-19T13:17:06.056Z"
   },
   {
    "duration": 8,
    "start_time": "2022-06-19T13:17:06.094Z"
   },
   {
    "duration": 34,
    "start_time": "2022-06-19T13:17:06.104Z"
   },
   {
    "duration": 28,
    "start_time": "2022-06-19T13:17:06.140Z"
   },
   {
    "duration": 3,
    "start_time": "2022-06-19T13:17:06.170Z"
   },
   {
    "duration": 24,
    "start_time": "2022-06-19T13:17:06.175Z"
   },
   {
    "duration": 29,
    "start_time": "2022-06-19T13:17:06.201Z"
   },
   {
    "duration": 23,
    "start_time": "2022-06-19T13:17:06.231Z"
   },
   {
    "duration": 8,
    "start_time": "2022-06-19T13:17:06.256Z"
   },
   {
    "duration": 20,
    "start_time": "2022-06-19T13:17:06.267Z"
   },
   {
    "duration": 59,
    "start_time": "2022-06-19T13:17:06.288Z"
   },
   {
    "duration": 9,
    "start_time": "2022-06-19T13:17:06.349Z"
   },
   {
    "duration": 18,
    "start_time": "2022-06-19T13:17:06.359Z"
   },
   {
    "duration": 14,
    "start_time": "2022-06-19T13:17:06.379Z"
   },
   {
    "duration": 6,
    "start_time": "2022-06-19T13:17:06.394Z"
   },
   {
    "duration": 43,
    "start_time": "2022-06-19T13:17:06.402Z"
   },
   {
    "duration": 14,
    "start_time": "2022-06-19T13:17:06.447Z"
   },
   {
    "duration": 13,
    "start_time": "2022-06-19T13:17:06.463Z"
   },
   {
    "duration": 45,
    "start_time": "2022-06-19T13:17:06.479Z"
   },
   {
    "duration": 17,
    "start_time": "2022-06-19T13:17:06.526Z"
   },
   {
    "duration": 30,
    "start_time": "2022-06-19T13:17:06.544Z"
   },
   {
    "duration": 14,
    "start_time": "2022-06-19T13:17:06.576Z"
   },
   {
    "duration": 11,
    "start_time": "2022-06-19T13:17:06.594Z"
   },
   {
    "duration": 29,
    "start_time": "2022-06-19T13:17:06.607Z"
   },
   {
    "duration": 14,
    "start_time": "2022-06-19T13:17:06.643Z"
   },
   {
    "duration": 15,
    "start_time": "2022-06-19T13:17:06.659Z"
   },
   {
    "duration": 18,
    "start_time": "2022-06-19T13:17:06.676Z"
   },
   {
    "duration": 2,
    "start_time": "2022-06-19T13:17:06.696Z"
   },
   {
    "duration": 33,
    "start_time": "2022-06-19T13:17:06.727Z"
   },
   {
    "duration": 79,
    "start_time": "2022-06-19T13:17:06.763Z"
   },
   {
    "duration": 31,
    "start_time": "2022-06-19T13:17:06.844Z"
   },
   {
    "duration": 55,
    "start_time": "2022-06-19T13:17:06.877Z"
   },
   {
    "duration": 7,
    "start_time": "2022-06-19T13:17:06.934Z"
   },
   {
    "duration": 20,
    "start_time": "2022-06-19T13:17:06.944Z"
   },
   {
    "duration": 16,
    "start_time": "2022-06-19T13:17:06.967Z"
   },
   {
    "duration": 23,
    "start_time": "2022-06-19T13:17:06.986Z"
   },
   {
    "duration": 8,
    "start_time": "2022-06-19T13:17:07.011Z"
   },
   {
    "duration": 33,
    "start_time": "2022-06-19T13:17:07.021Z"
   },
   {
    "duration": 24,
    "start_time": "2022-06-19T13:17:07.056Z"
   },
   {
    "duration": 14,
    "start_time": "2022-06-19T13:17:07.082Z"
   },
   {
    "duration": 16,
    "start_time": "2022-06-19T13:17:07.099Z"
   },
   {
    "duration": 48,
    "start_time": "2022-06-19T13:17:07.117Z"
   },
   {
    "duration": 17,
    "start_time": "2022-06-19T13:17:07.166Z"
   },
   {
    "duration": 45,
    "start_time": "2022-06-19T14:47:12.675Z"
   },
   {
    "duration": 6,
    "start_time": "2022-06-19T14:47:26.904Z"
   },
   {
    "duration": 402,
    "start_time": "2022-06-19T14:47:31.629Z"
   },
   {
    "duration": 819,
    "start_time": "2022-06-19T14:47:32.301Z"
   },
   {
    "duration": 19,
    "start_time": "2022-06-19T14:47:33.122Z"
   },
   {
    "duration": 26,
    "start_time": "2022-06-19T14:47:33.143Z"
   },
   {
    "duration": 18,
    "start_time": "2022-06-19T14:47:33.171Z"
   },
   {
    "duration": 45,
    "start_time": "2022-06-19T14:47:33.191Z"
   },
   {
    "duration": 26,
    "start_time": "2022-06-19T14:47:33.237Z"
   },
   {
    "duration": 29,
    "start_time": "2022-06-19T14:47:33.264Z"
   },
   {
    "duration": 27,
    "start_time": "2022-06-19T14:47:33.295Z"
   },
   {
    "duration": 6,
    "start_time": "2022-06-19T14:47:33.630Z"
   },
   {
    "duration": 2,
    "start_time": "2022-06-19T14:47:33.866Z"
   },
   {
    "duration": 10,
    "start_time": "2022-06-19T14:47:34.032Z"
   },
   {
    "duration": 8,
    "start_time": "2022-06-19T14:47:34.123Z"
   },
   {
    "duration": 5,
    "start_time": "2022-06-19T14:47:34.558Z"
   },
   {
    "duration": 5,
    "start_time": "2022-06-19T14:47:34.624Z"
   },
   {
    "duration": 5,
    "start_time": "2022-06-19T14:47:34.874Z"
   },
   {
    "duration": 5,
    "start_time": "2022-06-19T14:47:34.963Z"
   },
   {
    "duration": 6,
    "start_time": "2022-06-19T14:47:35.043Z"
   },
   {
    "duration": 18,
    "start_time": "2022-06-19T14:47:35.206Z"
   },
   {
    "duration": 7,
    "start_time": "2022-06-19T14:47:35.302Z"
   },
   {
    "duration": 16,
    "start_time": "2022-06-19T14:47:35.402Z"
   },
   {
    "duration": 23,
    "start_time": "2022-06-19T14:47:35.805Z"
   },
   {
    "duration": 2,
    "start_time": "2022-06-19T14:47:36.057Z"
   },
   {
    "duration": 18,
    "start_time": "2022-06-19T14:47:36.131Z"
   },
   {
    "duration": 18,
    "start_time": "2022-06-19T14:47:36.214Z"
   },
   {
    "duration": 18,
    "start_time": "2022-06-19T14:47:36.306Z"
   },
   {
    "duration": 7,
    "start_time": "2022-06-19T14:47:36.403Z"
   },
   {
    "duration": 21,
    "start_time": "2022-06-19T14:47:36.473Z"
   },
   {
    "duration": 15,
    "start_time": "2022-06-19T14:47:36.649Z"
   },
   {
    "duration": 7,
    "start_time": "2022-06-19T14:47:36.748Z"
   },
   {
    "duration": 11,
    "start_time": "2022-06-19T14:47:37.153Z"
   },
   {
    "duration": 12,
    "start_time": "2022-06-19T14:47:37.220Z"
   },
   {
    "duration": 6,
    "start_time": "2022-06-19T14:47:37.304Z"
   },
   {
    "duration": 13,
    "start_time": "2022-06-19T14:47:37.556Z"
   },
   {
    "duration": 12,
    "start_time": "2022-06-19T14:47:37.653Z"
   },
   {
    "duration": 12,
    "start_time": "2022-06-19T14:47:37.724Z"
   },
   {
    "duration": 18,
    "start_time": "2022-06-19T14:47:37.903Z"
   },
   {
    "duration": 8,
    "start_time": "2022-06-19T14:47:38.328Z"
   },
   {
    "duration": 18,
    "start_time": "2022-06-19T14:47:39.183Z"
   },
   {
    "duration": 13,
    "start_time": "2022-06-19T14:47:39.252Z"
   },
   {
    "duration": 7,
    "start_time": "2022-06-19T14:47:39.332Z"
   },
   {
    "duration": 21,
    "start_time": "2022-06-19T14:47:39.584Z"
   },
   {
    "duration": 14,
    "start_time": "2022-06-19T14:47:40.412Z"
   },
   {
    "duration": 16,
    "start_time": "2022-06-19T14:47:41.059Z"
   },
   {
    "duration": 17,
    "start_time": "2022-06-19T14:47:41.302Z"
   },
   {
    "duration": 8,
    "start_time": "2022-06-19T14:47:43.705Z"
   },
   {
    "duration": 46,
    "start_time": "2022-06-19T14:59:08.981Z"
   },
   {
    "duration": 32,
    "start_time": "2022-06-19T14:59:49.359Z"
   },
   {
    "duration": 35,
    "start_time": "2022-06-19T15:00:55.062Z"
   },
   {
    "duration": 20,
    "start_time": "2022-06-19T15:01:22.025Z"
   },
   {
    "duration": 30,
    "start_time": "2022-06-19T15:01:48.379Z"
   },
   {
    "duration": 13,
    "start_time": "2022-06-19T15:02:06.916Z"
   },
   {
    "duration": 219,
    "start_time": "2022-06-19T15:02:27.801Z"
   },
   {
    "duration": 15,
    "start_time": "2022-06-19T15:02:44.033Z"
   },
   {
    "duration": 19,
    "start_time": "2022-06-19T15:02:50.512Z"
   },
   {
    "duration": 20,
    "start_time": "2022-06-19T15:02:59.771Z"
   },
   {
    "duration": 9,
    "start_time": "2022-06-19T15:03:37.716Z"
   },
   {
    "duration": 273,
    "start_time": "2022-06-19T15:03:44.023Z"
   },
   {
    "duration": 8,
    "start_time": "2022-06-19T15:06:27.919Z"
   },
   {
    "duration": 17,
    "start_time": "2022-06-19T15:06:38.063Z"
   },
   {
    "duration": 10,
    "start_time": "2022-06-19T15:06:43.604Z"
   },
   {
    "duration": 225,
    "start_time": "2022-06-19T15:06:51.129Z"
   },
   {
    "duration": 9,
    "start_time": "2022-06-19T15:07:20.515Z"
   },
   {
    "duration": 20,
    "start_time": "2022-06-19T15:11:33.779Z"
   },
   {
    "duration": 20,
    "start_time": "2022-06-19T15:14:02.567Z"
   },
   {
    "duration": 29,
    "start_time": "2022-06-19T15:14:06.259Z"
   },
   {
    "duration": 20,
    "start_time": "2022-06-19T15:14:15.367Z"
   },
   {
    "duration": 8,
    "start_time": "2022-06-19T15:18:34.561Z"
   },
   {
    "duration": 9,
    "start_time": "2022-06-19T15:22:31.111Z"
   },
   {
    "duration": 25,
    "start_time": "2022-06-19T15:25:21.003Z"
   },
   {
    "duration": 43,
    "start_time": "2022-06-19T15:25:30.625Z"
   },
   {
    "duration": 20,
    "start_time": "2022-06-19T15:26:35.417Z"
   },
   {
    "duration": 7,
    "start_time": "2022-06-19T15:26:59.798Z"
   },
   {
    "duration": 3,
    "start_time": "2022-06-19T16:26:06.300Z"
   },
   {
    "duration": 319,
    "start_time": "2022-06-19T16:26:06.946Z"
   },
   {
    "duration": 14,
    "start_time": "2022-06-19T16:26:07.267Z"
   },
   {
    "duration": 9,
    "start_time": "2022-06-19T16:26:07.305Z"
   },
   {
    "duration": 10,
    "start_time": "2022-06-19T16:26:07.363Z"
   },
   {
    "duration": 17,
    "start_time": "2022-06-19T16:26:07.455Z"
   },
   {
    "duration": 13,
    "start_time": "2022-06-19T16:26:07.555Z"
   },
   {
    "duration": 11,
    "start_time": "2022-06-19T16:26:07.729Z"
   },
   {
    "duration": 9,
    "start_time": "2022-06-19T16:26:07.802Z"
   },
   {
    "duration": 8,
    "start_time": "2022-06-19T16:26:08.281Z"
   },
   {
    "duration": 2,
    "start_time": "2022-06-19T16:26:08.511Z"
   },
   {
    "duration": 10,
    "start_time": "2022-06-19T16:26:08.683Z"
   },
   {
    "duration": 10,
    "start_time": "2022-06-19T16:26:08.759Z"
   },
   {
    "duration": 4,
    "start_time": "2022-06-19T16:26:09.193Z"
   },
   {
    "duration": 6,
    "start_time": "2022-06-19T16:26:09.263Z"
   },
   {
    "duration": 6,
    "start_time": "2022-06-19T16:26:09.511Z"
   },
   {
    "duration": 6,
    "start_time": "2022-06-19T16:26:09.596Z"
   },
   {
    "duration": 6,
    "start_time": "2022-06-19T16:26:09.694Z"
   },
   {
    "duration": 20,
    "start_time": "2022-06-19T16:26:09.849Z"
   },
   {
    "duration": 7,
    "start_time": "2022-06-19T16:26:09.927Z"
   },
   {
    "duration": 17,
    "start_time": "2022-06-19T16:26:10.019Z"
   },
   {
    "duration": 21,
    "start_time": "2022-06-19T16:26:10.444Z"
   },
   {
    "duration": 2,
    "start_time": "2022-06-19T16:26:10.689Z"
   },
   {
    "duration": 21,
    "start_time": "2022-06-19T16:26:10.778Z"
   },
   {
    "duration": 24,
    "start_time": "2022-06-19T16:26:10.861Z"
   },
   {
    "duration": 24,
    "start_time": "2022-06-19T16:26:10.947Z"
   },
   {
    "duration": 8,
    "start_time": "2022-06-19T16:26:11.025Z"
   },
   {
    "duration": 24,
    "start_time": "2022-06-19T16:26:11.113Z"
   },
   {
    "duration": 25,
    "start_time": "2022-06-19T16:26:11.302Z"
   },
   {
    "duration": 10,
    "start_time": "2022-06-19T16:26:11.397Z"
   },
   {
    "duration": 17,
    "start_time": "2022-06-19T16:26:11.797Z"
   },
   {
    "duration": 20,
    "start_time": "2022-06-19T16:26:11.854Z"
   },
   {
    "duration": 6,
    "start_time": "2022-06-19T16:26:11.948Z"
   },
   {
    "duration": 13,
    "start_time": "2022-06-19T16:26:12.201Z"
   },
   {
    "duration": 12,
    "start_time": "2022-06-19T16:26:12.298Z"
   },
   {
    "duration": 13,
    "start_time": "2022-06-19T16:26:12.363Z"
   },
   {
    "duration": 17,
    "start_time": "2022-06-19T16:26:12.530Z"
   },
   {
    "duration": 14,
    "start_time": "2022-06-19T16:26:12.612Z"
   },
   {
    "duration": 18,
    "start_time": "2022-06-19T16:26:13.047Z"
   },
   {
    "duration": 13,
    "start_time": "2022-06-19T16:26:13.114Z"
   },
   {
    "duration": 7,
    "start_time": "2022-06-19T16:26:13.752Z"
   },
   {
    "duration": 20,
    "start_time": "2022-06-19T16:26:14.656Z"
   },
   {
    "duration": 19,
    "start_time": "2022-06-19T16:26:14.710Z"
   },
   {
    "duration": 20,
    "start_time": "2022-06-19T16:26:14.798Z"
   },
   {
    "duration": 22,
    "start_time": "2022-06-19T16:26:14.894Z"
   },
   {
    "duration": 12,
    "start_time": "2022-06-19T16:26:15.155Z"
   },
   {
    "duration": 21,
    "start_time": "2022-06-19T16:26:15.252Z"
   },
   {
    "duration": 35,
    "start_time": "2022-06-19T16:26:15.501Z"
   },
   {
    "duration": 34,
    "start_time": "2022-06-19T16:26:16.450Z"
   },
   {
    "duration": 25,
    "start_time": "2022-06-19T16:26:17.625Z"
   },
   {
    "duration": 40,
    "start_time": "2022-06-19T16:26:18.118Z"
   },
   {
    "duration": 10,
    "start_time": "2022-06-19T16:26:19.194Z"
   },
   {
    "duration": 38,
    "start_time": "2022-06-19T16:26:19.754Z"
   },
   {
    "duration": 3,
    "start_time": "2022-06-19T16:26:28.233Z"
   },
   {
    "duration": 7,
    "start_time": "2022-06-19T16:28:42.109Z"
   },
   {
    "duration": 18,
    "start_time": "2022-06-19T16:28:48.442Z"
   },
   {
    "duration": 18,
    "start_time": "2022-06-19T16:29:09.997Z"
   },
   {
    "duration": 14,
    "start_time": "2022-06-19T16:29:23.802Z"
   },
   {
    "duration": 47,
    "start_time": "2022-06-21T14:20:00.775Z"
   },
   {
    "duration": 781,
    "start_time": "2022-06-21T14:20:06.873Z"
   },
   {
    "duration": 874,
    "start_time": "2022-06-21T14:20:08.871Z"
   },
   {
    "duration": 5,
    "start_time": "2022-06-21T14:20:23.024Z"
   },
   {
    "duration": 28,
    "start_time": "2022-06-21T14:20:27.718Z"
   },
   {
    "duration": 3,
    "start_time": "2022-06-21T14:25:23.617Z"
   },
   {
    "duration": 649,
    "start_time": "2022-06-21T14:28:39.472Z"
   },
   {
    "duration": 314,
    "start_time": "2022-06-21T14:28:40.123Z"
   },
   {
    "duration": 18,
    "start_time": "2022-06-21T14:28:40.439Z"
   },
   {
    "duration": 8,
    "start_time": "2022-06-21T14:28:40.459Z"
   },
   {
    "duration": 10,
    "start_time": "2022-06-21T14:28:40.469Z"
   },
   {
    "duration": 12,
    "start_time": "2022-06-21T14:28:40.481Z"
   },
   {
    "duration": 12,
    "start_time": "2022-06-21T14:28:40.495Z"
   },
   {
    "duration": 12,
    "start_time": "2022-06-21T14:28:40.526Z"
   },
   {
    "duration": 8,
    "start_time": "2022-06-21T14:28:40.540Z"
   },
   {
    "duration": 6,
    "start_time": "2022-06-21T14:28:40.551Z"
   },
   {
    "duration": 5,
    "start_time": "2022-06-21T14:28:40.558Z"
   },
   {
    "duration": 12,
    "start_time": "2022-06-21T14:28:40.564Z"
   },
   {
    "duration": 16,
    "start_time": "2022-06-21T14:28:40.578Z"
   },
   {
    "duration": 7,
    "start_time": "2022-06-21T14:28:40.595Z"
   },
   {
    "duration": 27,
    "start_time": "2022-06-21T14:28:40.603Z"
   },
   {
    "duration": 8,
    "start_time": "2022-06-21T14:28:40.631Z"
   },
   {
    "duration": 8,
    "start_time": "2022-06-21T14:28:40.640Z"
   },
   {
    "duration": 7,
    "start_time": "2022-06-21T14:28:40.649Z"
   },
   {
    "duration": 20,
    "start_time": "2022-06-21T14:28:40.658Z"
   },
   {
    "duration": 8,
    "start_time": "2022-06-21T14:28:40.679Z"
   },
   {
    "duration": 42,
    "start_time": "2022-06-21T14:28:40.688Z"
   },
   {
    "duration": 24,
    "start_time": "2022-06-21T14:28:40.731Z"
   },
   {
    "duration": 2,
    "start_time": "2022-06-21T14:28:40.756Z"
   },
   {
    "duration": 24,
    "start_time": "2022-06-21T14:28:40.760Z"
   },
   {
    "duration": 41,
    "start_time": "2022-06-21T14:28:40.786Z"
   },
   {
    "duration": 18,
    "start_time": "2022-06-21T14:28:40.829Z"
   },
   {
    "duration": 7,
    "start_time": "2022-06-21T14:28:40.849Z"
   },
   {
    "duration": 3,
    "start_time": "2022-06-21T14:28:40.859Z"
   },
   {
    "duration": 20,
    "start_time": "2022-06-21T14:28:40.864Z"
   },
   {
    "duration": 7,
    "start_time": "2022-06-21T14:28:40.886Z"
   },
   {
    "duration": 40,
    "start_time": "2022-06-21T14:28:40.894Z"
   },
   {
    "duration": 23,
    "start_time": "2022-06-21T14:28:40.936Z"
   },
   {
    "duration": 5,
    "start_time": "2022-06-21T14:28:40.961Z"
   },
   {
    "duration": 12,
    "start_time": "2022-06-21T14:28:40.968Z"
   },
   {
    "duration": 13,
    "start_time": "2022-06-21T14:28:40.982Z"
   },
   {
    "duration": 34,
    "start_time": "2022-06-21T14:28:40.997Z"
   },
   {
    "duration": 19,
    "start_time": "2022-06-21T14:28:41.033Z"
   },
   {
    "duration": 8,
    "start_time": "2022-06-21T14:28:41.053Z"
   },
   {
    "duration": 20,
    "start_time": "2022-06-21T14:28:41.063Z"
   },
   {
    "duration": 13,
    "start_time": "2022-06-21T14:28:41.084Z"
   },
   {
    "duration": 7,
    "start_time": "2022-06-21T14:28:41.125Z"
   },
   {
    "duration": 18,
    "start_time": "2022-06-21T14:28:41.134Z"
   },
   {
    "duration": 15,
    "start_time": "2022-06-21T14:28:41.153Z"
   },
   {
    "duration": 15,
    "start_time": "2022-06-21T14:28:41.169Z"
   },
   {
    "duration": 70,
    "start_time": "2022-06-21T14:31:02.672Z"
   },
   {
    "duration": 14,
    "start_time": "2022-06-21T14:31:05.104Z"
   },
   {
    "duration": 10,
    "start_time": "2022-06-21T14:32:34.709Z"
   },
   {
    "duration": 12,
    "start_time": "2022-06-21T14:32:37.306Z"
   },
   {
    "duration": 19,
    "start_time": "2022-06-21T14:32:59.160Z"
   },
   {
    "duration": 17,
    "start_time": "2022-06-21T14:33:06.256Z"
   },
   {
    "duration": 18,
    "start_time": "2022-06-21T14:34:09.601Z"
   },
   {
    "duration": 15,
    "start_time": "2022-06-21T14:34:29.560Z"
   },
   {
    "duration": 22,
    "start_time": "2022-06-21T14:34:36.015Z"
   },
   {
    "duration": 16,
    "start_time": "2022-06-21T14:34:52.058Z"
   },
   {
    "duration": 40,
    "start_time": "2022-06-21T14:35:41.506Z"
   },
   {
    "duration": 20,
    "start_time": "2022-06-21T14:35:44.157Z"
   },
   {
    "duration": 13,
    "start_time": "2022-06-21T14:35:55.556Z"
   },
   {
    "duration": 4,
    "start_time": "2022-06-21T14:36:35.599Z"
   },
   {
    "duration": 14,
    "start_time": "2022-06-21T14:36:38.003Z"
   },
   {
    "duration": 4,
    "start_time": "2022-06-21T14:37:23.958Z"
   },
   {
    "duration": 12,
    "start_time": "2022-06-21T14:37:25.500Z"
   },
   {
    "duration": 17,
    "start_time": "2022-06-21T14:38:13.098Z"
   },
   {
    "duration": 23,
    "start_time": "2022-06-21T14:38:45.560Z"
   },
   {
    "duration": 51,
    "start_time": "2022-06-21T14:39:01.402Z"
   },
   {
    "duration": 41,
    "start_time": "2022-06-21T14:39:11.103Z"
   },
   {
    "duration": 16,
    "start_time": "2022-06-21T14:39:48.956Z"
   },
   {
    "duration": 14,
    "start_time": "2022-06-21T14:40:17.356Z"
   },
   {
    "duration": 4,
    "start_time": "2022-06-21T14:40:38.054Z"
   },
   {
    "duration": 12,
    "start_time": "2022-06-21T14:41:09.652Z"
   },
   {
    "duration": 11,
    "start_time": "2022-06-21T14:41:22.652Z"
   },
   {
    "duration": 11,
    "start_time": "2022-06-21T14:41:47.003Z"
   },
   {
    "duration": 5,
    "start_time": "2022-06-21T14:42:02.450Z"
   },
   {
    "duration": 19,
    "start_time": "2022-06-21T14:42:18.701Z"
   },
   {
    "duration": 19,
    "start_time": "2022-06-21T14:43:02.651Z"
   },
   {
    "duration": 5,
    "start_time": "2022-06-21T14:50:18.532Z"
   },
   {
    "duration": 11,
    "start_time": "2022-06-21T14:50:21.032Z"
   },
   {
    "duration": 3,
    "start_time": "2022-06-21T14:50:32.188Z"
   },
   {
    "duration": 11,
    "start_time": "2022-06-21T14:51:16.886Z"
   },
   {
    "duration": 4,
    "start_time": "2022-06-21T14:52:08.286Z"
   },
   {
    "duration": 12,
    "start_time": "2022-06-21T14:53:15.733Z"
   },
   {
    "duration": 14,
    "start_time": "2022-06-21T14:53:22.998Z"
   },
   {
    "duration": 12,
    "start_time": "2022-06-21T14:54:46.278Z"
   },
   {
    "duration": 16,
    "start_time": "2022-06-21T14:55:36.283Z"
   },
   {
    "duration": 10,
    "start_time": "2022-06-21T14:56:08.882Z"
   },
   {
    "duration": 13,
    "start_time": "2022-06-21T14:56:56.730Z"
   },
   {
    "duration": 13,
    "start_time": "2022-06-21T14:57:22.038Z"
   },
   {
    "duration": 10,
    "start_time": "2022-06-21T14:57:54.730Z"
   },
   {
    "duration": 18,
    "start_time": "2022-06-21T14:58:11.630Z"
   },
   {
    "duration": 9,
    "start_time": "2022-06-21T14:58:55.830Z"
   },
   {
    "duration": 11,
    "start_time": "2022-06-21T14:59:11.680Z"
   },
   {
    "duration": 8,
    "start_time": "2022-06-21T15:00:14.231Z"
   },
   {
    "duration": 16,
    "start_time": "2022-06-21T15:00:41.479Z"
   },
   {
    "duration": 7,
    "start_time": "2022-06-21T15:00:58.932Z"
   },
   {
    "duration": 15,
    "start_time": "2022-06-21T15:01:10.574Z"
   },
   {
    "duration": 14,
    "start_time": "2022-06-21T15:02:22.587Z"
   },
   {
    "duration": 11,
    "start_time": "2022-06-21T15:02:33.177Z"
   },
   {
    "duration": 4,
    "start_time": "2022-06-21T15:03:24.272Z"
   },
   {
    "duration": 8,
    "start_time": "2022-06-21T15:03:45.823Z"
   },
   {
    "duration": 24,
    "start_time": "2022-06-21T15:03:51.272Z"
   },
   {
    "duration": 765,
    "start_time": "2022-06-21T17:28:19.898Z"
   },
   {
    "duration": 723,
    "start_time": "2022-06-21T17:28:23.147Z"
   },
   {
    "duration": 19,
    "start_time": "2022-06-21T17:28:31.203Z"
   },
   {
    "duration": 9,
    "start_time": "2022-06-21T17:28:32.779Z"
   },
   {
    "duration": 11,
    "start_time": "2022-06-21T17:28:35.410Z"
   },
   {
    "duration": 15,
    "start_time": "2022-06-21T17:28:37.323Z"
   },
   {
    "duration": 14,
    "start_time": "2022-06-21T17:28:38.893Z"
   },
   {
    "duration": 13,
    "start_time": "2022-06-21T17:28:41.811Z"
   },
   {
    "duration": 9,
    "start_time": "2022-06-21T17:29:26.082Z"
   },
   {
    "duration": 7,
    "start_time": "2022-06-21T17:29:34.685Z"
   },
   {
    "duration": 5,
    "start_time": "2022-06-21T17:29:58.146Z"
   },
   {
    "duration": 17,
    "start_time": "2022-06-21T17:29:59.478Z"
   },
   {
    "duration": 16,
    "start_time": "2022-06-21T17:30:00.528Z"
   },
   {
    "duration": 4,
    "start_time": "2022-06-21T17:30:05.377Z"
   },
   {
    "duration": 8,
    "start_time": "2022-06-21T17:30:40.276Z"
   },
   {
    "duration": 6,
    "start_time": "2022-06-21T17:31:03.192Z"
   },
   {
    "duration": 6,
    "start_time": "2022-06-21T17:31:04.094Z"
   },
   {
    "duration": 20,
    "start_time": "2022-06-21T17:31:10.979Z"
   },
   {
    "duration": 8,
    "start_time": "2022-06-21T17:31:11.967Z"
   },
   {
    "duration": 14,
    "start_time": "2022-06-21T17:31:22.771Z"
   },
   {
    "duration": 47,
    "start_time": "2022-06-22T14:28:33.032Z"
   },
   {
    "duration": 751,
    "start_time": "2022-06-22T14:28:51.691Z"
   },
   {
    "duration": 861,
    "start_time": "2022-06-22T14:28:52.445Z"
   },
   {
    "duration": 28,
    "start_time": "2022-06-22T14:28:53.308Z"
   },
   {
    "duration": 11,
    "start_time": "2022-06-22T14:28:53.340Z"
   },
   {
    "duration": 13,
    "start_time": "2022-06-22T14:28:53.352Z"
   },
   {
    "duration": 16,
    "start_time": "2022-06-22T14:28:53.367Z"
   },
   {
    "duration": 25,
    "start_time": "2022-06-22T14:28:53.384Z"
   },
   {
    "duration": 20,
    "start_time": "2022-06-22T14:28:53.411Z"
   },
   {
    "duration": 31,
    "start_time": "2022-06-22T14:28:53.435Z"
   },
   {
    "duration": 10,
    "start_time": "2022-06-22T14:28:53.469Z"
   },
   {
    "duration": 6,
    "start_time": "2022-06-22T14:28:53.482Z"
   },
   {
    "duration": 13,
    "start_time": "2022-06-22T14:28:53.489Z"
   },
   {
    "duration": 11,
    "start_time": "2022-06-22T14:28:53.504Z"
   },
   {
    "duration": 6,
    "start_time": "2022-06-22T14:28:53.537Z"
   },
   {
    "duration": 12,
    "start_time": "2022-06-22T14:28:53.546Z"
   },
   {
    "duration": 13,
    "start_time": "2022-06-22T14:28:53.560Z"
   },
   {
    "duration": 11,
    "start_time": "2022-06-22T14:28:53.574Z"
   },
   {
    "duration": 12,
    "start_time": "2022-06-22T14:28:53.587Z"
   },
   {
    "duration": 35,
    "start_time": "2022-06-22T14:28:53.601Z"
   },
   {
    "duration": 14,
    "start_time": "2022-06-22T14:28:53.637Z"
   },
   {
    "duration": 21,
    "start_time": "2022-06-22T14:28:53.653Z"
   },
   {
    "duration": 23,
    "start_time": "2022-06-22T14:28:53.675Z"
   },
   {
    "duration": 32,
    "start_time": "2022-06-22T14:28:53.700Z"
   },
   {
    "duration": 19,
    "start_time": "2022-06-22T14:28:53.733Z"
   },
   {
    "duration": 18,
    "start_time": "2022-06-22T14:28:53.753Z"
   },
   {
    "duration": 19,
    "start_time": "2022-06-22T14:28:59.289Z"
   },
   {
    "duration": 7,
    "start_time": "2022-06-22T14:29:00.095Z"
   },
   {
    "duration": 15,
    "start_time": "2022-06-22T14:29:00.825Z"
   },
   {
    "duration": 6,
    "start_time": "2022-06-22T14:29:01.659Z"
   },
   {
    "duration": 47,
    "start_time": "2022-06-22T14:43:32.722Z"
   },
   {
    "duration": 3,
    "start_time": "2022-06-22T14:43:52.469Z"
   },
   {
    "duration": 348,
    "start_time": "2022-06-22T14:43:52.474Z"
   },
   {
    "duration": 24,
    "start_time": "2022-06-22T14:43:52.824Z"
   },
   {
    "duration": 15,
    "start_time": "2022-06-22T14:43:52.849Z"
   },
   {
    "duration": 25,
    "start_time": "2022-06-22T14:43:52.867Z"
   },
   {
    "duration": 15,
    "start_time": "2022-06-22T14:43:52.893Z"
   },
   {
    "duration": 14,
    "start_time": "2022-06-22T14:43:52.909Z"
   },
   {
    "duration": 26,
    "start_time": "2022-06-22T14:43:52.924Z"
   },
   {
    "duration": 14,
    "start_time": "2022-06-22T14:43:52.951Z"
   },
   {
    "duration": 13,
    "start_time": "2022-06-22T14:43:52.967Z"
   },
   {
    "duration": 19,
    "start_time": "2022-06-22T14:43:52.982Z"
   },
   {
    "duration": 49,
    "start_time": "2022-06-22T14:43:53.003Z"
   },
   {
    "duration": 13,
    "start_time": "2022-06-22T14:43:53.054Z"
   },
   {
    "duration": 9,
    "start_time": "2022-06-22T14:43:53.069Z"
   },
   {
    "duration": 11,
    "start_time": "2022-06-22T14:43:53.080Z"
   },
   {
    "duration": 7,
    "start_time": "2022-06-22T14:43:53.092Z"
   },
   {
    "duration": 8,
    "start_time": "2022-06-22T14:43:53.101Z"
   },
   {
    "duration": 16,
    "start_time": "2022-06-22T14:43:53.111Z"
   },
   {
    "duration": 41,
    "start_time": "2022-06-22T14:43:53.129Z"
   },
   {
    "duration": 9,
    "start_time": "2022-06-22T14:43:53.171Z"
   },
   {
    "duration": 18,
    "start_time": "2022-06-22T14:43:53.181Z"
   },
   {
    "duration": 36,
    "start_time": "2022-06-22T14:43:53.201Z"
   },
   {
    "duration": 21,
    "start_time": "2022-06-22T14:43:53.238Z"
   },
   {
    "duration": 18,
    "start_time": "2022-06-22T14:43:53.261Z"
   },
   {
    "duration": 16,
    "start_time": "2022-06-22T14:43:53.281Z"
   },
   {
    "duration": 6,
    "start_time": "2022-06-22T14:43:53.299Z"
   },
   {
    "duration": 7,
    "start_time": "2022-06-22T14:43:53.306Z"
   },
   {
    "duration": 3,
    "start_time": "2022-06-22T14:43:53.315Z"
   },
   {
    "duration": 25,
    "start_time": "2022-06-22T14:43:53.319Z"
   },
   {
    "duration": 8,
    "start_time": "2022-06-22T14:43:53.345Z"
   },
   {
    "duration": 24,
    "start_time": "2022-06-22T14:43:53.354Z"
   },
   {
    "duration": 17,
    "start_time": "2022-06-22T14:43:53.379Z"
   },
   {
    "duration": 5,
    "start_time": "2022-06-22T14:43:53.398Z"
   },
   {
    "duration": 15,
    "start_time": "2022-06-22T14:43:53.404Z"
   },
   {
    "duration": 27,
    "start_time": "2022-06-22T14:43:53.421Z"
   },
   {
    "duration": 13,
    "start_time": "2022-06-22T14:43:53.449Z"
   },
   {
    "duration": 12,
    "start_time": "2022-06-22T14:43:58.588Z"
   },
   {
    "duration": 29,
    "start_time": "2022-06-22T14:48:04.545Z"
   },
   {
    "duration": 10,
    "start_time": "2022-06-22T14:48:05.277Z"
   },
   {
    "duration": 2,
    "start_time": "2022-06-22T14:48:10.815Z"
   },
   {
    "duration": 344,
    "start_time": "2022-06-22T14:48:10.819Z"
   },
   {
    "duration": 14,
    "start_time": "2022-06-22T14:48:11.165Z"
   },
   {
    "duration": 21,
    "start_time": "2022-06-22T14:48:11.181Z"
   },
   {
    "duration": 45,
    "start_time": "2022-06-22T14:48:11.204Z"
   },
   {
    "duration": 16,
    "start_time": "2022-06-22T14:48:11.251Z"
   },
   {
    "duration": 28,
    "start_time": "2022-06-22T14:48:11.269Z"
   },
   {
    "duration": 39,
    "start_time": "2022-06-22T14:48:11.298Z"
   },
   {
    "duration": 45,
    "start_time": "2022-06-22T14:48:11.339Z"
   },
   {
    "duration": 19,
    "start_time": "2022-06-22T14:48:11.385Z"
   },
   {
    "duration": 54,
    "start_time": "2022-06-22T14:48:11.407Z"
   },
   {
    "duration": 38,
    "start_time": "2022-06-22T14:48:11.463Z"
   },
   {
    "duration": 50,
    "start_time": "2022-06-22T14:48:11.503Z"
   },
   {
    "duration": 17,
    "start_time": "2022-06-22T14:48:11.555Z"
   },
   {
    "duration": 34,
    "start_time": "2022-06-22T14:48:11.574Z"
   },
   {
    "duration": 28,
    "start_time": "2022-06-22T14:48:11.610Z"
   },
   {
    "duration": 32,
    "start_time": "2022-06-22T14:48:11.640Z"
   },
   {
    "duration": 18,
    "start_time": "2022-06-22T14:48:11.674Z"
   },
   {
    "duration": 47,
    "start_time": "2022-06-22T14:48:11.693Z"
   },
   {
    "duration": 8,
    "start_time": "2022-06-22T14:48:11.742Z"
   },
   {
    "duration": 31,
    "start_time": "2022-06-22T14:48:11.752Z"
   },
   {
    "duration": 27,
    "start_time": "2022-06-22T14:48:11.785Z"
   },
   {
    "duration": 25,
    "start_time": "2022-06-22T14:48:11.814Z"
   },
   {
    "duration": 30,
    "start_time": "2022-06-22T14:48:11.840Z"
   },
   {
    "duration": 17,
    "start_time": "2022-06-22T14:48:11.871Z"
   },
   {
    "duration": 19,
    "start_time": "2022-06-22T14:48:11.890Z"
   },
   {
    "duration": 36,
    "start_time": "2022-06-22T14:48:11.911Z"
   },
   {
    "duration": 18,
    "start_time": "2022-06-22T14:48:11.949Z"
   },
   {
    "duration": 36,
    "start_time": "2022-06-22T14:48:11.970Z"
   },
   {
    "duration": 30,
    "start_time": "2022-06-22T14:48:12.008Z"
   },
   {
    "duration": 33,
    "start_time": "2022-06-22T14:48:12.040Z"
   },
   {
    "duration": 37,
    "start_time": "2022-06-22T14:48:12.075Z"
   },
   {
    "duration": 34,
    "start_time": "2022-06-22T14:48:12.114Z"
   },
   {
    "duration": 24,
    "start_time": "2022-06-22T14:48:12.150Z"
   },
   {
    "duration": 36,
    "start_time": "2022-06-22T14:48:12.176Z"
   },
   {
    "duration": 26,
    "start_time": "2022-06-22T14:48:12.213Z"
   },
   {
    "duration": 31,
    "start_time": "2022-06-22T14:48:12.240Z"
   },
   {
    "duration": 8,
    "start_time": "2022-06-22T14:48:12.273Z"
   },
   {
    "duration": 20,
    "start_time": "2022-06-22T14:48:12.282Z"
   },
   {
    "duration": 13,
    "start_time": "2022-06-22T14:48:12.304Z"
   },
   {
    "duration": 28,
    "start_time": "2022-06-22T14:48:12.318Z"
   },
   {
    "duration": 19,
    "start_time": "2022-06-22T14:48:12.348Z"
   },
   {
    "duration": 15,
    "start_time": "2022-06-22T14:48:14.894Z"
   },
   {
    "duration": 35,
    "start_time": "2022-06-22T14:57:29.308Z"
   },
   {
    "duration": 5,
    "start_time": "2022-06-22T15:02:39.469Z"
   },
   {
    "duration": 10,
    "start_time": "2022-06-22T15:02:54.474Z"
   },
   {
    "duration": 11,
    "start_time": "2022-06-22T15:05:57.148Z"
   },
   {
    "duration": 12,
    "start_time": "2022-06-22T15:14:44.835Z"
   },
   {
    "duration": 2,
    "start_time": "2022-06-22T15:14:49.877Z"
   },
   {
    "duration": 362,
    "start_time": "2022-06-22T15:14:49.882Z"
   },
   {
    "duration": 16,
    "start_time": "2022-06-22T15:14:50.248Z"
   },
   {
    "duration": 11,
    "start_time": "2022-06-22T15:14:50.266Z"
   },
   {
    "duration": 13,
    "start_time": "2022-06-22T15:14:50.279Z"
   },
   {
    "duration": 14,
    "start_time": "2022-06-22T15:14:50.294Z"
   },
   {
    "duration": 13,
    "start_time": "2022-06-22T15:14:50.310Z"
   },
   {
    "duration": 35,
    "start_time": "2022-06-22T15:14:50.324Z"
   },
   {
    "duration": 13,
    "start_time": "2022-06-22T15:14:50.361Z"
   },
   {
    "duration": 6,
    "start_time": "2022-06-22T15:14:50.376Z"
   },
   {
    "duration": 5,
    "start_time": "2022-06-22T15:14:50.384Z"
   },
   {
    "duration": 13,
    "start_time": "2022-06-22T15:14:50.390Z"
   },
   {
    "duration": 9,
    "start_time": "2022-06-22T15:14:50.405Z"
   },
   {
    "duration": 25,
    "start_time": "2022-06-22T15:14:50.415Z"
   },
   {
    "duration": 22,
    "start_time": "2022-06-22T15:14:50.443Z"
   },
   {
    "duration": 9,
    "start_time": "2022-06-22T15:14:50.467Z"
   },
   {
    "duration": 12,
    "start_time": "2022-06-22T15:14:50.477Z"
   },
   {
    "duration": 7,
    "start_time": "2022-06-22T15:14:50.490Z"
   },
   {
    "duration": 24,
    "start_time": "2022-06-22T15:14:50.498Z"
   },
   {
    "duration": 23,
    "start_time": "2022-06-22T15:14:50.524Z"
   },
   {
    "duration": 23,
    "start_time": "2022-06-22T15:14:50.551Z"
   },
   {
    "duration": 21,
    "start_time": "2022-06-22T15:14:50.576Z"
   },
   {
    "duration": 19,
    "start_time": "2022-06-22T15:14:50.599Z"
   },
   {
    "duration": 28,
    "start_time": "2022-06-22T15:14:50.619Z"
   },
   {
    "duration": 40,
    "start_time": "2022-06-22T15:14:50.649Z"
   },
   {
    "duration": 7,
    "start_time": "2022-06-22T15:14:50.690Z"
   },
   {
    "duration": 11,
    "start_time": "2022-06-22T15:14:50.698Z"
   },
   {
    "duration": 3,
    "start_time": "2022-06-22T15:14:50.711Z"
   },
   {
    "duration": 41,
    "start_time": "2022-06-22T15:14:50.715Z"
   },
   {
    "duration": 17,
    "start_time": "2022-06-22T15:14:50.759Z"
   },
   {
    "duration": 19,
    "start_time": "2022-06-22T15:14:50.778Z"
   },
   {
    "duration": 22,
    "start_time": "2022-06-22T15:14:50.799Z"
   },
   {
    "duration": 16,
    "start_time": "2022-06-22T15:14:50.823Z"
   },
   {
    "duration": 36,
    "start_time": "2022-06-22T15:14:50.841Z"
   },
   {
    "duration": 12,
    "start_time": "2022-06-22T15:14:50.879Z"
   },
   {
    "duration": 13,
    "start_time": "2022-06-22T15:14:50.893Z"
   },
   {
    "duration": 33,
    "start_time": "2022-06-22T15:14:50.908Z"
   },
   {
    "duration": 9,
    "start_time": "2022-06-22T15:14:50.952Z"
   },
   {
    "duration": 31,
    "start_time": "2022-06-22T15:14:50.964Z"
   },
   {
    "duration": 15,
    "start_time": "2022-06-22T15:14:50.997Z"
   },
   {
    "duration": 7,
    "start_time": "2022-06-22T15:14:51.014Z"
   },
   {
    "duration": 37,
    "start_time": "2022-06-22T15:14:51.028Z"
   },
   {
    "duration": 33,
    "start_time": "2022-06-22T15:14:51.070Z"
   },
   {
    "duration": 16,
    "start_time": "2022-06-22T15:14:51.105Z"
   },
   {
    "duration": 3,
    "start_time": "2022-06-22T15:14:51.122Z"
   },
   {
    "duration": 48,
    "start_time": "2022-06-22T15:14:51.133Z"
   },
   {
    "duration": 34,
    "start_time": "2022-06-22T15:14:51.183Z"
   },
   {
    "duration": 50,
    "start_time": "2022-06-22T15:14:51.219Z"
   },
   {
    "duration": 25,
    "start_time": "2022-06-22T15:14:51.272Z"
   },
   {
    "duration": 12,
    "start_time": "2022-06-22T15:14:51.299Z"
   },
   {
    "duration": 20,
    "start_time": "2022-06-22T15:14:51.312Z"
   },
   {
    "duration": 36,
    "start_time": "2022-06-22T15:14:51.342Z"
   },
   {
    "duration": 11,
    "start_time": "2022-06-22T15:14:51.381Z"
   },
   {
    "duration": 17,
    "start_time": "2022-06-22T15:14:51.394Z"
   },
   {
    "duration": 9,
    "start_time": "2022-06-22T15:14:51.412Z"
   },
   {
    "duration": 10,
    "start_time": "2022-06-22T15:16:45.649Z"
   },
   {
    "duration": 18,
    "start_time": "2022-06-22T15:39:02.117Z"
   },
   {
    "duration": 2,
    "start_time": "2022-06-22T15:39:38.092Z"
   },
   {
    "duration": 369,
    "start_time": "2022-06-22T15:39:38.098Z"
   },
   {
    "duration": 18,
    "start_time": "2022-06-22T15:39:38.470Z"
   },
   {
    "duration": 19,
    "start_time": "2022-06-22T15:39:38.490Z"
   },
   {
    "duration": 14,
    "start_time": "2022-06-22T15:39:38.511Z"
   },
   {
    "duration": 42,
    "start_time": "2022-06-22T15:39:38.533Z"
   },
   {
    "duration": 13,
    "start_time": "2022-06-22T15:39:38.577Z"
   },
   {
    "duration": 22,
    "start_time": "2022-06-22T15:39:38.591Z"
   },
   {
    "duration": 22,
    "start_time": "2022-06-22T15:39:38.615Z"
   },
   {
    "duration": 40,
    "start_time": "2022-06-22T15:39:38.638Z"
   },
   {
    "duration": 7,
    "start_time": "2022-06-22T15:39:38.680Z"
   },
   {
    "duration": 20,
    "start_time": "2022-06-22T15:39:38.688Z"
   },
   {
    "duration": 11,
    "start_time": "2022-06-22T15:39:38.710Z"
   },
   {
    "duration": 42,
    "start_time": "2022-06-22T15:39:38.723Z"
   },
   {
    "duration": 9,
    "start_time": "2022-06-22T15:39:38.768Z"
   },
   {
    "duration": 8,
    "start_time": "2022-06-22T15:39:38.778Z"
   },
   {
    "duration": 11,
    "start_time": "2022-06-22T15:39:38.787Z"
   },
   {
    "duration": 7,
    "start_time": "2022-06-22T15:39:38.799Z"
   },
   {
    "duration": 48,
    "start_time": "2022-06-22T15:39:38.808Z"
   },
   {
    "duration": 21,
    "start_time": "2022-06-22T15:39:38.858Z"
   },
   {
    "duration": 15,
    "start_time": "2022-06-22T15:39:38.881Z"
   },
   {
    "duration": 22,
    "start_time": "2022-06-22T15:39:38.898Z"
   },
   {
    "duration": 28,
    "start_time": "2022-06-22T15:39:38.922Z"
   },
   {
    "duration": 27,
    "start_time": "2022-06-22T15:39:38.955Z"
   },
   {
    "duration": 18,
    "start_time": "2022-06-22T15:39:38.984Z"
   },
   {
    "duration": 7,
    "start_time": "2022-06-22T15:39:39.003Z"
   },
   {
    "duration": 12,
    "start_time": "2022-06-22T15:39:39.029Z"
   },
   {
    "duration": 12,
    "start_time": "2022-06-22T15:39:39.048Z"
   },
   {
    "duration": 22,
    "start_time": "2022-06-22T15:39:39.062Z"
   },
   {
    "duration": 6,
    "start_time": "2022-06-22T15:39:39.087Z"
   },
   {
    "duration": 12,
    "start_time": "2022-06-22T15:39:39.095Z"
   },
   {
    "duration": 27,
    "start_time": "2022-06-22T15:39:39.109Z"
   },
   {
    "duration": 8,
    "start_time": "2022-06-22T15:39:39.139Z"
   },
   {
    "duration": 30,
    "start_time": "2022-06-22T15:39:39.149Z"
   },
   {
    "duration": 12,
    "start_time": "2022-06-22T15:39:39.181Z"
   },
   {
    "duration": 13,
    "start_time": "2022-06-22T15:39:39.194Z"
   },
   {
    "duration": 23,
    "start_time": "2022-06-22T15:39:39.208Z"
   },
   {
    "duration": 15,
    "start_time": "2022-06-22T15:39:39.236Z"
   },
   {
    "duration": 27,
    "start_time": "2022-06-22T15:39:39.253Z"
   },
   {
    "duration": 13,
    "start_time": "2022-06-22T15:39:39.281Z"
   },
   {
    "duration": 12,
    "start_time": "2022-06-22T15:39:39.296Z"
   },
   {
    "duration": 21,
    "start_time": "2022-06-22T15:39:39.311Z"
   },
   {
    "duration": 23,
    "start_time": "2022-06-22T15:39:39.336Z"
   },
   {
    "duration": 18,
    "start_time": "2022-06-22T15:39:39.360Z"
   },
   {
    "duration": 3,
    "start_time": "2022-06-22T15:39:39.379Z"
   },
   {
    "duration": 11,
    "start_time": "2022-06-22T15:39:39.383Z"
   },
   {
    "duration": 39,
    "start_time": "2022-06-22T15:39:39.396Z"
   },
   {
    "duration": 29,
    "start_time": "2022-06-22T15:39:39.438Z"
   },
   {
    "duration": 19,
    "start_time": "2022-06-22T15:39:39.468Z"
   },
   {
    "duration": 10,
    "start_time": "2022-06-22T15:39:39.489Z"
   },
   {
    "duration": 6,
    "start_time": "2022-06-22T15:39:39.500Z"
   },
   {
    "duration": 13,
    "start_time": "2022-06-22T15:39:39.526Z"
   },
   {
    "duration": 27,
    "start_time": "2022-06-22T15:39:39.544Z"
   },
   {
    "duration": 8,
    "start_time": "2022-06-22T15:39:39.574Z"
   },
   {
    "duration": 15,
    "start_time": "2022-06-22T15:39:39.584Z"
   },
   {
    "duration": 9,
    "start_time": "2022-06-22T15:39:39.601Z"
   },
   {
    "duration": 7,
    "start_time": "2022-06-22T15:41:02.893Z"
   },
   {
    "duration": 8,
    "start_time": "2022-06-22T15:41:45.286Z"
   },
   {
    "duration": 14,
    "start_time": "2022-06-22T15:42:02.725Z"
   },
   {
    "duration": 9,
    "start_time": "2022-06-22T15:42:08.776Z"
   },
   {
    "duration": 20,
    "start_time": "2022-06-22T15:43:08.057Z"
   },
   {
    "duration": 4,
    "start_time": "2022-06-22T15:46:48.077Z"
   },
   {
    "duration": 9,
    "start_time": "2022-06-22T15:51:38.969Z"
   },
   {
    "duration": 2,
    "start_time": "2022-06-22T15:52:08.992Z"
   },
   {
    "duration": 13,
    "start_time": "2022-06-22T16:01:19.273Z"
   },
   {
    "duration": 1041,
    "start_time": "2022-06-22T16:01:35.574Z"
   },
   {
    "duration": 1057,
    "start_time": "2022-06-22T16:01:56.367Z"
   },
   {
    "duration": 2548,
    "start_time": "2022-06-22T16:02:21.498Z"
   },
   {
    "duration": 22,
    "start_time": "2022-06-22T16:04:53.783Z"
   },
   {
    "duration": 13,
    "start_time": "2022-06-22T16:06:11.388Z"
   },
   {
    "duration": 13,
    "start_time": "2022-06-22T16:06:38.921Z"
   },
   {
    "duration": 10,
    "start_time": "2022-06-22T16:09:12.646Z"
   },
   {
    "duration": 39319,
    "start_time": "2022-06-22T16:09:28.763Z"
   },
   {
    "duration": 27979,
    "start_time": "2022-06-22T16:11:35.329Z"
   },
   {
    "duration": 10,
    "start_time": "2022-06-22T16:16:58.591Z"
   },
   {
    "duration": 9,
    "start_time": "2022-06-22T16:17:21.493Z"
   },
   {
    "duration": 5,
    "start_time": "2022-06-22T16:17:31.339Z"
   },
   {
    "duration": 456,
    "start_time": "2022-06-22T16:17:31.346Z"
   },
   {
    "duration": 13,
    "start_time": "2022-06-22T16:17:31.805Z"
   },
   {
    "duration": 17,
    "start_time": "2022-06-22T16:17:31.820Z"
   },
   {
    "duration": 34,
    "start_time": "2022-06-22T16:17:31.839Z"
   },
   {
    "duration": 17,
    "start_time": "2022-06-22T16:17:31.875Z"
   },
   {
    "duration": 15,
    "start_time": "2022-06-22T16:17:31.893Z"
   },
   {
    "duration": 17,
    "start_time": "2022-06-22T16:17:31.910Z"
   },
   {
    "duration": 40,
    "start_time": "2022-06-22T16:17:31.928Z"
   },
   {
    "duration": 11,
    "start_time": "2022-06-22T16:17:31.970Z"
   },
   {
    "duration": 4,
    "start_time": "2022-06-22T16:17:31.984Z"
   },
   {
    "duration": 23,
    "start_time": "2022-06-22T16:17:31.989Z"
   },
   {
    "duration": 25,
    "start_time": "2022-06-22T16:17:32.013Z"
   },
   {
    "duration": 25,
    "start_time": "2022-06-22T16:17:32.040Z"
   },
   {
    "duration": 12,
    "start_time": "2022-06-22T16:17:32.067Z"
   },
   {
    "duration": 10,
    "start_time": "2022-06-22T16:17:32.081Z"
   },
   {
    "duration": 11,
    "start_time": "2022-06-22T16:17:32.092Z"
   },
   {
    "duration": 9,
    "start_time": "2022-06-22T16:17:32.105Z"
   },
   {
    "duration": 42,
    "start_time": "2022-06-22T16:17:32.116Z"
   },
   {
    "duration": 9,
    "start_time": "2022-06-22T16:17:32.161Z"
   },
   {
    "duration": 19,
    "start_time": "2022-06-22T16:17:32.172Z"
   },
   {
    "duration": 45,
    "start_time": "2022-06-22T16:17:32.193Z"
   },
   {
    "duration": 23,
    "start_time": "2022-06-22T16:17:32.243Z"
   },
   {
    "duration": 19,
    "start_time": "2022-06-22T16:17:32.268Z"
   },
   {
    "duration": 18,
    "start_time": "2022-06-22T16:17:32.289Z"
   },
   {
    "duration": 32,
    "start_time": "2022-06-22T16:17:32.309Z"
   },
   {
    "duration": 10,
    "start_time": "2022-06-22T16:17:32.342Z"
   },
   {
    "duration": 15,
    "start_time": "2022-06-22T16:17:32.354Z"
   },
   {
    "duration": 18,
    "start_time": "2022-06-22T16:17:32.374Z"
   },
   {
    "duration": 8,
    "start_time": "2022-06-22T16:17:32.394Z"
   },
   {
    "duration": 32,
    "start_time": "2022-06-22T16:17:32.404Z"
   },
   {
    "duration": 25,
    "start_time": "2022-06-22T16:17:32.443Z"
   },
   {
    "duration": 8,
    "start_time": "2022-06-22T16:17:32.471Z"
   },
   {
    "duration": 27,
    "start_time": "2022-06-22T16:17:32.481Z"
   },
   {
    "duration": 31,
    "start_time": "2022-06-22T16:17:32.510Z"
   },
   {
    "duration": 13,
    "start_time": "2022-06-22T16:17:32.552Z"
   },
   {
    "duration": 16,
    "start_time": "2022-06-22T16:17:32.567Z"
   },
   {
    "duration": 9,
    "start_time": "2022-06-22T16:17:32.585Z"
   },
   {
    "duration": 25,
    "start_time": "2022-06-22T16:17:32.596Z"
   },
   {
    "duration": 27,
    "start_time": "2022-06-22T16:17:32.623Z"
   },
   {
    "duration": 33,
    "start_time": "2022-06-22T16:17:32.652Z"
   },
   {
    "duration": 23,
    "start_time": "2022-06-22T16:17:32.687Z"
   },
   {
    "duration": 26,
    "start_time": "2022-06-22T16:17:32.712Z"
   },
   {
    "duration": 18,
    "start_time": "2022-06-22T16:17:32.743Z"
   },
   {
    "duration": 9,
    "start_time": "2022-06-22T16:17:32.763Z"
   },
   {
    "duration": 17,
    "start_time": "2022-06-22T16:17:32.774Z"
   },
   {
    "duration": 33,
    "start_time": "2022-06-22T16:17:32.793Z"
   },
   {
    "duration": 30,
    "start_time": "2022-06-22T16:17:32.832Z"
   },
   {
    "duration": 26,
    "start_time": "2022-06-22T16:17:32.864Z"
   },
   {
    "duration": 10,
    "start_time": "2022-06-22T16:17:32.892Z"
   },
   {
    "duration": 5,
    "start_time": "2022-06-22T16:17:32.903Z"
   },
   {
    "duration": 10,
    "start_time": "2022-06-22T16:17:32.909Z"
   },
   {
    "duration": 16,
    "start_time": "2022-06-22T16:17:32.921Z"
   },
   {
    "duration": 33,
    "start_time": "2022-06-22T16:17:32.938Z"
   },
   {
    "duration": 10,
    "start_time": "2022-06-22T16:17:32.973Z"
   },
   {
    "duration": 9,
    "start_time": "2022-06-22T16:17:32.985Z"
   },
   {
    "duration": 23,
    "start_time": "2022-06-22T16:17:32.996Z"
   },
   {
    "duration": 14,
    "start_time": "2022-06-22T16:17:33.021Z"
   },
   {
    "duration": 2682,
    "start_time": "2022-06-22T16:17:33.037Z"
   },
   {
    "duration": 8,
    "start_time": "2022-06-22T16:17:52.747Z"
   },
   {
    "duration": 8,
    "start_time": "2022-06-22T16:18:14.192Z"
   },
   {
    "duration": 20,
    "start_time": "2022-06-22T16:18:34.779Z"
   },
   {
    "duration": 11,
    "start_time": "2022-06-22T16:19:29.756Z"
   },
   {
    "duration": 14,
    "start_time": "2022-06-22T16:20:32.345Z"
   },
   {
    "duration": 8,
    "start_time": "2022-06-22T16:21:45.835Z"
   },
   {
    "duration": 348,
    "start_time": "2022-06-22T16:21:45.845Z"
   },
   {
    "duration": 14,
    "start_time": "2022-06-22T16:21:46.195Z"
   },
   {
    "duration": 10,
    "start_time": "2022-06-22T16:21:46.211Z"
   },
   {
    "duration": 25,
    "start_time": "2022-06-22T16:21:46.222Z"
   },
   {
    "duration": 29,
    "start_time": "2022-06-22T16:21:46.249Z"
   },
   {
    "duration": 11,
    "start_time": "2022-06-22T16:21:46.280Z"
   },
   {
    "duration": 14,
    "start_time": "2022-06-22T16:21:46.292Z"
   },
   {
    "duration": 15,
    "start_time": "2022-06-22T16:21:46.309Z"
   },
   {
    "duration": 43,
    "start_time": "2022-06-22T16:21:46.330Z"
   },
   {
    "duration": 7,
    "start_time": "2022-06-22T16:21:46.375Z"
   },
   {
    "duration": 16,
    "start_time": "2022-06-22T16:21:46.383Z"
   },
   {
    "duration": 18,
    "start_time": "2022-06-22T16:21:46.401Z"
   },
   {
    "duration": 45,
    "start_time": "2022-06-22T16:21:46.421Z"
   },
   {
    "duration": 9,
    "start_time": "2022-06-22T16:21:46.467Z"
   },
   {
    "duration": 6,
    "start_time": "2022-06-22T16:21:46.478Z"
   },
   {
    "duration": 10,
    "start_time": "2022-06-22T16:21:46.486Z"
   },
   {
    "duration": 9,
    "start_time": "2022-06-22T16:21:46.497Z"
   },
   {
    "duration": 38,
    "start_time": "2022-06-22T16:21:46.507Z"
   },
   {
    "duration": 25,
    "start_time": "2022-06-22T16:21:46.547Z"
   },
   {
    "duration": 28,
    "start_time": "2022-06-22T16:21:46.574Z"
   },
   {
    "duration": 34,
    "start_time": "2022-06-22T16:21:46.604Z"
   },
   {
    "duration": 26,
    "start_time": "2022-06-22T16:21:46.640Z"
   },
   {
    "duration": 21,
    "start_time": "2022-06-22T16:21:46.668Z"
   },
   {
    "duration": 17,
    "start_time": "2022-06-22T16:21:46.691Z"
   },
   {
    "duration": 19,
    "start_time": "2022-06-22T16:21:46.709Z"
   },
   {
    "duration": 28,
    "start_time": "2022-06-22T16:21:46.735Z"
   },
   {
    "duration": 7,
    "start_time": "2022-06-22T16:21:46.765Z"
   },
   {
    "duration": 18,
    "start_time": "2022-06-22T16:21:46.773Z"
   },
   {
    "duration": 7,
    "start_time": "2022-06-22T16:21:46.793Z"
   },
   {
    "duration": 12,
    "start_time": "2022-06-22T16:21:46.801Z"
   },
   {
    "duration": 24,
    "start_time": "2022-06-22T16:21:46.815Z"
   },
   {
    "duration": 22,
    "start_time": "2022-06-22T16:21:46.845Z"
   },
   {
    "duration": 13,
    "start_time": "2022-06-22T16:21:46.869Z"
   },
   {
    "duration": 12,
    "start_time": "2022-06-22T16:21:46.884Z"
   },
   {
    "duration": 12,
    "start_time": "2022-06-22T16:21:46.898Z"
   },
   {
    "duration": 32,
    "start_time": "2022-06-22T16:21:46.922Z"
   },
   {
    "duration": 20,
    "start_time": "2022-06-22T16:21:46.955Z"
   },
   {
    "duration": 20,
    "start_time": "2022-06-22T16:21:46.977Z"
   },
   {
    "duration": 14,
    "start_time": "2022-06-22T16:21:46.999Z"
   },
   {
    "duration": 24,
    "start_time": "2022-06-22T16:21:47.015Z"
   },
   {
    "duration": 21,
    "start_time": "2022-06-22T16:21:47.040Z"
   },
   {
    "duration": 23,
    "start_time": "2022-06-22T16:21:47.063Z"
   },
   {
    "duration": 15,
    "start_time": "2022-06-22T16:21:47.087Z"
   },
   {
    "duration": 3,
    "start_time": "2022-06-22T16:21:47.103Z"
   },
   {
    "duration": 23,
    "start_time": "2022-06-22T16:21:47.108Z"
   },
   {
    "duration": 49,
    "start_time": "2022-06-22T16:21:47.135Z"
   },
   {
    "duration": 24,
    "start_time": "2022-06-22T16:21:47.186Z"
   },
   {
    "duration": 28,
    "start_time": "2022-06-22T16:21:47.211Z"
   },
   {
    "duration": 19,
    "start_time": "2022-06-22T16:21:47.240Z"
   },
   {
    "duration": 10,
    "start_time": "2022-06-22T16:21:47.261Z"
   },
   {
    "duration": 13,
    "start_time": "2022-06-22T16:21:47.273Z"
   },
   {
    "duration": 9,
    "start_time": "2022-06-22T16:21:47.287Z"
   },
   {
    "duration": 8,
    "start_time": "2022-06-22T16:21:47.298Z"
   },
   {
    "duration": 24,
    "start_time": "2022-06-22T16:21:47.308Z"
   },
   {
    "duration": 30,
    "start_time": "2022-06-22T16:21:47.335Z"
   },
   {
    "duration": 24,
    "start_time": "2022-06-22T16:21:47.367Z"
   },
   {
    "duration": 9,
    "start_time": "2022-06-22T16:21:47.393Z"
   },
   {
    "duration": 2435,
    "start_time": "2022-06-22T16:21:47.403Z"
   },
   {
    "duration": 38581,
    "start_time": "2022-06-22T16:22:46.362Z"
   },
   {
    "duration": 4,
    "start_time": "2022-06-22T16:50:54.676Z"
   },
   {
    "duration": 4,
    "start_time": "2022-06-22T16:51:08.361Z"
   },
   {
    "duration": 9,
    "start_time": "2022-06-22T16:51:20.354Z"
   },
   {
    "duration": 8,
    "start_time": "2022-06-22T16:51:35.706Z"
   },
   {
    "duration": 6397,
    "start_time": "2022-06-22T16:51:46.687Z"
   },
   {
    "duration": 11485,
    "start_time": "2022-06-22T16:52:15.776Z"
   },
   {
    "duration": 222,
    "start_time": "2022-06-22T16:53:01.639Z"
   },
   {
    "duration": 200,
    "start_time": "2022-06-22T16:53:15.556Z"
   },
   {
    "duration": 178,
    "start_time": "2022-06-22T16:53:30.392Z"
   },
   {
    "duration": 12,
    "start_time": "2022-06-22T16:56:50.213Z"
   },
   {
    "duration": 14,
    "start_time": "2022-06-22T16:56:58.751Z"
   },
   {
    "duration": 9,
    "start_time": "2022-06-22T16:58:01.858Z"
   },
   {
    "duration": 10,
    "start_time": "2022-06-22T16:58:16.458Z"
   },
   {
    "duration": 10,
    "start_time": "2022-06-22T16:58:30.590Z"
   },
   {
    "duration": 11,
    "start_time": "2022-06-22T16:59:37.776Z"
   },
   {
    "duration": 10,
    "start_time": "2022-06-22T16:59:57.692Z"
   },
   {
    "duration": 690,
    "start_time": "2022-06-22T17:14:50.714Z"
   },
   {
    "duration": 984,
    "start_time": "2022-06-22T17:14:51.406Z"
   },
   {
    "duration": 17,
    "start_time": "2022-06-22T17:14:52.392Z"
   },
   {
    "duration": 10,
    "start_time": "2022-06-22T17:14:52.411Z"
   },
   {
    "duration": 44,
    "start_time": "2022-06-22T17:14:52.423Z"
   },
   {
    "duration": 24,
    "start_time": "2022-06-22T17:14:52.468Z"
   },
   {
    "duration": 25,
    "start_time": "2022-06-22T17:14:52.493Z"
   },
   {
    "duration": 47,
    "start_time": "2022-06-22T17:14:52.520Z"
   },
   {
    "duration": 29,
    "start_time": "2022-06-22T17:14:52.569Z"
   },
   {
    "duration": 18,
    "start_time": "2022-06-22T17:14:52.599Z"
   },
   {
    "duration": 13,
    "start_time": "2022-06-22T17:14:52.619Z"
   },
   {
    "duration": 44,
    "start_time": "2022-06-22T17:14:52.633Z"
   },
   {
    "duration": 14,
    "start_time": "2022-06-22T17:14:52.679Z"
   },
   {
    "duration": 12,
    "start_time": "2022-06-22T17:14:52.696Z"
   },
   {
    "duration": 13,
    "start_time": "2022-06-22T17:14:52.710Z"
   },
   {
    "duration": 37,
    "start_time": "2022-06-22T17:14:52.724Z"
   },
   {
    "duration": 19,
    "start_time": "2022-06-22T17:14:52.762Z"
   },
   {
    "duration": 11,
    "start_time": "2022-06-22T17:14:52.782Z"
   },
   {
    "duration": 27,
    "start_time": "2022-06-22T17:14:52.795Z"
   },
   {
    "duration": 9,
    "start_time": "2022-06-22T17:14:52.824Z"
   },
   {
    "duration": 53,
    "start_time": "2022-06-22T17:14:52.841Z"
   },
   {
    "duration": 29,
    "start_time": "2022-06-22T17:14:52.895Z"
   },
   {
    "duration": 32,
    "start_time": "2022-06-22T17:14:52.928Z"
   },
   {
    "duration": 24,
    "start_time": "2022-06-22T17:14:52.963Z"
   },
   {
    "duration": 18,
    "start_time": "2022-06-22T17:14:52.989Z"
   },
   {
    "duration": 22,
    "start_time": "2022-06-22T17:14:53.009Z"
   },
   {
    "duration": 7,
    "start_time": "2022-06-22T17:14:53.032Z"
   },
   {
    "duration": 25,
    "start_time": "2022-06-22T17:14:53.040Z"
   },
   {
    "duration": 18,
    "start_time": "2022-06-22T17:14:53.067Z"
   },
   {
    "duration": 7,
    "start_time": "2022-06-22T17:14:53.087Z"
   },
   {
    "duration": 15,
    "start_time": "2022-06-22T17:14:53.096Z"
   },
   {
    "duration": 21,
    "start_time": "2022-06-22T17:14:53.113Z"
   },
   {
    "duration": 34,
    "start_time": "2022-06-22T17:14:53.138Z"
   },
   {
    "duration": 20,
    "start_time": "2022-06-22T17:14:53.174Z"
   },
   {
    "duration": 12,
    "start_time": "2022-06-22T17:14:53.195Z"
   },
   {
    "duration": 16,
    "start_time": "2022-06-22T17:14:53.208Z"
   },
   {
    "duration": 33,
    "start_time": "2022-06-22T17:14:53.226Z"
   },
   {
    "duration": 16,
    "start_time": "2022-06-22T17:14:53.261Z"
   },
   {
    "duration": 23,
    "start_time": "2022-06-22T17:14:53.279Z"
   },
   {
    "duration": 13,
    "start_time": "2022-06-22T17:14:53.304Z"
   },
   {
    "duration": 43,
    "start_time": "2022-06-22T17:14:53.321Z"
   },
   {
    "duration": 20,
    "start_time": "2022-06-22T17:14:53.366Z"
   },
   {
    "duration": 15,
    "start_time": "2022-06-22T17:14:53.387Z"
   },
   {
    "duration": 15,
    "start_time": "2022-06-22T17:14:53.404Z"
   },
   {
    "duration": 3,
    "start_time": "2022-06-22T17:14:53.421Z"
   },
   {
    "duration": 47,
    "start_time": "2022-06-22T17:14:53.426Z"
   },
   {
    "duration": 29,
    "start_time": "2022-06-22T17:14:53.475Z"
   },
   {
    "duration": 39,
    "start_time": "2022-06-22T17:14:53.506Z"
   },
   {
    "duration": 26,
    "start_time": "2022-06-22T17:14:53.554Z"
   },
   {
    "duration": 12,
    "start_time": "2022-06-22T17:14:53.582Z"
   },
   {
    "duration": 9,
    "start_time": "2022-06-22T17:14:53.596Z"
   },
   {
    "duration": 35,
    "start_time": "2022-06-22T17:14:53.606Z"
   },
   {
    "duration": 16,
    "start_time": "2022-06-22T17:14:53.651Z"
   },
   {
    "duration": 8,
    "start_time": "2022-06-22T17:14:53.669Z"
   },
   {
    "duration": 11,
    "start_time": "2022-06-22T17:14:53.678Z"
   },
   {
    "duration": 12,
    "start_time": "2022-06-22T17:14:53.691Z"
   },
   {
    "duration": 40,
    "start_time": "2022-06-22T17:14:53.705Z"
   },
   {
    "duration": 12,
    "start_time": "2022-06-22T17:14:53.746Z"
   },
   {
    "duration": 2467,
    "start_time": "2022-06-22T17:14:53.759Z"
   },
   {
    "duration": 10,
    "start_time": "2022-06-22T17:14:56.229Z"
   },
   {
    "duration": 18140,
    "start_time": "2022-06-22T17:15:03.078Z"
   },
   {
    "duration": 96,
    "start_time": "2022-06-22T17:19:13.362Z"
   },
   {
    "duration": 24,
    "start_time": "2022-06-22T17:19:29.460Z"
   },
   {
    "duration": 5,
    "start_time": "2022-06-22T17:19:34.151Z"
   },
   {
    "duration": 346,
    "start_time": "2022-06-22T17:19:34.158Z"
   },
   {
    "duration": 13,
    "start_time": "2022-06-22T17:19:34.506Z"
   },
   {
    "duration": 16,
    "start_time": "2022-06-22T17:19:34.521Z"
   },
   {
    "duration": 41,
    "start_time": "2022-06-22T17:19:34.540Z"
   },
   {
    "duration": 14,
    "start_time": "2022-06-22T17:19:34.583Z"
   },
   {
    "duration": 17,
    "start_time": "2022-06-22T17:19:34.599Z"
   },
   {
    "duration": 23,
    "start_time": "2022-06-22T17:19:34.618Z"
   },
   {
    "duration": 35,
    "start_time": "2022-06-22T17:19:34.642Z"
   },
   {
    "duration": 21,
    "start_time": "2022-06-22T17:19:34.679Z"
   },
   {
    "duration": 19,
    "start_time": "2022-06-22T17:19:34.702Z"
   },
   {
    "duration": 50,
    "start_time": "2022-06-22T17:19:34.723Z"
   },
   {
    "duration": 14,
    "start_time": "2022-06-22T17:19:34.775Z"
   },
   {
    "duration": 4,
    "start_time": "2022-06-22T17:19:34.792Z"
   },
   {
    "duration": 9,
    "start_time": "2022-06-22T17:19:34.798Z"
   },
   {
    "duration": 9,
    "start_time": "2022-06-22T17:19:34.808Z"
   },
   {
    "duration": 16,
    "start_time": "2022-06-22T17:19:34.818Z"
   },
   {
    "duration": 29,
    "start_time": "2022-06-22T17:19:34.836Z"
   },
   {
    "duration": 28,
    "start_time": "2022-06-22T17:19:34.867Z"
   },
   {
    "duration": 9,
    "start_time": "2022-06-22T17:19:34.896Z"
   },
   {
    "duration": 40,
    "start_time": "2022-06-22T17:19:34.907Z"
   },
   {
    "duration": 23,
    "start_time": "2022-06-22T17:19:34.953Z"
   },
   {
    "duration": 19,
    "start_time": "2022-06-22T17:19:34.978Z"
   },
   {
    "duration": 19,
    "start_time": "2022-06-22T17:19:34.998Z"
   },
   {
    "duration": 34,
    "start_time": "2022-06-22T17:19:35.026Z"
   },
   {
    "duration": 11,
    "start_time": "2022-06-22T17:19:35.062Z"
   },
   {
    "duration": 7,
    "start_time": "2022-06-22T17:19:35.075Z"
   },
   {
    "duration": 10,
    "start_time": "2022-06-22T17:19:35.084Z"
   },
   {
    "duration": 39,
    "start_time": "2022-06-22T17:19:35.096Z"
   },
   {
    "duration": 9,
    "start_time": "2022-06-22T17:19:35.136Z"
   },
   {
    "duration": 19,
    "start_time": "2022-06-22T17:19:35.150Z"
   },
   {
    "duration": 14,
    "start_time": "2022-06-22T17:19:35.170Z"
   },
   {
    "duration": 10,
    "start_time": "2022-06-22T17:19:35.185Z"
   },
   {
    "duration": 18,
    "start_time": "2022-06-22T17:19:35.197Z"
   },
   {
    "duration": 20,
    "start_time": "2022-06-22T17:19:35.217Z"
   },
   {
    "duration": 20,
    "start_time": "2022-06-22T17:19:35.240Z"
   },
   {
    "duration": 30,
    "start_time": "2022-06-22T17:19:35.262Z"
   },
   {
    "duration": 9,
    "start_time": "2022-06-22T17:19:35.294Z"
   },
   {
    "duration": 33,
    "start_time": "2022-06-22T17:19:35.305Z"
   },
   {
    "duration": 19,
    "start_time": "2022-06-22T17:19:35.348Z"
   },
   {
    "duration": 8,
    "start_time": "2022-06-22T17:19:35.371Z"
   },
   {
    "duration": 21,
    "start_time": "2022-06-22T17:19:35.381Z"
   },
   {
    "duration": 51,
    "start_time": "2022-06-22T17:19:35.404Z"
   },
   {
    "duration": 16,
    "start_time": "2022-06-22T17:19:35.459Z"
   },
   {
    "duration": 3,
    "start_time": "2022-06-22T17:19:35.477Z"
   },
   {
    "duration": 16,
    "start_time": "2022-06-22T17:19:35.482Z"
   },
   {
    "duration": 41,
    "start_time": "2022-06-22T17:19:35.500Z"
   },
   {
    "duration": 31,
    "start_time": "2022-06-22T17:19:35.542Z"
   },
   {
    "duration": 18,
    "start_time": "2022-06-22T17:19:35.575Z"
   },
   {
    "duration": 35,
    "start_time": "2022-06-22T17:19:35.594Z"
   },
   {
    "duration": 31,
    "start_time": "2022-06-22T17:19:35.637Z"
   },
   {
    "duration": 18,
    "start_time": "2022-06-22T17:19:35.669Z"
   },
   {
    "duration": 16,
    "start_time": "2022-06-22T17:19:35.690Z"
   },
   {
    "duration": 12,
    "start_time": "2022-06-22T17:19:35.708Z"
   },
   {
    "duration": 14,
    "start_time": "2022-06-22T17:19:35.721Z"
   },
   {
    "duration": 32,
    "start_time": "2022-06-22T17:19:35.738Z"
   },
   {
    "duration": 27,
    "start_time": "2022-06-22T17:19:35.772Z"
   },
   {
    "duration": 9,
    "start_time": "2022-06-22T17:19:35.801Z"
   },
   {
    "duration": 2410,
    "start_time": "2022-06-22T17:19:35.812Z"
   },
   {
    "duration": 16,
    "start_time": "2022-06-22T17:19:38.228Z"
   },
   {
    "duration": 15,
    "start_time": "2022-06-22T17:19:45.504Z"
   },
   {
    "duration": 18,
    "start_time": "2022-06-22T17:21:22.712Z"
   },
   {
    "duration": 19003,
    "start_time": "2022-06-22T17:21:36.052Z"
   },
   {
    "duration": 20352,
    "start_time": "2022-06-22T17:27:34.609Z"
   },
   {
    "duration": 20,
    "start_time": "2022-06-22T17:28:46.563Z"
   },
   {
    "duration": 21,
    "start_time": "2022-06-22T17:29:09.324Z"
   },
   {
    "duration": 27,
    "start_time": "2022-06-22T17:29:17.712Z"
   },
   {
    "duration": 19,
    "start_time": "2022-06-22T17:29:33.813Z"
   },
   {
    "duration": 1092,
    "start_time": "2022-06-22T18:11:29.537Z"
   },
   {
    "duration": 1033,
    "start_time": "2022-06-22T18:11:53.574Z"
   },
   {
    "duration": 13,
    "start_time": "2022-06-22T18:12:06.182Z"
   },
   {
    "duration": 19,
    "start_time": "2022-06-22T18:13:30.783Z"
   },
   {
    "duration": 17,
    "start_time": "2022-06-22T18:13:36.955Z"
   },
   {
    "duration": 11,
    "start_time": "2022-06-22T18:14:09.413Z"
   },
   {
    "duration": 27,
    "start_time": "2022-06-22T18:15:18.919Z"
   },
   {
    "duration": 84,
    "start_time": "2022-06-22T18:15:48.525Z"
   },
   {
    "duration": 1589,
    "start_time": "2022-06-22T18:15:54.588Z"
   },
   {
    "duration": 14,
    "start_time": "2022-06-22T18:16:20.957Z"
   },
   {
    "duration": 10,
    "start_time": "2022-06-22T18:26:49.117Z"
   },
   {
    "duration": 135,
    "start_time": "2022-06-22T18:26:58.954Z"
   },
   {
    "duration": 135,
    "start_time": "2022-06-22T18:27:37.488Z"
   },
   {
    "duration": 772,
    "start_time": "2022-06-22T18:28:34.657Z"
   },
   {
    "duration": 10,
    "start_time": "2022-06-22T18:28:47.111Z"
   },
   {
    "duration": 137,
    "start_time": "2022-06-22T18:29:19.080Z"
   },
   {
    "duration": 12,
    "start_time": "2022-06-22T18:29:41.697Z"
   },
   {
    "duration": 135,
    "start_time": "2022-06-22T18:32:27.374Z"
   },
   {
    "duration": 14878,
    "start_time": "2022-06-22T18:32:45.940Z"
   },
   {
    "duration": 210,
    "start_time": "2022-06-22T18:33:19.857Z"
   },
   {
    "duration": 215,
    "start_time": "2022-06-22T18:33:38.457Z"
   },
   {
    "duration": 121,
    "start_time": "2022-06-22T18:33:59.775Z"
   },
   {
    "duration": 13,
    "start_time": "2022-06-22T18:37:26.494Z"
   },
   {
    "duration": 10,
    "start_time": "2022-06-22T18:37:33.482Z"
   },
   {
    "duration": 16,
    "start_time": "2022-06-22T18:37:47.127Z"
   },
   {
    "duration": 8,
    "start_time": "2022-06-22T18:37:51.058Z"
   },
   {
    "duration": 7,
    "start_time": "2022-06-22T18:37:57.844Z"
   },
   {
    "duration": 9,
    "start_time": "2022-06-22T18:38:03.246Z"
   },
   {
    "duration": 9,
    "start_time": "2022-06-22T18:38:25.245Z"
   },
   {
    "duration": 838,
    "start_time": "2022-06-22T18:38:45.792Z"
   },
   {
    "duration": 150,
    "start_time": "2022-06-22T18:38:52.293Z"
   },
   {
    "duration": 130,
    "start_time": "2022-06-22T18:40:28.913Z"
   },
   {
    "duration": 10,
    "start_time": "2022-06-22T18:40:43.396Z"
   },
   {
    "duration": 90,
    "start_time": "2022-06-22T18:41:01.215Z"
   },
   {
    "duration": 15,
    "start_time": "2022-06-22T18:42:16.029Z"
   },
   {
    "duration": 116,
    "start_time": "2022-06-22T18:43:14.876Z"
   },
   {
    "duration": 14,
    "start_time": "2022-06-22T18:46:53.249Z"
   },
   {
    "duration": 10,
    "start_time": "2022-06-22T18:47:00.695Z"
   },
   {
    "duration": 474,
    "start_time": "2022-06-22T18:47:20.943Z"
   },
   {
    "duration": 14,
    "start_time": "2022-06-22T19:08:54.837Z"
   },
   {
    "duration": 119,
    "start_time": "2022-06-22T19:09:02.077Z"
   },
   {
    "duration": 58,
    "start_time": "2022-06-23T14:38:28.701Z"
   },
   {
    "duration": 997,
    "start_time": "2022-06-23T14:38:35.429Z"
   },
   {
    "duration": 974,
    "start_time": "2022-06-23T14:38:36.428Z"
   },
   {
    "duration": 31,
    "start_time": "2022-06-23T14:38:37.404Z"
   },
   {
    "duration": 24,
    "start_time": "2022-06-23T14:38:37.437Z"
   },
   {
    "duration": 32,
    "start_time": "2022-06-23T14:38:37.467Z"
   },
   {
    "duration": 14,
    "start_time": "2022-06-23T14:38:37.502Z"
   },
   {
    "duration": 15,
    "start_time": "2022-06-23T14:38:37.518Z"
   },
   {
    "duration": 50,
    "start_time": "2022-06-23T14:38:37.535Z"
   },
   {
    "duration": 20,
    "start_time": "2022-06-23T14:38:37.587Z"
   },
   {
    "duration": 10,
    "start_time": "2022-06-23T14:38:37.609Z"
   },
   {
    "duration": 6,
    "start_time": "2022-06-23T14:38:37.621Z"
   },
   {
    "duration": 25,
    "start_time": "2022-06-23T14:38:37.629Z"
   },
   {
    "duration": 41,
    "start_time": "2022-06-23T14:38:37.658Z"
   },
   {
    "duration": 12,
    "start_time": "2022-06-23T14:38:37.703Z"
   },
   {
    "duration": 16,
    "start_time": "2022-06-23T14:38:37.717Z"
   },
   {
    "duration": 49,
    "start_time": "2022-06-23T14:38:37.735Z"
   },
   {
    "duration": 9,
    "start_time": "2022-06-23T14:38:37.786Z"
   },
   {
    "duration": 7,
    "start_time": "2022-06-23T14:38:37.797Z"
   },
   {
    "duration": 23,
    "start_time": "2022-06-23T14:38:37.806Z"
   },
   {
    "duration": 8,
    "start_time": "2022-06-23T14:38:37.831Z"
   },
   {
    "duration": 45,
    "start_time": "2022-06-23T14:38:37.844Z"
   },
   {
    "duration": 25,
    "start_time": "2022-06-23T14:38:37.892Z"
   },
   {
    "duration": 21,
    "start_time": "2022-06-23T14:38:37.919Z"
   },
   {
    "duration": 32,
    "start_time": "2022-06-23T14:38:37.942Z"
   },
   {
    "duration": 22,
    "start_time": "2022-06-23T14:38:37.976Z"
   },
   {
    "duration": 7,
    "start_time": "2022-06-23T14:38:38.000Z"
   },
   {
    "duration": 9,
    "start_time": "2022-06-23T14:38:38.009Z"
   },
   {
    "duration": 24,
    "start_time": "2022-06-23T14:38:38.020Z"
   },
   {
    "duration": 36,
    "start_time": "2022-06-23T14:38:38.050Z"
   },
   {
    "duration": 12,
    "start_time": "2022-06-23T14:38:38.088Z"
   },
   {
    "duration": 13,
    "start_time": "2022-06-23T14:38:38.101Z"
   },
   {
    "duration": 33,
    "start_time": "2022-06-23T14:38:38.116Z"
   },
   {
    "duration": 12,
    "start_time": "2022-06-23T14:38:38.150Z"
   },
   {
    "duration": 35,
    "start_time": "2022-06-23T14:38:38.164Z"
   },
   {
    "duration": 14,
    "start_time": "2022-06-23T14:38:38.201Z"
   },
   {
    "duration": 13,
    "start_time": "2022-06-23T14:38:38.217Z"
   },
   {
    "duration": 27,
    "start_time": "2022-06-23T14:38:38.233Z"
   },
   {
    "duration": 31,
    "start_time": "2022-06-23T14:38:38.262Z"
   },
   {
    "duration": 22,
    "start_time": "2022-06-23T14:38:38.295Z"
   },
   {
    "duration": 15,
    "start_time": "2022-06-23T14:38:38.318Z"
   },
   {
    "duration": 9,
    "start_time": "2022-06-23T14:38:38.337Z"
   },
   {
    "duration": 32,
    "start_time": "2022-06-23T14:38:38.359Z"
   },
   {
    "duration": 17,
    "start_time": "2022-06-23T14:38:38.393Z"
   },
   {
    "duration": 16,
    "start_time": "2022-06-23T14:38:38.411Z"
   },
   {
    "duration": 3,
    "start_time": "2022-06-23T14:38:38.429Z"
   },
   {
    "duration": 24,
    "start_time": "2022-06-23T14:38:38.434Z"
   },
   {
    "duration": 45,
    "start_time": "2022-06-23T14:38:38.460Z"
   },
   {
    "duration": 30,
    "start_time": "2022-06-23T14:38:38.507Z"
   },
   {
    "duration": 36,
    "start_time": "2022-06-23T14:38:38.538Z"
   },
   {
    "duration": 13,
    "start_time": "2022-06-23T14:38:38.576Z"
   },
   {
    "duration": 13,
    "start_time": "2022-06-23T14:38:38.591Z"
   },
   {
    "duration": 24,
    "start_time": "2022-06-23T14:38:38.608Z"
   },
   {
    "duration": 12,
    "start_time": "2022-06-23T14:38:38.633Z"
   },
   {
    "duration": 35,
    "start_time": "2022-06-23T14:38:38.650Z"
   },
   {
    "duration": 8,
    "start_time": "2022-06-23T14:38:38.687Z"
   },
   {
    "duration": 14,
    "start_time": "2022-06-23T14:38:38.697Z"
   },
   {
    "duration": 22,
    "start_time": "2022-06-23T14:38:38.713Z"
   },
   {
    "duration": 22,
    "start_time": "2022-06-23T14:38:38.737Z"
   },
   {
    "duration": 2587,
    "start_time": "2022-06-23T14:38:38.764Z"
   },
   {
    "duration": 15,
    "start_time": "2022-06-23T14:38:41.361Z"
   },
   {
    "duration": 13,
    "start_time": "2022-06-23T14:38:41.378Z"
   },
   {
    "duration": 92,
    "start_time": "2022-06-23T14:41:18.806Z"
   },
   {
    "duration": 36,
    "start_time": "2022-06-23T14:41:38.291Z"
   },
   {
    "duration": 314,
    "start_time": "2022-06-23T14:42:27.476Z"
   },
   {
    "duration": 301,
    "start_time": "2022-06-23T14:48:28.989Z"
   },
   {
    "duration": 188,
    "start_time": "2022-06-23T14:49:26.685Z"
   },
   {
    "duration": 399,
    "start_time": "2022-06-23T14:49:37.913Z"
   },
   {
    "duration": 202,
    "start_time": "2022-06-23T14:50:16.880Z"
   },
   {
    "duration": 167,
    "start_time": "2022-06-23T14:50:21.402Z"
   },
   {
    "duration": 323,
    "start_time": "2022-06-23T14:50:52.937Z"
   },
   {
    "duration": 21,
    "start_time": "2022-06-23T14:53:55.065Z"
   },
   {
    "duration": 15,
    "start_time": "2022-06-23T14:54:02.286Z"
   },
   {
    "duration": 34,
    "start_time": "2022-06-23T14:54:09.681Z"
   },
   {
    "duration": 60,
    "start_time": "2022-06-23T15:01:37.698Z"
   },
   {
    "duration": 26,
    "start_time": "2022-06-23T15:01:49.128Z"
   },
   {
    "duration": 557,
    "start_time": "2022-06-23T15:01:56.739Z"
   },
   {
    "duration": 30,
    "start_time": "2022-06-23T15:02:23.592Z"
   },
   {
    "duration": 40,
    "start_time": "2022-06-23T15:02:28.429Z"
   },
   {
    "duration": 45,
    "start_time": "2022-06-23T15:02:41.731Z"
   },
   {
    "duration": 57,
    "start_time": "2022-06-23T15:02:50.524Z"
   },
   {
    "duration": 10,
    "start_time": "2022-06-23T15:06:39.611Z"
   },
   {
    "duration": 16,
    "start_time": "2022-06-23T15:06:46.810Z"
   },
   {
    "duration": 22,
    "start_time": "2022-06-23T15:06:57.308Z"
   },
   {
    "duration": 159,
    "start_time": "2022-06-23T15:10:40.668Z"
   },
   {
    "duration": 21,
    "start_time": "2022-06-23T15:11:18.789Z"
   },
   {
    "duration": 21,
    "start_time": "2022-06-23T15:11:36.879Z"
   },
   {
    "duration": 25,
    "start_time": "2022-06-23T15:13:58.272Z"
   },
   {
    "duration": 325,
    "start_time": "2022-06-23T15:14:21.677Z"
   },
   {
    "duration": 358,
    "start_time": "2022-06-23T15:14:54.514Z"
   },
   {
    "duration": 398,
    "start_time": "2022-06-23T15:15:50.626Z"
   },
   {
    "duration": 66,
    "start_time": "2022-06-23T15:16:40.596Z"
   },
   {
    "duration": 83,
    "start_time": "2022-06-23T15:17:43.464Z"
   },
   {
    "duration": 17,
    "start_time": "2022-06-23T15:17:44.304Z"
   },
   {
    "duration": 157,
    "start_time": "2022-06-23T15:20:32.018Z"
   },
   {
    "duration": 12,
    "start_time": "2022-06-23T15:21:45.889Z"
   },
   {
    "duration": 28,
    "start_time": "2022-06-23T15:23:29.205Z"
   },
   {
    "duration": 456,
    "start_time": "2022-06-23T15:24:24.116Z"
   },
   {
    "duration": 9,
    "start_time": "2022-06-23T15:26:01.598Z"
   },
   {
    "duration": 571,
    "start_time": "2022-06-23T15:26:21.196Z"
   },
   {
    "duration": 50,
    "start_time": "2022-06-23T15:28:05.188Z"
   },
   {
    "duration": 3,
    "start_time": "2022-06-23T15:49:17.630Z"
   },
   {
    "duration": 400,
    "start_time": "2022-06-23T15:49:17.638Z"
   },
   {
    "duration": 20,
    "start_time": "2022-06-23T15:49:18.041Z"
   },
   {
    "duration": 26,
    "start_time": "2022-06-23T15:49:18.064Z"
   },
   {
    "duration": 30,
    "start_time": "2022-06-23T15:49:18.092Z"
   },
   {
    "duration": 38,
    "start_time": "2022-06-23T15:49:18.125Z"
   },
   {
    "duration": 27,
    "start_time": "2022-06-23T15:49:18.173Z"
   },
   {
    "duration": 16,
    "start_time": "2022-06-23T15:49:18.202Z"
   },
   {
    "duration": 13,
    "start_time": "2022-06-23T15:49:18.219Z"
   },
   {
    "duration": 19,
    "start_time": "2022-06-23T15:49:18.234Z"
   },
   {
    "duration": 34,
    "start_time": "2022-06-23T15:49:18.255Z"
   },
   {
    "duration": 14,
    "start_time": "2022-06-23T15:49:18.291Z"
   },
   {
    "duration": 17,
    "start_time": "2022-06-23T15:49:18.307Z"
   },
   {
    "duration": 8,
    "start_time": "2022-06-23T15:49:18.326Z"
   },
   {
    "duration": 42,
    "start_time": "2022-06-23T15:49:18.337Z"
   },
   {
    "duration": 10,
    "start_time": "2022-06-23T15:49:18.381Z"
   },
   {
    "duration": 10,
    "start_time": "2022-06-23T15:49:18.393Z"
   },
   {
    "duration": 7,
    "start_time": "2022-06-23T15:49:18.405Z"
   },
   {
    "duration": 20,
    "start_time": "2022-06-23T15:49:18.414Z"
   },
   {
    "duration": 21,
    "start_time": "2022-06-23T15:49:18.436Z"
   },
   {
    "duration": 44,
    "start_time": "2022-06-23T15:49:18.459Z"
   },
   {
    "duration": 35,
    "start_time": "2022-06-23T15:49:18.505Z"
   },
   {
    "duration": 27,
    "start_time": "2022-06-23T15:49:18.544Z"
   },
   {
    "duration": 32,
    "start_time": "2022-06-23T15:49:18.573Z"
   },
   {
    "duration": 20,
    "start_time": "2022-06-23T15:49:18.607Z"
   },
   {
    "duration": 22,
    "start_time": "2022-06-23T15:49:18.629Z"
   },
   {
    "duration": 39,
    "start_time": "2022-06-23T15:49:18.653Z"
   },
   {
    "duration": 3,
    "start_time": "2022-06-23T15:49:18.694Z"
   },
   {
    "duration": 19,
    "start_time": "2022-06-23T15:49:18.699Z"
   },
   {
    "duration": 7,
    "start_time": "2022-06-23T15:49:18.720Z"
   },
   {
    "duration": 28,
    "start_time": "2022-06-23T15:49:18.728Z"
   },
   {
    "duration": 35,
    "start_time": "2022-06-23T15:49:18.761Z"
   },
   {
    "duration": 6,
    "start_time": "2022-06-23T15:49:18.798Z"
   },
   {
    "duration": 15,
    "start_time": "2022-06-23T15:49:18.805Z"
   },
   {
    "duration": 14,
    "start_time": "2022-06-23T15:49:18.822Z"
   },
   {
    "duration": 25,
    "start_time": "2022-06-23T15:49:18.838Z"
   },
   {
    "duration": 45,
    "start_time": "2022-06-23T15:49:18.868Z"
   },
   {
    "duration": 10,
    "start_time": "2022-06-23T15:49:18.914Z"
   },
   {
    "duration": 34,
    "start_time": "2022-06-23T15:49:18.925Z"
   },
   {
    "duration": 28,
    "start_time": "2022-06-23T15:49:18.960Z"
   },
   {
    "duration": 9,
    "start_time": "2022-06-23T15:49:18.990Z"
   },
   {
    "duration": 18,
    "start_time": "2022-06-23T15:49:19.003Z"
   },
   {
    "duration": 36,
    "start_time": "2022-06-23T15:49:19.022Z"
   },
   {
    "duration": 22,
    "start_time": "2022-06-23T15:49:19.064Z"
   },
   {
    "duration": 5,
    "start_time": "2022-06-23T15:49:19.088Z"
   },
   {
    "duration": 16,
    "start_time": "2022-06-23T15:49:19.094Z"
   },
   {
    "duration": 44,
    "start_time": "2022-06-23T15:49:19.112Z"
   },
   {
    "duration": 34,
    "start_time": "2022-06-23T15:49:19.159Z"
   },
   {
    "duration": 20,
    "start_time": "2022-06-23T15:49:19.194Z"
   },
   {
    "duration": 12,
    "start_time": "2022-06-23T15:49:19.215Z"
   },
   {
    "duration": 27,
    "start_time": "2022-06-23T15:49:19.228Z"
   },
   {
    "duration": 36,
    "start_time": "2022-06-23T15:49:19.257Z"
   },
   {
    "duration": 9,
    "start_time": "2022-06-23T15:49:19.295Z"
   },
   {
    "duration": 9,
    "start_time": "2022-06-23T15:49:19.306Z"
   },
   {
    "duration": 10,
    "start_time": "2022-06-23T15:49:19.318Z"
   },
   {
    "duration": 14,
    "start_time": "2022-06-23T15:49:19.330Z"
   },
   {
    "duration": 44,
    "start_time": "2022-06-23T15:49:19.351Z"
   },
   {
    "duration": 10,
    "start_time": "2022-06-23T15:49:19.397Z"
   },
   {
    "duration": 2800,
    "start_time": "2022-06-23T15:49:30.499Z"
   },
   {
    "duration": 11,
    "start_time": "2022-06-23T15:49:54.283Z"
   },
   {
    "duration": 8,
    "start_time": "2022-06-23T15:50:00.581Z"
   },
   {
    "duration": 12,
    "start_time": "2022-06-23T15:50:14.632Z"
   },
   {
    "duration": 6,
    "start_time": "2022-06-23T15:50:37.285Z"
   },
   {
    "duration": 6,
    "start_time": "2022-06-23T15:50:57.797Z"
   },
   {
    "duration": 6,
    "start_time": "2022-06-23T15:51:43.184Z"
   },
   {
    "duration": 8,
    "start_time": "2022-06-23T15:51:59.516Z"
   },
   {
    "duration": 12,
    "start_time": "2022-06-23T15:52:04.879Z"
   },
   {
    "duration": 1546,
    "start_time": "2022-06-23T15:52:19.436Z"
   },
   {
    "duration": 9,
    "start_time": "2022-06-23T15:53:46.893Z"
   },
   {
    "duration": 10,
    "start_time": "2022-06-23T15:54:09.728Z"
   },
   {
    "duration": 19,
    "start_time": "2022-06-23T15:54:17.545Z"
   },
   {
    "duration": 12,
    "start_time": "2022-06-23T15:54:31.568Z"
   },
   {
    "duration": 7,
    "start_time": "2022-06-23T15:54:36.300Z"
   },
   {
    "duration": 19,
    "start_time": "2022-06-23T15:54:44.563Z"
   },
   {
    "duration": 11,
    "start_time": "2022-06-23T15:54:52.785Z"
   },
   {
    "duration": 11,
    "start_time": "2022-06-23T15:55:36.020Z"
   },
   {
    "duration": 14,
    "start_time": "2022-06-23T15:55:41.570Z"
   },
   {
    "duration": 289,
    "start_time": "2022-06-23T16:08:27.414Z"
   },
   {
    "duration": 409,
    "start_time": "2022-06-23T16:11:56.351Z"
   },
   {
    "duration": 12,
    "start_time": "2022-06-23T16:20:59.659Z"
   },
   {
    "duration": 402,
    "start_time": "2022-06-23T16:21:22.099Z"
   },
   {
    "duration": 66,
    "start_time": "2022-06-23T16:22:03.031Z"
   },
   {
    "duration": 18,
    "start_time": "2022-06-23T16:23:06.128Z"
   },
   {
    "duration": 665,
    "start_time": "2022-06-24T11:03:14.443Z"
   },
   {
    "duration": 771,
    "start_time": "2022-06-24T11:03:15.109Z"
   },
   {
    "duration": 16,
    "start_time": "2022-06-24T11:03:15.882Z"
   },
   {
    "duration": 10,
    "start_time": "2022-06-24T11:03:15.900Z"
   },
   {
    "duration": 17,
    "start_time": "2022-06-24T11:03:15.911Z"
   },
   {
    "duration": 16,
    "start_time": "2022-06-24T11:03:15.929Z"
   },
   {
    "duration": 15,
    "start_time": "2022-06-24T11:03:15.947Z"
   },
   {
    "duration": 15,
    "start_time": "2022-06-24T11:03:15.964Z"
   },
   {
    "duration": 13,
    "start_time": "2022-06-24T11:03:15.980Z"
   },
   {
    "duration": 13,
    "start_time": "2022-06-24T11:03:15.996Z"
   },
   {
    "duration": 9,
    "start_time": "2022-06-24T11:03:16.011Z"
   },
   {
    "duration": 18,
    "start_time": "2022-06-24T11:03:16.021Z"
   },
   {
    "duration": 18,
    "start_time": "2022-06-24T11:03:16.041Z"
   },
   {
    "duration": 11,
    "start_time": "2022-06-24T11:03:16.061Z"
   },
   {
    "duration": 14,
    "start_time": "2022-06-24T11:03:16.074Z"
   },
   {
    "duration": 12,
    "start_time": "2022-06-24T11:03:16.090Z"
   },
   {
    "duration": 14,
    "start_time": "2022-06-24T11:03:16.104Z"
   },
   {
    "duration": 9,
    "start_time": "2022-06-24T11:03:16.120Z"
   },
   {
    "duration": 39,
    "start_time": "2022-06-24T11:03:16.131Z"
   },
   {
    "duration": 8,
    "start_time": "2022-06-24T11:03:16.172Z"
   },
   {
    "duration": 22,
    "start_time": "2022-06-24T11:03:16.181Z"
   },
   {
    "duration": 24,
    "start_time": "2022-06-24T11:03:16.204Z"
   },
   {
    "duration": 35,
    "start_time": "2022-06-24T11:03:16.230Z"
   },
   {
    "duration": 19,
    "start_time": "2022-06-24T11:03:16.267Z"
   },
   {
    "duration": 19,
    "start_time": "2022-06-24T11:03:16.287Z"
   },
   {
    "duration": 7,
    "start_time": "2022-06-24T11:03:16.307Z"
   },
   {
    "duration": 12,
    "start_time": "2022-06-24T11:03:16.315Z"
   },
   {
    "duration": 3,
    "start_time": "2022-06-24T11:03:16.360Z"
   },
   {
    "duration": 20,
    "start_time": "2022-06-24T11:03:16.365Z"
   },
   {
    "duration": 8,
    "start_time": "2022-06-24T11:03:16.386Z"
   },
   {
    "duration": 17,
    "start_time": "2022-06-24T11:03:16.395Z"
   },
   {
    "duration": 22,
    "start_time": "2022-06-24T11:03:16.413Z"
   },
   {
    "duration": 5,
    "start_time": "2022-06-24T11:03:16.437Z"
   },
   {
    "duration": 14,
    "start_time": "2022-06-24T11:03:16.458Z"
   },
   {
    "duration": 11,
    "start_time": "2022-06-24T11:03:16.474Z"
   },
   {
    "duration": 13,
    "start_time": "2022-06-24T11:03:16.488Z"
   },
   {
    "duration": 23,
    "start_time": "2022-06-24T11:03:16.503Z"
   },
   {
    "duration": 37,
    "start_time": "2022-06-24T11:03:16.528Z"
   },
   {
    "duration": 22,
    "start_time": "2022-06-24T11:03:16.566Z"
   },
   {
    "duration": 13,
    "start_time": "2022-06-24T11:03:16.590Z"
   },
   {
    "duration": 8,
    "start_time": "2022-06-24T11:03:16.605Z"
   },
   {
    "duration": 20,
    "start_time": "2022-06-24T11:03:16.615Z"
   },
   {
    "duration": 35,
    "start_time": "2022-06-24T11:03:16.637Z"
   },
   {
    "duration": 14,
    "start_time": "2022-06-24T11:03:16.673Z"
   },
   {
    "duration": 3,
    "start_time": "2022-06-24T11:03:16.688Z"
   },
   {
    "duration": 14,
    "start_time": "2022-06-24T11:03:16.693Z"
   },
   {
    "duration": 53,
    "start_time": "2022-06-24T11:03:16.708Z"
   },
   {
    "duration": 31,
    "start_time": "2022-06-24T11:03:16.763Z"
   },
   {
    "duration": 21,
    "start_time": "2022-06-24T11:03:16.795Z"
   },
   {
    "duration": 12,
    "start_time": "2022-06-24T11:03:16.818Z"
   },
   {
    "duration": 28,
    "start_time": "2022-06-24T11:03:16.831Z"
   },
   {
    "duration": 14,
    "start_time": "2022-06-24T11:03:16.861Z"
   },
   {
    "duration": 8,
    "start_time": "2022-06-24T11:03:16.877Z"
   },
   {
    "duration": 7,
    "start_time": "2022-06-24T11:03:16.887Z"
   },
   {
    "duration": 8,
    "start_time": "2022-06-24T11:03:16.896Z"
   },
   {
    "duration": 10,
    "start_time": "2022-06-24T11:03:16.906Z"
   },
   {
    "duration": 48,
    "start_time": "2022-06-24T11:03:16.918Z"
   },
   {
    "duration": 8,
    "start_time": "2022-06-24T11:03:16.968Z"
   },
   {
    "duration": 245,
    "start_time": "2022-06-24T11:03:16.977Z"
   },
   {
    "duration": 306,
    "start_time": "2022-06-24T11:03:17.223Z"
   },
   {
    "duration": 45,
    "start_time": "2022-06-24T11:03:17.531Z"
   },
   {
    "duration": 101,
    "start_time": "2022-06-24T11:03:17.578Z"
   },
   {
    "duration": 0,
    "start_time": "2022-06-24T11:03:17.682Z"
   },
   {
    "duration": 0,
    "start_time": "2022-06-24T11:03:17.683Z"
   },
   {
    "duration": 0,
    "start_time": "2022-06-24T11:03:17.684Z"
   },
   {
    "duration": 0,
    "start_time": "2022-06-24T11:03:17.687Z"
   },
   {
    "duration": 0,
    "start_time": "2022-06-24T11:03:17.688Z"
   },
   {
    "duration": 1,
    "start_time": "2022-06-24T11:03:17.689Z"
   },
   {
    "duration": 0,
    "start_time": "2022-06-24T11:03:17.691Z"
   },
   {
    "duration": 0,
    "start_time": "2022-06-24T11:03:17.692Z"
   },
   {
    "duration": 0,
    "start_time": "2022-06-24T11:03:17.693Z"
   },
   {
    "duration": 0,
    "start_time": "2022-06-24T11:03:17.782Z"
   },
   {
    "duration": 0,
    "start_time": "2022-06-24T11:03:17.784Z"
   },
   {
    "duration": 0,
    "start_time": "2022-06-24T11:03:17.785Z"
   },
   {
    "duration": 0,
    "start_time": "2022-06-24T11:03:17.787Z"
   },
   {
    "duration": 0,
    "start_time": "2022-06-24T11:03:17.788Z"
   },
   {
    "duration": 0,
    "start_time": "2022-06-24T11:03:17.791Z"
   },
   {
    "duration": 2173,
    "start_time": "2022-06-24T12:20:36.010Z"
   },
   {
    "duration": 222,
    "start_time": "2022-06-24T12:20:38.185Z"
   },
   {
    "duration": 316,
    "start_time": "2022-06-24T12:20:38.409Z"
   },
   {
    "duration": 50,
    "start_time": "2022-06-24T12:20:38.727Z"
   },
   {
    "duration": 4,
    "start_time": "2022-06-24T12:20:49.873Z"
   },
   {
    "duration": 6,
    "start_time": "2022-06-24T12:20:54.734Z"
   },
   {
    "duration": 50,
    "start_time": "2022-06-24T15:20:44.122Z"
   },
   {
    "duration": 756,
    "start_time": "2022-06-24T15:20:49.988Z"
   },
   {
    "duration": 839,
    "start_time": "2022-06-24T15:20:50.746Z"
   },
   {
    "duration": 18,
    "start_time": "2022-06-24T15:20:51.587Z"
   },
   {
    "duration": 11,
    "start_time": "2022-06-24T15:20:51.607Z"
   },
   {
    "duration": 14,
    "start_time": "2022-06-24T15:20:51.621Z"
   },
   {
    "duration": 16,
    "start_time": "2022-06-24T15:20:51.637Z"
   },
   {
    "duration": 17,
    "start_time": "2022-06-24T15:20:51.655Z"
   },
   {
    "duration": 16,
    "start_time": "2022-06-24T15:20:51.673Z"
   },
   {
    "duration": 10,
    "start_time": "2022-06-24T15:20:51.691Z"
   },
   {
    "duration": 8,
    "start_time": "2022-06-24T15:20:51.703Z"
   },
   {
    "duration": 5,
    "start_time": "2022-06-24T15:20:51.713Z"
   },
   {
    "duration": 12,
    "start_time": "2022-06-24T15:20:51.720Z"
   },
   {
    "duration": 30,
    "start_time": "2022-06-24T15:20:51.734Z"
   },
   {
    "duration": 5,
    "start_time": "2022-06-24T15:20:51.767Z"
   },
   {
    "duration": 9,
    "start_time": "2022-06-24T15:20:51.774Z"
   },
   {
    "duration": 8,
    "start_time": "2022-06-24T15:20:51.785Z"
   },
   {
    "duration": 8,
    "start_time": "2022-06-24T15:20:51.794Z"
   },
   {
    "duration": 8,
    "start_time": "2022-06-24T15:20:51.804Z"
   },
   {
    "duration": 22,
    "start_time": "2022-06-24T15:20:51.813Z"
   },
   {
    "duration": 24,
    "start_time": "2022-06-24T15:20:51.837Z"
   },
   {
    "duration": 18,
    "start_time": "2022-06-24T15:20:51.863Z"
   },
   {
    "duration": 25,
    "start_time": "2022-06-24T15:20:51.883Z"
   },
   {
    "duration": 50,
    "start_time": "2022-06-24T15:20:51.910Z"
   },
   {
    "duration": 19,
    "start_time": "2022-06-24T15:20:51.961Z"
   },
   {
    "duration": 18,
    "start_time": "2022-06-24T15:20:51.981Z"
   },
   {
    "duration": 6,
    "start_time": "2022-06-24T15:20:52.001Z"
   },
   {
    "duration": 16,
    "start_time": "2022-06-24T15:20:52.008Z"
   },
   {
    "duration": 17,
    "start_time": "2022-06-24T15:20:52.025Z"
   },
   {
    "duration": 26,
    "start_time": "2022-06-24T15:20:52.044Z"
   },
   {
    "duration": 6,
    "start_time": "2022-06-24T15:20:52.071Z"
   },
   {
    "duration": 31,
    "start_time": "2022-06-24T15:20:52.079Z"
   },
   {
    "duration": 27,
    "start_time": "2022-06-24T15:20:52.111Z"
   },
   {
    "duration": 17,
    "start_time": "2022-06-24T15:20:52.140Z"
   },
   {
    "duration": 18,
    "start_time": "2022-06-24T15:20:52.159Z"
   },
   {
    "duration": 12,
    "start_time": "2022-06-24T15:20:52.178Z"
   },
   {
    "duration": 11,
    "start_time": "2022-06-24T15:20:52.192Z"
   },
   {
    "duration": 16,
    "start_time": "2022-06-24T15:20:52.205Z"
   },
   {
    "duration": 21,
    "start_time": "2022-06-24T15:20:52.223Z"
   },
   {
    "duration": 19,
    "start_time": "2022-06-24T15:20:52.259Z"
   },
   {
    "duration": 15,
    "start_time": "2022-06-24T15:20:52.280Z"
   },
   {
    "duration": 21,
    "start_time": "2022-06-24T15:20:52.299Z"
   },
   {
    "duration": 11,
    "start_time": "2022-06-24T15:20:57.560Z"
   },
   {
    "duration": 37,
    "start_time": "2022-06-24T15:22:15.547Z"
   },
   {
    "duration": 7,
    "start_time": "2022-06-24T15:22:49.005Z"
   },
   {
    "duration": 21,
    "start_time": "2022-06-24T15:22:58.124Z"
   },
   {
    "duration": 9,
    "start_time": "2022-06-24T15:23:24.863Z"
   },
   {
    "duration": 49,
    "start_time": "2022-06-24T18:03:31.891Z"
   },
   {
    "duration": 767,
    "start_time": "2022-06-24T18:03:36.637Z"
   },
   {
    "duration": 820,
    "start_time": "2022-06-24T18:03:37.407Z"
   },
   {
    "duration": 18,
    "start_time": "2022-06-24T18:03:38.228Z"
   },
   {
    "duration": 9,
    "start_time": "2022-06-24T18:03:38.248Z"
   },
   {
    "duration": 12,
    "start_time": "2022-06-24T18:03:38.258Z"
   },
   {
    "duration": 14,
    "start_time": "2022-06-24T18:03:38.271Z"
   },
   {
    "duration": 11,
    "start_time": "2022-06-24T18:03:38.286Z"
   },
   {
    "duration": 38,
    "start_time": "2022-06-24T18:03:38.298Z"
   },
   {
    "duration": 12,
    "start_time": "2022-06-24T18:03:38.338Z"
   },
   {
    "duration": 6,
    "start_time": "2022-06-24T18:03:38.352Z"
   },
   {
    "duration": 12,
    "start_time": "2022-06-24T18:03:38.360Z"
   },
   {
    "duration": 15,
    "start_time": "2022-06-24T18:03:38.373Z"
   },
   {
    "duration": 13,
    "start_time": "2022-06-24T18:03:38.390Z"
   },
   {
    "duration": 5,
    "start_time": "2022-06-24T18:03:38.405Z"
   },
   {
    "duration": 17,
    "start_time": "2022-06-24T18:03:38.411Z"
   },
   {
    "duration": 7,
    "start_time": "2022-06-24T18:03:38.429Z"
   },
   {
    "duration": 7,
    "start_time": "2022-06-24T18:03:38.438Z"
   },
   {
    "duration": 6,
    "start_time": "2022-06-24T18:03:38.446Z"
   },
   {
    "duration": 20,
    "start_time": "2022-06-24T18:03:38.454Z"
   },
   {
    "duration": 7,
    "start_time": "2022-06-24T18:03:38.476Z"
   },
   {
    "duration": 48,
    "start_time": "2022-06-24T18:03:38.484Z"
   },
   {
    "duration": 23,
    "start_time": "2022-06-24T18:03:38.534Z"
   },
   {
    "duration": 18,
    "start_time": "2022-06-24T18:03:38.559Z"
   },
   {
    "duration": 18,
    "start_time": "2022-06-24T18:03:38.579Z"
   },
   {
    "duration": 40,
    "start_time": "2022-06-24T18:03:38.598Z"
   },
   {
    "duration": 7,
    "start_time": "2022-06-24T18:03:38.640Z"
   },
   {
    "duration": 14,
    "start_time": "2022-06-24T18:03:38.649Z"
   },
   {
    "duration": 4,
    "start_time": "2022-06-24T18:03:38.667Z"
   },
   {
    "duration": 29,
    "start_time": "2022-06-24T18:03:38.672Z"
   },
   {
    "duration": 21,
    "start_time": "2022-06-24T18:03:38.702Z"
   },
   {
    "duration": 16,
    "start_time": "2022-06-24T18:03:38.725Z"
   },
   {
    "duration": 22,
    "start_time": "2022-06-24T18:03:38.743Z"
   },
   {
    "duration": 22,
    "start_time": "2022-06-24T18:03:38.766Z"
   },
   {
    "duration": 25,
    "start_time": "2022-06-24T18:03:38.790Z"
   },
   {
    "duration": 22,
    "start_time": "2022-06-24T18:03:38.816Z"
   },
   {
    "duration": 12,
    "start_time": "2022-06-24T18:03:38.840Z"
   },
   {
    "duration": 23,
    "start_time": "2022-06-24T18:03:38.853Z"
   },
   {
    "duration": 9,
    "start_time": "2022-06-24T18:03:38.877Z"
   },
   {
    "duration": 30,
    "start_time": "2022-06-24T18:03:38.887Z"
   },
   {
    "duration": 20,
    "start_time": "2022-06-24T18:03:38.919Z"
   },
   {
    "duration": 12,
    "start_time": "2022-06-24T18:03:38.941Z"
   },
   {
    "duration": 41,
    "start_time": "2022-06-24T18:03:42.737Z"
   },
   {
    "duration": 5,
    "start_time": "2022-06-24T18:04:55.497Z"
   },
   {
    "duration": 46,
    "start_time": "2022-06-24T20:07:49.352Z"
   },
   {
    "duration": 8,
    "start_time": "2022-06-24T20:13:22.524Z"
   },
   {
    "duration": 3,
    "start_time": "2022-06-24T20:13:28.597Z"
   },
   {
    "duration": 312,
    "start_time": "2022-06-24T20:13:28.601Z"
   },
   {
    "duration": 13,
    "start_time": "2022-06-24T20:13:28.915Z"
   },
   {
    "duration": 11,
    "start_time": "2022-06-24T20:13:28.929Z"
   },
   {
    "duration": 10,
    "start_time": "2022-06-24T20:13:28.942Z"
   },
   {
    "duration": 12,
    "start_time": "2022-06-24T20:13:28.953Z"
   },
   {
    "duration": 13,
    "start_time": "2022-06-24T20:13:28.967Z"
   },
   {
    "duration": 12,
    "start_time": "2022-06-24T20:13:28.982Z"
   },
   {
    "duration": 13,
    "start_time": "2022-06-24T20:13:28.995Z"
   },
   {
    "duration": 6,
    "start_time": "2022-06-24T20:13:29.027Z"
   },
   {
    "duration": 5,
    "start_time": "2022-06-24T20:13:29.035Z"
   },
   {
    "duration": 12,
    "start_time": "2022-06-24T20:13:29.042Z"
   },
   {
    "duration": 18,
    "start_time": "2022-06-24T20:13:29.055Z"
   },
   {
    "duration": 5,
    "start_time": "2022-06-24T20:13:29.076Z"
   },
   {
    "duration": 7,
    "start_time": "2022-06-24T20:13:29.082Z"
   },
   {
    "duration": 14,
    "start_time": "2022-06-24T20:13:29.091Z"
   },
   {
    "duration": 23,
    "start_time": "2022-06-24T20:13:29.107Z"
   },
   {
    "duration": 5,
    "start_time": "2022-06-24T20:13:29.132Z"
   },
   {
    "duration": 22,
    "start_time": "2022-06-24T20:13:29.138Z"
   },
   {
    "duration": 8,
    "start_time": "2022-06-24T20:13:29.162Z"
   },
   {
    "duration": 24,
    "start_time": "2022-06-24T20:13:29.171Z"
   },
   {
    "duration": 54,
    "start_time": "2022-06-24T20:13:29.196Z"
   },
   {
    "duration": 23,
    "start_time": "2022-06-24T20:13:29.252Z"
   },
   {
    "duration": 18,
    "start_time": "2022-06-24T20:13:29.277Z"
   },
   {
    "duration": 39,
    "start_time": "2022-06-24T20:13:29.297Z"
   },
   {
    "duration": 6,
    "start_time": "2022-06-24T20:13:29.337Z"
   },
   {
    "duration": 5,
    "start_time": "2022-06-24T20:13:29.345Z"
   },
   {
    "duration": 4,
    "start_time": "2022-06-24T20:13:29.352Z"
   },
   {
    "duration": 18,
    "start_time": "2022-06-24T20:13:29.357Z"
   },
   {
    "duration": 7,
    "start_time": "2022-06-24T20:13:29.377Z"
   },
   {
    "duration": 42,
    "start_time": "2022-06-24T20:13:29.385Z"
   },
   {
    "duration": 11,
    "start_time": "2022-06-24T20:13:29.429Z"
   },
   {
    "duration": 6,
    "start_time": "2022-06-24T20:13:29.442Z"
   },
   {
    "duration": 27,
    "start_time": "2022-06-24T20:13:29.450Z"
   },
   {
    "duration": 11,
    "start_time": "2022-06-24T20:13:29.479Z"
   },
   {
    "duration": 11,
    "start_time": "2022-06-24T20:13:29.492Z"
   },
   {
    "duration": 34,
    "start_time": "2022-06-24T20:13:29.505Z"
   },
   {
    "duration": 7,
    "start_time": "2022-06-24T20:13:29.541Z"
   },
   {
    "duration": 23,
    "start_time": "2022-06-24T20:13:29.549Z"
   },
   {
    "duration": 15,
    "start_time": "2022-06-24T20:13:29.574Z"
   },
   {
    "duration": 7,
    "start_time": "2022-06-24T20:13:29.593Z"
   },
   {
    "duration": 6,
    "start_time": "2022-06-24T20:13:29.627Z"
   },
   {
    "duration": 22,
    "start_time": "2022-06-24T20:13:29.634Z"
   },
   {
    "duration": 17,
    "start_time": "2022-06-24T20:13:29.658Z"
   },
   {
    "duration": 16,
    "start_time": "2022-06-24T20:13:29.677Z"
   },
   {
    "duration": 3,
    "start_time": "2022-06-24T20:13:29.695Z"
   },
   {
    "duration": 8,
    "start_time": "2022-06-24T20:13:29.728Z"
   },
   {
    "duration": 30,
    "start_time": "2022-06-24T20:13:29.739Z"
   },
   {
    "duration": 25,
    "start_time": "2022-06-24T20:13:29.771Z"
   },
   {
    "duration": 46,
    "start_time": "2022-06-24T20:13:29.798Z"
   },
   {
    "duration": 12,
    "start_time": "2022-06-24T20:13:29.846Z"
   },
   {
    "duration": 5,
    "start_time": "2022-06-24T20:13:29.860Z"
   },
   {
    "duration": 13,
    "start_time": "2022-06-24T20:13:29.866Z"
   },
   {
    "duration": 15,
    "start_time": "2022-06-24T20:13:29.880Z"
   },
   {
    "duration": 30,
    "start_time": "2022-06-24T20:13:29.897Z"
   },
   {
    "duration": 7,
    "start_time": "2022-06-24T20:13:29.929Z"
   },
   {
    "duration": 10,
    "start_time": "2022-06-24T20:13:29.937Z"
   },
   {
    "duration": 20,
    "start_time": "2022-06-24T20:13:29.948Z"
   },
   {
    "duration": 8,
    "start_time": "2022-06-24T20:13:29.970Z"
   },
   {
    "duration": 276,
    "start_time": "2022-06-24T20:13:29.979Z"
   },
   {
    "duration": 309,
    "start_time": "2022-06-24T20:13:30.256Z"
   },
   {
    "duration": 42,
    "start_time": "2022-06-24T20:13:30.567Z"
   },
   {
    "duration": 823,
    "start_time": "2022-06-24T20:13:40.483Z"
   },
   {
    "duration": 162,
    "start_time": "2022-06-24T20:14:06.888Z"
   },
   {
    "duration": 11,
    "start_time": "2022-06-24T20:22:07.054Z"
   },
   {
    "duration": 9,
    "start_time": "2022-06-24T20:22:07.597Z"
   },
   {
    "duration": 18,
    "start_time": "2022-06-24T20:23:31.112Z"
   },
   {
    "duration": 42,
    "start_time": "2022-06-24T20:26:32.704Z"
   },
   {
    "duration": 47,
    "start_time": "2022-06-24T20:26:36.710Z"
   },
   {
    "duration": 106,
    "start_time": "2022-06-24T20:26:41.205Z"
   },
   {
    "duration": 19,
    "start_time": "2022-06-24T20:57:25.240Z"
   },
   {
    "duration": 21,
    "start_time": "2022-06-24T20:57:59.982Z"
   },
   {
    "duration": 22,
    "start_time": "2022-06-24T20:58:00.258Z"
   },
   {
    "duration": 16,
    "start_time": "2022-06-24T20:58:00.532Z"
   },
   {
    "duration": 12,
    "start_time": "2022-06-24T20:58:00.773Z"
   },
   {
    "duration": 3,
    "start_time": "2022-06-24T20:58:01.021Z"
   },
   {
    "duration": 9,
    "start_time": "2022-06-24T20:58:01.272Z"
   },
   {
    "duration": 9,
    "start_time": "2022-06-24T20:58:01.739Z"
   },
   {
    "duration": 9,
    "start_time": "2022-06-24T20:58:01.940Z"
   },
   {
    "duration": 8,
    "start_time": "2022-06-24T20:58:02.151Z"
   },
   {
    "duration": 8,
    "start_time": "2022-06-24T20:58:02.381Z"
   },
   {
    "duration": 20,
    "start_time": "2022-06-24T20:58:02.540Z"
   },
   {
    "duration": 9,
    "start_time": "2022-06-24T20:58:03.584Z"
   },
   {
    "duration": 244,
    "start_time": "2022-06-24T20:58:05.372Z"
   },
   {
    "duration": 305,
    "start_time": "2022-06-24T20:58:08.003Z"
   },
   {
    "duration": 41,
    "start_time": "2022-06-24T20:58:09.012Z"
   },
   {
    "duration": 110,
    "start_time": "2022-06-24T20:58:11.010Z"
   },
   {
    "duration": 241,
    "start_time": "2022-06-24T20:58:13.135Z"
   },
   {
    "duration": 325,
    "start_time": "2022-06-24T20:58:13.378Z"
   },
   {
    "duration": 53,
    "start_time": "2022-06-24T20:58:13.706Z"
   },
   {
    "duration": 11,
    "start_time": "2022-06-24T20:58:13.761Z"
   },
   {
    "duration": 14,
    "start_time": "2022-06-24T20:58:14.849Z"
   },
   {
    "duration": 9,
    "start_time": "2022-06-24T20:58:15.040Z"
   },
   {
    "duration": 11,
    "start_time": "2022-06-24T20:58:15.244Z"
   },
   {
    "duration": 12,
    "start_time": "2022-06-24T20:58:15.441Z"
   },
   {
    "duration": 18,
    "start_time": "2022-06-24T20:58:18.751Z"
   },
   {
    "duration": 5,
    "start_time": "2022-06-24T21:28:12.859Z"
   },
   {
    "duration": 46,
    "start_time": "2022-06-25T11:20:58.568Z"
   },
   {
    "duration": 764,
    "start_time": "2022-06-25T11:21:06.449Z"
   },
   {
    "duration": 825,
    "start_time": "2022-06-25T11:21:07.215Z"
   },
   {
    "duration": 20,
    "start_time": "2022-06-25T11:21:08.042Z"
   },
   {
    "duration": 10,
    "start_time": "2022-06-25T11:21:08.063Z"
   },
   {
    "duration": 14,
    "start_time": "2022-06-25T11:21:08.075Z"
   },
   {
    "duration": 18,
    "start_time": "2022-06-25T11:21:08.091Z"
   },
   {
    "duration": 18,
    "start_time": "2022-06-25T11:21:08.111Z"
   },
   {
    "duration": 11,
    "start_time": "2022-06-25T11:21:08.130Z"
   },
   {
    "duration": 12,
    "start_time": "2022-06-25T11:21:08.143Z"
   },
   {
    "duration": 10,
    "start_time": "2022-06-25T11:21:08.157Z"
   },
   {
    "duration": 5,
    "start_time": "2022-06-25T11:21:08.169Z"
   },
   {
    "duration": 13,
    "start_time": "2022-06-25T11:21:08.176Z"
   },
   {
    "duration": 33,
    "start_time": "2022-06-25T11:21:08.191Z"
   },
   {
    "duration": 4,
    "start_time": "2022-06-25T11:21:08.228Z"
   },
   {
    "duration": 14,
    "start_time": "2022-06-25T11:21:08.233Z"
   },
   {
    "duration": 7,
    "start_time": "2022-06-25T11:21:08.248Z"
   },
   {
    "duration": 8,
    "start_time": "2022-06-25T11:21:08.256Z"
   },
   {
    "duration": 6,
    "start_time": "2022-06-25T11:21:08.266Z"
   },
   {
    "duration": 25,
    "start_time": "2022-06-25T11:21:08.274Z"
   },
   {
    "duration": 9,
    "start_time": "2022-06-25T11:21:08.322Z"
   },
   {
    "duration": 24,
    "start_time": "2022-06-25T11:21:08.332Z"
   },
   {
    "duration": 24,
    "start_time": "2022-06-25T11:21:08.358Z"
   },
   {
    "duration": 41,
    "start_time": "2022-06-25T11:21:08.383Z"
   },
   {
    "duration": 19,
    "start_time": "2022-06-25T11:21:08.425Z"
   },
   {
    "duration": 19,
    "start_time": "2022-06-25T11:21:08.445Z"
   },
   {
    "duration": 6,
    "start_time": "2022-06-25T11:21:08.466Z"
   },
   {
    "duration": 10,
    "start_time": "2022-06-25T11:21:08.473Z"
   },
   {
    "duration": 7,
    "start_time": "2022-06-25T11:21:08.485Z"
   },
   {
    "duration": 39,
    "start_time": "2022-06-25T11:21:08.493Z"
   },
   {
    "duration": 7,
    "start_time": "2022-06-25T11:21:08.534Z"
   },
   {
    "duration": 18,
    "start_time": "2022-06-25T11:21:08.543Z"
   },
   {
    "duration": 15,
    "start_time": "2022-06-25T11:21:08.562Z"
   },
   {
    "duration": 6,
    "start_time": "2022-06-25T11:21:08.579Z"
   },
   {
    "duration": 38,
    "start_time": "2022-06-25T11:21:08.586Z"
   },
   {
    "duration": 13,
    "start_time": "2022-06-25T11:21:08.625Z"
   },
   {
    "duration": 13,
    "start_time": "2022-06-25T11:21:08.640Z"
   },
   {
    "duration": 17,
    "start_time": "2022-06-25T11:21:08.654Z"
   },
   {
    "duration": 8,
    "start_time": "2022-06-25T11:21:08.672Z"
   },
   {
    "duration": 49,
    "start_time": "2022-06-25T11:21:08.682Z"
   },
   {
    "duration": 13,
    "start_time": "2022-06-25T11:21:08.733Z"
   },
   {
    "duration": 7,
    "start_time": "2022-06-25T11:21:08.751Z"
   },
   {
    "duration": 6,
    "start_time": "2022-06-25T11:21:08.760Z"
   },
   {
    "duration": 19,
    "start_time": "2022-06-25T11:21:08.767Z"
   },
   {
    "duration": 40,
    "start_time": "2022-06-25T11:21:08.788Z"
   },
   {
    "duration": 16,
    "start_time": "2022-06-25T11:21:08.829Z"
   },
   {
    "duration": 6,
    "start_time": "2022-06-25T11:21:08.846Z"
   },
   {
    "duration": 12,
    "start_time": "2022-06-25T11:21:08.853Z"
   },
   {
    "duration": 32,
    "start_time": "2022-06-25T11:21:08.867Z"
   },
   {
    "duration": 47,
    "start_time": "2022-06-25T11:21:08.901Z"
   },
   {
    "duration": 18,
    "start_time": "2022-06-25T11:21:08.949Z"
   },
   {
    "duration": 10,
    "start_time": "2022-06-25T11:21:08.969Z"
   },
   {
    "duration": 3,
    "start_time": "2022-06-25T11:21:08.981Z"
   },
   {
    "duration": 43,
    "start_time": "2022-06-25T11:21:08.985Z"
   },
   {
    "duration": 10,
    "start_time": "2022-06-25T11:21:09.030Z"
   },
   {
    "duration": 8,
    "start_time": "2022-06-25T11:21:09.041Z"
   },
   {
    "duration": 8,
    "start_time": "2022-06-25T11:21:09.050Z"
   },
   {
    "duration": 7,
    "start_time": "2022-06-25T11:21:09.060Z"
   },
   {
    "duration": 23,
    "start_time": "2022-06-25T11:21:09.068Z"
   },
   {
    "duration": 8,
    "start_time": "2022-06-25T11:21:09.124Z"
   },
   {
    "duration": 286,
    "start_time": "2022-06-25T11:21:12.678Z"
   },
   {
    "duration": 40,
    "start_time": "2022-06-25T11:21:28.139Z"
   },
   {
    "duration": 60,
    "start_time": "2022-06-25T11:21:44.206Z"
   },
   {
    "duration": 20,
    "start_time": "2022-06-25T11:22:54.798Z"
   },
   {
    "duration": 74,
    "start_time": "2022-06-25T11:23:07.748Z"
   },
   {
    "duration": 42,
    "start_time": "2022-06-25T11:24:10.384Z"
   },
   {
    "duration": 362,
    "start_time": "2022-06-25T11:26:15.454Z"
   },
   {
    "duration": 312,
    "start_time": "2022-06-25T11:28:29.673Z"
   },
   {
    "duration": 301,
    "start_time": "2022-06-25T11:31:48.336Z"
   },
   {
    "duration": 300,
    "start_time": "2022-06-25T11:32:11.998Z"
   },
   {
    "duration": 316,
    "start_time": "2022-06-25T11:36:51.184Z"
   },
   {
    "duration": 107,
    "start_time": "2022-06-25T11:37:29.533Z"
   },
   {
    "duration": 197,
    "start_time": "2022-06-25T11:38:12.039Z"
   },
   {
    "duration": 11,
    "start_time": "2022-06-25T11:38:27.168Z"
   },
   {
    "duration": 258,
    "start_time": "2022-06-25T11:38:36.742Z"
   },
   {
    "duration": 8,
    "start_time": "2022-06-25T11:38:51.906Z"
   },
   {
    "duration": 362,
    "start_time": "2022-06-25T11:39:02.509Z"
   },
   {
    "duration": 53,
    "start_time": "2022-06-25T11:39:13.938Z"
   },
   {
    "duration": 116,
    "start_time": "2022-06-25T11:39:52.935Z"
   },
   {
    "duration": 10,
    "start_time": "2022-06-25T11:41:05.748Z"
   },
   {
    "duration": 932,
    "start_time": "2022-06-25T11:41:41.384Z"
   },
   {
    "duration": 10,
    "start_time": "2022-06-25T11:41:43.338Z"
   },
   {
    "duration": 2174,
    "start_time": "2022-06-25T11:42:04.145Z"
   },
   {
    "duration": 18,
    "start_time": "2022-06-25T11:42:07.304Z"
   },
   {
    "duration": 21,
    "start_time": "2022-06-25T11:44:53.180Z"
   },
   {
    "duration": 14,
    "start_time": "2022-06-25T11:46:24.646Z"
   },
   {
    "duration": 3,
    "start_time": "2022-06-25T11:47:34.912Z"
   },
   {
    "duration": 14,
    "start_time": "2022-06-25T11:47:53.882Z"
   },
   {
    "duration": 4,
    "start_time": "2022-06-25T12:12:30.520Z"
   },
   {
    "duration": 6,
    "start_time": "2022-06-25T12:12:43.880Z"
   },
   {
    "duration": 6,
    "start_time": "2022-06-25T12:12:51.483Z"
   },
   {
    "duration": 7,
    "start_time": "2022-06-25T12:13:13.181Z"
   },
   {
    "duration": 6,
    "start_time": "2022-06-25T12:14:00.616Z"
   },
   {
    "duration": 4,
    "start_time": "2022-06-25T12:14:28.771Z"
   },
   {
    "duration": 9,
    "start_time": "2022-06-25T12:14:58.097Z"
   },
   {
    "duration": 3,
    "start_time": "2022-06-25T12:21:22.612Z"
   },
   {
    "duration": 389,
    "start_time": "2022-06-25T12:21:22.619Z"
   },
   {
    "duration": 26,
    "start_time": "2022-06-25T12:21:23.009Z"
   },
   {
    "duration": 13,
    "start_time": "2022-06-25T12:21:23.037Z"
   },
   {
    "duration": 12,
    "start_time": "2022-06-25T12:21:23.051Z"
   },
   {
    "duration": 13,
    "start_time": "2022-06-25T12:21:23.066Z"
   },
   {
    "duration": 15,
    "start_time": "2022-06-25T12:21:23.081Z"
   },
   {
    "duration": 38,
    "start_time": "2022-06-25T12:21:23.097Z"
   },
   {
    "duration": 13,
    "start_time": "2022-06-25T12:21:23.137Z"
   },
   {
    "duration": 12,
    "start_time": "2022-06-25T12:21:23.151Z"
   },
   {
    "duration": 11,
    "start_time": "2022-06-25T12:21:23.165Z"
   },
   {
    "duration": 9,
    "start_time": "2022-06-25T12:21:23.177Z"
   },
   {
    "duration": 6,
    "start_time": "2022-06-25T12:21:23.187Z"
   },
   {
    "duration": 13,
    "start_time": "2022-06-25T12:21:23.195Z"
   },
   {
    "duration": 25,
    "start_time": "2022-06-25T12:21:23.211Z"
   },
   {
    "duration": 8,
    "start_time": "2022-06-25T12:21:23.238Z"
   },
   {
    "duration": 13,
    "start_time": "2022-06-25T12:21:23.247Z"
   },
   {
    "duration": 9,
    "start_time": "2022-06-25T12:21:23.263Z"
   },
   {
    "duration": 10,
    "start_time": "2022-06-25T12:21:23.274Z"
   },
   {
    "duration": 12,
    "start_time": "2022-06-25T12:21:23.286Z"
   },
   {
    "duration": 21,
    "start_time": "2022-06-25T12:21:23.300Z"
   },
   {
    "duration": 11,
    "start_time": "2022-06-25T12:21:23.326Z"
   },
   {
    "duration": 20,
    "start_time": "2022-06-25T12:21:23.339Z"
   },
   {
    "duration": 20,
    "start_time": "2022-06-25T12:21:23.360Z"
   },
   {
    "duration": 19,
    "start_time": "2022-06-25T12:21:23.381Z"
   },
   {
    "duration": 42,
    "start_time": "2022-06-25T12:21:23.401Z"
   },
   {
    "duration": 17,
    "start_time": "2022-06-25T12:21:23.445Z"
   },
   {
    "duration": 6,
    "start_time": "2022-06-25T12:21:23.464Z"
   },
   {
    "duration": 6,
    "start_time": "2022-06-25T12:21:23.472Z"
   },
   {
    "duration": 3,
    "start_time": "2022-06-25T12:21:23.480Z"
   },
   {
    "duration": 53,
    "start_time": "2022-06-25T12:21:23.485Z"
   },
   {
    "duration": 7,
    "start_time": "2022-06-25T12:21:23.540Z"
   },
   {
    "duration": 23,
    "start_time": "2022-06-25T12:21:23.548Z"
   },
   {
    "duration": 27,
    "start_time": "2022-06-25T12:21:23.572Z"
   },
   {
    "duration": 6,
    "start_time": "2022-06-25T12:21:23.600Z"
   },
   {
    "duration": 29,
    "start_time": "2022-06-25T12:21:23.607Z"
   },
   {
    "duration": 12,
    "start_time": "2022-06-25T12:21:23.638Z"
   },
   {
    "duration": 12,
    "start_time": "2022-06-25T12:21:23.652Z"
   },
   {
    "duration": 18,
    "start_time": "2022-06-25T12:21:23.666Z"
   },
   {
    "duration": 8,
    "start_time": "2022-06-25T12:21:23.686Z"
   },
   {
    "duration": 51,
    "start_time": "2022-06-25T12:21:23.696Z"
   },
   {
    "duration": 13,
    "start_time": "2022-06-25T12:21:23.752Z"
   },
   {
    "duration": 9,
    "start_time": "2022-06-25T12:21:23.767Z"
   },
   {
    "duration": 4,
    "start_time": "2022-06-25T12:21:23.778Z"
   },
   {
    "duration": 3,
    "start_time": "2022-06-25T12:21:23.784Z"
   },
   {
    "duration": 39,
    "start_time": "2022-06-25T12:21:23.789Z"
   },
   {
    "duration": 18,
    "start_time": "2022-06-25T12:21:23.829Z"
   },
   {
    "duration": 15,
    "start_time": "2022-06-25T12:21:23.848Z"
   },
   {
    "duration": 2,
    "start_time": "2022-06-25T12:21:23.865Z"
   },
   {
    "duration": 15,
    "start_time": "2022-06-25T12:21:23.869Z"
   },
   {
    "duration": 56,
    "start_time": "2022-06-25T12:21:23.885Z"
   },
   {
    "duration": 27,
    "start_time": "2022-06-25T12:21:23.943Z"
   },
   {
    "duration": 17,
    "start_time": "2022-06-25T12:21:23.972Z"
   },
   {
    "duration": 10,
    "start_time": "2022-06-25T12:21:23.991Z"
   },
   {
    "duration": 4,
    "start_time": "2022-06-25T12:21:24.024Z"
   },
   {
    "duration": 19,
    "start_time": "2022-06-25T12:21:24.030Z"
   },
   {
    "duration": 8,
    "start_time": "2022-06-25T12:21:24.050Z"
   },
   {
    "duration": 9,
    "start_time": "2022-06-25T12:21:24.059Z"
   },
   {
    "duration": 7,
    "start_time": "2022-06-25T12:21:24.070Z"
   },
   {
    "duration": 7,
    "start_time": "2022-06-25T12:21:24.079Z"
   },
   {
    "duration": 64,
    "start_time": "2022-06-25T12:21:24.087Z"
   },
   {
    "duration": 8,
    "start_time": "2022-06-25T12:21:24.153Z"
   },
   {
    "duration": 214,
    "start_time": "2022-06-25T12:21:24.163Z"
   },
   {
    "duration": 325,
    "start_time": "2022-06-25T12:21:24.378Z"
   },
   {
    "duration": 48,
    "start_time": "2022-06-25T12:21:24.704Z"
   },
   {
    "duration": 123,
    "start_time": "2022-06-25T12:21:24.754Z"
   },
   {
    "duration": 0,
    "start_time": "2022-06-25T12:21:24.879Z"
   },
   {
    "duration": 0,
    "start_time": "2022-06-25T12:21:24.880Z"
   },
   {
    "duration": 0,
    "start_time": "2022-06-25T12:21:24.881Z"
   },
   {
    "duration": 0,
    "start_time": "2022-06-25T12:21:24.882Z"
   },
   {
    "duration": 0,
    "start_time": "2022-06-25T12:21:24.883Z"
   },
   {
    "duration": 0,
    "start_time": "2022-06-25T12:21:24.884Z"
   },
   {
    "duration": 0,
    "start_time": "2022-06-25T12:21:24.885Z"
   },
   {
    "duration": 0,
    "start_time": "2022-06-25T12:21:24.885Z"
   },
   {
    "duration": 0,
    "start_time": "2022-06-25T12:21:24.886Z"
   },
   {
    "duration": 0,
    "start_time": "2022-06-25T12:21:24.887Z"
   },
   {
    "duration": 0,
    "start_time": "2022-06-25T12:21:24.888Z"
   },
   {
    "duration": 0,
    "start_time": "2022-06-25T12:21:24.889Z"
   },
   {
    "duration": 112,
    "start_time": "2022-06-25T12:21:29.398Z"
   },
   {
    "duration": 14,
    "start_time": "2022-06-25T12:22:44.336Z"
   },
   {
    "duration": 727,
    "start_time": "2022-06-25T12:23:11.700Z"
   },
   {
    "duration": 115,
    "start_time": "2022-06-25T12:23:28.667Z"
   },
   {
    "duration": 20,
    "start_time": "2022-06-25T13:33:11.805Z"
   },
   {
    "duration": 20,
    "start_time": "2022-06-25T13:35:54.626Z"
   },
   {
    "duration": 46,
    "start_time": "2022-06-25T13:38:14.018Z"
   },
   {
    "duration": 4,
    "start_time": "2022-06-25T13:38:21.780Z"
   },
   {
    "duration": 2429,
    "start_time": "2022-06-25T13:56:22.833Z"
   },
   {
    "duration": 43,
    "start_time": "2022-06-25T14:14:48.418Z"
   },
   {
    "duration": 7,
    "start_time": "2022-06-25T14:18:00.503Z"
   },
   {
    "duration": 3,
    "start_time": "2022-06-25T14:18:11.563Z"
   },
   {
    "duration": 328,
    "start_time": "2022-06-25T14:18:11.568Z"
   },
   {
    "duration": 16,
    "start_time": "2022-06-25T14:18:11.898Z"
   },
   {
    "duration": 17,
    "start_time": "2022-06-25T14:18:11.915Z"
   },
   {
    "duration": 52,
    "start_time": "2022-06-25T14:18:11.934Z"
   },
   {
    "duration": 16,
    "start_time": "2022-06-25T14:18:11.987Z"
   },
   {
    "duration": 12,
    "start_time": "2022-06-25T14:18:12.005Z"
   },
   {
    "duration": 54,
    "start_time": "2022-06-25T14:18:12.019Z"
   },
   {
    "duration": 13,
    "start_time": "2022-06-25T14:18:12.075Z"
   },
   {
    "duration": 27,
    "start_time": "2022-06-25T14:18:12.089Z"
   },
   {
    "duration": 23,
    "start_time": "2022-06-25T14:18:12.120Z"
   },
   {
    "duration": 27,
    "start_time": "2022-06-25T14:18:12.145Z"
   },
   {
    "duration": 7,
    "start_time": "2022-06-25T14:18:12.173Z"
   },
   {
    "duration": 16,
    "start_time": "2022-06-25T14:18:12.182Z"
   },
   {
    "duration": 16,
    "start_time": "2022-06-25T14:18:12.200Z"
   },
   {
    "duration": 20,
    "start_time": "2022-06-25T14:18:12.218Z"
   },
   {
    "duration": 30,
    "start_time": "2022-06-25T14:18:12.247Z"
   },
   {
    "duration": 17,
    "start_time": "2022-06-25T14:18:12.279Z"
   },
   {
    "duration": 8,
    "start_time": "2022-06-25T14:18:12.297Z"
   },
   {
    "duration": 7,
    "start_time": "2022-06-25T14:18:12.307Z"
   },
   {
    "duration": 50,
    "start_time": "2022-06-25T14:18:12.315Z"
   },
   {
    "duration": 13,
    "start_time": "2022-06-25T14:18:12.371Z"
   },
   {
    "duration": 22,
    "start_time": "2022-06-25T14:18:12.386Z"
   },
   {
    "duration": 29,
    "start_time": "2022-06-25T14:18:12.410Z"
   },
   {
    "duration": 43,
    "start_time": "2022-06-25T14:18:12.441Z"
   },
   {
    "duration": 18,
    "start_time": "2022-06-25T14:18:12.486Z"
   },
   {
    "duration": 20,
    "start_time": "2022-06-25T14:18:12.506Z"
   },
   {
    "duration": 10,
    "start_time": "2022-06-25T14:18:12.527Z"
   },
   {
    "duration": 48,
    "start_time": "2022-06-25T14:18:12.545Z"
   },
   {
    "duration": 4,
    "start_time": "2022-06-25T14:18:12.594Z"
   },
   {
    "duration": 20,
    "start_time": "2022-06-25T14:18:12.600Z"
   },
   {
    "duration": 57,
    "start_time": "2022-06-25T14:18:12.621Z"
   },
   {
    "duration": 38,
    "start_time": "2022-06-25T14:18:12.680Z"
   },
   {
    "duration": 50,
    "start_time": "2022-06-25T14:18:12.720Z"
   },
   {
    "duration": 12,
    "start_time": "2022-06-25T14:18:12.773Z"
   },
   {
    "duration": 21,
    "start_time": "2022-06-25T14:18:12.787Z"
   },
   {
    "duration": 15,
    "start_time": "2022-06-25T14:18:12.811Z"
   },
   {
    "duration": 61,
    "start_time": "2022-06-25T14:18:12.827Z"
   },
   {
    "duration": 22,
    "start_time": "2022-06-25T14:18:12.889Z"
   },
   {
    "duration": 14,
    "start_time": "2022-06-25T14:18:12.913Z"
   },
   {
    "duration": 67,
    "start_time": "2022-06-25T14:18:12.928Z"
   },
   {
    "duration": 13,
    "start_time": "2022-06-25T14:18:12.997Z"
   },
   {
    "duration": 30,
    "start_time": "2022-06-25T14:18:13.011Z"
   },
   {
    "duration": 19,
    "start_time": "2022-06-25T14:18:13.048Z"
   },
   {
    "duration": 7,
    "start_time": "2022-06-25T14:18:13.068Z"
   },
   {
    "duration": 20,
    "start_time": "2022-06-25T14:18:13.076Z"
   },
   {
    "duration": 15,
    "start_time": "2022-06-25T14:18:13.097Z"
   },
   {
    "duration": 27,
    "start_time": "2022-06-25T14:18:13.114Z"
   },
   {
    "duration": 7,
    "start_time": "2022-06-25T14:18:13.143Z"
   },
   {
    "duration": 30,
    "start_time": "2022-06-25T14:18:13.153Z"
   },
   {
    "duration": 25,
    "start_time": "2022-06-25T14:18:13.185Z"
   },
   {
    "duration": 39,
    "start_time": "2022-06-25T14:18:13.211Z"
   },
   {
    "duration": 28,
    "start_time": "2022-06-25T14:18:13.253Z"
   },
   {
    "duration": 11,
    "start_time": "2022-06-25T14:18:13.282Z"
   },
   {
    "duration": 7,
    "start_time": "2022-06-25T14:18:13.295Z"
   },
   {
    "duration": 10,
    "start_time": "2022-06-25T14:18:13.304Z"
   },
   {
    "duration": 21,
    "start_time": "2022-06-25T14:18:13.316Z"
   },
   {
    "duration": 30,
    "start_time": "2022-06-25T14:18:13.346Z"
   },
   {
    "duration": 12,
    "start_time": "2022-06-25T14:18:13.378Z"
   },
   {
    "duration": 9,
    "start_time": "2022-06-25T14:18:13.392Z"
   },
   {
    "duration": 34,
    "start_time": "2022-06-25T14:18:13.403Z"
   },
   {
    "duration": 15,
    "start_time": "2022-06-25T14:18:13.439Z"
   },
   {
    "duration": 226,
    "start_time": "2022-06-25T14:18:13.458Z"
   },
   {
    "duration": 351,
    "start_time": "2022-06-25T14:18:13.686Z"
   },
   {
    "duration": 45,
    "start_time": "2022-06-25T14:18:14.039Z"
   },
   {
    "duration": 115,
    "start_time": "2022-06-25T14:18:14.086Z"
   },
   {
    "duration": 0,
    "start_time": "2022-06-25T14:18:14.203Z"
   },
   {
    "duration": 0,
    "start_time": "2022-06-25T14:18:14.204Z"
   },
   {
    "duration": 0,
    "start_time": "2022-06-25T14:18:14.205Z"
   },
   {
    "duration": 0,
    "start_time": "2022-06-25T14:18:14.206Z"
   },
   {
    "duration": 0,
    "start_time": "2022-06-25T14:18:14.207Z"
   },
   {
    "duration": 0,
    "start_time": "2022-06-25T14:18:14.207Z"
   },
   {
    "duration": 0,
    "start_time": "2022-06-25T14:18:14.227Z"
   },
   {
    "duration": 0,
    "start_time": "2022-06-25T14:18:14.232Z"
   },
   {
    "duration": 0,
    "start_time": "2022-06-25T14:18:14.233Z"
   },
   {
    "duration": 0,
    "start_time": "2022-06-25T14:18:14.234Z"
   },
   {
    "duration": 0,
    "start_time": "2022-06-25T14:18:14.234Z"
   },
   {
    "duration": 0,
    "start_time": "2022-06-25T14:18:14.235Z"
   },
   {
    "duration": 0,
    "start_time": "2022-06-25T14:18:14.240Z"
   },
   {
    "duration": 0,
    "start_time": "2022-06-25T14:18:14.241Z"
   },
   {
    "duration": 7,
    "start_time": "2022-06-25T14:18:20.476Z"
   },
   {
    "duration": 7,
    "start_time": "2022-06-25T14:18:26.960Z"
   },
   {
    "duration": 10,
    "start_time": "2022-06-25T14:18:42.995Z"
   },
   {
    "duration": 9,
    "start_time": "2022-06-25T14:23:35.062Z"
   },
   {
    "duration": 4,
    "start_time": "2022-06-25T14:26:55.579Z"
   },
   {
    "duration": 10,
    "start_time": "2022-06-25T14:27:21.243Z"
   },
   {
    "duration": 4,
    "start_time": "2022-06-25T14:31:12.322Z"
   },
   {
    "duration": 10,
    "start_time": "2022-06-25T14:31:58.348Z"
   },
   {
    "duration": 761,
    "start_time": "2022-06-27T16:30:25.159Z"
   },
   {
    "duration": 593,
    "start_time": "2022-06-27T16:30:25.922Z"
   },
   {
    "duration": 20,
    "start_time": "2022-06-27T16:30:26.516Z"
   },
   {
    "duration": 12,
    "start_time": "2022-06-27T16:30:26.537Z"
   },
   {
    "duration": 16,
    "start_time": "2022-06-27T16:30:26.551Z"
   },
   {
    "duration": 16,
    "start_time": "2022-06-27T16:30:26.569Z"
   },
   {
    "duration": 15,
    "start_time": "2022-06-27T16:30:26.587Z"
   },
   {
    "duration": 18,
    "start_time": "2022-06-27T16:30:26.604Z"
   },
   {
    "duration": 12,
    "start_time": "2022-06-27T16:30:26.627Z"
   },
   {
    "duration": 9,
    "start_time": "2022-06-27T16:30:26.640Z"
   },
   {
    "duration": 4,
    "start_time": "2022-06-27T16:30:26.651Z"
   },
   {
    "duration": 14,
    "start_time": "2022-06-27T16:30:26.657Z"
   },
   {
    "duration": 4,
    "start_time": "2022-06-27T16:30:26.672Z"
   },
   {
    "duration": 15,
    "start_time": "2022-06-27T16:30:26.679Z"
   },
   {
    "duration": 33,
    "start_time": "2022-06-27T16:30:26.696Z"
   },
   {
    "duration": 7,
    "start_time": "2022-06-27T16:30:26.730Z"
   },
   {
    "duration": 8,
    "start_time": "2022-06-27T16:30:26.738Z"
   },
   {
    "duration": 8,
    "start_time": "2022-06-27T16:30:26.748Z"
   },
   {
    "duration": 8,
    "start_time": "2022-06-27T16:30:26.758Z"
   },
   {
    "duration": 7,
    "start_time": "2022-06-27T16:30:26.767Z"
   },
   {
    "duration": 21,
    "start_time": "2022-06-27T16:30:26.775Z"
   },
   {
    "duration": 8,
    "start_time": "2022-06-27T16:30:26.798Z"
   },
   {
    "duration": 33,
    "start_time": "2022-06-27T16:30:26.807Z"
   },
   {
    "duration": 26,
    "start_time": "2022-06-27T16:30:26.841Z"
   },
   {
    "duration": 19,
    "start_time": "2022-06-27T16:30:26.869Z"
   },
   {
    "duration": 19,
    "start_time": "2022-06-27T16:30:26.889Z"
   },
   {
    "duration": 18,
    "start_time": "2022-06-27T16:30:26.928Z"
   },
   {
    "duration": 6,
    "start_time": "2022-06-27T16:30:26.947Z"
   },
   {
    "duration": 6,
    "start_time": "2022-06-27T16:30:26.955Z"
   },
   {
    "duration": 5,
    "start_time": "2022-06-27T16:30:26.963Z"
   },
   {
    "duration": 18,
    "start_time": "2022-06-27T16:30:26.969Z"
   },
   {
    "duration": 7,
    "start_time": "2022-06-27T16:30:26.988Z"
   },
   {
    "duration": 40,
    "start_time": "2022-06-27T16:30:26.997Z"
   },
   {
    "duration": 16,
    "start_time": "2022-06-27T16:30:27.039Z"
   },
   {
    "duration": 6,
    "start_time": "2022-06-27T16:30:27.057Z"
   },
   {
    "duration": 13,
    "start_time": "2022-06-27T16:30:27.065Z"
   },
   {
    "duration": 12,
    "start_time": "2022-06-27T16:30:27.080Z"
   },
   {
    "duration": 42,
    "start_time": "2022-06-27T16:30:27.093Z"
   },
   {
    "duration": 18,
    "start_time": "2022-06-27T16:30:27.136Z"
   },
   {
    "duration": 8,
    "start_time": "2022-06-27T16:30:27.156Z"
   },
   {
    "duration": 18,
    "start_time": "2022-06-27T16:30:27.168Z"
   },
   {
    "duration": 39,
    "start_time": "2022-06-27T16:30:27.188Z"
   },
   {
    "duration": 10,
    "start_time": "2022-06-27T16:30:27.229Z"
   },
   {
    "duration": 5,
    "start_time": "2022-06-27T16:30:27.240Z"
   },
   {
    "duration": 6,
    "start_time": "2022-06-27T16:30:27.246Z"
   },
   {
    "duration": 22,
    "start_time": "2022-06-27T16:30:27.254Z"
   },
   {
    "duration": 15,
    "start_time": "2022-06-27T16:30:27.277Z"
   },
   {
    "duration": 36,
    "start_time": "2022-06-27T16:30:27.294Z"
   },
   {
    "duration": 4,
    "start_time": "2022-06-27T16:30:27.332Z"
   },
   {
    "duration": 15,
    "start_time": "2022-06-27T16:30:27.337Z"
   },
   {
    "duration": 33,
    "start_time": "2022-06-27T16:30:27.353Z"
   },
   {
    "duration": 40,
    "start_time": "2022-06-27T16:30:27.388Z"
   },
   {
    "duration": 18,
    "start_time": "2022-06-27T16:30:27.429Z"
   },
   {
    "duration": 9,
    "start_time": "2022-06-27T16:30:27.449Z"
   },
   {
    "duration": 6,
    "start_time": "2022-06-27T16:30:27.460Z"
   },
   {
    "duration": 14,
    "start_time": "2022-06-27T16:30:27.468Z"
   },
   {
    "duration": 11,
    "start_time": "2022-06-27T16:30:27.484Z"
   },
   {
    "duration": 33,
    "start_time": "2022-06-27T16:30:27.496Z"
   },
   {
    "duration": 7,
    "start_time": "2022-06-27T16:30:27.531Z"
   },
   {
    "duration": 7,
    "start_time": "2022-06-27T16:30:27.540Z"
   },
   {
    "duration": 21,
    "start_time": "2022-06-27T16:30:27.548Z"
   },
   {
    "duration": 8,
    "start_time": "2022-06-27T16:30:27.571Z"
   },
   {
    "duration": 235,
    "start_time": "2022-06-27T16:30:27.580Z"
   },
   {
    "duration": 317,
    "start_time": "2022-06-27T16:30:27.816Z"
   },
   {
    "duration": 39,
    "start_time": "2022-06-27T16:30:28.135Z"
   },
   {
    "duration": 228,
    "start_time": "2022-06-27T16:30:28.176Z"
   },
   {
    "duration": 0,
    "start_time": "2022-06-27T16:30:28.406Z"
   },
   {
    "duration": 0,
    "start_time": "2022-06-27T16:30:28.407Z"
   },
   {
    "duration": 0,
    "start_time": "2022-06-27T16:30:28.408Z"
   },
   {
    "duration": 0,
    "start_time": "2022-06-27T16:30:28.409Z"
   },
   {
    "duration": 0,
    "start_time": "2022-06-27T16:30:28.410Z"
   },
   {
    "duration": 0,
    "start_time": "2022-06-27T16:30:28.427Z"
   },
   {
    "duration": 0,
    "start_time": "2022-06-27T16:30:28.428Z"
   },
   {
    "duration": 0,
    "start_time": "2022-06-27T16:30:28.429Z"
   },
   {
    "duration": 0,
    "start_time": "2022-06-27T16:30:28.431Z"
   },
   {
    "duration": 0,
    "start_time": "2022-06-27T16:30:28.431Z"
   },
   {
    "duration": 0,
    "start_time": "2022-06-27T16:30:28.432Z"
   },
   {
    "duration": 0,
    "start_time": "2022-06-27T16:30:28.433Z"
   },
   {
    "duration": 0,
    "start_time": "2022-06-27T16:30:28.434Z"
   },
   {
    "duration": 0,
    "start_time": "2022-06-27T16:30:28.435Z"
   },
   {
    "duration": 0,
    "start_time": "2022-06-27T16:30:28.436Z"
   },
   {
    "duration": 0,
    "start_time": "2022-06-27T16:30:28.437Z"
   },
   {
    "duration": 0,
    "start_time": "2022-06-27T16:30:28.438Z"
   },
   {
    "duration": 0,
    "start_time": "2022-06-27T16:30:28.440Z"
   },
   {
    "duration": 0,
    "start_time": "2022-06-27T16:30:28.441Z"
   },
   {
    "duration": 0,
    "start_time": "2022-06-27T16:30:28.442Z"
   },
   {
    "duration": 0,
    "start_time": "2022-06-27T16:30:28.443Z"
   },
   {
    "duration": 116,
    "start_time": "2022-06-27T16:33:05.019Z"
   },
   {
    "duration": 112,
    "start_time": "2022-06-27T16:34:40.981Z"
   },
   {
    "duration": 123,
    "start_time": "2022-06-27T16:35:02.711Z"
   },
   {
    "duration": 27,
    "start_time": "2022-06-27T16:36:13.836Z"
   },
   {
    "duration": 52,
    "start_time": "2022-06-27T17:56:29.001Z"
   },
   {
    "duration": 6,
    "start_time": "2022-06-27T18:01:48.701Z"
   },
   {
    "duration": 777,
    "start_time": "2022-06-27T18:01:57.100Z"
   },
   {
    "duration": 959,
    "start_time": "2022-06-27T18:01:57.880Z"
   },
   {
    "duration": 20,
    "start_time": "2022-06-27T18:01:58.840Z"
   },
   {
    "duration": 9,
    "start_time": "2022-06-27T18:01:58.861Z"
   },
   {
    "duration": 31,
    "start_time": "2022-06-27T18:01:58.872Z"
   },
   {
    "duration": 20,
    "start_time": "2022-06-27T18:01:58.905Z"
   },
   {
    "duration": 24,
    "start_time": "2022-06-27T18:01:58.927Z"
   },
   {
    "duration": 22,
    "start_time": "2022-06-27T18:01:58.952Z"
   },
   {
    "duration": 21,
    "start_time": "2022-06-27T18:01:58.976Z"
   },
   {
    "duration": 10,
    "start_time": "2022-06-27T18:01:58.999Z"
   },
   {
    "duration": 9,
    "start_time": "2022-06-27T18:01:59.011Z"
   },
   {
    "duration": 25,
    "start_time": "2022-06-27T18:01:59.022Z"
   },
   {
    "duration": 10,
    "start_time": "2022-06-27T18:01:59.048Z"
   },
   {
    "duration": 25,
    "start_time": "2022-06-27T18:01:59.061Z"
   },
   {
    "duration": 19,
    "start_time": "2022-06-27T18:01:59.088Z"
   },
   {
    "duration": 17,
    "start_time": "2022-06-27T18:01:59.109Z"
   },
   {
    "duration": 22,
    "start_time": "2022-06-27T18:01:59.128Z"
   },
   {
    "duration": 22,
    "start_time": "2022-06-27T18:01:59.151Z"
   },
   {
    "duration": 20,
    "start_time": "2022-06-27T18:01:59.175Z"
   },
   {
    "duration": 27,
    "start_time": "2022-06-27T18:01:59.197Z"
   },
   {
    "duration": 62,
    "start_time": "2022-06-27T18:01:59.225Z"
   },
   {
    "duration": 31,
    "start_time": "2022-06-27T18:01:59.289Z"
   },
   {
    "duration": 34,
    "start_time": "2022-06-27T18:01:59.321Z"
   },
   {
    "duration": 23,
    "start_time": "2022-06-27T18:01:59.357Z"
   },
   {
    "duration": 20,
    "start_time": "2022-06-27T18:01:59.382Z"
   },
   {
    "duration": 25,
    "start_time": "2022-06-27T18:01:59.404Z"
   },
   {
    "duration": 20,
    "start_time": "2022-06-27T18:01:59.431Z"
   },
   {
    "duration": 7,
    "start_time": "2022-06-27T18:01:59.453Z"
   },
   {
    "duration": 8,
    "start_time": "2022-06-27T18:01:59.461Z"
   },
   {
    "duration": 12,
    "start_time": "2022-06-27T18:01:59.471Z"
   },
   {
    "duration": 30,
    "start_time": "2022-06-27T18:01:59.485Z"
   },
   {
    "duration": 17,
    "start_time": "2022-06-27T18:01:59.517Z"
   },
   {
    "duration": 20,
    "start_time": "2022-06-27T18:01:59.536Z"
   },
   {
    "duration": 15,
    "start_time": "2022-06-27T18:01:59.558Z"
   },
   {
    "duration": 6,
    "start_time": "2022-06-27T18:01:59.574Z"
   },
   {
    "duration": 37,
    "start_time": "2022-06-27T18:01:59.581Z"
   },
   {
    "duration": 14,
    "start_time": "2022-06-27T18:01:59.620Z"
   },
   {
    "duration": 17,
    "start_time": "2022-06-27T18:01:59.635Z"
   },
   {
    "duration": 29,
    "start_time": "2022-06-27T18:01:59.654Z"
   },
   {
    "duration": 10,
    "start_time": "2022-06-27T18:01:59.685Z"
   },
   {
    "duration": 37,
    "start_time": "2022-06-27T18:01:59.700Z"
   },
   {
    "duration": 17,
    "start_time": "2022-06-27T18:01:59.739Z"
   },
   {
    "duration": 16,
    "start_time": "2022-06-27T18:01:59.757Z"
   },
   {
    "duration": 26,
    "start_time": "2022-06-27T18:01:59.775Z"
   },
   {
    "duration": 14,
    "start_time": "2022-06-27T18:01:59.803Z"
   },
   {
    "duration": 37,
    "start_time": "2022-06-27T18:01:59.819Z"
   },
   {
    "duration": 15,
    "start_time": "2022-06-27T18:01:59.858Z"
   },
   {
    "duration": 15,
    "start_time": "2022-06-27T18:01:59.875Z"
   },
   {
    "duration": 19,
    "start_time": "2022-06-27T18:01:59.891Z"
   },
   {
    "duration": 32,
    "start_time": "2022-06-27T18:01:59.912Z"
   },
   {
    "duration": 51,
    "start_time": "2022-06-27T18:01:59.946Z"
   },
   {
    "duration": 22,
    "start_time": "2022-06-27T18:01:59.999Z"
   },
   {
    "duration": 17,
    "start_time": "2022-06-27T18:02:00.022Z"
   },
   {
    "duration": 46,
    "start_time": "2022-06-27T18:02:00.042Z"
   },
   {
    "duration": 18,
    "start_time": "2022-06-27T18:02:00.089Z"
   },
   {
    "duration": 20,
    "start_time": "2022-06-27T18:02:00.109Z"
   },
   {
    "duration": 26,
    "start_time": "2022-06-27T18:02:00.130Z"
   },
   {
    "duration": 15,
    "start_time": "2022-06-27T18:02:00.157Z"
   },
   {
    "duration": 33,
    "start_time": "2022-06-27T18:02:00.174Z"
   },
   {
    "duration": 21,
    "start_time": "2022-06-27T18:02:00.208Z"
   },
   {
    "duration": 43,
    "start_time": "2022-06-27T18:02:00.231Z"
   },
   {
    "duration": 33,
    "start_time": "2022-06-27T18:02:00.276Z"
   },
   {
    "duration": 232,
    "start_time": "2022-06-27T18:02:00.310Z"
   },
   {
    "duration": 297,
    "start_time": "2022-06-27T18:02:00.543Z"
   },
   {
    "duration": 39,
    "start_time": "2022-06-27T18:02:00.841Z"
   },
   {
    "duration": 20,
    "start_time": "2022-06-27T18:02:00.881Z"
   },
   {
    "duration": 27,
    "start_time": "2022-06-27T18:02:00.902Z"
   },
   {
    "duration": 9,
    "start_time": "2022-06-27T18:02:33.255Z"
   },
   {
    "duration": 144,
    "start_time": "2022-06-27T18:02:42.422Z"
   },
   {
    "duration": 15,
    "start_time": "2022-06-27T18:02:52.462Z"
   },
   {
    "duration": 153,
    "start_time": "2022-06-27T18:03:16.840Z"
   },
   {
    "duration": 33,
    "start_time": "2022-06-27T18:15:33.417Z"
   },
   {
    "duration": 3,
    "start_time": "2022-06-27T18:18:24.415Z"
   },
   {
    "duration": 6,
    "start_time": "2022-06-27T18:20:52.864Z"
   },
   {
    "duration": 10,
    "start_time": "2022-06-27T18:21:03.516Z"
   },
   {
    "duration": 10,
    "start_time": "2022-06-27T18:21:36.761Z"
   },
   {
    "duration": 11,
    "start_time": "2022-06-27T18:21:57.260Z"
   },
   {
    "duration": 13,
    "start_time": "2022-06-27T18:22:52.254Z"
   },
   {
    "duration": 9,
    "start_time": "2022-06-27T18:24:32.257Z"
   },
   {
    "duration": 8,
    "start_time": "2022-06-27T18:24:33.255Z"
   },
   {
    "duration": 11,
    "start_time": "2022-06-27T18:24:41.106Z"
   },
   {
    "duration": 73,
    "start_time": "2022-06-27T18:25:32.810Z"
   },
   {
    "duration": 10,
    "start_time": "2022-06-27T18:28:33.408Z"
   },
   {
    "duration": 5,
    "start_time": "2022-06-27T18:28:34.401Z"
   },
   {
    "duration": 10,
    "start_time": "2022-06-27T18:28:42.303Z"
   },
   {
    "duration": 11,
    "start_time": "2022-06-27T18:28:55.651Z"
   },
   {
    "duration": 14,
    "start_time": "2022-06-27T18:29:43.546Z"
   },
   {
    "duration": 95,
    "start_time": "2022-06-27T18:30:25.749Z"
   },
   {
    "duration": 4,
    "start_time": "2022-06-27T18:30:31.801Z"
   },
   {
    "duration": 8,
    "start_time": "2022-06-27T18:30:36.305Z"
   },
   {
    "duration": 6,
    "start_time": "2022-06-27T18:30:47.705Z"
   },
   {
    "duration": 8,
    "start_time": "2022-06-27T18:30:49.001Z"
   },
   {
    "duration": 7,
    "start_time": "2022-06-27T18:39:13.247Z"
   },
   {
    "duration": 8,
    "start_time": "2022-06-27T18:39:38.741Z"
   },
   {
    "duration": 41,
    "start_time": "2022-06-27T18:39:41.299Z"
   },
   {
    "duration": 5,
    "start_time": "2022-06-27T18:40:56.702Z"
   },
   {
    "duration": 9,
    "start_time": "2022-06-27T18:41:27.016Z"
   },
   {
    "duration": 9,
    "start_time": "2022-06-27T18:43:08.392Z"
   },
   {
    "duration": 7,
    "start_time": "2022-06-27T18:43:26.787Z"
   },
   {
    "duration": 9,
    "start_time": "2022-06-27T18:43:48.076Z"
   },
   {
    "duration": 4,
    "start_time": "2022-06-27T18:44:31.486Z"
   },
   {
    "duration": 5,
    "start_time": "2022-06-27T18:44:35.076Z"
   },
   {
    "duration": 8,
    "start_time": "2022-06-27T18:44:46.802Z"
   },
   {
    "duration": 8,
    "start_time": "2022-06-27T18:44:56.232Z"
   },
   {
    "duration": 3,
    "start_time": "2022-06-27T18:45:28.544Z"
   },
   {
    "duration": 291,
    "start_time": "2022-06-27T18:45:29.713Z"
   },
   {
    "duration": 22,
    "start_time": "2022-06-27T18:45:33.828Z"
   },
   {
    "duration": 11,
    "start_time": "2022-06-27T18:45:34.789Z"
   },
   {
    "duration": 10,
    "start_time": "2022-06-27T18:45:35.880Z"
   },
   {
    "duration": 22,
    "start_time": "2022-06-27T18:45:36.626Z"
   },
   {
    "duration": 17,
    "start_time": "2022-06-27T18:45:38.432Z"
   },
   {
    "duration": 13,
    "start_time": "2022-06-27T18:46:04.397Z"
   },
   {
    "duration": 11,
    "start_time": "2022-06-27T18:46:04.905Z"
   },
   {
    "duration": 4,
    "start_time": "2022-06-27T18:46:46.500Z"
   },
   {
    "duration": 13,
    "start_time": "2022-06-27T18:47:00.428Z"
   },
   {
    "duration": 12,
    "start_time": "2022-06-27T18:47:01.576Z"
   },
   {
    "duration": 17,
    "start_time": "2022-06-27T18:47:13.331Z"
   },
   {
    "duration": 11,
    "start_time": "2022-06-27T18:47:18.193Z"
   },
   {
    "duration": 10,
    "start_time": "2022-06-27T18:47:19.232Z"
   },
   {
    "duration": 6,
    "start_time": "2022-06-27T18:47:31.131Z"
   },
   {
    "duration": 3,
    "start_time": "2022-06-27T18:47:33.404Z"
   },
   {
    "duration": 7,
    "start_time": "2022-06-27T18:47:37.135Z"
   },
   {
    "duration": 4,
    "start_time": "2022-06-27T18:47:43.778Z"
   },
   {
    "duration": 10,
    "start_time": "2022-06-27T18:47:48.981Z"
   },
   {
    "duration": 9,
    "start_time": "2022-06-27T18:47:50.136Z"
   },
   {
    "duration": 4,
    "start_time": "2022-06-27T18:47:56.875Z"
   },
   {
    "duration": 6,
    "start_time": "2022-06-27T18:47:57.031Z"
   },
   {
    "duration": 7,
    "start_time": "2022-06-27T18:47:57.926Z"
   },
   {
    "duration": 5,
    "start_time": "2022-06-27T18:47:58.228Z"
   },
   {
    "duration": 6,
    "start_time": "2022-06-27T18:48:00.025Z"
   },
   {
    "duration": 21,
    "start_time": "2022-06-27T18:48:01.708Z"
   },
   {
    "duration": 11,
    "start_time": "2022-06-27T18:48:01.928Z"
   },
   {
    "duration": 14,
    "start_time": "2022-06-27T18:48:02.204Z"
   },
   {
    "duration": 19,
    "start_time": "2022-06-27T18:48:05.731Z"
   },
   {
    "duration": 18,
    "start_time": "2022-06-27T18:48:07.230Z"
   },
   {
    "duration": 18,
    "start_time": "2022-06-27T18:48:08.275Z"
   },
   {
    "duration": 23,
    "start_time": "2022-06-27T18:48:09.229Z"
   },
   {
    "duration": 7,
    "start_time": "2022-06-27T18:48:09.426Z"
   },
   {
    "duration": 7,
    "start_time": "2022-06-27T18:48:09.628Z"
   },
   {
    "duration": 4,
    "start_time": "2022-06-27T18:48:11.744Z"
   },
   {
    "duration": 17,
    "start_time": "2022-06-27T18:48:12.172Z"
   },
   {
    "duration": 8,
    "start_time": "2022-06-27T18:48:12.325Z"
   },
   {
    "duration": 18,
    "start_time": "2022-06-27T18:48:14.225Z"
   },
   {
    "duration": 12,
    "start_time": "2022-06-27T18:48:14.400Z"
   },
   {
    "duration": 6,
    "start_time": "2022-06-27T18:48:14.573Z"
   },
   {
    "duration": 12,
    "start_time": "2022-06-27T18:48:17.172Z"
   },
   {
    "duration": 13,
    "start_time": "2022-06-27T18:48:17.600Z"
   },
   {
    "duration": 12,
    "start_time": "2022-06-27T18:48:17.770Z"
   },
   {
    "duration": 16,
    "start_time": "2022-06-27T18:48:21.631Z"
   },
   {
    "duration": 8,
    "start_time": "2022-06-27T18:48:23.530Z"
   },
   {
    "duration": 33,
    "start_time": "2022-06-27T18:48:33.793Z"
   },
   {
    "duration": 22,
    "start_time": "2022-06-27T18:48:34.703Z"
   },
   {
    "duration": 8,
    "start_time": "2022-06-27T18:48:40.694Z"
   },
   {
    "duration": 12,
    "start_time": "2022-06-27T18:49:16.331Z"
   },
   {
    "duration": 11,
    "start_time": "2022-06-27T18:49:27.930Z"
   },
   {
    "duration": 9,
    "start_time": "2022-06-27T18:49:29.225Z"
   },
   {
    "duration": 13,
    "start_time": "2022-06-27T18:49:37.924Z"
   },
   {
    "duration": 4,
    "start_time": "2022-06-27T18:49:38.229Z"
   },
   {
    "duration": 7,
    "start_time": "2022-06-27T18:49:39.120Z"
   },
   {
    "duration": 4,
    "start_time": "2022-06-27T18:49:51.293Z"
   },
   {
    "duration": 3,
    "start_time": "2022-06-27T18:49:52.030Z"
   },
   {
    "duration": 13,
    "start_time": "2022-06-27T18:49:58.397Z"
   },
   {
    "duration": 3,
    "start_time": "2022-06-27T18:52:08.422Z"
   },
   {
    "duration": 303,
    "start_time": "2022-06-27T18:52:08.919Z"
   },
   {
    "duration": 14,
    "start_time": "2022-06-27T18:52:09.417Z"
   },
   {
    "duration": 8,
    "start_time": "2022-06-27T18:52:09.573Z"
   },
   {
    "duration": 12,
    "start_time": "2022-06-27T18:52:09.807Z"
   },
   {
    "duration": 11,
    "start_time": "2022-06-27T18:52:10.120Z"
   },
   {
    "duration": 13,
    "start_time": "2022-06-27T18:52:10.252Z"
   },
   {
    "duration": 10,
    "start_time": "2022-06-27T18:52:10.603Z"
   },
   {
    "duration": 8,
    "start_time": "2022-06-27T18:52:10.671Z"
   },
   {
    "duration": 6,
    "start_time": "2022-06-27T18:52:11.618Z"
   },
   {
    "duration": 3,
    "start_time": "2022-06-27T18:52:12.069Z"
   },
   {
    "duration": 7,
    "start_time": "2022-06-27T18:52:12.271Z"
   },
   {
    "duration": 4,
    "start_time": "2022-06-27T18:52:12.429Z"
   },
   {
    "duration": 10,
    "start_time": "2022-06-27T18:52:12.669Z"
   },
   {
    "duration": 10,
    "start_time": "2022-06-27T18:52:12.869Z"
   },
   {
    "duration": 4,
    "start_time": "2022-06-27T18:52:13.767Z"
   },
   {
    "duration": 6,
    "start_time": "2022-06-27T18:52:13.918Z"
   },
   {
    "duration": 6,
    "start_time": "2022-06-27T18:52:14.417Z"
   },
   {
    "duration": 5,
    "start_time": "2022-06-27T18:52:14.573Z"
   },
   {
    "duration": 6,
    "start_time": "2022-06-27T18:52:14.723Z"
   },
   {
    "duration": 18,
    "start_time": "2022-06-27T18:52:15.074Z"
   },
   {
    "duration": 7,
    "start_time": "2022-06-27T18:52:15.235Z"
   },
   {
    "duration": 14,
    "start_time": "2022-06-27T18:52:15.474Z"
   },
   {
    "duration": 20,
    "start_time": "2022-06-27T18:52:16.270Z"
   },
   {
    "duration": 19,
    "start_time": "2022-06-27T18:52:16.676Z"
   },
   {
    "duration": 18,
    "start_time": "2022-06-27T18:52:17.072Z"
   },
   {
    "duration": 18,
    "start_time": "2022-06-27T18:52:17.469Z"
   },
   {
    "duration": 6,
    "start_time": "2022-06-27T18:52:17.819Z"
   },
   {
    "duration": 7,
    "start_time": "2022-06-27T18:52:18.169Z"
   },
   {
    "duration": 3,
    "start_time": "2022-06-27T18:52:18.521Z"
   },
   {
    "duration": 14,
    "start_time": "2022-06-27T18:52:19.283Z"
   },
   {
    "duration": 7,
    "start_time": "2022-06-27T18:52:19.669Z"
   },
   {
    "duration": 11,
    "start_time": "2022-06-27T18:52:22.520Z"
   },
   {
    "duration": 13,
    "start_time": "2022-06-27T18:52:23.421Z"
   },
   {
    "duration": 7,
    "start_time": "2022-06-27T18:52:23.621Z"
   },
   {
    "duration": 13,
    "start_time": "2022-06-27T18:52:24.618Z"
   },
   {
    "duration": 12,
    "start_time": "2022-06-27T18:52:24.993Z"
   },
   {
    "duration": 12,
    "start_time": "2022-06-27T18:52:25.208Z"
   },
   {
    "duration": 16,
    "start_time": "2022-06-27T18:52:25.568Z"
   },
   {
    "duration": 7,
    "start_time": "2022-06-27T18:52:26.671Z"
   },
   {
    "duration": 18,
    "start_time": "2022-06-27T18:52:31.830Z"
   },
   {
    "duration": 13,
    "start_time": "2022-06-27T18:52:32.917Z"
   },
   {
    "duration": 6,
    "start_time": "2022-06-27T18:52:33.120Z"
   },
   {
    "duration": 4,
    "start_time": "2022-06-27T18:52:42.168Z"
   },
   {
    "duration": 13,
    "start_time": "2022-06-27T18:52:42.918Z"
   },
   {
    "duration": 3,
    "start_time": "2022-06-27T18:53:22.320Z"
   },
   {
    "duration": 16,
    "start_time": "2022-06-27T18:53:23.172Z"
   },
   {
    "duration": 15,
    "start_time": "2022-06-27T18:53:23.871Z"
   },
   {
    "duration": 14,
    "start_time": "2022-06-27T18:53:24.625Z"
   },
   {
    "duration": 3,
    "start_time": "2022-06-27T18:53:27.280Z"
   },
   {
    "duration": 9,
    "start_time": "2022-06-27T18:53:28.171Z"
   },
   {
    "duration": 26,
    "start_time": "2022-06-27T18:53:29.068Z"
   },
   {
    "duration": 25,
    "start_time": "2022-06-27T18:53:29.718Z"
   },
   {
    "duration": 18,
    "start_time": "2022-06-27T18:53:30.819Z"
   },
   {
    "duration": 12,
    "start_time": "2022-06-27T18:53:31.970Z"
   },
   {
    "duration": 4,
    "start_time": "2022-06-27T18:53:34.420Z"
   },
   {
    "duration": 8,
    "start_time": "2022-06-27T18:53:35.971Z"
   },
   {
    "duration": 8,
    "start_time": "2022-06-27T18:53:36.968Z"
   },
   {
    "duration": 8,
    "start_time": "2022-06-27T18:53:40.420Z"
   },
   {
    "duration": 9,
    "start_time": "2022-06-27T18:53:41.367Z"
   },
   {
    "duration": 7,
    "start_time": "2022-06-27T18:53:49.468Z"
   },
   {
    "duration": 20,
    "start_time": "2022-06-27T18:53:50.317Z"
   },
   {
    "duration": 20,
    "start_time": "2022-06-27T18:54:04.405Z"
   },
   {
    "duration": 22,
    "start_time": "2022-06-27T18:54:51.770Z"
   },
   {
    "duration": 6,
    "start_time": "2022-06-27T18:55:59.121Z"
   },
   {
    "duration": 19,
    "start_time": "2022-06-27T18:56:10.518Z"
   },
   {
    "duration": 15,
    "start_time": "2022-06-27T18:56:23.234Z"
   },
   {
    "duration": 20,
    "start_time": "2022-06-27T18:56:24.717Z"
   },
   {
    "duration": 11,
    "start_time": "2022-06-27T18:56:38.269Z"
   },
   {
    "duration": 5,
    "start_time": "2022-06-27T18:56:45.478Z"
   },
   {
    "duration": 6,
    "start_time": "2022-06-27T18:56:46.525Z"
   },
   {
    "duration": 7,
    "start_time": "2022-06-27T18:57:06.967Z"
   },
   {
    "duration": 16,
    "start_time": "2022-06-27T19:01:24.696Z"
   },
   {
    "duration": 751,
    "start_time": "2022-06-27T22:19:42.033Z"
   },
   {
    "duration": 907,
    "start_time": "2022-06-27T22:19:42.786Z"
   },
   {
    "duration": 16,
    "start_time": "2022-06-27T22:19:43.695Z"
   },
   {
    "duration": 9,
    "start_time": "2022-06-27T22:19:43.712Z"
   },
   {
    "duration": 30,
    "start_time": "2022-06-27T22:19:43.722Z"
   },
   {
    "duration": 37,
    "start_time": "2022-06-27T22:19:43.753Z"
   },
   {
    "duration": 27,
    "start_time": "2022-06-27T22:19:43.792Z"
   },
   {
    "duration": 39,
    "start_time": "2022-06-27T22:19:43.821Z"
   },
   {
    "duration": 25,
    "start_time": "2022-06-27T22:19:43.861Z"
   },
   {
    "duration": 24,
    "start_time": "2022-06-27T22:19:43.889Z"
   },
   {
    "duration": 8,
    "start_time": "2022-06-27T22:19:43.915Z"
   },
   {
    "duration": 30,
    "start_time": "2022-06-27T22:19:43.924Z"
   },
   {
    "duration": 10,
    "start_time": "2022-06-27T22:19:43.956Z"
   },
   {
    "duration": 21,
    "start_time": "2022-06-27T22:19:43.968Z"
   },
   {
    "duration": 26,
    "start_time": "2022-06-27T22:19:43.991Z"
   },
   {
    "duration": 14,
    "start_time": "2022-06-27T22:19:44.019Z"
   },
   {
    "duration": 30,
    "start_time": "2022-06-27T22:19:44.035Z"
   },
   {
    "duration": 17,
    "start_time": "2022-06-27T22:19:44.067Z"
   },
   {
    "duration": 30,
    "start_time": "2022-06-27T22:19:44.085Z"
   },
   {
    "duration": 15,
    "start_time": "2022-06-27T22:19:44.117Z"
   },
   {
    "duration": 43,
    "start_time": "2022-06-27T22:19:44.134Z"
   },
   {
    "duration": 17,
    "start_time": "2022-06-27T22:19:44.179Z"
   },
   {
    "duration": 36,
    "start_time": "2022-06-27T22:19:44.198Z"
   },
   {
    "duration": 24,
    "start_time": "2022-06-27T22:19:44.235Z"
   },
   {
    "duration": 21,
    "start_time": "2022-06-27T22:19:44.261Z"
   },
   {
    "duration": 21,
    "start_time": "2022-06-27T22:19:44.283Z"
   },
   {
    "duration": 24,
    "start_time": "2022-06-27T22:19:44.305Z"
   },
   {
    "duration": 6,
    "start_time": "2022-06-27T22:19:44.333Z"
   },
   {
    "duration": 15,
    "start_time": "2022-06-27T22:19:44.340Z"
   },
   {
    "duration": 5,
    "start_time": "2022-06-27T22:19:44.357Z"
   },
   {
    "duration": 34,
    "start_time": "2022-06-27T22:19:44.363Z"
   },
   {
    "duration": 9,
    "start_time": "2022-06-27T22:19:44.398Z"
   },
   {
    "duration": 34,
    "start_time": "2022-06-27T22:19:44.408Z"
   },
   {
    "duration": 23,
    "start_time": "2022-06-27T22:19:44.443Z"
   },
   {
    "duration": 11,
    "start_time": "2022-06-27T22:19:44.467Z"
   },
   {
    "duration": 15,
    "start_time": "2022-06-27T22:19:44.480Z"
   },
   {
    "duration": 12,
    "start_time": "2022-06-27T22:19:44.497Z"
   },
   {
    "duration": 12,
    "start_time": "2022-06-27T22:19:44.510Z"
   },
   {
    "duration": 18,
    "start_time": "2022-06-27T22:19:44.524Z"
   },
   {
    "duration": 7,
    "start_time": "2022-06-27T22:19:44.543Z"
   },
   {
    "duration": 20,
    "start_time": "2022-06-27T22:19:44.551Z"
   },
   {
    "duration": 14,
    "start_time": "2022-06-27T22:19:44.573Z"
   },
   {
    "duration": 9,
    "start_time": "2022-06-27T22:19:44.588Z"
   },
   {
    "duration": 3,
    "start_time": "2022-06-27T22:19:44.599Z"
   },
   {
    "duration": 35,
    "start_time": "2022-06-27T22:19:44.604Z"
   },
   {
    "duration": 2,
    "start_time": "2022-06-27T22:19:44.641Z"
   },
   {
    "duration": 17,
    "start_time": "2022-06-27T22:19:44.645Z"
   },
   {
    "duration": 13,
    "start_time": "2022-06-27T22:19:44.663Z"
   },
   {
    "duration": 14,
    "start_time": "2022-06-27T22:19:44.677Z"
   },
   {
    "duration": 3,
    "start_time": "2022-06-27T22:19:44.693Z"
   },
   {
    "duration": 66,
    "start_time": "2022-06-27T22:32:30.944Z"
   },
   {
    "duration": 3,
    "start_time": "2022-06-27T22:32:40.111Z"
   },
   {
    "duration": 313,
    "start_time": "2022-06-27T22:32:40.117Z"
   },
   {
    "duration": 12,
    "start_time": "2022-06-27T22:32:40.432Z"
   },
   {
    "duration": 10,
    "start_time": "2022-06-27T22:32:40.446Z"
   },
   {
    "duration": 10,
    "start_time": "2022-06-27T22:32:40.457Z"
   },
   {
    "duration": 10,
    "start_time": "2022-06-27T22:32:40.469Z"
   },
   {
    "duration": 12,
    "start_time": "2022-06-27T22:32:40.481Z"
   },
   {
    "duration": 38,
    "start_time": "2022-06-27T22:32:40.495Z"
   },
   {
    "duration": 7,
    "start_time": "2022-06-27T22:32:40.535Z"
   },
   {
    "duration": 7,
    "start_time": "2022-06-27T22:32:40.543Z"
   },
   {
    "duration": 5,
    "start_time": "2022-06-27T22:32:40.551Z"
   },
   {
    "duration": 9,
    "start_time": "2022-06-27T22:32:40.557Z"
   },
   {
    "duration": 5,
    "start_time": "2022-06-27T22:32:40.567Z"
   },
   {
    "duration": 11,
    "start_time": "2022-06-27T22:32:40.573Z"
   },
   {
    "duration": 9,
    "start_time": "2022-06-27T22:32:40.587Z"
   },
   {
    "duration": 33,
    "start_time": "2022-06-27T22:32:40.598Z"
   },
   {
    "duration": 9,
    "start_time": "2022-06-27T22:32:40.633Z"
   },
   {
    "duration": 8,
    "start_time": "2022-06-27T22:32:40.643Z"
   },
   {
    "duration": 7,
    "start_time": "2022-06-27T22:32:40.652Z"
   },
   {
    "duration": 6,
    "start_time": "2022-06-27T22:32:40.661Z"
   },
   {
    "duration": 20,
    "start_time": "2022-06-27T22:32:40.668Z"
   },
   {
    "duration": 8,
    "start_time": "2022-06-27T22:32:40.690Z"
   },
   {
    "duration": 43,
    "start_time": "2022-06-27T22:32:40.699Z"
   },
   {
    "duration": 22,
    "start_time": "2022-06-27T22:32:40.744Z"
   },
   {
    "duration": 20,
    "start_time": "2022-06-27T22:32:40.767Z"
   },
   {
    "duration": 42,
    "start_time": "2022-06-27T22:32:40.789Z"
   },
   {
    "duration": 18,
    "start_time": "2022-06-27T22:32:40.833Z"
   },
   {
    "duration": 6,
    "start_time": "2022-06-27T22:32:40.853Z"
   },
   {
    "duration": 7,
    "start_time": "2022-06-27T22:32:40.861Z"
   },
   {
    "duration": 3,
    "start_time": "2022-06-27T22:32:40.870Z"
   },
   {
    "duration": 30,
    "start_time": "2022-06-27T22:32:40.875Z"
   },
   {
    "duration": 26,
    "start_time": "2022-06-27T22:32:40.906Z"
   },
   {
    "duration": 19,
    "start_time": "2022-06-27T22:32:40.934Z"
   },
   {
    "duration": 25,
    "start_time": "2022-06-27T22:32:40.955Z"
   },
   {
    "duration": 19,
    "start_time": "2022-06-27T22:32:40.982Z"
   },
   {
    "duration": 24,
    "start_time": "2022-06-27T22:32:41.004Z"
   },
   {
    "duration": 13,
    "start_time": "2022-06-27T22:32:41.031Z"
   },
   {
    "duration": 13,
    "start_time": "2022-06-27T22:32:41.046Z"
   },
   {
    "duration": 26,
    "start_time": "2022-06-27T22:32:41.061Z"
   },
   {
    "duration": 22,
    "start_time": "2022-06-27T22:32:41.089Z"
   },
   {
    "duration": 39,
    "start_time": "2022-06-27T22:32:41.112Z"
   },
   {
    "duration": 14,
    "start_time": "2022-06-27T22:32:41.153Z"
   },
   {
    "duration": 29,
    "start_time": "2022-06-27T22:32:41.169Z"
   },
   {
    "duration": 17,
    "start_time": "2022-06-27T22:32:41.200Z"
   },
   {
    "duration": 36,
    "start_time": "2022-06-27T22:32:41.219Z"
   },
   {
    "duration": 25,
    "start_time": "2022-06-27T22:32:41.257Z"
   },
   {
    "duration": 35,
    "start_time": "2022-06-27T22:32:41.284Z"
   },
   {
    "duration": 16,
    "start_time": "2022-06-27T22:32:41.321Z"
   },
   {
    "duration": 16,
    "start_time": "2022-06-27T22:32:41.340Z"
   },
   {
    "duration": 3,
    "start_time": "2022-06-27T22:32:41.358Z"
   },
   {
    "duration": 20,
    "start_time": "2022-06-27T22:32:41.362Z"
   },
   {
    "duration": 49,
    "start_time": "2022-06-27T22:32:41.383Z"
   },
   {
    "duration": 26,
    "start_time": "2022-06-27T22:32:41.434Z"
   },
   {
    "duration": 18,
    "start_time": "2022-06-27T22:32:41.462Z"
   },
   {
    "duration": 15,
    "start_time": "2022-06-27T22:32:41.482Z"
   },
   {
    "duration": 32,
    "start_time": "2022-06-27T22:32:41.498Z"
   },
   {
    "duration": 22,
    "start_time": "2022-06-27T22:32:41.532Z"
   },
   {
    "duration": 25,
    "start_time": "2022-06-27T22:32:41.556Z"
   },
   {
    "duration": 21,
    "start_time": "2022-06-27T22:32:41.583Z"
   },
   {
    "duration": 23,
    "start_time": "2022-06-27T22:32:41.606Z"
   },
   {
    "duration": 29,
    "start_time": "2022-06-27T22:32:41.631Z"
   },
   {
    "duration": 34,
    "start_time": "2022-06-27T22:32:41.662Z"
   },
   {
    "duration": 6,
    "start_time": "2022-06-27T22:32:41.698Z"
   },
   {
    "duration": 28,
    "start_time": "2022-06-27T22:32:41.707Z"
   },
   {
    "duration": 26,
    "start_time": "2022-06-27T22:32:41.737Z"
   },
   {
    "duration": 24,
    "start_time": "2022-06-27T22:33:17.837Z"
   },
   {
    "duration": 8,
    "start_time": "2022-06-27T22:34:26.827Z"
   },
   {
    "duration": 14,
    "start_time": "2022-06-27T22:34:32.860Z"
   },
   {
    "duration": 136,
    "start_time": "2022-06-27T22:34:35.390Z"
   },
   {
    "duration": 8,
    "start_time": "2022-06-27T22:34:48.757Z"
   },
   {
    "duration": 114,
    "start_time": "2022-06-27T22:34:56.526Z"
   },
   {
    "duration": 127,
    "start_time": "2022-06-27T22:35:13.627Z"
   },
   {
    "duration": 99,
    "start_time": "2022-06-27T22:35:19.264Z"
   },
   {
    "duration": 322,
    "start_time": "2022-06-27T22:36:38.011Z"
   },
   {
    "duration": 375,
    "start_time": "2022-06-27T22:36:52.629Z"
   },
   {
    "duration": 124,
    "start_time": "2022-06-27T22:37:45.832Z"
   },
   {
    "duration": 51,
    "start_time": "2022-06-28T12:47:09.811Z"
   },
   {
    "duration": 861,
    "start_time": "2022-06-28T12:47:22.403Z"
   },
   {
    "duration": 993,
    "start_time": "2022-06-28T12:47:23.266Z"
   },
   {
    "duration": 21,
    "start_time": "2022-06-28T12:47:24.261Z"
   },
   {
    "duration": 10,
    "start_time": "2022-06-28T12:47:24.284Z"
   },
   {
    "duration": 13,
    "start_time": "2022-06-28T12:47:24.296Z"
   },
   {
    "duration": 14,
    "start_time": "2022-06-28T12:47:24.310Z"
   },
   {
    "duration": 57,
    "start_time": "2022-06-28T12:47:24.326Z"
   },
   {
    "duration": 20,
    "start_time": "2022-06-28T12:47:24.385Z"
   },
   {
    "duration": 13,
    "start_time": "2022-06-28T12:47:24.406Z"
   },
   {
    "duration": 9,
    "start_time": "2022-06-28T12:47:24.421Z"
   },
   {
    "duration": 4,
    "start_time": "2022-06-28T12:47:24.432Z"
   },
   {
    "duration": 17,
    "start_time": "2022-06-28T12:47:24.438Z"
   },
   {
    "duration": 11,
    "start_time": "2022-06-28T12:47:24.456Z"
   },
   {
    "duration": 12,
    "start_time": "2022-06-28T12:47:24.471Z"
   },
   {
    "duration": 12,
    "start_time": "2022-06-28T12:47:24.485Z"
   },
   {
    "duration": 11,
    "start_time": "2022-06-28T12:47:24.499Z"
   },
   {
    "duration": 15,
    "start_time": "2022-06-28T12:47:24.512Z"
   },
   {
    "duration": 9,
    "start_time": "2022-06-28T12:47:24.529Z"
   },
   {
    "duration": 20,
    "start_time": "2022-06-28T12:47:24.540Z"
   },
   {
    "duration": 21,
    "start_time": "2022-06-28T12:47:24.562Z"
   },
   {
    "duration": 34,
    "start_time": "2022-06-28T12:47:24.585Z"
   },
   {
    "duration": 9,
    "start_time": "2022-06-28T12:47:24.621Z"
   },
   {
    "duration": 44,
    "start_time": "2022-06-28T12:47:24.632Z"
   },
   {
    "duration": 24,
    "start_time": "2022-06-28T12:47:24.678Z"
   },
   {
    "duration": 20,
    "start_time": "2022-06-28T12:47:24.704Z"
   },
   {
    "duration": 43,
    "start_time": "2022-06-28T12:47:24.726Z"
   },
   {
    "duration": 18,
    "start_time": "2022-06-28T12:47:24.771Z"
   },
   {
    "duration": 7,
    "start_time": "2022-06-28T12:47:24.791Z"
   },
   {
    "duration": 5,
    "start_time": "2022-06-28T12:47:24.799Z"
   },
   {
    "duration": 4,
    "start_time": "2022-06-28T12:47:24.806Z"
   },
   {
    "duration": 54,
    "start_time": "2022-06-28T12:47:24.812Z"
   },
   {
    "duration": 8,
    "start_time": "2022-06-28T12:47:24.869Z"
   },
   {
    "duration": 13,
    "start_time": "2022-06-28T12:47:24.879Z"
   },
   {
    "duration": 17,
    "start_time": "2022-06-28T12:47:24.894Z"
   },
   {
    "duration": 6,
    "start_time": "2022-06-28T12:47:24.912Z"
   },
   {
    "duration": 18,
    "start_time": "2022-06-28T12:47:24.920Z"
   },
   {
    "duration": 15,
    "start_time": "2022-06-28T12:47:24.962Z"
   },
   {
    "duration": 13,
    "start_time": "2022-06-28T12:47:24.979Z"
   },
   {
    "duration": 19,
    "start_time": "2022-06-28T12:47:24.994Z"
   },
   {
    "duration": 9,
    "start_time": "2022-06-28T12:47:25.014Z"
   },
   {
    "duration": 21,
    "start_time": "2022-06-28T12:47:25.063Z"
   },
   {
    "duration": 13,
    "start_time": "2022-06-28T12:47:25.086Z"
   },
   {
    "duration": 10,
    "start_time": "2022-06-28T12:47:25.101Z"
   },
   {
    "duration": 5,
    "start_time": "2022-06-28T12:47:25.113Z"
   },
   {
    "duration": 17,
    "start_time": "2022-06-28T12:47:25.120Z"
   },
   {
    "duration": 11,
    "start_time": "2022-06-28T12:47:25.154Z"
   },
   {
    "duration": 29,
    "start_time": "2022-06-28T12:47:25.170Z"
   },
   {
    "duration": 16,
    "start_time": "2022-06-28T12:47:25.201Z"
   },
   {
    "duration": 17,
    "start_time": "2022-06-28T12:47:25.218Z"
   },
   {
    "duration": 3,
    "start_time": "2022-06-28T12:47:25.237Z"
   },
   {
    "duration": 14,
    "start_time": "2022-06-28T12:47:25.254Z"
   },
   {
    "duration": 33,
    "start_time": "2022-06-28T12:47:25.271Z"
   },
   {
    "duration": 24,
    "start_time": "2022-06-28T12:47:25.306Z"
   },
   {
    "duration": 26,
    "start_time": "2022-06-28T12:47:25.352Z"
   },
   {
    "duration": 12,
    "start_time": "2022-06-28T12:47:25.380Z"
   },
   {
    "duration": 7,
    "start_time": "2022-06-28T12:47:25.393Z"
   },
   {
    "duration": 15,
    "start_time": "2022-06-28T12:47:25.401Z"
   },
   {
    "duration": 44,
    "start_time": "2022-06-28T12:47:25.418Z"
   },
   {
    "duration": 13,
    "start_time": "2022-06-28T12:47:25.466Z"
   },
   {
    "duration": 12,
    "start_time": "2022-06-28T12:47:25.481Z"
   },
   {
    "duration": 10,
    "start_time": "2022-06-28T12:47:25.496Z"
   },
   {
    "duration": 53,
    "start_time": "2022-06-28T12:47:25.507Z"
   },
   {
    "duration": 18,
    "start_time": "2022-06-28T12:47:25.564Z"
   },
   {
    "duration": 13,
    "start_time": "2022-06-28T12:47:25.584Z"
   },
   {
    "duration": 16,
    "start_time": "2022-06-28T12:47:25.598Z"
   },
   {
    "duration": 33,
    "start_time": "2022-06-28T12:47:25.616Z"
   },
   {
    "duration": 233,
    "start_time": "2022-06-28T12:47:25.650Z"
   },
   {
    "duration": 354,
    "start_time": "2022-06-28T12:47:25.885Z"
   },
   {
    "duration": 48,
    "start_time": "2022-06-28T12:47:26.241Z"
   },
   {
    "duration": 27,
    "start_time": "2022-06-28T12:47:26.291Z"
   },
   {
    "duration": 40,
    "start_time": "2022-06-28T12:47:26.320Z"
   },
   {
    "duration": 231,
    "start_time": "2022-06-28T13:06:51.046Z"
   },
   {
    "duration": 7,
    "start_time": "2022-06-28T13:09:58.976Z"
   },
   {
    "duration": 228,
    "start_time": "2022-06-28T13:10:03.702Z"
   },
   {
    "duration": 345,
    "start_time": "2022-06-28T13:10:04.723Z"
   },
   {
    "duration": 57,
    "start_time": "2022-06-28T13:10:05.242Z"
   },
   {
    "duration": 40,
    "start_time": "2022-06-28T13:10:06.490Z"
   },
   {
    "duration": 139,
    "start_time": "2022-06-28T13:11:21.670Z"
   },
   {
    "duration": 134,
    "start_time": "2022-06-28T13:11:48.715Z"
   },
   {
    "duration": 225,
    "start_time": "2022-06-28T13:12:00.261Z"
   },
   {
    "duration": 337,
    "start_time": "2022-06-28T13:12:00.635Z"
   },
   {
    "duration": 66,
    "start_time": "2022-06-28T13:12:01.758Z"
   },
   {
    "duration": 155,
    "start_time": "2022-06-28T13:12:02.093Z"
   },
   {
    "duration": 6,
    "start_time": "2022-06-28T13:14:49.506Z"
   },
   {
    "duration": 179,
    "start_time": "2022-06-28T13:16:09.014Z"
   },
   {
    "duration": 6,
    "start_time": "2022-06-28T13:26:57.117Z"
   },
   {
    "duration": 366,
    "start_time": "2022-06-28T13:26:58.505Z"
   },
   {
    "duration": 385,
    "start_time": "2022-06-28T13:27:02.001Z"
   },
   {
    "duration": 280,
    "start_time": "2022-06-28T13:27:14.093Z"
   },
   {
    "duration": 332,
    "start_time": "2022-06-28T13:27:22.573Z"
   },
   {
    "duration": 70,
    "start_time": "2022-06-28T13:27:52.193Z"
   },
   {
    "duration": 12,
    "start_time": "2022-06-28T13:27:54.183Z"
   },
   {
    "duration": 15,
    "start_time": "2022-06-28T13:28:38.264Z"
   },
   {
    "duration": 147,
    "start_time": "2022-06-28T13:28:47.827Z"
   },
   {
    "duration": 138,
    "start_time": "2022-06-28T13:32:54.936Z"
   },
   {
    "duration": 462,
    "start_time": "2022-06-28T13:35:09.032Z"
   },
   {
    "duration": 7,
    "start_time": "2022-06-28T13:36:29.026Z"
   },
   {
    "duration": 105,
    "start_time": "2022-06-28T13:37:00.407Z"
   },
   {
    "duration": 71,
    "start_time": "2022-06-28T13:37:20.004Z"
   },
   {
    "duration": 9,
    "start_time": "2022-06-28T13:38:42.534Z"
   },
   {
    "duration": 21,
    "start_time": "2022-06-28T13:38:51.451Z"
   },
   {
    "duration": 1137,
    "start_time": "2022-06-28T13:39:37.355Z"
   },
   {
    "duration": 17,
    "start_time": "2022-06-28T13:39:50.854Z"
   },
   {
    "duration": 39,
    "start_time": "2022-06-28T13:40:22.420Z"
   },
   {
    "duration": 9,
    "start_time": "2022-06-28T13:49:30.889Z"
   },
   {
    "duration": 39,
    "start_time": "2022-06-28T13:51:53.229Z"
   },
   {
    "duration": 10,
    "start_time": "2022-06-28T13:53:44.410Z"
   },
   {
    "duration": 10,
    "start_time": "2022-06-28T13:55:55.640Z"
   },
   {
    "duration": 570,
    "start_time": "2022-06-28T13:56:36.165Z"
   },
   {
    "duration": 150,
    "start_time": "2022-06-28T13:56:45.749Z"
   },
   {
    "duration": 18,
    "start_time": "2022-06-28T14:01:47.490Z"
   },
   {
    "duration": 206,
    "start_time": "2022-06-28T14:11:08.583Z"
   },
   {
    "duration": 72,
    "start_time": "2022-06-28T16:11:40.759Z"
   },
   {
    "duration": 1291,
    "start_time": "2022-06-28T16:11:47.016Z"
   },
   {
    "duration": 991,
    "start_time": "2022-06-28T16:11:48.309Z"
   },
   {
    "duration": 17,
    "start_time": "2022-06-28T16:11:49.301Z"
   },
   {
    "duration": 12,
    "start_time": "2022-06-28T16:11:49.320Z"
   },
   {
    "duration": 16,
    "start_time": "2022-06-28T16:11:49.334Z"
   },
   {
    "duration": 27,
    "start_time": "2022-06-28T16:11:49.352Z"
   },
   {
    "duration": 17,
    "start_time": "2022-06-28T16:11:49.381Z"
   },
   {
    "duration": 19,
    "start_time": "2022-06-28T16:11:49.400Z"
   },
   {
    "duration": 15,
    "start_time": "2022-06-28T16:11:49.421Z"
   },
   {
    "duration": 33,
    "start_time": "2022-06-28T16:11:49.437Z"
   },
   {
    "duration": 6,
    "start_time": "2022-06-28T16:11:49.472Z"
   },
   {
    "duration": 11,
    "start_time": "2022-06-28T16:11:49.480Z"
   },
   {
    "duration": 8,
    "start_time": "2022-06-28T16:11:49.493Z"
   },
   {
    "duration": 16,
    "start_time": "2022-06-28T16:11:49.503Z"
   },
   {
    "duration": 12,
    "start_time": "2022-06-28T16:11:49.520Z"
   },
   {
    "duration": 7,
    "start_time": "2022-06-28T16:11:49.533Z"
   },
   {
    "duration": 29,
    "start_time": "2022-06-28T16:11:49.541Z"
   },
   {
    "duration": 14,
    "start_time": "2022-06-28T16:11:49.572Z"
   },
   {
    "duration": 15,
    "start_time": "2022-06-28T16:11:49.587Z"
   },
   {
    "duration": 14,
    "start_time": "2022-06-28T16:11:49.604Z"
   },
   {
    "duration": 28,
    "start_time": "2022-06-28T16:11:49.620Z"
   },
   {
    "duration": 19,
    "start_time": "2022-06-28T16:11:49.650Z"
   },
   {
    "duration": 16,
    "start_time": "2022-06-28T16:11:49.671Z"
   },
   {
    "duration": 25,
    "start_time": "2022-06-28T16:11:49.689Z"
   },
   {
    "duration": 30,
    "start_time": "2022-06-28T16:11:49.715Z"
   },
   {
    "duration": 23,
    "start_time": "2022-06-28T16:11:49.747Z"
   },
   {
    "duration": 23,
    "start_time": "2022-06-28T16:11:49.772Z"
   },
   {
    "duration": 6,
    "start_time": "2022-06-28T16:11:49.797Z"
   },
   {
    "duration": 5,
    "start_time": "2022-06-28T16:11:49.804Z"
   },
   {
    "duration": 34,
    "start_time": "2022-06-28T16:11:49.810Z"
   },
   {
    "duration": 32,
    "start_time": "2022-06-28T16:11:49.846Z"
   },
   {
    "duration": 8,
    "start_time": "2022-06-28T16:11:49.879Z"
   },
   {
    "duration": 12,
    "start_time": "2022-06-28T16:11:49.889Z"
   },
   {
    "duration": 14,
    "start_time": "2022-06-28T16:11:49.903Z"
   },
   {
    "duration": 7,
    "start_time": "2022-06-28T16:11:49.919Z"
   },
   {
    "duration": 33,
    "start_time": "2022-06-28T16:11:49.927Z"
   },
   {
    "duration": 18,
    "start_time": "2022-06-28T16:11:49.961Z"
   },
   {
    "duration": 13,
    "start_time": "2022-06-28T16:11:49.981Z"
   },
   {
    "duration": 18,
    "start_time": "2022-06-28T16:11:49.996Z"
   },
   {
    "duration": 47,
    "start_time": "2022-06-28T16:11:50.015Z"
   },
   {
    "duration": 27,
    "start_time": "2022-06-28T16:11:50.067Z"
   },
   {
    "duration": 25,
    "start_time": "2022-06-28T16:11:50.096Z"
   },
   {
    "duration": 7,
    "start_time": "2022-06-28T16:11:50.124Z"
   },
   {
    "duration": 14,
    "start_time": "2022-06-28T16:11:50.135Z"
   },
   {
    "duration": 31,
    "start_time": "2022-06-28T16:11:50.151Z"
   },
   {
    "duration": 5,
    "start_time": "2022-06-28T16:11:50.184Z"
   },
   {
    "duration": 22,
    "start_time": "2022-06-28T16:11:50.190Z"
   },
   {
    "duration": 16,
    "start_time": "2022-06-28T16:11:50.213Z"
   },
   {
    "duration": 27,
    "start_time": "2022-06-28T16:11:50.231Z"
   },
   {
    "duration": 12,
    "start_time": "2022-06-28T16:11:50.260Z"
   },
   {
    "duration": 16,
    "start_time": "2022-06-28T16:11:50.274Z"
   },
   {
    "duration": 29,
    "start_time": "2022-06-28T16:11:50.292Z"
   },
   {
    "duration": 24,
    "start_time": "2022-06-28T16:11:50.323Z"
   },
   {
    "duration": 24,
    "start_time": "2022-06-28T16:11:50.349Z"
   },
   {
    "duration": 12,
    "start_time": "2022-06-28T16:11:50.375Z"
   },
   {
    "duration": 8,
    "start_time": "2022-06-28T16:11:50.388Z"
   },
   {
    "duration": 13,
    "start_time": "2022-06-28T16:11:50.398Z"
   },
   {
    "duration": 27,
    "start_time": "2022-06-28T16:11:50.441Z"
   },
   {
    "duration": 9,
    "start_time": "2022-06-28T16:11:50.470Z"
   },
   {
    "duration": 8,
    "start_time": "2022-06-28T16:11:50.481Z"
   },
   {
    "duration": 8,
    "start_time": "2022-06-28T16:11:50.491Z"
   },
   {
    "duration": 20,
    "start_time": "2022-06-28T16:11:50.500Z"
   },
   {
    "duration": 6,
    "start_time": "2022-06-28T16:11:50.542Z"
   },
   {
    "duration": 33,
    "start_time": "2022-06-28T16:11:50.549Z"
   },
   {
    "duration": 16,
    "start_time": "2022-06-28T16:11:50.583Z"
   },
   {
    "duration": 30,
    "start_time": "2022-06-28T16:11:50.601Z"
   },
   {
    "duration": 242,
    "start_time": "2022-06-28T16:11:50.632Z"
   },
   {
    "duration": 369,
    "start_time": "2022-06-28T16:11:50.876Z"
   },
   {
    "duration": 45,
    "start_time": "2022-06-28T16:11:51.247Z"
   },
   {
    "duration": 159,
    "start_time": "2022-06-28T16:11:51.294Z"
   },
   {
    "duration": 226,
    "start_time": "2022-06-28T16:11:51.455Z"
   },
   {
    "duration": 329,
    "start_time": "2022-06-28T16:11:51.683Z"
   },
   {
    "duration": 61,
    "start_time": "2022-06-28T16:11:52.014Z"
   },
   {
    "duration": 142,
    "start_time": "2022-06-28T16:11:52.077Z"
   },
   {
    "duration": 249,
    "start_time": "2022-06-28T16:11:52.221Z"
   },
   {
    "duration": 427,
    "start_time": "2022-06-28T16:11:52.472Z"
   },
   {
    "duration": 55,
    "start_time": "2022-06-28T16:11:52.901Z"
   },
   {
    "duration": 140,
    "start_time": "2022-06-28T16:11:52.959Z"
   },
   {
    "duration": 4,
    "start_time": "2022-06-28T16:11:53.101Z"
   },
   {
    "duration": 256,
    "start_time": "2022-06-28T16:11:53.107Z"
   },
   {
    "duration": 355,
    "start_time": "2022-06-28T16:11:53.365Z"
   },
   {
    "duration": 54,
    "start_time": "2022-06-28T16:11:53.722Z"
   },
   {
    "duration": 147,
    "start_time": "2022-06-28T16:11:53.778Z"
   },
   {
    "duration": 18,
    "start_time": "2022-06-28T16:11:53.926Z"
   },
   {
    "duration": 1311,
    "start_time": "2022-06-28T17:56:32.673Z"
   },
   {
    "duration": 922,
    "start_time": "2022-06-28T17:56:33.986Z"
   },
   {
    "duration": 21,
    "start_time": "2022-06-28T17:56:34.910Z"
   },
   {
    "duration": 8,
    "start_time": "2022-06-28T17:56:34.933Z"
   },
   {
    "duration": 11,
    "start_time": "2022-06-28T17:56:34.943Z"
   },
   {
    "duration": 11,
    "start_time": "2022-06-28T17:56:34.955Z"
   },
   {
    "duration": 11,
    "start_time": "2022-06-28T17:56:34.968Z"
   },
   {
    "duration": 13,
    "start_time": "2022-06-28T17:56:34.981Z"
   },
   {
    "duration": 9,
    "start_time": "2022-06-28T17:56:34.995Z"
   },
   {
    "duration": 7,
    "start_time": "2022-06-28T17:56:35.005Z"
   },
   {
    "duration": 5,
    "start_time": "2022-06-28T17:56:35.013Z"
   },
   {
    "duration": 39,
    "start_time": "2022-06-28T17:56:35.019Z"
   },
   {
    "duration": 4,
    "start_time": "2022-06-28T17:56:35.060Z"
   },
   {
    "duration": 10,
    "start_time": "2022-06-28T17:56:35.122Z"
   },
   {
    "duration": 27,
    "start_time": "2022-06-28T17:56:35.134Z"
   },
   {
    "duration": 5,
    "start_time": "2022-06-28T17:56:35.162Z"
   },
   {
    "duration": 7,
    "start_time": "2022-06-28T17:56:35.169Z"
   },
   {
    "duration": 7,
    "start_time": "2022-06-28T17:56:35.177Z"
   },
   {
    "duration": 6,
    "start_time": "2022-06-28T17:56:35.186Z"
   },
   {
    "duration": 8,
    "start_time": "2022-06-28T17:56:35.193Z"
   },
   {
    "duration": 20,
    "start_time": "2022-06-28T17:56:35.203Z"
   },
   {
    "duration": 35,
    "start_time": "2022-06-28T17:56:35.225Z"
   },
   {
    "duration": 19,
    "start_time": "2022-06-28T17:56:35.261Z"
   },
   {
    "duration": 22,
    "start_time": "2022-06-28T17:56:35.282Z"
   },
   {
    "duration": 20,
    "start_time": "2022-06-28T17:56:35.305Z"
   },
   {
    "duration": 39,
    "start_time": "2022-06-28T17:56:35.326Z"
   },
   {
    "duration": 18,
    "start_time": "2022-06-28T17:56:35.367Z"
   },
   {
    "duration": 7,
    "start_time": "2022-06-28T17:56:35.387Z"
   },
   {
    "duration": 6,
    "start_time": "2022-06-28T17:56:35.396Z"
   },
   {
    "duration": 4,
    "start_time": "2022-06-28T17:56:35.403Z"
   },
   {
    "duration": 54,
    "start_time": "2022-06-28T17:56:35.408Z"
   },
   {
    "duration": 7,
    "start_time": "2022-06-28T17:56:35.464Z"
   },
   {
    "duration": 15,
    "start_time": "2022-06-28T17:56:35.472Z"
   },
   {
    "duration": 15,
    "start_time": "2022-06-28T17:56:35.489Z"
   },
   {
    "duration": 5,
    "start_time": "2022-06-28T17:56:35.505Z"
   },
   {
    "duration": 13,
    "start_time": "2022-06-28T17:56:35.511Z"
   },
   {
    "duration": 38,
    "start_time": "2022-06-28T17:56:35.525Z"
   },
   {
    "duration": 13,
    "start_time": "2022-06-28T17:56:35.564Z"
   },
   {
    "duration": 18,
    "start_time": "2022-06-28T17:56:35.579Z"
   },
   {
    "duration": 9,
    "start_time": "2022-06-28T17:56:35.599Z"
   },
   {
    "duration": 52,
    "start_time": "2022-06-28T17:56:35.613Z"
   },
   {
    "duration": 14,
    "start_time": "2022-06-28T17:56:35.667Z"
   },
   {
    "duration": 11,
    "start_time": "2022-06-28T17:56:35.683Z"
   },
   {
    "duration": 4,
    "start_time": "2022-06-28T17:56:35.695Z"
   },
   {
    "duration": 12,
    "start_time": "2022-06-28T17:56:35.701Z"
   },
   {
    "duration": 2,
    "start_time": "2022-06-28T17:56:35.715Z"
   },
   {
    "duration": 47,
    "start_time": "2022-06-28T17:56:35.719Z"
   },
   {
    "duration": 15,
    "start_time": "2022-06-28T17:56:35.767Z"
   },
   {
    "duration": 16,
    "start_time": "2022-06-28T17:56:35.784Z"
   },
   {
    "duration": 3,
    "start_time": "2022-06-28T17:56:35.801Z"
   },
   {
    "duration": 10,
    "start_time": "2022-06-28T17:56:35.806Z"
   },
   {
    "duration": 59,
    "start_time": "2022-06-28T17:56:35.818Z"
   },
   {
    "duration": 24,
    "start_time": "2022-06-28T17:56:35.879Z"
   },
   {
    "duration": 16,
    "start_time": "2022-06-28T17:56:35.904Z"
   },
   {
    "duration": 36,
    "start_time": "2022-06-28T17:56:35.921Z"
   },
   {
    "duration": 4,
    "start_time": "2022-06-28T17:56:35.958Z"
   },
   {
    "duration": 11,
    "start_time": "2022-06-28T17:56:35.964Z"
   },
   {
    "duration": 10,
    "start_time": "2022-06-28T17:56:35.977Z"
   },
   {
    "duration": 6,
    "start_time": "2022-06-28T17:56:35.989Z"
   },
   {
    "duration": 7,
    "start_time": "2022-06-28T17:56:35.997Z"
   },
   {
    "duration": 7,
    "start_time": "2022-06-28T17:56:36.006Z"
   },
   {
    "duration": 55,
    "start_time": "2022-06-28T17:56:36.014Z"
   },
   {
    "duration": 5,
    "start_time": "2022-06-28T17:56:36.071Z"
   },
   {
    "duration": 12,
    "start_time": "2022-06-28T17:56:36.077Z"
   },
   {
    "duration": 22,
    "start_time": "2022-06-28T17:56:36.090Z"
   },
   {
    "duration": 54,
    "start_time": "2022-06-28T17:56:36.114Z"
   },
   {
    "duration": 300,
    "start_time": "2022-06-28T17:56:36.169Z"
   },
   {
    "duration": 452,
    "start_time": "2022-06-28T17:56:36.470Z"
   },
   {
    "duration": 48,
    "start_time": "2022-06-28T17:56:36.924Z"
   },
   {
    "duration": 215,
    "start_time": "2022-06-28T17:56:36.974Z"
   },
   {
    "duration": 292,
    "start_time": "2022-06-28T17:56:37.191Z"
   },
   {
    "duration": 419,
    "start_time": "2022-06-28T17:56:37.485Z"
   },
   {
    "duration": 49,
    "start_time": "2022-06-28T17:56:37.905Z"
   },
   {
    "duration": 247,
    "start_time": "2022-06-28T17:56:37.955Z"
   },
   {
    "duration": 350,
    "start_time": "2022-06-28T17:56:38.204Z"
   },
   {
    "duration": 398,
    "start_time": "2022-06-28T17:56:38.556Z"
   },
   {
    "duration": 43,
    "start_time": "2022-06-28T17:56:38.956Z"
   },
   {
    "duration": 270,
    "start_time": "2022-06-28T17:56:39.000Z"
   },
   {
    "duration": 5,
    "start_time": "2022-06-28T17:56:39.271Z"
   },
   {
    "duration": 295,
    "start_time": "2022-06-28T17:56:39.277Z"
   },
   {
    "duration": 458,
    "start_time": "2022-06-28T17:56:39.575Z"
   },
   {
    "duration": 47,
    "start_time": "2022-06-28T17:56:40.035Z"
   },
   {
    "duration": 205,
    "start_time": "2022-06-28T17:56:40.084Z"
   },
   {
    "duration": 9,
    "start_time": "2022-06-28T17:56:40.291Z"
   },
   {
    "duration": 1342,
    "start_time": "2022-06-29T08:38:21.559Z"
   },
   {
    "duration": 1102,
    "start_time": "2022-06-29T08:38:22.904Z"
   },
   {
    "duration": 29,
    "start_time": "2022-06-29T08:38:24.008Z"
   },
   {
    "duration": 16,
    "start_time": "2022-06-29T08:38:24.040Z"
   },
   {
    "duration": 34,
    "start_time": "2022-06-29T08:38:24.059Z"
   },
   {
    "duration": 20,
    "start_time": "2022-06-29T08:38:24.095Z"
   },
   {
    "duration": 15,
    "start_time": "2022-06-29T08:38:24.118Z"
   },
   {
    "duration": 15,
    "start_time": "2022-06-29T08:38:24.134Z"
   },
   {
    "duration": 13,
    "start_time": "2022-06-29T08:38:24.151Z"
   },
   {
    "duration": 13,
    "start_time": "2022-06-29T08:38:24.168Z"
   },
   {
    "duration": 11,
    "start_time": "2022-06-29T08:38:24.182Z"
   },
   {
    "duration": 14,
    "start_time": "2022-06-29T08:38:24.195Z"
   },
   {
    "duration": 4,
    "start_time": "2022-06-29T08:38:24.211Z"
   },
   {
    "duration": 14,
    "start_time": "2022-06-29T08:38:24.243Z"
   },
   {
    "duration": 22,
    "start_time": "2022-06-29T08:38:24.259Z"
   },
   {
    "duration": 10,
    "start_time": "2022-06-29T08:38:24.284Z"
   },
   {
    "duration": 12,
    "start_time": "2022-06-29T08:38:24.296Z"
   },
   {
    "duration": 30,
    "start_time": "2022-06-29T08:38:24.311Z"
   },
   {
    "duration": 11,
    "start_time": "2022-06-29T08:38:24.346Z"
   },
   {
    "duration": 11,
    "start_time": "2022-06-29T08:38:24.359Z"
   },
   {
    "duration": 28,
    "start_time": "2022-06-29T08:38:24.372Z"
   },
   {
    "duration": 43,
    "start_time": "2022-06-29T08:38:24.402Z"
   },
   {
    "duration": 20,
    "start_time": "2022-06-29T08:38:24.447Z"
   },
   {
    "duration": 23,
    "start_time": "2022-06-29T08:38:24.469Z"
   },
   {
    "duration": 19,
    "start_time": "2022-06-29T08:38:24.494Z"
   },
   {
    "duration": 40,
    "start_time": "2022-06-29T08:38:24.515Z"
   },
   {
    "duration": 19,
    "start_time": "2022-06-29T08:38:24.557Z"
   },
   {
    "duration": 7,
    "start_time": "2022-06-29T08:38:24.581Z"
   },
   {
    "duration": 7,
    "start_time": "2022-06-29T08:38:24.590Z"
   },
   {
    "duration": 8,
    "start_time": "2022-06-29T08:38:24.598Z"
   },
   {
    "duration": 15,
    "start_time": "2022-06-29T08:38:24.642Z"
   },
   {
    "duration": 15,
    "start_time": "2022-06-29T08:38:24.659Z"
   },
   {
    "duration": 16,
    "start_time": "2022-06-29T08:38:24.676Z"
   },
   {
    "duration": 25,
    "start_time": "2022-06-29T08:38:24.694Z"
   },
   {
    "duration": 7,
    "start_time": "2022-06-29T08:38:24.720Z"
   },
   {
    "duration": 15,
    "start_time": "2022-06-29T08:38:24.742Z"
   },
   {
    "duration": 13,
    "start_time": "2022-06-29T08:38:24.758Z"
   },
   {
    "duration": 17,
    "start_time": "2022-06-29T08:38:24.773Z"
   },
   {
    "duration": 64,
    "start_time": "2022-06-29T08:38:24.793Z"
   },
   {
    "duration": 15,
    "start_time": "2022-06-29T08:38:24.859Z"
   },
   {
    "duration": 25,
    "start_time": "2022-06-29T08:38:24.876Z"
   },
   {
    "duration": 39,
    "start_time": "2022-06-29T08:38:24.903Z"
   },
   {
    "duration": 7,
    "start_time": "2022-06-29T08:38:24.943Z"
   },
   {
    "duration": 5,
    "start_time": "2022-06-29T08:38:24.952Z"
   },
   {
    "duration": 17,
    "start_time": "2022-06-29T08:38:24.959Z"
   },
   {
    "duration": 7,
    "start_time": "2022-06-29T08:38:24.978Z"
   },
   {
    "duration": 21,
    "start_time": "2022-06-29T08:38:24.987Z"
   },
   {
    "duration": 36,
    "start_time": "2022-06-29T08:38:25.010Z"
   },
   {
    "duration": 23,
    "start_time": "2022-06-29T08:38:25.048Z"
   },
   {
    "duration": 3,
    "start_time": "2022-06-29T08:38:25.073Z"
   },
   {
    "duration": 25,
    "start_time": "2022-06-29T08:38:25.079Z"
   },
   {
    "duration": 71,
    "start_time": "2022-06-29T08:38:25.107Z"
   },
   {
    "duration": 23,
    "start_time": "2022-06-29T08:38:25.180Z"
   },
   {
    "duration": 38,
    "start_time": "2022-06-29T08:38:25.205Z"
   },
   {
    "duration": 11,
    "start_time": "2022-06-29T08:38:25.245Z"
   },
   {
    "duration": 5,
    "start_time": "2022-06-29T08:38:25.258Z"
   },
   {
    "duration": 14,
    "start_time": "2022-06-29T08:38:25.265Z"
   },
   {
    "duration": 11,
    "start_time": "2022-06-29T08:38:25.281Z"
   },
   {
    "duration": 10,
    "start_time": "2022-06-29T08:38:25.294Z"
   },
   {
    "duration": 48,
    "start_time": "2022-06-29T08:38:25.306Z"
   },
   {
    "duration": 13,
    "start_time": "2022-06-29T08:38:25.356Z"
   },
   {
    "duration": 24,
    "start_time": "2022-06-29T08:38:25.371Z"
   },
   {
    "duration": 6,
    "start_time": "2022-06-29T08:38:25.397Z"
   },
   {
    "duration": 60,
    "start_time": "2022-06-29T08:38:25.404Z"
   },
   {
    "duration": 16,
    "start_time": "2022-06-29T08:38:25.466Z"
   },
   {
    "duration": 38,
    "start_time": "2022-06-29T08:38:25.484Z"
   },
   {
    "duration": 242,
    "start_time": "2022-06-29T08:38:25.524Z"
   },
   {
    "duration": 335,
    "start_time": "2022-06-29T08:38:25.768Z"
   },
   {
    "duration": 50,
    "start_time": "2022-06-29T08:38:26.104Z"
   },
   {
    "duration": 151,
    "start_time": "2022-06-29T08:38:26.156Z"
   },
   {
    "duration": 225,
    "start_time": "2022-06-29T08:38:26.308Z"
   },
   {
    "duration": 383,
    "start_time": "2022-06-29T08:38:26.535Z"
   },
   {
    "duration": 66,
    "start_time": "2022-06-29T08:38:26.920Z"
   },
   {
    "duration": 134,
    "start_time": "2022-06-29T08:38:26.987Z"
   },
   {
    "duration": 255,
    "start_time": "2022-06-29T08:38:27.123Z"
   },
   {
    "duration": 451,
    "start_time": "2022-06-29T08:38:27.380Z"
   },
   {
    "duration": 44,
    "start_time": "2022-06-29T08:38:27.841Z"
   },
   {
    "duration": 176,
    "start_time": "2022-06-29T08:38:27.887Z"
   },
   {
    "duration": 5,
    "start_time": "2022-06-29T08:38:28.065Z"
   },
   {
    "duration": 229,
    "start_time": "2022-06-29T08:38:28.072Z"
   },
   {
    "duration": 350,
    "start_time": "2022-06-29T08:38:28.302Z"
   },
   {
    "duration": 43,
    "start_time": "2022-06-29T08:38:28.658Z"
   },
   {
    "duration": 151,
    "start_time": "2022-06-29T08:38:28.703Z"
   },
   {
    "duration": 10,
    "start_time": "2022-06-29T08:38:28.856Z"
   },
   {
    "duration": 24,
    "start_time": "2022-06-29T12:31:38.272Z"
   },
   {
    "duration": 27,
    "start_time": "2022-06-29T12:31:45.908Z"
   },
   {
    "duration": 38,
    "start_time": "2022-06-29T13:27:02.434Z"
   },
   {
    "duration": 54,
    "start_time": "2022-06-29T15:44:13.692Z"
   },
   {
    "duration": 1289,
    "start_time": "2022-06-29T15:44:25.314Z"
   },
   {
    "duration": 1046,
    "start_time": "2022-06-29T15:44:26.605Z"
   },
   {
    "duration": 32,
    "start_time": "2022-06-29T15:44:27.655Z"
   },
   {
    "duration": 10,
    "start_time": "2022-06-29T15:44:27.688Z"
   },
   {
    "duration": 13,
    "start_time": "2022-06-29T15:44:27.700Z"
   },
   {
    "duration": 18,
    "start_time": "2022-06-29T15:44:27.714Z"
   },
   {
    "duration": 32,
    "start_time": "2022-06-29T15:44:27.733Z"
   },
   {
    "duration": 21,
    "start_time": "2022-06-29T15:44:27.766Z"
   },
   {
    "duration": 12,
    "start_time": "2022-06-29T15:44:27.789Z"
   },
   {
    "duration": 8,
    "start_time": "2022-06-29T15:44:27.803Z"
   },
   {
    "duration": 6,
    "start_time": "2022-06-29T15:44:27.813Z"
   },
   {
    "duration": 10,
    "start_time": "2022-06-29T15:44:27.820Z"
   },
   {
    "duration": 3,
    "start_time": "2022-06-29T15:44:27.832Z"
   },
   {
    "duration": 13,
    "start_time": "2022-06-29T15:44:27.861Z"
   },
   {
    "duration": 13,
    "start_time": "2022-06-29T15:44:27.875Z"
   },
   {
    "duration": 5,
    "start_time": "2022-06-29T15:44:27.890Z"
   },
   {
    "duration": 8,
    "start_time": "2022-06-29T15:44:27.897Z"
   },
   {
    "duration": 7,
    "start_time": "2022-06-29T15:44:27.907Z"
   },
   {
    "duration": 9,
    "start_time": "2022-06-29T15:44:27.916Z"
   },
   {
    "duration": 54,
    "start_time": "2022-06-29T15:44:27.926Z"
   },
   {
    "duration": 9,
    "start_time": "2022-06-29T15:44:27.982Z"
   },
   {
    "duration": 18,
    "start_time": "2022-06-29T15:44:27.993Z"
   },
   {
    "duration": 51,
    "start_time": "2022-06-29T15:44:28.013Z"
   },
   {
    "duration": 21,
    "start_time": "2022-06-29T15:44:28.071Z"
   },
   {
    "duration": 29,
    "start_time": "2022-06-29T15:44:28.094Z"
   },
   {
    "duration": 7,
    "start_time": "2022-06-29T15:44:28.125Z"
   },
   {
    "duration": 23,
    "start_time": "2022-06-29T15:44:28.134Z"
   },
   {
    "duration": 7,
    "start_time": "2022-06-29T15:44:28.158Z"
   },
   {
    "duration": 49,
    "start_time": "2022-06-29T15:44:28.166Z"
   },
   {
    "duration": 14,
    "start_time": "2022-06-29T15:44:28.217Z"
   },
   {
    "duration": 35,
    "start_time": "2022-06-29T15:44:28.233Z"
   },
   {
    "duration": 49,
    "start_time": "2022-06-29T15:44:28.273Z"
   },
   {
    "duration": 7,
    "start_time": "2022-06-29T15:44:28.324Z"
   },
   {
    "duration": 18,
    "start_time": "2022-06-29T15:44:28.333Z"
   },
   {
    "duration": 40,
    "start_time": "2022-06-29T15:44:28.352Z"
   },
   {
    "duration": 33,
    "start_time": "2022-06-29T15:44:28.394Z"
   },
   {
    "duration": 10,
    "start_time": "2022-06-29T15:44:28.429Z"
   },
   {
    "duration": 69,
    "start_time": "2022-06-29T15:44:28.441Z"
   },
   {
    "duration": 17,
    "start_time": "2022-06-29T15:44:28.513Z"
   },
   {
    "duration": 15,
    "start_time": "2022-06-29T15:44:28.531Z"
   },
   {
    "duration": 15,
    "start_time": "2022-06-29T15:44:28.550Z"
   },
   {
    "duration": 16,
    "start_time": "2022-06-29T15:44:28.566Z"
   },
   {
    "duration": 19,
    "start_time": "2022-06-29T15:44:28.583Z"
   },
   {
    "duration": 15,
    "start_time": "2022-06-29T15:44:28.603Z"
   },
   {
    "duration": 3,
    "start_time": "2022-06-29T15:44:28.619Z"
   },
   {
    "duration": 23,
    "start_time": "2022-06-29T15:44:28.624Z"
   },
   {
    "duration": 39,
    "start_time": "2022-06-29T15:45:43.694Z"
   },
   {
    "duration": 71,
    "start_time": "2022-06-29T17:07:16.934Z"
   },
   {
    "duration": 3,
    "start_time": "2022-06-29T17:07:22.178Z"
   },
   {
    "duration": 357,
    "start_time": "2022-06-29T17:07:22.183Z"
   },
   {
    "duration": 15,
    "start_time": "2022-06-29T17:07:22.543Z"
   },
   {
    "duration": 12,
    "start_time": "2022-06-29T17:07:22.559Z"
   },
   {
    "duration": 16,
    "start_time": "2022-06-29T17:07:22.573Z"
   },
   {
    "duration": 19,
    "start_time": "2022-06-29T17:07:22.591Z"
   },
   {
    "duration": 15,
    "start_time": "2022-06-29T17:07:22.612Z"
   },
   {
    "duration": 12,
    "start_time": "2022-06-29T17:07:22.654Z"
   },
   {
    "duration": 18,
    "start_time": "2022-06-29T17:07:22.669Z"
   },
   {
    "duration": 13,
    "start_time": "2022-06-29T17:07:22.689Z"
   },
   {
    "duration": 6,
    "start_time": "2022-06-29T17:07:22.706Z"
   },
   {
    "duration": 14,
    "start_time": "2022-06-29T17:07:22.714Z"
   },
   {
    "duration": 27,
    "start_time": "2022-06-29T17:07:22.730Z"
   },
   {
    "duration": 18,
    "start_time": "2022-06-29T17:07:22.760Z"
   },
   {
    "duration": 18,
    "start_time": "2022-06-29T17:07:22.780Z"
   },
   {
    "duration": 6,
    "start_time": "2022-06-29T17:07:22.800Z"
   },
   {
    "duration": 12,
    "start_time": "2022-06-29T17:07:22.807Z"
   },
   {
    "duration": 9,
    "start_time": "2022-06-29T17:07:22.821Z"
   },
   {
    "duration": 30,
    "start_time": "2022-06-29T17:07:22.832Z"
   },
   {
    "duration": 23,
    "start_time": "2022-06-29T17:07:22.864Z"
   },
   {
    "duration": 11,
    "start_time": "2022-06-29T17:07:22.889Z"
   },
   {
    "duration": 22,
    "start_time": "2022-06-29T17:07:22.902Z"
   },
   {
    "duration": 64,
    "start_time": "2022-06-29T17:07:22.926Z"
   },
   {
    "duration": 24,
    "start_time": "2022-06-29T17:07:22.993Z"
   },
   {
    "duration": 40,
    "start_time": "2022-06-29T17:07:23.020Z"
   },
   {
    "duration": 10,
    "start_time": "2022-06-29T17:07:23.062Z"
   },
   {
    "duration": 8,
    "start_time": "2022-06-29T17:07:23.074Z"
   },
   {
    "duration": 9,
    "start_time": "2022-06-29T17:07:23.084Z"
   },
   {
    "duration": 23,
    "start_time": "2022-06-29T17:07:23.100Z"
   },
   {
    "duration": 11,
    "start_time": "2022-06-29T17:07:23.158Z"
   },
   {
    "duration": 18,
    "start_time": "2022-06-29T17:07:23.175Z"
   },
   {
    "duration": 22,
    "start_time": "2022-06-29T17:07:23.196Z"
   },
   {
    "duration": 16,
    "start_time": "2022-06-29T17:07:23.221Z"
   },
   {
    "duration": 36,
    "start_time": "2022-06-29T17:07:23.239Z"
   },
   {
    "duration": 15,
    "start_time": "2022-06-29T17:07:23.278Z"
   },
   {
    "duration": 27,
    "start_time": "2022-06-29T17:07:23.296Z"
   },
   {
    "duration": 33,
    "start_time": "2022-06-29T17:07:23.325Z"
   },
   {
    "duration": 30,
    "start_time": "2022-06-29T17:07:23.360Z"
   },
   {
    "duration": 23,
    "start_time": "2022-06-29T17:07:23.392Z"
   },
   {
    "duration": 38,
    "start_time": "2022-06-29T17:07:23.417Z"
   },
   {
    "duration": 5,
    "start_time": "2022-06-29T17:07:23.456Z"
   },
   {
    "duration": 12,
    "start_time": "2022-06-29T17:07:23.465Z"
   },
   {
    "duration": 27,
    "start_time": "2022-06-29T17:07:23.479Z"
   },
   {
    "duration": 33,
    "start_time": "2022-06-29T17:07:23.509Z"
   },
   {
    "duration": 4,
    "start_time": "2022-06-29T17:07:23.543Z"
   },
   {
    "duration": 24,
    "start_time": "2022-06-29T17:07:23.554Z"
   },
   {
    "duration": 38,
    "start_time": "2022-06-29T17:07:23.580Z"
   },
   {
    "duration": 48,
    "start_time": "2022-06-29T17:07:23.620Z"
   },
   {
    "duration": 30,
    "start_time": "2022-06-29T17:07:23.671Z"
   },
   {
    "duration": 43,
    "start_time": "2022-06-29T17:07:23.703Z"
   },
   {
    "duration": 7,
    "start_time": "2022-06-29T17:07:23.748Z"
   },
   {
    "duration": 22,
    "start_time": "2022-06-29T17:07:23.757Z"
   },
   {
    "duration": 13,
    "start_time": "2022-06-29T17:07:23.781Z"
   },
   {
    "duration": 25,
    "start_time": "2022-06-29T17:07:23.797Z"
   },
   {
    "duration": 24,
    "start_time": "2022-06-29T17:07:23.825Z"
   },
   {
    "duration": 32,
    "start_time": "2022-06-29T17:07:23.852Z"
   },
   {
    "duration": 45,
    "start_time": "2022-06-29T17:07:23.886Z"
   },
   {
    "duration": 16,
    "start_time": "2022-06-29T17:07:23.933Z"
   },
   {
    "duration": 31,
    "start_time": "2022-06-29T17:07:23.951Z"
   },
   {
    "duration": 22,
    "start_time": "2022-06-29T17:07:23.984Z"
   },
   {
    "duration": 324,
    "start_time": "2022-06-29T17:07:24.009Z"
   },
   {
    "duration": 320,
    "start_time": "2022-06-29T17:07:24.335Z"
   },
   {
    "duration": 60,
    "start_time": "2022-06-29T17:07:24.657Z"
   },
   {
    "duration": 153,
    "start_time": "2022-06-29T17:07:24.719Z"
   },
   {
    "duration": 225,
    "start_time": "2022-06-29T17:07:24.873Z"
   },
   {
    "duration": 458,
    "start_time": "2022-06-29T17:07:25.101Z"
   },
   {
    "duration": 42,
    "start_time": "2022-06-29T17:07:25.561Z"
   },
   {
    "duration": 167,
    "start_time": "2022-06-29T17:07:25.605Z"
   },
   {
    "duration": 283,
    "start_time": "2022-06-29T17:07:25.774Z"
   },
   {
    "duration": 423,
    "start_time": "2022-06-29T17:07:26.058Z"
   },
   {
    "duration": 40,
    "start_time": "2022-06-29T17:07:26.483Z"
   },
   {
    "duration": 158,
    "start_time": "2022-06-29T17:07:26.525Z"
   },
   {
    "duration": 41,
    "start_time": "2022-06-29T17:07:29.235Z"
   },
   {
    "duration": 1646,
    "start_time": "2022-06-29T17:09:22.780Z"
   },
   {
    "duration": 1401,
    "start_time": "2022-06-29T17:09:37.779Z"
   },
   {
    "duration": 3,
    "start_time": "2022-06-29T17:09:42.921Z"
   },
   {
    "duration": 334,
    "start_time": "2022-06-29T17:09:42.926Z"
   },
   {
    "duration": 17,
    "start_time": "2022-06-29T17:09:43.263Z"
   },
   {
    "duration": 8,
    "start_time": "2022-06-29T17:09:43.282Z"
   },
   {
    "duration": 14,
    "start_time": "2022-06-29T17:09:43.293Z"
   },
   {
    "duration": 23,
    "start_time": "2022-06-29T17:09:43.308Z"
   },
   {
    "duration": 24,
    "start_time": "2022-06-29T17:09:43.332Z"
   },
   {
    "duration": 13,
    "start_time": "2022-06-29T17:09:43.357Z"
   },
   {
    "duration": 11,
    "start_time": "2022-06-29T17:09:43.372Z"
   },
   {
    "duration": 7,
    "start_time": "2022-06-29T17:09:43.385Z"
   },
   {
    "duration": 6,
    "start_time": "2022-06-29T17:09:43.395Z"
   },
   {
    "duration": 9,
    "start_time": "2022-06-29T17:09:43.402Z"
   },
   {
    "duration": 5,
    "start_time": "2022-06-29T17:09:43.413Z"
   },
   {
    "duration": 42,
    "start_time": "2022-06-29T17:09:43.420Z"
   },
   {
    "duration": 11,
    "start_time": "2022-06-29T17:09:43.464Z"
   },
   {
    "duration": 6,
    "start_time": "2022-06-29T17:09:43.476Z"
   },
   {
    "duration": 8,
    "start_time": "2022-06-29T17:09:43.484Z"
   },
   {
    "duration": 7,
    "start_time": "2022-06-29T17:09:43.495Z"
   },
   {
    "duration": 6,
    "start_time": "2022-06-29T17:09:43.504Z"
   },
   {
    "duration": 56,
    "start_time": "2022-06-29T17:09:43.512Z"
   },
   {
    "duration": 10,
    "start_time": "2022-06-29T17:09:43.569Z"
   },
   {
    "duration": 30,
    "start_time": "2022-06-29T17:09:43.581Z"
   },
   {
    "duration": 45,
    "start_time": "2022-06-29T17:09:43.613Z"
   },
   {
    "duration": 19,
    "start_time": "2022-06-29T17:09:43.660Z"
   },
   {
    "duration": 17,
    "start_time": "2022-06-29T17:09:43.680Z"
   },
   {
    "duration": 6,
    "start_time": "2022-06-29T17:09:43.699Z"
   },
   {
    "duration": 9,
    "start_time": "2022-06-29T17:09:43.706Z"
   },
   {
    "duration": 4,
    "start_time": "2022-06-29T17:09:43.716Z"
   },
   {
    "duration": 39,
    "start_time": "2022-06-29T17:09:43.725Z"
   },
   {
    "duration": 7,
    "start_time": "2022-06-29T17:09:43.766Z"
   },
   {
    "duration": 13,
    "start_time": "2022-06-29T17:09:43.775Z"
   },
   {
    "duration": 15,
    "start_time": "2022-06-29T17:09:43.789Z"
   },
   {
    "duration": 5,
    "start_time": "2022-06-29T17:09:43.806Z"
   },
   {
    "duration": 43,
    "start_time": "2022-06-29T17:09:43.813Z"
   },
   {
    "duration": 13,
    "start_time": "2022-06-29T17:09:43.857Z"
   },
   {
    "duration": 20,
    "start_time": "2022-06-29T17:09:43.872Z"
   },
   {
    "duration": 10,
    "start_time": "2022-06-29T17:09:43.894Z"
   },
   {
    "duration": 47,
    "start_time": "2022-06-29T17:09:43.906Z"
   },
   {
    "duration": 14,
    "start_time": "2022-06-29T17:09:43.955Z"
   },
   {
    "duration": 15,
    "start_time": "2022-06-29T17:09:43.972Z"
   },
   {
    "duration": 11,
    "start_time": "2022-06-29T17:09:43.988Z"
   },
   {
    "duration": 7,
    "start_time": "2022-06-29T17:09:44.001Z"
   },
   {
    "duration": 21,
    "start_time": "2022-06-29T17:09:44.011Z"
   },
   {
    "duration": 32,
    "start_time": "2022-06-29T17:09:44.034Z"
   },
   {
    "duration": 4,
    "start_time": "2022-06-29T17:09:44.069Z"
   },
   {
    "duration": 16,
    "start_time": "2022-06-29T17:09:44.075Z"
   },
   {
    "duration": 28,
    "start_time": "2022-06-29T17:09:44.093Z"
   },
   {
    "duration": 49,
    "start_time": "2022-06-29T17:09:44.123Z"
   },
   {
    "duration": 22,
    "start_time": "2022-06-29T17:09:44.174Z"
   },
   {
    "duration": 14,
    "start_time": "2022-06-29T17:09:44.198Z"
   },
   {
    "duration": 6,
    "start_time": "2022-06-29T17:09:44.214Z"
   },
   {
    "duration": 42,
    "start_time": "2022-06-29T17:09:44.221Z"
   },
   {
    "duration": 11,
    "start_time": "2022-06-29T17:09:44.265Z"
   },
   {
    "duration": 8,
    "start_time": "2022-06-29T17:09:44.278Z"
   },
   {
    "duration": 11,
    "start_time": "2022-06-29T17:09:44.287Z"
   },
   {
    "duration": 8,
    "start_time": "2022-06-29T17:09:44.300Z"
   },
   {
    "duration": 47,
    "start_time": "2022-06-29T17:09:44.310Z"
   },
   {
    "duration": 11,
    "start_time": "2022-06-29T17:09:44.359Z"
   },
   {
    "duration": 14,
    "start_time": "2022-06-29T17:09:44.372Z"
   },
   {
    "duration": 20,
    "start_time": "2022-06-29T17:09:44.388Z"
   },
   {
    "duration": 221,
    "start_time": "2022-06-29T17:09:44.410Z"
   },
   {
    "duration": 305,
    "start_time": "2022-06-29T17:09:44.633Z"
   },
   {
    "duration": 46,
    "start_time": "2022-06-29T17:09:44.940Z"
   },
   {
    "duration": 141,
    "start_time": "2022-06-29T17:09:44.987Z"
   },
   {
    "duration": 214,
    "start_time": "2022-06-29T17:09:45.130Z"
   },
   {
    "duration": 317,
    "start_time": "2022-06-29T17:09:45.346Z"
   },
   {
    "duration": 39,
    "start_time": "2022-06-29T17:09:45.665Z"
   },
   {
    "duration": 225,
    "start_time": "2022-06-29T17:09:45.706Z"
   },
   {
    "duration": 217,
    "start_time": "2022-06-29T17:09:45.933Z"
   },
   {
    "duration": 313,
    "start_time": "2022-06-29T17:09:46.153Z"
   },
   {
    "duration": 39,
    "start_time": "2022-06-29T17:09:46.468Z"
   },
   {
    "duration": 154,
    "start_time": "2022-06-29T17:09:46.508Z"
   },
   {
    "duration": 29,
    "start_time": "2022-06-29T17:09:46.664Z"
   },
   {
    "duration": 5,
    "start_time": "2022-06-29T17:09:46.694Z"
   },
   {
    "duration": 11,
    "start_time": "2022-06-29T17:09:46.700Z"
   },
   {
    "duration": 240,
    "start_time": "2022-06-29T17:09:46.713Z"
   },
   {
    "duration": 329,
    "start_time": "2022-06-29T17:09:46.955Z"
   },
   {
    "duration": 38,
    "start_time": "2022-06-29T17:09:47.286Z"
   },
   {
    "duration": 155,
    "start_time": "2022-06-29T17:09:47.326Z"
   },
   {
    "duration": 8,
    "start_time": "2022-06-29T17:09:47.483Z"
   },
   {
    "duration": 26,
    "start_time": "2022-06-29T17:16:48.834Z"
   },
   {
    "duration": 16,
    "start_time": "2022-06-29T17:18:16.635Z"
   },
   {
    "duration": 12,
    "start_time": "2022-06-29T17:18:21.688Z"
   },
   {
    "duration": 44,
    "start_time": "2022-06-29T17:19:33.372Z"
   },
   {
    "duration": 51,
    "start_time": "2022-06-29T17:21:07.436Z"
   },
   {
    "duration": 40,
    "start_time": "2022-06-29T17:21:46.851Z"
   },
   {
    "duration": 11,
    "start_time": "2022-06-29T17:24:01.946Z"
   },
   {
    "duration": 121,
    "start_time": "2022-06-29T17:31:32.148Z"
   },
   {
    "duration": 104,
    "start_time": "2022-06-29T17:31:50.909Z"
   },
   {
    "duration": 10,
    "start_time": "2022-06-29T17:37:46.450Z"
   },
   {
    "duration": 12,
    "start_time": "2022-06-29T17:37:53.087Z"
   },
   {
    "duration": 17,
    "start_time": "2022-06-29T17:38:00.885Z"
   },
   {
    "duration": 12,
    "start_time": "2022-06-29T17:39:49.376Z"
   },
   {
    "duration": 7,
    "start_time": "2022-06-29T17:40:05.415Z"
   },
   {
    "duration": 7,
    "start_time": "2022-06-29T17:40:29.367Z"
   },
   {
    "duration": 9,
    "start_time": "2022-06-29T17:40:41.372Z"
   },
   {
    "duration": 7,
    "start_time": "2022-06-29T17:40:51.514Z"
   },
   {
    "duration": 35,
    "start_time": "2022-06-29T17:41:09.770Z"
   },
   {
    "duration": 20,
    "start_time": "2022-06-29T17:41:15.175Z"
   },
   {
    "duration": 17,
    "start_time": "2022-06-29T17:41:41.472Z"
   },
   {
    "duration": 20,
    "start_time": "2022-06-29T17:42:25.805Z"
   },
   {
    "duration": 24,
    "start_time": "2022-06-29T17:43:13.013Z"
   },
   {
    "duration": 21,
    "start_time": "2022-06-29T17:44:09.267Z"
   },
   {
    "duration": 18,
    "start_time": "2022-06-29T17:46:06.983Z"
   },
   {
    "duration": 120,
    "start_time": "2022-06-29T17:47:41.852Z"
   },
   {
    "duration": 5,
    "start_time": "2022-06-29T17:48:21.034Z"
   },
   {
    "duration": 5,
    "start_time": "2022-06-29T17:50:22.504Z"
   },
   {
    "duration": 5,
    "start_time": "2022-06-29T17:50:29.813Z"
   },
   {
    "duration": 322,
    "start_time": "2022-06-29T17:54:02.405Z"
   },
   {
    "duration": 339,
    "start_time": "2022-06-29T17:54:23.203Z"
   },
   {
    "duration": 347,
    "start_time": "2022-06-29T17:54:34.301Z"
   },
   {
    "duration": 37,
    "start_time": "2022-06-29T17:55:43.604Z"
   },
   {
    "duration": 9,
    "start_time": "2022-06-29T17:55:56.151Z"
   },
   {
    "duration": 33,
    "start_time": "2022-06-29T17:56:29.250Z"
   },
   {
    "duration": 34,
    "start_time": "2022-06-29T17:56:36.901Z"
   },
   {
    "duration": 35,
    "start_time": "2022-06-29T17:56:48.701Z"
   },
   {
    "duration": 19,
    "start_time": "2022-06-29T17:57:30.243Z"
   },
   {
    "duration": 20,
    "start_time": "2022-06-29T17:58:18.167Z"
   },
   {
    "duration": 33,
    "start_time": "2022-06-29T17:59:33.255Z"
   },
   {
    "duration": 18,
    "start_time": "2022-06-29T17:59:41.301Z"
   },
   {
    "duration": 15,
    "start_time": "2022-06-29T18:00:54.503Z"
   },
   {
    "duration": 11,
    "start_time": "2022-06-29T18:01:36.388Z"
   },
   {
    "duration": 7,
    "start_time": "2022-06-29T18:01:44.533Z"
   },
   {
    "duration": 8,
    "start_time": "2022-06-29T18:03:36.351Z"
   },
   {
    "duration": 7,
    "start_time": "2022-06-29T18:03:51.999Z"
   },
   {
    "duration": 8,
    "start_time": "2022-06-29T18:04:21.594Z"
   },
   {
    "duration": 9,
    "start_time": "2022-06-29T18:04:55.696Z"
   },
   {
    "duration": 7,
    "start_time": "2022-06-29T18:05:19.393Z"
   },
   {
    "duration": 9,
    "start_time": "2022-06-29T18:08:36.444Z"
   },
   {
    "duration": 15,
    "start_time": "2022-06-29T18:09:03.344Z"
   },
   {
    "duration": 17,
    "start_time": "2022-06-29T18:09:30.241Z"
   },
   {
    "duration": 6,
    "start_time": "2022-06-29T18:10:21.339Z"
   },
   {
    "duration": 9,
    "start_time": "2022-06-29T18:10:42.754Z"
   },
   {
    "duration": 3,
    "start_time": "2022-06-29T18:27:49.604Z"
   },
   {
    "duration": 5,
    "start_time": "2022-06-29T18:28:19.313Z"
   },
   {
    "duration": 26,
    "start_time": "2022-06-29T18:30:23.104Z"
   },
   {
    "duration": 5,
    "start_time": "2022-06-29T18:37:57.640Z"
   },
   {
    "duration": 5,
    "start_time": "2022-06-29T18:38:06.086Z"
   },
   {
    "duration": 5,
    "start_time": "2022-06-29T18:38:11.974Z"
   },
   {
    "duration": 4,
    "start_time": "2022-06-29T18:42:09.871Z"
   },
   {
    "duration": 4,
    "start_time": "2022-06-29T18:42:10.292Z"
   },
   {
    "duration": 5,
    "start_time": "2022-06-29T18:42:10.840Z"
   },
   {
    "duration": 4,
    "start_time": "2022-06-29T18:45:24.825Z"
   },
   {
    "duration": 3,
    "start_time": "2022-06-29T18:45:25.430Z"
   },
   {
    "duration": 5,
    "start_time": "2022-06-29T18:45:26.041Z"
   },
   {
    "duration": 5,
    "start_time": "2022-06-29T18:45:43.915Z"
   },
   {
    "duration": 5,
    "start_time": "2022-06-29T18:46:10.770Z"
   },
   {
    "duration": 5,
    "start_time": "2022-06-29T18:46:55.605Z"
   },
   {
    "duration": 5,
    "start_time": "2022-06-29T18:47:09.917Z"
   },
   {
    "duration": 5,
    "start_time": "2022-06-29T18:51:11.134Z"
   },
   {
    "duration": 4,
    "start_time": "2022-06-29T18:53:32.770Z"
   },
   {
    "duration": 5,
    "start_time": "2022-06-29T18:53:48.315Z"
   },
   {
    "duration": 4,
    "start_time": "2022-06-29T18:55:40.307Z"
   },
   {
    "duration": 4,
    "start_time": "2022-06-29T18:55:41.373Z"
   },
   {
    "duration": 5,
    "start_time": "2022-06-29T18:55:42.138Z"
   },
   {
    "duration": 1406,
    "start_time": "2022-06-29T20:00:58.433Z"
   },
   {
    "duration": 3,
    "start_time": "2022-06-29T20:01:24.734Z"
   },
   {
    "duration": 320,
    "start_time": "2022-06-29T20:01:24.739Z"
   },
   {
    "duration": 16,
    "start_time": "2022-06-29T20:01:25.062Z"
   },
   {
    "duration": 8,
    "start_time": "2022-06-29T20:01:25.079Z"
   },
   {
    "duration": 11,
    "start_time": "2022-06-29T20:01:25.089Z"
   },
   {
    "duration": 14,
    "start_time": "2022-06-29T20:01:25.101Z"
   },
   {
    "duration": 12,
    "start_time": "2022-06-29T20:01:25.116Z"
   },
   {
    "duration": 38,
    "start_time": "2022-06-29T20:01:25.129Z"
   },
   {
    "duration": 9,
    "start_time": "2022-06-29T20:01:25.169Z"
   },
   {
    "duration": 6,
    "start_time": "2022-06-29T20:01:25.180Z"
   },
   {
    "duration": 5,
    "start_time": "2022-06-29T20:01:25.190Z"
   },
   {
    "duration": 16,
    "start_time": "2022-06-29T20:01:25.197Z"
   },
   {
    "duration": 15,
    "start_time": "2022-06-29T20:01:25.215Z"
   },
   {
    "duration": 24,
    "start_time": "2022-06-29T20:01:25.232Z"
   },
   {
    "duration": 16,
    "start_time": "2022-06-29T20:01:25.265Z"
   },
   {
    "duration": 8,
    "start_time": "2022-06-29T20:01:25.282Z"
   },
   {
    "duration": 10,
    "start_time": "2022-06-29T20:01:25.292Z"
   },
   {
    "duration": 12,
    "start_time": "2022-06-29T20:01:25.303Z"
   },
   {
    "duration": 7,
    "start_time": "2022-06-29T20:01:25.317Z"
   },
   {
    "duration": 31,
    "start_time": "2022-06-29T20:01:25.325Z"
   },
   {
    "duration": 9,
    "start_time": "2022-06-29T20:01:25.362Z"
   },
   {
    "duration": 15,
    "start_time": "2022-06-29T20:01:25.373Z"
   },
   {
    "duration": 21,
    "start_time": "2022-06-29T20:01:25.390Z"
   },
   {
    "duration": 19,
    "start_time": "2022-06-29T20:01:25.412Z"
   },
   {
    "duration": 39,
    "start_time": "2022-06-29T20:01:25.432Z"
   },
   {
    "duration": 5,
    "start_time": "2022-06-29T20:01:25.473Z"
   },
   {
    "duration": 6,
    "start_time": "2022-06-29T20:01:25.480Z"
   },
   {
    "duration": 3,
    "start_time": "2022-06-29T20:01:25.487Z"
   },
   {
    "duration": 13,
    "start_time": "2022-06-29T20:01:25.494Z"
   },
   {
    "duration": 6,
    "start_time": "2022-06-29T20:01:25.509Z"
   },
   {
    "duration": 53,
    "start_time": "2022-06-29T20:01:25.516Z"
   },
   {
    "duration": 12,
    "start_time": "2022-06-29T20:01:25.571Z"
   },
   {
    "duration": 6,
    "start_time": "2022-06-29T20:01:25.584Z"
   },
   {
    "duration": 12,
    "start_time": "2022-06-29T20:01:25.591Z"
   },
   {
    "duration": 12,
    "start_time": "2022-06-29T20:01:25.604Z"
   },
   {
    "duration": 48,
    "start_time": "2022-06-29T20:01:25.617Z"
   },
   {
    "duration": 12,
    "start_time": "2022-06-29T20:01:25.667Z"
   },
   {
    "duration": 17,
    "start_time": "2022-06-29T20:01:25.680Z"
   },
   {
    "duration": 14,
    "start_time": "2022-06-29T20:01:25.699Z"
   },
   {
    "duration": 6,
    "start_time": "2022-06-29T20:01:25.714Z"
   },
   {
    "duration": 4,
    "start_time": "2022-06-29T20:01:25.721Z"
   },
   {
    "duration": 26,
    "start_time": "2022-06-29T20:01:25.727Z"
   },
   {
    "duration": 29,
    "start_time": "2022-06-29T20:01:25.754Z"
   },
   {
    "duration": 15,
    "start_time": "2022-06-29T20:01:25.784Z"
   },
   {
    "duration": 3,
    "start_time": "2022-06-29T20:01:25.801Z"
   },
   {
    "duration": 10,
    "start_time": "2022-06-29T20:01:25.806Z"
   },
   {
    "duration": 47,
    "start_time": "2022-06-29T20:01:25.817Z"
   },
   {
    "duration": 25,
    "start_time": "2022-06-29T20:01:25.866Z"
   },
   {
    "duration": 17,
    "start_time": "2022-06-29T20:01:25.892Z"
   },
   {
    "duration": 10,
    "start_time": "2022-06-29T20:01:25.910Z"
   },
   {
    "duration": 6,
    "start_time": "2022-06-29T20:01:25.922Z"
   },
   {
    "duration": 37,
    "start_time": "2022-06-29T20:01:25.929Z"
   },
   {
    "duration": 9,
    "start_time": "2022-06-29T20:01:25.968Z"
   },
   {
    "duration": 7,
    "start_time": "2022-06-29T20:01:25.978Z"
   },
   {
    "duration": 8,
    "start_time": "2022-06-29T20:01:25.986Z"
   },
   {
    "duration": 9,
    "start_time": "2022-06-29T20:01:25.996Z"
   },
   {
    "duration": 53,
    "start_time": "2022-06-29T20:01:26.006Z"
   },
   {
    "duration": 8,
    "start_time": "2022-06-29T20:01:26.061Z"
   },
   {
    "duration": 10,
    "start_time": "2022-06-29T20:01:26.071Z"
   },
   {
    "duration": 14,
    "start_time": "2022-06-29T20:01:26.082Z"
   },
   {
    "duration": 316,
    "start_time": "2022-06-29T20:01:26.098Z"
   },
   {
    "duration": 308,
    "start_time": "2022-06-29T20:01:26.416Z"
   },
   {
    "duration": 47,
    "start_time": "2022-06-29T20:01:26.726Z"
   },
   {
    "duration": 150,
    "start_time": "2022-06-29T20:01:26.775Z"
   },
   {
    "duration": 215,
    "start_time": "2022-06-29T20:01:26.926Z"
   },
   {
    "duration": 299,
    "start_time": "2022-06-29T20:01:27.143Z"
   },
   {
    "duration": 48,
    "start_time": "2022-06-29T20:01:27.444Z"
   },
   {
    "duration": 121,
    "start_time": "2022-06-29T20:01:27.493Z"
   },
   {
    "duration": 221,
    "start_time": "2022-06-29T20:01:27.616Z"
   },
   {
    "duration": 333,
    "start_time": "2022-06-29T20:01:27.839Z"
   },
   {
    "duration": 48,
    "start_time": "2022-06-29T20:01:28.173Z"
   },
   {
    "duration": 172,
    "start_time": "2022-06-29T20:01:28.222Z"
   },
   {
    "duration": 32,
    "start_time": "2022-06-29T20:01:28.396Z"
   },
   {
    "duration": 4,
    "start_time": "2022-06-29T20:01:28.430Z"
   },
   {
    "duration": 31,
    "start_time": "2022-06-29T20:01:28.436Z"
   },
   {
    "duration": 215,
    "start_time": "2022-06-29T20:01:28.469Z"
   },
   {
    "duration": 448,
    "start_time": "2022-06-29T20:01:28.685Z"
   },
   {
    "duration": 53,
    "start_time": "2022-06-29T20:01:29.135Z"
   },
   {
    "duration": 130,
    "start_time": "2022-06-29T20:01:29.189Z"
   },
   {
    "duration": 8,
    "start_time": "2022-06-29T20:01:29.321Z"
   },
   {
    "duration": 34,
    "start_time": "2022-06-29T20:01:29.331Z"
   },
   {
    "duration": 8,
    "start_time": "2022-06-29T20:01:29.368Z"
   },
   {
    "duration": 23,
    "start_time": "2022-06-29T20:01:29.381Z"
   },
   {
    "duration": 28,
    "start_time": "2022-06-29T20:01:29.405Z"
   },
   {
    "duration": 23,
    "start_time": "2022-06-29T20:01:29.461Z"
   },
   {
    "duration": 3,
    "start_time": "2022-06-29T20:01:29.485Z"
   },
   {
    "duration": 4,
    "start_time": "2022-06-29T20:01:29.490Z"
   },
   {
    "duration": 6,
    "start_time": "2022-06-29T20:01:29.496Z"
   },
   {
    "duration": 13,
    "start_time": "2022-06-29T20:01:29.504Z"
   },
   {
    "duration": 7,
    "start_time": "2022-06-29T20:01:29.518Z"
   },
   {
    "duration": 9,
    "start_time": "2022-06-29T20:01:37.310Z"
   },
   {
    "duration": 13,
    "start_time": "2022-06-29T20:01:39.544Z"
   },
   {
    "duration": 10,
    "start_time": "2022-06-29T20:01:39.895Z"
   },
   {
    "duration": 1654,
    "start_time": "2022-06-29T20:01:40.389Z"
   },
   {
    "duration": 0,
    "start_time": "2022-06-29T20:01:42.045Z"
   },
   {
    "duration": 0,
    "start_time": "2022-06-29T20:01:42.046Z"
   },
   {
    "duration": 0,
    "start_time": "2022-06-29T20:01:42.047Z"
   },
   {
    "duration": 0,
    "start_time": "2022-06-29T20:01:42.049Z"
   },
   {
    "duration": 2,
    "start_time": "2022-06-29T20:01:42.340Z"
   },
   {
    "duration": 1297,
    "start_time": "2022-06-29T20:01:42.800Z"
   },
   {
    "duration": 0,
    "start_time": "2022-06-29T20:01:44.098Z"
   },
   {
    "duration": 20,
    "start_time": "2022-06-29T20:02:38.444Z"
   },
   {
    "duration": 7,
    "start_time": "2022-06-29T20:03:02.385Z"
   },
   {
    "duration": 5,
    "start_time": "2022-06-29T20:03:47.096Z"
   },
   {
    "duration": 1907,
    "start_time": "2022-06-29T20:04:03.893Z"
   },
   {
    "duration": 15,
    "start_time": "2022-06-29T20:04:53.109Z"
   },
   {
    "duration": 1941,
    "start_time": "2022-06-29T20:06:02.794Z"
   },
   {
    "duration": 0,
    "start_time": "2022-06-29T20:06:04.736Z"
   },
   {
    "duration": 1646,
    "start_time": "2022-06-29T20:07:28.242Z"
   },
   {
    "duration": 1241,
    "start_time": "2022-06-29T23:07:25.752Z"
   },
   {
    "duration": 4,
    "start_time": "2022-06-29T23:07:40.249Z"
   },
   {
    "duration": 532,
    "start_time": "2022-06-29T23:07:40.256Z"
   },
   {
    "duration": 19,
    "start_time": "2022-06-29T23:07:40.790Z"
   },
   {
    "duration": 12,
    "start_time": "2022-06-29T23:07:40.810Z"
   },
   {
    "duration": 12,
    "start_time": "2022-06-29T23:07:40.823Z"
   },
   {
    "duration": 12,
    "start_time": "2022-06-29T23:07:40.837Z"
   },
   {
    "duration": 11,
    "start_time": "2022-06-29T23:07:40.851Z"
   },
   {
    "duration": 12,
    "start_time": "2022-06-29T23:07:40.864Z"
   },
   {
    "duration": 11,
    "start_time": "2022-06-29T23:07:40.878Z"
   },
   {
    "duration": 10,
    "start_time": "2022-06-29T23:07:40.891Z"
   },
   {
    "duration": 3,
    "start_time": "2022-06-29T23:07:40.927Z"
   },
   {
    "duration": 11,
    "start_time": "2022-06-29T23:07:40.931Z"
   },
   {
    "duration": 3,
    "start_time": "2022-06-29T23:07:40.943Z"
   },
   {
    "duration": 12,
    "start_time": "2022-06-29T23:07:40.948Z"
   },
   {
    "duration": 9,
    "start_time": "2022-06-29T23:07:40.963Z"
   },
   {
    "duration": 8,
    "start_time": "2022-06-29T23:07:40.973Z"
   },
   {
    "duration": 10,
    "start_time": "2022-06-29T23:07:40.982Z"
   },
   {
    "duration": 12,
    "start_time": "2022-06-29T23:07:40.994Z"
   },
   {
    "duration": 24,
    "start_time": "2022-06-29T23:07:41.007Z"
   },
   {
    "duration": 23,
    "start_time": "2022-06-29T23:07:41.032Z"
   },
   {
    "duration": 7,
    "start_time": "2022-06-29T23:07:41.057Z"
   },
   {
    "duration": 23,
    "start_time": "2022-06-29T23:07:41.065Z"
   },
   {
    "duration": 44,
    "start_time": "2022-06-29T23:07:41.090Z"
   },
   {
    "duration": 19,
    "start_time": "2022-06-29T23:07:41.136Z"
   },
   {
    "duration": 18,
    "start_time": "2022-06-29T23:07:41.156Z"
   },
   {
    "duration": 6,
    "start_time": "2022-06-29T23:07:41.176Z"
   },
   {
    "duration": 7,
    "start_time": "2022-06-29T23:07:41.184Z"
   },
   {
    "duration": 7,
    "start_time": "2022-06-29T23:07:41.192Z"
   },
   {
    "duration": 14,
    "start_time": "2022-06-29T23:07:41.228Z"
   },
   {
    "duration": 9,
    "start_time": "2022-06-29T23:07:41.243Z"
   },
   {
    "duration": 14,
    "start_time": "2022-06-29T23:07:41.254Z"
   },
   {
    "duration": 22,
    "start_time": "2022-06-29T23:07:41.269Z"
   },
   {
    "duration": 13,
    "start_time": "2022-06-29T23:07:41.292Z"
   },
   {
    "duration": 30,
    "start_time": "2022-06-29T23:07:41.306Z"
   },
   {
    "duration": 13,
    "start_time": "2022-06-29T23:07:41.337Z"
   },
   {
    "duration": 18,
    "start_time": "2022-06-29T23:07:41.351Z"
   },
   {
    "duration": 8,
    "start_time": "2022-06-29T23:07:41.370Z"
   },
   {
    "duration": 24,
    "start_time": "2022-06-29T23:07:41.380Z"
   },
   {
    "duration": 15,
    "start_time": "2022-06-29T23:07:41.427Z"
   },
   {
    "duration": 10,
    "start_time": "2022-06-29T23:07:41.443Z"
   },
   {
    "duration": 9,
    "start_time": "2022-06-29T23:07:41.454Z"
   },
   {
    "duration": 4,
    "start_time": "2022-06-29T23:07:41.467Z"
   },
   {
    "duration": 18,
    "start_time": "2022-06-29T23:07:41.473Z"
   },
   {
    "duration": 15,
    "start_time": "2022-06-29T23:07:41.493Z"
   },
   {
    "duration": 21,
    "start_time": "2022-06-29T23:07:41.509Z"
   },
   {
    "duration": 15,
    "start_time": "2022-06-29T23:07:41.532Z"
   },
   {
    "duration": 29,
    "start_time": "2022-06-29T23:07:41.549Z"
   },
   {
    "duration": 24,
    "start_time": "2022-06-29T23:07:41.580Z"
   },
   {
    "duration": 19,
    "start_time": "2022-06-29T23:07:41.626Z"
   },
   {
    "duration": 11,
    "start_time": "2022-06-29T23:07:41.646Z"
   },
   {
    "duration": 6,
    "start_time": "2022-06-29T23:07:41.658Z"
   },
   {
    "duration": 10,
    "start_time": "2022-06-29T23:07:41.665Z"
   },
   {
    "duration": 8,
    "start_time": "2022-06-29T23:07:41.677Z"
   },
   {
    "duration": 7,
    "start_time": "2022-06-29T23:07:41.687Z"
   },
   {
    "duration": 9,
    "start_time": "2022-06-29T23:07:41.728Z"
   },
   {
    "duration": 9,
    "start_time": "2022-06-29T23:07:41.739Z"
   },
   {
    "duration": 26,
    "start_time": "2022-06-29T23:07:41.750Z"
   },
   {
    "duration": 7,
    "start_time": "2022-06-29T23:07:41.778Z"
   },
   {
    "duration": 12,
    "start_time": "2022-06-29T23:07:41.786Z"
   },
   {
    "duration": 38,
    "start_time": "2022-06-29T23:07:41.799Z"
   },
   {
    "duration": 233,
    "start_time": "2022-06-29T23:07:41.839Z"
   },
   {
    "duration": 309,
    "start_time": "2022-06-29T23:07:42.074Z"
   },
   {
    "duration": 45,
    "start_time": "2022-06-29T23:07:42.384Z"
   },
   {
    "duration": 140,
    "start_time": "2022-06-29T23:07:42.430Z"
   },
   {
    "duration": 219,
    "start_time": "2022-06-29T23:07:42.571Z"
   },
   {
    "duration": 308,
    "start_time": "2022-06-29T23:07:42.791Z"
   },
   {
    "duration": 48,
    "start_time": "2022-06-29T23:07:43.100Z"
   },
   {
    "duration": 143,
    "start_time": "2022-06-29T23:07:43.149Z"
   },
   {
    "duration": 234,
    "start_time": "2022-06-29T23:07:43.293Z"
   },
   {
    "duration": 406,
    "start_time": "2022-06-29T23:07:43.529Z"
   },
   {
    "duration": 41,
    "start_time": "2022-06-29T23:07:43.937Z"
   },
   {
    "duration": 140,
    "start_time": "2022-06-29T23:07:43.980Z"
   },
   {
    "duration": 27,
    "start_time": "2022-06-29T23:07:44.127Z"
   },
   {
    "duration": 10,
    "start_time": "2022-06-29T23:07:44.155Z"
   },
   {
    "duration": 13,
    "start_time": "2022-06-29T23:07:44.166Z"
   },
   {
    "duration": 218,
    "start_time": "2022-06-29T23:07:44.180Z"
   },
   {
    "duration": 324,
    "start_time": "2022-06-29T23:07:44.400Z"
   },
   {
    "duration": 36,
    "start_time": "2022-06-29T23:07:44.727Z"
   },
   {
    "duration": 155,
    "start_time": "2022-06-29T23:07:44.765Z"
   },
   {
    "duration": 9,
    "start_time": "2022-06-29T23:07:44.928Z"
   },
   {
    "duration": 32,
    "start_time": "2022-06-29T23:07:44.938Z"
   },
   {
    "duration": 22,
    "start_time": "2022-06-29T23:07:44.972Z"
   },
   {
    "duration": 39,
    "start_time": "2022-06-29T23:07:44.995Z"
   },
   {
    "duration": 37,
    "start_time": "2022-06-29T23:07:45.036Z"
   },
   {
    "duration": 28,
    "start_time": "2022-06-29T23:07:45.075Z"
   },
   {
    "duration": 2,
    "start_time": "2022-06-29T23:07:45.105Z"
   },
   {
    "duration": 3,
    "start_time": "2022-06-29T23:07:45.127Z"
   },
   {
    "duration": 6,
    "start_time": "2022-06-29T23:07:45.132Z"
   },
   {
    "duration": 17,
    "start_time": "2022-06-29T23:07:45.140Z"
   },
   {
    "duration": 4,
    "start_time": "2022-06-29T23:07:45.159Z"
   },
   {
    "duration": 960,
    "start_time": "2022-06-29T23:09:24.949Z"
   },
   {
    "duration": 4,
    "start_time": "2022-06-29T23:09:34.038Z"
   },
   {
    "duration": 289,
    "start_time": "2022-06-29T23:09:34.044Z"
   },
   {
    "duration": 14,
    "start_time": "2022-06-29T23:09:34.335Z"
   },
   {
    "duration": 10,
    "start_time": "2022-06-29T23:09:34.351Z"
   },
   {
    "duration": 10,
    "start_time": "2022-06-29T23:09:34.363Z"
   },
   {
    "duration": 12,
    "start_time": "2022-06-29T23:09:34.375Z"
   },
   {
    "duration": 13,
    "start_time": "2022-06-29T23:09:34.389Z"
   },
   {
    "duration": 31,
    "start_time": "2022-06-29T23:09:34.404Z"
   },
   {
    "duration": 9,
    "start_time": "2022-06-29T23:09:34.437Z"
   },
   {
    "duration": 9,
    "start_time": "2022-06-29T23:09:34.448Z"
   },
   {
    "duration": 4,
    "start_time": "2022-06-29T23:09:34.459Z"
   },
   {
    "duration": 8,
    "start_time": "2022-06-29T23:09:34.464Z"
   },
   {
    "duration": 6,
    "start_time": "2022-06-29T23:09:34.473Z"
   },
   {
    "duration": 11,
    "start_time": "2022-06-29T23:09:34.480Z"
   },
   {
    "duration": 38,
    "start_time": "2022-06-29T23:09:34.492Z"
   },
   {
    "duration": 6,
    "start_time": "2022-06-29T23:09:34.532Z"
   },
   {
    "duration": 9,
    "start_time": "2022-06-29T23:09:34.539Z"
   },
   {
    "duration": 8,
    "start_time": "2022-06-29T23:09:34.550Z"
   },
   {
    "duration": 7,
    "start_time": "2022-06-29T23:09:34.559Z"
   },
   {
    "duration": 22,
    "start_time": "2022-06-29T23:09:34.567Z"
   },
   {
    "duration": 8,
    "start_time": "2022-06-29T23:09:34.591Z"
   },
   {
    "duration": 36,
    "start_time": "2022-06-29T23:09:34.600Z"
   },
   {
    "duration": 21,
    "start_time": "2022-06-29T23:09:34.637Z"
   },
   {
    "duration": 18,
    "start_time": "2022-06-29T23:09:34.660Z"
   },
   {
    "duration": 18,
    "start_time": "2022-06-29T23:09:34.680Z"
   },
   {
    "duration": 28,
    "start_time": "2022-06-29T23:09:34.700Z"
   },
   {
    "duration": 5,
    "start_time": "2022-06-29T23:09:34.729Z"
   },
   {
    "duration": 7,
    "start_time": "2022-06-29T23:09:34.736Z"
   },
   {
    "duration": 20,
    "start_time": "2022-06-29T23:09:34.747Z"
   },
   {
    "duration": 10,
    "start_time": "2022-06-29T23:09:34.768Z"
   },
   {
    "duration": 19,
    "start_time": "2022-06-29T23:09:34.780Z"
   },
   {
    "duration": 31,
    "start_time": "2022-06-29T23:09:34.801Z"
   },
   {
    "duration": 6,
    "start_time": "2022-06-29T23:09:34.834Z"
   },
   {
    "duration": 17,
    "start_time": "2022-06-29T23:09:34.841Z"
   },
   {
    "duration": 12,
    "start_time": "2022-06-29T23:09:34.860Z"
   },
   {
    "duration": 16,
    "start_time": "2022-06-29T23:09:34.873Z"
   },
   {
    "duration": 7,
    "start_time": "2022-06-29T23:09:34.890Z"
   },
   {
    "duration": 17,
    "start_time": "2022-06-29T23:09:34.927Z"
   },
   {
    "duration": 13,
    "start_time": "2022-06-29T23:09:34.946Z"
   },
   {
    "duration": 6,
    "start_time": "2022-06-29T23:09:34.960Z"
   },
   {
    "duration": 3,
    "start_time": "2022-06-29T23:09:34.968Z"
   },
   {
    "duration": 5,
    "start_time": "2022-06-29T23:09:34.973Z"
   },
   {
    "duration": 20,
    "start_time": "2022-06-29T23:09:34.979Z"
   },
   {
    "duration": 38,
    "start_time": "2022-06-29T23:09:35.001Z"
   },
   {
    "duration": 3,
    "start_time": "2022-06-29T23:09:35.041Z"
   },
   {
    "duration": 13,
    "start_time": "2022-06-29T23:09:35.045Z"
   },
   {
    "duration": 28,
    "start_time": "2022-06-29T23:09:35.059Z"
   },
   {
    "duration": 44,
    "start_time": "2022-06-29T23:09:35.089Z"
   },
   {
    "duration": 16,
    "start_time": "2022-06-29T23:09:35.135Z"
   },
   {
    "duration": 11,
    "start_time": "2022-06-29T23:09:35.152Z"
   },
   {
    "duration": 6,
    "start_time": "2022-06-29T23:09:35.164Z"
   },
   {
    "duration": 12,
    "start_time": "2022-06-29T23:09:35.171Z"
   },
   {
    "duration": 7,
    "start_time": "2022-06-29T23:09:35.185Z"
   },
   {
    "duration": 37,
    "start_time": "2022-06-29T23:09:35.193Z"
   },
   {
    "duration": 15,
    "start_time": "2022-06-29T23:09:35.232Z"
   },
   {
    "duration": 28,
    "start_time": "2022-06-29T23:09:35.248Z"
   },
   {
    "duration": 18,
    "start_time": "2022-06-29T23:09:35.277Z"
   },
   {
    "duration": 5,
    "start_time": "2022-06-29T23:09:35.296Z"
   },
   {
    "duration": 22,
    "start_time": "2022-06-29T23:09:35.302Z"
   },
   {
    "duration": 15,
    "start_time": "2022-06-29T23:09:35.325Z"
   },
   {
    "duration": 202,
    "start_time": "2022-06-29T23:09:35.341Z"
   },
   {
    "duration": 304,
    "start_time": "2022-06-29T23:09:35.544Z"
   },
   {
    "duration": 40,
    "start_time": "2022-06-29T23:09:35.850Z"
   },
   {
    "duration": 227,
    "start_time": "2022-06-29T23:09:35.891Z"
   },
   {
    "duration": 236,
    "start_time": "2022-06-29T23:09:36.126Z"
   },
   {
    "duration": 323,
    "start_time": "2022-06-29T23:09:36.364Z"
   },
   {
    "duration": 44,
    "start_time": "2022-06-29T23:09:36.688Z"
   },
   {
    "duration": 123,
    "start_time": "2022-06-29T23:09:36.733Z"
   },
   {
    "duration": 218,
    "start_time": "2022-06-29T23:09:36.857Z"
   },
   {
    "duration": 345,
    "start_time": "2022-06-29T23:09:37.076Z"
   },
   {
    "duration": 43,
    "start_time": "2022-06-29T23:09:37.422Z"
   },
   {
    "duration": 137,
    "start_time": "2022-06-29T23:09:37.466Z"
   },
   {
    "duration": 36,
    "start_time": "2022-06-29T23:09:37.604Z"
   },
   {
    "duration": 4,
    "start_time": "2022-06-29T23:09:37.641Z"
   },
   {
    "duration": 13,
    "start_time": "2022-06-29T23:09:37.646Z"
   },
   {
    "duration": 226,
    "start_time": "2022-06-29T23:09:37.660Z"
   },
   {
    "duration": 444,
    "start_time": "2022-06-29T23:09:37.888Z"
   },
   {
    "duration": 39,
    "start_time": "2022-06-29T23:09:38.334Z"
   },
   {
    "duration": 165,
    "start_time": "2022-06-29T23:09:38.375Z"
   },
   {
    "duration": 8,
    "start_time": "2022-06-29T23:09:38.542Z"
   },
   {
    "duration": 18,
    "start_time": "2022-06-29T23:09:38.552Z"
   },
   {
    "duration": 16,
    "start_time": "2022-06-29T23:09:38.572Z"
   },
   {
    "duration": 39,
    "start_time": "2022-06-29T23:09:38.594Z"
   },
   {
    "duration": 41,
    "start_time": "2022-06-29T23:09:38.636Z"
   },
   {
    "duration": 50,
    "start_time": "2022-06-29T23:09:38.678Z"
   },
   {
    "duration": 8,
    "start_time": "2022-06-29T23:09:45.260Z"
   },
   {
    "duration": 12,
    "start_time": "2022-06-29T23:09:46.546Z"
   },
   {
    "duration": 9,
    "start_time": "2022-06-29T23:09:46.982Z"
   },
   {
    "duration": 806,
    "start_time": "2022-06-29T23:09:47.402Z"
   },
   {
    "duration": 0,
    "start_time": "2022-06-29T23:09:48.209Z"
   },
   {
    "duration": 20,
    "start_time": "2022-06-29T23:09:48.214Z"
   },
   {
    "duration": 12,
    "start_time": "2022-06-29T23:09:48.637Z"
   },
   {
    "duration": 4,
    "start_time": "2022-06-29T23:09:49.118Z"
   },
   {
    "duration": 814,
    "start_time": "2022-06-29T23:10:31.785Z"
   },
   {
    "duration": 32,
    "start_time": "2022-06-29T23:10:41.765Z"
   },
   {
    "duration": 222,
    "start_time": "2022-06-29T23:11:09.527Z"
   },
   {
    "duration": 20,
    "start_time": "2022-06-29T23:11:28.463Z"
   },
   {
    "duration": 1843,
    "start_time": "2022-06-30T11:24:46.447Z"
   },
   {
    "duration": 1560,
    "start_time": "2022-06-30T11:24:48.292Z"
   },
   {
    "duration": 35,
    "start_time": "2022-06-30T11:24:49.854Z"
   },
   {
    "duration": 49,
    "start_time": "2022-06-30T11:24:49.894Z"
   },
   {
    "duration": 95,
    "start_time": "2022-06-30T11:24:49.948Z"
   },
   {
    "duration": 62,
    "start_time": "2022-06-30T11:24:50.048Z"
   },
   {
    "duration": 63,
    "start_time": "2022-06-30T11:24:50.114Z"
   },
   {
    "duration": 66,
    "start_time": "2022-06-30T11:24:50.181Z"
   },
   {
    "duration": 15,
    "start_time": "2022-06-30T11:24:50.251Z"
   },
   {
    "duration": 84,
    "start_time": "2022-06-30T11:24:50.268Z"
   },
   {
    "duration": 35,
    "start_time": "2022-06-30T11:24:50.354Z"
   },
   {
    "duration": 72,
    "start_time": "2022-06-30T11:24:50.391Z"
   },
   {
    "duration": 38,
    "start_time": "2022-06-30T11:24:50.473Z"
   },
   {
    "duration": 62,
    "start_time": "2022-06-30T11:24:50.520Z"
   },
   {
    "duration": 55,
    "start_time": "2022-06-30T11:24:50.595Z"
   },
   {
    "duration": 87,
    "start_time": "2022-06-30T11:24:50.652Z"
   },
   {
    "duration": 29,
    "start_time": "2022-06-30T11:24:50.741Z"
   },
   {
    "duration": 90,
    "start_time": "2022-06-30T11:24:50.778Z"
   },
   {
    "duration": 43,
    "start_time": "2022-06-30T11:24:50.876Z"
   },
   {
    "duration": 67,
    "start_time": "2022-06-30T11:24:50.921Z"
   },
   {
    "duration": 25,
    "start_time": "2022-06-30T11:24:50.992Z"
   },
   {
    "duration": 55,
    "start_time": "2022-06-30T11:24:51.019Z"
   },
   {
    "duration": 46,
    "start_time": "2022-06-30T11:24:51.076Z"
   },
   {
    "duration": 118,
    "start_time": "2022-06-30T11:24:51.124Z"
   },
   {
    "duration": 144,
    "start_time": "2022-06-30T11:24:51.246Z"
   },
   {
    "duration": 37,
    "start_time": "2022-06-30T11:24:51.395Z"
   },
   {
    "duration": 52,
    "start_time": "2022-06-30T11:24:51.440Z"
   },
   {
    "duration": 28,
    "start_time": "2022-06-30T11:24:51.500Z"
   },
   {
    "duration": 39,
    "start_time": "2022-06-30T11:24:51.537Z"
   },
   {
    "duration": 38,
    "start_time": "2022-06-30T11:24:51.580Z"
   },
   {
    "duration": 85,
    "start_time": "2022-06-30T11:24:51.623Z"
   },
   {
    "duration": 59,
    "start_time": "2022-06-30T11:24:51.713Z"
   },
   {
    "duration": 75,
    "start_time": "2022-06-30T11:24:51.777Z"
   },
   {
    "duration": 39,
    "start_time": "2022-06-30T11:24:51.854Z"
   },
   {
    "duration": 71,
    "start_time": "2022-06-30T11:24:51.908Z"
   },
   {
    "duration": 69,
    "start_time": "2022-06-30T11:24:51.984Z"
   },
   {
    "duration": 46,
    "start_time": "2022-06-30T11:24:52.055Z"
   },
   {
    "duration": 41,
    "start_time": "2022-06-30T11:24:52.102Z"
   },
   {
    "duration": 35,
    "start_time": "2022-06-30T11:24:52.150Z"
   },
   {
    "duration": 78,
    "start_time": "2022-06-30T11:24:52.187Z"
   },
   {
    "duration": 28,
    "start_time": "2022-06-30T11:24:52.276Z"
   },
   {
    "duration": 139,
    "start_time": "2022-06-30T11:24:52.311Z"
   },
   {
    "duration": 119,
    "start_time": "2022-06-30T11:24:52.456Z"
   },
   {
    "duration": 51,
    "start_time": "2022-06-30T11:24:52.576Z"
   },
   {
    "duration": 29,
    "start_time": "2022-06-30T11:24:52.629Z"
   },
   {
    "duration": 110,
    "start_time": "2022-06-30T11:24:52.659Z"
   },
   {
    "duration": 137,
    "start_time": "2022-06-30T11:24:52.771Z"
   },
   {
    "duration": 103,
    "start_time": "2022-06-30T11:24:52.909Z"
   },
   {
    "duration": 68,
    "start_time": "2022-06-30T11:24:53.026Z"
   },
   {
    "duration": 74,
    "start_time": "2022-06-30T11:24:53.096Z"
   },
   {
    "duration": 39,
    "start_time": "2022-06-30T11:24:53.175Z"
   },
   {
    "duration": 34,
    "start_time": "2022-06-30T11:24:53.222Z"
   },
   {
    "duration": 64,
    "start_time": "2022-06-30T11:24:53.262Z"
   },
   {
    "duration": 45,
    "start_time": "2022-06-30T11:24:53.336Z"
   },
   {
    "duration": 107,
    "start_time": "2022-06-30T11:24:53.385Z"
   },
   {
    "duration": 62,
    "start_time": "2022-06-30T11:24:53.494Z"
   },
   {
    "duration": 107,
    "start_time": "2022-06-30T11:24:53.559Z"
   },
   {
    "duration": 45,
    "start_time": "2022-06-30T11:24:53.673Z"
   },
   {
    "duration": 35,
    "start_time": "2022-06-30T11:24:53.720Z"
   },
   {
    "duration": 39,
    "start_time": "2022-06-30T11:24:53.757Z"
   },
   {
    "duration": 375,
    "start_time": "2022-06-30T11:24:53.797Z"
   },
   {
    "duration": 495,
    "start_time": "2022-06-30T11:24:54.174Z"
   },
   {
    "duration": 54,
    "start_time": "2022-06-30T11:24:54.676Z"
   },
   {
    "duration": 239,
    "start_time": "2022-06-30T11:24:54.737Z"
   },
   {
    "duration": 281,
    "start_time": "2022-06-30T11:24:54.981Z"
   },
   {
    "duration": 452,
    "start_time": "2022-06-30T11:24:55.267Z"
   },
   {
    "duration": 106,
    "start_time": "2022-06-30T11:24:55.724Z"
   },
   {
    "duration": 250,
    "start_time": "2022-06-30T11:24:55.839Z"
   },
   {
    "duration": 294,
    "start_time": "2022-06-30T11:24:56.094Z"
   },
   {
    "duration": 568,
    "start_time": "2022-06-30T11:24:56.392Z"
   },
   {
    "duration": 54,
    "start_time": "2022-06-30T11:24:56.966Z"
   },
   {
    "duration": 333,
    "start_time": "2022-06-30T11:24:57.029Z"
   },
   {
    "duration": 78,
    "start_time": "2022-06-30T11:24:57.370Z"
   },
   {
    "duration": 30,
    "start_time": "2022-06-30T11:24:57.456Z"
   },
   {
    "duration": 25,
    "start_time": "2022-06-30T11:24:57.499Z"
   },
   {
    "duration": 435,
    "start_time": "2022-06-30T11:24:57.529Z"
   },
   {
    "duration": 477,
    "start_time": "2022-06-30T11:24:57.969Z"
   },
   {
    "duration": 67,
    "start_time": "2022-06-30T11:24:58.451Z"
   },
   {
    "duration": 191,
    "start_time": "2022-06-30T11:24:58.524Z"
   },
   {
    "duration": 53,
    "start_time": "2022-06-30T11:24:58.721Z"
   },
   {
    "duration": 54,
    "start_time": "2022-06-30T11:24:58.776Z"
   },
   {
    "duration": 72,
    "start_time": "2022-06-30T11:24:58.840Z"
   },
   {
    "duration": 3388,
    "start_time": "2022-06-30T11:24:58.914Z"
   },
   {
    "duration": 0,
    "start_time": "2022-06-30T11:25:02.304Z"
   },
   {
    "duration": 0,
    "start_time": "2022-06-30T11:25:02.305Z"
   },
   {
    "duration": 0,
    "start_time": "2022-06-30T11:25:02.306Z"
   },
   {
    "duration": 0,
    "start_time": "2022-06-30T11:25:02.306Z"
   },
   {
    "duration": 29,
    "start_time": "2022-06-30T11:25:17.387Z"
   },
   {
    "duration": 53,
    "start_time": "2022-06-30T11:25:23.487Z"
   },
   {
    "duration": 40,
    "start_time": "2022-06-30T11:25:23.751Z"
   },
   {
    "duration": 25,
    "start_time": "2022-06-30T11:25:24.146Z"
   },
   {
    "duration": 11,
    "start_time": "2022-06-30T11:25:24.831Z"
   },
   {
    "duration": 1326,
    "start_time": "2022-06-30T11:25:31.040Z"
   },
   {
    "duration": 384,
    "start_time": "2022-06-30T11:25:32.369Z"
   },
   {
    "duration": 32,
    "start_time": "2022-06-30T11:25:32.754Z"
   },
   {
    "duration": 140,
    "start_time": "2022-06-30T11:25:32.789Z"
   },
   {
    "duration": 21,
    "start_time": "2022-06-30T11:25:32.933Z"
   },
   {
    "duration": 64,
    "start_time": "2022-06-30T11:25:32.955Z"
   },
   {
    "duration": 45,
    "start_time": "2022-06-30T11:25:33.021Z"
   },
   {
    "duration": 85,
    "start_time": "2022-06-30T11:25:33.068Z"
   },
   {
    "duration": 73,
    "start_time": "2022-06-30T11:25:33.154Z"
   },
   {
    "duration": 27,
    "start_time": "2022-06-30T11:25:33.230Z"
   },
   {
    "duration": 87,
    "start_time": "2022-06-30T11:25:33.259Z"
   },
   {
    "duration": 18,
    "start_time": "2022-06-30T11:25:33.348Z"
   },
   {
    "duration": 59,
    "start_time": "2022-06-30T11:25:33.367Z"
   },
   {
    "duration": 40,
    "start_time": "2022-06-30T11:25:33.428Z"
   },
   {
    "duration": 66,
    "start_time": "2022-06-30T11:25:33.473Z"
   },
   {
    "duration": 5,
    "start_time": "2022-06-30T11:25:33.542Z"
   },
   {
    "duration": 8,
    "start_time": "2022-06-30T11:25:33.549Z"
   },
   {
    "duration": 32,
    "start_time": "2022-06-30T11:25:33.567Z"
   },
   {
    "duration": 38,
    "start_time": "2022-06-30T11:25:33.603Z"
   },
   {
    "duration": 31,
    "start_time": "2022-06-30T11:25:33.643Z"
   },
   {
    "duration": 26,
    "start_time": "2022-06-30T11:25:33.676Z"
   },
   {
    "duration": 46,
    "start_time": "2022-06-30T11:25:33.704Z"
   },
   {
    "duration": 42,
    "start_time": "2022-06-30T11:25:33.751Z"
   },
   {
    "duration": 78,
    "start_time": "2022-06-30T11:25:33.795Z"
   },
   {
    "duration": 37,
    "start_time": "2022-06-30T11:25:33.875Z"
   },
   {
    "duration": 33,
    "start_time": "2022-06-30T11:25:33.914Z"
   },
   {
    "duration": 9,
    "start_time": "2022-06-30T11:25:33.949Z"
   },
   {
    "duration": 65,
    "start_time": "2022-06-30T11:25:33.974Z"
   },
   {
    "duration": 43,
    "start_time": "2022-06-30T11:25:34.042Z"
   },
   {
    "duration": 22,
    "start_time": "2022-06-30T11:25:34.087Z"
   },
   {
    "duration": 28,
    "start_time": "2022-06-30T11:25:34.112Z"
   },
   {
    "duration": 14,
    "start_time": "2022-06-30T11:25:34.143Z"
   },
   {
    "duration": 28,
    "start_time": "2022-06-30T11:25:34.164Z"
   },
   {
    "duration": 54,
    "start_time": "2022-06-30T11:25:34.193Z"
   },
   {
    "duration": 22,
    "start_time": "2022-06-30T11:25:34.249Z"
   },
   {
    "duration": 36,
    "start_time": "2022-06-30T11:25:34.273Z"
   },
   {
    "duration": 38,
    "start_time": "2022-06-30T11:25:34.310Z"
   },
   {
    "duration": 48,
    "start_time": "2022-06-30T11:25:34.350Z"
   },
   {
    "duration": 52,
    "start_time": "2022-06-30T11:25:34.400Z"
   },
   {
    "duration": 45,
    "start_time": "2022-06-30T11:25:34.454Z"
   },
   {
    "duration": 41,
    "start_time": "2022-06-30T11:25:34.504Z"
   },
   {
    "duration": 5,
    "start_time": "2022-06-30T11:25:34.547Z"
   },
   {
    "duration": 56,
    "start_time": "2022-06-30T11:25:34.554Z"
   },
   {
    "duration": 29,
    "start_time": "2022-06-30T11:25:34.617Z"
   },
   {
    "duration": 4,
    "start_time": "2022-06-30T11:25:34.648Z"
   },
   {
    "duration": 26,
    "start_time": "2022-06-30T11:25:34.653Z"
   },
   {
    "duration": 92,
    "start_time": "2022-06-30T11:25:34.689Z"
   },
   {
    "duration": 55,
    "start_time": "2022-06-30T11:25:34.783Z"
   },
   {
    "duration": 30,
    "start_time": "2022-06-30T11:25:34.840Z"
   },
   {
    "duration": 74,
    "start_time": "2022-06-30T11:25:34.876Z"
   },
   {
    "duration": 8,
    "start_time": "2022-06-30T11:25:34.952Z"
   },
   {
    "duration": 37,
    "start_time": "2022-06-30T11:25:34.962Z"
   },
   {
    "duration": 47,
    "start_time": "2022-06-30T11:25:35.001Z"
   },
   {
    "duration": 27,
    "start_time": "2022-06-30T11:25:35.050Z"
   },
   {
    "duration": 56,
    "start_time": "2022-06-30T11:25:35.080Z"
   },
   {
    "duration": 12,
    "start_time": "2022-06-30T11:25:35.138Z"
   },
   {
    "duration": 34,
    "start_time": "2022-06-30T11:25:35.152Z"
   },
   {
    "duration": 56,
    "start_time": "2022-06-30T11:25:35.187Z"
   },
   {
    "duration": 27,
    "start_time": "2022-06-30T11:25:35.245Z"
   },
   {
    "duration": 71,
    "start_time": "2022-06-30T11:25:35.273Z"
   },
   {
    "duration": 331,
    "start_time": "2022-06-30T11:25:35.346Z"
   },
   {
    "duration": 520,
    "start_time": "2022-06-30T11:25:35.687Z"
   },
   {
    "duration": 74,
    "start_time": "2022-06-30T11:25:36.210Z"
   },
   {
    "duration": 206,
    "start_time": "2022-06-30T11:25:36.287Z"
   },
   {
    "duration": 353,
    "start_time": "2022-06-30T11:25:36.499Z"
   },
   {
    "duration": 393,
    "start_time": "2022-06-30T11:25:36.854Z"
   },
   {
    "duration": 65,
    "start_time": "2022-06-30T11:25:37.249Z"
   },
   {
    "duration": 183,
    "start_time": "2022-06-30T11:25:37.320Z"
   },
   {
    "duration": 320,
    "start_time": "2022-06-30T11:25:37.508Z"
   },
   {
    "duration": 539,
    "start_time": "2022-06-30T11:25:37.832Z"
   },
   {
    "duration": 56,
    "start_time": "2022-06-30T11:25:38.372Z"
   },
   {
    "duration": 215,
    "start_time": "2022-06-30T11:25:38.430Z"
   },
   {
    "duration": 58,
    "start_time": "2022-06-30T11:25:38.650Z"
   },
   {
    "duration": 30,
    "start_time": "2022-06-30T11:25:38.710Z"
   },
   {
    "duration": 20,
    "start_time": "2022-06-30T11:25:38.743Z"
   },
   {
    "duration": 423,
    "start_time": "2022-06-30T11:25:38.765Z"
   },
   {
    "duration": 439,
    "start_time": "2022-06-30T11:25:39.199Z"
   },
   {
    "duration": 58,
    "start_time": "2022-06-30T11:25:39.644Z"
   },
   {
    "duration": 160,
    "start_time": "2022-06-30T11:25:39.704Z"
   },
   {
    "duration": 11,
    "start_time": "2022-06-30T11:25:39.869Z"
   },
   {
    "duration": 59,
    "start_time": "2022-06-30T11:25:39.884Z"
   },
   {
    "duration": 8,
    "start_time": "2022-06-30T11:25:39.950Z"
   },
   {
    "duration": 98,
    "start_time": "2022-06-30T11:25:39.960Z"
   },
   {
    "duration": 95,
    "start_time": "2022-06-30T11:25:40.061Z"
   },
   {
    "duration": 41,
    "start_time": "2022-06-30T11:25:40.162Z"
   },
   {
    "duration": 27,
    "start_time": "2022-06-30T11:25:40.206Z"
   },
   {
    "duration": 18,
    "start_time": "2022-06-30T11:25:40.234Z"
   },
   {
    "duration": 1374,
    "start_time": "2022-06-30T11:36:57.659Z"
   },
   {
    "duration": 386,
    "start_time": "2022-06-30T11:36:59.035Z"
   },
   {
    "duration": 17,
    "start_time": "2022-06-30T11:36:59.423Z"
   },
   {
    "duration": 9,
    "start_time": "2022-06-30T11:36:59.442Z"
   },
   {
    "duration": 15,
    "start_time": "2022-06-30T11:36:59.452Z"
   },
   {
    "duration": 62,
    "start_time": "2022-06-30T11:36:59.470Z"
   },
   {
    "duration": 22,
    "start_time": "2022-06-30T11:36:59.534Z"
   },
   {
    "duration": 32,
    "start_time": "2022-06-30T11:36:59.558Z"
   },
   {
    "duration": 39,
    "start_time": "2022-06-30T11:36:59.595Z"
   },
   {
    "duration": 8,
    "start_time": "2022-06-30T11:36:59.637Z"
   },
   {
    "duration": 5,
    "start_time": "2022-06-30T11:36:59.647Z"
   },
   {
    "duration": 49,
    "start_time": "2022-06-30T11:36:59.654Z"
   },
   {
    "duration": 7,
    "start_time": "2022-06-30T11:36:59.711Z"
   },
   {
    "duration": 21,
    "start_time": "2022-06-30T11:36:59.721Z"
   },
   {
    "duration": 17,
    "start_time": "2022-06-30T11:36:59.744Z"
   },
   {
    "duration": 54,
    "start_time": "2022-06-30T11:36:59.763Z"
   },
   {
    "duration": 14,
    "start_time": "2022-06-30T11:36:59.818Z"
   },
   {
    "duration": 9,
    "start_time": "2022-06-30T11:36:59.834Z"
   },
   {
    "duration": 8,
    "start_time": "2022-06-30T11:36:59.845Z"
   },
   {
    "duration": 57,
    "start_time": "2022-06-30T11:36:59.855Z"
   },
   {
    "duration": 26,
    "start_time": "2022-06-30T11:36:59.915Z"
   },
   {
    "duration": 40,
    "start_time": "2022-06-30T11:36:59.944Z"
   },
   {
    "duration": 47,
    "start_time": "2022-06-30T11:36:59.993Z"
   },
   {
    "duration": 83,
    "start_time": "2022-06-30T11:37:00.043Z"
   },
   {
    "duration": 37,
    "start_time": "2022-06-30T11:37:00.129Z"
   },
   {
    "duration": 21,
    "start_time": "2022-06-30T11:37:00.175Z"
   },
   {
    "duration": 30,
    "start_time": "2022-06-30T11:37:00.206Z"
   },
   {
    "duration": 11,
    "start_time": "2022-06-30T11:37:00.241Z"
   },
   {
    "duration": 86,
    "start_time": "2022-06-30T11:37:00.254Z"
   },
   {
    "duration": 24,
    "start_time": "2022-06-30T11:37:00.342Z"
   },
   {
    "duration": 62,
    "start_time": "2022-06-30T11:37:00.368Z"
   },
   {
    "duration": 19,
    "start_time": "2022-06-30T11:37:00.432Z"
   },
   {
    "duration": 15,
    "start_time": "2022-06-30T11:37:00.453Z"
   },
   {
    "duration": 83,
    "start_time": "2022-06-30T11:37:00.470Z"
   },
   {
    "duration": 76,
    "start_time": "2022-06-30T11:37:00.554Z"
   },
   {
    "duration": 105,
    "start_time": "2022-06-30T11:37:00.632Z"
   },
   {
    "duration": 30,
    "start_time": "2022-06-30T11:37:00.740Z"
   },
   {
    "duration": 107,
    "start_time": "2022-06-30T11:37:00.771Z"
   },
   {
    "duration": 62,
    "start_time": "2022-06-30T11:37:00.880Z"
   },
   {
    "duration": 11,
    "start_time": "2022-06-30T11:37:00.945Z"
   },
   {
    "duration": 28,
    "start_time": "2022-06-30T11:37:00.958Z"
   },
   {
    "duration": 46,
    "start_time": "2022-06-30T11:37:00.990Z"
   },
   {
    "duration": 85,
    "start_time": "2022-06-30T11:37:01.039Z"
   },
   {
    "duration": 34,
    "start_time": "2022-06-30T11:37:01.126Z"
   },
   {
    "duration": 10,
    "start_time": "2022-06-30T11:37:01.169Z"
   },
   {
    "duration": 44,
    "start_time": "2022-06-30T11:37:01.188Z"
   },
   {
    "duration": 107,
    "start_time": "2022-06-30T11:37:01.234Z"
   },
   {
    "duration": 106,
    "start_time": "2022-06-30T11:37:01.342Z"
   },
   {
    "duration": 41,
    "start_time": "2022-06-30T11:37:01.449Z"
   },
   {
    "duration": 32,
    "start_time": "2022-06-30T11:37:01.499Z"
   },
   {
    "duration": 13,
    "start_time": "2022-06-30T11:37:01.533Z"
   },
   {
    "duration": 71,
    "start_time": "2022-06-30T11:37:01.548Z"
   },
   {
    "duration": 36,
    "start_time": "2022-06-30T11:37:01.621Z"
   },
   {
    "duration": 58,
    "start_time": "2022-06-30T11:37:01.659Z"
   },
   {
    "duration": 137,
    "start_time": "2022-06-30T11:37:01.720Z"
   },
   {
    "duration": 141,
    "start_time": "2022-06-30T11:37:01.866Z"
   },
   {
    "duration": 43,
    "start_time": "2022-06-30T11:37:02.011Z"
   },
   {
    "duration": 59,
    "start_time": "2022-06-30T11:37:02.056Z"
   },
   {
    "duration": 39,
    "start_time": "2022-06-30T11:37:02.117Z"
   },
   {
    "duration": 79,
    "start_time": "2022-06-30T11:37:02.158Z"
   },
   {
    "duration": 274,
    "start_time": "2022-06-30T11:37:02.239Z"
   },
   {
    "duration": 405,
    "start_time": "2022-06-30T11:37:02.514Z"
   },
   {
    "duration": 51,
    "start_time": "2022-06-30T11:37:02.921Z"
   },
   {
    "duration": 256,
    "start_time": "2022-06-30T11:37:02.974Z"
   },
   {
    "duration": 433,
    "start_time": "2022-06-30T11:37:03.260Z"
   },
   {
    "duration": 411,
    "start_time": "2022-06-30T11:37:03.703Z"
   },
   {
    "duration": 55,
    "start_time": "2022-06-30T11:37:04.116Z"
   },
   {
    "duration": 164,
    "start_time": "2022-06-30T11:37:04.177Z"
   },
   {
    "duration": 287,
    "start_time": "2022-06-30T11:37:04.355Z"
   },
   {
    "duration": 510,
    "start_time": "2022-06-30T11:37:04.644Z"
   },
   {
    "duration": 65,
    "start_time": "2022-06-30T11:37:05.158Z"
   },
   {
    "duration": 178,
    "start_time": "2022-06-30T11:37:05.225Z"
   },
   {
    "duration": 36,
    "start_time": "2022-06-30T11:37:05.405Z"
   },
   {
    "duration": 23,
    "start_time": "2022-06-30T11:37:05.444Z"
   },
   {
    "duration": 12,
    "start_time": "2022-06-30T11:37:05.475Z"
   },
   {
    "duration": 323,
    "start_time": "2022-06-30T11:37:05.489Z"
   },
   {
    "duration": 398,
    "start_time": "2022-06-30T11:37:05.816Z"
   },
   {
    "duration": 56,
    "start_time": "2022-06-30T11:37:06.222Z"
   },
   {
    "duration": 198,
    "start_time": "2022-06-30T11:37:06.280Z"
   },
   {
    "duration": 10,
    "start_time": "2022-06-30T11:37:06.479Z"
   },
   {
    "duration": 136,
    "start_time": "2022-06-30T11:37:06.491Z"
   },
   {
    "duration": 113,
    "start_time": "2022-06-30T11:37:06.634Z"
   },
   {
    "duration": 81,
    "start_time": "2022-06-30T11:37:06.749Z"
   },
   {
    "duration": 61,
    "start_time": "2022-06-30T11:37:06.836Z"
   },
   {
    "duration": 49,
    "start_time": "2022-06-30T11:37:06.899Z"
   },
   {
    "duration": 103,
    "start_time": "2022-06-30T11:37:06.951Z"
   },
   {
    "duration": 149,
    "start_time": "2022-06-30T11:37:07.056Z"
   }
  ],
  "kernelspec": {
   "display_name": "Python 3 (ipykernel)",
   "language": "python",
   "name": "python3"
  },
  "language_info": {
   "codemirror_mode": {
    "name": "ipython",
    "version": 3
   },
   "file_extension": ".py",
   "mimetype": "text/x-python",
   "name": "python",
   "nbconvert_exporter": "python",
   "pygments_lexer": "ipython3",
   "version": "3.9.5"
  },
  "toc": {
   "base_numbering": 1,
   "nav_menu": {},
   "number_sections": true,
   "sideBar": true,
   "skip_h1_title": false,
   "title_cell": "Table of Contents",
   "title_sidebar": "Contents",
   "toc_cell": false,
   "toc_position": {
    "height": "calc(100% - 180px)",
    "left": "10px",
    "top": "150px",
    "width": "165px"
   },
   "toc_section_display": true,
   "toc_window_display": true
  }
 },
 "nbformat": 4,
 "nbformat_minor": 2
}
