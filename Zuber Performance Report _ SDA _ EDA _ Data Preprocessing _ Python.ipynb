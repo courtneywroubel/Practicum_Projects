{
 "cells": [
  {
   "cell_type": "markdown",
   "metadata": {},
   "source": [
    "# Zuber Performance Analysis"
   ]
  },
  {
   "cell_type": "markdown",
   "metadata": {},
   "source": [
    "My goal: perform analysis for a new ride share company, Zuber, using data from competitors. draw conclusions based on graphs, comparing the top 10 most popular neighboords.\n",
    "     "
   ]
  },
  {
   "cell_type": "markdown",
   "metadata": {},
   "source": [
    "The steps to acheive this goal is:\n",
    "    1. import the files\n",
    "    2. study the data they contain\n",
    "    3. make sure the data types are correct\n",
    "    4. identify the top 10 neighborhoods in terms of drop-offs\n",
    "    5. make graphs: taxi companies and number of rides, top 10 neighborhoods by number of dropoffs\n",
    "    6. draw conclusions based on each graph and explain the results"
   ]
  },
  {
   "cell_type": "markdown",
   "metadata": {},
   "source": [
    "### Import Files"
   ]
  },
  {
   "cell_type": "code",
   "execution_count": 1,
   "metadata": {},
   "outputs": [],
   "source": [
    "#libraries \n",
    "import pandas as pd\n",
    "\n",
    "pd.options.mode.chained_assignment = None  \n",
    "# import numpy as np\n",
    "import matplotlib.pyplot as plt\n",
    "# from math import factorial\n",
    "from scipy import stats as st\n",
    "# import seaborn as sns"
   ]
  },
  {
   "cell_type": "code",
   "execution_count": 2,
   "metadata": {},
   "outputs": [],
   "source": [
    "#Import data files into dataframes\n",
    "name_trips = pd.read_csv('/datasets/project_sql_result_01.csv')\n",
    "time_location = pd.read_csv('/datasets/project_sql_result_04.csv')"
   ]
  },
  {
   "cell_type": "markdown",
   "metadata": {},
   "source": [
    "### Study Data"
   ]
  },
  {
   "cell_type": "code",
   "execution_count": 3,
   "metadata": {},
   "outputs": [
    {
     "data": {
      "text/html": [
       "<div>\n",
       "<style scoped>\n",
       "    .dataframe tbody tr th:only-of-type {\n",
       "        vertical-align: middle;\n",
       "    }\n",
       "\n",
       "    .dataframe tbody tr th {\n",
       "        vertical-align: top;\n",
       "    }\n",
       "\n",
       "    .dataframe thead th {\n",
       "        text-align: right;\n",
       "    }\n",
       "</style>\n",
       "<table border=\"1\" class=\"dataframe\">\n",
       "  <thead>\n",
       "    <tr style=\"text-align: right;\">\n",
       "      <th></th>\n",
       "      <th>company_name</th>\n",
       "      <th>trips_amount</th>\n",
       "    </tr>\n",
       "  </thead>\n",
       "  <tbody>\n",
       "    <tr>\n",
       "      <th>0</th>\n",
       "      <td>Flash Cab</td>\n",
       "      <td>19558</td>\n",
       "    </tr>\n",
       "    <tr>\n",
       "      <th>1</th>\n",
       "      <td>Taxi Affiliation Services</td>\n",
       "      <td>11422</td>\n",
       "    </tr>\n",
       "    <tr>\n",
       "      <th>2</th>\n",
       "      <td>Medallion Leasing</td>\n",
       "      <td>10367</td>\n",
       "    </tr>\n",
       "    <tr>\n",
       "      <th>3</th>\n",
       "      <td>Yellow Cab</td>\n",
       "      <td>9888</td>\n",
       "    </tr>\n",
       "    <tr>\n",
       "      <th>4</th>\n",
       "      <td>Taxi Affiliation Service Yellow</td>\n",
       "      <td>9299</td>\n",
       "    </tr>\n",
       "    <tr>\n",
       "      <th>...</th>\n",
       "      <td>...</td>\n",
       "      <td>...</td>\n",
       "    </tr>\n",
       "    <tr>\n",
       "      <th>59</th>\n",
       "      <td>4053 - 40193 Adwar H. Nikola</td>\n",
       "      <td>7</td>\n",
       "    </tr>\n",
       "    <tr>\n",
       "      <th>60</th>\n",
       "      <td>2733 - 74600 Benny Jona</td>\n",
       "      <td>7</td>\n",
       "    </tr>\n",
       "    <tr>\n",
       "      <th>61</th>\n",
       "      <td>5874 - 73628 Sergey Cab Corp.</td>\n",
       "      <td>5</td>\n",
       "    </tr>\n",
       "    <tr>\n",
       "      <th>62</th>\n",
       "      <td>2241 - 44667 - Felman Corp</td>\n",
       "      <td>3</td>\n",
       "    </tr>\n",
       "    <tr>\n",
       "      <th>63</th>\n",
       "      <td>3556 - 36214 RC Andrews Cab</td>\n",
       "      <td>2</td>\n",
       "    </tr>\n",
       "  </tbody>\n",
       "</table>\n",
       "<p>64 rows × 2 columns</p>\n",
       "</div>"
      ],
      "text/plain": [
       "                       company_name  trips_amount\n",
       "0                         Flash Cab         19558\n",
       "1         Taxi Affiliation Services         11422\n",
       "2                 Medallion Leasing         10367\n",
       "3                        Yellow Cab          9888\n",
       "4   Taxi Affiliation Service Yellow          9299\n",
       "..                              ...           ...\n",
       "59     4053 - 40193 Adwar H. Nikola             7\n",
       "60          2733 - 74600 Benny Jona             7\n",
       "61    5874 - 73628 Sergey Cab Corp.             5\n",
       "62       2241 - 44667 - Felman Corp             3\n",
       "63      3556 - 36214 RC Andrews Cab             2\n",
       "\n",
       "[64 rows x 2 columns]"
      ]
     },
     "execution_count": 3,
     "metadata": {},
     "output_type": "execute_result"
    }
   ],
   "source": [
    "#study first data frame\n",
    "name_trips"
   ]
  },
  {
   "cell_type": "code",
   "execution_count": 4,
   "metadata": {},
   "outputs": [
    {
     "data": {
      "text/html": [
       "<div>\n",
       "<style scoped>\n",
       "    .dataframe tbody tr th:only-of-type {\n",
       "        vertical-align: middle;\n",
       "    }\n",
       "\n",
       "    .dataframe tbody tr th {\n",
       "        vertical-align: top;\n",
       "    }\n",
       "\n",
       "    .dataframe thead th {\n",
       "        text-align: right;\n",
       "    }\n",
       "</style>\n",
       "<table border=\"1\" class=\"dataframe\">\n",
       "  <thead>\n",
       "    <tr style=\"text-align: right;\">\n",
       "      <th></th>\n",
       "      <th>dropoff_location_name</th>\n",
       "      <th>average_trips</th>\n",
       "    </tr>\n",
       "  </thead>\n",
       "  <tbody>\n",
       "    <tr>\n",
       "      <th>0</th>\n",
       "      <td>Loop</td>\n",
       "      <td>10727.466667</td>\n",
       "    </tr>\n",
       "    <tr>\n",
       "      <th>1</th>\n",
       "      <td>River North</td>\n",
       "      <td>9523.666667</td>\n",
       "    </tr>\n",
       "    <tr>\n",
       "      <th>2</th>\n",
       "      <td>Streeterville</td>\n",
       "      <td>6664.666667</td>\n",
       "    </tr>\n",
       "    <tr>\n",
       "      <th>3</th>\n",
       "      <td>West Loop</td>\n",
       "      <td>5163.666667</td>\n",
       "    </tr>\n",
       "    <tr>\n",
       "      <th>4</th>\n",
       "      <td>O'Hare</td>\n",
       "      <td>2546.900000</td>\n",
       "    </tr>\n",
       "    <tr>\n",
       "      <th>...</th>\n",
       "      <td>...</td>\n",
       "      <td>...</td>\n",
       "    </tr>\n",
       "    <tr>\n",
       "      <th>89</th>\n",
       "      <td>Mount Greenwood</td>\n",
       "      <td>3.137931</td>\n",
       "    </tr>\n",
       "    <tr>\n",
       "      <th>90</th>\n",
       "      <td>Hegewisch</td>\n",
       "      <td>3.117647</td>\n",
       "    </tr>\n",
       "    <tr>\n",
       "      <th>91</th>\n",
       "      <td>Burnside</td>\n",
       "      <td>2.333333</td>\n",
       "    </tr>\n",
       "    <tr>\n",
       "      <th>92</th>\n",
       "      <td>East Side</td>\n",
       "      <td>1.961538</td>\n",
       "    </tr>\n",
       "    <tr>\n",
       "      <th>93</th>\n",
       "      <td>Riverdale</td>\n",
       "      <td>1.800000</td>\n",
       "    </tr>\n",
       "  </tbody>\n",
       "</table>\n",
       "<p>94 rows × 2 columns</p>\n",
       "</div>"
      ],
      "text/plain": [
       "   dropoff_location_name  average_trips\n",
       "0                   Loop   10727.466667\n",
       "1            River North    9523.666667\n",
       "2          Streeterville    6664.666667\n",
       "3              West Loop    5163.666667\n",
       "4                 O'Hare    2546.900000\n",
       "..                   ...            ...\n",
       "89       Mount Greenwood       3.137931\n",
       "90             Hegewisch       3.117647\n",
       "91              Burnside       2.333333\n",
       "92             East Side       1.961538\n",
       "93             Riverdale       1.800000\n",
       "\n",
       "[94 rows x 2 columns]"
      ]
     },
     "execution_count": 4,
     "metadata": {},
     "output_type": "execute_result"
    }
   ],
   "source": [
    "#study second data frame\n",
    "time_location"
   ]
  },
  {
   "cell_type": "markdown",
   "metadata": {},
   "source": [
    "I look at the data within the dataframe to see what the column names represent. Does the name of the column make sense based on the data? Trip amout should be called trip count, for clarity. Average trips values can be made to look more clear with rounding. \n",
    "\n",
    "\n",
    "Each dataframe has 2 columns: name_trips has 64 rows, time_location has 94 rows. Some company names have numbers possibly to represent zipcode. All column names are lowercase and snakecase!!"
   ]
  },
  {
   "cell_type": "code",
   "execution_count": 5,
   "metadata": {},
   "outputs": [
    {
     "data": {
      "text/plain": [
       "company_name    0\n",
       "trips_amount    0\n",
       "dtype: int64"
      ]
     },
     "execution_count": 5,
     "metadata": {},
     "output_type": "execute_result"
    }
   ],
   "source": [
    "#check for missing values\n",
    "name_trips.isnull().sum()"
   ]
  },
  {
   "cell_type": "code",
   "execution_count": 6,
   "metadata": {},
   "outputs": [
    {
     "data": {
      "text/plain": [
       "dropoff_location_name    0\n",
       "average_trips            0\n",
       "dtype: int64"
      ]
     },
     "execution_count": 6,
     "metadata": {},
     "output_type": "execute_result"
    }
   ],
   "source": [
    "#check for missing values\n",
    "time_location.isnull().sum()"
   ]
  },
  {
   "cell_type": "markdown",
   "metadata": {},
   "source": [
    "No missing values in either dataframe"
   ]
  },
  {
   "cell_type": "code",
   "execution_count": 7,
   "metadata": {},
   "outputs": [
    {
     "name": "stdout",
     "output_type": "stream",
     "text": [
      "<class 'pandas.core.frame.DataFrame'>\n",
      "RangeIndex: 64 entries, 0 to 63\n",
      "Data columns (total 2 columns):\n",
      " #   Column        Non-Null Count  Dtype \n",
      "---  ------        --------------  ----- \n",
      " 0   company_name  64 non-null     object\n",
      " 1   trips_amount  64 non-null     int64 \n",
      "dtypes: int64(1), object(1)\n",
      "memory usage: 1.1+ KB\n"
     ]
    }
   ],
   "source": [
    "#check datatype\n",
    "name_trips.info()"
   ]
  },
  {
   "cell_type": "code",
   "execution_count": 8,
   "metadata": {},
   "outputs": [
    {
     "name": "stdout",
     "output_type": "stream",
     "text": [
      "<class 'pandas.core.frame.DataFrame'>\n",
      "RangeIndex: 94 entries, 0 to 93\n",
      "Data columns (total 2 columns):\n",
      " #   Column                 Non-Null Count  Dtype  \n",
      "---  ------                 --------------  -----  \n",
      " 0   dropoff_location_name  94 non-null     object \n",
      " 1   average_trips          94 non-null     float64\n",
      "dtypes: float64(1), object(1)\n",
      "memory usage: 1.6+ KB\n"
     ]
    }
   ],
   "source": [
    "#check datatype\n",
    "time_location.info()"
   ]
  },
  {
   "cell_type": "markdown",
   "metadata": {},
   "source": [
    "company name should stay an object value, despite the fact some values have numbers. This is because the zipcode is apart of the name (also more than one company might have the same zipcode bc many companys exist in the same zipcode).\n",
    "\n",
    "trips_amount should stay int value, because you can only have a whole number for a value like a trip.\n",
    "\n",
    "dropoff_location_name should stay as an object because the name is based on a city \n",
    "\n",
    "average trips is the datatype I will change. float values are not necessary, I will work with int. This is for. larity when I make analysis "
   ]
  },
  {
   "cell_type": "markdown",
   "metadata": {},
   "source": [
    "### Clean Data"
   ]
  },
  {
   "cell_type": "code",
   "execution_count": 9,
   "metadata": {},
   "outputs": [
    {
     "data": {
      "text/html": [
       "<div>\n",
       "<style scoped>\n",
       "    .dataframe tbody tr th:only-of-type {\n",
       "        vertical-align: middle;\n",
       "    }\n",
       "\n",
       "    .dataframe tbody tr th {\n",
       "        vertical-align: top;\n",
       "    }\n",
       "\n",
       "    .dataframe thead th {\n",
       "        text-align: right;\n",
       "    }\n",
       "</style>\n",
       "<table border=\"1\" class=\"dataframe\">\n",
       "  <thead>\n",
       "    <tr style=\"text-align: right;\">\n",
       "      <th></th>\n",
       "      <th>dropoff_location_name</th>\n",
       "      <th>average_trips</th>\n",
       "    </tr>\n",
       "  </thead>\n",
       "  <tbody>\n",
       "    <tr>\n",
       "      <th>0</th>\n",
       "      <td>Loop</td>\n",
       "      <td>10727</td>\n",
       "    </tr>\n",
       "    <tr>\n",
       "      <th>1</th>\n",
       "      <td>River North</td>\n",
       "      <td>9523</td>\n",
       "    </tr>\n",
       "    <tr>\n",
       "      <th>2</th>\n",
       "      <td>Streeterville</td>\n",
       "      <td>6664</td>\n",
       "    </tr>\n",
       "    <tr>\n",
       "      <th>3</th>\n",
       "      <td>West Loop</td>\n",
       "      <td>5163</td>\n",
       "    </tr>\n",
       "    <tr>\n",
       "      <th>4</th>\n",
       "      <td>O'Hare</td>\n",
       "      <td>2546</td>\n",
       "    </tr>\n",
       "    <tr>\n",
       "      <th>...</th>\n",
       "      <td>...</td>\n",
       "      <td>...</td>\n",
       "    </tr>\n",
       "    <tr>\n",
       "      <th>89</th>\n",
       "      <td>Mount Greenwood</td>\n",
       "      <td>3</td>\n",
       "    </tr>\n",
       "    <tr>\n",
       "      <th>90</th>\n",
       "      <td>Hegewisch</td>\n",
       "      <td>3</td>\n",
       "    </tr>\n",
       "    <tr>\n",
       "      <th>91</th>\n",
       "      <td>Burnside</td>\n",
       "      <td>2</td>\n",
       "    </tr>\n",
       "    <tr>\n",
       "      <th>92</th>\n",
       "      <td>East Side</td>\n",
       "      <td>1</td>\n",
       "    </tr>\n",
       "    <tr>\n",
       "      <th>93</th>\n",
       "      <td>Riverdale</td>\n",
       "      <td>1</td>\n",
       "    </tr>\n",
       "  </tbody>\n",
       "</table>\n",
       "<p>94 rows × 2 columns</p>\n",
       "</div>"
      ],
      "text/plain": [
       "   dropoff_location_name  average_trips\n",
       "0                   Loop          10727\n",
       "1            River North           9523\n",
       "2          Streeterville           6664\n",
       "3              West Loop           5163\n",
       "4                 O'Hare           2546\n",
       "..                   ...            ...\n",
       "89       Mount Greenwood              3\n",
       "90             Hegewisch              3\n",
       "91              Burnside              2\n",
       "92             East Side              1\n",
       "93             Riverdale              1\n",
       "\n",
       "[94 rows x 2 columns]"
      ]
     },
     "execution_count": 9,
     "metadata": {},
     "output_type": "execute_result"
    }
   ],
   "source": [
    "#change data type to int\n",
    "time_location['average_trips'] = time_location['average_trips'].astype(int)\n",
    "time_location"
   ]
  },
  {
   "cell_type": "code",
   "execution_count": 10,
   "metadata": {},
   "outputs": [
    {
     "data": {
      "text/html": [
       "<div>\n",
       "<style scoped>\n",
       "    .dataframe tbody tr th:only-of-type {\n",
       "        vertical-align: middle;\n",
       "    }\n",
       "\n",
       "    .dataframe tbody tr th {\n",
       "        vertical-align: top;\n",
       "    }\n",
       "\n",
       "    .dataframe thead th {\n",
       "        text-align: right;\n",
       "    }\n",
       "</style>\n",
       "<table border=\"1\" class=\"dataframe\">\n",
       "  <thead>\n",
       "    <tr style=\"text-align: right;\">\n",
       "      <th></th>\n",
       "      <th>company_name</th>\n",
       "      <th>trip_count</th>\n",
       "    </tr>\n",
       "  </thead>\n",
       "  <tbody>\n",
       "    <tr>\n",
       "      <th>0</th>\n",
       "      <td>Flash Cab</td>\n",
       "      <td>19558</td>\n",
       "    </tr>\n",
       "    <tr>\n",
       "      <th>1</th>\n",
       "      <td>Taxi Affiliation Services</td>\n",
       "      <td>11422</td>\n",
       "    </tr>\n",
       "    <tr>\n",
       "      <th>2</th>\n",
       "      <td>Medallion Leasing</td>\n",
       "      <td>10367</td>\n",
       "    </tr>\n",
       "    <tr>\n",
       "      <th>3</th>\n",
       "      <td>Yellow Cab</td>\n",
       "      <td>9888</td>\n",
       "    </tr>\n",
       "    <tr>\n",
       "      <th>4</th>\n",
       "      <td>Taxi Affiliation Service Yellow</td>\n",
       "      <td>9299</td>\n",
       "    </tr>\n",
       "    <tr>\n",
       "      <th>...</th>\n",
       "      <td>...</td>\n",
       "      <td>...</td>\n",
       "    </tr>\n",
       "    <tr>\n",
       "      <th>59</th>\n",
       "      <td>4053 - 40193 Adwar H. Nikola</td>\n",
       "      <td>7</td>\n",
       "    </tr>\n",
       "    <tr>\n",
       "      <th>60</th>\n",
       "      <td>2733 - 74600 Benny Jona</td>\n",
       "      <td>7</td>\n",
       "    </tr>\n",
       "    <tr>\n",
       "      <th>61</th>\n",
       "      <td>5874 - 73628 Sergey Cab Corp.</td>\n",
       "      <td>5</td>\n",
       "    </tr>\n",
       "    <tr>\n",
       "      <th>62</th>\n",
       "      <td>2241 - 44667 - Felman Corp</td>\n",
       "      <td>3</td>\n",
       "    </tr>\n",
       "    <tr>\n",
       "      <th>63</th>\n",
       "      <td>3556 - 36214 RC Andrews Cab</td>\n",
       "      <td>2</td>\n",
       "    </tr>\n",
       "  </tbody>\n",
       "</table>\n",
       "<p>64 rows × 2 columns</p>\n",
       "</div>"
      ],
      "text/plain": [
       "                       company_name  trip_count\n",
       "0                         Flash Cab       19558\n",
       "1         Taxi Affiliation Services       11422\n",
       "2                 Medallion Leasing       10367\n",
       "3                        Yellow Cab        9888\n",
       "4   Taxi Affiliation Service Yellow        9299\n",
       "..                              ...         ...\n",
       "59     4053 - 40193 Adwar H. Nikola           7\n",
       "60          2733 - 74600 Benny Jona           7\n",
       "61    5874 - 73628 Sergey Cab Corp.           5\n",
       "62       2241 - 44667 - Felman Corp           3\n",
       "63      3556 - 36214 RC Andrews Cab           2\n",
       "\n",
       "[64 rows x 2 columns]"
      ]
     },
     "execution_count": 10,
     "metadata": {},
     "output_type": "execute_result"
    }
   ],
   "source": [
    "#change column name\n",
    "name_trips['trip_count'] = name_trips['trips_amount']\n",
    "del name_trips['trips_amount']\n",
    "name_trips"
   ]
  },
  {
   "cell_type": "markdown",
   "metadata": {},
   "source": [
    "### Top 10 Neighborhoods"
   ]
  },
  {
   "cell_type": "code",
   "execution_count": 11,
   "metadata": {},
   "outputs": [
    {
     "data": {
      "text/html": [
       "<div>\n",
       "<style scoped>\n",
       "    .dataframe tbody tr th:only-of-type {\n",
       "        vertical-align: middle;\n",
       "    }\n",
       "\n",
       "    .dataframe tbody tr th {\n",
       "        vertical-align: top;\n",
       "    }\n",
       "\n",
       "    .dataframe thead th {\n",
       "        text-align: right;\n",
       "    }\n",
       "</style>\n",
       "<table border=\"1\" class=\"dataframe\">\n",
       "  <thead>\n",
       "    <tr style=\"text-align: right;\">\n",
       "      <th></th>\n",
       "      <th>dropoff_location_name</th>\n",
       "      <th>average_trips</th>\n",
       "    </tr>\n",
       "  </thead>\n",
       "  <tbody>\n",
       "    <tr>\n",
       "      <th>0</th>\n",
       "      <td>Loop</td>\n",
       "      <td>10727</td>\n",
       "    </tr>\n",
       "    <tr>\n",
       "      <th>1</th>\n",
       "      <td>River North</td>\n",
       "      <td>9523</td>\n",
       "    </tr>\n",
       "    <tr>\n",
       "      <th>2</th>\n",
       "      <td>Streeterville</td>\n",
       "      <td>6664</td>\n",
       "    </tr>\n",
       "    <tr>\n",
       "      <th>3</th>\n",
       "      <td>West Loop</td>\n",
       "      <td>5163</td>\n",
       "    </tr>\n",
       "    <tr>\n",
       "      <th>4</th>\n",
       "      <td>O'Hare</td>\n",
       "      <td>2546</td>\n",
       "    </tr>\n",
       "    <tr>\n",
       "      <th>5</th>\n",
       "      <td>Lake View</td>\n",
       "      <td>2420</td>\n",
       "    </tr>\n",
       "    <tr>\n",
       "      <th>6</th>\n",
       "      <td>Grant Park</td>\n",
       "      <td>2068</td>\n",
       "    </tr>\n",
       "    <tr>\n",
       "      <th>7</th>\n",
       "      <td>Museum Campus</td>\n",
       "      <td>1510</td>\n",
       "    </tr>\n",
       "    <tr>\n",
       "      <th>8</th>\n",
       "      <td>Gold Coast</td>\n",
       "      <td>1364</td>\n",
       "    </tr>\n",
       "    <tr>\n",
       "      <th>9</th>\n",
       "      <td>Sheffield &amp; DePaul</td>\n",
       "      <td>1259</td>\n",
       "    </tr>\n",
       "  </tbody>\n",
       "</table>\n",
       "</div>"
      ],
      "text/plain": [
       "  dropoff_location_name  average_trips\n",
       "0                  Loop          10727\n",
       "1           River North           9523\n",
       "2         Streeterville           6664\n",
       "3             West Loop           5163\n",
       "4                O'Hare           2546\n",
       "5             Lake View           2420\n",
       "6            Grant Park           2068\n",
       "7         Museum Campus           1510\n",
       "8            Gold Coast           1364\n",
       "9    Sheffield & DePaul           1259"
      ]
     },
     "metadata": {},
     "output_type": "display_data"
    }
   ],
   "source": [
    "#identify the top 10 neighborhoods in terms of drop-offs\n",
    "top_10_neighborhoods = time_location.groupby(['dropoff_location_name'])\n",
    "top_10_neighborhoods = time_location.sort_values(by='average_trips', ascending=False).head(10)\n",
    "display(top_10_neighborhoods)"
   ]
  },
  {
   "cell_type": "markdown",
   "metadata": {},
   "source": [
    "#### Graph"
   ]
  },
  {
   "cell_type": "code",
   "execution_count": 12,
   "metadata": {},
   "outputs": [
    {
     "data": {
      "image/png": "[encoded data removed]",
      "text/plain": [
       "<Figure size 432x288 with 1 Axes>"
      ]
     },
     "metadata": {
      "needs_background": "light"
     },
     "output_type": "display_data"
    }
   ],
   "source": [
    "#top 10 neighborhoods by number of dropoffs\n",
    "top_10_neighborhoods.set_index('dropoff_location_name').plot(kind='bar')\n",
    "plt.title('Top 10 Neighborhoods by Number of Dropoffs')\n",
    "plt.ylabel(\"Number of Dropoffs\")\n",
    "plt.xlabel(\"Neighborhoods\")\n",
    "plt.show()"
   ]
  },
  {
   "cell_type": "markdown",
   "metadata": {},
   "source": [
    "### Top 10 Companies"
   ]
  },
  {
   "cell_type": "code",
   "execution_count": 13,
   "metadata": {},
   "outputs": [
    {
     "data": {
      "text/html": [
       "<div>\n",
       "<style scoped>\n",
       "    .dataframe tbody tr th:only-of-type {\n",
       "        vertical-align: middle;\n",
       "    }\n",
       "\n",
       "    .dataframe tbody tr th {\n",
       "        vertical-align: top;\n",
       "    }\n",
       "\n",
       "    .dataframe thead th {\n",
       "        text-align: right;\n",
       "    }\n",
       "</style>\n",
       "<table border=\"1\" class=\"dataframe\">\n",
       "  <thead>\n",
       "    <tr style=\"text-align: right;\">\n",
       "      <th></th>\n",
       "      <th>company_name</th>\n",
       "      <th>trip_count</th>\n",
       "    </tr>\n",
       "  </thead>\n",
       "  <tbody>\n",
       "    <tr>\n",
       "      <th>0</th>\n",
       "      <td>Flash Cab</td>\n",
       "      <td>19558</td>\n",
       "    </tr>\n",
       "    <tr>\n",
       "      <th>1</th>\n",
       "      <td>Taxi Affiliation Services</td>\n",
       "      <td>11422</td>\n",
       "    </tr>\n",
       "    <tr>\n",
       "      <th>2</th>\n",
       "      <td>Medallion Leasing</td>\n",
       "      <td>10367</td>\n",
       "    </tr>\n",
       "    <tr>\n",
       "      <th>3</th>\n",
       "      <td>Yellow Cab</td>\n",
       "      <td>9888</td>\n",
       "    </tr>\n",
       "    <tr>\n",
       "      <th>4</th>\n",
       "      <td>Taxi Affiliation Service Yellow</td>\n",
       "      <td>9299</td>\n",
       "    </tr>\n",
       "    <tr>\n",
       "      <th>5</th>\n",
       "      <td>Chicago Carriage Cab Corp</td>\n",
       "      <td>9181</td>\n",
       "    </tr>\n",
       "    <tr>\n",
       "      <th>6</th>\n",
       "      <td>City Service</td>\n",
       "      <td>8448</td>\n",
       "    </tr>\n",
       "    <tr>\n",
       "      <th>7</th>\n",
       "      <td>Sun Taxi</td>\n",
       "      <td>7701</td>\n",
       "    </tr>\n",
       "    <tr>\n",
       "      <th>8</th>\n",
       "      <td>Star North Management LLC</td>\n",
       "      <td>7455</td>\n",
       "    </tr>\n",
       "    <tr>\n",
       "      <th>9</th>\n",
       "      <td>Blue Ribbon Taxi Association Inc.</td>\n",
       "      <td>5953</td>\n",
       "    </tr>\n",
       "  </tbody>\n",
       "</table>\n",
       "</div>"
      ],
      "text/plain": [
       "                        company_name  trip_count\n",
       "0                          Flash Cab       19558\n",
       "1          Taxi Affiliation Services       11422\n",
       "2                  Medallion Leasing       10367\n",
       "3                         Yellow Cab        9888\n",
       "4    Taxi Affiliation Service Yellow        9299\n",
       "5          Chicago Carriage Cab Corp        9181\n",
       "6                       City Service        8448\n",
       "7                           Sun Taxi        7701\n",
       "8          Star North Management LLC        7455\n",
       "9  Blue Ribbon Taxi Association Inc.        5953"
      ]
     },
     "metadata": {},
     "output_type": "display_data"
    }
   ],
   "source": [
    "#taxi companies and number of dropoffs\n",
    "top_10_companies = name_trips.groupby(['company_name'])\n",
    "top_10_companies = name_trips.sort_values(by='trip_count', ascending=False).head(10)\n",
    "display(top_10_companies)"
   ]
  },
  {
   "cell_type": "markdown",
   "metadata": {},
   "source": [
    "#### Graph"
   ]
  },
  {
   "cell_type": "code",
   "execution_count": 14,
   "metadata": {},
   "outputs": [
    {
     "data": {
      "image/png": "[encoded data removed]",
      "text/plain": [
       "<Figure size 432x288 with 1 Axes>"
      ]
     },
     "metadata": {
      "needs_background": "light"
     },
     "output_type": "display_data"
    }
   ],
   "source": [
    "#top 10 company_name by number of dropoffs\n",
    "top_10_companies.set_index('company_name').plot(kind='bar')\n",
    "plt.title('Top 10 Companies by Number of Dropoffs')\n",
    "plt.ylabel(\"Number of Dropoffs\")\n",
    "plt.xlabel(\"Company\")\n",
    "plt.show()"
   ]
  },
  {
   "cell_type": "markdown",
   "metadata": {},
   "source": [
    "### Conclusions "
   ]
  },
  {
   "cell_type": "markdown",
   "metadata": {},
   "source": [
    "What was the purpose of this? We want to target the companies with the most completed rides, aka drop-offs. We also want to target the most popular neighborhoods the drop-offs occur in. It's important to see which companies have the highest revenue, so this is why completed rides is valueable data. We want to study which neighborhoods the companies have the most success in. Creating a visual is imporant to compare the top 10 companies and neighboorhoods.  \n",
    "\n",
    "Do the values make sense? Yes. The range is 20,000 - 5,000 rides over the top 10 companies. No company has a suspiciously high number of completed rides. The drop offs in the most popular neighboorhoods are between 9,000-2,000. This is reasonable as well. Over 9,000 drop-offs in the most popular neighborhood makes sense if the most popular cab company completes 20,000. It's not like that 100% of the rides for the company happen in one neighboorhood - so it would be suspicious if the top neighborhood has a value equal to or greater than 20,000.\n",
    "\n",
    "Is the difference signficant for neigborhoods?  I consider the top 4 values significant. The range I mentioned above is how I determine this. The top 4 values are popular enough to be profitable for a new company. The top 5-10 neighborhood drop off values have significant decrease in popularilty. \n",
    "\n",
    "Is the difference signficant for companies? Clearly there is one company that stands high above the others. What is the purpose of finding the top company if I'm hired by Zuber? Should we look at this top comapny as our competion? We cna gather data on this company. What do riders dislike and like about this top company? How can Zuber make an improved experience for riders that this top company can't provide?"
   ]
  },
  {
   "cell_type": "markdown",
   "metadata": {},
   "source": [
    "### Import Files "
   ]
  },
  {
   "cell_type": "markdown",
   "metadata": {},
   "source": [
    "##### my goal test the impact of weather on ride frequency using ttest"
   ]
  },
  {
   "cell_type": "code",
   "execution_count": 15,
   "metadata": {},
   "outputs": [],
   "source": [
    "#import \n",
    "df_weather = pd.read_csv('/datasets/project_sql_result_07.csv')"
   ]
  },
  {
   "cell_type": "markdown",
   "metadata": {},
   "source": [
    "### Study Data"
   ]
  },
  {
   "cell_type": "code",
   "execution_count": 16,
   "metadata": {},
   "outputs": [
    {
     "data": {
      "text/html": [
       "<div>\n",
       "<style scoped>\n",
       "    .dataframe tbody tr th:only-of-type {\n",
       "        vertical-align: middle;\n",
       "    }\n",
       "\n",
       "    .dataframe tbody tr th {\n",
       "        vertical-align: top;\n",
       "    }\n",
       "\n",
       "    .dataframe thead th {\n",
       "        text-align: right;\n",
       "    }\n",
       "</style>\n",
       "<table border=\"1\" class=\"dataframe\">\n",
       "  <thead>\n",
       "    <tr style=\"text-align: right;\">\n",
       "      <th></th>\n",
       "      <th>start_ts</th>\n",
       "      <th>weather_conditions</th>\n",
       "      <th>duration_seconds</th>\n",
       "    </tr>\n",
       "  </thead>\n",
       "  <tbody>\n",
       "    <tr>\n",
       "      <th>0</th>\n",
       "      <td>2017-11-25 16:00:00</td>\n",
       "      <td>Good</td>\n",
       "      <td>2410.0</td>\n",
       "    </tr>\n",
       "    <tr>\n",
       "      <th>1</th>\n",
       "      <td>2017-11-25 14:00:00</td>\n",
       "      <td>Good</td>\n",
       "      <td>1920.0</td>\n",
       "    </tr>\n",
       "    <tr>\n",
       "      <th>2</th>\n",
       "      <td>2017-11-25 12:00:00</td>\n",
       "      <td>Good</td>\n",
       "      <td>1543.0</td>\n",
       "    </tr>\n",
       "    <tr>\n",
       "      <th>3</th>\n",
       "      <td>2017-11-04 10:00:00</td>\n",
       "      <td>Good</td>\n",
       "      <td>2512.0</td>\n",
       "    </tr>\n",
       "    <tr>\n",
       "      <th>4</th>\n",
       "      <td>2017-11-11 07:00:00</td>\n",
       "      <td>Good</td>\n",
       "      <td>1440.0</td>\n",
       "    </tr>\n",
       "    <tr>\n",
       "      <th>...</th>\n",
       "      <td>...</td>\n",
       "      <td>...</td>\n",
       "      <td>...</td>\n",
       "    </tr>\n",
       "    <tr>\n",
       "      <th>1063</th>\n",
       "      <td>2017-11-25 11:00:00</td>\n",
       "      <td>Good</td>\n",
       "      <td>0.0</td>\n",
       "    </tr>\n",
       "    <tr>\n",
       "      <th>1064</th>\n",
       "      <td>2017-11-11 10:00:00</td>\n",
       "      <td>Good</td>\n",
       "      <td>1318.0</td>\n",
       "    </tr>\n",
       "    <tr>\n",
       "      <th>1065</th>\n",
       "      <td>2017-11-11 13:00:00</td>\n",
       "      <td>Good</td>\n",
       "      <td>2100.0</td>\n",
       "    </tr>\n",
       "    <tr>\n",
       "      <th>1066</th>\n",
       "      <td>2017-11-11 08:00:00</td>\n",
       "      <td>Good</td>\n",
       "      <td>1380.0</td>\n",
       "    </tr>\n",
       "    <tr>\n",
       "      <th>1067</th>\n",
       "      <td>2017-11-04 16:00:00</td>\n",
       "      <td>Bad</td>\n",
       "      <td>2834.0</td>\n",
       "    </tr>\n",
       "  </tbody>\n",
       "</table>\n",
       "<p>1068 rows × 3 columns</p>\n",
       "</div>"
      ],
      "text/plain": [
       "                 start_ts weather_conditions  duration_seconds\n",
       "0     2017-11-25 16:00:00               Good            2410.0\n",
       "1     2017-11-25 14:00:00               Good            1920.0\n",
       "2     2017-11-25 12:00:00               Good            1543.0\n",
       "3     2017-11-04 10:00:00               Good            2512.0\n",
       "4     2017-11-11 07:00:00               Good            1440.0\n",
       "...                   ...                ...               ...\n",
       "1063  2017-11-25 11:00:00               Good               0.0\n",
       "1064  2017-11-11 10:00:00               Good            1318.0\n",
       "1065  2017-11-11 13:00:00               Good            2100.0\n",
       "1066  2017-11-11 08:00:00               Good            1380.0\n",
       "1067  2017-11-04 16:00:00                Bad            2834.0\n",
       "\n",
       "[1068 rows x 3 columns]"
      ]
     },
     "execution_count": 16,
     "metadata": {},
     "output_type": "execute_result"
    }
   ],
   "source": [
    "#study dataframe\n",
    "df_weather"
   ]
  },
  {
   "cell_type": "code",
   "execution_count": 17,
   "metadata": {},
   "outputs": [
    {
     "data": {
      "text/plain": [
       "array(['Good', 'Bad'], dtype=object)"
      ]
     },
     "execution_count": 17,
     "metadata": {},
     "output_type": "execute_result"
    }
   ],
   "source": [
    "#unique values for weather conditions\n",
    "df_weather['weather_conditions'].unique()"
   ]
  },
  {
   "cell_type": "code",
   "execution_count": 18,
   "metadata": {},
   "outputs": [
    {
     "data": {
      "text/plain": [
       "start_ts              0\n",
       "weather_conditions    0\n",
       "duration_seconds      0\n",
       "dtype: int64"
      ]
     },
     "execution_count": 18,
     "metadata": {},
     "output_type": "execute_result"
    }
   ],
   "source": [
    "#missing values??\n",
    "df_weather.isnull().sum()"
   ]
  },
  {
   "cell_type": "code",
   "execution_count": 19,
   "metadata": {},
   "outputs": [
    {
     "name": "stdout",
     "output_type": "stream",
     "text": [
      "<class 'pandas.core.frame.DataFrame'>\n",
      "RangeIndex: 1068 entries, 0 to 1067\n",
      "Data columns (total 3 columns):\n",
      " #   Column              Non-Null Count  Dtype  \n",
      "---  ------              --------------  -----  \n",
      " 0   start_ts            1068 non-null   object \n",
      " 1   weather_conditions  1068 non-null   object \n",
      " 2   duration_seconds    1068 non-null   float64\n",
      "dtypes: float64(1), object(2)\n",
      "memory usage: 25.2+ KB\n"
     ]
    }
   ],
   "source": [
    "df_weather.info()"
   ]
  },
  {
   "cell_type": "markdown",
   "metadata": {},
   "source": [
    "I look at the data within the dataframe to see what the column names represent. start_ts has year, month, day digit, and hour of day (for the start of the ride). weather_conditions are either Good or Bad. duration_seconds tells us how long the ride lasted. \n",
    "\n",
    "1068 rows and 3 columns. all lowercase and snake_case. No missing values!! I do need to change start_ts datatype to datetime. duration_seconds can also be changed."
   ]
  },
  {
   "cell_type": "markdown",
   "metadata": {},
   "source": [
    "### Clean Data"
   ]
  },
  {
   "cell_type": "code",
   "execution_count": 20,
   "metadata": {},
   "outputs": [
    {
     "name": "stdout",
     "output_type": "stream",
     "text": [
      "<class 'pandas.core.frame.DataFrame'>\n",
      "RangeIndex: 1068 entries, 0 to 1067\n",
      "Data columns (total 3 columns):\n",
      " #   Column              Non-Null Count  Dtype \n",
      "---  ------              --------------  ----- \n",
      " 0   start_ts            1068 non-null   object\n",
      " 1   weather_conditions  1068 non-null   object\n",
      " 2   duration_seconds    1068 non-null   int64 \n",
      "dtypes: int64(1), object(2)\n",
      "memory usage: 25.2+ KB\n"
     ]
    }
   ],
   "source": [
    "#change datatype\n",
    "df_weather['duration_seconds'] = df_weather['duration_seconds'].astype(int)\n",
    "df_weather.info()"
   ]
  },
  {
   "cell_type": "code",
   "execution_count": 21,
   "metadata": {},
   "outputs": [
    {
     "name": "stdout",
     "output_type": "stream",
     "text": [
      "<class 'pandas.core.frame.DataFrame'>\n",
      "RangeIndex: 1068 entries, 0 to 1067\n",
      "Data columns (total 3 columns):\n",
      " #   Column              Non-Null Count  Dtype         \n",
      "---  ------              --------------  -----         \n",
      " 0   start_ts            1068 non-null   datetime64[ns]\n",
      " 1   weather_conditions  1068 non-null   object        \n",
      " 2   duration_seconds    1068 non-null   int64         \n",
      "dtypes: datetime64[ns](1), int64(1), object(1)\n",
      "memory usage: 25.2+ KB\n"
     ]
    }
   ],
   "source": [
    "#change datatype\n",
    "df_weather['start_ts'] = pd.to_datetime(df_weather['start_ts'], format='%Y-%m-%d %H:%M:%S')\n",
    "df_weather.info()"
   ]
  },
  {
   "cell_type": "markdown",
   "metadata": {},
   "source": [
    "Now all the datatypes make sense and are in the correct format."
   ]
  },
  {
   "cell_type": "markdown",
   "metadata": {},
   "source": [
    "### Test Hypothesis"
   ]
  },
  {
   "cell_type": "markdown",
   "metadata": {},
   "source": [
    "Null: There is no difference in avg duration of rides on Saturdays when weather conditions are 'bad' or 'good'\n",
    "\n",
    "Alt: There is a significant difference in avg duration of rides on Saturdays when weather conditions are 'bad' or 'good''\n"
   ]
  },
  {
   "cell_type": "code",
   "execution_count": 22,
   "metadata": {},
   "outputs": [
    {
     "name": "stdout",
     "output_type": "stream",
     "text": [
      "p-value:  6.517970327099473e-12\n",
      "We reject the null hypothesis\n"
     ]
    }
   ],
   "source": [
    "sample_1 = df_weather[df_weather['weather_conditions'] == 'Good']['duration_seconds']\n",
    "sample_2 = df_weather[df_weather['weather_conditions'] == 'Bad']['duration_seconds']\n",
    "\n",
    "alpha = 0.05\n",
    "\n",
    "results = st.ttest_ind(sample_1, sample_2,nan_policy='omit')\n",
    "\n",
    "print('p-value: ', results.pvalue)\n",
    "\n",
    "if results.pvalue < alpha:\n",
    "    print('We reject the null hypothesis')\n",
    "else:\n",
    "    print('We cannot reject the null hypothesis') \n",
    "\n"
   ]
  },
  {
   "cell_type": "markdown",
   "metadata": {},
   "source": [
    "The null hypothesis was rejected in favor of the alt hypothesis. This means that the pvalue is less than the alpha value. There is a significant difference in avg duration of rides on Saturdays when weather conditions are 'bad' or 'good'...but why?\n",
    "\n",
    "Our ttest shows we've found statistically significant difference in average duration of a ride on Satruday in bad weather.Is there an explanation for this? The weather may impact the NUMBER of rides in that day, because people wanting to avoid bad weather will call a ride company...how can it affect the duration?? It's possible if more rides are being ordered, traffic might increase, and therefore the duration of a ride might increase. If the weather is bad enough, it may impact driving conditions and slow traffic, increasing the duration again."
   ]
  },
  {
   "cell_type": "markdown",
   "metadata": {},
   "source": [
    "## Report"
   ]
  },
  {
   "cell_type": "markdown",
   "metadata": {},
   "source": [
    "What makes Zuber different? We need to study the company Flash Cab, the most popular rideshare company. Gather data on riders who use this company: What do they like about it? What do they dislike? What can Zuber do to improve the rider experience? In order for Zuber to be succesful, it needs a feature that is imporant to riders, that other companies don't offer. \n",
    "\n",
    "Zuber also needs to build a community of drivers. The most popular neighborhoods likely correlate with high revenue. I will present the top 10 neighborhoods, the Zuber team will come up with a strategy to employee drivers who agree to service those drop off locations."
   ]
  }
 ],
 "metadata": {
  "ExecuteTimeLog": [
   {
    "duration": 45,
    "start_time": "2022-08-14T17:25:40.515Z"
   },
   {
    "duration": 362,
    "start_time": "2022-08-14T17:25:43.605Z"
   },
   {
    "duration": 126,
    "start_time": "2022-08-14T17:25:44.021Z"
   },
   {
    "duration": 17,
    "start_time": "2022-08-14T17:25:57.356Z"
   },
   {
    "duration": 45,
    "start_time": "2022-08-14T17:26:29.906Z"
   },
   {
    "duration": 8,
    "start_time": "2022-08-14T17:26:30.290Z"
   },
   {
    "duration": 10,
    "start_time": "2022-08-14T17:26:30.981Z"
   },
   {
    "duration": 41,
    "start_time": "2022-08-14T17:30:23.133Z"
   },
   {
    "duration": 10,
    "start_time": "2022-08-14T17:30:23.512Z"
   },
   {
    "duration": 13,
    "start_time": "2022-08-14T17:30:24.407Z"
   },
   {
    "duration": 11,
    "start_time": "2022-08-14T17:36:36.718Z"
   },
   {
    "duration": 6,
    "start_time": "2022-08-14T17:36:48.557Z"
   },
   {
    "duration": 6,
    "start_time": "2022-08-14T17:37:13.500Z"
   },
   {
    "duration": 7,
    "start_time": "2022-08-14T17:37:38.773Z"
   },
   {
    "duration": 6,
    "start_time": "2022-08-14T17:37:40.027Z"
   },
   {
    "duration": 12,
    "start_time": "2022-08-14T17:40:08.140Z"
   },
   {
    "duration": 12,
    "start_time": "2022-08-14T17:40:35.616Z"
   },
   {
    "duration": 3,
    "start_time": "2022-08-14T17:49:08.321Z"
   },
   {
    "duration": 66,
    "start_time": "2022-08-14T17:49:23.754Z"
   },
   {
    "duration": 28,
    "start_time": "2022-08-14T17:49:29.076Z"
   },
   {
    "duration": 15,
    "start_time": "2022-08-14T17:49:35.133Z"
   },
   {
    "duration": 9,
    "start_time": "2022-08-14T17:49:44.491Z"
   },
   {
    "duration": 8,
    "start_time": "2022-08-14T17:51:19.167Z"
   },
   {
    "duration": 3,
    "start_time": "2022-08-14T17:51:45.144Z"
   },
   {
    "duration": 10,
    "start_time": "2022-08-14T17:51:51.817Z"
   },
   {
    "duration": 7,
    "start_time": "2022-08-14T17:53:14.202Z"
   },
   {
    "duration": 10,
    "start_time": "2022-08-14T17:53:36.932Z"
   },
   {
    "duration": 6,
    "start_time": "2022-08-14T18:04:26.212Z"
   },
   {
    "duration": 5,
    "start_time": "2022-08-14T18:10:13.417Z"
   },
   {
    "duration": 13,
    "start_time": "2022-08-14T18:10:26.626Z"
   },
   {
    "duration": 7,
    "start_time": "2022-08-14T18:11:01.173Z"
   },
   {
    "duration": 4,
    "start_time": "2022-08-14T18:11:12.698Z"
   },
   {
    "duration": 8,
    "start_time": "2022-08-14T18:11:16.050Z"
   },
   {
    "duration": 51,
    "start_time": "2022-08-14T18:11:31.270Z"
   },
   {
    "duration": 4,
    "start_time": "2022-08-14T18:11:37.572Z"
   },
   {
    "duration": 5,
    "start_time": "2022-08-14T18:11:42.813Z"
   },
   {
    "duration": 5,
    "start_time": "2022-08-14T18:11:51.766Z"
   },
   {
    "duration": 7,
    "start_time": "2022-08-14T18:17:02.712Z"
   },
   {
    "duration": 8,
    "start_time": "2022-08-14T18:17:11.785Z"
   },
   {
    "duration": 8,
    "start_time": "2022-08-14T18:17:40.126Z"
   },
   {
    "duration": 7,
    "start_time": "2022-08-14T18:17:46.938Z"
   },
   {
    "duration": 11,
    "start_time": "2022-08-14T18:46:06.658Z"
   },
   {
    "duration": 5,
    "start_time": "2022-08-14T18:49:38.793Z"
   },
   {
    "duration": 5,
    "start_time": "2022-08-14T18:50:08.966Z"
   },
   {
    "duration": 6,
    "start_time": "2022-08-14T18:50:23.044Z"
   },
   {
    "duration": 6,
    "start_time": "2022-08-14T18:50:39.397Z"
   },
   {
    "duration": 9,
    "start_time": "2022-08-14T18:50:55.328Z"
   },
   {
    "duration": 5,
    "start_time": "2022-08-14T18:51:04.516Z"
   },
   {
    "duration": 50,
    "start_time": "2022-08-14T18:52:01.938Z"
   },
   {
    "duration": 6,
    "start_time": "2022-08-14T18:52:21.824Z"
   },
   {
    "duration": 2,
    "start_time": "2022-08-14T18:52:34.958Z"
   },
   {
    "duration": 7,
    "start_time": "2022-08-14T19:01:00.337Z"
   },
   {
    "duration": 25,
    "start_time": "2022-08-14T19:01:09.206Z"
   },
   {
    "duration": 23,
    "start_time": "2022-08-14T19:01:51.052Z"
   },
   {
    "duration": 13,
    "start_time": "2022-08-14T19:01:56.705Z"
   },
   {
    "duration": 5,
    "start_time": "2022-08-14T19:02:21.340Z"
   },
   {
    "duration": 7,
    "start_time": "2022-08-14T19:14:05.095Z"
   },
   {
    "duration": 6,
    "start_time": "2022-08-14T19:14:24.257Z"
   },
   {
    "duration": 24,
    "start_time": "2022-08-14T19:14:30.115Z"
   },
   {
    "duration": 3,
    "start_time": "2022-08-14T19:14:42.023Z"
   },
   {
    "duration": 23,
    "start_time": "2022-08-14T19:14:42.418Z"
   },
   {
    "duration": 492,
    "start_time": "2022-08-14T19:17:43.564Z"
   },
   {
    "duration": 131,
    "start_time": "2022-08-14T19:19:02.308Z"
   },
   {
    "duration": 2,
    "start_time": "2022-08-14T19:19:11.706Z"
   },
   {
    "duration": 142,
    "start_time": "2022-08-14T19:19:18.386Z"
   },
   {
    "duration": 135,
    "start_time": "2022-08-14T19:19:26.482Z"
   },
   {
    "duration": 179,
    "start_time": "2022-08-14T19:19:32.289Z"
   },
   {
    "duration": 7,
    "start_time": "2022-08-14T19:31:23.370Z"
   },
   {
    "duration": 8,
    "start_time": "2022-08-14T19:33:32.324Z"
   },
   {
    "duration": 9,
    "start_time": "2022-08-14T19:33:40.127Z"
   },
   {
    "duration": 10,
    "start_time": "2022-08-14T19:35:36.444Z"
   },
   {
    "duration": 7,
    "start_time": "2022-08-14T19:35:48.892Z"
   },
   {
    "duration": 7,
    "start_time": "2022-08-14T19:36:02.457Z"
   },
   {
    "duration": 4,
    "start_time": "2022-08-14T19:36:30.021Z"
   },
   {
    "duration": 151,
    "start_time": "2022-08-14T19:36:32.684Z"
   },
   {
    "duration": 2,
    "start_time": "2022-08-14T19:40:31.082Z"
   },
   {
    "duration": 42,
    "start_time": "2022-08-14T19:40:31.270Z"
   },
   {
    "duration": 3,
    "start_time": "2022-08-14T19:41:41.475Z"
   },
   {
    "duration": 44,
    "start_time": "2022-08-14T19:41:41.733Z"
   },
   {
    "duration": 8,
    "start_time": "2022-08-14T19:41:42.277Z"
   },
   {
    "duration": 10,
    "start_time": "2022-08-14T19:41:42.505Z"
   },
   {
    "duration": 6,
    "start_time": "2022-08-14T19:41:43.031Z"
   },
   {
    "duration": 5,
    "start_time": "2022-08-14T19:41:43.271Z"
   },
   {
    "duration": 12,
    "start_time": "2022-08-14T19:41:43.770Z"
   },
   {
    "duration": 10,
    "start_time": "2022-08-14T19:41:44.024Z"
   },
   {
    "duration": 9,
    "start_time": "2022-08-14T19:41:44.786Z"
   },
   {
    "duration": 11,
    "start_time": "2022-08-14T19:41:45.618Z"
   },
   {
    "duration": 3,
    "start_time": "2022-08-14T19:41:46.155Z"
   },
   {
    "duration": 150,
    "start_time": "2022-08-14T19:41:46.733Z"
   },
   {
    "duration": 48,
    "start_time": "2022-08-14T19:48:35.509Z"
   },
   {
    "duration": 3,
    "start_time": "2022-08-14T19:50:47.561Z"
   },
   {
    "duration": 41,
    "start_time": "2022-08-14T19:50:47.635Z"
   },
   {
    "duration": 9,
    "start_time": "2022-08-14T19:50:47.802Z"
   },
   {
    "duration": 9,
    "start_time": "2022-08-14T19:50:47.887Z"
   },
   {
    "duration": 5,
    "start_time": "2022-08-14T19:50:48.055Z"
   },
   {
    "duration": 5,
    "start_time": "2022-08-14T19:50:48.139Z"
   },
   {
    "duration": 9,
    "start_time": "2022-08-14T19:50:48.307Z"
   },
   {
    "duration": 10,
    "start_time": "2022-08-14T19:50:48.392Z"
   },
   {
    "duration": 10,
    "start_time": "2022-08-14T19:50:48.641Z"
   },
   {
    "duration": 9,
    "start_time": "2022-08-14T19:50:48.726Z"
   },
   {
    "duration": 4,
    "start_time": "2022-08-14T19:50:48.900Z"
   },
   {
    "duration": 172,
    "start_time": "2022-08-14T19:50:49.059Z"
   },
   {
    "duration": 47,
    "start_time": "2022-08-14T19:50:49.475Z"
   },
   {
    "duration": 88,
    "start_time": "2022-08-14T19:52:10.020Z"
   },
   {
    "duration": 11,
    "start_time": "2022-08-14T19:54:09.941Z"
   },
   {
    "duration": 8,
    "start_time": "2022-08-14T19:56:17.287Z"
   },
   {
    "duration": 8,
    "start_time": "2022-08-14T19:56:22.527Z"
   },
   {
    "duration": 8,
    "start_time": "2022-08-14T19:56:36.224Z"
   },
   {
    "duration": 5,
    "start_time": "2022-08-14T19:57:19.666Z"
   },
   {
    "duration": 5,
    "start_time": "2022-08-14T19:57:30.495Z"
   },
   {
    "duration": 5,
    "start_time": "2022-08-14T20:00:11.146Z"
   },
   {
    "duration": 10,
    "start_time": "2022-08-14T20:02:03.714Z"
   },
   {
    "duration": 11,
    "start_time": "2022-08-14T20:09:06.968Z"
   },
   {
    "duration": 12,
    "start_time": "2022-08-14T20:09:15.694Z"
   },
   {
    "duration": 47,
    "start_time": "2022-08-15T19:19:50.146Z"
   },
   {
    "duration": 725,
    "start_time": "2022-08-15T19:20:02.768Z"
   },
   {
    "duration": 129,
    "start_time": "2022-08-15T19:20:17.818Z"
   },
   {
    "duration": 14,
    "start_time": "2022-08-15T19:20:18.399Z"
   },
   {
    "duration": 4,
    "start_time": "2022-08-15T19:20:18.474Z"
   },
   {
    "duration": 6,
    "start_time": "2022-08-15T19:20:18.557Z"
   },
   {
    "duration": 10,
    "start_time": "2022-08-15T19:20:18.641Z"
   },
   {
    "duration": 12,
    "start_time": "2022-08-15T19:20:18.905Z"
   },
   {
    "duration": 533,
    "start_time": "2022-08-15T19:20:18.977Z"
   },
   {
    "duration": 391,
    "start_time": "2022-08-15T19:22:25.856Z"
   },
   {
    "duration": 10,
    "start_time": "2022-08-15T19:22:58.118Z"
   },
   {
    "duration": 9,
    "start_time": "2022-08-15T19:23:54.641Z"
   },
   {
    "duration": 5,
    "start_time": "2022-08-15T19:26:51.317Z"
   },
   {
    "duration": 12,
    "start_time": "2022-08-15T19:27:04.222Z"
   },
   {
    "duration": 13,
    "start_time": "2022-08-15T19:28:22.221Z"
   },
   {
    "duration": 9,
    "start_time": "2022-08-15T19:41:02.244Z"
   },
   {
    "duration": 404,
    "start_time": "2022-08-15T19:41:16.962Z"
   },
   {
    "duration": 7,
    "start_time": "2022-08-15T19:41:20.733Z"
   },
   {
    "duration": 3,
    "start_time": "2022-08-15T19:53:11.000Z"
   },
   {
    "duration": 124,
    "start_time": "2022-08-15T19:53:11.067Z"
   },
   {
    "duration": 8,
    "start_time": "2022-08-15T19:53:11.234Z"
   },
   {
    "duration": 10,
    "start_time": "2022-08-15T19:53:11.319Z"
   },
   {
    "duration": 5,
    "start_time": "2022-08-15T19:53:11.487Z"
   },
   {
    "duration": 7,
    "start_time": "2022-08-15T19:53:11.568Z"
   },
   {
    "duration": 10,
    "start_time": "2022-08-15T19:53:11.734Z"
   },
   {
    "duration": 9,
    "start_time": "2022-08-15T19:53:11.817Z"
   },
   {
    "duration": 9,
    "start_time": "2022-08-15T19:53:12.067Z"
   },
   {
    "duration": 9,
    "start_time": "2022-08-15T19:53:12.155Z"
   },
   {
    "duration": 3,
    "start_time": "2022-08-15T19:53:12.316Z"
   },
   {
    "duration": 157,
    "start_time": "2022-08-15T19:53:12.485Z"
   },
   {
    "duration": 38,
    "start_time": "2022-08-15T19:53:12.903Z"
   },
   {
    "duration": 10,
    "start_time": "2022-08-15T19:53:13.067Z"
   },
   {
    "duration": 4,
    "start_time": "2022-08-15T19:53:13.156Z"
   },
   {
    "duration": 5,
    "start_time": "2022-08-15T19:53:13.234Z"
   },
   {
    "duration": 9,
    "start_time": "2022-08-15T19:53:13.318Z"
   },
   {
    "duration": 10,
    "start_time": "2022-08-15T19:53:14.239Z"
   },
   {
    "duration": 11,
    "start_time": "2022-08-15T19:53:14.459Z"
   },
   {
    "duration": 7,
    "start_time": "2022-08-15T19:53:15.211Z"
   },
   {
    "duration": 1273,
    "start_time": "2022-08-16T17:18:04.085Z"
   },
   {
    "duration": 123,
    "start_time": "2022-08-16T17:18:05.360Z"
   },
   {
    "duration": 12,
    "start_time": "2022-08-16T17:18:05.484Z"
   },
   {
    "duration": 15,
    "start_time": "2022-08-16T17:18:05.498Z"
   },
   {
    "duration": 21,
    "start_time": "2022-08-16T17:18:05.515Z"
   },
   {
    "duration": 15,
    "start_time": "2022-08-16T17:18:05.537Z"
   },
   {
    "duration": 42,
    "start_time": "2022-08-16T17:18:05.553Z"
   },
   {
    "duration": 35,
    "start_time": "2022-08-16T17:18:05.597Z"
   },
   {
    "duration": 18,
    "start_time": "2022-08-16T17:18:05.634Z"
   },
   {
    "duration": 43,
    "start_time": "2022-08-16T17:18:05.654Z"
   },
   {
    "duration": 18,
    "start_time": "2022-08-16T17:18:05.699Z"
   },
   {
    "duration": 169,
    "start_time": "2022-08-16T17:18:05.719Z"
   },
   {
    "duration": 69,
    "start_time": "2022-08-16T17:18:05.890Z"
   },
   {
    "duration": 10,
    "start_time": "2022-08-16T17:18:05.961Z"
   },
   {
    "duration": 8,
    "start_time": "2022-08-16T17:18:05.972Z"
   },
   {
    "duration": 9,
    "start_time": "2022-08-16T17:18:05.982Z"
   },
   {
    "duration": 13,
    "start_time": "2022-08-16T17:18:05.992Z"
   },
   {
    "duration": 10,
    "start_time": "2022-08-16T17:18:06.007Z"
   },
   {
    "duration": 12,
    "start_time": "2022-08-16T17:18:06.018Z"
   },
   {
    "duration": 7,
    "start_time": "2022-08-16T17:18:06.057Z"
   },
   {
    "duration": 86,
    "start_time": "2022-08-17T18:14:07.954Z"
   },
   {
    "duration": 91,
    "start_time": "2022-08-17T18:19:16.915Z"
   },
   {
    "duration": 1655,
    "start_time": "2022-08-17T18:19:22.970Z"
   },
   {
    "duration": 181,
    "start_time": "2022-08-17T18:19:24.628Z"
   },
   {
    "duration": 19,
    "start_time": "2022-08-17T18:19:24.814Z"
   },
   {
    "duration": 64,
    "start_time": "2022-08-17T18:19:24.840Z"
   },
   {
    "duration": 68,
    "start_time": "2022-08-17T18:19:24.912Z"
   },
   {
    "duration": 85,
    "start_time": "2022-08-17T18:19:24.983Z"
   },
   {
    "duration": 64,
    "start_time": "2022-08-17T18:19:25.070Z"
   },
   {
    "duration": 110,
    "start_time": "2022-08-17T18:19:25.136Z"
   },
   {
    "duration": 33,
    "start_time": "2022-08-17T18:19:25.248Z"
   },
   {
    "duration": 100,
    "start_time": "2022-08-17T18:19:25.285Z"
   },
   {
    "duration": 78,
    "start_time": "2022-08-17T18:19:25.388Z"
   },
   {
    "duration": 4,
    "start_time": "2022-08-17T18:19:28.576Z"
   },
   {
    "duration": 76,
    "start_time": "2022-08-17T18:19:31.629Z"
   },
   {
    "duration": 220,
    "start_time": "2022-08-17T18:19:41.983Z"
   },
   {
    "duration": 8,
    "start_time": "2022-08-17T18:19:57.634Z"
   },
   {
    "duration": 247,
    "start_time": "2022-08-17T18:19:58.932Z"
   },
   {
    "duration": 12,
    "start_time": "2022-08-17T18:24:56.711Z"
   },
   {
    "duration": 5,
    "start_time": "2022-08-17T18:25:04.121Z"
   },
   {
    "duration": 180,
    "start_time": "2022-08-17T18:25:07.619Z"
   },
   {
    "duration": 4,
    "start_time": "2022-08-17T18:25:44.816Z"
   },
   {
    "duration": 157,
    "start_time": "2022-08-17T18:25:46.822Z"
   },
   {
    "duration": 5,
    "start_time": "2022-08-17T18:25:57.216Z"
   },
   {
    "duration": 181,
    "start_time": "2022-08-17T18:25:58.535Z"
   },
   {
    "duration": 9,
    "start_time": "2022-08-17T18:26:15.220Z"
   },
   {
    "duration": 167,
    "start_time": "2022-08-17T18:26:35.660Z"
   },
   {
    "duration": 8,
    "start_time": "2022-08-17T18:26:55.923Z"
   },
   {
    "duration": 179,
    "start_time": "2022-08-17T18:27:00.011Z"
   },
   {
    "duration": 165,
    "start_time": "2022-08-17T18:27:09.115Z"
   },
   {
    "duration": 8,
    "start_time": "2022-08-17T18:27:12.419Z"
   },
   {
    "duration": 183,
    "start_time": "2022-08-17T18:27:13.652Z"
   },
   {
    "duration": 8,
    "start_time": "2022-08-17T18:29:07.215Z"
   },
   {
    "duration": 244,
    "start_time": "2022-08-17T18:29:31.517Z"
   },
   {
    "duration": 8,
    "start_time": "2022-08-17T18:34:04.239Z"
   },
   {
    "duration": 12,
    "start_time": "2022-08-17T18:56:07.214Z"
   },
   {
    "duration": 53,
    "start_time": "2022-08-17T23:22:08.088Z"
   },
   {
    "duration": 1271,
    "start_time": "2022-08-17T23:22:14.733Z"
   },
   {
    "duration": 138,
    "start_time": "2022-08-17T23:22:16.006Z"
   },
   {
    "duration": 15,
    "start_time": "2022-08-17T23:22:16.145Z"
   },
   {
    "duration": 34,
    "start_time": "2022-08-17T23:22:16.162Z"
   },
   {
    "duration": 19,
    "start_time": "2022-08-17T23:22:16.198Z"
   },
   {
    "duration": 34,
    "start_time": "2022-08-17T23:22:16.219Z"
   },
   {
    "duration": 42,
    "start_time": "2022-08-17T23:22:16.254Z"
   },
   {
    "duration": 12,
    "start_time": "2022-08-17T23:22:16.297Z"
   },
   {
    "duration": 14,
    "start_time": "2022-08-17T23:22:16.312Z"
   },
   {
    "duration": 14,
    "start_time": "2022-08-17T23:22:16.328Z"
   },
   {
    "duration": 12,
    "start_time": "2022-08-17T23:22:16.344Z"
   },
   {
    "duration": 203,
    "start_time": "2022-08-17T23:22:20.947Z"
   },
   {
    "duration": 62,
    "start_time": "2022-08-17T23:22:55.471Z"
   },
   {
    "duration": 3,
    "start_time": "2022-08-17T23:23:00.985Z"
   },
   {
    "duration": 56,
    "start_time": "2022-08-17T23:23:00.991Z"
   },
   {
    "duration": 9,
    "start_time": "2022-08-17T23:23:01.049Z"
   },
   {
    "duration": 31,
    "start_time": "2022-08-17T23:23:01.059Z"
   },
   {
    "duration": 14,
    "start_time": "2022-08-17T23:23:01.092Z"
   },
   {
    "duration": 17,
    "start_time": "2022-08-17T23:23:01.109Z"
   },
   {
    "duration": 25,
    "start_time": "2022-08-17T23:23:01.127Z"
   },
   {
    "duration": 29,
    "start_time": "2022-08-17T23:23:01.154Z"
   },
   {
    "duration": 27,
    "start_time": "2022-08-17T23:23:01.185Z"
   },
   {
    "duration": 19,
    "start_time": "2022-08-17T23:23:01.214Z"
   },
   {
    "duration": 17,
    "start_time": "2022-08-17T23:23:01.234Z"
   },
   {
    "duration": 194,
    "start_time": "2022-08-17T23:23:01.253Z"
   },
   {
    "duration": 9,
    "start_time": "2022-08-17T23:23:01.449Z"
   },
   {
    "duration": 205,
    "start_time": "2022-08-17T23:23:05.505Z"
   },
   {
    "duration": 9,
    "start_time": "2022-08-17T23:41:49.930Z"
   },
   {
    "duration": 3,
    "start_time": "2022-08-17T23:41:55.190Z"
   },
   {
    "duration": 56,
    "start_time": "2022-08-17T23:41:55.195Z"
   },
   {
    "duration": 10,
    "start_time": "2022-08-17T23:41:55.253Z"
   },
   {
    "duration": 11,
    "start_time": "2022-08-17T23:41:55.265Z"
   },
   {
    "duration": 8,
    "start_time": "2022-08-17T23:41:55.278Z"
   },
   {
    "duration": 8,
    "start_time": "2022-08-17T23:41:55.288Z"
   },
   {
    "duration": 22,
    "start_time": "2022-08-17T23:41:55.298Z"
   },
   {
    "duration": 13,
    "start_time": "2022-08-17T23:41:55.322Z"
   },
   {
    "duration": 12,
    "start_time": "2022-08-17T23:41:55.337Z"
   },
   {
    "duration": 12,
    "start_time": "2022-08-17T23:41:55.351Z"
   },
   {
    "duration": 14,
    "start_time": "2022-08-17T23:41:55.365Z"
   },
   {
    "duration": 185,
    "start_time": "2022-08-17T23:41:55.380Z"
   },
   {
    "duration": 8,
    "start_time": "2022-08-17T23:41:55.567Z"
   },
   {
    "duration": 223,
    "start_time": "2022-08-17T23:41:55.577Z"
   },
   {
    "duration": 77,
    "start_time": "2022-08-17T23:41:55.802Z"
   },
   {
    "duration": 13,
    "start_time": "2022-08-17T23:41:55.880Z"
   },
   {
    "duration": 6,
    "start_time": "2022-08-17T23:41:55.895Z"
   },
   {
    "duration": 7,
    "start_time": "2022-08-17T23:41:55.903Z"
   },
   {
    "duration": 13,
    "start_time": "2022-08-17T23:41:55.912Z"
   },
   {
    "duration": 12,
    "start_time": "2022-08-17T23:41:55.927Z"
   },
   {
    "duration": 14,
    "start_time": "2022-08-17T23:41:55.941Z"
   },
   {
    "duration": 8,
    "start_time": "2022-08-17T23:41:58.497Z"
   },
   {
    "duration": 7,
    "start_time": "2022-08-17T23:43:22.912Z"
   },
   {
    "duration": 8,
    "start_time": "2022-08-17T23:44:54.640Z"
   },
   {
    "duration": 7,
    "start_time": "2022-08-18T00:05:34.427Z"
   },
   {
    "duration": 48,
    "start_time": "2022-08-18T00:09:03.305Z"
   },
   {
    "duration": 1472,
    "start_time": "2022-08-18T09:32:01.999Z"
   },
   {
    "duration": 123,
    "start_time": "2022-08-18T09:32:03.474Z"
   },
   {
    "duration": 14,
    "start_time": "2022-08-18T09:32:03.599Z"
   },
   {
    "duration": 16,
    "start_time": "2022-08-18T09:32:03.616Z"
   },
   {
    "duration": 23,
    "start_time": "2022-08-18T09:32:03.634Z"
   },
   {
    "duration": 11,
    "start_time": "2022-08-18T09:32:03.659Z"
   },
   {
    "duration": 27,
    "start_time": "2022-08-18T09:32:03.672Z"
   },
   {
    "duration": 15,
    "start_time": "2022-08-18T09:32:03.701Z"
   },
   {
    "duration": 29,
    "start_time": "2022-08-18T09:32:03.719Z"
   },
   {
    "duration": 19,
    "start_time": "2022-08-18T09:32:03.751Z"
   },
   {
    "duration": 21,
    "start_time": "2022-08-18T09:32:03.772Z"
   },
   {
    "duration": 228,
    "start_time": "2022-08-18T09:32:03.796Z"
   },
   {
    "duration": 10,
    "start_time": "2022-08-18T09:32:04.026Z"
   },
   {
    "duration": 232,
    "start_time": "2022-08-18T09:32:04.038Z"
   },
   {
    "duration": 69,
    "start_time": "2022-08-18T09:32:04.272Z"
   },
   {
    "duration": 12,
    "start_time": "2022-08-18T09:32:04.345Z"
   },
   {
    "duration": 15,
    "start_time": "2022-08-18T09:32:04.359Z"
   },
   {
    "duration": 13,
    "start_time": "2022-08-18T09:32:04.377Z"
   },
   {
    "duration": 17,
    "start_time": "2022-08-18T09:32:04.393Z"
   },
   {
    "duration": 54,
    "start_time": "2022-08-18T09:32:04.412Z"
   },
   {
    "duration": 25,
    "start_time": "2022-08-18T09:32:04.468Z"
   },
   {
    "duration": 15,
    "start_time": "2022-08-18T09:32:04.495Z"
   }
  ],
  "kernelspec": {
   "display_name": "Python 3 (ipykernel)",
   "language": "python",
   "name": "python3"
  },
  "language_info": {
   "codemirror_mode": {
    "name": "ipython",
    "version": 3
   },
   "file_extension": ".py",
   "mimetype": "text/x-python",
   "name": "python",
   "nbconvert_exporter": "python",
   "pygments_lexer": "ipython3",
   "version": "3.9.5"
  },
  "toc": {
   "base_numbering": 1,
   "nav_menu": {},
   "number_sections": false,
   "sideBar": true,
   "skip_h1_title": true,
   "title_cell": "Table of Contents",
   "title_sidebar": "Contents",
   "toc_cell": false,
   "toc_position": {
    "height": "calc(100% - 180px)",
    "left": "10px",
    "top": "150px",
    "width": "165px"
   },
   "toc_section_display": true,
   "toc_window_display": true
  }
 },
 "nbformat": 4,
 "nbformat_minor": 2
}
